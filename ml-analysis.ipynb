{
 "cells": [
  {
   "cell_type": "markdown",
   "metadata": {},
   "source": [
    "# Predicting Power Outage Durations"
   ]
  },
  {
   "cell_type": "markdown",
   "metadata": {},
   "source": [
    "## Code"
   ]
  },
  {
   "cell_type": "code",
   "execution_count": 1,
   "metadata": {
    "ExecuteTime": {
     "end_time": "2019-10-31T23:36:28.652554Z",
     "start_time": "2019-10-31T23:36:27.180520Z"
    }
   },
   "outputs": [],
   "source": [
    "import pandas as pd\n",
    "import numpy as np\n",
    "import os\n",
    "\n",
    "from sklearn.linear_model import LinearRegression\n",
    "from sklearn.preprocessing import FunctionTransformer\n",
    "from sklearn.preprocessing import OneHotEncoder\n",
    "from sklearn.pipeline import Pipeline\n",
    "from sklearn.compose import ColumnTransformer\n",
    "from sklearn.model_selection import train_test_split\n",
    "\n",
    "import plotly.express as px\n",
    "pd.options.plotting.backend = 'plotly'"
   ]
  },
  {
   "cell_type": "markdown",
   "metadata": {},
   "source": [
    "### Framing the Problem"
   ]
  },
  {
   "cell_type": "markdown",
   "metadata": {
    "ExecuteTime": {
     "end_time": "2019-10-31T23:36:28.657068Z",
     "start_time": "2019-10-31T23:36:28.654650Z"
    }
   },
   "source": [
    "Major power outages can have detrimental effects on public safety, infrastructure, and the economy. Therefore, predicting power outage severity is crucial for proactive planning and resource allocation. It enables utilities and emergency services to allocate resources efficiently and mitigate potential damages, ultimately reducing the impact on the community. We seek to anticipate power outage severity by predicting outage durations, since longer power outages tend to be more negatively influential. Given that a power outage just occurred, we want to know how long the outage will last depending on the cause of the power outage, as well as population metrics, cost metrics, season, geography, and time. We will be implementing a k-Nearest Neighbors (k-NN) regressor that incorporates these variables to predict outage duration. In order to evaluate our model for its accuracy, we plan to use RMSE and R-squared as our metrics. We hope to minimize RMSE while maximizing R-squared."
   ]
  },
  {
   "cell_type": "markdown",
   "metadata": {},
   "source": [
    "#### Cleaning and EDA"
   ]
  },
  {
   "cell_type": "markdown",
   "metadata": {},
   "source": [
    "First, let's take a look at our dataset:"
   ]
  },
  {
   "cell_type": "code",
   "execution_count": 261,
   "metadata": {},
   "outputs": [
    {
     "data": {
      "text/html": [
       "<div>\n",
       "<style scoped>\n",
       "    .dataframe tbody tr th:only-of-type {\n",
       "        vertical-align: middle;\n",
       "    }\n",
       "\n",
       "    .dataframe tbody tr th {\n",
       "        vertical-align: top;\n",
       "    }\n",
       "\n",
       "    .dataframe thead th {\n",
       "        text-align: right;\n",
       "    }\n",
       "</style>\n",
       "<table border=\"1\" class=\"dataframe\">\n",
       "  <thead>\n",
       "    <tr style=\"text-align: right;\">\n",
       "      <th></th>\n",
       "      <th>variables</th>\n",
       "      <th>OBS</th>\n",
       "      <th>YEAR</th>\n",
       "      <th>MONTH</th>\n",
       "      <th>U.S._STATE</th>\n",
       "      <th>POSTAL.CODE</th>\n",
       "      <th>NERC.REGION</th>\n",
       "      <th>CLIMATE.REGION</th>\n",
       "      <th>ANOMALY.LEVEL</th>\n",
       "      <th>CLIMATE.CATEGORY</th>\n",
       "      <th>...</th>\n",
       "      <th>POPPCT_URBAN</th>\n",
       "      <th>POPPCT_UC</th>\n",
       "      <th>POPDEN_URBAN</th>\n",
       "      <th>POPDEN_UC</th>\n",
       "      <th>POPDEN_RURAL</th>\n",
       "      <th>AREAPCT_URBAN</th>\n",
       "      <th>AREAPCT_UC</th>\n",
       "      <th>PCT_LAND</th>\n",
       "      <th>PCT_WATER_TOT</th>\n",
       "      <th>PCT_WATER_INLAND</th>\n",
       "    </tr>\n",
       "  </thead>\n",
       "  <tbody>\n",
       "    <tr>\n",
       "      <th>0</th>\n",
       "      <td>Units</td>\n",
       "      <td>NaN</td>\n",
       "      <td>NaN</td>\n",
       "      <td>NaN</td>\n",
       "      <td>NaN</td>\n",
       "      <td>NaN</td>\n",
       "      <td>NaN</td>\n",
       "      <td>NaN</td>\n",
       "      <td>numeric</td>\n",
       "      <td>NaN</td>\n",
       "      <td>...</td>\n",
       "      <td>%</td>\n",
       "      <td>%</td>\n",
       "      <td>persons per square mile</td>\n",
       "      <td>persons per square mile</td>\n",
       "      <td>persons per square mile</td>\n",
       "      <td>%</td>\n",
       "      <td>%</td>\n",
       "      <td>%</td>\n",
       "      <td>%</td>\n",
       "      <td>%</td>\n",
       "    </tr>\n",
       "    <tr>\n",
       "      <th>1</th>\n",
       "      <td>NaN</td>\n",
       "      <td>1.0</td>\n",
       "      <td>2011.0</td>\n",
       "      <td>7.0</td>\n",
       "      <td>Minnesota</td>\n",
       "      <td>MN</td>\n",
       "      <td>MRO</td>\n",
       "      <td>East North Central</td>\n",
       "      <td>-0.3</td>\n",
       "      <td>normal</td>\n",
       "      <td>...</td>\n",
       "      <td>73.27</td>\n",
       "      <td>15.28</td>\n",
       "      <td>2279</td>\n",
       "      <td>1700.5</td>\n",
       "      <td>18.2</td>\n",
       "      <td>2.14</td>\n",
       "      <td>0.6</td>\n",
       "      <td>91.592666</td>\n",
       "      <td>8.407334</td>\n",
       "      <td>5.478743</td>\n",
       "    </tr>\n",
       "    <tr>\n",
       "      <th>2</th>\n",
       "      <td>NaN</td>\n",
       "      <td>2.0</td>\n",
       "      <td>2014.0</td>\n",
       "      <td>5.0</td>\n",
       "      <td>Minnesota</td>\n",
       "      <td>MN</td>\n",
       "      <td>MRO</td>\n",
       "      <td>East North Central</td>\n",
       "      <td>-0.1</td>\n",
       "      <td>normal</td>\n",
       "      <td>...</td>\n",
       "      <td>73.27</td>\n",
       "      <td>15.28</td>\n",
       "      <td>2279</td>\n",
       "      <td>1700.5</td>\n",
       "      <td>18.2</td>\n",
       "      <td>2.14</td>\n",
       "      <td>0.6</td>\n",
       "      <td>91.592666</td>\n",
       "      <td>8.407334</td>\n",
       "      <td>5.478743</td>\n",
       "    </tr>\n",
       "    <tr>\n",
       "      <th>3</th>\n",
       "      <td>NaN</td>\n",
       "      <td>3.0</td>\n",
       "      <td>2010.0</td>\n",
       "      <td>10.0</td>\n",
       "      <td>Minnesota</td>\n",
       "      <td>MN</td>\n",
       "      <td>MRO</td>\n",
       "      <td>East North Central</td>\n",
       "      <td>-1.5</td>\n",
       "      <td>cold</td>\n",
       "      <td>...</td>\n",
       "      <td>73.27</td>\n",
       "      <td>15.28</td>\n",
       "      <td>2279</td>\n",
       "      <td>1700.5</td>\n",
       "      <td>18.2</td>\n",
       "      <td>2.14</td>\n",
       "      <td>0.6</td>\n",
       "      <td>91.592666</td>\n",
       "      <td>8.407334</td>\n",
       "      <td>5.478743</td>\n",
       "    </tr>\n",
       "    <tr>\n",
       "      <th>4</th>\n",
       "      <td>NaN</td>\n",
       "      <td>4.0</td>\n",
       "      <td>2012.0</td>\n",
       "      <td>6.0</td>\n",
       "      <td>Minnesota</td>\n",
       "      <td>MN</td>\n",
       "      <td>MRO</td>\n",
       "      <td>East North Central</td>\n",
       "      <td>-0.1</td>\n",
       "      <td>normal</td>\n",
       "      <td>...</td>\n",
       "      <td>73.27</td>\n",
       "      <td>15.28</td>\n",
       "      <td>2279</td>\n",
       "      <td>1700.5</td>\n",
       "      <td>18.2</td>\n",
       "      <td>2.14</td>\n",
       "      <td>0.6</td>\n",
       "      <td>91.592666</td>\n",
       "      <td>8.407334</td>\n",
       "      <td>5.478743</td>\n",
       "    </tr>\n",
       "  </tbody>\n",
       "</table>\n",
       "<p>5 rows × 57 columns</p>\n",
       "</div>"
      ],
      "text/plain": [
       "  variables  OBS    YEAR  MONTH U.S._STATE POSTAL.CODE NERC.REGION  \\\n",
       "0     Units  NaN     NaN    NaN        NaN         NaN         NaN   \n",
       "1       NaN  1.0  2011.0    7.0  Minnesota          MN         MRO   \n",
       "2       NaN  2.0  2014.0    5.0  Minnesota          MN         MRO   \n",
       "3       NaN  3.0  2010.0   10.0  Minnesota          MN         MRO   \n",
       "4       NaN  4.0  2012.0    6.0  Minnesota          MN         MRO   \n",
       "\n",
       "       CLIMATE.REGION ANOMALY.LEVEL CLIMATE.CATEGORY  ... POPPCT_URBAN  \\\n",
       "0                 NaN       numeric              NaN  ...            %   \n",
       "1  East North Central          -0.3           normal  ...        73.27   \n",
       "2  East North Central          -0.1           normal  ...        73.27   \n",
       "3  East North Central          -1.5             cold  ...        73.27   \n",
       "4  East North Central          -0.1           normal  ...        73.27   \n",
       "\n",
       "  POPPCT_UC             POPDEN_URBAN                POPDEN_UC  \\\n",
       "0         %  persons per square mile  persons per square mile   \n",
       "1     15.28                     2279                   1700.5   \n",
       "2     15.28                     2279                   1700.5   \n",
       "3     15.28                     2279                   1700.5   \n",
       "4     15.28                     2279                   1700.5   \n",
       "\n",
       "              POPDEN_RURAL AREAPCT_URBAN AREAPCT_UC   PCT_LAND PCT_WATER_TOT  \\\n",
       "0  persons per square mile             %          %          %             %   \n",
       "1                     18.2          2.14        0.6  91.592666      8.407334   \n",
       "2                     18.2          2.14        0.6  91.592666      8.407334   \n",
       "3                     18.2          2.14        0.6  91.592666      8.407334   \n",
       "4                     18.2          2.14        0.6  91.592666      8.407334   \n",
       "\n",
       "   PCT_WATER_INLAND  \n",
       "0                 %  \n",
       "1          5.478743  \n",
       "2          5.478743  \n",
       "3          5.478743  \n",
       "4          5.478743  \n",
       "\n",
       "[5 rows x 57 columns]"
      ]
     },
     "execution_count": 261,
     "metadata": {},
     "output_type": "execute_result"
    }
   ],
   "source": [
    "outages = pd.read_excel(\"outage.xlsx\")\n",
    "outages.head()"
   ]
  },
  {
   "cell_type": "markdown",
   "metadata": {},
   "source": [
    "At first glance, we can see that the first two columns and the first row of the dataset include many NaN values. This is because the variable column denotes the units used for each measure in the following columns, as described in the first row. We will remove these since we already have information about the units of each variable."
   ]
  },
  {
   "cell_type": "code",
   "execution_count": 262,
   "metadata": {},
   "outputs": [],
   "source": [
    "# drop the first row\n",
    "outages = outages.drop(0)\n",
    "outages = outages.reset_index(drop=True)\n",
    "# drop first two columns\n",
    "outages = outages.drop(columns=['variables', \"OBS\"])"
   ]
  },
  {
   "cell_type": "markdown",
   "metadata": {},
   "source": [
    "We also want to combine the OUTAGE.START.TIME and OUTAGE.START.DATE columns into one variable called OUTAGE.START. We will do so using some helper functions."
   ]
  },
  {
   "cell_type": "code",
   "execution_count": 263,
   "metadata": {},
   "outputs": [],
   "source": [
    "# convert columns to string, obtain the relevant information, combine the two strings (taking into \n",
    "# account the null values), and convert string to a datetime object\n",
    "def combine_times(df, col1, col2):\n",
    "    combine = df[col1].astype(str).str[:11] + df[col2].astype(str)\n",
    "    return pd.to_datetime(combine.apply(lambda x: np.nan if x == 'nannan' else x), format='%Y-%m-%d %H:%M:%S')"
   ]
  },
  {
   "cell_type": "code",
   "execution_count": 264,
   "metadata": {},
   "outputs": [],
   "source": [
    "outages = outages.assign(**{'OUTAGE.START':combine_times(outages, \"OUTAGE.START.DATE\", \"OUTAGE.START.TIME\")})"
   ]
  },
  {
   "cell_type": "markdown",
   "metadata": {},
   "source": [
    "Since we are only interested in predicting outage durations based on population, cost, geography, time, and causes of the power outage, we will only keep the appropriate columns. The columns we wanted to focus on are OUTAGE.DURATION, YEAR, MONTH, U.S.STATE, CAUSE.CATEGORY, and, for now, all of the quantitative variables in the dataset that represent population and cost metrics. "
   ]
  },
  {
   "cell_type": "code",
   "execution_count": 265,
   "metadata": {},
   "outputs": [],
   "source": [
    "outages = outages.drop(columns=outages.columns[3:4])\n",
    "outages = outages.drop(columns=[\"CAUSE.CATEGORY.DETAIL\", \"HURRICANE.NAMES\", \"DEMAND.LOSS.MW\", \n",
    "                                \"CUSTOMERS.AFFECTED\", \"NERC.REGION\", \"CLIMATE.REGION\", \n",
    "                                \"CLIMATE.CATEGORY\", \"OUTAGE.START.DATE\", \"OUTAGE.START.TIME\", \n",
    "                               \"OUTAGE.RESTORATION.DATE\", \"OUTAGE.RESTORATION.TIME\"])"
   ]
  },
  {
   "cell_type": "markdown",
   "metadata": {},
   "source": [
    "Now let's take a look at our sub-dataset. Do we need to do any additional data cleaning?"
   ]
  },
  {
   "cell_type": "code",
   "execution_count": 266,
   "metadata": {},
   "outputs": [
    {
     "data": {
      "text/html": [
       "<div>\n",
       "<style scoped>\n",
       "    .dataframe tbody tr th:only-of-type {\n",
       "        vertical-align: middle;\n",
       "    }\n",
       "\n",
       "    .dataframe tbody tr th {\n",
       "        vertical-align: top;\n",
       "    }\n",
       "\n",
       "    .dataframe thead th {\n",
       "        text-align: right;\n",
       "    }\n",
       "</style>\n",
       "<table border=\"1\" class=\"dataframe\">\n",
       "  <thead>\n",
       "    <tr style=\"text-align: right;\">\n",
       "      <th></th>\n",
       "      <th>YEAR</th>\n",
       "      <th>MONTH</th>\n",
       "      <th>U.S._STATE</th>\n",
       "      <th>ANOMALY.LEVEL</th>\n",
       "      <th>CAUSE.CATEGORY</th>\n",
       "      <th>OUTAGE.DURATION</th>\n",
       "      <th>RES.PRICE</th>\n",
       "      <th>COM.PRICE</th>\n",
       "      <th>IND.PRICE</th>\n",
       "      <th>TOTAL.PRICE</th>\n",
       "      <th>...</th>\n",
       "      <th>POPPCT_UC</th>\n",
       "      <th>POPDEN_URBAN</th>\n",
       "      <th>POPDEN_UC</th>\n",
       "      <th>POPDEN_RURAL</th>\n",
       "      <th>AREAPCT_URBAN</th>\n",
       "      <th>AREAPCT_UC</th>\n",
       "      <th>PCT_LAND</th>\n",
       "      <th>PCT_WATER_TOT</th>\n",
       "      <th>PCT_WATER_INLAND</th>\n",
       "      <th>OUTAGE.START</th>\n",
       "    </tr>\n",
       "  </thead>\n",
       "  <tbody>\n",
       "    <tr>\n",
       "      <th>0</th>\n",
       "      <td>2011.0</td>\n",
       "      <td>7.0</td>\n",
       "      <td>Minnesota</td>\n",
       "      <td>-0.3</td>\n",
       "      <td>severe weather</td>\n",
       "      <td>3060</td>\n",
       "      <td>11.6</td>\n",
       "      <td>9.18</td>\n",
       "      <td>6.81</td>\n",
       "      <td>9.28</td>\n",
       "      <td>...</td>\n",
       "      <td>15.28</td>\n",
       "      <td>2279</td>\n",
       "      <td>1700.5</td>\n",
       "      <td>18.2</td>\n",
       "      <td>2.14</td>\n",
       "      <td>0.6</td>\n",
       "      <td>91.592666</td>\n",
       "      <td>8.407334</td>\n",
       "      <td>5.478743</td>\n",
       "      <td>2011-07-01 17:00:00</td>\n",
       "    </tr>\n",
       "    <tr>\n",
       "      <th>1</th>\n",
       "      <td>2014.0</td>\n",
       "      <td>5.0</td>\n",
       "      <td>Minnesota</td>\n",
       "      <td>-0.1</td>\n",
       "      <td>intentional attack</td>\n",
       "      <td>1</td>\n",
       "      <td>12.12</td>\n",
       "      <td>9.71</td>\n",
       "      <td>6.49</td>\n",
       "      <td>9.28</td>\n",
       "      <td>...</td>\n",
       "      <td>15.28</td>\n",
       "      <td>2279</td>\n",
       "      <td>1700.5</td>\n",
       "      <td>18.2</td>\n",
       "      <td>2.14</td>\n",
       "      <td>0.6</td>\n",
       "      <td>91.592666</td>\n",
       "      <td>8.407334</td>\n",
       "      <td>5.478743</td>\n",
       "      <td>2014-05-11 18:38:00</td>\n",
       "    </tr>\n",
       "    <tr>\n",
       "      <th>2</th>\n",
       "      <td>2010.0</td>\n",
       "      <td>10.0</td>\n",
       "      <td>Minnesota</td>\n",
       "      <td>-1.5</td>\n",
       "      <td>severe weather</td>\n",
       "      <td>3000</td>\n",
       "      <td>10.87</td>\n",
       "      <td>8.19</td>\n",
       "      <td>6.07</td>\n",
       "      <td>8.15</td>\n",
       "      <td>...</td>\n",
       "      <td>15.28</td>\n",
       "      <td>2279</td>\n",
       "      <td>1700.5</td>\n",
       "      <td>18.2</td>\n",
       "      <td>2.14</td>\n",
       "      <td>0.6</td>\n",
       "      <td>91.592666</td>\n",
       "      <td>8.407334</td>\n",
       "      <td>5.478743</td>\n",
       "      <td>2010-10-26 20:00:00</td>\n",
       "    </tr>\n",
       "    <tr>\n",
       "      <th>3</th>\n",
       "      <td>2012.0</td>\n",
       "      <td>6.0</td>\n",
       "      <td>Minnesota</td>\n",
       "      <td>-0.1</td>\n",
       "      <td>severe weather</td>\n",
       "      <td>2550</td>\n",
       "      <td>11.79</td>\n",
       "      <td>9.25</td>\n",
       "      <td>6.71</td>\n",
       "      <td>9.19</td>\n",
       "      <td>...</td>\n",
       "      <td>15.28</td>\n",
       "      <td>2279</td>\n",
       "      <td>1700.5</td>\n",
       "      <td>18.2</td>\n",
       "      <td>2.14</td>\n",
       "      <td>0.6</td>\n",
       "      <td>91.592666</td>\n",
       "      <td>8.407334</td>\n",
       "      <td>5.478743</td>\n",
       "      <td>2012-06-19 04:30:00</td>\n",
       "    </tr>\n",
       "    <tr>\n",
       "      <th>4</th>\n",
       "      <td>2015.0</td>\n",
       "      <td>7.0</td>\n",
       "      <td>Minnesota</td>\n",
       "      <td>1.2</td>\n",
       "      <td>severe weather</td>\n",
       "      <td>1740</td>\n",
       "      <td>13.07</td>\n",
       "      <td>10.16</td>\n",
       "      <td>7.74</td>\n",
       "      <td>10.43</td>\n",
       "      <td>...</td>\n",
       "      <td>15.28</td>\n",
       "      <td>2279</td>\n",
       "      <td>1700.5</td>\n",
       "      <td>18.2</td>\n",
       "      <td>2.14</td>\n",
       "      <td>0.6</td>\n",
       "      <td>91.592666</td>\n",
       "      <td>8.407334</td>\n",
       "      <td>5.478743</td>\n",
       "      <td>2015-07-18 02:00:00</td>\n",
       "    </tr>\n",
       "  </tbody>\n",
       "</table>\n",
       "<p>5 rows × 44 columns</p>\n",
       "</div>"
      ],
      "text/plain": [
       "     YEAR  MONTH U.S._STATE ANOMALY.LEVEL      CAUSE.CATEGORY OUTAGE.DURATION  \\\n",
       "0  2011.0    7.0  Minnesota          -0.3      severe weather            3060   \n",
       "1  2014.0    5.0  Minnesota          -0.1  intentional attack               1   \n",
       "2  2010.0   10.0  Minnesota          -1.5      severe weather            3000   \n",
       "3  2012.0    6.0  Minnesota          -0.1      severe weather            2550   \n",
       "4  2015.0    7.0  Minnesota           1.2      severe weather            1740   \n",
       "\n",
       "  RES.PRICE COM.PRICE IND.PRICE TOTAL.PRICE  ... POPPCT_UC POPDEN_URBAN  \\\n",
       "0      11.6      9.18      6.81        9.28  ...     15.28         2279   \n",
       "1     12.12      9.71      6.49        9.28  ...     15.28         2279   \n",
       "2     10.87      8.19      6.07        8.15  ...     15.28         2279   \n",
       "3     11.79      9.25      6.71        9.19  ...     15.28         2279   \n",
       "4     13.07     10.16      7.74       10.43  ...     15.28         2279   \n",
       "\n",
       "  POPDEN_UC POPDEN_RURAL AREAPCT_URBAN AREAPCT_UC   PCT_LAND  PCT_WATER_TOT  \\\n",
       "0    1700.5         18.2          2.14        0.6  91.592666       8.407334   \n",
       "1    1700.5         18.2          2.14        0.6  91.592666       8.407334   \n",
       "2    1700.5         18.2          2.14        0.6  91.592666       8.407334   \n",
       "3    1700.5         18.2          2.14        0.6  91.592666       8.407334   \n",
       "4    1700.5         18.2          2.14        0.6  91.592666       8.407334   \n",
       "\n",
       "   PCT_WATER_INLAND        OUTAGE.START  \n",
       "0          5.478743 2011-07-01 17:00:00  \n",
       "1          5.478743 2014-05-11 18:38:00  \n",
       "2          5.478743 2010-10-26 20:00:00  \n",
       "3          5.478743 2012-06-19 04:30:00  \n",
       "4          5.478743 2015-07-18 02:00:00  \n",
       "\n",
       "[5 rows x 44 columns]"
      ]
     },
     "execution_count": 266,
     "metadata": {},
     "output_type": "execute_result"
    }
   ],
   "source": [
    "outages.head()"
   ]
  },
  {
   "cell_type": "code",
   "execution_count": 267,
   "metadata": {},
   "outputs": [
    {
     "data": {
      "text/plain": [
       "YEAR                        float64\n",
       "MONTH                       float64\n",
       "U.S._STATE                   object\n",
       "ANOMALY.LEVEL                object\n",
       "CAUSE.CATEGORY               object\n",
       "OUTAGE.DURATION              object\n",
       "RES.PRICE                    object\n",
       "COM.PRICE                    object\n",
       "IND.PRICE                    object\n",
       "TOTAL.PRICE                  object\n",
       "RES.SALES                    object\n",
       "COM.SALES                    object\n",
       "IND.SALES                    object\n",
       "TOTAL.SALES                  object\n",
       "RES.PERCEN                   object\n",
       "COM.PERCEN                   object\n",
       "IND.PERCEN                   object\n",
       "RES.CUSTOMERS               float64\n",
       "COM.CUSTOMERS               float64\n",
       "IND.CUSTOMERS               float64\n",
       "TOTAL.CUSTOMERS             float64\n",
       "RES.CUST.PCT                 object\n",
       "COM.CUST.PCT                 object\n",
       "IND.CUST.PCT                 object\n",
       "PC.REALGSP.STATE             object\n",
       "PC.REALGSP.USA               object\n",
       "PC.REALGSP.REL               object\n",
       "PC.REALGSP.CHANGE            object\n",
       "UTIL.REALGSP                 object\n",
       "TOTAL.REALGSP                object\n",
       "UTIL.CONTRI                  object\n",
       "PI.UTIL.OFUSA                object\n",
       "POPULATION                  float64\n",
       "POPPCT_URBAN                 object\n",
       "POPPCT_UC                    object\n",
       "POPDEN_URBAN                 object\n",
       "POPDEN_UC                    object\n",
       "POPDEN_RURAL                 object\n",
       "AREAPCT_URBAN                object\n",
       "AREAPCT_UC                   object\n",
       "PCT_LAND                     object\n",
       "PCT_WATER_TOT                object\n",
       "PCT_WATER_INLAND             object\n",
       "OUTAGE.START         datetime64[ns]\n",
       "dtype: object"
      ]
     },
     "execution_count": 267,
     "metadata": {},
     "output_type": "execute_result"
    }
   ],
   "source": [
    "outages.dtypes"
   ]
  },
  {
   "cell_type": "markdown",
   "metadata": {},
   "source": [
    "We need to convert all of the quantitative variables into float data types, as they are currently stored as object data types."
   ]
  },
  {
   "cell_type": "code",
   "execution_count": 268,
   "metadata": {},
   "outputs": [],
   "source": [
    "for i in outages.columns[5:-1]:\n",
    "    outages = outages.assign(**{i:outages[i].astype(float)})\n",
    "outages = outages.assign(**{'ANOMALY.LEVEL':outages['ANOMALY.LEVEL'].astype(float)})"
   ]
  },
  {
   "cell_type": "markdown",
   "metadata": {},
   "source": [
    "Great! Now we have a clean dataset we can work with to identify possible relationships between variables and thereafter predict outage duration using said variables."
   ]
  },
  {
   "cell_type": "code",
   "execution_count": 269,
   "metadata": {},
   "outputs": [
    {
     "data": {
      "text/plain": [
       "YEAR                        float64\n",
       "MONTH                       float64\n",
       "U.S._STATE                   object\n",
       "ANOMALY.LEVEL               float64\n",
       "CAUSE.CATEGORY               object\n",
       "OUTAGE.DURATION             float64\n",
       "RES.PRICE                   float64\n",
       "COM.PRICE                   float64\n",
       "IND.PRICE                   float64\n",
       "TOTAL.PRICE                 float64\n",
       "RES.SALES                   float64\n",
       "COM.SALES                   float64\n",
       "IND.SALES                   float64\n",
       "TOTAL.SALES                 float64\n",
       "RES.PERCEN                  float64\n",
       "COM.PERCEN                  float64\n",
       "IND.PERCEN                  float64\n",
       "RES.CUSTOMERS               float64\n",
       "COM.CUSTOMERS               float64\n",
       "IND.CUSTOMERS               float64\n",
       "TOTAL.CUSTOMERS             float64\n",
       "RES.CUST.PCT                float64\n",
       "COM.CUST.PCT                float64\n",
       "IND.CUST.PCT                float64\n",
       "PC.REALGSP.STATE            float64\n",
       "PC.REALGSP.USA              float64\n",
       "PC.REALGSP.REL              float64\n",
       "PC.REALGSP.CHANGE           float64\n",
       "UTIL.REALGSP                float64\n",
       "TOTAL.REALGSP               float64\n",
       "UTIL.CONTRI                 float64\n",
       "PI.UTIL.OFUSA               float64\n",
       "POPULATION                  float64\n",
       "POPPCT_URBAN                float64\n",
       "POPPCT_UC                   float64\n",
       "POPDEN_URBAN                float64\n",
       "POPDEN_UC                   float64\n",
       "POPDEN_RURAL                float64\n",
       "AREAPCT_URBAN               float64\n",
       "AREAPCT_UC                  float64\n",
       "PCT_LAND                    float64\n",
       "PCT_WATER_TOT               float64\n",
       "PCT_WATER_INLAND            float64\n",
       "OUTAGE.START         datetime64[ns]\n",
       "dtype: object"
      ]
     },
     "execution_count": 269,
     "metadata": {},
     "output_type": "execute_result"
    }
   ],
   "source": [
    "outages.dtypes"
   ]
  },
  {
   "cell_type": "markdown",
   "metadata": {},
   "source": [
    "But wait! We also saw that season significantly impacted outage duration times in our data exploration project on power outages. This may be a useful metric for our regression model later on, so we have created a helper function that takes in the month of the power outage and returns the season that the power outage occurred in. This was saved to a new column called SEASON."
   ]
  },
  {
   "cell_type": "code",
   "execution_count": 270,
   "metadata": {},
   "outputs": [],
   "source": [
    "def season(month):\n",
    "    if month in [12.0, 1.0, 2.0]:\n",
    "        return \"winter\"\n",
    "    elif month in [3.0, 4.0, 5.0]:\n",
    "        return \"spring\"\n",
    "    elif month in [6.0, 7.0, 8.0]:\n",
    "        return \"summer\"\n",
    "    elif month in [9.0, 10.0, 11.0]:\n",
    "        return \"fall\"\n",
    "    else:\n",
    "        return np.NaN"
   ]
  },
  {
   "cell_type": "code",
   "execution_count": 271,
   "metadata": {},
   "outputs": [
    {
     "data": {
      "text/html": [
       "<div>\n",
       "<style scoped>\n",
       "    .dataframe tbody tr th:only-of-type {\n",
       "        vertical-align: middle;\n",
       "    }\n",
       "\n",
       "    .dataframe tbody tr th {\n",
       "        vertical-align: top;\n",
       "    }\n",
       "\n",
       "    .dataframe thead th {\n",
       "        text-align: right;\n",
       "    }\n",
       "</style>\n",
       "<table border=\"1\" class=\"dataframe\">\n",
       "  <thead>\n",
       "    <tr style=\"text-align: right;\">\n",
       "      <th></th>\n",
       "      <th>YEAR</th>\n",
       "      <th>MONTH</th>\n",
       "      <th>U.S._STATE</th>\n",
       "      <th>ANOMALY.LEVEL</th>\n",
       "      <th>CAUSE.CATEGORY</th>\n",
       "      <th>OUTAGE.DURATION</th>\n",
       "      <th>RES.PRICE</th>\n",
       "      <th>COM.PRICE</th>\n",
       "      <th>IND.PRICE</th>\n",
       "      <th>TOTAL.PRICE</th>\n",
       "      <th>...</th>\n",
       "      <th>POPDEN_URBAN</th>\n",
       "      <th>POPDEN_UC</th>\n",
       "      <th>POPDEN_RURAL</th>\n",
       "      <th>AREAPCT_URBAN</th>\n",
       "      <th>AREAPCT_UC</th>\n",
       "      <th>PCT_LAND</th>\n",
       "      <th>PCT_WATER_TOT</th>\n",
       "      <th>PCT_WATER_INLAND</th>\n",
       "      <th>OUTAGE.START</th>\n",
       "      <th>SEASON</th>\n",
       "    </tr>\n",
       "  </thead>\n",
       "  <tbody>\n",
       "    <tr>\n",
       "      <th>0</th>\n",
       "      <td>2011.0</td>\n",
       "      <td>7.0</td>\n",
       "      <td>Minnesota</td>\n",
       "      <td>-0.3</td>\n",
       "      <td>severe weather</td>\n",
       "      <td>3060.0</td>\n",
       "      <td>11.60</td>\n",
       "      <td>9.18</td>\n",
       "      <td>6.81</td>\n",
       "      <td>9.28</td>\n",
       "      <td>...</td>\n",
       "      <td>2279.0</td>\n",
       "      <td>1700.5</td>\n",
       "      <td>18.2</td>\n",
       "      <td>2.14</td>\n",
       "      <td>0.6</td>\n",
       "      <td>91.592666</td>\n",
       "      <td>8.407334</td>\n",
       "      <td>5.478743</td>\n",
       "      <td>2011-07-01 17:00:00</td>\n",
       "      <td>summer</td>\n",
       "    </tr>\n",
       "    <tr>\n",
       "      <th>1</th>\n",
       "      <td>2014.0</td>\n",
       "      <td>5.0</td>\n",
       "      <td>Minnesota</td>\n",
       "      <td>-0.1</td>\n",
       "      <td>intentional attack</td>\n",
       "      <td>1.0</td>\n",
       "      <td>12.12</td>\n",
       "      <td>9.71</td>\n",
       "      <td>6.49</td>\n",
       "      <td>9.28</td>\n",
       "      <td>...</td>\n",
       "      <td>2279.0</td>\n",
       "      <td>1700.5</td>\n",
       "      <td>18.2</td>\n",
       "      <td>2.14</td>\n",
       "      <td>0.6</td>\n",
       "      <td>91.592666</td>\n",
       "      <td>8.407334</td>\n",
       "      <td>5.478743</td>\n",
       "      <td>2014-05-11 18:38:00</td>\n",
       "      <td>spring</td>\n",
       "    </tr>\n",
       "    <tr>\n",
       "      <th>2</th>\n",
       "      <td>2010.0</td>\n",
       "      <td>10.0</td>\n",
       "      <td>Minnesota</td>\n",
       "      <td>-1.5</td>\n",
       "      <td>severe weather</td>\n",
       "      <td>3000.0</td>\n",
       "      <td>10.87</td>\n",
       "      <td>8.19</td>\n",
       "      <td>6.07</td>\n",
       "      <td>8.15</td>\n",
       "      <td>...</td>\n",
       "      <td>2279.0</td>\n",
       "      <td>1700.5</td>\n",
       "      <td>18.2</td>\n",
       "      <td>2.14</td>\n",
       "      <td>0.6</td>\n",
       "      <td>91.592666</td>\n",
       "      <td>8.407334</td>\n",
       "      <td>5.478743</td>\n",
       "      <td>2010-10-26 20:00:00</td>\n",
       "      <td>fall</td>\n",
       "    </tr>\n",
       "    <tr>\n",
       "      <th>3</th>\n",
       "      <td>2012.0</td>\n",
       "      <td>6.0</td>\n",
       "      <td>Minnesota</td>\n",
       "      <td>-0.1</td>\n",
       "      <td>severe weather</td>\n",
       "      <td>2550.0</td>\n",
       "      <td>11.79</td>\n",
       "      <td>9.25</td>\n",
       "      <td>6.71</td>\n",
       "      <td>9.19</td>\n",
       "      <td>...</td>\n",
       "      <td>2279.0</td>\n",
       "      <td>1700.5</td>\n",
       "      <td>18.2</td>\n",
       "      <td>2.14</td>\n",
       "      <td>0.6</td>\n",
       "      <td>91.592666</td>\n",
       "      <td>8.407334</td>\n",
       "      <td>5.478743</td>\n",
       "      <td>2012-06-19 04:30:00</td>\n",
       "      <td>summer</td>\n",
       "    </tr>\n",
       "    <tr>\n",
       "      <th>4</th>\n",
       "      <td>2015.0</td>\n",
       "      <td>7.0</td>\n",
       "      <td>Minnesota</td>\n",
       "      <td>1.2</td>\n",
       "      <td>severe weather</td>\n",
       "      <td>1740.0</td>\n",
       "      <td>13.07</td>\n",
       "      <td>10.16</td>\n",
       "      <td>7.74</td>\n",
       "      <td>10.43</td>\n",
       "      <td>...</td>\n",
       "      <td>2279.0</td>\n",
       "      <td>1700.5</td>\n",
       "      <td>18.2</td>\n",
       "      <td>2.14</td>\n",
       "      <td>0.6</td>\n",
       "      <td>91.592666</td>\n",
       "      <td>8.407334</td>\n",
       "      <td>5.478743</td>\n",
       "      <td>2015-07-18 02:00:00</td>\n",
       "      <td>summer</td>\n",
       "    </tr>\n",
       "  </tbody>\n",
       "</table>\n",
       "<p>5 rows × 45 columns</p>\n",
       "</div>"
      ],
      "text/plain": [
       "     YEAR  MONTH U.S._STATE  ANOMALY.LEVEL      CAUSE.CATEGORY  \\\n",
       "0  2011.0    7.0  Minnesota           -0.3      severe weather   \n",
       "1  2014.0    5.0  Minnesota           -0.1  intentional attack   \n",
       "2  2010.0   10.0  Minnesota           -1.5      severe weather   \n",
       "3  2012.0    6.0  Minnesota           -0.1      severe weather   \n",
       "4  2015.0    7.0  Minnesota            1.2      severe weather   \n",
       "\n",
       "   OUTAGE.DURATION  RES.PRICE  COM.PRICE  IND.PRICE  TOTAL.PRICE  ...  \\\n",
       "0           3060.0      11.60       9.18       6.81         9.28  ...   \n",
       "1              1.0      12.12       9.71       6.49         9.28  ...   \n",
       "2           3000.0      10.87       8.19       6.07         8.15  ...   \n",
       "3           2550.0      11.79       9.25       6.71         9.19  ...   \n",
       "4           1740.0      13.07      10.16       7.74        10.43  ...   \n",
       "\n",
       "   POPDEN_URBAN  POPDEN_UC  POPDEN_RURAL  AREAPCT_URBAN  AREAPCT_UC  \\\n",
       "0        2279.0     1700.5          18.2           2.14         0.6   \n",
       "1        2279.0     1700.5          18.2           2.14         0.6   \n",
       "2        2279.0     1700.5          18.2           2.14         0.6   \n",
       "3        2279.0     1700.5          18.2           2.14         0.6   \n",
       "4        2279.0     1700.5          18.2           2.14         0.6   \n",
       "\n",
       "    PCT_LAND  PCT_WATER_TOT  PCT_WATER_INLAND        OUTAGE.START  SEASON  \n",
       "0  91.592666       8.407334          5.478743 2011-07-01 17:00:00  summer  \n",
       "1  91.592666       8.407334          5.478743 2014-05-11 18:38:00  spring  \n",
       "2  91.592666       8.407334          5.478743 2010-10-26 20:00:00    fall  \n",
       "3  91.592666       8.407334          5.478743 2012-06-19 04:30:00  summer  \n",
       "4  91.592666       8.407334          5.478743 2015-07-18 02:00:00  summer  \n",
       "\n",
       "[5 rows x 45 columns]"
      ]
     },
     "execution_count": 271,
     "metadata": {},
     "output_type": "execute_result"
    }
   ],
   "source": [
    "outages = outages.assign(SEASON=outages[\"MONTH\"].apply(season))\n",
    "outages.head()"
   ]
  },
  {
   "cell_type": "markdown",
   "metadata": {},
   "source": [
    "Perfect! Now we can get started on exploring the data."
   ]
  },
  {
   "cell_type": "markdown",
   "metadata": {},
   "source": [
    "### Baseline Model"
   ]
  },
  {
   "cell_type": "markdown",
   "metadata": {},
   "source": [
    "What can we expect in terms of outage duration in general? Will the values be high? Will there be a lot of variation? Let's investigate the distribution of power outage durations by plotting a boxplot of outage durations."
   ]
  },
  {
   "cell_type": "code",
   "execution_count": 27,
   "metadata": {},
   "outputs": [
    {
     "data": {
      "application/vnd.plotly.v1+json": {
       "config": {
        "plotlyServerURL": "https://plot.ly"
       },
       "data": [
        {
         "alignmentgroup": "True",
         "hovertemplate": "OUTAGE.DURATION=%{y}<extra></extra>",
         "legendgroup": "",
         "marker": {
          "color": "#636efa"
         },
         "name": "",
         "notched": false,
         "offsetgroup": "",
         "orientation": "v",
         "showlegend": false,
         "type": "box",
         "x0": " ",
         "xaxis": "x",
         "y": [
          3060,
          1,
          3000,
          2550,
          1740,
          1860,
          2970,
          3960,
          155,
          3621,
          7740,
          8880,
          0,
          1322,
          60,
          19,
          0,
          21,
          196,
          840,
          935,
          1260,
          null,
          619,
          150,
          762,
          0,
          660,
          1,
          2700,
          1,
          4921,
          95,
          251,
          4125,
          2550,
          null,
          1200,
          310,
          2818,
          5054,
          136,
          528,
          150,
          46,
          1,
          1920,
          null,
          32,
          null,
          135,
          3000,
          32,
          108653,
          8468,
          960,
          44,
          1605,
          4410,
          388,
          480,
          1219,
          90,
          18660,
          538,
          104,
          60,
          1272,
          60,
          1,
          1000,
          17339,
          9576,
          3090,
          6510,
          5820,
          1078,
          1513,
          4830,
          3051,
          4200,
          2085,
          5730,
          4290,
          2670,
          3540,
          3637,
          1710,
          4320,
          3915,
          3120,
          4590,
          7530,
          5034,
          8160,
          3300,
          4320,
          1770,
          9857,
          4080,
          5670,
          5700,
          1995,
          300,
          5115,
          2670,
          7650,
          4338,
          761,
          5760,
          2820,
          4110,
          3360,
          3015,
          232,
          11525,
          6420,
          46080,
          5700,
          5610,
          78377,
          270,
          4050,
          5865,
          1,
          2325,
          4170,
          4485,
          2694,
          168,
          5580,
          705,
          11850,
          3494,
          4560,
          2760,
          5760,
          8922,
          6030,
          7800,
          4242,
          3120,
          5700,
          900,
          1046,
          7620,
          3630,
          1260,
          5840,
          5790,
          2820,
          600,
          4259,
          2939,
          7080,
          3600,
          1588,
          4260,
          2700,
          200,
          8430,
          85,
          9150,
          1019,
          420,
          1140,
          7440,
          4458,
          373,
          1203,
          868,
          1455,
          206,
          1195,
          1559,
          900,
          2690,
          5115,
          5,
          189,
          2142,
          360,
          null,
          225,
          2340,
          480,
          9486,
          480,
          3000,
          300,
          3020,
          766,
          null,
          1335,
          197,
          245,
          3255,
          12180,
          1077,
          600,
          186,
          690,
          27698,
          402,
          2420,
          327,
          1,
          1860,
          220,
          455,
          318,
          757,
          847,
          410,
          215,
          5,
          570,
          12124,
          2655,
          20160,
          1440,
          600,
          39,
          181,
          1185,
          1500,
          0,
          271,
          1860,
          1200,
          2159,
          6300,
          null,
          1620,
          224,
          70,
          1697,
          95,
          2220,
          null,
          7809,
          1200,
          121,
          63,
          5595,
          1,
          557,
          240,
          3360,
          685,
          2280,
          210,
          167,
          1920,
          3569,
          3300,
          10,
          1560,
          840,
          240,
          990,
          6000,
          17865,
          1282,
          1080,
          7540,
          1320,
          1110,
          27698,
          130,
          3040,
          394,
          10140,
          20160,
          21540,
          45,
          1,
          1200,
          550,
          900,
          885,
          940,
          null,
          3050,
          1830,
          6000,
          1500,
          150,
          1955,
          2220,
          330,
          74,
          420,
          1440,
          255,
          1060,
          12240,
          5250,
          4320,
          120,
          233,
          null,
          65,
          2120,
          96,
          3,
          4320,
          65,
          2146,
          96,
          4032,
          2580,
          6,
          569,
          0,
          15950,
          200,
          1980,
          4045,
          2730,
          3314,
          7319,
          1,
          47,
          1440,
          276,
          0,
          0,
          3646,
          1130,
          2880,
          513,
          35,
          23773,
          10,
          3872,
          23187,
          12240,
          390,
          null,
          3264,
          1230,
          803,
          77,
          30,
          300,
          1,
          5,
          1450,
          2680,
          null,
          7609,
          150,
          3000,
          420,
          479,
          1680,
          2700,
          149,
          1110,
          2790,
          659,
          1320,
          1830,
          3000,
          null,
          870,
          810,
          1336,
          1695,
          360,
          360,
          120,
          3000,
          1290,
          1530,
          2370,
          1200,
          1200,
          90,
          120,
          1200,
          2761,
          720,
          1120,
          2100,
          960,
          450,
          1440,
          1020,
          0,
          2010,
          120,
          9230,
          1240,
          465,
          0,
          2460,
          1183,
          8880,
          394,
          219,
          487,
          19,
          28,
          0,
          1,
          5340,
          8940,
          467,
          0,
          1920,
          0,
          25,
          420,
          2040,
          0,
          1,
          1423,
          60,
          1620,
          3300,
          385,
          663,
          123,
          1276,
          1919,
          null,
          440,
          6690,
          null,
          0,
          null,
          717,
          1204,
          292,
          313,
          1,
          5,
          6276,
          0,
          74,
          0,
          null,
          248,
          1,
          2700,
          25,
          126,
          1,
          255,
          1207,
          0,
          0,
          245,
          476,
          null,
          null,
          null,
          1,
          2639,
          502,
          548,
          369,
          6480,
          15,
          5,
          null,
          1,
          0,
          432,
          21,
          1697,
          0,
          2615,
          9630,
          3507,
          2820,
          314,
          5855,
          0,
          0,
          1,
          22769,
          70,
          4285,
          355,
          0,
          2520,
          0,
          180,
          554,
          50,
          70,
          180,
          3842,
          35,
          1,
          189,
          49320,
          4200,
          353,
          1,
          87,
          66,
          null,
          1,
          227,
          null,
          1440,
          1,
          2700,
          null,
          49320,
          2,
          215,
          451,
          418,
          100,
          2021,
          1671,
          3938,
          4470,
          2279,
          4440,
          2760,
          0,
          1,
          0,
          1,
          1840,
          428,
          331,
          1980,
          1,
          1,
          1950,
          3037,
          1,
          1,
          1196,
          5628,
          1440,
          7700,
          2,
          12890,
          4232,
          95,
          2610,
          4320,
          17,
          113,
          0,
          2507,
          0,
          1,
          4920,
          1,
          4080,
          0,
          960,
          185,
          1320,
          1673,
          2855,
          3060,
          565,
          1,
          1,
          7298,
          5790,
          3040,
          11700,
          7987,
          304,
          4517,
          0,
          3058,
          13381,
          2865,
          152,
          380,
          9450,
          7803,
          5579,
          8979,
          4800,
          3060,
          4792,
          3894,
          1757,
          2880,
          2985,
          164,
          3232,
          2319,
          4338,
          2880,
          1714,
          90,
          59,
          4139,
          10530,
          6938,
          930,
          278,
          299,
          5320,
          2880,
          1,
          4260,
          6713,
          5160,
          1440,
          78,
          7523,
          2668,
          1,
          376,
          1324,
          6940,
          2684,
          54,
          100,
          720,
          2880,
          3189,
          2790,
          13679,
          2843,
          13488,
          1642,
          7709,
          7080,
          1440,
          1,
          1680,
          1579,
          652,
          108,
          300,
          1020,
          3570,
          6492,
          23700,
          10499,
          15180,
          0,
          120,
          1,
          1,
          1,
          1,
          1,
          1,
          60,
          113,
          204,
          31,
          57,
          13,
          2,
          11,
          283,
          0,
          1,
          871,
          1631,
          56,
          15,
          15,
          20,
          60,
          1,
          95,
          300,
          1,
          3186,
          575,
          2275,
          15,
          1,
          44,
          21,
          1,
          114,
          1,
          60,
          4920,
          null,
          4920,
          420,
          0,
          7,
          21,
          340,
          4200,
          805,
          5040,
          7430,
          5490,
          165,
          3630,
          11640,
          1590,
          3137,
          1440,
          7920,
          360,
          0,
          1440,
          1372,
          6480,
          2190,
          285,
          75,
          1843,
          1,
          11531,
          1420,
          0,
          930,
          11420,
          0,
          352,
          0,
          960,
          1733,
          3690,
          10619,
          634,
          11280,
          1440,
          180,
          1574,
          45,
          563,
          388,
          373,
          4510,
          290,
          1950,
          270,
          1355,
          1318,
          2490,
          1265,
          195,
          3120,
          3388,
          1025,
          990,
          240,
          1485,
          129,
          0,
          1528,
          1890,
          2551,
          985,
          405,
          1698,
          167,
          1460,
          182,
          4113,
          null,
          885,
          15,
          42,
          1050,
          1,
          132,
          4140,
          2880,
          null,
          11430,
          3599,
          0,
          2941,
          null,
          6090,
          1365,
          375,
          2520,
          10080,
          76,
          0,
          3720,
          333,
          0,
          353,
          11337,
          0,
          0,
          7020,
          11058,
          null,
          9360,
          3300,
          3339,
          2880,
          11580,
          9600,
          13201,
          9719,
          488,
          2415,
          180,
          4177,
          7440,
          3480,
          6600,
          300,
          1526,
          60,
          210,
          2,
          1350,
          73,
          1,
          200,
          0,
          null,
          4380,
          0,
          120,
          2680,
          840,
          989,
          4313,
          214,
          4,
          164,
          91,
          1050,
          838,
          60,
          1,
          1,
          9886,
          2425,
          390,
          14500,
          6660,
          159,
          54,
          30,
          8077,
          855,
          65,
          810,
          4150,
          4740,
          25,
          0,
          null,
          2070,
          870,
          12652,
          2880,
          120,
          1199,
          null,
          1470,
          4140,
          15420,
          50,
          0,
          1,
          1,
          0,
          0,
          0,
          457,
          1,
          1,
          0,
          30,
          1,
          1,
          65,
          1,
          0,
          0,
          0,
          1,
          null,
          1,
          0,
          1,
          1,
          110,
          39,
          1,
          1,
          1,
          1,
          1,
          1,
          507,
          213,
          4254,
          1,
          1,
          53,
          0,
          0,
          251,
          347,
          1637,
          21360,
          2161,
          2880,
          1044,
          8670,
          56,
          93,
          13,
          2089,
          20280,
          14639,
          2880,
          681,
          494,
          1,
          5355,
          0,
          3943,
          3300,
          191,
          0,
          73,
          4680,
          17310,
          10080,
          10726,
          1,
          5,
          2515,
          25920,
          2730,
          9480,
          5400,
          30,
          3584,
          3600,
          5850,
          4710,
          1,
          1732,
          0,
          23040,
          1800,
          6074,
          null,
          49,
          2299,
          5760,
          420,
          7320,
          2880,
          448,
          2520,
          18717,
          5513,
          21,
          2100,
          3120,
          8221,
          3240,
          2880,
          255,
          2355,
          161,
          50,
          258,
          13140,
          8640,
          18240,
          15492,
          8268,
          0,
          300,
          14400,
          7962,
          2400,
          11296,
          48,
          60480,
          28170,
          300,
          8054,
          2775,
          2775,
          2160,
          2100,
          2775,
          3180,
          2775,
          1440,
          430,
          2129,
          1755,
          null,
          692,
          732,
          7,
          510,
          420,
          13215,
          557,
          300,
          17812,
          20416,
          6240,
          467,
          3067,
          3060,
          355,
          430,
          300,
          227,
          52,
          null,
          2880,
          18804,
          1867,
          1690,
          295,
          17,
          240,
          17520,
          8189,
          182,
          5820,
          83,
          230,
          2009,
          720,
          155,
          4320,
          4320,
          480,
          1005,
          221,
          372,
          13430,
          4320,
          91,
          1419,
          3600,
          10080,
          5071,
          152,
          6840,
          221,
          24780,
          38,
          61,
          7560,
          90,
          10380,
          396,
          2040,
          12060,
          1080,
          1680,
          13920,
          14101,
          1099,
          2460,
          540,
          52,
          816,
          420,
          155,
          437,
          247,
          540,
          1135,
          437,
          180,
          171,
          656,
          84,
          202,
          255,
          1054,
          1,
          1254,
          1456,
          177,
          106,
          32,
          2464,
          55,
          144,
          70,
          64,
          8873,
          945,
          null,
          523,
          56,
          3,
          8472,
          155,
          33,
          749,
          159,
          null,
          270,
          2790,
          224,
          1470,
          334,
          2050,
          370,
          26,
          797,
          12,
          195,
          1,
          230,
          125,
          15,
          316,
          365,
          1560,
          4740,
          294,
          455,
          2878,
          336,
          295,
          480,
          25,
          null,
          223,
          2645,
          2016,
          7371,
          360,
          3408,
          3698,
          4890,
          1,
          871,
          2759,
          250,
          3301,
          249,
          164,
          435,
          420,
          854,
          5160,
          133,
          15180,
          2055,
          451,
          140,
          199,
          721,
          179,
          1524,
          78,
          268,
          39,
          1,
          14190,
          47,
          161,
          900,
          6070,
          697,
          234,
          14,
          5910,
          null,
          34390,
          40,
          166,
          182,
          829,
          15,
          64,
          13,
          245,
          1080,
          null,
          390,
          47,
          269,
          null,
          400,
          660,
          213,
          null,
          761,
          8100,
          180,
          124,
          4320,
          2820,
          3100,
          49427,
          989,
          125,
          44,
          26,
          245,
          null,
          98,
          1,
          0,
          135,
          50,
          1008,
          53,
          554,
          1260,
          2895,
          89,
          98,
          865,
          128,
          230,
          252,
          130,
          5,
          157,
          6914,
          11,
          13,
          2880,
          270,
          962,
          47,
          null,
          20,
          108,
          9855,
          75,
          17,
          21,
          1950,
          11867,
          141,
          959,
          1035,
          617,
          1230,
          572,
          324,
          1835,
          6780,
          900,
          null,
          37,
          72,
          1,
          251,
          620,
          89,
          909,
          236,
          326,
          300,
          751,
          122,
          214,
          193,
          8,
          5227,
          null,
          1414,
          448,
          4605,
          4080,
          null,
          1914,
          759,
          1,
          10274,
          3,
          2700,
          105,
          240,
          210,
          1,
          1201,
          30,
          2806,
          1226,
          300,
          206,
          270,
          2880,
          513,
          8160,
          3314,
          414,
          126,
          60,
          285,
          110,
          62,
          2363,
          424,
          180,
          0,
          448,
          2,
          624,
          2435,
          131,
          null,
          208,
          103,
          1355,
          1523,
          90,
          1205,
          385,
          144,
          235,
          241,
          6787,
          1337,
          1673,
          3366,
          2640,
          1826,
          570,
          1565,
          2691,
          1072,
          115,
          816,
          168,
          30,
          160,
          485,
          1508,
          1301,
          159,
          60,
          4,
          9600,
          106,
          0,
          0,
          1,
          32,
          61,
          314,
          30,
          0,
          92,
          390,
          161,
          60,
          76,
          1,
          1,
          160,
          20,
          1,
          1,
          70,
          50,
          15,
          810,
          1380,
          1800,
          1560,
          2054,
          1452,
          1865,
          1999,
          120,
          1950,
          360,
          1087,
          1200,
          4122,
          360,
          645,
          108,
          0,
          1,
          1440,
          4560,
          1,
          1,
          110,
          210,
          120,
          0,
          4260,
          76,
          210,
          3305,
          5880,
          145,
          60,
          2640,
          1042,
          110,
          11880,
          2245,
          984,
          7200,
          1381,
          148,
          13972,
          null,
          796,
          300,
          null,
          2612,
          3000,
          431,
          5310,
          1732,
          0,
          6685,
          3300,
          280,
          117,
          2895,
          480,
          31,
          1,
          0,
          0,
          103,
          4745,
          307,
          1656,
          3525,
          374,
          1068,
          1569,
          114,
          115,
          15,
          2891,
          1,
          1676,
          0,
          0,
          3604,
          195,
          1,
          0,
          2108,
          198,
          3667,
          1037,
          673,
          null,
          2652,
          300,
          881,
          618,
          1187,
          950,
          2535,
          27,
          108,
          73,
          200,
          5,
          75,
          0,
          77,
          660,
          0,
          92,
          30,
          33,
          1895,
          274,
          1,
          1534,
          1,
          60,
          108,
          2,
          175,
          null,
          2040,
          2710,
          284,
          105,
          4019,
          1,
          391,
          439,
          5,
          201,
          2140,
          103,
          null,
          187,
          1406,
          348,
          13650,
          90,
          913,
          null,
          14040,
          1367,
          174,
          543,
          237,
          1906,
          224,
          0,
          95,
          360,
          1548,
          870,
          0,
          null,
          220,
          720,
          null,
          59,
          181,
          null
         ],
         "y0": " ",
         "yaxis": "y"
        }
       ],
       "layout": {
        "boxmode": "group",
        "legend": {
         "tracegroupgap": 0
        },
        "margin": {
         "t": 60
        },
        "template": {
         "data": {
          "bar": [
           {
            "error_x": {
             "color": "#2a3f5f"
            },
            "error_y": {
             "color": "#2a3f5f"
            },
            "marker": {
             "line": {
              "color": "#E5ECF6",
              "width": 0.5
             },
             "pattern": {
              "fillmode": "overlay",
              "size": 10,
              "solidity": 0.2
             }
            },
            "type": "bar"
           }
          ],
          "barpolar": [
           {
            "marker": {
             "line": {
              "color": "#E5ECF6",
              "width": 0.5
             },
             "pattern": {
              "fillmode": "overlay",
              "size": 10,
              "solidity": 0.2
             }
            },
            "type": "barpolar"
           }
          ],
          "carpet": [
           {
            "aaxis": {
             "endlinecolor": "#2a3f5f",
             "gridcolor": "white",
             "linecolor": "white",
             "minorgridcolor": "white",
             "startlinecolor": "#2a3f5f"
            },
            "baxis": {
             "endlinecolor": "#2a3f5f",
             "gridcolor": "white",
             "linecolor": "white",
             "minorgridcolor": "white",
             "startlinecolor": "#2a3f5f"
            },
            "type": "carpet"
           }
          ],
          "choropleth": [
           {
            "colorbar": {
             "outlinewidth": 0,
             "ticks": ""
            },
            "type": "choropleth"
           }
          ],
          "contour": [
           {
            "colorbar": {
             "outlinewidth": 0,
             "ticks": ""
            },
            "colorscale": [
             [
              0,
              "#0d0887"
             ],
             [
              0.1111111111111111,
              "#46039f"
             ],
             [
              0.2222222222222222,
              "#7201a8"
             ],
             [
              0.3333333333333333,
              "#9c179e"
             ],
             [
              0.4444444444444444,
              "#bd3786"
             ],
             [
              0.5555555555555556,
              "#d8576b"
             ],
             [
              0.6666666666666666,
              "#ed7953"
             ],
             [
              0.7777777777777778,
              "#fb9f3a"
             ],
             [
              0.8888888888888888,
              "#fdca26"
             ],
             [
              1,
              "#f0f921"
             ]
            ],
            "type": "contour"
           }
          ],
          "contourcarpet": [
           {
            "colorbar": {
             "outlinewidth": 0,
             "ticks": ""
            },
            "type": "contourcarpet"
           }
          ],
          "heatmap": [
           {
            "colorbar": {
             "outlinewidth": 0,
             "ticks": ""
            },
            "colorscale": [
             [
              0,
              "#0d0887"
             ],
             [
              0.1111111111111111,
              "#46039f"
             ],
             [
              0.2222222222222222,
              "#7201a8"
             ],
             [
              0.3333333333333333,
              "#9c179e"
             ],
             [
              0.4444444444444444,
              "#bd3786"
             ],
             [
              0.5555555555555556,
              "#d8576b"
             ],
             [
              0.6666666666666666,
              "#ed7953"
             ],
             [
              0.7777777777777778,
              "#fb9f3a"
             ],
             [
              0.8888888888888888,
              "#fdca26"
             ],
             [
              1,
              "#f0f921"
             ]
            ],
            "type": "heatmap"
           }
          ],
          "heatmapgl": [
           {
            "colorbar": {
             "outlinewidth": 0,
             "ticks": ""
            },
            "colorscale": [
             [
              0,
              "#0d0887"
             ],
             [
              0.1111111111111111,
              "#46039f"
             ],
             [
              0.2222222222222222,
              "#7201a8"
             ],
             [
              0.3333333333333333,
              "#9c179e"
             ],
             [
              0.4444444444444444,
              "#bd3786"
             ],
             [
              0.5555555555555556,
              "#d8576b"
             ],
             [
              0.6666666666666666,
              "#ed7953"
             ],
             [
              0.7777777777777778,
              "#fb9f3a"
             ],
             [
              0.8888888888888888,
              "#fdca26"
             ],
             [
              1,
              "#f0f921"
             ]
            ],
            "type": "heatmapgl"
           }
          ],
          "histogram": [
           {
            "marker": {
             "pattern": {
              "fillmode": "overlay",
              "size": 10,
              "solidity": 0.2
             }
            },
            "type": "histogram"
           }
          ],
          "histogram2d": [
           {
            "colorbar": {
             "outlinewidth": 0,
             "ticks": ""
            },
            "colorscale": [
             [
              0,
              "#0d0887"
             ],
             [
              0.1111111111111111,
              "#46039f"
             ],
             [
              0.2222222222222222,
              "#7201a8"
             ],
             [
              0.3333333333333333,
              "#9c179e"
             ],
             [
              0.4444444444444444,
              "#bd3786"
             ],
             [
              0.5555555555555556,
              "#d8576b"
             ],
             [
              0.6666666666666666,
              "#ed7953"
             ],
             [
              0.7777777777777778,
              "#fb9f3a"
             ],
             [
              0.8888888888888888,
              "#fdca26"
             ],
             [
              1,
              "#f0f921"
             ]
            ],
            "type": "histogram2d"
           }
          ],
          "histogram2dcontour": [
           {
            "colorbar": {
             "outlinewidth": 0,
             "ticks": ""
            },
            "colorscale": [
             [
              0,
              "#0d0887"
             ],
             [
              0.1111111111111111,
              "#46039f"
             ],
             [
              0.2222222222222222,
              "#7201a8"
             ],
             [
              0.3333333333333333,
              "#9c179e"
             ],
             [
              0.4444444444444444,
              "#bd3786"
             ],
             [
              0.5555555555555556,
              "#d8576b"
             ],
             [
              0.6666666666666666,
              "#ed7953"
             ],
             [
              0.7777777777777778,
              "#fb9f3a"
             ],
             [
              0.8888888888888888,
              "#fdca26"
             ],
             [
              1,
              "#f0f921"
             ]
            ],
            "type": "histogram2dcontour"
           }
          ],
          "mesh3d": [
           {
            "colorbar": {
             "outlinewidth": 0,
             "ticks": ""
            },
            "type": "mesh3d"
           }
          ],
          "parcoords": [
           {
            "line": {
             "colorbar": {
              "outlinewidth": 0,
              "ticks": ""
             }
            },
            "type": "parcoords"
           }
          ],
          "pie": [
           {
            "automargin": true,
            "type": "pie"
           }
          ],
          "scatter": [
           {
            "fillpattern": {
             "fillmode": "overlay",
             "size": 10,
             "solidity": 0.2
            },
            "type": "scatter"
           }
          ],
          "scatter3d": [
           {
            "line": {
             "colorbar": {
              "outlinewidth": 0,
              "ticks": ""
             }
            },
            "marker": {
             "colorbar": {
              "outlinewidth": 0,
              "ticks": ""
             }
            },
            "type": "scatter3d"
           }
          ],
          "scattercarpet": [
           {
            "marker": {
             "colorbar": {
              "outlinewidth": 0,
              "ticks": ""
             }
            },
            "type": "scattercarpet"
           }
          ],
          "scattergeo": [
           {
            "marker": {
             "colorbar": {
              "outlinewidth": 0,
              "ticks": ""
             }
            },
            "type": "scattergeo"
           }
          ],
          "scattergl": [
           {
            "marker": {
             "colorbar": {
              "outlinewidth": 0,
              "ticks": ""
             }
            },
            "type": "scattergl"
           }
          ],
          "scattermapbox": [
           {
            "marker": {
             "colorbar": {
              "outlinewidth": 0,
              "ticks": ""
             }
            },
            "type": "scattermapbox"
           }
          ],
          "scatterpolar": [
           {
            "marker": {
             "colorbar": {
              "outlinewidth": 0,
              "ticks": ""
             }
            },
            "type": "scatterpolar"
           }
          ],
          "scatterpolargl": [
           {
            "marker": {
             "colorbar": {
              "outlinewidth": 0,
              "ticks": ""
             }
            },
            "type": "scatterpolargl"
           }
          ],
          "scatterternary": [
           {
            "marker": {
             "colorbar": {
              "outlinewidth": 0,
              "ticks": ""
             }
            },
            "type": "scatterternary"
           }
          ],
          "surface": [
           {
            "colorbar": {
             "outlinewidth": 0,
             "ticks": ""
            },
            "colorscale": [
             [
              0,
              "#0d0887"
             ],
             [
              0.1111111111111111,
              "#46039f"
             ],
             [
              0.2222222222222222,
              "#7201a8"
             ],
             [
              0.3333333333333333,
              "#9c179e"
             ],
             [
              0.4444444444444444,
              "#bd3786"
             ],
             [
              0.5555555555555556,
              "#d8576b"
             ],
             [
              0.6666666666666666,
              "#ed7953"
             ],
             [
              0.7777777777777778,
              "#fb9f3a"
             ],
             [
              0.8888888888888888,
              "#fdca26"
             ],
             [
              1,
              "#f0f921"
             ]
            ],
            "type": "surface"
           }
          ],
          "table": [
           {
            "cells": {
             "fill": {
              "color": "#EBF0F8"
             },
             "line": {
              "color": "white"
             }
            },
            "header": {
             "fill": {
              "color": "#C8D4E3"
             },
             "line": {
              "color": "white"
             }
            },
            "type": "table"
           }
          ]
         },
         "layout": {
          "annotationdefaults": {
           "arrowcolor": "#2a3f5f",
           "arrowhead": 0,
           "arrowwidth": 1
          },
          "autotypenumbers": "strict",
          "coloraxis": {
           "colorbar": {
            "outlinewidth": 0,
            "ticks": ""
           }
          },
          "colorscale": {
           "diverging": [
            [
             0,
             "#8e0152"
            ],
            [
             0.1,
             "#c51b7d"
            ],
            [
             0.2,
             "#de77ae"
            ],
            [
             0.3,
             "#f1b6da"
            ],
            [
             0.4,
             "#fde0ef"
            ],
            [
             0.5,
             "#f7f7f7"
            ],
            [
             0.6,
             "#e6f5d0"
            ],
            [
             0.7,
             "#b8e186"
            ],
            [
             0.8,
             "#7fbc41"
            ],
            [
             0.9,
             "#4d9221"
            ],
            [
             1,
             "#276419"
            ]
           ],
           "sequential": [
            [
             0,
             "#0d0887"
            ],
            [
             0.1111111111111111,
             "#46039f"
            ],
            [
             0.2222222222222222,
             "#7201a8"
            ],
            [
             0.3333333333333333,
             "#9c179e"
            ],
            [
             0.4444444444444444,
             "#bd3786"
            ],
            [
             0.5555555555555556,
             "#d8576b"
            ],
            [
             0.6666666666666666,
             "#ed7953"
            ],
            [
             0.7777777777777778,
             "#fb9f3a"
            ],
            [
             0.8888888888888888,
             "#fdca26"
            ],
            [
             1,
             "#f0f921"
            ]
           ],
           "sequentialminus": [
            [
             0,
             "#0d0887"
            ],
            [
             0.1111111111111111,
             "#46039f"
            ],
            [
             0.2222222222222222,
             "#7201a8"
            ],
            [
             0.3333333333333333,
             "#9c179e"
            ],
            [
             0.4444444444444444,
             "#bd3786"
            ],
            [
             0.5555555555555556,
             "#d8576b"
            ],
            [
             0.6666666666666666,
             "#ed7953"
            ],
            [
             0.7777777777777778,
             "#fb9f3a"
            ],
            [
             0.8888888888888888,
             "#fdca26"
            ],
            [
             1,
             "#f0f921"
            ]
           ]
          },
          "colorway": [
           "#636efa",
           "#EF553B",
           "#00cc96",
           "#ab63fa",
           "#FFA15A",
           "#19d3f3",
           "#FF6692",
           "#B6E880",
           "#FF97FF",
           "#FECB52"
          ],
          "font": {
           "color": "#2a3f5f"
          },
          "geo": {
           "bgcolor": "white",
           "lakecolor": "white",
           "landcolor": "#E5ECF6",
           "showlakes": true,
           "showland": true,
           "subunitcolor": "white"
          },
          "hoverlabel": {
           "align": "left"
          },
          "hovermode": "closest",
          "mapbox": {
           "style": "light"
          },
          "paper_bgcolor": "white",
          "plot_bgcolor": "#E5ECF6",
          "polar": {
           "angularaxis": {
            "gridcolor": "white",
            "linecolor": "white",
            "ticks": ""
           },
           "bgcolor": "#E5ECF6",
           "radialaxis": {
            "gridcolor": "white",
            "linecolor": "white",
            "ticks": ""
           }
          },
          "scene": {
           "xaxis": {
            "backgroundcolor": "#E5ECF6",
            "gridcolor": "white",
            "gridwidth": 2,
            "linecolor": "white",
            "showbackground": true,
            "ticks": "",
            "zerolinecolor": "white"
           },
           "yaxis": {
            "backgroundcolor": "#E5ECF6",
            "gridcolor": "white",
            "gridwidth": 2,
            "linecolor": "white",
            "showbackground": true,
            "ticks": "",
            "zerolinecolor": "white"
           },
           "zaxis": {
            "backgroundcolor": "#E5ECF6",
            "gridcolor": "white",
            "gridwidth": 2,
            "linecolor": "white",
            "showbackground": true,
            "ticks": "",
            "zerolinecolor": "white"
           }
          },
          "shapedefaults": {
           "line": {
            "color": "#2a3f5f"
           }
          },
          "ternary": {
           "aaxis": {
            "gridcolor": "white",
            "linecolor": "white",
            "ticks": ""
           },
           "baxis": {
            "gridcolor": "white",
            "linecolor": "white",
            "ticks": ""
           },
           "bgcolor": "#E5ECF6",
           "caxis": {
            "gridcolor": "white",
            "linecolor": "white",
            "ticks": ""
           }
          },
          "title": {
           "x": 0.05
          },
          "xaxis": {
           "automargin": true,
           "gridcolor": "white",
           "linecolor": "white",
           "ticks": "",
           "title": {
            "standoff": 15
           },
           "zerolinecolor": "white",
           "zerolinewidth": 2
          },
          "yaxis": {
           "automargin": true,
           "gridcolor": "white",
           "linecolor": "white",
           "ticks": "",
           "title": {
            "standoff": 15
           },
           "zerolinecolor": "white",
           "zerolinewidth": 2
          }
         }
        },
        "xaxis": {
         "anchor": "y",
         "domain": [
          0,
          1
         ]
        },
        "yaxis": {
         "anchor": "x",
         "domain": [
          0,
          1
         ],
         "title": {
          "text": "OUTAGE.DURATION"
         }
        }
       }
      },
      "text/html": [
       "<div>                            <div id=\"bac824f8-431a-4dff-8950-926926b9f441\" class=\"plotly-graph-div\" style=\"height:525px; width:100%;\"></div>            <script type=\"text/javascript\">                require([\"plotly\"], function(Plotly) {                    window.PLOTLYENV=window.PLOTLYENV || {};                                    if (document.getElementById(\"bac824f8-431a-4dff-8950-926926b9f441\")) {                    Plotly.newPlot(                        \"bac824f8-431a-4dff-8950-926926b9f441\",                        [{\"alignmentgroup\":\"True\",\"hovertemplate\":\"OUTAGE.DURATION=%{y}\\u003cextra\\u003e\\u003c\\u002fextra\\u003e\",\"legendgroup\":\"\",\"marker\":{\"color\":\"#636efa\"},\"name\":\"\",\"notched\":false,\"offsetgroup\":\"\",\"orientation\":\"v\",\"showlegend\":false,\"x0\":\" \",\"xaxis\":\"x\",\"y\":[3060.0,1.0,3000.0,2550.0,1740.0,1860.0,2970.0,3960.0,155.0,3621.0,7740.0,8880.0,0.0,1322.0,60.0,19.0,0.0,21.0,196.0,840.0,935.0,1260.0,null,619.0,150.0,762.0,0.0,660.0,1.0,2700.0,1.0,4921.0,95.0,251.0,4125.0,2550.0,null,1200.0,310.0,2818.0,5054.0,136.0,528.0,150.0,46.0,1.0,1920.0,null,32.0,null,135.0,3000.0,32.0,108653.0,8468.0,960.0,44.0,1605.0,4410.0,388.0,480.0,1219.0,90.0,18660.0,538.0,104.0,60.0,1272.0,60.0,1.0,1000.0,17339.0,9576.0,3090.0,6510.0,5820.0,1078.0,1513.0,4830.0,3051.0,4200.0,2085.0,5730.0,4290.0,2670.0,3540.0,3637.0,1710.0,4320.0,3915.0,3120.0,4590.0,7530.0,5034.0,8160.0,3300.0,4320.0,1770.0,9857.0,4080.0,5670.0,5700.0,1995.0,300.0,5115.0,2670.0,7650.0,4338.0,761.0,5760.0,2820.0,4110.0,3360.0,3015.0,232.0,11525.0,6420.0,46080.0,5700.0,5610.0,78377.0,270.0,4050.0,5865.0,1.0,2325.0,4170.0,4485.0,2694.0,168.0,5580.0,705.0,11850.0,3494.0,4560.0,2760.0,5760.0,8922.0,6030.0,7800.0,4242.0,3120.0,5700.0,900.0,1046.0,7620.0,3630.0,1260.0,5840.0,5790.0,2820.0,600.0,4259.0,2939.0,7080.0,3600.0,1588.0,4260.0,2700.0,200.0,8430.0,85.0,9150.0,1019.0,420.0,1140.0,7440.0,4458.0,373.0,1203.0,868.0,1455.0,206.0,1195.0,1559.0,900.0,2690.0,5115.0,5.0,189.0,2142.0,360.0,null,225.0,2340.0,480.0,9486.0,480.0,3000.0,300.0,3020.0,766.0,null,1335.0,197.0,245.0,3255.0,12180.0,1077.0,600.0,186.0,690.0,27698.0,402.0,2420.0,327.0,1.0,1860.0,220.0,455.0,318.0,757.0,847.0,410.0,215.0,5.0,570.0,12124.0,2655.0,20160.0,1440.0,600.0,39.0,181.0,1185.0,1500.0,0.0,271.0,1860.0,1200.0,2159.0,6300.0,null,1620.0,224.0,70.0,1697.0,95.0,2220.0,null,7809.0,1200.0,121.0,63.0,5595.0,1.0,557.0,240.0,3360.0,685.0,2280.0,210.0,167.0,1920.0,3569.0,3300.0,10.0,1560.0,840.0,240.0,990.0,6000.0,17865.0,1282.0,1080.0,7540.0,1320.0,1110.0,27698.0,130.0,3040.0,394.0,10140.0,20160.0,21540.0,45.0,1.0,1200.0,550.0,900.0,885.0,940.0,null,3050.0,1830.0,6000.0,1500.0,150.0,1955.0,2220.0,330.0,74.0,420.0,1440.0,255.0,1060.0,12240.0,5250.0,4320.0,120.0,233.0,null,65.0,2120.0,96.0,3.0,4320.0,65.0,2146.0,96.0,4032.0,2580.0,6.0,569.0,0.0,15950.0,200.0,1980.0,4045.0,2730.0,3314.0,7319.0,1.0,47.0,1440.0,276.0,0.0,0.0,3646.0,1130.0,2880.0,513.0,35.0,23773.0,10.0,3872.0,23187.0,12240.0,390.0,null,3264.0,1230.0,803.0,77.0,30.0,300.0,1.0,5.0,1450.0,2680.0,null,7609.0,150.0,3000.0,420.0,479.0,1680.0,2700.0,149.0,1110.0,2790.0,659.0,1320.0,1830.0,3000.0,null,870.0,810.0,1336.0,1695.0,360.0,360.0,120.0,3000.0,1290.0,1530.0,2370.0,1200.0,1200.0,90.0,120.0,1200.0,2761.0,720.0,1120.0,2100.0,960.0,450.0,1440.0,1020.0,0.0,2010.0,120.0,9230.0,1240.0,465.0,0.0,2460.0,1183.0,8880.0,394.0,219.0,487.0,19.0,28.0,0.0,1.0,5340.0,8940.0,467.0,0.0,1920.0,0.0,25.0,420.0,2040.0,0.0,1.0,1423.0,60.0,1620.0,3300.0,385.0,663.0,123.0,1276.0,1919.0,null,440.0,6690.0,null,0.0,null,717.0,1204.0,292.0,313.0,1.0,5.0,6276.0,0.0,74.0,0.0,null,248.0,1.0,2700.0,25.0,126.0,1.0,255.0,1207.0,0.0,0.0,245.0,476.0,null,null,null,1.0,2639.0,502.0,548.0,369.0,6480.0,15.0,5.0,null,1.0,0.0,432.0,21.0,1697.0,0.0,2615.0,9630.0,3507.0,2820.0,314.0,5855.0,0.0,0.0,1.0,22769.0,70.0,4285.0,355.0,0.0,2520.0,0.0,180.0,554.0,50.0,70.0,180.0,3842.0,35.0,1.0,189.0,49320.0,4200.0,353.0,1.0,87.0,66.0,null,1.0,227.0,null,1440.0,1.0,2700.0,null,49320.0,2.0,215.0,451.0,418.0,100.0,2021.0,1671.0,3938.0,4470.0,2279.0,4440.0,2760.0,0.0,1.0,0.0,1.0,1840.0,428.0,331.0,1980.0,1.0,1.0,1950.0,3037.0,1.0,1.0,1196.0,5628.0,1440.0,7700.0,2.0,12890.0,4232.0,95.0,2610.0,4320.0,17.0,113.0,0.0,2507.0,0.0,1.0,4920.0,1.0,4080.0,0.0,960.0,185.0,1320.0,1673.0,2855.0,3060.0,565.0,1.0,1.0,7298.0,5790.0,3040.0,11700.0,7987.0,304.0,4517.0,0.0,3058.0,13381.0,2865.0,152.0,380.0,9450.0,7803.0,5579.0,8979.0,4800.0,3060.0,4792.0,3894.0,1757.0,2880.0,2985.0,164.0,3232.0,2319.0,4338.0,2880.0,1714.0,90.0,59.0,4139.0,10530.0,6938.0,930.0,278.0,299.0,5320.0,2880.0,1.0,4260.0,6713.0,5160.0,1440.0,78.0,7523.0,2668.0,1.0,376.0,1324.0,6940.0,2684.0,54.0,100.0,720.0,2880.0,3189.0,2790.0,13679.0,2843.0,13488.0,1642.0,7709.0,7080.0,1440.0,1.0,1680.0,1579.0,652.0,108.0,300.0,1020.0,3570.0,6492.0,23700.0,10499.0,15180.0,0.0,120.0,1.0,1.0,1.0,1.0,1.0,1.0,60.0,113.0,204.0,31.0,57.0,13.0,2.0,11.0,283.0,0.0,1.0,871.0,1631.0,56.0,15.0,15.0,20.0,60.0,1.0,95.0,300.0,1.0,3186.0,575.0,2275.0,15.0,1.0,44.0,21.0,1.0,114.0,1.0,60.0,4920.0,null,4920.0,420.0,0.0,7.0,21.0,340.0,4200.0,805.0,5040.0,7430.0,5490.0,165.0,3630.0,11640.0,1590.0,3137.0,1440.0,7920.0,360.0,0.0,1440.0,1372.0,6480.0,2190.0,285.0,75.0,1843.0,1.0,11531.0,1420.0,0.0,930.0,11420.0,0.0,352.0,0.0,960.0,1733.0,3690.0,10619.0,634.0,11280.0,1440.0,180.0,1574.0,45.0,563.0,388.0,373.0,4510.0,290.0,1950.0,270.0,1355.0,1318.0,2490.0,1265.0,195.0,3120.0,3388.0,1025.0,990.0,240.0,1485.0,129.0,0.0,1528.0,1890.0,2551.0,985.0,405.0,1698.0,167.0,1460.0,182.0,4113.0,null,885.0,15.0,42.0,1050.0,1.0,132.0,4140.0,2880.0,null,11430.0,3599.0,0.0,2941.0,null,6090.0,1365.0,375.0,2520.0,10080.0,76.0,0.0,3720.0,333.0,0.0,353.0,11337.0,0.0,0.0,7020.0,11058.0,null,9360.0,3300.0,3339.0,2880.0,11580.0,9600.0,13201.0,9719.0,488.0,2415.0,180.0,4177.0,7440.0,3480.0,6600.0,300.0,1526.0,60.0,210.0,2.0,1350.0,73.0,1.0,200.0,0.0,null,4380.0,0.0,120.0,2680.0,840.0,989.0,4313.0,214.0,4.0,164.0,91.0,1050.0,838.0,60.0,1.0,1.0,9886.0,2425.0,390.0,14500.0,6660.0,159.0,54.0,30.0,8077.0,855.0,65.0,810.0,4150.0,4740.0,25.0,0.0,null,2070.0,870.0,12652.0,2880.0,120.0,1199.0,null,1470.0,4140.0,15420.0,50.0,0.0,1.0,1.0,0.0,0.0,0.0,457.0,1.0,1.0,0.0,30.0,1.0,1.0,65.0,1.0,0.0,0.0,0.0,1.0,null,1.0,0.0,1.0,1.0,110.0,39.0,1.0,1.0,1.0,1.0,1.0,1.0,507.0,213.0,4254.0,1.0,1.0,53.0,0.0,0.0,251.0,347.0,1637.0,21360.0,2161.0,2880.0,1044.0,8670.0,56.0,93.0,13.0,2089.0,20280.0,14639.0,2880.0,681.0,494.0,1.0,5355.0,0.0,3943.0,3300.0,191.0,0.0,73.0,4680.0,17310.0,10080.0,10726.0,1.0,5.0,2515.0,25920.0,2730.0,9480.0,5400.0,30.0,3584.0,3600.0,5850.0,4710.0,1.0,1732.0,0.0,23040.0,1800.0,6074.0,null,49.0,2299.0,5760.0,420.0,7320.0,2880.0,448.0,2520.0,18717.0,5513.0,21.0,2100.0,3120.0,8221.0,3240.0,2880.0,255.0,2355.0,161.0,50.0,258.0,13140.0,8640.0,18240.0,15492.0,8268.0,0.0,300.0,14400.0,7962.0,2400.0,11296.0,48.0,60480.0,28170.0,300.0,8054.0,2775.0,2775.0,2160.0,2100.0,2775.0,3180.0,2775.0,1440.0,430.0,2129.0,1755.0,null,692.0,732.0,7.0,510.0,420.0,13215.0,557.0,300.0,17812.0,20416.0,6240.0,467.0,3067.0,3060.0,355.0,430.0,300.0,227.0,52.0,null,2880.0,18804.0,1867.0,1690.0,295.0,17.0,240.0,17520.0,8189.0,182.0,5820.0,83.0,230.0,2009.0,720.0,155.0,4320.0,4320.0,480.0,1005.0,221.0,372.0,13430.0,4320.0,91.0,1419.0,3600.0,10080.0,5071.0,152.0,6840.0,221.0,24780.0,38.0,61.0,7560.0,90.0,10380.0,396.0,2040.0,12060.0,1080.0,1680.0,13920.0,14101.0,1099.0,2460.0,540.0,52.0,816.0,420.0,155.0,437.0,247.0,540.0,1135.0,437.0,180.0,171.0,656.0,84.0,202.0,255.0,1054.0,1.0,1254.0,1456.0,177.0,106.0,32.0,2464.0,55.0,144.0,70.0,64.0,8873.0,945.0,null,523.0,56.0,3.0,8472.0,155.0,33.0,749.0,159.0,null,270.0,2790.0,224.0,1470.0,334.0,2050.0,370.0,26.0,797.0,12.0,195.0,1.0,230.0,125.0,15.0,316.0,365.0,1560.0,4740.0,294.0,455.0,2878.0,336.0,295.0,480.0,25.0,null,223.0,2645.0,2016.0,7371.0,360.0,3408.0,3698.0,4890.0,1.0,871.0,2759.0,250.0,3301.0,249.0,164.0,435.0,420.0,854.0,5160.0,133.0,15180.0,2055.0,451.0,140.0,199.0,721.0,179.0,1524.0,78.0,268.0,39.0,1.0,14190.0,47.0,161.0,900.0,6070.0,697.0,234.0,14.0,5910.0,null,34390.0,40.0,166.0,182.0,829.0,15.0,64.0,13.0,245.0,1080.0,null,390.0,47.0,269.0,null,400.0,660.0,213.0,null,761.0,8100.0,180.0,124.0,4320.0,2820.0,3100.0,49427.0,989.0,125.0,44.0,26.0,245.0,null,98.0,1.0,0.0,135.0,50.0,1008.0,53.0,554.0,1260.0,2895.0,89.0,98.0,865.0,128.0,230.0,252.0,130.0,5.0,157.0,6914.0,11.0,13.0,2880.0,270.0,962.0,47.0,null,20.0,108.0,9855.0,75.0,17.0,21.0,1950.0,11867.0,141.0,959.0,1035.0,617.0,1230.0,572.0,324.0,1835.0,6780.0,900.0,null,37.0,72.0,1.0,251.0,620.0,89.0,909.0,236.0,326.0,300.0,751.0,122.0,214.0,193.0,8.0,5227.0,null,1414.0,448.0,4605.0,4080.0,null,1914.0,759.0,1.0,10274.0,3.0,2700.0,105.0,240.0,210.0,1.0,1201.0,30.0,2806.0,1226.0,300.0,206.0,270.0,2880.0,513.0,8160.0,3314.0,414.0,126.0,60.0,285.0,110.0,62.0,2363.0,424.0,180.0,0.0,448.0,2.0,624.0,2435.0,131.0,null,208.0,103.0,1355.0,1523.0,90.0,1205.0,385.0,144.0,235.0,241.0,6787.0,1337.0,1673.0,3366.0,2640.0,1826.0,570.0,1565.0,2691.0,1072.0,115.0,816.0,168.0,30.0,160.0,485.0,1508.0,1301.0,159.0,60.0,4.0,9600.0,106.0,0.0,0.0,1.0,32.0,61.0,314.0,30.0,0.0,92.0,390.0,161.0,60.0,76.0,1.0,1.0,160.0,20.0,1.0,1.0,70.0,50.0,15.0,810.0,1380.0,1800.0,1560.0,2054.0,1452.0,1865.0,1999.0,120.0,1950.0,360.0,1087.0,1200.0,4122.0,360.0,645.0,108.0,0.0,1.0,1440.0,4560.0,1.0,1.0,110.0,210.0,120.0,0.0,4260.0,76.0,210.0,3305.0,5880.0,145.0,60.0,2640.0,1042.0,110.0,11880.0,2245.0,984.0,7200.0,1381.0,148.0,13972.0,null,796.0,300.0,null,2612.0,3000.0,431.0,5310.0,1732.0,0.0,6685.0,3300.0,280.0,117.0,2895.0,480.0,31.0,1.0,0.0,0.0,103.0,4745.0,307.0,1656.0,3525.0,374.0,1068.0,1569.0,114.0,115.0,15.0,2891.0,1.0,1676.0,0.0,0.0,3604.0,195.0,1.0,0.0,2108.0,198.0,3667.0,1037.0,673.0,null,2652.0,300.0,881.0,618.0,1187.0,950.0,2535.0,27.0,108.0,73.0,200.0,5.0,75.0,0.0,77.0,660.0,0.0,92.0,30.0,33.0,1895.0,274.0,1.0,1534.0,1.0,60.0,108.0,2.0,175.0,null,2040.0,2710.0,284.0,105.0,4019.0,1.0,391.0,439.0,5.0,201.0,2140.0,103.0,null,187.0,1406.0,348.0,13650.0,90.0,913.0,null,14040.0,1367.0,174.0,543.0,237.0,1906.0,224.0,0.0,95.0,360.0,1548.0,870.0,0.0,null,220.0,720.0,null,59.0,181.0,null],\"y0\":\" \",\"yaxis\":\"y\",\"type\":\"box\"}],                        {\"template\":{\"data\":{\"histogram2dcontour\":[{\"type\":\"histogram2dcontour\",\"colorbar\":{\"outlinewidth\":0,\"ticks\":\"\"},\"colorscale\":[[0.0,\"#0d0887\"],[0.1111111111111111,\"#46039f\"],[0.2222222222222222,\"#7201a8\"],[0.3333333333333333,\"#9c179e\"],[0.4444444444444444,\"#bd3786\"],[0.5555555555555556,\"#d8576b\"],[0.6666666666666666,\"#ed7953\"],[0.7777777777777778,\"#fb9f3a\"],[0.8888888888888888,\"#fdca26\"],[1.0,\"#f0f921\"]]}],\"choropleth\":[{\"type\":\"choropleth\",\"colorbar\":{\"outlinewidth\":0,\"ticks\":\"\"}}],\"histogram2d\":[{\"type\":\"histogram2d\",\"colorbar\":{\"outlinewidth\":0,\"ticks\":\"\"},\"colorscale\":[[0.0,\"#0d0887\"],[0.1111111111111111,\"#46039f\"],[0.2222222222222222,\"#7201a8\"],[0.3333333333333333,\"#9c179e\"],[0.4444444444444444,\"#bd3786\"],[0.5555555555555556,\"#d8576b\"],[0.6666666666666666,\"#ed7953\"],[0.7777777777777778,\"#fb9f3a\"],[0.8888888888888888,\"#fdca26\"],[1.0,\"#f0f921\"]]}],\"heatmap\":[{\"type\":\"heatmap\",\"colorbar\":{\"outlinewidth\":0,\"ticks\":\"\"},\"colorscale\":[[0.0,\"#0d0887\"],[0.1111111111111111,\"#46039f\"],[0.2222222222222222,\"#7201a8\"],[0.3333333333333333,\"#9c179e\"],[0.4444444444444444,\"#bd3786\"],[0.5555555555555556,\"#d8576b\"],[0.6666666666666666,\"#ed7953\"],[0.7777777777777778,\"#fb9f3a\"],[0.8888888888888888,\"#fdca26\"],[1.0,\"#f0f921\"]]}],\"heatmapgl\":[{\"type\":\"heatmapgl\",\"colorbar\":{\"outlinewidth\":0,\"ticks\":\"\"},\"colorscale\":[[0.0,\"#0d0887\"],[0.1111111111111111,\"#46039f\"],[0.2222222222222222,\"#7201a8\"],[0.3333333333333333,\"#9c179e\"],[0.4444444444444444,\"#bd3786\"],[0.5555555555555556,\"#d8576b\"],[0.6666666666666666,\"#ed7953\"],[0.7777777777777778,\"#fb9f3a\"],[0.8888888888888888,\"#fdca26\"],[1.0,\"#f0f921\"]]}],\"contourcarpet\":[{\"type\":\"contourcarpet\",\"colorbar\":{\"outlinewidth\":0,\"ticks\":\"\"}}],\"contour\":[{\"type\":\"contour\",\"colorbar\":{\"outlinewidth\":0,\"ticks\":\"\"},\"colorscale\":[[0.0,\"#0d0887\"],[0.1111111111111111,\"#46039f\"],[0.2222222222222222,\"#7201a8\"],[0.3333333333333333,\"#9c179e\"],[0.4444444444444444,\"#bd3786\"],[0.5555555555555556,\"#d8576b\"],[0.6666666666666666,\"#ed7953\"],[0.7777777777777778,\"#fb9f3a\"],[0.8888888888888888,\"#fdca26\"],[1.0,\"#f0f921\"]]}],\"surface\":[{\"type\":\"surface\",\"colorbar\":{\"outlinewidth\":0,\"ticks\":\"\"},\"colorscale\":[[0.0,\"#0d0887\"],[0.1111111111111111,\"#46039f\"],[0.2222222222222222,\"#7201a8\"],[0.3333333333333333,\"#9c179e\"],[0.4444444444444444,\"#bd3786\"],[0.5555555555555556,\"#d8576b\"],[0.6666666666666666,\"#ed7953\"],[0.7777777777777778,\"#fb9f3a\"],[0.8888888888888888,\"#fdca26\"],[1.0,\"#f0f921\"]]}],\"mesh3d\":[{\"type\":\"mesh3d\",\"colorbar\":{\"outlinewidth\":0,\"ticks\":\"\"}}],\"scatter\":[{\"fillpattern\":{\"fillmode\":\"overlay\",\"size\":10,\"solidity\":0.2},\"type\":\"scatter\"}],\"parcoords\":[{\"type\":\"parcoords\",\"line\":{\"colorbar\":{\"outlinewidth\":0,\"ticks\":\"\"}}}],\"scatterpolargl\":[{\"type\":\"scatterpolargl\",\"marker\":{\"colorbar\":{\"outlinewidth\":0,\"ticks\":\"\"}}}],\"bar\":[{\"error_x\":{\"color\":\"#2a3f5f\"},\"error_y\":{\"color\":\"#2a3f5f\"},\"marker\":{\"line\":{\"color\":\"#E5ECF6\",\"width\":0.5},\"pattern\":{\"fillmode\":\"overlay\",\"size\":10,\"solidity\":0.2}},\"type\":\"bar\"}],\"scattergeo\":[{\"type\":\"scattergeo\",\"marker\":{\"colorbar\":{\"outlinewidth\":0,\"ticks\":\"\"}}}],\"scatterpolar\":[{\"type\":\"scatterpolar\",\"marker\":{\"colorbar\":{\"outlinewidth\":0,\"ticks\":\"\"}}}],\"histogram\":[{\"marker\":{\"pattern\":{\"fillmode\":\"overlay\",\"size\":10,\"solidity\":0.2}},\"type\":\"histogram\"}],\"scattergl\":[{\"type\":\"scattergl\",\"marker\":{\"colorbar\":{\"outlinewidth\":0,\"ticks\":\"\"}}}],\"scatter3d\":[{\"type\":\"scatter3d\",\"line\":{\"colorbar\":{\"outlinewidth\":0,\"ticks\":\"\"}},\"marker\":{\"colorbar\":{\"outlinewidth\":0,\"ticks\":\"\"}}}],\"scattermapbox\":[{\"type\":\"scattermapbox\",\"marker\":{\"colorbar\":{\"outlinewidth\":0,\"ticks\":\"\"}}}],\"scatterternary\":[{\"type\":\"scatterternary\",\"marker\":{\"colorbar\":{\"outlinewidth\":0,\"ticks\":\"\"}}}],\"scattercarpet\":[{\"type\":\"scattercarpet\",\"marker\":{\"colorbar\":{\"outlinewidth\":0,\"ticks\":\"\"}}}],\"carpet\":[{\"aaxis\":{\"endlinecolor\":\"#2a3f5f\",\"gridcolor\":\"white\",\"linecolor\":\"white\",\"minorgridcolor\":\"white\",\"startlinecolor\":\"#2a3f5f\"},\"baxis\":{\"endlinecolor\":\"#2a3f5f\",\"gridcolor\":\"white\",\"linecolor\":\"white\",\"minorgridcolor\":\"white\",\"startlinecolor\":\"#2a3f5f\"},\"type\":\"carpet\"}],\"table\":[{\"cells\":{\"fill\":{\"color\":\"#EBF0F8\"},\"line\":{\"color\":\"white\"}},\"header\":{\"fill\":{\"color\":\"#C8D4E3\"},\"line\":{\"color\":\"white\"}},\"type\":\"table\"}],\"barpolar\":[{\"marker\":{\"line\":{\"color\":\"#E5ECF6\",\"width\":0.5},\"pattern\":{\"fillmode\":\"overlay\",\"size\":10,\"solidity\":0.2}},\"type\":\"barpolar\"}],\"pie\":[{\"automargin\":true,\"type\":\"pie\"}]},\"layout\":{\"autotypenumbers\":\"strict\",\"colorway\":[\"#636efa\",\"#EF553B\",\"#00cc96\",\"#ab63fa\",\"#FFA15A\",\"#19d3f3\",\"#FF6692\",\"#B6E880\",\"#FF97FF\",\"#FECB52\"],\"font\":{\"color\":\"#2a3f5f\"},\"hovermode\":\"closest\",\"hoverlabel\":{\"align\":\"left\"},\"paper_bgcolor\":\"white\",\"plot_bgcolor\":\"#E5ECF6\",\"polar\":{\"bgcolor\":\"#E5ECF6\",\"angularaxis\":{\"gridcolor\":\"white\",\"linecolor\":\"white\",\"ticks\":\"\"},\"radialaxis\":{\"gridcolor\":\"white\",\"linecolor\":\"white\",\"ticks\":\"\"}},\"ternary\":{\"bgcolor\":\"#E5ECF6\",\"aaxis\":{\"gridcolor\":\"white\",\"linecolor\":\"white\",\"ticks\":\"\"},\"baxis\":{\"gridcolor\":\"white\",\"linecolor\":\"white\",\"ticks\":\"\"},\"caxis\":{\"gridcolor\":\"white\",\"linecolor\":\"white\",\"ticks\":\"\"}},\"coloraxis\":{\"colorbar\":{\"outlinewidth\":0,\"ticks\":\"\"}},\"colorscale\":{\"sequential\":[[0.0,\"#0d0887\"],[0.1111111111111111,\"#46039f\"],[0.2222222222222222,\"#7201a8\"],[0.3333333333333333,\"#9c179e\"],[0.4444444444444444,\"#bd3786\"],[0.5555555555555556,\"#d8576b\"],[0.6666666666666666,\"#ed7953\"],[0.7777777777777778,\"#fb9f3a\"],[0.8888888888888888,\"#fdca26\"],[1.0,\"#f0f921\"]],\"sequentialminus\":[[0.0,\"#0d0887\"],[0.1111111111111111,\"#46039f\"],[0.2222222222222222,\"#7201a8\"],[0.3333333333333333,\"#9c179e\"],[0.4444444444444444,\"#bd3786\"],[0.5555555555555556,\"#d8576b\"],[0.6666666666666666,\"#ed7953\"],[0.7777777777777778,\"#fb9f3a\"],[0.8888888888888888,\"#fdca26\"],[1.0,\"#f0f921\"]],\"diverging\":[[0,\"#8e0152\"],[0.1,\"#c51b7d\"],[0.2,\"#de77ae\"],[0.3,\"#f1b6da\"],[0.4,\"#fde0ef\"],[0.5,\"#f7f7f7\"],[0.6,\"#e6f5d0\"],[0.7,\"#b8e186\"],[0.8,\"#7fbc41\"],[0.9,\"#4d9221\"],[1,\"#276419\"]]},\"xaxis\":{\"gridcolor\":\"white\",\"linecolor\":\"white\",\"ticks\":\"\",\"title\":{\"standoff\":15},\"zerolinecolor\":\"white\",\"automargin\":true,\"zerolinewidth\":2},\"yaxis\":{\"gridcolor\":\"white\",\"linecolor\":\"white\",\"ticks\":\"\",\"title\":{\"standoff\":15},\"zerolinecolor\":\"white\",\"automargin\":true,\"zerolinewidth\":2},\"scene\":{\"xaxis\":{\"backgroundcolor\":\"#E5ECF6\",\"gridcolor\":\"white\",\"linecolor\":\"white\",\"showbackground\":true,\"ticks\":\"\",\"zerolinecolor\":\"white\",\"gridwidth\":2},\"yaxis\":{\"backgroundcolor\":\"#E5ECF6\",\"gridcolor\":\"white\",\"linecolor\":\"white\",\"showbackground\":true,\"ticks\":\"\",\"zerolinecolor\":\"white\",\"gridwidth\":2},\"zaxis\":{\"backgroundcolor\":\"#E5ECF6\",\"gridcolor\":\"white\",\"linecolor\":\"white\",\"showbackground\":true,\"ticks\":\"\",\"zerolinecolor\":\"white\",\"gridwidth\":2}},\"shapedefaults\":{\"line\":{\"color\":\"#2a3f5f\"}},\"annotationdefaults\":{\"arrowcolor\":\"#2a3f5f\",\"arrowhead\":0,\"arrowwidth\":1},\"geo\":{\"bgcolor\":\"white\",\"landcolor\":\"#E5ECF6\",\"subunitcolor\":\"white\",\"showland\":true,\"showlakes\":true,\"lakecolor\":\"white\"},\"title\":{\"x\":0.05},\"mapbox\":{\"style\":\"light\"}}},\"xaxis\":{\"anchor\":\"y\",\"domain\":[0.0,1.0]},\"yaxis\":{\"anchor\":\"x\",\"domain\":[0.0,1.0],\"title\":{\"text\":\"OUTAGE.DURATION\"}},\"legend\":{\"tracegroupgap\":0},\"margin\":{\"t\":60},\"boxmode\":\"group\"},                        {\"responsive\": true}                    ).then(function(){\n",
       "                            \n",
       "var gd = document.getElementById('bac824f8-431a-4dff-8950-926926b9f441');\n",
       "var x = new MutationObserver(function (mutations, observer) {{\n",
       "        var display = window.getComputedStyle(gd).display;\n",
       "        if (!display || display === 'none') {{\n",
       "            console.log([gd, 'removed!']);\n",
       "            Plotly.purge(gd);\n",
       "            observer.disconnect();\n",
       "        }}\n",
       "}});\n",
       "\n",
       "// Listen for the removal of the full notebook cells\n",
       "var notebookContainer = gd.closest('#notebook-container');\n",
       "if (notebookContainer) {{\n",
       "    x.observe(notebookContainer, {childList: true});\n",
       "}}\n",
       "\n",
       "// Listen for the clearing of the current output cell\n",
       "var outputEl = gd.closest('.output');\n",
       "if (outputEl) {{\n",
       "    x.observe(outputEl, {childList: true});\n",
       "}}\n",
       "\n",
       "                        })                };                });            </script>        </div>"
      ]
     },
     "metadata": {},
     "output_type": "display_data"
    }
   ],
   "source": [
    "fig1 = px.box(outages, y=\"OUTAGE.DURATION\")\n",
    "fig1.show()"
   ]
  },
  {
   "cell_type": "markdown",
   "metadata": {},
   "source": [
    "Wow! There seems to be a lot of outliers in our dataset. The boxplot appears small compared to the rest of our graph because the mean outage duration is very far from the max outage duration. This could negatively influence our prediction model, since outliers could skew our prediction towards higher values, even though most of our data centers around a lower threshold. In order to ensure that our prediction model follows the trend of the majority of our data, and that it doesn't become too biased from outlier datapoints, we will only look at power outages that are within the upper fence of the boxplot, which is 7020 minutes."
   ]
  },
  {
   "cell_type": "code",
   "execution_count": 28,
   "metadata": {},
   "outputs": [
    {
     "data": {
      "text/plain": [
       "(1534, 45)"
      ]
     },
     "execution_count": 28,
     "metadata": {},
     "output_type": "execute_result"
    }
   ],
   "source": [
    "outages.shape"
   ]
  },
  {
   "cell_type": "code",
   "execution_count": 272,
   "metadata": {},
   "outputs": [
    {
     "data": {
      "text/plain": [
       "(1332, 45)"
      ]
     },
     "execution_count": 272,
     "metadata": {},
     "output_type": "execute_result"
    }
   ],
   "source": [
    "outages = outages[outages[\"OUTAGE.DURATION\"] <= 7020]\n",
    "outages.shape"
   ]
  },
  {
   "cell_type": "markdown",
   "metadata": {},
   "source": [
    "We still have a good amount of data to work with. As we noticed in the boxplot, only a small amount of our data is above 7020 minutes."
   ]
  },
  {
   "cell_type": "code",
   "execution_count": 30,
   "metadata": {},
   "outputs": [
    {
     "data": {
      "text/plain": [
       "0"
      ]
     },
     "execution_count": 30,
     "metadata": {},
     "output_type": "execute_result"
    }
   ],
   "source": [
    "outages[\"OUTAGE.DURATION\"].isna().sum()"
   ]
  },
  {
   "cell_type": "markdown",
   "metadata": {},
   "source": [
    "We also don't have any null values, so we can work with our new dataset directly without having to drop or impute null values."
   ]
  },
  {
   "cell_type": "markdown",
   "metadata": {},
   "source": [
    "Since we are using a regression model to predict outage duration times, we need to find variables that can act as good predictors for our dependent variable. We have an abundant list of quantitative variables we could use to predict outage duration times, so let's see if we can find any correlations between each variable and outage duration.  "
   ]
  },
  {
   "cell_type": "markdown",
   "metadata": {},
   "source": [
    "Below we generated scatter plots of each quantitative variable with outage duration times. While there are only 3 graphs illustrated below, we went through all of the graphs in increments of 5 and looked for any possible relationships between outage durations and other quantitative variables."
   ]
  },
  {
   "cell_type": "code",
   "execution_count": 31,
   "metadata": {},
   "outputs": [
    {
     "data": {
      "application/vnd.plotly.v1+json": {
       "config": {
        "plotlyServerURL": "https://plot.ly"
       },
       "data": [
        {
         "hovertemplate": "COM.PERCEN=%{x}<br>OUTAGE.DURATION=%{y}<extra></extra>",
         "legendgroup": "",
         "marker": {
          "color": "#636efa",
          "symbol": "circle"
         },
         "mode": "markers",
         "name": "",
         "showlegend": false,
         "type": "scattergl",
         "x": [
          32.2250294094342,
          34.2103893641289,
          34.5010145312743,
          33.5433304349148,
          36.2058502875632,
          33.2358419470986,
          32.9545007125563,
          34.5152864967584,
          34.9472433719809,
          34.5151404273935,
          32.2250294094342,
          33.6483699902787,
          34.7290392501139,
          36.2519109905233,
          28.9400553992177,
          36.2519109905233,
          30.1371616997945,
          25.7190192542597,
          30.6708487801665,
          28.705671100337,
          34.2756973023521,
          29.7560962328058,
          30.1679999839113,
          30.4298648800873,
          30.1371616997945,
          35.2526646406569,
          30.0394746073772,
          35.2526646406569,
          30.1371616997945,
          36.979628597513,
          30.50752275678,
          35.2526646406569,
          30.1371616997945,
          29.7560962328058,
          30.9028568674444,
          31.3760619147533,
          30.1371616997945,
          31.8146215104667,
          31.4305045913854,
          29.7560962328058,
          30.1371616997945,
          35.2526646406569,
          29.7560962328058,
          26.7444258059496,
          32.4279276000317,
          32.2210725124776,
          34.7040348993135,
          30.0092328494247,
          32.4279276000317,
          33.0597278312391,
          32.8319660721915,
          33.1791872748067,
          34.57679758193,
          29.7531096912472,
          32.4279276000317,
          34.9582375660601,
          34.7040348993135,
          32.4279276000317,
          34.7040348993135,
          32.4279276000317,
          21.3785009887792,
          27.1325111407292,
          38.3449398770036,
          36.0053828383207,
          31.494088400888,
          37.175365820085,
          36.9946429173078,
          36.6876515679888,
          32.9578406266009,
          31.4079674425782,
          38.3449398770036,
          35.6553834768603,
          36.4529210549831,
          36.6228828331894,
          38.2697893645639,
          35.4546159470796,
          38.0738118006173,
          36.6876515679888,
          39.1657544349794,
          37.6952971238798,
          40.3450978305243,
          36.0321412462238,
          32.3754030848773,
          37.3798026557725,
          36.0956761049608,
          39.9998276195486,
          38.2697893645639,
          36.3089314154905,
          37.3927712269182,
          null,
          35.8067511950095,
          34.8866330238023,
          39.0478871864487,
          32.4242630655791,
          36.0321412462238,
          39.5406249098583,
          33.4216513670778,
          37.1613251622088,
          36.7985835362657,
          38.322682006948,
          34.8863205566472,
          38.5130553051969,
          35.8676218616449,
          38.6366991378504,
          36.6228828331894,
          37.175365820085,
          36.6228828331894,
          36.4529210549831,
          31.4077235431342,
          34.9717159033473,
          32.9578406266009,
          36.2882767276321,
          36.3010425574645,
          35.8067511950095,
          37.4315932176357,
          36.3089314154905,
          37.4346423978147,
          37.8845933561389,
          36.3652479088798,
          35.6584916799158,
          37.6344218095789,
          31.494088400888,
          35.7901635078524,
          34.6682585649015,
          36.2805481317942,
          37.175365820085,
          37.1613251622088,
          35.8092005498669,
          37.3927712269182,
          35.6553834768603,
          40.3450978305243,
          37.5787043314357,
          33.2993219425296,
          38.5130553051969,
          36.3652479088798,
          37.1206398646604,
          38.3449398770036,
          37.175365820085,
          39.6171353396691,
          38.605254272632,
          36.3010425574645,
          36.7563845463499,
          34.7757114424801,
          31.8624685635545,
          31.8624685635545,
          null,
          34.784056698064,
          34.1810820244328,
          33.4887264359318,
          32.8114934998351,
          39.5743690210145,
          37.8017911546167,
          36.221602364486,
          32.6104282436953,
          33.4064678459387,
          33.4064678459387,
          34.8067268823168,
          31.2610974012337,
          32.256485865258,
          28.0181716092002,
          36.6179725796585,
          37.0983180699936,
          39.5743690210145,
          32.1931669948784,
          32.7447572150812,
          32.7447572150812,
          32.6104282436953,
          37.0209020795548,
          36.1057732418736,
          30.6982779033964,
          30.4839216605889,
          32.5959362058224,
          34.1810820244328,
          37.7280660384949,
          31.8624685635545,
          33.7118320737359,
          36.886830948238,
          34.1810820244328,
          37.7280660384949,
          31.2610974012337,
          30.6164292417747,
          31.6801080115841,
          34.7380606934107,
          32.5542409234123,
          38.0525184051053,
          33.110900483163,
          null,
          39.0116682226116,
          34.9900765518363,
          30.5183398189169,
          35.0083585296954,
          38.0525184051053,
          32.5542409234123,
          34.7380606934107,
          34.3609915066523,
          34.7457772355125,
          33.4875307611204,
          28.0181716092002,
          32.8675449155811,
          32.7280931814166,
          33.8840940666069,
          27.092617375525,
          31.8624685635545,
          32.6104282436953,
          35.3511168499501,
          32.0880606322447,
          32.6104282436953,
          34.7757114424801,
          33.3531272435964,
          35.8078560697113,
          36.3029384053807,
          33.4875307611204,
          32.7731874226959,
          33.7294395050924,
          35.1637767058114,
          32.6962785127088,
          27.8530627122624,
          36.0154697234495,
          32.0629161171721,
          39.5743690210145,
          31.8174948481109,
          32.6962785127088,
          37.8988184938762,
          32.5542409234123,
          34.1810820244328,
          32.7447572150812,
          37.0983180699936,
          37.9697456302869,
          37.8017911546167,
          34.3404574429964,
          32.6104282436953,
          37.8017911546167,
          33.4875307611204,
          33.4887264359318,
          36.221602364486,
          30.8839563230619,
          34.7757114424801,
          32.6104282436953,
          34.9928880223943,
          32.4699688186092,
          38.0525184051053,
          33.4157693608482,
          33.8840940666069,
          34.4781897411822,
          32.0752331100043,
          34.8067268823168,
          33.0117227984144,
          32.6962785127088,
          36.1057732418736,
          34.3404574429964,
          27.2917803727376,
          34.28650496358,
          23.4134159359872,
          23.2010226391556,
          22.772387428487,
          24.2103703908684,
          23.9715046399253,
          22.1045698528776,
          21.9927481356905,
          23.6201156901546,
          23.4524872360099,
          22.772387428487,
          22.772387428487,
          23.4345963442498,
          23.9365063814479,
          22.772387428487,
          23.4524872360099,
          24.0194798104431,
          23.0762640123399,
          22.7964157519081,
          23.194107350126,
          24.3544646552126,
          22.1660259832148,
          23.9366469538665,
          24.0191850662783,
          23.6201156901546,
          23.5715535994264,
          23.0762640123399,
          23.5570439609083,
          23.194107350126,
          23.4345963442498,
          24.0191850662783,
          23.6737725087143,
          22.772387428487,
          24.3544646552126,
          21.9927481356905,
          23.6201156901546,
          23.5997478989038,
          26.2224718879458,
          21.5784040913957,
          23.08740073878,
          25.4603874450339,
          26.2757388411195,
          30.3423381064227,
          29.8821445985554,
          30.3440316640634,
          30.0407497917261,
          36.9171321118284,
          35.1169123035844,
          34.8360017133159,
          38.1714928566743,
          32.3473594768851,
          35.348760737088,
          37.8276064081659,
          35.1169123035844,
          34.7853968868201,
          35.4373070338883,
          35.7030311498762,
          36.816302234209,
          33.6308993657092,
          33.1285393130531,
          32.3473594768851,
          32.3473594768851,
          37.4329473843966,
          36.4295758048654,
          35.4373070338883,
          35.4151600710415,
          34.8332390511893,
          36.3328605709963,
          35.2182859498337,
          34.0823671417652,
          33.8015654861866,
          35.4060011032818,
          34.5407485450226,
          34.2051549227276,
          35.9939016163498,
          38.1134527067157,
          32.7056711838427,
          34.9685371296679,
          36.1387721427418,
          34.2814886761536,
          38.1714928566743,
          35.4151600710415,
          35.4373070338883,
          33.2951095944935,
          35.1565826719265,
          33.1285393130531,
          36.1387721427418,
          33.1285393130531,
          29.4193227029359,
          29.6648076752757,
          29.4193227029359,
          29.586182503454,
          28.2470559242813,
          33.6852285463565,
          30.9449176727302,
          30.9449176727302,
          34.026316916161,
          30.2626692769959,
          31.6770405665318,
          34.2895758694536,
          30.9068619910723,
          34.5308692958019,
          29.6648076752757,
          29.1006401826423,
          29.8780278077012,
          35.3780019529573,
          31.0876754291747,
          30.4805094266743,
          29.8780278077012,
          null,
          34.5308692958019,
          31.5644164955846,
          29.6648076752757,
          31.4115677837645,
          33.6852285463565,
          31.3535844304066,
          30.2546822033844,
          34.5308692958019,
          31.5972489860045,
          33.12500664664,
          31.8375970814608,
          33.12500664664,
          29.4193227029359,
          32.1388931720931,
          30.9449176727302,
          33.3032291590368,
          34.3997406637815,
          30.2626692769959,
          36.9425369056217,
          30.2100696068698,
          28.9911195149437,
          29.1006401826423,
          37.2432346759791,
          33.12500664664,
          32.2473980496642,
          29.4193227029359,
          30.2100696068698,
          34.5839997975818,
          33.7244292207662,
          34.5308692958019,
          31.6770405665318,
          31.6770405665318,
          34.5308692958019,
          34.1450244198157,
          32.7369818325879,
          33.1004972628563,
          30.9449176727302,
          34.0685824431975,
          33.6852285463565,
          32.8432637052792,
          32.2387054895703,
          34.3997406637815,
          29.6648076752757,
          29.1006401826423,
          29.6648076752757,
          36.2343461479673,
          34.5308692958019,
          31.6770405665318,
          30.9449176727302,
          31.8375970814608,
          33.1004972628563,
          33.12500664664,
          34.4335831252571,
          31.6770405665318,
          29.1006401826423,
          29.7985042093746,
          32.2387054895703,
          34.4022461472938,
          33.6852285463565,
          29.1006401826423,
          35.3264291379797,
          29.1006401826423,
          32.2884925324577,
          38.31065722529,
          41.0944181890128,
          41.0944181890128,
          39.5126946531131,
          35.8685698536603,
          36.7680984492852,
          43.0486874826899,
          37.3075941022255,
          40.3792307323634,
          39.9671253682627,
          37.8557467006907,
          37.8557467006907,
          34.1810285499276,
          35.4688793377699,
          39.443928273772,
          39.5126946531131,
          43.4995243885734,
          39.5126946531131,
          41.0944181890128,
          40.6632692385724,
          42.8522022006662,
          38.8176665055564,
          36.7680984492852,
          50.1133698966476,
          23.1356599787546,
          42.8956313296437,
          49.9824556935519,
          24.7457253911485,
          42.8956313296437,
          27.0410132494365,
          44.8643980238607,
          52.6587332422729,
          44.8741200820125,
          52.6587332422729,
          42.153978132365,
          51.966844010737,
          49.18388650253,
          47.0262082640573,
          52.6587332422729,
          46.7531969940467,
          23.8821674301587,
          44.8741200820125,
          48.7981890276254,
          45.4769985960104,
          42.153978132365,
          27.0410132494365,
          50.0354669457777,
          52.6587332422729,
          42.4983585187196,
          51.5667797461993,
          49.1458422293851,
          50.1133698966476,
          54.0136255367259,
          46.7531969940467,
          45.4769985960104,
          52.6587332422729,
          45.4769985960104,
          41.9960630285946,
          23.8821674301587,
          52.6587332422729,
          23.7087462617792,
          50.1133698966476,
          51.5667797461993,
          50.0354669457777,
          49.9824556935519,
          50.5660655021057,
          50.9459132121875,
          48.1307410474161,
          47.8957335705474,
          52.6587332422729,
          52.6587332422729,
          40.8481410917331,
          44.887295893754,
          50.6769008227189,
          27.0410132494365,
          44.8643980238607,
          31.1703291332296,
          32.505901478517,
          30.7287855354484,
          30.77752214111,
          32.0262530367432,
          32.9437718278554,
          32.2265109370245,
          33.7524901143209,
          29.3818089277802,
          32.4134854967431,
          29.4295717899847,
          29.4803113973601,
          28.9297241566126,
          33.7524901143209,
          29.5805120824473,
          31.0890186261229,
          30.754389180582,
          31.1631131957042,
          30.4217367764428,
          27.0674498117386,
          27.4817011740943,
          32.9422759021252,
          27.4817011740943,
          null,
          32.9422759021252,
          31.5794674867902,
          29.4295717899847,
          27.8104997953412,
          29.5746247306717,
          32.9422759021252,
          30.8263124345386,
          29.3818089277802,
          31.2872823506705,
          27.8104997953412,
          27.0674498117386,
          31.4871656557995,
          30.7287855354484,
          27.8104997953412,
          30.7072724738879,
          27.0674498117386,
          30.754389180582,
          29.5885284509056,
          29.4295717899847,
          29.3818089277802,
          29.5885284509056,
          30.754389180582,
          31.3074343392526,
          23.7122769333844,
          22.655658639515,
          19.4479364063429,
          22.9609438816417,
          22.840282175942,
          25.9610105936416,
          22.170188853407,
          18.9118165338154,
          19.2189672017669,
          19.2189672017669,
          36.6281921669197,
          39.5681632976318,
          38.2517112993835,
          35.8191083476379,
          35.8191083476379,
          35.0188371454977,
          35.9609352086194,
          39.1094197875828,
          37.2362837480851,
          39.1094197875828,
          39.2322310874874,
          39.5681632976318,
          35.2795509873358,
          35.9609352086194,
          35.0188371454977,
          36.7069333851233,
          35.6012477611073,
          37.2437530103776,
          35.8191083476379,
          36.4066343739697,
          34.5835357492538,
          36.7069333851233,
          38.1976322959382,
          35.0013850927922,
          37.9628359129863,
          40.4673076189982,
          37.598314643091,
          36.2312587638874,
          39.5557849001214,
          37.598314643091,
          37.782776205115,
          36.7069333851233,
          35.9082721520192,
          35.9797852296339,
          38.2517112993835,
          33.1502430402121,
          37.6326983317064,
          35.8191083476379,
          37.2437530103776,
          38.9111241751375,
          36.1849402553185,
          30.5336936220771,
          30.5336936220771,
          29.8844850102572,
          30.280385177676,
          33.071316520118,
          32.910888909458,
          30.3138334506205,
          31.0743907882597,
          27.5033068209663,
          32.2723822958135,
          30.280385177676,
          30.7645569116892,
          28.4747366574353,
          31.6507407946232,
          29.0318448326313,
          29.602486051416,
          30.6037801864215,
          28.7304384537695,
          27.2330850172731,
          30.7645569116892,
          29.1985324011945,
          30.4439826216244,
          32.910888909458,
          28.8863917305039,
          31.8825962655662,
          31.0097950785514,
          28.9264340858858,
          30.6037801864215,
          28.4747366574353,
          32.4357186708353,
          30.6037801864215,
          30.280385177676,
          32.0187573934939,
          28.9231870422851,
          30.3702719311913,
          28.7304384537695,
          35.4634850537374,
          36.1869629051303,
          38.1139462419278,
          32.7073424927404,
          34.023609893096,
          35.8876012335503,
          34.4170002765362,
          31.3614193572185,
          33.8856020976902,
          31.7611823554865,
          34.4170002765362,
          null,
          32.962595426894,
          30.908636613939,
          31.7306188722401,
          33.7619472928514,
          38.580182824399,
          30.0923032639602,
          38.8808939153022,
          36.9457546026167,
          32.9177938899732,
          37.4486216784257,
          33.8856020976902,
          39.5583045805479,
          35.718522771384,
          35.7469921549266,
          33.7619472928514,
          33.8256688982642,
          40.1774789320733,
          37.4486216784257,
          null,
          33.8735005684683,
          31.7306188722401,
          33.7619472928514,
          36.8499632062311,
          35.718522771384,
          35.8064429474796,
          33.8256688982642,
          50.0524852434472,
          49.9201403787602,
          49.7301255826016,
          47.7755653930451,
          51.3146858195702,
          55.0174498669369,
          46.0663849152961,
          48.7859222330168,
          50.8136807390078,
          50.0827912208551,
          47.7755653930451,
          51.1724047564451,
          50.0827912208551,
          47.9663959995613,
          48.7859222330168,
          54.3238472344212,
          49.1823410473246,
          55.0174498669369,
          50.0827912208551,
          48.3954761857557,
          53.3588593092753,
          46.3565862349826,
          47.7755653930451,
          25.2738640848066,
          27.7517084532289,
          24.986920524278,
          23.2500741160614,
          23.0933326066967,
          20.503214072079,
          24.986920524278,
          31.5590048827808,
          30.666834778385,
          33.8466600889568,
          33.9466631681462,
          36.079638224973,
          33.3226762585526,
          31.302053626655,
          30.0322607047609,
          31.8063188814903,
          31.1567921759145,
          36.293386481901,
          31.4581488373316,
          null,
          30.5767486280952,
          35.8134462252579,
          31.1567921759145,
          34.0685179660212,
          36.079638224973,
          36.293386481901,
          31.302053626655,
          31.1567921759145,
          36.1504366334369,
          36.6781095754029,
          31.4581488373316,
          36.3797543651426,
          73.9100659845468,
          75.6617541851481,
          73.058005560617,
          74.1558530513527,
          73.3299698380049,
          77.7218609284953,
          75.6617541851481,
          37.3733417023485,
          42.137294943167,
          33.9487274650815,
          33.9487274650815,
          32.5991356004722,
          36.9272951330998,
          35.660529065437,
          33.8627624108521,
          40.0816230959217,
          38.7398027281099,
          44.3735938012291,
          39.1373638517188,
          34.5646300122256,
          35.2029001261641,
          34.9471872768752,
          40.1160240796915,
          35.9773480402454,
          37.9861477938926,
          37.9965821592597,
          39.0493486571575,
          34.0302703451191,
          38.18823336342,
          36.4907354684095,
          34.5530285058506,
          38.1037648842832,
          38.5619859414323,
          34.0796498823706,
          33.2308156637364,
          34.8206601612668,
          36.1296492204585,
          37.9965821592597,
          37.9965821592597,
          35.2486718607399,
          38.18823336342,
          36.1296492204585,
          40.1160240796915,
          35.9773480402454,
          35.2486718607399,
          38.5619859414323,
          40.4915023148048,
          35.9773480402454,
          36.4907354684095,
          38.4954622399733,
          40.1160240796915,
          38.18823336342,
          null,
          40.9706644230956,
          40.5469603568915,
          38.4954622399733,
          39.2373672713638,
          34.5795605296349,
          34.0302703451191,
          34.9471872768752,
          26.1003306844706,
          26.8944696186914,
          25.4092926563471,
          27.2017328832,
          26.1003306844706,
          26.8944696186914,
          33.9853379443666,
          36.9996101747229,
          35.4897099759701,
          49.7917813154789,
          51.7138497854174,
          44.5107391386386,
          42.8840224254138,
          51.7138497854174,
          54.5005437028386,
          54.4614387503354,
          50.6253249469807,
          49.0669262812054,
          53.736246122797,
          51.2640228388548,
          53.736246122797,
          49.587108495055,
          52.8445399736317,
          53.5038190806329,
          52.8445399736317,
          50.1314888700264,
          53.4253500640064,
          54.4614387503354,
          51.8901389671222,
          51.0516945035636,
          53.318718955577,
          54.4882439385499,
          51.2640228388548,
          49.9177604623839,
          51.0516945035636,
          50.1314888700264,
          54.5005437028386,
          51.1694533477057,
          51.7138497854174,
          53.4208128926545,
          52.0226467380629,
          54.4614387503354,
          52.8429617940027,
          53.0864243399719,
          49.9177604623839,
          54.1139709634386,
          50.6867779768623,
          49.587108495055,
          52.4034305976813,
          51.7138497854174,
          51.8430522277006,
          50.1314888700264,
          51.5291538656902,
          54.4882439385499,
          53.7017803018826,
          54.3412605993231,
          51.0962260309157,
          50.2510811603106,
          51.1694533477057,
          28.7316637402123,
          28.3057442892836,
          28.3057442892836,
          27.9376535580204,
          29.3531021758743,
          28.3057442892836,
          29.2581878818135,
          28.3057442892836,
          28.0972056116093,
          28.4538365864698,
          26.581439502939,
          28.2909587276189,
          27.9376535580204,
          31.4759004285584,
          29.567079540726,
          29.8671276855654,
          32.8726768441242,
          28.4538365864698,
          28.7316637402123,
          26.1989925668365,
          28.4538365864698,
          28.1822598280654,
          28.1822598280654,
          30.0715901265352,
          28.4538365864698,
          28.7316637402123,
          29.226579610818,
          27.4691196248784,
          26.6215694436778,
          28.1822598280654,
          29.567079540726,
          29.3174380294355,
          42.2255665239584,
          38.6160877726689,
          42.1209478658752,
          38.9302182060875,
          43.406401032837,
          35.3130078892795,
          43.9472306491882,
          39.5772076191027,
          42.1209478658752,
          41.6927957958792,
          41.6927957958792,
          38.5221030241531,
          42.8599863831627,
          37.4488123880963,
          35.8623498387763,
          41.6927957958792,
          42.1209478658752,
          41.2465541753054,
          38.499027140588296,
          38.9302182060875,
          40.8944436706154,
          38.499027140588296,
          38.5221030241531,
          42.1209478658752,
          42.1209478658752,
          39.4567923612212,
          39.6998704865081,
          38.499027140588296,
          39.5772076191027,
          38.499027140588296,
          38.5221030241531,
          38.499027140588296,
          43.9472306491882,
          36.9709292461164,
          40.1661249935534,
          45.5574747881665,
          48.6340586504223,
          46.9457276947495,
          45.3411455409149,
          46.4576541252485,
          47.5254184243063,
          44.3991382640107,
          44.022745262455,
          45.442611968017,
          43.9285695255075,
          46.4874563239273,
          44.6119715149026,
          44.7424212550335,
          46.3283464700816,
          46.0887737097181,
          44.6059484633071,
          46.6220231891195,
          46.8245653025597,
          42.7390270690304,
          43.4356476754438,
          48.1457990267658,
          43.1700418132162,
          46.8245653025597,
          46.2615163157449,
          46.3218349386117,
          47.8755354580754,
          44.3991382640107,
          46.281537493525,
          46.4045374153122,
          48.2531882517519,
          47.2912152101174,
          45.1799302684207,
          47.6164376439189,
          45.1799302684207,
          48.2636241462957,
          47.5433248260719,
          44.5338553570266,
          48.3796542529474,
          45.394723925428,
          46.4576541252485,
          45.394723925428,
          45.394723925428,
          47.2786466221956,
          47.5254184243063,
          46.4532291559395,
          45.6696641328477,
          48.0292661095292,
          46.2904878915527,
          37.5089531562062,
          46.9457276947495,
          46.3218349386117,
          43.5433317730708,
          44.5338553570266,
          46.4532291559395,
          47.4537778847392,
          43.4368565495458,
          47.514437344449,
          42.7390270690304,
          47.4727163154098,
          46.0538804982134,
          45.174546911921,
          45.6467740624936,
          43.1700418132162,
          46.011048532104,
          47.5254184243063,
          46.011048532104,
          45.0549506562911,
          48.0293727142944,
          45.1670827328497,
          44.6119715149026,
          46.3015452105703,
          44.6119715149026,
          44.7424212550335,
          46.3218349386117,
          45.394723925428,
          48.7224537213021,
          44.0351231429371,
          46.6220231891195,
          35.714568546807,
          45.7531132406487,
          39.5430992560412,
          47.4403331347215,
          43.9473556930997,
          46.3283464700816,
          45.3345709261448,
          42.7390270690304,
          45.3345709261448,
          46.281537493525,
          46.0887737097181,
          41.5181881235799,
          48.2636241462957,
          49.2503969476947,
          44.5338553570266,
          47.4537778847392,
          45.8715578347641,
          47.5003987741563,
          43.9473556930997,
          48.0292661095292,
          43.1700418132162,
          48.2531882517519,
          45.1799302684207,
          45.0549506562911,
          46.0878454447425,
          47.7048925214923,
          48.9181759932876,
          45.7184968161818,
          48.0292661095292,
          46.7557274292331,
          46.3283464700816,
          48.4098093113099,
          46.7663190547591,
          46.6220231891195,
          47.8812399037177,
          44.022745262455,
          48.0481120938166,
          46.3592340877616,
          43.1293219800274,
          46.2818962721219,
          45.3411455409149,
          44.7402307474946,
          43.1700418132162,
          45.4045392382504,
          45.442611968017,
          47.514437344449,
          46.9814739417907,
          48.5769391951181,
          48.0527797173637,
          48.2324656148196,
          46.8245653025597,
          48.5769391951181,
          37.5089531562062,
          46.011048532104,
          47.4403331347215,
          45.2318297950476,
          45.394723925428,
          46.4045374153122,
          48.5769391951181,
          48.2531882517519,
          46.3283464700816,
          46.6220231891195,
          45.3345709261448,
          43.1700418132162,
          46.6220231891195,
          47.4403331347215,
          46.2818962721219,
          48.9181759932876,
          48.3222259878422,
          48.590903893209,
          46.7557274292331,
          47.5003987741563,
          39.5430992560412,
          39.5430992560412,
          48.590903893209,
          48.590903893209,
          44.8854076516816,
          37.5089531562062,
          48.590903893209,
          45.8715578347641,
          46.9814739417907,
          48.7224537213021,
          45.1670827328497,
          46.4576541252485,
          35.714568546807,
          43.1293219800274,
          48.4098093113099,
          48.590903893209,
          45.0549506562911,
          46.5156654400815,
          48.0527797173637,
          42.7390270690304,
          46.7962148830685,
          46.3915740856604,
          47.2786466221956,
          45.7184968161818,
          45.5574747881665,
          47.8812399037177,
          48.2324656148196,
          45.1799302684207,
          46.4104229322904,
          46.685637510621,
          48.0527797173637,
          47.2174074450195,
          46.2904878915527,
          46.3283464700816,
          45.0030277723969,
          43.9473556930997,
          47.8812399037177,
          47.5427909565618,
          22.2966688696255,
          23.6723090016637,
          25.4965205429195,
          27.3071785072732,
          26.7291099226395,
          25.8138162234562,
          26.288190889376,
          27.6906513965669,
          26.288190889376,
          26.1239321128745,
          26.5032029474208,
          26.4078178505896,
          25.2613404574476,
          26.6043970865929,
          23.9012254198501,
          26.6043970865929,
          25.1163756535507,
          24.5624980772967,
          26.2906779551778,
          25.5118625631704,
          27.3071785072732,
          25.4911941530558,
          28.4648706985389,
          44.1938972894349,
          42.4837867455681,
          42.0456877355478,
          39.3979996982628,
          48.0718286145194,
          41.1132935461217,
          42.3910845061069,
          42.4373030532155,
          41.1636659317207,
          39.5418790412924,
          36.2530920708973,
          47.1797264533429,
          42.8241705813977,
          47.4195477257838,
          42.6738546535303,
          40.8117332474545,
          40.8117332474545,
          30.1840496277662,
          45.225057421192,
          42.0855983474224,
          45.0447296887976,
          41.2991318069766,
          42.0855983474224,
          44.1938972894349,
          39.7721931988325,
          41.2277934251359,
          26.7214549234812,
          41.731004452092,
          41.4356030839429,
          41.9335986680478,
          41.731004452092,
          44.9123574039325,
          38.9062288085076,
          39.4618887677589,
          44.94276261069,
          45.225057421192,
          30.337867067131,
          34.1158800173778,
          33.2438512415236,
          24.8191838774997,
          25.3273949494084,
          24.7404336027097,
          26.5524484128379,
          22.4401682007591,
          24.7309629996696,
          40.8728726505455,
          37.1619458492615,
          34.4331292329158,
          38.8472233242208,
          37.1619458492615,
          36.2386704251221,
          37.1619458492615,
          39.6185562549532,
          38.7688632184577,
          36.3701623482151,
          35.6466085210516,
          36.1809079116862,
          34.4426965105844,
          37.0695516779388,
          36.4027637763017,
          37.6995596003739,
          37.2716297983402,
          30.519625064933,
          31.5964490346549,
          29.6786395372662,
          33.1758689072122,
          36.9570550917137,
          33.895301219797,
          32.0725083503386,
          31.5238744728028,
          36.0508254498238,
          37.0310667786613,
          35.04924284138,
          31.970943798786,
          35.5976085820681,
          31.970943798786,
          33.1758689072122,
          33.895301219797,
          37.2471738280874,
          46.2994997326982,
          44.8210059349181,
          42.6330024582756,
          48.2004216098889,
          43.9641872160068,
          43.1690866941177,
          46.5253781436115,
          41.1035181447023,
          42.3832308501615,
          45.5347812691566,
          47.5938699909079,
          42.4328507244206,
          45.5347812691566,
          44.502030735523,
          39.1990040868556,
          40.7101431108776,
          41.740759878373,
          47.7813205512687,
          31.7130727755515,
          30.5030606976759,
          36.7196380515146,
          30.7048416246552,
          30.7048416246552,
          30.0960386005061,
          null,
          30.776182708414,
          30.7048416246552,
          36.2901223822369,
          30.7048416246552,
          36.2901223822369,
          31.4626920865737,
          30.1343287990793,
          33.2354915862695,
          35.2447956960079,
          31.7130727755515,
          30.5030606976759,
          37.130187576849,
          30.9197139712988,
          33.133035541475,
          31.6288127395609,
          30.9197139712988,
          32.6949312280407,
          44.8479608718055,
          30.6318654909946,
          32.6949312280407,
          33.762745578655,
          33.762745578655,
          46.7228569022045,
          49.3358155852641,
          34.0509797044485,
          31.26507522694,
          45.2332251373732,
          31.5806770213369,
          30.6318654909946,
          31.882258054001,
          35.2822288213874,
          36.9349491021189,
          35.7269906034359,
          35.9033176949188,
          36.9349491021189,
          34.0762631693848,
          36.9349491021189,
          35.9748918969001,
          32.434807763834,
          36.0475928025947,
          36.1774331860136,
          34.4955017883805,
          32.2362503376556,
          34.4533795701175,
          37.1929499072356,
          37.458043626093,
          35.4578973954127,
          35.9033176949188,
          43.3382600092971,
          41.5551480207491,
          39.4133185497964,
          41.7374117991004,
          40.0264575474078,
          43.3382600092971,
          42.3418756291314,
          42.3418756291314,
          42.7805981987576,
          40.2990724966875,
          42.3418756291314,
          40.0264575474078,
          41.4147515234975,
          41.5551480207491,
          25.5793335735965,
          24.7806826032887,
          27.3390305346907,
          28.7286018576877,
          27.8518729237494,
          29.1681409136213,
          25.5384333882392,
          38.6876054865309,
          39.0339802296398,
          38.4715504332424,
          37.7136995885112,
          36.6302235217293,
          36.7421703123501,
          38.3091800411655,
          37.5826557755896,
          37.1170463904707,
          39.9058432343221,
          38.2210079629495,
          37.5826557755896,
          42.7955554427815,
          36.8456791418903,
          39.0003964214287,
          38.1782404899762,
          41.6427650294229,
          38.1782404899762,
          37.8047873334434,
          32.9640114674918,
          34.293692182248,
          33.3259292567571,
          33.478431548487,
          33.3259292567571,
          null,
          26.1784831243038,
          22.6554638043029,
          25.9423964373288,
          21.7340135916039,
          24.4227612804479,
          30.126115691012,
          null,
          33.3516280245235,
          40.1245169368357,
          40.1245169368357
         ],
         "xaxis": "x",
         "y": [
          3060,
          1,
          3000,
          2550,
          1740,
          1860,
          2970,
          3960,
          155,
          3621,
          0,
          1322,
          60,
          19,
          0,
          21,
          196,
          840,
          935,
          1260,
          619,
          150,
          762,
          0,
          660,
          1,
          2700,
          1,
          4921,
          95,
          251,
          4125,
          2550,
          1200,
          310,
          2818,
          5054,
          136,
          528,
          150,
          46,
          1,
          1920,
          32,
          135,
          3000,
          32,
          960,
          44,
          1605,
          4410,
          388,
          480,
          1219,
          90,
          538,
          104,
          60,
          1272,
          60,
          1,
          1000,
          3090,
          6510,
          5820,
          1078,
          1513,
          4830,
          3051,
          4200,
          2085,
          5730,
          4290,
          2670,
          3540,
          3637,
          1710,
          4320,
          3915,
          3120,
          4590,
          5034,
          3300,
          4320,
          1770,
          4080,
          5670,
          5700,
          1995,
          300,
          5115,
          2670,
          4338,
          761,
          5760,
          2820,
          4110,
          3360,
          3015,
          232,
          6420,
          5700,
          5610,
          270,
          4050,
          5865,
          1,
          2325,
          4170,
          4485,
          2694,
          168,
          5580,
          705,
          3494,
          4560,
          2760,
          5760,
          6030,
          4242,
          3120,
          5700,
          900,
          1046,
          3630,
          1260,
          5840,
          5790,
          2820,
          600,
          4259,
          2939,
          3600,
          1588,
          4260,
          2700,
          200,
          85,
          1019,
          420,
          1140,
          4458,
          373,
          1203,
          868,
          1455,
          206,
          1195,
          1559,
          900,
          2690,
          5115,
          5,
          189,
          2142,
          360,
          225,
          2340,
          480,
          480,
          3000,
          300,
          3020,
          766,
          1335,
          197,
          245,
          3255,
          1077,
          600,
          186,
          690,
          402,
          2420,
          327,
          1,
          1860,
          220,
          455,
          318,
          757,
          847,
          410,
          215,
          5,
          570,
          2655,
          1440,
          600,
          39,
          181,
          1185,
          1500,
          0,
          271,
          1860,
          1200,
          2159,
          6300,
          1620,
          224,
          70,
          1697,
          95,
          2220,
          1200,
          121,
          63,
          5595,
          1,
          557,
          240,
          3360,
          685,
          2280,
          210,
          167,
          1920,
          3569,
          3300,
          10,
          1560,
          840,
          240,
          990,
          6000,
          1282,
          1080,
          1320,
          1110,
          130,
          3040,
          394,
          45,
          1,
          1200,
          550,
          900,
          885,
          940,
          3050,
          1830,
          6000,
          1500,
          150,
          1955,
          2220,
          330,
          74,
          420,
          1440,
          255,
          1060,
          5250,
          4320,
          120,
          233,
          65,
          2120,
          96,
          3,
          4320,
          65,
          2146,
          96,
          4032,
          2580,
          6,
          569,
          0,
          200,
          1980,
          4045,
          2730,
          3314,
          1,
          47,
          1440,
          276,
          0,
          0,
          3646,
          1130,
          2880,
          513,
          35,
          10,
          3872,
          390,
          3264,
          1230,
          803,
          77,
          30,
          300,
          1,
          5,
          1450,
          2680,
          150,
          3000,
          420,
          479,
          1680,
          2700,
          149,
          1110,
          2790,
          659,
          1320,
          1830,
          3000,
          870,
          810,
          1336,
          1695,
          360,
          360,
          120,
          3000,
          1290,
          1530,
          2370,
          1200,
          1200,
          90,
          120,
          1200,
          2761,
          720,
          1120,
          2100,
          960,
          450,
          1440,
          1020,
          0,
          2010,
          120,
          1240,
          465,
          0,
          2460,
          1183,
          394,
          219,
          487,
          19,
          28,
          0,
          1,
          5340,
          467,
          0,
          1920,
          0,
          25,
          420,
          2040,
          0,
          1,
          1423,
          60,
          1620,
          3300,
          385,
          663,
          123,
          1276,
          1919,
          440,
          6690,
          0,
          717,
          1204,
          292,
          313,
          1,
          5,
          6276,
          0,
          74,
          0,
          248,
          1,
          2700,
          25,
          126,
          1,
          255,
          1207,
          0,
          0,
          245,
          476,
          1,
          2639,
          502,
          548,
          369,
          6480,
          15,
          5,
          1,
          0,
          432,
          21,
          1697,
          0,
          2615,
          3507,
          2820,
          314,
          5855,
          0,
          0,
          1,
          70,
          4285,
          355,
          0,
          2520,
          0,
          180,
          554,
          50,
          70,
          180,
          3842,
          35,
          1,
          189,
          4200,
          353,
          1,
          87,
          66,
          1,
          227,
          1440,
          1,
          2700,
          2,
          215,
          451,
          418,
          100,
          2021,
          1671,
          3938,
          4470,
          2279,
          4440,
          2760,
          0,
          1,
          0,
          1,
          1840,
          428,
          331,
          1980,
          1,
          1,
          1950,
          3037,
          1,
          1,
          1196,
          5628,
          1440,
          2,
          4232,
          95,
          2610,
          4320,
          17,
          113,
          0,
          2507,
          0,
          1,
          4920,
          1,
          4080,
          0,
          960,
          185,
          1320,
          1673,
          2855,
          3060,
          565,
          1,
          1,
          5790,
          3040,
          304,
          4517,
          0,
          3058,
          2865,
          152,
          380,
          5579,
          4800,
          3060,
          4792,
          3894,
          1757,
          2880,
          2985,
          164,
          3232,
          2319,
          4338,
          2880,
          1714,
          90,
          59,
          4139,
          6938,
          930,
          278,
          299,
          5320,
          2880,
          1,
          4260,
          6713,
          5160,
          1440,
          78,
          2668,
          1,
          376,
          1324,
          6940,
          2684,
          54,
          100,
          720,
          2880,
          3189,
          2790,
          2843,
          1642,
          1440,
          1,
          1680,
          1579,
          652,
          108,
          300,
          1020,
          3570,
          6492,
          0,
          120,
          1,
          1,
          1,
          1,
          1,
          1,
          60,
          113,
          204,
          31,
          57,
          13,
          2,
          11,
          283,
          0,
          1,
          871,
          1631,
          56,
          15,
          15,
          20,
          60,
          1,
          95,
          300,
          1,
          3186,
          575,
          2275,
          15,
          1,
          44,
          21,
          1,
          114,
          1,
          60,
          4920,
          4920,
          420,
          0,
          7,
          21,
          340,
          4200,
          805,
          5040,
          5490,
          165,
          3630,
          1590,
          3137,
          1440,
          360,
          0,
          1440,
          1372,
          6480,
          2190,
          285,
          75,
          1843,
          1,
          1420,
          0,
          930,
          0,
          352,
          0,
          960,
          1733,
          3690,
          634,
          1440,
          180,
          1574,
          45,
          563,
          388,
          373,
          4510,
          290,
          1950,
          270,
          1355,
          1318,
          2490,
          1265,
          195,
          3120,
          3388,
          1025,
          990,
          240,
          1485,
          129,
          0,
          1528,
          1890,
          2551,
          985,
          405,
          1698,
          167,
          1460,
          182,
          4113,
          885,
          15,
          42,
          1050,
          1,
          132,
          4140,
          2880,
          3599,
          0,
          2941,
          6090,
          1365,
          375,
          2520,
          76,
          0,
          3720,
          333,
          0,
          353,
          0,
          0,
          7020,
          3300,
          3339,
          2880,
          488,
          2415,
          180,
          4177,
          3480,
          6600,
          300,
          1526,
          60,
          210,
          2,
          1350,
          73,
          1,
          200,
          0,
          4380,
          0,
          120,
          2680,
          840,
          989,
          4313,
          214,
          4,
          164,
          91,
          1050,
          838,
          60,
          1,
          1,
          2425,
          390,
          6660,
          159,
          54,
          30,
          855,
          65,
          810,
          4150,
          4740,
          25,
          0,
          2070,
          870,
          2880,
          120,
          1199,
          1470,
          4140,
          50,
          0,
          1,
          1,
          0,
          0,
          0,
          457,
          1,
          1,
          0,
          30,
          1,
          1,
          65,
          1,
          0,
          0,
          0,
          1,
          1,
          0,
          1,
          1,
          110,
          39,
          1,
          1,
          1,
          1,
          1,
          1,
          507,
          213,
          4254,
          1,
          1,
          53,
          0,
          0,
          251,
          347,
          1637,
          2161,
          2880,
          1044,
          56,
          93,
          13,
          2089,
          2880,
          681,
          494,
          1,
          5355,
          0,
          3943,
          3300,
          191,
          0,
          73,
          4680,
          1,
          5,
          2515,
          2730,
          5400,
          30,
          3584,
          3600,
          5850,
          4710,
          1,
          1732,
          0,
          1800,
          6074,
          49,
          2299,
          5760,
          420,
          2880,
          448,
          2520,
          5513,
          21,
          2100,
          3120,
          3240,
          2880,
          255,
          2355,
          161,
          50,
          258,
          0,
          300,
          2400,
          48,
          300,
          2775,
          2775,
          2160,
          2100,
          2775,
          3180,
          2775,
          1440,
          430,
          2129,
          1755,
          692,
          732,
          7,
          510,
          420,
          557,
          300,
          6240,
          467,
          3067,
          3060,
          355,
          430,
          300,
          227,
          52,
          2880,
          1867,
          1690,
          295,
          17,
          240,
          182,
          5820,
          83,
          230,
          2009,
          720,
          155,
          4320,
          4320,
          480,
          1005,
          221,
          372,
          4320,
          91,
          1419,
          3600,
          5071,
          152,
          6840,
          221,
          38,
          61,
          90,
          396,
          2040,
          1080,
          1680,
          1099,
          2460,
          540,
          52,
          816,
          420,
          155,
          437,
          247,
          540,
          1135,
          437,
          180,
          171,
          656,
          84,
          202,
          255,
          1054,
          1,
          1254,
          1456,
          177,
          106,
          32,
          2464,
          55,
          144,
          70,
          64,
          945,
          523,
          56,
          3,
          155,
          33,
          749,
          159,
          270,
          2790,
          224,
          1470,
          334,
          2050,
          370,
          26,
          797,
          12,
          195,
          1,
          230,
          125,
          15,
          316,
          365,
          1560,
          4740,
          294,
          455,
          2878,
          336,
          295,
          480,
          25,
          223,
          2645,
          2016,
          360,
          3408,
          3698,
          4890,
          1,
          871,
          2759,
          250,
          3301,
          249,
          164,
          435,
          420,
          854,
          5160,
          133,
          2055,
          451,
          140,
          199,
          721,
          179,
          1524,
          78,
          268,
          39,
          1,
          47,
          161,
          900,
          6070,
          697,
          234,
          14,
          5910,
          40,
          166,
          182,
          829,
          15,
          64,
          13,
          245,
          1080,
          390,
          47,
          269,
          400,
          660,
          213,
          761,
          180,
          124,
          4320,
          2820,
          3100,
          989,
          125,
          44,
          26,
          245,
          98,
          1,
          0,
          135,
          50,
          1008,
          53,
          554,
          1260,
          2895,
          89,
          98,
          865,
          128,
          230,
          252,
          130,
          5,
          157,
          6914,
          11,
          13,
          2880,
          270,
          962,
          47,
          20,
          108,
          75,
          17,
          21,
          1950,
          141,
          959,
          1035,
          617,
          1230,
          572,
          324,
          1835,
          6780,
          900,
          37,
          72,
          1,
          251,
          620,
          89,
          909,
          236,
          326,
          300,
          751,
          122,
          214,
          193,
          8,
          5227,
          1414,
          448,
          4605,
          4080,
          1914,
          759,
          1,
          3,
          2700,
          105,
          240,
          210,
          1,
          1201,
          30,
          2806,
          1226,
          300,
          206,
          270,
          2880,
          513,
          3314,
          414,
          126,
          60,
          285,
          110,
          62,
          2363,
          424,
          180,
          0,
          448,
          2,
          624,
          2435,
          131,
          208,
          103,
          1355,
          1523,
          90,
          1205,
          385,
          144,
          235,
          241,
          6787,
          1337,
          1673,
          3366,
          2640,
          1826,
          570,
          1565,
          2691,
          1072,
          115,
          816,
          168,
          30,
          160,
          485,
          1508,
          1301,
          159,
          60,
          4,
          106,
          0,
          0,
          1,
          32,
          61,
          314,
          30,
          0,
          92,
          390,
          161,
          60,
          76,
          1,
          1,
          160,
          20,
          1,
          1,
          70,
          50,
          15,
          810,
          1380,
          1800,
          1560,
          2054,
          1452,
          1865,
          1999,
          120,
          1950,
          360,
          1087,
          1200,
          4122,
          360,
          645,
          108,
          0,
          1,
          1440,
          4560,
          1,
          1,
          110,
          210,
          120,
          0,
          4260,
          76,
          210,
          3305,
          5880,
          145,
          60,
          2640,
          1042,
          110,
          2245,
          984,
          1381,
          148,
          796,
          300,
          2612,
          3000,
          431,
          5310,
          1732,
          0,
          6685,
          3300,
          280,
          117,
          2895,
          480,
          31,
          1,
          0,
          0,
          103,
          4745,
          307,
          1656,
          3525,
          374,
          1068,
          1569,
          114,
          115,
          15,
          2891,
          1,
          1676,
          0,
          0,
          3604,
          195,
          1,
          0,
          2108,
          198,
          3667,
          1037,
          673,
          2652,
          300,
          881,
          618,
          1187,
          950,
          2535,
          27,
          108,
          73,
          200,
          5,
          75,
          0,
          77,
          660,
          0,
          92,
          30,
          33,
          1895,
          274,
          1,
          1534,
          1,
          60,
          108,
          2,
          175,
          2040,
          2710,
          284,
          105,
          4019,
          1,
          391,
          439,
          5,
          201,
          2140,
          103,
          187,
          1406,
          348,
          90,
          913,
          1367,
          174,
          543,
          237,
          1906,
          224,
          0,
          95,
          360,
          1548,
          870,
          0,
          220,
          720,
          59,
          181
         ],
         "yaxis": "y"
        }
       ],
       "layout": {
        "legend": {
         "tracegroupgap": 0
        },
        "template": {
         "data": {
          "bar": [
           {
            "error_x": {
             "color": "#2a3f5f"
            },
            "error_y": {
             "color": "#2a3f5f"
            },
            "marker": {
             "line": {
              "color": "#E5ECF6",
              "width": 0.5
             },
             "pattern": {
              "fillmode": "overlay",
              "size": 10,
              "solidity": 0.2
             }
            },
            "type": "bar"
           }
          ],
          "barpolar": [
           {
            "marker": {
             "line": {
              "color": "#E5ECF6",
              "width": 0.5
             },
             "pattern": {
              "fillmode": "overlay",
              "size": 10,
              "solidity": 0.2
             }
            },
            "type": "barpolar"
           }
          ],
          "carpet": [
           {
            "aaxis": {
             "endlinecolor": "#2a3f5f",
             "gridcolor": "white",
             "linecolor": "white",
             "minorgridcolor": "white",
             "startlinecolor": "#2a3f5f"
            },
            "baxis": {
             "endlinecolor": "#2a3f5f",
             "gridcolor": "white",
             "linecolor": "white",
             "minorgridcolor": "white",
             "startlinecolor": "#2a3f5f"
            },
            "type": "carpet"
           }
          ],
          "choropleth": [
           {
            "colorbar": {
             "outlinewidth": 0,
             "ticks": ""
            },
            "type": "choropleth"
           }
          ],
          "contour": [
           {
            "colorbar": {
             "outlinewidth": 0,
             "ticks": ""
            },
            "colorscale": [
             [
              0,
              "#0d0887"
             ],
             [
              0.1111111111111111,
              "#46039f"
             ],
             [
              0.2222222222222222,
              "#7201a8"
             ],
             [
              0.3333333333333333,
              "#9c179e"
             ],
             [
              0.4444444444444444,
              "#bd3786"
             ],
             [
              0.5555555555555556,
              "#d8576b"
             ],
             [
              0.6666666666666666,
              "#ed7953"
             ],
             [
              0.7777777777777778,
              "#fb9f3a"
             ],
             [
              0.8888888888888888,
              "#fdca26"
             ],
             [
              1,
              "#f0f921"
             ]
            ],
            "type": "contour"
           }
          ],
          "contourcarpet": [
           {
            "colorbar": {
             "outlinewidth": 0,
             "ticks": ""
            },
            "type": "contourcarpet"
           }
          ],
          "heatmap": [
           {
            "colorbar": {
             "outlinewidth": 0,
             "ticks": ""
            },
            "colorscale": [
             [
              0,
              "#0d0887"
             ],
             [
              0.1111111111111111,
              "#46039f"
             ],
             [
              0.2222222222222222,
              "#7201a8"
             ],
             [
              0.3333333333333333,
              "#9c179e"
             ],
             [
              0.4444444444444444,
              "#bd3786"
             ],
             [
              0.5555555555555556,
              "#d8576b"
             ],
             [
              0.6666666666666666,
              "#ed7953"
             ],
             [
              0.7777777777777778,
              "#fb9f3a"
             ],
             [
              0.8888888888888888,
              "#fdca26"
             ],
             [
              1,
              "#f0f921"
             ]
            ],
            "type": "heatmap"
           }
          ],
          "heatmapgl": [
           {
            "colorbar": {
             "outlinewidth": 0,
             "ticks": ""
            },
            "colorscale": [
             [
              0,
              "#0d0887"
             ],
             [
              0.1111111111111111,
              "#46039f"
             ],
             [
              0.2222222222222222,
              "#7201a8"
             ],
             [
              0.3333333333333333,
              "#9c179e"
             ],
             [
              0.4444444444444444,
              "#bd3786"
             ],
             [
              0.5555555555555556,
              "#d8576b"
             ],
             [
              0.6666666666666666,
              "#ed7953"
             ],
             [
              0.7777777777777778,
              "#fb9f3a"
             ],
             [
              0.8888888888888888,
              "#fdca26"
             ],
             [
              1,
              "#f0f921"
             ]
            ],
            "type": "heatmapgl"
           }
          ],
          "histogram": [
           {
            "marker": {
             "pattern": {
              "fillmode": "overlay",
              "size": 10,
              "solidity": 0.2
             }
            },
            "type": "histogram"
           }
          ],
          "histogram2d": [
           {
            "colorbar": {
             "outlinewidth": 0,
             "ticks": ""
            },
            "colorscale": [
             [
              0,
              "#0d0887"
             ],
             [
              0.1111111111111111,
              "#46039f"
             ],
             [
              0.2222222222222222,
              "#7201a8"
             ],
             [
              0.3333333333333333,
              "#9c179e"
             ],
             [
              0.4444444444444444,
              "#bd3786"
             ],
             [
              0.5555555555555556,
              "#d8576b"
             ],
             [
              0.6666666666666666,
              "#ed7953"
             ],
             [
              0.7777777777777778,
              "#fb9f3a"
             ],
             [
              0.8888888888888888,
              "#fdca26"
             ],
             [
              1,
              "#f0f921"
             ]
            ],
            "type": "histogram2d"
           }
          ],
          "histogram2dcontour": [
           {
            "colorbar": {
             "outlinewidth": 0,
             "ticks": ""
            },
            "colorscale": [
             [
              0,
              "#0d0887"
             ],
             [
              0.1111111111111111,
              "#46039f"
             ],
             [
              0.2222222222222222,
              "#7201a8"
             ],
             [
              0.3333333333333333,
              "#9c179e"
             ],
             [
              0.4444444444444444,
              "#bd3786"
             ],
             [
              0.5555555555555556,
              "#d8576b"
             ],
             [
              0.6666666666666666,
              "#ed7953"
             ],
             [
              0.7777777777777778,
              "#fb9f3a"
             ],
             [
              0.8888888888888888,
              "#fdca26"
             ],
             [
              1,
              "#f0f921"
             ]
            ],
            "type": "histogram2dcontour"
           }
          ],
          "mesh3d": [
           {
            "colorbar": {
             "outlinewidth": 0,
             "ticks": ""
            },
            "type": "mesh3d"
           }
          ],
          "parcoords": [
           {
            "line": {
             "colorbar": {
              "outlinewidth": 0,
              "ticks": ""
             }
            },
            "type": "parcoords"
           }
          ],
          "pie": [
           {
            "automargin": true,
            "type": "pie"
           }
          ],
          "scatter": [
           {
            "fillpattern": {
             "fillmode": "overlay",
             "size": 10,
             "solidity": 0.2
            },
            "type": "scatter"
           }
          ],
          "scatter3d": [
           {
            "line": {
             "colorbar": {
              "outlinewidth": 0,
              "ticks": ""
             }
            },
            "marker": {
             "colorbar": {
              "outlinewidth": 0,
              "ticks": ""
             }
            },
            "type": "scatter3d"
           }
          ],
          "scattercarpet": [
           {
            "marker": {
             "colorbar": {
              "outlinewidth": 0,
              "ticks": ""
             }
            },
            "type": "scattercarpet"
           }
          ],
          "scattergeo": [
           {
            "marker": {
             "colorbar": {
              "outlinewidth": 0,
              "ticks": ""
             }
            },
            "type": "scattergeo"
           }
          ],
          "scattergl": [
           {
            "marker": {
             "colorbar": {
              "outlinewidth": 0,
              "ticks": ""
             }
            },
            "type": "scattergl"
           }
          ],
          "scattermapbox": [
           {
            "marker": {
             "colorbar": {
              "outlinewidth": 0,
              "ticks": ""
             }
            },
            "type": "scattermapbox"
           }
          ],
          "scatterpolar": [
           {
            "marker": {
             "colorbar": {
              "outlinewidth": 0,
              "ticks": ""
             }
            },
            "type": "scatterpolar"
           }
          ],
          "scatterpolargl": [
           {
            "marker": {
             "colorbar": {
              "outlinewidth": 0,
              "ticks": ""
             }
            },
            "type": "scatterpolargl"
           }
          ],
          "scatterternary": [
           {
            "marker": {
             "colorbar": {
              "outlinewidth": 0,
              "ticks": ""
             }
            },
            "type": "scatterternary"
           }
          ],
          "surface": [
           {
            "colorbar": {
             "outlinewidth": 0,
             "ticks": ""
            },
            "colorscale": [
             [
              0,
              "#0d0887"
             ],
             [
              0.1111111111111111,
              "#46039f"
             ],
             [
              0.2222222222222222,
              "#7201a8"
             ],
             [
              0.3333333333333333,
              "#9c179e"
             ],
             [
              0.4444444444444444,
              "#bd3786"
             ],
             [
              0.5555555555555556,
              "#d8576b"
             ],
             [
              0.6666666666666666,
              "#ed7953"
             ],
             [
              0.7777777777777778,
              "#fb9f3a"
             ],
             [
              0.8888888888888888,
              "#fdca26"
             ],
             [
              1,
              "#f0f921"
             ]
            ],
            "type": "surface"
           }
          ],
          "table": [
           {
            "cells": {
             "fill": {
              "color": "#EBF0F8"
             },
             "line": {
              "color": "white"
             }
            },
            "header": {
             "fill": {
              "color": "#C8D4E3"
             },
             "line": {
              "color": "white"
             }
            },
            "type": "table"
           }
          ]
         },
         "layout": {
          "annotationdefaults": {
           "arrowcolor": "#2a3f5f",
           "arrowhead": 0,
           "arrowwidth": 1
          },
          "autotypenumbers": "strict",
          "coloraxis": {
           "colorbar": {
            "outlinewidth": 0,
            "ticks": ""
           }
          },
          "colorscale": {
           "diverging": [
            [
             0,
             "#8e0152"
            ],
            [
             0.1,
             "#c51b7d"
            ],
            [
             0.2,
             "#de77ae"
            ],
            [
             0.3,
             "#f1b6da"
            ],
            [
             0.4,
             "#fde0ef"
            ],
            [
             0.5,
             "#f7f7f7"
            ],
            [
             0.6,
             "#e6f5d0"
            ],
            [
             0.7,
             "#b8e186"
            ],
            [
             0.8,
             "#7fbc41"
            ],
            [
             0.9,
             "#4d9221"
            ],
            [
             1,
             "#276419"
            ]
           ],
           "sequential": [
            [
             0,
             "#0d0887"
            ],
            [
             0.1111111111111111,
             "#46039f"
            ],
            [
             0.2222222222222222,
             "#7201a8"
            ],
            [
             0.3333333333333333,
             "#9c179e"
            ],
            [
             0.4444444444444444,
             "#bd3786"
            ],
            [
             0.5555555555555556,
             "#d8576b"
            ],
            [
             0.6666666666666666,
             "#ed7953"
            ],
            [
             0.7777777777777778,
             "#fb9f3a"
            ],
            [
             0.8888888888888888,
             "#fdca26"
            ],
            [
             1,
             "#f0f921"
            ]
           ],
           "sequentialminus": [
            [
             0,
             "#0d0887"
            ],
            [
             0.1111111111111111,
             "#46039f"
            ],
            [
             0.2222222222222222,
             "#7201a8"
            ],
            [
             0.3333333333333333,
             "#9c179e"
            ],
            [
             0.4444444444444444,
             "#bd3786"
            ],
            [
             0.5555555555555556,
             "#d8576b"
            ],
            [
             0.6666666666666666,
             "#ed7953"
            ],
            [
             0.7777777777777778,
             "#fb9f3a"
            ],
            [
             0.8888888888888888,
             "#fdca26"
            ],
            [
             1,
             "#f0f921"
            ]
           ]
          },
          "colorway": [
           "#636efa",
           "#EF553B",
           "#00cc96",
           "#ab63fa",
           "#FFA15A",
           "#19d3f3",
           "#FF6692",
           "#B6E880",
           "#FF97FF",
           "#FECB52"
          ],
          "font": {
           "color": "#2a3f5f"
          },
          "geo": {
           "bgcolor": "white",
           "lakecolor": "white",
           "landcolor": "#E5ECF6",
           "showlakes": true,
           "showland": true,
           "subunitcolor": "white"
          },
          "hoverlabel": {
           "align": "left"
          },
          "hovermode": "closest",
          "mapbox": {
           "style": "light"
          },
          "paper_bgcolor": "white",
          "plot_bgcolor": "#E5ECF6",
          "polar": {
           "angularaxis": {
            "gridcolor": "white",
            "linecolor": "white",
            "ticks": ""
           },
           "bgcolor": "#E5ECF6",
           "radialaxis": {
            "gridcolor": "white",
            "linecolor": "white",
            "ticks": ""
           }
          },
          "scene": {
           "xaxis": {
            "backgroundcolor": "#E5ECF6",
            "gridcolor": "white",
            "gridwidth": 2,
            "linecolor": "white",
            "showbackground": true,
            "ticks": "",
            "zerolinecolor": "white"
           },
           "yaxis": {
            "backgroundcolor": "#E5ECF6",
            "gridcolor": "white",
            "gridwidth": 2,
            "linecolor": "white",
            "showbackground": true,
            "ticks": "",
            "zerolinecolor": "white"
           },
           "zaxis": {
            "backgroundcolor": "#E5ECF6",
            "gridcolor": "white",
            "gridwidth": 2,
            "linecolor": "white",
            "showbackground": true,
            "ticks": "",
            "zerolinecolor": "white"
           }
          },
          "shapedefaults": {
           "line": {
            "color": "#2a3f5f"
           }
          },
          "ternary": {
           "aaxis": {
            "gridcolor": "white",
            "linecolor": "white",
            "ticks": ""
           },
           "baxis": {
            "gridcolor": "white",
            "linecolor": "white",
            "ticks": ""
           },
           "bgcolor": "#E5ECF6",
           "caxis": {
            "gridcolor": "white",
            "linecolor": "white",
            "ticks": ""
           }
          },
          "title": {
           "x": 0.05
          },
          "xaxis": {
           "automargin": true,
           "gridcolor": "white",
           "linecolor": "white",
           "ticks": "",
           "title": {
            "standoff": 15
           },
           "zerolinecolor": "white",
           "zerolinewidth": 2
          },
          "yaxis": {
           "automargin": true,
           "gridcolor": "white",
           "linecolor": "white",
           "ticks": "",
           "title": {
            "standoff": 15
           },
           "zerolinecolor": "white",
           "zerolinewidth": 2
          }
         }
        },
        "title": {
         "text": "COM.PERCEN"
        },
        "xaxis": {
         "anchor": "y",
         "domain": [
          0,
          1
         ],
         "title": {
          "text": "COM.PERCEN"
         }
        },
        "yaxis": {
         "anchor": "x",
         "domain": [
          0,
          1
         ],
         "title": {
          "text": "OUTAGE.DURATION"
         }
        }
       }
      },
      "text/html": [
       "<div>                            <div id=\"9ff831ca-5513-49c7-8f12-a9995e18e01b\" class=\"plotly-graph-div\" style=\"height:525px; width:100%;\"></div>            <script type=\"text/javascript\">                require([\"plotly\"], function(Plotly) {                    window.PLOTLYENV=window.PLOTLYENV || {};                                    if (document.getElementById(\"9ff831ca-5513-49c7-8f12-a9995e18e01b\")) {                    Plotly.newPlot(                        \"9ff831ca-5513-49c7-8f12-a9995e18e01b\",                        [{\"hovertemplate\":\"COM.PERCEN=%{x}\\u003cbr\\u003eOUTAGE.DURATION=%{y}\\u003cextra\\u003e\\u003c\\u002fextra\\u003e\",\"legendgroup\":\"\",\"marker\":{\"color\":\"#636efa\",\"symbol\":\"circle\"},\"mode\":\"markers\",\"name\":\"\",\"showlegend\":false,\"x\":[32.2250294094342,34.2103893641289,34.5010145312743,33.5433304349148,36.2058502875632,33.2358419470986,32.9545007125563,34.5152864967584,34.9472433719809,34.5151404273935,32.2250294094342,33.6483699902787,34.7290392501139,36.2519109905233,28.9400553992177,36.2519109905233,30.1371616997945,25.7190192542597,30.6708487801665,28.705671100337,34.2756973023521,29.7560962328058,30.1679999839113,30.4298648800873,30.1371616997945,35.2526646406569,30.0394746073772,35.2526646406569,30.1371616997945,36.979628597513,30.50752275678,35.2526646406569,30.1371616997945,29.7560962328058,30.9028568674444,31.3760619147533,30.1371616997945,31.8146215104667,31.4305045913854,29.7560962328058,30.1371616997945,35.2526646406569,29.7560962328058,26.7444258059496,32.4279276000317,32.2210725124776,34.7040348993135,30.0092328494247,32.4279276000317,33.0597278312391,32.8319660721915,33.1791872748067,34.57679758193,29.7531096912472,32.4279276000317,34.9582375660601,34.7040348993135,32.4279276000317,34.7040348993135,32.4279276000317,21.3785009887792,27.1325111407292,38.3449398770036,36.0053828383207,31.494088400888,37.175365820085,36.9946429173078,36.6876515679888,32.9578406266009,31.4079674425782,38.3449398770036,35.6553834768603,36.4529210549831,36.6228828331894,38.2697893645639,35.4546159470796,38.0738118006173,36.6876515679888,39.1657544349794,37.6952971238798,40.3450978305243,36.0321412462238,32.3754030848773,37.3798026557725,36.0956761049608,39.9998276195486,38.2697893645639,36.3089314154905,37.3927712269182,null,35.8067511950095,34.8866330238023,39.0478871864487,32.4242630655791,36.0321412462238,39.5406249098583,33.4216513670778,37.1613251622088,36.7985835362657,38.322682006948,34.8863205566472,38.5130553051969,35.8676218616449,38.6366991378504,36.6228828331894,37.175365820085,36.6228828331894,36.4529210549831,31.4077235431342,34.9717159033473,32.9578406266009,36.2882767276321,36.3010425574645,35.8067511950095,37.4315932176357,36.3089314154905,37.4346423978147,37.8845933561389,36.3652479088798,35.6584916799158,37.6344218095789,31.494088400888,35.7901635078524,34.6682585649015,36.2805481317942,37.175365820085,37.1613251622088,35.8092005498669,37.3927712269182,35.6553834768603,40.3450978305243,37.5787043314357,33.2993219425296,38.5130553051969,36.3652479088798,37.1206398646604,38.3449398770036,37.175365820085,39.6171353396691,38.605254272632,36.3010425574645,36.7563845463499,34.7757114424801,31.8624685635545,31.8624685635545,null,34.784056698064,34.1810820244328,33.4887264359318,32.8114934998351,39.5743690210145,37.8017911546167,36.221602364486,32.6104282436953,33.4064678459387,33.4064678459387,34.8067268823168,31.2610974012337,32.256485865258,28.0181716092002,36.6179725796585,37.0983180699936,39.5743690210145,32.1931669948784,32.7447572150812,32.7447572150812,32.6104282436953,37.0209020795548,36.1057732418736,30.6982779033964,30.4839216605889,32.5959362058224,34.1810820244328,37.7280660384949,31.8624685635545,33.7118320737359,36.886830948238,34.1810820244328,37.7280660384949,31.2610974012337,30.6164292417747,31.6801080115841,34.7380606934107,32.5542409234123,38.0525184051053,33.110900483163,null,39.0116682226116,34.9900765518363,30.5183398189169,35.0083585296954,38.0525184051053,32.5542409234123,34.7380606934107,34.3609915066523,34.7457772355125,33.4875307611204,28.0181716092002,32.8675449155811,32.7280931814166,33.8840940666069,27.092617375525,31.8624685635545,32.6104282436953,35.3511168499501,32.0880606322447,32.6104282436953,34.7757114424801,33.3531272435964,35.8078560697113,36.3029384053807,33.4875307611204,32.7731874226959,33.7294395050924,35.1637767058114,32.6962785127088,27.8530627122624,36.0154697234495,32.0629161171721,39.5743690210145,31.8174948481109,32.6962785127088,37.8988184938762,32.5542409234123,34.1810820244328,32.7447572150812,37.0983180699936,37.9697456302869,37.8017911546167,34.3404574429964,32.6104282436953,37.8017911546167,33.4875307611204,33.4887264359318,36.221602364486,30.8839563230619,34.7757114424801,32.6104282436953,34.9928880223943,32.4699688186092,38.0525184051053,33.4157693608482,33.8840940666069,34.4781897411822,32.0752331100043,34.8067268823168,33.0117227984144,32.6962785127088,36.1057732418736,34.3404574429964,27.2917803727376,34.28650496358,23.4134159359872,23.2010226391556,22.772387428487,24.2103703908684,23.9715046399253,22.1045698528776,21.9927481356905,23.6201156901546,23.4524872360099,22.772387428487,22.772387428487,23.4345963442498,23.9365063814479,22.772387428487,23.4524872360099,24.0194798104431,23.0762640123399,22.7964157519081,23.194107350126,24.3544646552126,22.1660259832148,23.9366469538665,24.0191850662783,23.6201156901546,23.5715535994264,23.0762640123399,23.5570439609083,23.194107350126,23.4345963442498,24.0191850662783,23.6737725087143,22.772387428487,24.3544646552126,21.9927481356905,23.6201156901546,23.5997478989038,26.2224718879458,21.5784040913957,23.08740073878,25.4603874450339,26.2757388411195,30.3423381064227,29.8821445985554,30.3440316640634,30.0407497917261,36.9171321118284,35.1169123035844,34.8360017133159,38.1714928566743,32.3473594768851,35.348760737088,37.8276064081659,35.1169123035844,34.7853968868201,35.4373070338883,35.7030311498762,36.816302234209,33.6308993657092,33.1285393130531,32.3473594768851,32.3473594768851,37.4329473843966,36.4295758048654,35.4373070338883,35.4151600710415,34.8332390511893,36.3328605709963,35.2182859498337,34.0823671417652,33.8015654861866,35.4060011032818,34.5407485450226,34.2051549227276,35.9939016163498,38.1134527067157,32.7056711838427,34.9685371296679,36.1387721427418,34.2814886761536,38.1714928566743,35.4151600710415,35.4373070338883,33.2951095944935,35.1565826719265,33.1285393130531,36.1387721427418,33.1285393130531,29.4193227029359,29.6648076752757,29.4193227029359,29.586182503454,28.2470559242813,33.6852285463565,30.9449176727302,30.9449176727302,34.026316916161,30.2626692769959,31.6770405665318,34.2895758694536,30.9068619910723,34.5308692958019,29.6648076752757,29.1006401826423,29.8780278077012,35.3780019529573,31.0876754291747,30.4805094266743,29.8780278077012,null,34.5308692958019,31.5644164955846,29.6648076752757,31.4115677837645,33.6852285463565,31.3535844304066,30.2546822033844,34.5308692958019,31.5972489860045,33.12500664664,31.8375970814608,33.12500664664,29.4193227029359,32.1388931720931,30.9449176727302,33.3032291590368,34.3997406637815,30.2626692769959,36.9425369056217,30.2100696068698,28.9911195149437,29.1006401826423,37.2432346759791,33.12500664664,32.2473980496642,29.4193227029359,30.2100696068698,34.5839997975818,33.7244292207662,34.5308692958019,31.6770405665318,31.6770405665318,34.5308692958019,34.1450244198157,32.7369818325879,33.1004972628563,30.9449176727302,34.0685824431975,33.6852285463565,32.8432637052792,32.2387054895703,34.3997406637815,29.6648076752757,29.1006401826423,29.6648076752757,36.2343461479673,34.5308692958019,31.6770405665318,30.9449176727302,31.8375970814608,33.1004972628563,33.12500664664,34.4335831252571,31.6770405665318,29.1006401826423,29.7985042093746,32.2387054895703,34.4022461472938,33.6852285463565,29.1006401826423,35.3264291379797,29.1006401826423,32.2884925324577,38.31065722529,41.0944181890128,41.0944181890128,39.5126946531131,35.8685698536603,36.7680984492852,43.0486874826899,37.3075941022255,40.3792307323634,39.9671253682627,37.8557467006907,37.8557467006907,34.1810285499276,35.4688793377699,39.443928273772,39.5126946531131,43.4995243885734,39.5126946531131,41.0944181890128,40.6632692385724,42.8522022006662,38.8176665055564,36.7680984492852,50.1133698966476,23.1356599787546,42.8956313296437,49.9824556935519,24.7457253911485,42.8956313296437,27.0410132494365,44.8643980238607,52.6587332422729,44.8741200820125,52.6587332422729,42.153978132365,51.966844010737,49.18388650253,47.0262082640573,52.6587332422729,46.7531969940467,23.8821674301587,44.8741200820125,48.7981890276254,45.4769985960104,42.153978132365,27.0410132494365,50.0354669457777,52.6587332422729,42.4983585187196,51.5667797461993,49.1458422293851,50.1133698966476,54.0136255367259,46.7531969940467,45.4769985960104,52.6587332422729,45.4769985960104,41.9960630285946,23.8821674301587,52.6587332422729,23.7087462617792,50.1133698966476,51.5667797461993,50.0354669457777,49.9824556935519,50.5660655021057,50.9459132121875,48.1307410474161,47.8957335705474,52.6587332422729,52.6587332422729,40.8481410917331,44.887295893754,50.6769008227189,27.0410132494365,44.8643980238607,31.1703291332296,32.505901478517,30.7287855354484,30.77752214111,32.0262530367432,32.9437718278554,32.2265109370245,33.7524901143209,29.3818089277802,32.4134854967431,29.4295717899847,29.4803113973601,28.9297241566126,33.7524901143209,29.5805120824473,31.0890186261229,30.754389180582,31.1631131957042,30.4217367764428,27.0674498117386,27.4817011740943,32.9422759021252,27.4817011740943,null,32.9422759021252,31.5794674867902,29.4295717899847,27.8104997953412,29.5746247306717,32.9422759021252,30.8263124345386,29.3818089277802,31.2872823506705,27.8104997953412,27.0674498117386,31.4871656557995,30.7287855354484,27.8104997953412,30.7072724738879,27.0674498117386,30.754389180582,29.5885284509056,29.4295717899847,29.3818089277802,29.5885284509056,30.754389180582,31.3074343392526,23.7122769333844,22.655658639515,19.4479364063429,22.9609438816417,22.840282175942,25.9610105936416,22.170188853407,18.9118165338154,19.2189672017669,19.2189672017669,36.6281921669197,39.5681632976318,38.2517112993835,35.8191083476379,35.8191083476379,35.0188371454977,35.9609352086194,39.1094197875828,37.2362837480851,39.1094197875828,39.2322310874874,39.5681632976318,35.2795509873358,35.9609352086194,35.0188371454977,36.7069333851233,35.6012477611073,37.2437530103776,35.8191083476379,36.4066343739697,34.5835357492538,36.7069333851233,38.1976322959382,35.0013850927922,37.9628359129863,40.4673076189982,37.598314643091,36.2312587638874,39.5557849001214,37.598314643091,37.782776205115,36.7069333851233,35.9082721520192,35.9797852296339,38.2517112993835,33.1502430402121,37.6326983317064,35.8191083476379,37.2437530103776,38.9111241751375,36.1849402553185,30.5336936220771,30.5336936220771,29.8844850102572,30.280385177676,33.071316520118,32.910888909458,30.3138334506205,31.0743907882597,27.5033068209663,32.2723822958135,30.280385177676,30.7645569116892,28.4747366574353,31.6507407946232,29.0318448326313,29.602486051416,30.6037801864215,28.7304384537695,27.2330850172731,30.7645569116892,29.1985324011945,30.4439826216244,32.910888909458,28.8863917305039,31.8825962655662,31.0097950785514,28.9264340858858,30.6037801864215,28.4747366574353,32.4357186708353,30.6037801864215,30.280385177676,32.0187573934939,28.9231870422851,30.3702719311913,28.7304384537695,35.4634850537374,36.1869629051303,38.1139462419278,32.7073424927404,34.023609893096,35.8876012335503,34.4170002765362,31.3614193572185,33.8856020976902,31.7611823554865,34.4170002765362,null,32.962595426894,30.908636613939,31.7306188722401,33.7619472928514,38.580182824399,30.0923032639602,38.8808939153022,36.9457546026167,32.9177938899732,37.4486216784257,33.8856020976902,39.5583045805479,35.718522771384,35.7469921549266,33.7619472928514,33.8256688982642,40.1774789320733,37.4486216784257,null,33.8735005684683,31.7306188722401,33.7619472928514,36.8499632062311,35.718522771384,35.8064429474796,33.8256688982642,50.0524852434472,49.9201403787602,49.7301255826016,47.7755653930451,51.3146858195702,55.0174498669369,46.0663849152961,48.7859222330168,50.8136807390078,50.0827912208551,47.7755653930451,51.1724047564451,50.0827912208551,47.9663959995613,48.7859222330168,54.3238472344212,49.1823410473246,55.0174498669369,50.0827912208551,48.3954761857557,53.3588593092753,46.3565862349826,47.7755653930451,25.2738640848066,27.7517084532289,24.986920524278,23.2500741160614,23.0933326066967,20.503214072079,24.986920524278,31.5590048827808,30.666834778385,33.8466600889568,33.9466631681462,36.079638224973,33.3226762585526,31.302053626655,30.0322607047609,31.8063188814903,31.1567921759145,36.293386481901,31.4581488373316,null,30.5767486280952,35.8134462252579,31.1567921759145,34.0685179660212,36.079638224973,36.293386481901,31.302053626655,31.1567921759145,36.1504366334369,36.6781095754029,31.4581488373316,36.3797543651426,73.9100659845468,75.6617541851481,73.058005560617,74.1558530513527,73.3299698380049,77.7218609284953,75.6617541851481,37.3733417023485,42.137294943167,33.9487274650815,33.9487274650815,32.5991356004722,36.9272951330998,35.660529065437,33.8627624108521,40.0816230959217,38.7398027281099,44.3735938012291,39.1373638517188,34.5646300122256,35.2029001261641,34.9471872768752,40.1160240796915,35.9773480402454,37.9861477938926,37.9965821592597,39.0493486571575,34.0302703451191,38.18823336342,36.4907354684095,34.5530285058506,38.1037648842832,38.5619859414323,34.0796498823706,33.2308156637364,34.8206601612668,36.1296492204585,37.9965821592597,37.9965821592597,35.2486718607399,38.18823336342,36.1296492204585,40.1160240796915,35.9773480402454,35.2486718607399,38.5619859414323,40.4915023148048,35.9773480402454,36.4907354684095,38.4954622399733,40.1160240796915,38.18823336342,null,40.9706644230956,40.5469603568915,38.4954622399733,39.2373672713638,34.5795605296349,34.0302703451191,34.9471872768752,26.1003306844706,26.8944696186914,25.4092926563471,27.2017328832,26.1003306844706,26.8944696186914,33.9853379443666,36.9996101747229,35.4897099759701,49.7917813154789,51.7138497854174,44.5107391386386,42.8840224254138,51.7138497854174,54.5005437028386,54.4614387503354,50.6253249469807,49.0669262812054,53.736246122797,51.2640228388548,53.736246122797,49.587108495055,52.8445399736317,53.5038190806329,52.8445399736317,50.1314888700264,53.4253500640064,54.4614387503354,51.8901389671222,51.0516945035636,53.318718955577,54.4882439385499,51.2640228388548,49.9177604623839,51.0516945035636,50.1314888700264,54.5005437028386,51.1694533477057,51.7138497854174,53.4208128926545,52.0226467380629,54.4614387503354,52.8429617940027,53.0864243399719,49.9177604623839,54.1139709634386,50.6867779768623,49.587108495055,52.4034305976813,51.7138497854174,51.8430522277006,50.1314888700264,51.5291538656902,54.4882439385499,53.7017803018826,54.3412605993231,51.0962260309157,50.2510811603106,51.1694533477057,28.7316637402123,28.3057442892836,28.3057442892836,27.9376535580204,29.3531021758743,28.3057442892836,29.2581878818135,28.3057442892836,28.0972056116093,28.4538365864698,26.581439502939,28.2909587276189,27.9376535580204,31.4759004285584,29.567079540726,29.8671276855654,32.8726768441242,28.4538365864698,28.7316637402123,26.1989925668365,28.4538365864698,28.1822598280654,28.1822598280654,30.0715901265352,28.4538365864698,28.7316637402123,29.226579610818,27.4691196248784,26.6215694436778,28.1822598280654,29.567079540726,29.3174380294355,42.2255665239584,38.6160877726689,42.1209478658752,38.9302182060875,43.406401032837,35.3130078892795,43.9472306491882,39.5772076191027,42.1209478658752,41.6927957958792,41.6927957958792,38.5221030241531,42.8599863831627,37.4488123880963,35.8623498387763,41.6927957958792,42.1209478658752,41.2465541753054,38.499027140588296,38.9302182060875,40.8944436706154,38.499027140588296,38.5221030241531,42.1209478658752,42.1209478658752,39.4567923612212,39.6998704865081,38.499027140588296,39.5772076191027,38.499027140588296,38.5221030241531,38.499027140588296,43.9472306491882,36.9709292461164,40.1661249935534,45.5574747881665,48.6340586504223,46.9457276947495,45.3411455409149,46.4576541252485,47.5254184243063,44.3991382640107,44.022745262455,45.442611968017,43.9285695255075,46.4874563239273,44.6119715149026,44.7424212550335,46.3283464700816,46.0887737097181,44.6059484633071,46.6220231891195,46.8245653025597,42.7390270690304,43.4356476754438,48.1457990267658,43.1700418132162,46.8245653025597,46.2615163157449,46.3218349386117,47.8755354580754,44.3991382640107,46.281537493525,46.4045374153122,48.2531882517519,47.2912152101174,45.1799302684207,47.6164376439189,45.1799302684207,48.2636241462957,47.5433248260719,44.5338553570266,48.3796542529474,45.394723925428,46.4576541252485,45.394723925428,45.394723925428,47.2786466221956,47.5254184243063,46.4532291559395,45.6696641328477,48.0292661095292,46.2904878915527,37.5089531562062,46.9457276947495,46.3218349386117,43.5433317730708,44.5338553570266,46.4532291559395,47.4537778847392,43.4368565495458,47.514437344449,42.7390270690304,47.4727163154098,46.0538804982134,45.174546911921,45.6467740624936,43.1700418132162,46.011048532104,47.5254184243063,46.011048532104,45.0549506562911,48.0293727142944,45.1670827328497,44.6119715149026,46.3015452105703,44.6119715149026,44.7424212550335,46.3218349386117,45.394723925428,48.7224537213021,44.0351231429371,46.6220231891195,35.714568546807,45.7531132406487,39.5430992560412,47.4403331347215,43.9473556930997,46.3283464700816,45.3345709261448,42.7390270690304,45.3345709261448,46.281537493525,46.0887737097181,41.5181881235799,48.2636241462957,49.2503969476947,44.5338553570266,47.4537778847392,45.8715578347641,47.5003987741563,43.9473556930997,48.0292661095292,43.1700418132162,48.2531882517519,45.1799302684207,45.0549506562911,46.0878454447425,47.7048925214923,48.9181759932876,45.7184968161818,48.0292661095292,46.7557274292331,46.3283464700816,48.4098093113099,46.7663190547591,46.6220231891195,47.8812399037177,44.022745262455,48.0481120938166,46.3592340877616,43.1293219800274,46.2818962721219,45.3411455409149,44.7402307474946,43.1700418132162,45.4045392382504,45.442611968017,47.514437344449,46.9814739417907,48.5769391951181,48.0527797173637,48.2324656148196,46.8245653025597,48.5769391951181,37.5089531562062,46.011048532104,47.4403331347215,45.2318297950476,45.394723925428,46.4045374153122,48.5769391951181,48.2531882517519,46.3283464700816,46.6220231891195,45.3345709261448,43.1700418132162,46.6220231891195,47.4403331347215,46.2818962721219,48.9181759932876,48.3222259878422,48.590903893209,46.7557274292331,47.5003987741563,39.5430992560412,39.5430992560412,48.590903893209,48.590903893209,44.8854076516816,37.5089531562062,48.590903893209,45.8715578347641,46.9814739417907,48.7224537213021,45.1670827328497,46.4576541252485,35.714568546807,43.1293219800274,48.4098093113099,48.590903893209,45.0549506562911,46.5156654400815,48.0527797173637,42.7390270690304,46.7962148830685,46.3915740856604,47.2786466221956,45.7184968161818,45.5574747881665,47.8812399037177,48.2324656148196,45.1799302684207,46.4104229322904,46.685637510621,48.0527797173637,47.2174074450195,46.2904878915527,46.3283464700816,45.0030277723969,43.9473556930997,47.8812399037177,47.5427909565618,22.2966688696255,23.6723090016637,25.4965205429195,27.3071785072732,26.7291099226395,25.8138162234562,26.288190889376,27.6906513965669,26.288190889376,26.1239321128745,26.5032029474208,26.4078178505896,25.2613404574476,26.6043970865929,23.9012254198501,26.6043970865929,25.1163756535507,24.5624980772967,26.2906779551778,25.5118625631704,27.3071785072732,25.4911941530558,28.4648706985389,44.1938972894349,42.4837867455681,42.0456877355478,39.3979996982628,48.0718286145194,41.1132935461217,42.3910845061069,42.4373030532155,41.1636659317207,39.5418790412924,36.2530920708973,47.1797264533429,42.8241705813977,47.4195477257838,42.6738546535303,40.8117332474545,40.8117332474545,30.1840496277662,45.225057421192,42.0855983474224,45.0447296887976,41.2991318069766,42.0855983474224,44.1938972894349,39.7721931988325,41.2277934251359,26.7214549234812,41.731004452092,41.4356030839429,41.9335986680478,41.731004452092,44.9123574039325,38.9062288085076,39.4618887677589,44.94276261069,45.225057421192,30.337867067131,34.1158800173778,33.2438512415236,24.8191838774997,25.3273949494084,24.7404336027097,26.5524484128379,22.4401682007591,24.7309629996696,40.8728726505455,37.1619458492615,34.4331292329158,38.8472233242208,37.1619458492615,36.2386704251221,37.1619458492615,39.6185562549532,38.7688632184577,36.3701623482151,35.6466085210516,36.1809079116862,34.4426965105844,37.0695516779388,36.4027637763017,37.6995596003739,37.2716297983402,30.519625064933,31.5964490346549,29.6786395372662,33.1758689072122,36.9570550917137,33.895301219797,32.0725083503386,31.5238744728028,36.0508254498238,37.0310667786613,35.04924284138,31.970943798786,35.5976085820681,31.970943798786,33.1758689072122,33.895301219797,37.2471738280874,46.2994997326982,44.8210059349181,42.6330024582756,48.2004216098889,43.9641872160068,43.1690866941177,46.5253781436115,41.1035181447023,42.3832308501615,45.5347812691566,47.5938699909079,42.4328507244206,45.5347812691566,44.502030735523,39.1990040868556,40.7101431108776,41.740759878373,47.7813205512687,31.7130727755515,30.5030606976759,36.7196380515146,30.7048416246552,30.7048416246552,30.0960386005061,null,30.776182708414,30.7048416246552,36.2901223822369,30.7048416246552,36.2901223822369,31.4626920865737,30.1343287990793,33.2354915862695,35.2447956960079,31.7130727755515,30.5030606976759,37.130187576849,30.9197139712988,33.133035541475,31.6288127395609,30.9197139712988,32.6949312280407,44.8479608718055,30.6318654909946,32.6949312280407,33.762745578655,33.762745578655,46.7228569022045,49.3358155852641,34.0509797044485,31.26507522694,45.2332251373732,31.5806770213369,30.6318654909946,31.882258054001,35.2822288213874,36.9349491021189,35.7269906034359,35.9033176949188,36.9349491021189,34.0762631693848,36.9349491021189,35.9748918969001,32.434807763834,36.0475928025947,36.1774331860136,34.4955017883805,32.2362503376556,34.4533795701175,37.1929499072356,37.458043626093,35.4578973954127,35.9033176949188,43.3382600092971,41.5551480207491,39.4133185497964,41.7374117991004,40.0264575474078,43.3382600092971,42.3418756291314,42.3418756291314,42.7805981987576,40.2990724966875,42.3418756291314,40.0264575474078,41.4147515234975,41.5551480207491,25.5793335735965,24.7806826032887,27.3390305346907,28.7286018576877,27.8518729237494,29.1681409136213,25.5384333882392,38.6876054865309,39.0339802296398,38.4715504332424,37.7136995885112,36.6302235217293,36.7421703123501,38.3091800411655,37.5826557755896,37.1170463904707,39.9058432343221,38.2210079629495,37.5826557755896,42.7955554427815,36.8456791418903,39.0003964214287,38.1782404899762,41.6427650294229,38.1782404899762,37.8047873334434,32.9640114674918,34.293692182248,33.3259292567571,33.478431548487,33.3259292567571,null,26.1784831243038,22.6554638043029,25.9423964373288,21.7340135916039,24.4227612804479,30.126115691012,null,33.3516280245235,40.1245169368357,40.1245169368357],\"xaxis\":\"x\",\"y\":[3060.0,1.0,3000.0,2550.0,1740.0,1860.0,2970.0,3960.0,155.0,3621.0,0.0,1322.0,60.0,19.0,0.0,21.0,196.0,840.0,935.0,1260.0,619.0,150.0,762.0,0.0,660.0,1.0,2700.0,1.0,4921.0,95.0,251.0,4125.0,2550.0,1200.0,310.0,2818.0,5054.0,136.0,528.0,150.0,46.0,1.0,1920.0,32.0,135.0,3000.0,32.0,960.0,44.0,1605.0,4410.0,388.0,480.0,1219.0,90.0,538.0,104.0,60.0,1272.0,60.0,1.0,1000.0,3090.0,6510.0,5820.0,1078.0,1513.0,4830.0,3051.0,4200.0,2085.0,5730.0,4290.0,2670.0,3540.0,3637.0,1710.0,4320.0,3915.0,3120.0,4590.0,5034.0,3300.0,4320.0,1770.0,4080.0,5670.0,5700.0,1995.0,300.0,5115.0,2670.0,4338.0,761.0,5760.0,2820.0,4110.0,3360.0,3015.0,232.0,6420.0,5700.0,5610.0,270.0,4050.0,5865.0,1.0,2325.0,4170.0,4485.0,2694.0,168.0,5580.0,705.0,3494.0,4560.0,2760.0,5760.0,6030.0,4242.0,3120.0,5700.0,900.0,1046.0,3630.0,1260.0,5840.0,5790.0,2820.0,600.0,4259.0,2939.0,3600.0,1588.0,4260.0,2700.0,200.0,85.0,1019.0,420.0,1140.0,4458.0,373.0,1203.0,868.0,1455.0,206.0,1195.0,1559.0,900.0,2690.0,5115.0,5.0,189.0,2142.0,360.0,225.0,2340.0,480.0,480.0,3000.0,300.0,3020.0,766.0,1335.0,197.0,245.0,3255.0,1077.0,600.0,186.0,690.0,402.0,2420.0,327.0,1.0,1860.0,220.0,455.0,318.0,757.0,847.0,410.0,215.0,5.0,570.0,2655.0,1440.0,600.0,39.0,181.0,1185.0,1500.0,0.0,271.0,1860.0,1200.0,2159.0,6300.0,1620.0,224.0,70.0,1697.0,95.0,2220.0,1200.0,121.0,63.0,5595.0,1.0,557.0,240.0,3360.0,685.0,2280.0,210.0,167.0,1920.0,3569.0,3300.0,10.0,1560.0,840.0,240.0,990.0,6000.0,1282.0,1080.0,1320.0,1110.0,130.0,3040.0,394.0,45.0,1.0,1200.0,550.0,900.0,885.0,940.0,3050.0,1830.0,6000.0,1500.0,150.0,1955.0,2220.0,330.0,74.0,420.0,1440.0,255.0,1060.0,5250.0,4320.0,120.0,233.0,65.0,2120.0,96.0,3.0,4320.0,65.0,2146.0,96.0,4032.0,2580.0,6.0,569.0,0.0,200.0,1980.0,4045.0,2730.0,3314.0,1.0,47.0,1440.0,276.0,0.0,0.0,3646.0,1130.0,2880.0,513.0,35.0,10.0,3872.0,390.0,3264.0,1230.0,803.0,77.0,30.0,300.0,1.0,5.0,1450.0,2680.0,150.0,3000.0,420.0,479.0,1680.0,2700.0,149.0,1110.0,2790.0,659.0,1320.0,1830.0,3000.0,870.0,810.0,1336.0,1695.0,360.0,360.0,120.0,3000.0,1290.0,1530.0,2370.0,1200.0,1200.0,90.0,120.0,1200.0,2761.0,720.0,1120.0,2100.0,960.0,450.0,1440.0,1020.0,0.0,2010.0,120.0,1240.0,465.0,0.0,2460.0,1183.0,394.0,219.0,487.0,19.0,28.0,0.0,1.0,5340.0,467.0,0.0,1920.0,0.0,25.0,420.0,2040.0,0.0,1.0,1423.0,60.0,1620.0,3300.0,385.0,663.0,123.0,1276.0,1919.0,440.0,6690.0,0.0,717.0,1204.0,292.0,313.0,1.0,5.0,6276.0,0.0,74.0,0.0,248.0,1.0,2700.0,25.0,126.0,1.0,255.0,1207.0,0.0,0.0,245.0,476.0,1.0,2639.0,502.0,548.0,369.0,6480.0,15.0,5.0,1.0,0.0,432.0,21.0,1697.0,0.0,2615.0,3507.0,2820.0,314.0,5855.0,0.0,0.0,1.0,70.0,4285.0,355.0,0.0,2520.0,0.0,180.0,554.0,50.0,70.0,180.0,3842.0,35.0,1.0,189.0,4200.0,353.0,1.0,87.0,66.0,1.0,227.0,1440.0,1.0,2700.0,2.0,215.0,451.0,418.0,100.0,2021.0,1671.0,3938.0,4470.0,2279.0,4440.0,2760.0,0.0,1.0,0.0,1.0,1840.0,428.0,331.0,1980.0,1.0,1.0,1950.0,3037.0,1.0,1.0,1196.0,5628.0,1440.0,2.0,4232.0,95.0,2610.0,4320.0,17.0,113.0,0.0,2507.0,0.0,1.0,4920.0,1.0,4080.0,0.0,960.0,185.0,1320.0,1673.0,2855.0,3060.0,565.0,1.0,1.0,5790.0,3040.0,304.0,4517.0,0.0,3058.0,2865.0,152.0,380.0,5579.0,4800.0,3060.0,4792.0,3894.0,1757.0,2880.0,2985.0,164.0,3232.0,2319.0,4338.0,2880.0,1714.0,90.0,59.0,4139.0,6938.0,930.0,278.0,299.0,5320.0,2880.0,1.0,4260.0,6713.0,5160.0,1440.0,78.0,2668.0,1.0,376.0,1324.0,6940.0,2684.0,54.0,100.0,720.0,2880.0,3189.0,2790.0,2843.0,1642.0,1440.0,1.0,1680.0,1579.0,652.0,108.0,300.0,1020.0,3570.0,6492.0,0.0,120.0,1.0,1.0,1.0,1.0,1.0,1.0,60.0,113.0,204.0,31.0,57.0,13.0,2.0,11.0,283.0,0.0,1.0,871.0,1631.0,56.0,15.0,15.0,20.0,60.0,1.0,95.0,300.0,1.0,3186.0,575.0,2275.0,15.0,1.0,44.0,21.0,1.0,114.0,1.0,60.0,4920.0,4920.0,420.0,0.0,7.0,21.0,340.0,4200.0,805.0,5040.0,5490.0,165.0,3630.0,1590.0,3137.0,1440.0,360.0,0.0,1440.0,1372.0,6480.0,2190.0,285.0,75.0,1843.0,1.0,1420.0,0.0,930.0,0.0,352.0,0.0,960.0,1733.0,3690.0,634.0,1440.0,180.0,1574.0,45.0,563.0,388.0,373.0,4510.0,290.0,1950.0,270.0,1355.0,1318.0,2490.0,1265.0,195.0,3120.0,3388.0,1025.0,990.0,240.0,1485.0,129.0,0.0,1528.0,1890.0,2551.0,985.0,405.0,1698.0,167.0,1460.0,182.0,4113.0,885.0,15.0,42.0,1050.0,1.0,132.0,4140.0,2880.0,3599.0,0.0,2941.0,6090.0,1365.0,375.0,2520.0,76.0,0.0,3720.0,333.0,0.0,353.0,0.0,0.0,7020.0,3300.0,3339.0,2880.0,488.0,2415.0,180.0,4177.0,3480.0,6600.0,300.0,1526.0,60.0,210.0,2.0,1350.0,73.0,1.0,200.0,0.0,4380.0,0.0,120.0,2680.0,840.0,989.0,4313.0,214.0,4.0,164.0,91.0,1050.0,838.0,60.0,1.0,1.0,2425.0,390.0,6660.0,159.0,54.0,30.0,855.0,65.0,810.0,4150.0,4740.0,25.0,0.0,2070.0,870.0,2880.0,120.0,1199.0,1470.0,4140.0,50.0,0.0,1.0,1.0,0.0,0.0,0.0,457.0,1.0,1.0,0.0,30.0,1.0,1.0,65.0,1.0,0.0,0.0,0.0,1.0,1.0,0.0,1.0,1.0,110.0,39.0,1.0,1.0,1.0,1.0,1.0,1.0,507.0,213.0,4254.0,1.0,1.0,53.0,0.0,0.0,251.0,347.0,1637.0,2161.0,2880.0,1044.0,56.0,93.0,13.0,2089.0,2880.0,681.0,494.0,1.0,5355.0,0.0,3943.0,3300.0,191.0,0.0,73.0,4680.0,1.0,5.0,2515.0,2730.0,5400.0,30.0,3584.0,3600.0,5850.0,4710.0,1.0,1732.0,0.0,1800.0,6074.0,49.0,2299.0,5760.0,420.0,2880.0,448.0,2520.0,5513.0,21.0,2100.0,3120.0,3240.0,2880.0,255.0,2355.0,161.0,50.0,258.0,0.0,300.0,2400.0,48.0,300.0,2775.0,2775.0,2160.0,2100.0,2775.0,3180.0,2775.0,1440.0,430.0,2129.0,1755.0,692.0,732.0,7.0,510.0,420.0,557.0,300.0,6240.0,467.0,3067.0,3060.0,355.0,430.0,300.0,227.0,52.0,2880.0,1867.0,1690.0,295.0,17.0,240.0,182.0,5820.0,83.0,230.0,2009.0,720.0,155.0,4320.0,4320.0,480.0,1005.0,221.0,372.0,4320.0,91.0,1419.0,3600.0,5071.0,152.0,6840.0,221.0,38.0,61.0,90.0,396.0,2040.0,1080.0,1680.0,1099.0,2460.0,540.0,52.0,816.0,420.0,155.0,437.0,247.0,540.0,1135.0,437.0,180.0,171.0,656.0,84.0,202.0,255.0,1054.0,1.0,1254.0,1456.0,177.0,106.0,32.0,2464.0,55.0,144.0,70.0,64.0,945.0,523.0,56.0,3.0,155.0,33.0,749.0,159.0,270.0,2790.0,224.0,1470.0,334.0,2050.0,370.0,26.0,797.0,12.0,195.0,1.0,230.0,125.0,15.0,316.0,365.0,1560.0,4740.0,294.0,455.0,2878.0,336.0,295.0,480.0,25.0,223.0,2645.0,2016.0,360.0,3408.0,3698.0,4890.0,1.0,871.0,2759.0,250.0,3301.0,249.0,164.0,435.0,420.0,854.0,5160.0,133.0,2055.0,451.0,140.0,199.0,721.0,179.0,1524.0,78.0,268.0,39.0,1.0,47.0,161.0,900.0,6070.0,697.0,234.0,14.0,5910.0,40.0,166.0,182.0,829.0,15.0,64.0,13.0,245.0,1080.0,390.0,47.0,269.0,400.0,660.0,213.0,761.0,180.0,124.0,4320.0,2820.0,3100.0,989.0,125.0,44.0,26.0,245.0,98.0,1.0,0.0,135.0,50.0,1008.0,53.0,554.0,1260.0,2895.0,89.0,98.0,865.0,128.0,230.0,252.0,130.0,5.0,157.0,6914.0,11.0,13.0,2880.0,270.0,962.0,47.0,20.0,108.0,75.0,17.0,21.0,1950.0,141.0,959.0,1035.0,617.0,1230.0,572.0,324.0,1835.0,6780.0,900.0,37.0,72.0,1.0,251.0,620.0,89.0,909.0,236.0,326.0,300.0,751.0,122.0,214.0,193.0,8.0,5227.0,1414.0,448.0,4605.0,4080.0,1914.0,759.0,1.0,3.0,2700.0,105.0,240.0,210.0,1.0,1201.0,30.0,2806.0,1226.0,300.0,206.0,270.0,2880.0,513.0,3314.0,414.0,126.0,60.0,285.0,110.0,62.0,2363.0,424.0,180.0,0.0,448.0,2.0,624.0,2435.0,131.0,208.0,103.0,1355.0,1523.0,90.0,1205.0,385.0,144.0,235.0,241.0,6787.0,1337.0,1673.0,3366.0,2640.0,1826.0,570.0,1565.0,2691.0,1072.0,115.0,816.0,168.0,30.0,160.0,485.0,1508.0,1301.0,159.0,60.0,4.0,106.0,0.0,0.0,1.0,32.0,61.0,314.0,30.0,0.0,92.0,390.0,161.0,60.0,76.0,1.0,1.0,160.0,20.0,1.0,1.0,70.0,50.0,15.0,810.0,1380.0,1800.0,1560.0,2054.0,1452.0,1865.0,1999.0,120.0,1950.0,360.0,1087.0,1200.0,4122.0,360.0,645.0,108.0,0.0,1.0,1440.0,4560.0,1.0,1.0,110.0,210.0,120.0,0.0,4260.0,76.0,210.0,3305.0,5880.0,145.0,60.0,2640.0,1042.0,110.0,2245.0,984.0,1381.0,148.0,796.0,300.0,2612.0,3000.0,431.0,5310.0,1732.0,0.0,6685.0,3300.0,280.0,117.0,2895.0,480.0,31.0,1.0,0.0,0.0,103.0,4745.0,307.0,1656.0,3525.0,374.0,1068.0,1569.0,114.0,115.0,15.0,2891.0,1.0,1676.0,0.0,0.0,3604.0,195.0,1.0,0.0,2108.0,198.0,3667.0,1037.0,673.0,2652.0,300.0,881.0,618.0,1187.0,950.0,2535.0,27.0,108.0,73.0,200.0,5.0,75.0,0.0,77.0,660.0,0.0,92.0,30.0,33.0,1895.0,274.0,1.0,1534.0,1.0,60.0,108.0,2.0,175.0,2040.0,2710.0,284.0,105.0,4019.0,1.0,391.0,439.0,5.0,201.0,2140.0,103.0,187.0,1406.0,348.0,90.0,913.0,1367.0,174.0,543.0,237.0,1906.0,224.0,0.0,95.0,360.0,1548.0,870.0,0.0,220.0,720.0,59.0,181.0],\"yaxis\":\"y\",\"type\":\"scattergl\"}],                        {\"template\":{\"data\":{\"histogram2dcontour\":[{\"type\":\"histogram2dcontour\",\"colorbar\":{\"outlinewidth\":0,\"ticks\":\"\"},\"colorscale\":[[0.0,\"#0d0887\"],[0.1111111111111111,\"#46039f\"],[0.2222222222222222,\"#7201a8\"],[0.3333333333333333,\"#9c179e\"],[0.4444444444444444,\"#bd3786\"],[0.5555555555555556,\"#d8576b\"],[0.6666666666666666,\"#ed7953\"],[0.7777777777777778,\"#fb9f3a\"],[0.8888888888888888,\"#fdca26\"],[1.0,\"#f0f921\"]]}],\"choropleth\":[{\"type\":\"choropleth\",\"colorbar\":{\"outlinewidth\":0,\"ticks\":\"\"}}],\"histogram2d\":[{\"type\":\"histogram2d\",\"colorbar\":{\"outlinewidth\":0,\"ticks\":\"\"},\"colorscale\":[[0.0,\"#0d0887\"],[0.1111111111111111,\"#46039f\"],[0.2222222222222222,\"#7201a8\"],[0.3333333333333333,\"#9c179e\"],[0.4444444444444444,\"#bd3786\"],[0.5555555555555556,\"#d8576b\"],[0.6666666666666666,\"#ed7953\"],[0.7777777777777778,\"#fb9f3a\"],[0.8888888888888888,\"#fdca26\"],[1.0,\"#f0f921\"]]}],\"heatmap\":[{\"type\":\"heatmap\",\"colorbar\":{\"outlinewidth\":0,\"ticks\":\"\"},\"colorscale\":[[0.0,\"#0d0887\"],[0.1111111111111111,\"#46039f\"],[0.2222222222222222,\"#7201a8\"],[0.3333333333333333,\"#9c179e\"],[0.4444444444444444,\"#bd3786\"],[0.5555555555555556,\"#d8576b\"],[0.6666666666666666,\"#ed7953\"],[0.7777777777777778,\"#fb9f3a\"],[0.8888888888888888,\"#fdca26\"],[1.0,\"#f0f921\"]]}],\"heatmapgl\":[{\"type\":\"heatmapgl\",\"colorbar\":{\"outlinewidth\":0,\"ticks\":\"\"},\"colorscale\":[[0.0,\"#0d0887\"],[0.1111111111111111,\"#46039f\"],[0.2222222222222222,\"#7201a8\"],[0.3333333333333333,\"#9c179e\"],[0.4444444444444444,\"#bd3786\"],[0.5555555555555556,\"#d8576b\"],[0.6666666666666666,\"#ed7953\"],[0.7777777777777778,\"#fb9f3a\"],[0.8888888888888888,\"#fdca26\"],[1.0,\"#f0f921\"]]}],\"contourcarpet\":[{\"type\":\"contourcarpet\",\"colorbar\":{\"outlinewidth\":0,\"ticks\":\"\"}}],\"contour\":[{\"type\":\"contour\",\"colorbar\":{\"outlinewidth\":0,\"ticks\":\"\"},\"colorscale\":[[0.0,\"#0d0887\"],[0.1111111111111111,\"#46039f\"],[0.2222222222222222,\"#7201a8\"],[0.3333333333333333,\"#9c179e\"],[0.4444444444444444,\"#bd3786\"],[0.5555555555555556,\"#d8576b\"],[0.6666666666666666,\"#ed7953\"],[0.7777777777777778,\"#fb9f3a\"],[0.8888888888888888,\"#fdca26\"],[1.0,\"#f0f921\"]]}],\"surface\":[{\"type\":\"surface\",\"colorbar\":{\"outlinewidth\":0,\"ticks\":\"\"},\"colorscale\":[[0.0,\"#0d0887\"],[0.1111111111111111,\"#46039f\"],[0.2222222222222222,\"#7201a8\"],[0.3333333333333333,\"#9c179e\"],[0.4444444444444444,\"#bd3786\"],[0.5555555555555556,\"#d8576b\"],[0.6666666666666666,\"#ed7953\"],[0.7777777777777778,\"#fb9f3a\"],[0.8888888888888888,\"#fdca26\"],[1.0,\"#f0f921\"]]}],\"mesh3d\":[{\"type\":\"mesh3d\",\"colorbar\":{\"outlinewidth\":0,\"ticks\":\"\"}}],\"scatter\":[{\"fillpattern\":{\"fillmode\":\"overlay\",\"size\":10,\"solidity\":0.2},\"type\":\"scatter\"}],\"parcoords\":[{\"type\":\"parcoords\",\"line\":{\"colorbar\":{\"outlinewidth\":0,\"ticks\":\"\"}}}],\"scatterpolargl\":[{\"type\":\"scatterpolargl\",\"marker\":{\"colorbar\":{\"outlinewidth\":0,\"ticks\":\"\"}}}],\"bar\":[{\"error_x\":{\"color\":\"#2a3f5f\"},\"error_y\":{\"color\":\"#2a3f5f\"},\"marker\":{\"line\":{\"color\":\"#E5ECF6\",\"width\":0.5},\"pattern\":{\"fillmode\":\"overlay\",\"size\":10,\"solidity\":0.2}},\"type\":\"bar\"}],\"scattergeo\":[{\"type\":\"scattergeo\",\"marker\":{\"colorbar\":{\"outlinewidth\":0,\"ticks\":\"\"}}}],\"scatterpolar\":[{\"type\":\"scatterpolar\",\"marker\":{\"colorbar\":{\"outlinewidth\":0,\"ticks\":\"\"}}}],\"histogram\":[{\"marker\":{\"pattern\":{\"fillmode\":\"overlay\",\"size\":10,\"solidity\":0.2}},\"type\":\"histogram\"}],\"scattergl\":[{\"type\":\"scattergl\",\"marker\":{\"colorbar\":{\"outlinewidth\":0,\"ticks\":\"\"}}}],\"scatter3d\":[{\"type\":\"scatter3d\",\"line\":{\"colorbar\":{\"outlinewidth\":0,\"ticks\":\"\"}},\"marker\":{\"colorbar\":{\"outlinewidth\":0,\"ticks\":\"\"}}}],\"scattermapbox\":[{\"type\":\"scattermapbox\",\"marker\":{\"colorbar\":{\"outlinewidth\":0,\"ticks\":\"\"}}}],\"scatterternary\":[{\"type\":\"scatterternary\",\"marker\":{\"colorbar\":{\"outlinewidth\":0,\"ticks\":\"\"}}}],\"scattercarpet\":[{\"type\":\"scattercarpet\",\"marker\":{\"colorbar\":{\"outlinewidth\":0,\"ticks\":\"\"}}}],\"carpet\":[{\"aaxis\":{\"endlinecolor\":\"#2a3f5f\",\"gridcolor\":\"white\",\"linecolor\":\"white\",\"minorgridcolor\":\"white\",\"startlinecolor\":\"#2a3f5f\"},\"baxis\":{\"endlinecolor\":\"#2a3f5f\",\"gridcolor\":\"white\",\"linecolor\":\"white\",\"minorgridcolor\":\"white\",\"startlinecolor\":\"#2a3f5f\"},\"type\":\"carpet\"}],\"table\":[{\"cells\":{\"fill\":{\"color\":\"#EBF0F8\"},\"line\":{\"color\":\"white\"}},\"header\":{\"fill\":{\"color\":\"#C8D4E3\"},\"line\":{\"color\":\"white\"}},\"type\":\"table\"}],\"barpolar\":[{\"marker\":{\"line\":{\"color\":\"#E5ECF6\",\"width\":0.5},\"pattern\":{\"fillmode\":\"overlay\",\"size\":10,\"solidity\":0.2}},\"type\":\"barpolar\"}],\"pie\":[{\"automargin\":true,\"type\":\"pie\"}]},\"layout\":{\"autotypenumbers\":\"strict\",\"colorway\":[\"#636efa\",\"#EF553B\",\"#00cc96\",\"#ab63fa\",\"#FFA15A\",\"#19d3f3\",\"#FF6692\",\"#B6E880\",\"#FF97FF\",\"#FECB52\"],\"font\":{\"color\":\"#2a3f5f\"},\"hovermode\":\"closest\",\"hoverlabel\":{\"align\":\"left\"},\"paper_bgcolor\":\"white\",\"plot_bgcolor\":\"#E5ECF6\",\"polar\":{\"bgcolor\":\"#E5ECF6\",\"angularaxis\":{\"gridcolor\":\"white\",\"linecolor\":\"white\",\"ticks\":\"\"},\"radialaxis\":{\"gridcolor\":\"white\",\"linecolor\":\"white\",\"ticks\":\"\"}},\"ternary\":{\"bgcolor\":\"#E5ECF6\",\"aaxis\":{\"gridcolor\":\"white\",\"linecolor\":\"white\",\"ticks\":\"\"},\"baxis\":{\"gridcolor\":\"white\",\"linecolor\":\"white\",\"ticks\":\"\"},\"caxis\":{\"gridcolor\":\"white\",\"linecolor\":\"white\",\"ticks\":\"\"}},\"coloraxis\":{\"colorbar\":{\"outlinewidth\":0,\"ticks\":\"\"}},\"colorscale\":{\"sequential\":[[0.0,\"#0d0887\"],[0.1111111111111111,\"#46039f\"],[0.2222222222222222,\"#7201a8\"],[0.3333333333333333,\"#9c179e\"],[0.4444444444444444,\"#bd3786\"],[0.5555555555555556,\"#d8576b\"],[0.6666666666666666,\"#ed7953\"],[0.7777777777777778,\"#fb9f3a\"],[0.8888888888888888,\"#fdca26\"],[1.0,\"#f0f921\"]],\"sequentialminus\":[[0.0,\"#0d0887\"],[0.1111111111111111,\"#46039f\"],[0.2222222222222222,\"#7201a8\"],[0.3333333333333333,\"#9c179e\"],[0.4444444444444444,\"#bd3786\"],[0.5555555555555556,\"#d8576b\"],[0.6666666666666666,\"#ed7953\"],[0.7777777777777778,\"#fb9f3a\"],[0.8888888888888888,\"#fdca26\"],[1.0,\"#f0f921\"]],\"diverging\":[[0,\"#8e0152\"],[0.1,\"#c51b7d\"],[0.2,\"#de77ae\"],[0.3,\"#f1b6da\"],[0.4,\"#fde0ef\"],[0.5,\"#f7f7f7\"],[0.6,\"#e6f5d0\"],[0.7,\"#b8e186\"],[0.8,\"#7fbc41\"],[0.9,\"#4d9221\"],[1,\"#276419\"]]},\"xaxis\":{\"gridcolor\":\"white\",\"linecolor\":\"white\",\"ticks\":\"\",\"title\":{\"standoff\":15},\"zerolinecolor\":\"white\",\"automargin\":true,\"zerolinewidth\":2},\"yaxis\":{\"gridcolor\":\"white\",\"linecolor\":\"white\",\"ticks\":\"\",\"title\":{\"standoff\":15},\"zerolinecolor\":\"white\",\"automargin\":true,\"zerolinewidth\":2},\"scene\":{\"xaxis\":{\"backgroundcolor\":\"#E5ECF6\",\"gridcolor\":\"white\",\"linecolor\":\"white\",\"showbackground\":true,\"ticks\":\"\",\"zerolinecolor\":\"white\",\"gridwidth\":2},\"yaxis\":{\"backgroundcolor\":\"#E5ECF6\",\"gridcolor\":\"white\",\"linecolor\":\"white\",\"showbackground\":true,\"ticks\":\"\",\"zerolinecolor\":\"white\",\"gridwidth\":2},\"zaxis\":{\"backgroundcolor\":\"#E5ECF6\",\"gridcolor\":\"white\",\"linecolor\":\"white\",\"showbackground\":true,\"ticks\":\"\",\"zerolinecolor\":\"white\",\"gridwidth\":2}},\"shapedefaults\":{\"line\":{\"color\":\"#2a3f5f\"}},\"annotationdefaults\":{\"arrowcolor\":\"#2a3f5f\",\"arrowhead\":0,\"arrowwidth\":1},\"geo\":{\"bgcolor\":\"white\",\"landcolor\":\"#E5ECF6\",\"subunitcolor\":\"white\",\"showland\":true,\"showlakes\":true,\"lakecolor\":\"white\"},\"title\":{\"x\":0.05},\"mapbox\":{\"style\":\"light\"}}},\"xaxis\":{\"anchor\":\"y\",\"domain\":[0.0,1.0],\"title\":{\"text\":\"COM.PERCEN\"}},\"yaxis\":{\"anchor\":\"x\",\"domain\":[0.0,1.0],\"title\":{\"text\":\"OUTAGE.DURATION\"}},\"legend\":{\"tracegroupgap\":0},\"title\":{\"text\":\"COM.PERCEN\"}},                        {\"responsive\": true}                    ).then(function(){\n",
       "                            \n",
       "var gd = document.getElementById('9ff831ca-5513-49c7-8f12-a9995e18e01b');\n",
       "var x = new MutationObserver(function (mutations, observer) {{\n",
       "        var display = window.getComputedStyle(gd).display;\n",
       "        if (!display || display === 'none') {{\n",
       "            console.log([gd, 'removed!']);\n",
       "            Plotly.purge(gd);\n",
       "            observer.disconnect();\n",
       "        }}\n",
       "}});\n",
       "\n",
       "// Listen for the removal of the full notebook cells\n",
       "var notebookContainer = gd.closest('#notebook-container');\n",
       "if (notebookContainer) {{\n",
       "    x.observe(notebookContainer, {childList: true});\n",
       "}}\n",
       "\n",
       "// Listen for the clearing of the current output cell\n",
       "var outputEl = gd.closest('.output');\n",
       "if (outputEl) {{\n",
       "    x.observe(outputEl, {childList: true});\n",
       "}}\n",
       "\n",
       "                        })                };                });            </script>        </div>"
      ]
     },
     "metadata": {},
     "output_type": "display_data"
    },
    {
     "data": {
      "application/vnd.plotly.v1+json": {
       "config": {
        "plotlyServerURL": "https://plot.ly"
       },
       "data": [
        {
         "hovertemplate": "IND.PERCEN=%{x}<br>OUTAGE.DURATION=%{y}<extra></extra>",
         "legendgroup": "",
         "marker": {
          "color": "#636efa",
          "symbol": "circle"
         },
         "mode": "markers",
         "name": "",
         "showlegend": false,
         "type": "scattergl",
         "x": [
          32.2024313830663,
          35.7275637647181,
          37.365983444259,
          34.4393288202792,
          29.7794982830958,
          35.5381595229013,
          32.701651075658,
          31.861839273059,
          32.0719616050473,
          34.7022956013617,
          32.2024313830663,
          36.5178270793445,
          33.783500861937,
          22.5702238313868,
          26.1067536920386,
          22.5702238313868,
          31.5361041538128,
          29.3966189401901,
          20.6036864929452,
          25.5045372589187,
          25.2745755953638,
          20.0283040128279,
          24.2180927288048,
          26.6829511060554,
          31.5361041538128,
          24.7381405018955,
          29.1385711309459,
          24.7381405018955,
          31.5361041538128,
          27.3358255449949,
          19.3230445624225,
          24.7381405018955,
          31.5361041538128,
          20.0283040128279,
          21.0691280310668,
          22.2626551552238,
          31.5361041538128,
          26.9292876910675,
          24.288235318142,
          20.0283040128279,
          31.5361041538128,
          24.7381405018955,
          20.0283040128279,
          24.9461632289705,
          30.4207044899286,
          37.2021560206755,
          33.8806379641304,
          37.0713285285029,
          30.4207044899286,
          31.311835147589,
          37.1821844814534,
          32.3498892214775,
          36.7171788984269,
          40.7517454957516,
          30.4207044899286,
          35.3948025921906,
          33.8806379641304,
          30.4207044899286,
          33.8806379641304,
          30.4207044899286,
          38.7695696250434,
          40.4415162643976,
          32.5715431263469,
          32.27528336041,
          39.9263406697297,
          25.8643842427708,
          29.5250876936842,
          28.3871846266069,
          32.9915406814391,
          41.1516340716941,
          32.5715431263469,
          30.8613179035426,
          33.3345128245957,
          31.7004851724275,
          29.5716856502981,
          28.7312208343452,
          30.7494236927856,
          28.3871846266069,
          30.9606281957995,
          29.094371030205,
          28.4124765608081,
          31.9265975192953,
          34.2423368796421,
          27.8924959131265,
          26.9352176267129,
          32.7791261355107,
          29.5716856502981,
          36.1587809226833,
          28.054721646293,
          null,
          26.8077443774689,
          25.4176197306838,
          31.0578705071019,
          37.4692111639304,
          31.9265975192953,
          33.2143806612874,
          30.4987968597475,
          35.2613516953759,
          26.9360819485703,
          28.8704782004188,
          34.3566455157029,
          26.7952316313592,
          26.6463672217302,
          30.8444405279052,
          31.7004851724275,
          25.8643842427708,
          31.7004851724275,
          33.3345128245957,
          33.0361665732395,
          27.7421730492186,
          32.9915406814391,
          33.116012477033,
          27.4762237202586,
          26.8077443774689,
          34.2079545470728,
          36.1587809226833,
          30.8459279547692,
          31.9603530596735,
          25.1540406656169,
          27.8646292340596,
          33.6409324528945,
          39.9263406697297,
          26.7432922523992,
          28.9817949294492,
          32.9297573840364,
          25.8643842427708,
          35.2613516953759,
          26.4891598692026,
          28.054721646293,
          30.8613179035426,
          28.4124765608081,
          33.3723433409022,
          33.9247525207527,
          26.7952316313592,
          25.1540406656169,
          28.6379001303796,
          32.5715431263469,
          25.8643842427708,
          29.0141505695161,
          31.0994407808726,
          27.4762237202586,
          26.1874902711988,
          23.7853448996486,
          26.6641818451367,
          26.6641818451367,
          null,
          22.0344617435978,
          26.5521349621873,
          25.9185991152058,
          33.644738868661,
          29.9553751810822,
          29.6129873107167,
          26.6806180276989,
          34.3165032136206,
          26.0549546896243,
          26.0549546896243,
          22.6738166091926,
          28.6030415009855,
          22.8770759707791,
          34.2199642307532,
          26.157876172173,
          30.0716884001586,
          29.9553751810822,
          30.8876915612399,
          22.5516814581687,
          22.5516814581687,
          34.3165032136206,
          29.485901311259,
          31.3131022295416,
          27.1116770807482,
          37.2053818986719,
          34.1504114446193,
          26.5521349621873,
          27.6347270113719,
          26.6641818451367,
          24.9363816533127,
          27.5629138453994,
          26.5521349621873,
          27.6347270113719,
          28.6030415009855,
          32.3987388511948,
          26.2875494114129,
          26.8856844379773,
          24.4365919673634,
          31.8350782804428,
          30.0968657056768,
          null,
          28.6732782451003,
          33.5663656901309,
          36.0588183084871,
          22.1842413874805,
          31.8350782804428,
          24.4365919673634,
          26.8856844379773,
          31.720285753726,
          23.4187434976399,
          25.0206520159659,
          34.2199642307532,
          26.9251383915741,
          24.3645303606078,
          25.4304245961933,
          38.2231848116724,
          26.6641818451367,
          34.3165032136206,
          23.5798515122361,
          36.5713186118136,
          34.3165032136206,
          23.7853448996486,
          35.2688740833292,
          26.2801121433885,
          28.0559473870751,
          25.0206520159659,
          28.007121129042,
          26.0286613713811,
          30.9679716421356,
          22.8660595127785,
          30.1498673414669,
          33.3141420360516,
          28.029797704979,
          29.9553751810822,
          27.8603865981435,
          22.8660595127785,
          29.1737316224459,
          24.4365919673634,
          26.5521349621873,
          22.5516814581687,
          30.0716884001586,
          27.8205140842679,
          29.6129873107167,
          32.6044466459202,
          34.3165032136206,
          29.6129873107167,
          25.0206520159659,
          25.9185991152058,
          26.6806180276989,
          28.9030435337818,
          23.7853448996486,
          34.3165032136206,
          31.9287349938967,
          24.7571315309822,
          31.8350782804428,
          33.4653358760987,
          25.4304245961933,
          24.2371393609557,
          33.4020886255305,
          22.6738166091926,
          27.8105161156403,
          22.8660595127785,
          31.3131022295416,
          32.6044466459202,
          35.4407703283712,
          28.7298964704044,
          46.1507095985633,
          44.1132307579997,
          47.1672154614047,
          47.5667219978814,
          51.9354828248802,
          36.7839227846411,
          39.3356870585806,
          45.6062854691176,
          50.3849558851548,
          47.1672154614047,
          47.1672154614047,
          38.7465536938309,
          50.6960275996282,
          47.1672154614047,
          50.3849558851548,
          49.6876928404521,
          38.8689061358414,
          48.3529430002015,
          43.1157330917449,
          42.2503693025321,
          51.5465793189277,
          45.9573086049592,
          48.4808457619418,
          45.6062854691176,
          44.3747111826552,
          38.8689061358414,
          51.8707295178206,
          43.1157330917449,
          38.7465536938309,
          48.4808457619418,
          43.1454208312042,
          47.1672154614047,
          42.2503693025321,
          39.3356870585806,
          45.6062854691176,
          42.4306138418116,
          37.5426274574573,
          38.5841236057307,
          37.3525803829831,
          34.5206274595308,
          42.6441238511062,
          32.3932642810293,
          35.7689954127101,
          37.7771271580426,
          37.662951279861,
          33.5581045235276,
          29.9847910507761,
          29.6443161553776,
          33.9121659628101,
          26.8614486579908,
          32.419521651098,
          33.1075501375441,
          29.9847910507761,
          31.7733430628862,
          30.8518464524511,
          30.4489622216412,
          28.8426579439775,
          33.090678313505,
          26.5119769201896,
          26.8614486579908,
          26.8614486579908,
          35.0703963683369,
          30.5265895713901,
          30.8518464524511,
          27.8807019141734,
          29.5292124964597,
          34.3571785941032,
          29.9188612875632,
          29.1519766105919,
          31.2955867000939,
          32.9760858927192,
          28.6084266323525,
          28.5586444877298,
          27.8282587229198,
          32.7337276624847,
          29.5502975060338,
          28.468772318551,
          30.183797959749,
          28.7817714923416,
          33.9121659628101,
          27.8807019141734,
          30.8518464524511,
          26.6525237685444,
          30.1299738772284,
          26.5119769201896,
          30.183797959749,
          26.5119769201896,
          25.6897913588249,
          26.3462098084615,
          25.6897913588249,
          25.8828497058223,
          25.4018422047251,
          33.1867223950233,
          29.2018261286343,
          29.2018261286343,
          30.7265888841536,
          27.0801501839718,
          34.8184282345319,
          32.8164654264146,
          18.8243290745862,
          33.4320192160775,
          26.3462098084615,
          25.4998520259099,
          26.3962848223264,
          29.7998388315136,
          23.6108276233005,
          19.5091663029752,
          26.3962848223264,
          null,
          33.4320192160775,
          29.6583330389282,
          26.3462098084615,
          29.9687618764873,
          33.1867223950233,
          28.7095627072199,
          29.2935624752031,
          33.4320192160775,
          25.8316366609487,
          33.7981223731779,
          22.6523861230989,
          33.7981223731779,
          25.6897913588249,
          24.8111307878016,
          29.2018261286343,
          28.7445100287724,
          32.1377525354554,
          27.0801501839718,
          25.8331327073804,
          25.6740286039294,
          24.4817952648936,
          25.4998520259099,
          28.0659089181668,
          33.7981223731779,
          29.6279296865648,
          25.6897913588249,
          25.6740286039294,
          32.8392915636055,
          32.8843821494065,
          33.4320192160775,
          34.8184282345319,
          34.8184282345319,
          33.4320192160775,
          33.4011772333933,
          33.0110298789043,
          19.3704181610842,
          29.2018261286343,
          33.4496573546239,
          33.1867223950233,
          20.4404811848152,
          31.8887760508716,
          32.1377525354554,
          26.3462098084615,
          25.4998520259099,
          26.3462098084615,
          30.16816930837,
          33.4320192160775,
          34.8184282345319,
          29.2018261286343,
          22.6523861230989,
          19.3704181610842,
          33.7981223731779,
          22.9428180929117,
          34.8184282345319,
          25.4998520259099,
          27.484143612616,
          31.8887760508716,
          24.0204543451868,
          33.1867223950233,
          25.4998520259099,
          30.7163815462911,
          25.4998520259099,
          31.8142616943869,
          14.9263184114072,
          22.6046189296125,
          22.6046189296125,
          18.576162263485,
          13.003396687633,
          13.8391982752708,
          19.5093319278361,
          13.5785746759792,
          16.8505887603831,
          19.7527328094115,
          20.7012301648155,
          20.7012301648155,
          17.7460068350506,
          16.6500407936899,
          22.7631459411979,
          18.576162263485,
          18.9177984279952,
          18.576162263485,
          22.6046189296125,
          17.714476643151,
          21.9110329974024,
          16.1858807096704,
          13.8391982752708,
          8.43102559247444,
          29.8195934736164,
          9.85397469743619,
          8.93696712706322,
          29.2816325269217,
          9.85397469743619,
          29.4309391369217,
          5.79754667431576,
          7.64723241199428,
          6.60860355633318,
          7.64723241199428,
          4.8215384434055,
          8.85413512831404,
          8.68096358162675,
          7.35649309770717,
          7.64723241199428,
          6.41446123986381,
          42.5653065164245,
          6.60860355633318,
          5.50714011001182,
          5.58009453039856,
          4.8215384434055,
          29.4309391369217,
          6.98099292781768,
          7.64723241199428,
          6.60818266013126,
          6.78529314589121,
          10.2800630611125,
          8.43102559247444,
          8.92491039074607,
          6.41446123986381,
          5.58009453039856,
          7.64723241199428,
          5.58009453039856,
          4.94762330824694,
          42.5653065164245,
          7.64723241199428,
          37.4204691584833,
          8.43102559247444,
          6.78529314589121,
          6.98099292781768,
          8.93696712706322,
          7.16823935137516,
          8.51246556338134,
          10.0355360106095,
          7.23050409855322,
          7.64723241199428,
          7.64723241199428,
          7.80423504889924,
          7.00513469840256,
          7.44269429207382,
          29.4309391369217,
          5.79754667431576,
          30.355255640183,
          34.6657645592855,
          36.2617680925393,
          34.1695668404253,
          33.2242591119074,
          34.4082183273266,
          34.3517512700607,
          31.4196968503747,
          30.8949544544832,
          33.4922492821421,
          31.3207596036462,
          30.029944190918,
          30.0181435210313,
          31.4196968503747,
          31.3090617269233,
          32.3393113024454,
          36.6051534528882,
          29.9816293605877,
          33.9403398973967,
          29.3341633308621,
          31.4758970883129,
          33.9646677212424,
          31.4758970883129,
          null,
          33.9646677212424,
          31.0279419369843,
          31.3207596036462,
          29.1557784404017,
          30.4875331625075,
          33.9646677212424,
          26.6274896542855,
          30.8949544544832,
          31.1017737472624,
          29.1557784404017,
          29.3341633308621,
          28.6930165704255,
          36.2617680925393,
          29.1557784404017,
          30.9546258982579,
          29.3341633308621,
          36.6051534528882,
          30.4344101082043,
          31.3207596036462,
          30.8949544544832,
          30.4344101082043,
          36.6051534528882,
          35.9759579066921,
          40.302604005548,
          34.6491996465202,
          46.0243679875454,
          40.9632229516219,
          51.7431198955399,
          39.8771843478026,
          49.4842014942714,
          48.2943968704065,
          45.231640232298,
          45.231640232298,
          33.7591941303293,
          32.059956941379,
          35.1356288894593,
          36.593818359275,
          36.593818359275,
          31.6964806843977,
          32.5577221528367,
          34.7793066476054,
          30.4958628954694,
          34.7793066476054,
          34.0226100279571,
          32.059956941379,
          28.5506466821303,
          32.5577221528367,
          31.6964806843977,
          34.6701701072738,
          26.2598506090411,
          36.7101407762031,
          36.593818359275,
          34.6584177786151,
          32.3913565075022,
          34.6701701072738,
          27.9038340712061,
          33.9287728438797,
          34.8598918099614,
          32.3519564080153,
          33.8874410025872,
          28.7158882536943,
          29.2658958656184,
          33.8874410025872,
          33.3339652395726,
          34.6701701072738,
          27.2878408518723,
          27.2074263686921,
          35.1356288894593,
          30.2229511540161,
          32.1996118486408,
          36.593818359275,
          36.7101407762031,
          36.3845130766105,
          29.9737475865794,
          42.6471992975511,
          42.6471992975511,
          32.5409930348265,
          31.9002946892491,
          34.8488461223526,
          37.2631860286848,
          36.3192987907911,
          38.5193739359839,
          33.6902933760026,
          31.9070008223504,
          31.9002946892491,
          29.9759045789672,
          32.5259389526802,
          31.5656423602692,
          36.6829147368929,
          32.1684210493434,
          30.9923968211423,
          29.5929736133945,
          33.0438224387937,
          29.9759045789672,
          41.3041584735383,
          34.2047179360449,
          37.2631860286848,
          33.7975755615985,
          33.7396888453917,
          37.6115457650179,
          33.9541267574464,
          30.9923968211423,
          32.5259389526802,
          40.2717674955894,
          30.9923968211423,
          31.9002946892491,
          33.9338209514673,
          32.0052102488567,
          39.1597331695505,
          29.5929736133945,
          21.3470572585177,
          22.414348125595,
          23.4961394321335,
          17.3028830874166,
          22.0084784189836,
          17.4929923175649,
          17.3328535657776,
          17.6157392117547,
          19.765365147548,
          19.1306686148205,
          17.3328535657776,
          null,
          21.1617572395204,
          28.0023285889472,
          15.621323480004,
          18.9604715228394,
          24.097543676273,
          22.8597359107313,
          24.9128027701567,
          20.7474780709462,
          23.4524312497624,
          20.4566112940716,
          19.765365147548,
          22.7540338090779,
          22.6363437910558,
          25.0649846676836,
          18.9604715228394,
          20.6264179509434,
          23.9450109429567,
          20.4566112940716,
          null,
          18.4596508598955,
          15.621323480004,
          18.9604715228394,
          21.5326254042944,
          22.6363437910558,
          20.0748587982429,
          20.6264179509434,
          9.03085897605753,
          9.19406190345302,
          15.363727810917,
          8.95351505151225,
          15.6328945030723,
          11.2603480482161,
          8.03494121396526,
          12.0152404140899,
          11.9262060535027,
          10.1562420820292,
          8.95351505151225,
          9.07373800242408,
          10.1562420820292,
          15.6172349404395,
          12.0152404140899,
          12.4119791681568,
          9.82228929306367,
          11.2603480482161,
          10.1562420820292,
          9.78783026698645,
          11.8031385132104,
          8.36991519852096,
          8.95351505151225,
          38.5425491176066,
          31.1073842468936,
          30.7384883279007,
          32.9073470165426,
          35.1157381371743,
          41.8922033321896,
          30.7384883279007,
          23.4145522908205,
          21.1635738837707,
          25.7471073025763,
          27.5627433699136,
          29.9251458109861,
          22.6765697080299,
          22.2156455037593,
          20.1084427380463,
          22.5516158900442,
          22.029845623261,
          28.4567509519305,
          22.8080918900637,
          null,
          21.6936801532833,
          29.7620823399458,
          22.029845623261,
          26.4396140919408,
          29.9251458109861,
          28.4567509519305,
          22.2156455037593,
          22.029845623261,
          28.0036346531056,
          27.9065689112964,
          22.8080918900637,
          29.3157999343132,
          1.56016262485587,
          1.55685195641054,
          1.90409899154912,
          1.83296093871786,
          2.03780051288328,
          2.00582007769292,
          1.55685195641054,
          18.9953326885585,
          21.5771254601724,
          17.216530116189,
          17.216530116189,
          17.0800916121974,
          19.848795705358,
          17.9961074132853,
          18.454268142662,
          23.220415785683,
          24.7524485558161,
          18.1288706591137,
          24.6863971799722,
          20.9164167841141,
          19.5123578183831,
          21.9009954584795,
          27.5534286764529,
          26.071188199032,
          23.6363163672761,
          22.1100311683772,
          22.7114655615523,
          18.4454335761423,
          27.4933284672069,
          26.5158062288179,
          20.0952155021219,
          22.7762198344609,
          32.0605010172695,
          24.8446869555826,
          20.1704400537314,
          20.1870153174673,
          25.7520212529341,
          22.1100311683772,
          22.1100311683772,
          23.3352867147647,
          27.4933284672069,
          25.7520212529341,
          27.5534286764529,
          26.071188199032,
          23.3352867147647,
          32.0605010172695,
          19.2454556045028,
          26.071188199032,
          26.5158062288179,
          23.5115548172129,
          27.5534286764529,
          27.4933284672069,
          null,
          13.2837651152604,
          17.3835632939347,
          23.5115548172129,
          22.8520475420359,
          17.0702971470929,
          18.4454335761423,
          21.9009954584795,
          41.252409033688,
          37.6986962927479,
          37.4522620944093,
          46.4189332200494,
          41.252409033688,
          37.6986962927479,
          25.2788068186848,
          33.8771380217453,
          34.4149794199519,
          16.6119871158783,
          8.4423384189818,
          18.6698449886557,
          19.3179059582278,
          8.4423384189818,
          10.3417692719663,
          10.13047400904,
          11.7704119098459,
          12.7814566270849,
          13.1854830663972,
          11.3473649136447,
          13.1854830663972,
          13.8660819650931,
          13.0905471817358,
          13.293729694868,
          13.0905471817358,
          10.3652648961954,
          9.33870283740152,
          10.13047400904,
          9.86999618754045,
          8.80180565048069,
          9.35456913371956,
          10.3077888613692,
          11.3473649136447,
          13.8498427767175,
          8.80180565048069,
          10.3652648961954,
          10.3417692719663,
          13.9943335802705,
          8.4423384189818,
          9.57659105986762,
          8.27769747602153,
          10.13047400904,
          9.9086434979483,
          9.09332526434045,
          13.8498427767175,
          9.5831793355509,
          16.0650564670614,
          13.8660819650931,
          13.9666324122562,
          8.4423384189818,
          11.0476505977285,
          10.3652648961954,
          11.1676354139368,
          10.3077888613692,
          8.58195283119947,
          9.52894793552065,
          10.7434637692206,
          14.0746164605264,
          13.9943335802705,
          26.4373259702847,
          28.2334017489423,
          28.2334017489423,
          28.9500679351242,
          33.4650901334092,
          28.2334017489423,
          40.5783849542037,
          28.2334017489423,
          29.1471265204423,
          32.2115617142185,
          36.8647939361682,
          30.9845731845114,
          28.9500679351242,
          36.370730372937,
          39.4164228681291,
          31.3026991774353,
          30.0817688449303,
          32.2115617142185,
          26.4373259702847,
          32.6893956648632,
          32.2115617142185,
          30.9970340279864,
          30.9970340279864,
          37.6244871849267,
          32.2115617142185,
          26.4373259702847,
          40.7769903075234,
          44.2140188362426,
          29.7472339249318,
          30.9970340279864,
          39.4164228681291,
          39.9447938946843,
          8.13273710803608,
          6.38451221885281,
          8.93172781904335,
          7.55779165684239,
          8.06953442145373,
          7.86792971196317,
          8.74312727395935,
          8.62213197732262,
          8.93172781904335,
          10.1024345261669,
          10.1024345261669,
          7.48110291125593,
          10.7364520990818,
          8.0743456508895,
          6.70577435704196,
          10.1024345261669,
          8.93172781904335,
          8.11420107580559,
          8.20393990406393,
          7.55779165684239,
          7.15870898256282,
          8.20393990406393,
          7.48110291125593,
          8.93172781904335,
          8.93172781904335,
          6.63869255231911,
          7.87662479457419,
          8.20393990406393,
          8.62213197732262,
          8.20393990406393,
          7.48110291125593,
          8.20393990406393,
          8.74312727395935,
          7.07729891756922,
          9.11592165713587,
          18.3283221915827,
          20.3753950585114,
          21.0242653342068,
          19.4135008121551,
          19.7811896508538,
          21.0441735832412,
          17.3542781161791,
          17.8912426034376,
          19.8486383959028,
          21.1624072101557,
          19.3589410667373,
          17.898357597311,
          22.4955892009555,
          17.8828748072016,
          19.7317188333711,
          19.740549459272,
          18.662583628088,
          18.4867208594386,
          20.8654997861324,
          18.8834138346257,
          19.9345697576034,
          19.8670742541845,
          18.4867208594386,
          18.3565312754857,
          17.9010010375037,
          19.8097892365613,
          17.3542781161791,
          19.3851366192096,
          18.1129525526323,
          20.5673997631479,
          18.817243952262,
          18.5421775505336,
          17.1309134229396,
          18.5421775505336,
          19.8334489413599,
          19.7765156992039,
          17.4657624360061,
          19.8928443346184,
          21.4316410147063,
          19.7811896508538,
          21.4316410147063,
          21.4316410147063,
          21.9330849397415,
          21.0441735832412,
          22.2367971874547,
          20.330226823142,
          18.1977869550973,
          21.7195093059673,
          27.7009493846519,
          21.0242653342068,
          17.9010010375037,
          18.7528119164586,
          17.4657624360061,
          22.2367971874547,
          19.3456018797064,
          19.9665827034668,
          19.6177344736844,
          20.8654997861324,
          20.931780427548,
          18.3498456525598,
          20.849704672658,
          18.5313743857119,
          19.8670742541845,
          19.2378135742169,
          21.0441735832412,
          19.2378135742169,
          18.0543986128066,
          20.7939151262117,
          19.4403476775709,
          17.898357597311,
          18.8294434461761,
          17.898357597311,
          22.4955892009555,
          17.9010010375037,
          21.4316410147063,
          20.0758913511645,
          19.8233231275503,
          18.662583628088,
          26.7461654463555,
          18.53363056281,
          27.8208262031853,
          19.4264649623371,
          19.7471036231189,
          17.8828748072016,
          18.6268137027139,
          20.8654997861324,
          18.6268137027139,
          19.3851366192096,
          19.7317188333711,
          20.9137171683894,
          19.8334489413599,
          17.3583006081436,
          17.4657624360061,
          19.3456018797064,
          18.5972110437958,
          17.8574489143959,
          19.7471036231189,
          18.1977869550973,
          19.8670742541845,
          20.5673997631479,
          18.5421775505336,
          18.0543986128066,
          19.04814658445,
          20.7728974771856,
          18.347429183784,
          17.2191417465479,
          18.1977869550973,
          18.6260504445423,
          17.8828748072016,
          18.8496303576576,
          18.3995048113854,
          18.662583628088,
          20.9523706801123,
          17.8912426034376,
          19.6784530614549,
          18.5162298542406,
          21.2659422585413,
          18.3246715978929,
          19.4135008121551,
          19.8924852405003,
          19.8670742541845,
          17.0770698421321,
          19.8486383959028,
          19.6177344736844,
          21.7842522880628,
          19.8823896738853,
          19.8673795504696,
          19.9911184124993,
          18.4867208594386,
          19.8823896738853,
          27.7009493846519,
          19.2378135742169,
          19.4264649623371,
          18.2622192476135,
          21.4316410147063,
          18.1129525526323,
          19.8823896738853,
          20.5673997631479,
          17.8828748072016,
          18.662583628088,
          18.6268137027139,
          19.8670742541845,
          18.662583628088,
          19.4264649623371,
          18.3246715978929,
          18.347429183784,
          20.2193705360024,
          19.8668367672859,
          18.6260504445423,
          17.8574489143959,
          27.8208262031853,
          27.8208262031853,
          19.8668367672859,
          19.8668367672859,
          17.6346878397956,
          27.7009493846519,
          19.8668367672859,
          18.5972110437958,
          21.7842522880628,
          20.0758913511645,
          19.4403476775709,
          19.7811896508538,
          26.7461654463555,
          21.2659422585413,
          18.8496303576576,
          19.8668367672859,
          18.0543986128066,
          22.3751109554861,
          19.8673795504696,
          20.8654997861324,
          18.2588321239863,
          17.705401425113,
          21.9330849397415,
          17.2191417465479,
          18.3283221915827,
          20.9523706801123,
          19.9911184124993,
          18.5421775505336,
          18.013254120207,
          21.282503949862,
          19.8673795504696,
          19.1960018421516,
          21.7195093059673,
          17.8828748072016,
          19.2709848208616,
          19.7471036231189,
          20.9523706801123,
          21.1418405665055,
          33.0605085790865,
          30.4795291195217,
          38.5623204431589,
          37.6742921586251,
          32.7868663163452,
          33.8567194491218,
          40.1738892644635,
          39.1281365870741,
          40.1738892644635,
          31.7459798582144,
          34.68774088742,
          34.6354463023591,
          30.8930871910683,
          34.3549947443327,
          36.2413091661492,
          34.3549947443327,
          35.0362930938536,
          33.7928646952057,
          33.6789192301421,
          40.3119234712331,
          37.6742921586251,
          31.6418117899007,
          39.4460641217331,
          16.2197522936434,
          14.6002946043728,
          13.8471459722929,
          13.698705441592,
          17.9742447295382,
          17.0899622202895,
          14.673461055466,
          20.4247278508388,
          14.6101650448388,
          13.2226497054494,
          12.1059736545594,
          18.6673894339049,
          15.0612900634101,
          17.7555824057028,
          15.4375861740729,
          14.1760473357937,
          14.1760473357937,
          18.6163673965585,
          16.1859863401025,
          14.0496989920769,
          16.2707879725125,
          14.5980494229787,
          14.0496989920769,
          16.2197522936434,
          16.1763343962425,
          14.9035624673945,
          16.7384256009977,
          16.0544436426288,
          17.4246989886883,
          15.5285722656396,
          16.0544436426288,
          15.650633783939,
          14.8238615122665,
          18.2575604517803,
          15.8094165688597,
          16.1859863401025,
          34.0023784420382,
          35.6128125645081,
          35.2802112854537,
          61.2507025069968,
          59.1384415732226,
          61.1626983600861,
          58.5210361959668,
          65.1316727175182,
          59.9221589032045,
          30.1006860315248,
          30.5640093640418,
          31.4788087287185,
          29.6876014339606,
          30.5640093640418,
          29.6239078583181,
          30.5640093640418,
          34.0290999025297,
          27.0489492969215,
          25.9955899649489,
          25.4457282693463,
          25.4409057085627,
          23.1690862059864,
          24.5541120664336,
          26.0887777977251,
          26.0000225268351,
          27.4359488177046,
          26.8369291757318,
          25.6754335733133,
          25.5593446254922,
          27.2335192387107,
          25.8928464511573,
          21.0120804017965,
          25.2798228685294,
          21.9887653607103,
          27.5119530695272,
          27.1462625587537,
          31.7295238958958,
          21.438972013909,
          20.8109602031436,
          21.438972013909,
          27.2335192387107,
          21.0120804017965,
          27.0420655887785,
          14.8089552628033,
          11.9294901806516,
          11.9196484762731,
          12.2680347935244,
          12.7422927957855,
          11.8879463173172,
          16.5180043371345,
          10.2816944161974,
          11.0945689372373,
          12.6391584270055,
          18.0075967629224,
          10.6073757772639,
          12.6391584270055,
          12.4383932442274,
          18.1491034289466,
          13.87285747152,
          10.683869133247,
          16.2609512417023,
          30.1379149969445,
          28.5872508182564,
          27.7125209640428,
          21.737253128352,
          21.737253128352,
          26.3800815716973,
          null,
          22.6226115583593,
          21.737253128352,
          30.9065211918776,
          21.737253128352,
          30.9065211918776,
          25.0848301326061,
          21.4331344371062,
          25.8941634454504,
          34.1996106785054,
          30.1379149969445,
          28.5872508182564,
          27.8753499079993,
          27.5407633146214,
          30.8954725265517,
          28.9190464557992,
          27.5407633146214,
          33.4443999281801,
          17.7432007553678,
          29.5625966739782,
          33.4443999281801,
          32.0330447636625,
          32.0330447636625,
          16.7045170972885,
          13.294729969704,
          31.5819476792075,
          29.7012738717052,
          17.091641014581,
          27.3818140107183,
          29.5625966739782,
          31.9521551688008,
          24.0689387982564,
          25.3235758441984,
          26.224491600875,
          26.8579670206691,
          25.3235758441984,
          25.1618126248211,
          25.3235758441984,
          22.8238737804073,
          29.7663227400254,
          22.0983576656807,
          24.9022463301146,
          27.7996279650248,
          24.283543476586,
          29.7930527460287,
          25.391156462585,
          25.562777357832,
          28.2697486557636,
          26.8579670206691,
          19.3860328736427,
          18.2538520440618,
          17.5948558550366,
          17.4043684505979,
          17.1904551034479,
          19.3860328736427,
          19.0854592899871,
          19.0854592899871,
          19.6703139439834,
          20.3569333735275,
          19.0854592899871,
          17.1904551034479,
          18.8809552396798,
          18.2538520440618,
          39.5659185815602,
          34.9683846897886,
          40.0738820188929,
          42.8000800489495,
          42.2187021834586,
          42.5131242961095,
          39.379438487157,
          29.4685799310869,
          28.7440535522209,
          29.8613364611592,
          26.9478096167422,
          27.1575659149046,
          28.60037106763,
          28.2779031525563,
          30.452330771211,
          28.9884876844459,
          24.5720263408215,
          28.3083263423301,
          30.452330771211,
          26.7406547229018,
          27.9709193677985,
          29.22723610285,
          28.177900947324,
          32.0758626962807,
          28.177900947324,
          24.1916809888905,
          36.6764623146857,
          36.449836042494,
          36.9194346174892,
          36.7457771596492,
          36.9194346174892,
          null,
          27.5589198491187,
          52.5084274648092,
          27.6914031847094,
          54.1222589430263,
          47.0294471641146,
          28.9430232172321,
          null,
          29.4359043844839,
          23.3110510134181,
          23.3110510134181
         ],
         "xaxis": "x",
         "y": [
          3060,
          1,
          3000,
          2550,
          1740,
          1860,
          2970,
          3960,
          155,
          3621,
          0,
          1322,
          60,
          19,
          0,
          21,
          196,
          840,
          935,
          1260,
          619,
          150,
          762,
          0,
          660,
          1,
          2700,
          1,
          4921,
          95,
          251,
          4125,
          2550,
          1200,
          310,
          2818,
          5054,
          136,
          528,
          150,
          46,
          1,
          1920,
          32,
          135,
          3000,
          32,
          960,
          44,
          1605,
          4410,
          388,
          480,
          1219,
          90,
          538,
          104,
          60,
          1272,
          60,
          1,
          1000,
          3090,
          6510,
          5820,
          1078,
          1513,
          4830,
          3051,
          4200,
          2085,
          5730,
          4290,
          2670,
          3540,
          3637,
          1710,
          4320,
          3915,
          3120,
          4590,
          5034,
          3300,
          4320,
          1770,
          4080,
          5670,
          5700,
          1995,
          300,
          5115,
          2670,
          4338,
          761,
          5760,
          2820,
          4110,
          3360,
          3015,
          232,
          6420,
          5700,
          5610,
          270,
          4050,
          5865,
          1,
          2325,
          4170,
          4485,
          2694,
          168,
          5580,
          705,
          3494,
          4560,
          2760,
          5760,
          6030,
          4242,
          3120,
          5700,
          900,
          1046,
          3630,
          1260,
          5840,
          5790,
          2820,
          600,
          4259,
          2939,
          3600,
          1588,
          4260,
          2700,
          200,
          85,
          1019,
          420,
          1140,
          4458,
          373,
          1203,
          868,
          1455,
          206,
          1195,
          1559,
          900,
          2690,
          5115,
          5,
          189,
          2142,
          360,
          225,
          2340,
          480,
          480,
          3000,
          300,
          3020,
          766,
          1335,
          197,
          245,
          3255,
          1077,
          600,
          186,
          690,
          402,
          2420,
          327,
          1,
          1860,
          220,
          455,
          318,
          757,
          847,
          410,
          215,
          5,
          570,
          2655,
          1440,
          600,
          39,
          181,
          1185,
          1500,
          0,
          271,
          1860,
          1200,
          2159,
          6300,
          1620,
          224,
          70,
          1697,
          95,
          2220,
          1200,
          121,
          63,
          5595,
          1,
          557,
          240,
          3360,
          685,
          2280,
          210,
          167,
          1920,
          3569,
          3300,
          10,
          1560,
          840,
          240,
          990,
          6000,
          1282,
          1080,
          1320,
          1110,
          130,
          3040,
          394,
          45,
          1,
          1200,
          550,
          900,
          885,
          940,
          3050,
          1830,
          6000,
          1500,
          150,
          1955,
          2220,
          330,
          74,
          420,
          1440,
          255,
          1060,
          5250,
          4320,
          120,
          233,
          65,
          2120,
          96,
          3,
          4320,
          65,
          2146,
          96,
          4032,
          2580,
          6,
          569,
          0,
          200,
          1980,
          4045,
          2730,
          3314,
          1,
          47,
          1440,
          276,
          0,
          0,
          3646,
          1130,
          2880,
          513,
          35,
          10,
          3872,
          390,
          3264,
          1230,
          803,
          77,
          30,
          300,
          1,
          5,
          1450,
          2680,
          150,
          3000,
          420,
          479,
          1680,
          2700,
          149,
          1110,
          2790,
          659,
          1320,
          1830,
          3000,
          870,
          810,
          1336,
          1695,
          360,
          360,
          120,
          3000,
          1290,
          1530,
          2370,
          1200,
          1200,
          90,
          120,
          1200,
          2761,
          720,
          1120,
          2100,
          960,
          450,
          1440,
          1020,
          0,
          2010,
          120,
          1240,
          465,
          0,
          2460,
          1183,
          394,
          219,
          487,
          19,
          28,
          0,
          1,
          5340,
          467,
          0,
          1920,
          0,
          25,
          420,
          2040,
          0,
          1,
          1423,
          60,
          1620,
          3300,
          385,
          663,
          123,
          1276,
          1919,
          440,
          6690,
          0,
          717,
          1204,
          292,
          313,
          1,
          5,
          6276,
          0,
          74,
          0,
          248,
          1,
          2700,
          25,
          126,
          1,
          255,
          1207,
          0,
          0,
          245,
          476,
          1,
          2639,
          502,
          548,
          369,
          6480,
          15,
          5,
          1,
          0,
          432,
          21,
          1697,
          0,
          2615,
          3507,
          2820,
          314,
          5855,
          0,
          0,
          1,
          70,
          4285,
          355,
          0,
          2520,
          0,
          180,
          554,
          50,
          70,
          180,
          3842,
          35,
          1,
          189,
          4200,
          353,
          1,
          87,
          66,
          1,
          227,
          1440,
          1,
          2700,
          2,
          215,
          451,
          418,
          100,
          2021,
          1671,
          3938,
          4470,
          2279,
          4440,
          2760,
          0,
          1,
          0,
          1,
          1840,
          428,
          331,
          1980,
          1,
          1,
          1950,
          3037,
          1,
          1,
          1196,
          5628,
          1440,
          2,
          4232,
          95,
          2610,
          4320,
          17,
          113,
          0,
          2507,
          0,
          1,
          4920,
          1,
          4080,
          0,
          960,
          185,
          1320,
          1673,
          2855,
          3060,
          565,
          1,
          1,
          5790,
          3040,
          304,
          4517,
          0,
          3058,
          2865,
          152,
          380,
          5579,
          4800,
          3060,
          4792,
          3894,
          1757,
          2880,
          2985,
          164,
          3232,
          2319,
          4338,
          2880,
          1714,
          90,
          59,
          4139,
          6938,
          930,
          278,
          299,
          5320,
          2880,
          1,
          4260,
          6713,
          5160,
          1440,
          78,
          2668,
          1,
          376,
          1324,
          6940,
          2684,
          54,
          100,
          720,
          2880,
          3189,
          2790,
          2843,
          1642,
          1440,
          1,
          1680,
          1579,
          652,
          108,
          300,
          1020,
          3570,
          6492,
          0,
          120,
          1,
          1,
          1,
          1,
          1,
          1,
          60,
          113,
          204,
          31,
          57,
          13,
          2,
          11,
          283,
          0,
          1,
          871,
          1631,
          56,
          15,
          15,
          20,
          60,
          1,
          95,
          300,
          1,
          3186,
          575,
          2275,
          15,
          1,
          44,
          21,
          1,
          114,
          1,
          60,
          4920,
          4920,
          420,
          0,
          7,
          21,
          340,
          4200,
          805,
          5040,
          5490,
          165,
          3630,
          1590,
          3137,
          1440,
          360,
          0,
          1440,
          1372,
          6480,
          2190,
          285,
          75,
          1843,
          1,
          1420,
          0,
          930,
          0,
          352,
          0,
          960,
          1733,
          3690,
          634,
          1440,
          180,
          1574,
          45,
          563,
          388,
          373,
          4510,
          290,
          1950,
          270,
          1355,
          1318,
          2490,
          1265,
          195,
          3120,
          3388,
          1025,
          990,
          240,
          1485,
          129,
          0,
          1528,
          1890,
          2551,
          985,
          405,
          1698,
          167,
          1460,
          182,
          4113,
          885,
          15,
          42,
          1050,
          1,
          132,
          4140,
          2880,
          3599,
          0,
          2941,
          6090,
          1365,
          375,
          2520,
          76,
          0,
          3720,
          333,
          0,
          353,
          0,
          0,
          7020,
          3300,
          3339,
          2880,
          488,
          2415,
          180,
          4177,
          3480,
          6600,
          300,
          1526,
          60,
          210,
          2,
          1350,
          73,
          1,
          200,
          0,
          4380,
          0,
          120,
          2680,
          840,
          989,
          4313,
          214,
          4,
          164,
          91,
          1050,
          838,
          60,
          1,
          1,
          2425,
          390,
          6660,
          159,
          54,
          30,
          855,
          65,
          810,
          4150,
          4740,
          25,
          0,
          2070,
          870,
          2880,
          120,
          1199,
          1470,
          4140,
          50,
          0,
          1,
          1,
          0,
          0,
          0,
          457,
          1,
          1,
          0,
          30,
          1,
          1,
          65,
          1,
          0,
          0,
          0,
          1,
          1,
          0,
          1,
          1,
          110,
          39,
          1,
          1,
          1,
          1,
          1,
          1,
          507,
          213,
          4254,
          1,
          1,
          53,
          0,
          0,
          251,
          347,
          1637,
          2161,
          2880,
          1044,
          56,
          93,
          13,
          2089,
          2880,
          681,
          494,
          1,
          5355,
          0,
          3943,
          3300,
          191,
          0,
          73,
          4680,
          1,
          5,
          2515,
          2730,
          5400,
          30,
          3584,
          3600,
          5850,
          4710,
          1,
          1732,
          0,
          1800,
          6074,
          49,
          2299,
          5760,
          420,
          2880,
          448,
          2520,
          5513,
          21,
          2100,
          3120,
          3240,
          2880,
          255,
          2355,
          161,
          50,
          258,
          0,
          300,
          2400,
          48,
          300,
          2775,
          2775,
          2160,
          2100,
          2775,
          3180,
          2775,
          1440,
          430,
          2129,
          1755,
          692,
          732,
          7,
          510,
          420,
          557,
          300,
          6240,
          467,
          3067,
          3060,
          355,
          430,
          300,
          227,
          52,
          2880,
          1867,
          1690,
          295,
          17,
          240,
          182,
          5820,
          83,
          230,
          2009,
          720,
          155,
          4320,
          4320,
          480,
          1005,
          221,
          372,
          4320,
          91,
          1419,
          3600,
          5071,
          152,
          6840,
          221,
          38,
          61,
          90,
          396,
          2040,
          1080,
          1680,
          1099,
          2460,
          540,
          52,
          816,
          420,
          155,
          437,
          247,
          540,
          1135,
          437,
          180,
          171,
          656,
          84,
          202,
          255,
          1054,
          1,
          1254,
          1456,
          177,
          106,
          32,
          2464,
          55,
          144,
          70,
          64,
          945,
          523,
          56,
          3,
          155,
          33,
          749,
          159,
          270,
          2790,
          224,
          1470,
          334,
          2050,
          370,
          26,
          797,
          12,
          195,
          1,
          230,
          125,
          15,
          316,
          365,
          1560,
          4740,
          294,
          455,
          2878,
          336,
          295,
          480,
          25,
          223,
          2645,
          2016,
          360,
          3408,
          3698,
          4890,
          1,
          871,
          2759,
          250,
          3301,
          249,
          164,
          435,
          420,
          854,
          5160,
          133,
          2055,
          451,
          140,
          199,
          721,
          179,
          1524,
          78,
          268,
          39,
          1,
          47,
          161,
          900,
          6070,
          697,
          234,
          14,
          5910,
          40,
          166,
          182,
          829,
          15,
          64,
          13,
          245,
          1080,
          390,
          47,
          269,
          400,
          660,
          213,
          761,
          180,
          124,
          4320,
          2820,
          3100,
          989,
          125,
          44,
          26,
          245,
          98,
          1,
          0,
          135,
          50,
          1008,
          53,
          554,
          1260,
          2895,
          89,
          98,
          865,
          128,
          230,
          252,
          130,
          5,
          157,
          6914,
          11,
          13,
          2880,
          270,
          962,
          47,
          20,
          108,
          75,
          17,
          21,
          1950,
          141,
          959,
          1035,
          617,
          1230,
          572,
          324,
          1835,
          6780,
          900,
          37,
          72,
          1,
          251,
          620,
          89,
          909,
          236,
          326,
          300,
          751,
          122,
          214,
          193,
          8,
          5227,
          1414,
          448,
          4605,
          4080,
          1914,
          759,
          1,
          3,
          2700,
          105,
          240,
          210,
          1,
          1201,
          30,
          2806,
          1226,
          300,
          206,
          270,
          2880,
          513,
          3314,
          414,
          126,
          60,
          285,
          110,
          62,
          2363,
          424,
          180,
          0,
          448,
          2,
          624,
          2435,
          131,
          208,
          103,
          1355,
          1523,
          90,
          1205,
          385,
          144,
          235,
          241,
          6787,
          1337,
          1673,
          3366,
          2640,
          1826,
          570,
          1565,
          2691,
          1072,
          115,
          816,
          168,
          30,
          160,
          485,
          1508,
          1301,
          159,
          60,
          4,
          106,
          0,
          0,
          1,
          32,
          61,
          314,
          30,
          0,
          92,
          390,
          161,
          60,
          76,
          1,
          1,
          160,
          20,
          1,
          1,
          70,
          50,
          15,
          810,
          1380,
          1800,
          1560,
          2054,
          1452,
          1865,
          1999,
          120,
          1950,
          360,
          1087,
          1200,
          4122,
          360,
          645,
          108,
          0,
          1,
          1440,
          4560,
          1,
          1,
          110,
          210,
          120,
          0,
          4260,
          76,
          210,
          3305,
          5880,
          145,
          60,
          2640,
          1042,
          110,
          2245,
          984,
          1381,
          148,
          796,
          300,
          2612,
          3000,
          431,
          5310,
          1732,
          0,
          6685,
          3300,
          280,
          117,
          2895,
          480,
          31,
          1,
          0,
          0,
          103,
          4745,
          307,
          1656,
          3525,
          374,
          1068,
          1569,
          114,
          115,
          15,
          2891,
          1,
          1676,
          0,
          0,
          3604,
          195,
          1,
          0,
          2108,
          198,
          3667,
          1037,
          673,
          2652,
          300,
          881,
          618,
          1187,
          950,
          2535,
          27,
          108,
          73,
          200,
          5,
          75,
          0,
          77,
          660,
          0,
          92,
          30,
          33,
          1895,
          274,
          1,
          1534,
          1,
          60,
          108,
          2,
          175,
          2040,
          2710,
          284,
          105,
          4019,
          1,
          391,
          439,
          5,
          201,
          2140,
          103,
          187,
          1406,
          348,
          90,
          913,
          1367,
          174,
          543,
          237,
          1906,
          224,
          0,
          95,
          360,
          1548,
          870,
          0,
          220,
          720,
          59,
          181
         ],
         "yaxis": "y"
        }
       ],
       "layout": {
        "legend": {
         "tracegroupgap": 0
        },
        "template": {
         "data": {
          "bar": [
           {
            "error_x": {
             "color": "#2a3f5f"
            },
            "error_y": {
             "color": "#2a3f5f"
            },
            "marker": {
             "line": {
              "color": "#E5ECF6",
              "width": 0.5
             },
             "pattern": {
              "fillmode": "overlay",
              "size": 10,
              "solidity": 0.2
             }
            },
            "type": "bar"
           }
          ],
          "barpolar": [
           {
            "marker": {
             "line": {
              "color": "#E5ECF6",
              "width": 0.5
             },
             "pattern": {
              "fillmode": "overlay",
              "size": 10,
              "solidity": 0.2
             }
            },
            "type": "barpolar"
           }
          ],
          "carpet": [
           {
            "aaxis": {
             "endlinecolor": "#2a3f5f",
             "gridcolor": "white",
             "linecolor": "white",
             "minorgridcolor": "white",
             "startlinecolor": "#2a3f5f"
            },
            "baxis": {
             "endlinecolor": "#2a3f5f",
             "gridcolor": "white",
             "linecolor": "white",
             "minorgridcolor": "white",
             "startlinecolor": "#2a3f5f"
            },
            "type": "carpet"
           }
          ],
          "choropleth": [
           {
            "colorbar": {
             "outlinewidth": 0,
             "ticks": ""
            },
            "type": "choropleth"
           }
          ],
          "contour": [
           {
            "colorbar": {
             "outlinewidth": 0,
             "ticks": ""
            },
            "colorscale": [
             [
              0,
              "#0d0887"
             ],
             [
              0.1111111111111111,
              "#46039f"
             ],
             [
              0.2222222222222222,
              "#7201a8"
             ],
             [
              0.3333333333333333,
              "#9c179e"
             ],
             [
              0.4444444444444444,
              "#bd3786"
             ],
             [
              0.5555555555555556,
              "#d8576b"
             ],
             [
              0.6666666666666666,
              "#ed7953"
             ],
             [
              0.7777777777777778,
              "#fb9f3a"
             ],
             [
              0.8888888888888888,
              "#fdca26"
             ],
             [
              1,
              "#f0f921"
             ]
            ],
            "type": "contour"
           }
          ],
          "contourcarpet": [
           {
            "colorbar": {
             "outlinewidth": 0,
             "ticks": ""
            },
            "type": "contourcarpet"
           }
          ],
          "heatmap": [
           {
            "colorbar": {
             "outlinewidth": 0,
             "ticks": ""
            },
            "colorscale": [
             [
              0,
              "#0d0887"
             ],
             [
              0.1111111111111111,
              "#46039f"
             ],
             [
              0.2222222222222222,
              "#7201a8"
             ],
             [
              0.3333333333333333,
              "#9c179e"
             ],
             [
              0.4444444444444444,
              "#bd3786"
             ],
             [
              0.5555555555555556,
              "#d8576b"
             ],
             [
              0.6666666666666666,
              "#ed7953"
             ],
             [
              0.7777777777777778,
              "#fb9f3a"
             ],
             [
              0.8888888888888888,
              "#fdca26"
             ],
             [
              1,
              "#f0f921"
             ]
            ],
            "type": "heatmap"
           }
          ],
          "heatmapgl": [
           {
            "colorbar": {
             "outlinewidth": 0,
             "ticks": ""
            },
            "colorscale": [
             [
              0,
              "#0d0887"
             ],
             [
              0.1111111111111111,
              "#46039f"
             ],
             [
              0.2222222222222222,
              "#7201a8"
             ],
             [
              0.3333333333333333,
              "#9c179e"
             ],
             [
              0.4444444444444444,
              "#bd3786"
             ],
             [
              0.5555555555555556,
              "#d8576b"
             ],
             [
              0.6666666666666666,
              "#ed7953"
             ],
             [
              0.7777777777777778,
              "#fb9f3a"
             ],
             [
              0.8888888888888888,
              "#fdca26"
             ],
             [
              1,
              "#f0f921"
             ]
            ],
            "type": "heatmapgl"
           }
          ],
          "histogram": [
           {
            "marker": {
             "pattern": {
              "fillmode": "overlay",
              "size": 10,
              "solidity": 0.2
             }
            },
            "type": "histogram"
           }
          ],
          "histogram2d": [
           {
            "colorbar": {
             "outlinewidth": 0,
             "ticks": ""
            },
            "colorscale": [
             [
              0,
              "#0d0887"
             ],
             [
              0.1111111111111111,
              "#46039f"
             ],
             [
              0.2222222222222222,
              "#7201a8"
             ],
             [
              0.3333333333333333,
              "#9c179e"
             ],
             [
              0.4444444444444444,
              "#bd3786"
             ],
             [
              0.5555555555555556,
              "#d8576b"
             ],
             [
              0.6666666666666666,
              "#ed7953"
             ],
             [
              0.7777777777777778,
              "#fb9f3a"
             ],
             [
              0.8888888888888888,
              "#fdca26"
             ],
             [
              1,
              "#f0f921"
             ]
            ],
            "type": "histogram2d"
           }
          ],
          "histogram2dcontour": [
           {
            "colorbar": {
             "outlinewidth": 0,
             "ticks": ""
            },
            "colorscale": [
             [
              0,
              "#0d0887"
             ],
             [
              0.1111111111111111,
              "#46039f"
             ],
             [
              0.2222222222222222,
              "#7201a8"
             ],
             [
              0.3333333333333333,
              "#9c179e"
             ],
             [
              0.4444444444444444,
              "#bd3786"
             ],
             [
              0.5555555555555556,
              "#d8576b"
             ],
             [
              0.6666666666666666,
              "#ed7953"
             ],
             [
              0.7777777777777778,
              "#fb9f3a"
             ],
             [
              0.8888888888888888,
              "#fdca26"
             ],
             [
              1,
              "#f0f921"
             ]
            ],
            "type": "histogram2dcontour"
           }
          ],
          "mesh3d": [
           {
            "colorbar": {
             "outlinewidth": 0,
             "ticks": ""
            },
            "type": "mesh3d"
           }
          ],
          "parcoords": [
           {
            "line": {
             "colorbar": {
              "outlinewidth": 0,
              "ticks": ""
             }
            },
            "type": "parcoords"
           }
          ],
          "pie": [
           {
            "automargin": true,
            "type": "pie"
           }
          ],
          "scatter": [
           {
            "fillpattern": {
             "fillmode": "overlay",
             "size": 10,
             "solidity": 0.2
            },
            "type": "scatter"
           }
          ],
          "scatter3d": [
           {
            "line": {
             "colorbar": {
              "outlinewidth": 0,
              "ticks": ""
             }
            },
            "marker": {
             "colorbar": {
              "outlinewidth": 0,
              "ticks": ""
             }
            },
            "type": "scatter3d"
           }
          ],
          "scattercarpet": [
           {
            "marker": {
             "colorbar": {
              "outlinewidth": 0,
              "ticks": ""
             }
            },
            "type": "scattercarpet"
           }
          ],
          "scattergeo": [
           {
            "marker": {
             "colorbar": {
              "outlinewidth": 0,
              "ticks": ""
             }
            },
            "type": "scattergeo"
           }
          ],
          "scattergl": [
           {
            "marker": {
             "colorbar": {
              "outlinewidth": 0,
              "ticks": ""
             }
            },
            "type": "scattergl"
           }
          ],
          "scattermapbox": [
           {
            "marker": {
             "colorbar": {
              "outlinewidth": 0,
              "ticks": ""
             }
            },
            "type": "scattermapbox"
           }
          ],
          "scatterpolar": [
           {
            "marker": {
             "colorbar": {
              "outlinewidth": 0,
              "ticks": ""
             }
            },
            "type": "scatterpolar"
           }
          ],
          "scatterpolargl": [
           {
            "marker": {
             "colorbar": {
              "outlinewidth": 0,
              "ticks": ""
             }
            },
            "type": "scatterpolargl"
           }
          ],
          "scatterternary": [
           {
            "marker": {
             "colorbar": {
              "outlinewidth": 0,
              "ticks": ""
             }
            },
            "type": "scatterternary"
           }
          ],
          "surface": [
           {
            "colorbar": {
             "outlinewidth": 0,
             "ticks": ""
            },
            "colorscale": [
             [
              0,
              "#0d0887"
             ],
             [
              0.1111111111111111,
              "#46039f"
             ],
             [
              0.2222222222222222,
              "#7201a8"
             ],
             [
              0.3333333333333333,
              "#9c179e"
             ],
             [
              0.4444444444444444,
              "#bd3786"
             ],
             [
              0.5555555555555556,
              "#d8576b"
             ],
             [
              0.6666666666666666,
              "#ed7953"
             ],
             [
              0.7777777777777778,
              "#fb9f3a"
             ],
             [
              0.8888888888888888,
              "#fdca26"
             ],
             [
              1,
              "#f0f921"
             ]
            ],
            "type": "surface"
           }
          ],
          "table": [
           {
            "cells": {
             "fill": {
              "color": "#EBF0F8"
             },
             "line": {
              "color": "white"
             }
            },
            "header": {
             "fill": {
              "color": "#C8D4E3"
             },
             "line": {
              "color": "white"
             }
            },
            "type": "table"
           }
          ]
         },
         "layout": {
          "annotationdefaults": {
           "arrowcolor": "#2a3f5f",
           "arrowhead": 0,
           "arrowwidth": 1
          },
          "autotypenumbers": "strict",
          "coloraxis": {
           "colorbar": {
            "outlinewidth": 0,
            "ticks": ""
           }
          },
          "colorscale": {
           "diverging": [
            [
             0,
             "#8e0152"
            ],
            [
             0.1,
             "#c51b7d"
            ],
            [
             0.2,
             "#de77ae"
            ],
            [
             0.3,
             "#f1b6da"
            ],
            [
             0.4,
             "#fde0ef"
            ],
            [
             0.5,
             "#f7f7f7"
            ],
            [
             0.6,
             "#e6f5d0"
            ],
            [
             0.7,
             "#b8e186"
            ],
            [
             0.8,
             "#7fbc41"
            ],
            [
             0.9,
             "#4d9221"
            ],
            [
             1,
             "#276419"
            ]
           ],
           "sequential": [
            [
             0,
             "#0d0887"
            ],
            [
             0.1111111111111111,
             "#46039f"
            ],
            [
             0.2222222222222222,
             "#7201a8"
            ],
            [
             0.3333333333333333,
             "#9c179e"
            ],
            [
             0.4444444444444444,
             "#bd3786"
            ],
            [
             0.5555555555555556,
             "#d8576b"
            ],
            [
             0.6666666666666666,
             "#ed7953"
            ],
            [
             0.7777777777777778,
             "#fb9f3a"
            ],
            [
             0.8888888888888888,
             "#fdca26"
            ],
            [
             1,
             "#f0f921"
            ]
           ],
           "sequentialminus": [
            [
             0,
             "#0d0887"
            ],
            [
             0.1111111111111111,
             "#46039f"
            ],
            [
             0.2222222222222222,
             "#7201a8"
            ],
            [
             0.3333333333333333,
             "#9c179e"
            ],
            [
             0.4444444444444444,
             "#bd3786"
            ],
            [
             0.5555555555555556,
             "#d8576b"
            ],
            [
             0.6666666666666666,
             "#ed7953"
            ],
            [
             0.7777777777777778,
             "#fb9f3a"
            ],
            [
             0.8888888888888888,
             "#fdca26"
            ],
            [
             1,
             "#f0f921"
            ]
           ]
          },
          "colorway": [
           "#636efa",
           "#EF553B",
           "#00cc96",
           "#ab63fa",
           "#FFA15A",
           "#19d3f3",
           "#FF6692",
           "#B6E880",
           "#FF97FF",
           "#FECB52"
          ],
          "font": {
           "color": "#2a3f5f"
          },
          "geo": {
           "bgcolor": "white",
           "lakecolor": "white",
           "landcolor": "#E5ECF6",
           "showlakes": true,
           "showland": true,
           "subunitcolor": "white"
          },
          "hoverlabel": {
           "align": "left"
          },
          "hovermode": "closest",
          "mapbox": {
           "style": "light"
          },
          "paper_bgcolor": "white",
          "plot_bgcolor": "#E5ECF6",
          "polar": {
           "angularaxis": {
            "gridcolor": "white",
            "linecolor": "white",
            "ticks": ""
           },
           "bgcolor": "#E5ECF6",
           "radialaxis": {
            "gridcolor": "white",
            "linecolor": "white",
            "ticks": ""
           }
          },
          "scene": {
           "xaxis": {
            "backgroundcolor": "#E5ECF6",
            "gridcolor": "white",
            "gridwidth": 2,
            "linecolor": "white",
            "showbackground": true,
            "ticks": "",
            "zerolinecolor": "white"
           },
           "yaxis": {
            "backgroundcolor": "#E5ECF6",
            "gridcolor": "white",
            "gridwidth": 2,
            "linecolor": "white",
            "showbackground": true,
            "ticks": "",
            "zerolinecolor": "white"
           },
           "zaxis": {
            "backgroundcolor": "#E5ECF6",
            "gridcolor": "white",
            "gridwidth": 2,
            "linecolor": "white",
            "showbackground": true,
            "ticks": "",
            "zerolinecolor": "white"
           }
          },
          "shapedefaults": {
           "line": {
            "color": "#2a3f5f"
           }
          },
          "ternary": {
           "aaxis": {
            "gridcolor": "white",
            "linecolor": "white",
            "ticks": ""
           },
           "baxis": {
            "gridcolor": "white",
            "linecolor": "white",
            "ticks": ""
           },
           "bgcolor": "#E5ECF6",
           "caxis": {
            "gridcolor": "white",
            "linecolor": "white",
            "ticks": ""
           }
          },
          "title": {
           "x": 0.05
          },
          "xaxis": {
           "automargin": true,
           "gridcolor": "white",
           "linecolor": "white",
           "ticks": "",
           "title": {
            "standoff": 15
           },
           "zerolinecolor": "white",
           "zerolinewidth": 2
          },
          "yaxis": {
           "automargin": true,
           "gridcolor": "white",
           "linecolor": "white",
           "ticks": "",
           "title": {
            "standoff": 15
           },
           "zerolinecolor": "white",
           "zerolinewidth": 2
          }
         }
        },
        "title": {
         "text": "IND.PERCEN"
        },
        "xaxis": {
         "anchor": "y",
         "domain": [
          0,
          1
         ],
         "title": {
          "text": "IND.PERCEN"
         }
        },
        "yaxis": {
         "anchor": "x",
         "domain": [
          0,
          1
         ],
         "title": {
          "text": "OUTAGE.DURATION"
         }
        }
       }
      },
      "text/html": [
       "<div>                            <div id=\"818ef32f-c0db-4f9f-a450-4722c8f74272\" class=\"plotly-graph-div\" style=\"height:525px; width:100%;\"></div>            <script type=\"text/javascript\">                require([\"plotly\"], function(Plotly) {                    window.PLOTLYENV=window.PLOTLYENV || {};                                    if (document.getElementById(\"818ef32f-c0db-4f9f-a450-4722c8f74272\")) {                    Plotly.newPlot(                        \"818ef32f-c0db-4f9f-a450-4722c8f74272\",                        [{\"hovertemplate\":\"IND.PERCEN=%{x}\\u003cbr\\u003eOUTAGE.DURATION=%{y}\\u003cextra\\u003e\\u003c\\u002fextra\\u003e\",\"legendgroup\":\"\",\"marker\":{\"color\":\"#636efa\",\"symbol\":\"circle\"},\"mode\":\"markers\",\"name\":\"\",\"showlegend\":false,\"x\":[32.2024313830663,35.7275637647181,37.365983444259,34.4393288202792,29.7794982830958,35.5381595229013,32.701651075658,31.861839273059,32.0719616050473,34.7022956013617,32.2024313830663,36.5178270793445,33.783500861937,22.5702238313868,26.1067536920386,22.5702238313868,31.5361041538128,29.3966189401901,20.6036864929452,25.5045372589187,25.2745755953638,20.0283040128279,24.2180927288048,26.6829511060554,31.5361041538128,24.7381405018955,29.1385711309459,24.7381405018955,31.5361041538128,27.3358255449949,19.3230445624225,24.7381405018955,31.5361041538128,20.0283040128279,21.0691280310668,22.2626551552238,31.5361041538128,26.9292876910675,24.288235318142,20.0283040128279,31.5361041538128,24.7381405018955,20.0283040128279,24.9461632289705,30.4207044899286,37.2021560206755,33.8806379641304,37.0713285285029,30.4207044899286,31.311835147589,37.1821844814534,32.3498892214775,36.7171788984269,40.7517454957516,30.4207044899286,35.3948025921906,33.8806379641304,30.4207044899286,33.8806379641304,30.4207044899286,38.7695696250434,40.4415162643976,32.5715431263469,32.27528336041,39.9263406697297,25.8643842427708,29.5250876936842,28.3871846266069,32.9915406814391,41.1516340716941,32.5715431263469,30.8613179035426,33.3345128245957,31.7004851724275,29.5716856502981,28.7312208343452,30.7494236927856,28.3871846266069,30.9606281957995,29.094371030205,28.4124765608081,31.9265975192953,34.2423368796421,27.8924959131265,26.9352176267129,32.7791261355107,29.5716856502981,36.1587809226833,28.054721646293,null,26.8077443774689,25.4176197306838,31.0578705071019,37.4692111639304,31.9265975192953,33.2143806612874,30.4987968597475,35.2613516953759,26.9360819485703,28.8704782004188,34.3566455157029,26.7952316313592,26.6463672217302,30.8444405279052,31.7004851724275,25.8643842427708,31.7004851724275,33.3345128245957,33.0361665732395,27.7421730492186,32.9915406814391,33.116012477033,27.4762237202586,26.8077443774689,34.2079545470728,36.1587809226833,30.8459279547692,31.9603530596735,25.1540406656169,27.8646292340596,33.6409324528945,39.9263406697297,26.7432922523992,28.9817949294492,32.9297573840364,25.8643842427708,35.2613516953759,26.4891598692026,28.054721646293,30.8613179035426,28.4124765608081,33.3723433409022,33.9247525207527,26.7952316313592,25.1540406656169,28.6379001303796,32.5715431263469,25.8643842427708,29.0141505695161,31.0994407808726,27.4762237202586,26.1874902711988,23.7853448996486,26.6641818451367,26.6641818451367,null,22.0344617435978,26.5521349621873,25.9185991152058,33.644738868661,29.9553751810822,29.6129873107167,26.6806180276989,34.3165032136206,26.0549546896243,26.0549546896243,22.6738166091926,28.6030415009855,22.8770759707791,34.2199642307532,26.157876172173,30.0716884001586,29.9553751810822,30.8876915612399,22.5516814581687,22.5516814581687,34.3165032136206,29.485901311259,31.3131022295416,27.1116770807482,37.2053818986719,34.1504114446193,26.5521349621873,27.6347270113719,26.6641818451367,24.9363816533127,27.5629138453994,26.5521349621873,27.6347270113719,28.6030415009855,32.3987388511948,26.2875494114129,26.8856844379773,24.4365919673634,31.8350782804428,30.0968657056768,null,28.6732782451003,33.5663656901309,36.0588183084871,22.1842413874805,31.8350782804428,24.4365919673634,26.8856844379773,31.720285753726,23.4187434976399,25.0206520159659,34.2199642307532,26.9251383915741,24.3645303606078,25.4304245961933,38.2231848116724,26.6641818451367,34.3165032136206,23.5798515122361,36.5713186118136,34.3165032136206,23.7853448996486,35.2688740833292,26.2801121433885,28.0559473870751,25.0206520159659,28.007121129042,26.0286613713811,30.9679716421356,22.8660595127785,30.1498673414669,33.3141420360516,28.029797704979,29.9553751810822,27.8603865981435,22.8660595127785,29.1737316224459,24.4365919673634,26.5521349621873,22.5516814581687,30.0716884001586,27.8205140842679,29.6129873107167,32.6044466459202,34.3165032136206,29.6129873107167,25.0206520159659,25.9185991152058,26.6806180276989,28.9030435337818,23.7853448996486,34.3165032136206,31.9287349938967,24.7571315309822,31.8350782804428,33.4653358760987,25.4304245961933,24.2371393609557,33.4020886255305,22.6738166091926,27.8105161156403,22.8660595127785,31.3131022295416,32.6044466459202,35.4407703283712,28.7298964704044,46.1507095985633,44.1132307579997,47.1672154614047,47.5667219978814,51.9354828248802,36.7839227846411,39.3356870585806,45.6062854691176,50.3849558851548,47.1672154614047,47.1672154614047,38.7465536938309,50.6960275996282,47.1672154614047,50.3849558851548,49.6876928404521,38.8689061358414,48.3529430002015,43.1157330917449,42.2503693025321,51.5465793189277,45.9573086049592,48.4808457619418,45.6062854691176,44.3747111826552,38.8689061358414,51.8707295178206,43.1157330917449,38.7465536938309,48.4808457619418,43.1454208312042,47.1672154614047,42.2503693025321,39.3356870585806,45.6062854691176,42.4306138418116,37.5426274574573,38.5841236057307,37.3525803829831,34.5206274595308,42.6441238511062,32.3932642810293,35.7689954127101,37.7771271580426,37.662951279861,33.5581045235276,29.9847910507761,29.6443161553776,33.9121659628101,26.8614486579908,32.419521651098,33.1075501375441,29.9847910507761,31.7733430628862,30.8518464524511,30.4489622216412,28.8426579439775,33.090678313505,26.5119769201896,26.8614486579908,26.8614486579908,35.0703963683369,30.5265895713901,30.8518464524511,27.8807019141734,29.5292124964597,34.3571785941032,29.9188612875632,29.1519766105919,31.2955867000939,32.9760858927192,28.6084266323525,28.5586444877298,27.8282587229198,32.7337276624847,29.5502975060338,28.468772318551,30.183797959749,28.7817714923416,33.9121659628101,27.8807019141734,30.8518464524511,26.6525237685444,30.1299738772284,26.5119769201896,30.183797959749,26.5119769201896,25.6897913588249,26.3462098084615,25.6897913588249,25.8828497058223,25.4018422047251,33.1867223950233,29.2018261286343,29.2018261286343,30.7265888841536,27.0801501839718,34.8184282345319,32.8164654264146,18.8243290745862,33.4320192160775,26.3462098084615,25.4998520259099,26.3962848223264,29.7998388315136,23.6108276233005,19.5091663029752,26.3962848223264,null,33.4320192160775,29.6583330389282,26.3462098084615,29.9687618764873,33.1867223950233,28.7095627072199,29.2935624752031,33.4320192160775,25.8316366609487,33.7981223731779,22.6523861230989,33.7981223731779,25.6897913588249,24.8111307878016,29.2018261286343,28.7445100287724,32.1377525354554,27.0801501839718,25.8331327073804,25.6740286039294,24.4817952648936,25.4998520259099,28.0659089181668,33.7981223731779,29.6279296865648,25.6897913588249,25.6740286039294,32.8392915636055,32.8843821494065,33.4320192160775,34.8184282345319,34.8184282345319,33.4320192160775,33.4011772333933,33.0110298789043,19.3704181610842,29.2018261286343,33.4496573546239,33.1867223950233,20.4404811848152,31.8887760508716,32.1377525354554,26.3462098084615,25.4998520259099,26.3462098084615,30.16816930837,33.4320192160775,34.8184282345319,29.2018261286343,22.6523861230989,19.3704181610842,33.7981223731779,22.9428180929117,34.8184282345319,25.4998520259099,27.484143612616,31.8887760508716,24.0204543451868,33.1867223950233,25.4998520259099,30.7163815462911,25.4998520259099,31.8142616943869,14.9263184114072,22.6046189296125,22.6046189296125,18.576162263485,13.003396687633,13.8391982752708,19.5093319278361,13.5785746759792,16.8505887603831,19.7527328094115,20.7012301648155,20.7012301648155,17.7460068350506,16.6500407936899,22.7631459411979,18.576162263485,18.9177984279952,18.576162263485,22.6046189296125,17.714476643151,21.9110329974024,16.1858807096704,13.8391982752708,8.43102559247444,29.8195934736164,9.85397469743619,8.93696712706322,29.2816325269217,9.85397469743619,29.4309391369217,5.79754667431576,7.64723241199428,6.60860355633318,7.64723241199428,4.8215384434055,8.85413512831404,8.68096358162675,7.35649309770717,7.64723241199428,6.41446123986381,42.5653065164245,6.60860355633318,5.50714011001182,5.58009453039856,4.8215384434055,29.4309391369217,6.98099292781768,7.64723241199428,6.60818266013126,6.78529314589121,10.2800630611125,8.43102559247444,8.92491039074607,6.41446123986381,5.58009453039856,7.64723241199428,5.58009453039856,4.94762330824694,42.5653065164245,7.64723241199428,37.4204691584833,8.43102559247444,6.78529314589121,6.98099292781768,8.93696712706322,7.16823935137516,8.51246556338134,10.0355360106095,7.23050409855322,7.64723241199428,7.64723241199428,7.80423504889924,7.00513469840256,7.44269429207382,29.4309391369217,5.79754667431576,30.355255640183,34.6657645592855,36.2617680925393,34.1695668404253,33.2242591119074,34.4082183273266,34.3517512700607,31.4196968503747,30.8949544544832,33.4922492821421,31.3207596036462,30.029944190918,30.0181435210313,31.4196968503747,31.3090617269233,32.3393113024454,36.6051534528882,29.9816293605877,33.9403398973967,29.3341633308621,31.4758970883129,33.9646677212424,31.4758970883129,null,33.9646677212424,31.0279419369843,31.3207596036462,29.1557784404017,30.4875331625075,33.9646677212424,26.6274896542855,30.8949544544832,31.1017737472624,29.1557784404017,29.3341633308621,28.6930165704255,36.2617680925393,29.1557784404017,30.9546258982579,29.3341633308621,36.6051534528882,30.4344101082043,31.3207596036462,30.8949544544832,30.4344101082043,36.6051534528882,35.9759579066921,40.302604005548,34.6491996465202,46.0243679875454,40.9632229516219,51.7431198955399,39.8771843478026,49.4842014942714,48.2943968704065,45.231640232298,45.231640232298,33.7591941303293,32.059956941379,35.1356288894593,36.593818359275,36.593818359275,31.6964806843977,32.5577221528367,34.7793066476054,30.4958628954694,34.7793066476054,34.0226100279571,32.059956941379,28.5506466821303,32.5577221528367,31.6964806843977,34.6701701072738,26.2598506090411,36.7101407762031,36.593818359275,34.6584177786151,32.3913565075022,34.6701701072738,27.9038340712061,33.9287728438797,34.8598918099614,32.3519564080153,33.8874410025872,28.7158882536943,29.2658958656184,33.8874410025872,33.3339652395726,34.6701701072738,27.2878408518723,27.2074263686921,35.1356288894593,30.2229511540161,32.1996118486408,36.593818359275,36.7101407762031,36.3845130766105,29.9737475865794,42.6471992975511,42.6471992975511,32.5409930348265,31.9002946892491,34.8488461223526,37.2631860286848,36.3192987907911,38.5193739359839,33.6902933760026,31.9070008223504,31.9002946892491,29.9759045789672,32.5259389526802,31.5656423602692,36.6829147368929,32.1684210493434,30.9923968211423,29.5929736133945,33.0438224387937,29.9759045789672,41.3041584735383,34.2047179360449,37.2631860286848,33.7975755615985,33.7396888453917,37.6115457650179,33.9541267574464,30.9923968211423,32.5259389526802,40.2717674955894,30.9923968211423,31.9002946892491,33.9338209514673,32.0052102488567,39.1597331695505,29.5929736133945,21.3470572585177,22.414348125595,23.4961394321335,17.3028830874166,22.0084784189836,17.4929923175649,17.3328535657776,17.6157392117547,19.765365147548,19.1306686148205,17.3328535657776,null,21.1617572395204,28.0023285889472,15.621323480004,18.9604715228394,24.097543676273,22.8597359107313,24.9128027701567,20.7474780709462,23.4524312497624,20.4566112940716,19.765365147548,22.7540338090779,22.6363437910558,25.0649846676836,18.9604715228394,20.6264179509434,23.9450109429567,20.4566112940716,null,18.4596508598955,15.621323480004,18.9604715228394,21.5326254042944,22.6363437910558,20.0748587982429,20.6264179509434,9.03085897605753,9.19406190345302,15.363727810917,8.95351505151225,15.6328945030723,11.2603480482161,8.03494121396526,12.0152404140899,11.9262060535027,10.1562420820292,8.95351505151225,9.07373800242408,10.1562420820292,15.6172349404395,12.0152404140899,12.4119791681568,9.82228929306367,11.2603480482161,10.1562420820292,9.78783026698645,11.8031385132104,8.36991519852096,8.95351505151225,38.5425491176066,31.1073842468936,30.7384883279007,32.9073470165426,35.1157381371743,41.8922033321896,30.7384883279007,23.4145522908205,21.1635738837707,25.7471073025763,27.5627433699136,29.9251458109861,22.6765697080299,22.2156455037593,20.1084427380463,22.5516158900442,22.029845623261,28.4567509519305,22.8080918900637,null,21.6936801532833,29.7620823399458,22.029845623261,26.4396140919408,29.9251458109861,28.4567509519305,22.2156455037593,22.029845623261,28.0036346531056,27.9065689112964,22.8080918900637,29.3157999343132,1.56016262485587,1.55685195641054,1.90409899154912,1.83296093871786,2.03780051288328,2.00582007769292,1.55685195641054,18.9953326885585,21.5771254601724,17.216530116189,17.216530116189,17.0800916121974,19.848795705358,17.9961074132853,18.454268142662,23.220415785683,24.7524485558161,18.1288706591137,24.6863971799722,20.9164167841141,19.5123578183831,21.9009954584795,27.5534286764529,26.071188199032,23.6363163672761,22.1100311683772,22.7114655615523,18.4454335761423,27.4933284672069,26.5158062288179,20.0952155021219,22.7762198344609,32.0605010172695,24.8446869555826,20.1704400537314,20.1870153174673,25.7520212529341,22.1100311683772,22.1100311683772,23.3352867147647,27.4933284672069,25.7520212529341,27.5534286764529,26.071188199032,23.3352867147647,32.0605010172695,19.2454556045028,26.071188199032,26.5158062288179,23.5115548172129,27.5534286764529,27.4933284672069,null,13.2837651152604,17.3835632939347,23.5115548172129,22.8520475420359,17.0702971470929,18.4454335761423,21.9009954584795,41.252409033688,37.6986962927479,37.4522620944093,46.4189332200494,41.252409033688,37.6986962927479,25.2788068186848,33.8771380217453,34.4149794199519,16.6119871158783,8.4423384189818,18.6698449886557,19.3179059582278,8.4423384189818,10.3417692719663,10.13047400904,11.7704119098459,12.7814566270849,13.1854830663972,11.3473649136447,13.1854830663972,13.8660819650931,13.0905471817358,13.293729694868,13.0905471817358,10.3652648961954,9.33870283740152,10.13047400904,9.86999618754045,8.80180565048069,9.35456913371956,10.3077888613692,11.3473649136447,13.8498427767175,8.80180565048069,10.3652648961954,10.3417692719663,13.9943335802705,8.4423384189818,9.57659105986762,8.27769747602153,10.13047400904,9.9086434979483,9.09332526434045,13.8498427767175,9.5831793355509,16.0650564670614,13.8660819650931,13.9666324122562,8.4423384189818,11.0476505977285,10.3652648961954,11.1676354139368,10.3077888613692,8.58195283119947,9.52894793552065,10.7434637692206,14.0746164605264,13.9943335802705,26.4373259702847,28.2334017489423,28.2334017489423,28.9500679351242,33.4650901334092,28.2334017489423,40.5783849542037,28.2334017489423,29.1471265204423,32.2115617142185,36.8647939361682,30.9845731845114,28.9500679351242,36.370730372937,39.4164228681291,31.3026991774353,30.0817688449303,32.2115617142185,26.4373259702847,32.6893956648632,32.2115617142185,30.9970340279864,30.9970340279864,37.6244871849267,32.2115617142185,26.4373259702847,40.7769903075234,44.2140188362426,29.7472339249318,30.9970340279864,39.4164228681291,39.9447938946843,8.13273710803608,6.38451221885281,8.93172781904335,7.55779165684239,8.06953442145373,7.86792971196317,8.74312727395935,8.62213197732262,8.93172781904335,10.1024345261669,10.1024345261669,7.48110291125593,10.7364520990818,8.0743456508895,6.70577435704196,10.1024345261669,8.93172781904335,8.11420107580559,8.20393990406393,7.55779165684239,7.15870898256282,8.20393990406393,7.48110291125593,8.93172781904335,8.93172781904335,6.63869255231911,7.87662479457419,8.20393990406393,8.62213197732262,8.20393990406393,7.48110291125593,8.20393990406393,8.74312727395935,7.07729891756922,9.11592165713587,18.3283221915827,20.3753950585114,21.0242653342068,19.4135008121551,19.7811896508538,21.0441735832412,17.3542781161791,17.8912426034376,19.8486383959028,21.1624072101557,19.3589410667373,17.898357597311,22.4955892009555,17.8828748072016,19.7317188333711,19.740549459272,18.662583628088,18.4867208594386,20.8654997861324,18.8834138346257,19.9345697576034,19.8670742541845,18.4867208594386,18.3565312754857,17.9010010375037,19.8097892365613,17.3542781161791,19.3851366192096,18.1129525526323,20.5673997631479,18.817243952262,18.5421775505336,17.1309134229396,18.5421775505336,19.8334489413599,19.7765156992039,17.4657624360061,19.8928443346184,21.4316410147063,19.7811896508538,21.4316410147063,21.4316410147063,21.9330849397415,21.0441735832412,22.2367971874547,20.330226823142,18.1977869550973,21.7195093059673,27.7009493846519,21.0242653342068,17.9010010375037,18.7528119164586,17.4657624360061,22.2367971874547,19.3456018797064,19.9665827034668,19.6177344736844,20.8654997861324,20.931780427548,18.3498456525598,20.849704672658,18.5313743857119,19.8670742541845,19.2378135742169,21.0441735832412,19.2378135742169,18.0543986128066,20.7939151262117,19.4403476775709,17.898357597311,18.8294434461761,17.898357597311,22.4955892009555,17.9010010375037,21.4316410147063,20.0758913511645,19.8233231275503,18.662583628088,26.7461654463555,18.53363056281,27.8208262031853,19.4264649623371,19.7471036231189,17.8828748072016,18.6268137027139,20.8654997861324,18.6268137027139,19.3851366192096,19.7317188333711,20.9137171683894,19.8334489413599,17.3583006081436,17.4657624360061,19.3456018797064,18.5972110437958,17.8574489143959,19.7471036231189,18.1977869550973,19.8670742541845,20.5673997631479,18.5421775505336,18.0543986128066,19.04814658445,20.7728974771856,18.347429183784,17.2191417465479,18.1977869550973,18.6260504445423,17.8828748072016,18.8496303576576,18.3995048113854,18.662583628088,20.9523706801123,17.8912426034376,19.6784530614549,18.5162298542406,21.2659422585413,18.3246715978929,19.4135008121551,19.8924852405003,19.8670742541845,17.0770698421321,19.8486383959028,19.6177344736844,21.7842522880628,19.8823896738853,19.8673795504696,19.9911184124993,18.4867208594386,19.8823896738853,27.7009493846519,19.2378135742169,19.4264649623371,18.2622192476135,21.4316410147063,18.1129525526323,19.8823896738853,20.5673997631479,17.8828748072016,18.662583628088,18.6268137027139,19.8670742541845,18.662583628088,19.4264649623371,18.3246715978929,18.347429183784,20.2193705360024,19.8668367672859,18.6260504445423,17.8574489143959,27.8208262031853,27.8208262031853,19.8668367672859,19.8668367672859,17.6346878397956,27.7009493846519,19.8668367672859,18.5972110437958,21.7842522880628,20.0758913511645,19.4403476775709,19.7811896508538,26.7461654463555,21.2659422585413,18.8496303576576,19.8668367672859,18.0543986128066,22.3751109554861,19.8673795504696,20.8654997861324,18.2588321239863,17.705401425113,21.9330849397415,17.2191417465479,18.3283221915827,20.9523706801123,19.9911184124993,18.5421775505336,18.013254120207,21.282503949862,19.8673795504696,19.1960018421516,21.7195093059673,17.8828748072016,19.2709848208616,19.7471036231189,20.9523706801123,21.1418405665055,33.0605085790865,30.4795291195217,38.5623204431589,37.6742921586251,32.7868663163452,33.8567194491218,40.1738892644635,39.1281365870741,40.1738892644635,31.7459798582144,34.68774088742,34.6354463023591,30.8930871910683,34.3549947443327,36.2413091661492,34.3549947443327,35.0362930938536,33.7928646952057,33.6789192301421,40.3119234712331,37.6742921586251,31.6418117899007,39.4460641217331,16.2197522936434,14.6002946043728,13.8471459722929,13.698705441592,17.9742447295382,17.0899622202895,14.673461055466,20.4247278508388,14.6101650448388,13.2226497054494,12.1059736545594,18.6673894339049,15.0612900634101,17.7555824057028,15.4375861740729,14.1760473357937,14.1760473357937,18.6163673965585,16.1859863401025,14.0496989920769,16.2707879725125,14.5980494229787,14.0496989920769,16.2197522936434,16.1763343962425,14.9035624673945,16.7384256009977,16.0544436426288,17.4246989886883,15.5285722656396,16.0544436426288,15.650633783939,14.8238615122665,18.2575604517803,15.8094165688597,16.1859863401025,34.0023784420382,35.6128125645081,35.2802112854537,61.2507025069968,59.1384415732226,61.1626983600861,58.5210361959668,65.1316727175182,59.9221589032045,30.1006860315248,30.5640093640418,31.4788087287185,29.6876014339606,30.5640093640418,29.6239078583181,30.5640093640418,34.0290999025297,27.0489492969215,25.9955899649489,25.4457282693463,25.4409057085627,23.1690862059864,24.5541120664336,26.0887777977251,26.0000225268351,27.4359488177046,26.8369291757318,25.6754335733133,25.5593446254922,27.2335192387107,25.8928464511573,21.0120804017965,25.2798228685294,21.9887653607103,27.5119530695272,27.1462625587537,31.7295238958958,21.438972013909,20.8109602031436,21.438972013909,27.2335192387107,21.0120804017965,27.0420655887785,14.8089552628033,11.9294901806516,11.9196484762731,12.2680347935244,12.7422927957855,11.8879463173172,16.5180043371345,10.2816944161974,11.0945689372373,12.6391584270055,18.0075967629224,10.6073757772639,12.6391584270055,12.4383932442274,18.1491034289466,13.87285747152,10.683869133247,16.2609512417023,30.1379149969445,28.5872508182564,27.7125209640428,21.737253128352,21.737253128352,26.3800815716973,null,22.6226115583593,21.737253128352,30.9065211918776,21.737253128352,30.9065211918776,25.0848301326061,21.4331344371062,25.8941634454504,34.1996106785054,30.1379149969445,28.5872508182564,27.8753499079993,27.5407633146214,30.8954725265517,28.9190464557992,27.5407633146214,33.4443999281801,17.7432007553678,29.5625966739782,33.4443999281801,32.0330447636625,32.0330447636625,16.7045170972885,13.294729969704,31.5819476792075,29.7012738717052,17.091641014581,27.3818140107183,29.5625966739782,31.9521551688008,24.0689387982564,25.3235758441984,26.224491600875,26.8579670206691,25.3235758441984,25.1618126248211,25.3235758441984,22.8238737804073,29.7663227400254,22.0983576656807,24.9022463301146,27.7996279650248,24.283543476586,29.7930527460287,25.391156462585,25.562777357832,28.2697486557636,26.8579670206691,19.3860328736427,18.2538520440618,17.5948558550366,17.4043684505979,17.1904551034479,19.3860328736427,19.0854592899871,19.0854592899871,19.6703139439834,20.3569333735275,19.0854592899871,17.1904551034479,18.8809552396798,18.2538520440618,39.5659185815602,34.9683846897886,40.0738820188929,42.8000800489495,42.2187021834586,42.5131242961095,39.379438487157,29.4685799310869,28.7440535522209,29.8613364611592,26.9478096167422,27.1575659149046,28.60037106763,28.2779031525563,30.452330771211,28.9884876844459,24.5720263408215,28.3083263423301,30.452330771211,26.7406547229018,27.9709193677985,29.22723610285,28.177900947324,32.0758626962807,28.177900947324,24.1916809888905,36.6764623146857,36.449836042494,36.9194346174892,36.7457771596492,36.9194346174892,null,27.5589198491187,52.5084274648092,27.6914031847094,54.1222589430263,47.0294471641146,28.9430232172321,null,29.4359043844839,23.3110510134181,23.3110510134181],\"xaxis\":\"x\",\"y\":[3060.0,1.0,3000.0,2550.0,1740.0,1860.0,2970.0,3960.0,155.0,3621.0,0.0,1322.0,60.0,19.0,0.0,21.0,196.0,840.0,935.0,1260.0,619.0,150.0,762.0,0.0,660.0,1.0,2700.0,1.0,4921.0,95.0,251.0,4125.0,2550.0,1200.0,310.0,2818.0,5054.0,136.0,528.0,150.0,46.0,1.0,1920.0,32.0,135.0,3000.0,32.0,960.0,44.0,1605.0,4410.0,388.0,480.0,1219.0,90.0,538.0,104.0,60.0,1272.0,60.0,1.0,1000.0,3090.0,6510.0,5820.0,1078.0,1513.0,4830.0,3051.0,4200.0,2085.0,5730.0,4290.0,2670.0,3540.0,3637.0,1710.0,4320.0,3915.0,3120.0,4590.0,5034.0,3300.0,4320.0,1770.0,4080.0,5670.0,5700.0,1995.0,300.0,5115.0,2670.0,4338.0,761.0,5760.0,2820.0,4110.0,3360.0,3015.0,232.0,6420.0,5700.0,5610.0,270.0,4050.0,5865.0,1.0,2325.0,4170.0,4485.0,2694.0,168.0,5580.0,705.0,3494.0,4560.0,2760.0,5760.0,6030.0,4242.0,3120.0,5700.0,900.0,1046.0,3630.0,1260.0,5840.0,5790.0,2820.0,600.0,4259.0,2939.0,3600.0,1588.0,4260.0,2700.0,200.0,85.0,1019.0,420.0,1140.0,4458.0,373.0,1203.0,868.0,1455.0,206.0,1195.0,1559.0,900.0,2690.0,5115.0,5.0,189.0,2142.0,360.0,225.0,2340.0,480.0,480.0,3000.0,300.0,3020.0,766.0,1335.0,197.0,245.0,3255.0,1077.0,600.0,186.0,690.0,402.0,2420.0,327.0,1.0,1860.0,220.0,455.0,318.0,757.0,847.0,410.0,215.0,5.0,570.0,2655.0,1440.0,600.0,39.0,181.0,1185.0,1500.0,0.0,271.0,1860.0,1200.0,2159.0,6300.0,1620.0,224.0,70.0,1697.0,95.0,2220.0,1200.0,121.0,63.0,5595.0,1.0,557.0,240.0,3360.0,685.0,2280.0,210.0,167.0,1920.0,3569.0,3300.0,10.0,1560.0,840.0,240.0,990.0,6000.0,1282.0,1080.0,1320.0,1110.0,130.0,3040.0,394.0,45.0,1.0,1200.0,550.0,900.0,885.0,940.0,3050.0,1830.0,6000.0,1500.0,150.0,1955.0,2220.0,330.0,74.0,420.0,1440.0,255.0,1060.0,5250.0,4320.0,120.0,233.0,65.0,2120.0,96.0,3.0,4320.0,65.0,2146.0,96.0,4032.0,2580.0,6.0,569.0,0.0,200.0,1980.0,4045.0,2730.0,3314.0,1.0,47.0,1440.0,276.0,0.0,0.0,3646.0,1130.0,2880.0,513.0,35.0,10.0,3872.0,390.0,3264.0,1230.0,803.0,77.0,30.0,300.0,1.0,5.0,1450.0,2680.0,150.0,3000.0,420.0,479.0,1680.0,2700.0,149.0,1110.0,2790.0,659.0,1320.0,1830.0,3000.0,870.0,810.0,1336.0,1695.0,360.0,360.0,120.0,3000.0,1290.0,1530.0,2370.0,1200.0,1200.0,90.0,120.0,1200.0,2761.0,720.0,1120.0,2100.0,960.0,450.0,1440.0,1020.0,0.0,2010.0,120.0,1240.0,465.0,0.0,2460.0,1183.0,394.0,219.0,487.0,19.0,28.0,0.0,1.0,5340.0,467.0,0.0,1920.0,0.0,25.0,420.0,2040.0,0.0,1.0,1423.0,60.0,1620.0,3300.0,385.0,663.0,123.0,1276.0,1919.0,440.0,6690.0,0.0,717.0,1204.0,292.0,313.0,1.0,5.0,6276.0,0.0,74.0,0.0,248.0,1.0,2700.0,25.0,126.0,1.0,255.0,1207.0,0.0,0.0,245.0,476.0,1.0,2639.0,502.0,548.0,369.0,6480.0,15.0,5.0,1.0,0.0,432.0,21.0,1697.0,0.0,2615.0,3507.0,2820.0,314.0,5855.0,0.0,0.0,1.0,70.0,4285.0,355.0,0.0,2520.0,0.0,180.0,554.0,50.0,70.0,180.0,3842.0,35.0,1.0,189.0,4200.0,353.0,1.0,87.0,66.0,1.0,227.0,1440.0,1.0,2700.0,2.0,215.0,451.0,418.0,100.0,2021.0,1671.0,3938.0,4470.0,2279.0,4440.0,2760.0,0.0,1.0,0.0,1.0,1840.0,428.0,331.0,1980.0,1.0,1.0,1950.0,3037.0,1.0,1.0,1196.0,5628.0,1440.0,2.0,4232.0,95.0,2610.0,4320.0,17.0,113.0,0.0,2507.0,0.0,1.0,4920.0,1.0,4080.0,0.0,960.0,185.0,1320.0,1673.0,2855.0,3060.0,565.0,1.0,1.0,5790.0,3040.0,304.0,4517.0,0.0,3058.0,2865.0,152.0,380.0,5579.0,4800.0,3060.0,4792.0,3894.0,1757.0,2880.0,2985.0,164.0,3232.0,2319.0,4338.0,2880.0,1714.0,90.0,59.0,4139.0,6938.0,930.0,278.0,299.0,5320.0,2880.0,1.0,4260.0,6713.0,5160.0,1440.0,78.0,2668.0,1.0,376.0,1324.0,6940.0,2684.0,54.0,100.0,720.0,2880.0,3189.0,2790.0,2843.0,1642.0,1440.0,1.0,1680.0,1579.0,652.0,108.0,300.0,1020.0,3570.0,6492.0,0.0,120.0,1.0,1.0,1.0,1.0,1.0,1.0,60.0,113.0,204.0,31.0,57.0,13.0,2.0,11.0,283.0,0.0,1.0,871.0,1631.0,56.0,15.0,15.0,20.0,60.0,1.0,95.0,300.0,1.0,3186.0,575.0,2275.0,15.0,1.0,44.0,21.0,1.0,114.0,1.0,60.0,4920.0,4920.0,420.0,0.0,7.0,21.0,340.0,4200.0,805.0,5040.0,5490.0,165.0,3630.0,1590.0,3137.0,1440.0,360.0,0.0,1440.0,1372.0,6480.0,2190.0,285.0,75.0,1843.0,1.0,1420.0,0.0,930.0,0.0,352.0,0.0,960.0,1733.0,3690.0,634.0,1440.0,180.0,1574.0,45.0,563.0,388.0,373.0,4510.0,290.0,1950.0,270.0,1355.0,1318.0,2490.0,1265.0,195.0,3120.0,3388.0,1025.0,990.0,240.0,1485.0,129.0,0.0,1528.0,1890.0,2551.0,985.0,405.0,1698.0,167.0,1460.0,182.0,4113.0,885.0,15.0,42.0,1050.0,1.0,132.0,4140.0,2880.0,3599.0,0.0,2941.0,6090.0,1365.0,375.0,2520.0,76.0,0.0,3720.0,333.0,0.0,353.0,0.0,0.0,7020.0,3300.0,3339.0,2880.0,488.0,2415.0,180.0,4177.0,3480.0,6600.0,300.0,1526.0,60.0,210.0,2.0,1350.0,73.0,1.0,200.0,0.0,4380.0,0.0,120.0,2680.0,840.0,989.0,4313.0,214.0,4.0,164.0,91.0,1050.0,838.0,60.0,1.0,1.0,2425.0,390.0,6660.0,159.0,54.0,30.0,855.0,65.0,810.0,4150.0,4740.0,25.0,0.0,2070.0,870.0,2880.0,120.0,1199.0,1470.0,4140.0,50.0,0.0,1.0,1.0,0.0,0.0,0.0,457.0,1.0,1.0,0.0,30.0,1.0,1.0,65.0,1.0,0.0,0.0,0.0,1.0,1.0,0.0,1.0,1.0,110.0,39.0,1.0,1.0,1.0,1.0,1.0,1.0,507.0,213.0,4254.0,1.0,1.0,53.0,0.0,0.0,251.0,347.0,1637.0,2161.0,2880.0,1044.0,56.0,93.0,13.0,2089.0,2880.0,681.0,494.0,1.0,5355.0,0.0,3943.0,3300.0,191.0,0.0,73.0,4680.0,1.0,5.0,2515.0,2730.0,5400.0,30.0,3584.0,3600.0,5850.0,4710.0,1.0,1732.0,0.0,1800.0,6074.0,49.0,2299.0,5760.0,420.0,2880.0,448.0,2520.0,5513.0,21.0,2100.0,3120.0,3240.0,2880.0,255.0,2355.0,161.0,50.0,258.0,0.0,300.0,2400.0,48.0,300.0,2775.0,2775.0,2160.0,2100.0,2775.0,3180.0,2775.0,1440.0,430.0,2129.0,1755.0,692.0,732.0,7.0,510.0,420.0,557.0,300.0,6240.0,467.0,3067.0,3060.0,355.0,430.0,300.0,227.0,52.0,2880.0,1867.0,1690.0,295.0,17.0,240.0,182.0,5820.0,83.0,230.0,2009.0,720.0,155.0,4320.0,4320.0,480.0,1005.0,221.0,372.0,4320.0,91.0,1419.0,3600.0,5071.0,152.0,6840.0,221.0,38.0,61.0,90.0,396.0,2040.0,1080.0,1680.0,1099.0,2460.0,540.0,52.0,816.0,420.0,155.0,437.0,247.0,540.0,1135.0,437.0,180.0,171.0,656.0,84.0,202.0,255.0,1054.0,1.0,1254.0,1456.0,177.0,106.0,32.0,2464.0,55.0,144.0,70.0,64.0,945.0,523.0,56.0,3.0,155.0,33.0,749.0,159.0,270.0,2790.0,224.0,1470.0,334.0,2050.0,370.0,26.0,797.0,12.0,195.0,1.0,230.0,125.0,15.0,316.0,365.0,1560.0,4740.0,294.0,455.0,2878.0,336.0,295.0,480.0,25.0,223.0,2645.0,2016.0,360.0,3408.0,3698.0,4890.0,1.0,871.0,2759.0,250.0,3301.0,249.0,164.0,435.0,420.0,854.0,5160.0,133.0,2055.0,451.0,140.0,199.0,721.0,179.0,1524.0,78.0,268.0,39.0,1.0,47.0,161.0,900.0,6070.0,697.0,234.0,14.0,5910.0,40.0,166.0,182.0,829.0,15.0,64.0,13.0,245.0,1080.0,390.0,47.0,269.0,400.0,660.0,213.0,761.0,180.0,124.0,4320.0,2820.0,3100.0,989.0,125.0,44.0,26.0,245.0,98.0,1.0,0.0,135.0,50.0,1008.0,53.0,554.0,1260.0,2895.0,89.0,98.0,865.0,128.0,230.0,252.0,130.0,5.0,157.0,6914.0,11.0,13.0,2880.0,270.0,962.0,47.0,20.0,108.0,75.0,17.0,21.0,1950.0,141.0,959.0,1035.0,617.0,1230.0,572.0,324.0,1835.0,6780.0,900.0,37.0,72.0,1.0,251.0,620.0,89.0,909.0,236.0,326.0,300.0,751.0,122.0,214.0,193.0,8.0,5227.0,1414.0,448.0,4605.0,4080.0,1914.0,759.0,1.0,3.0,2700.0,105.0,240.0,210.0,1.0,1201.0,30.0,2806.0,1226.0,300.0,206.0,270.0,2880.0,513.0,3314.0,414.0,126.0,60.0,285.0,110.0,62.0,2363.0,424.0,180.0,0.0,448.0,2.0,624.0,2435.0,131.0,208.0,103.0,1355.0,1523.0,90.0,1205.0,385.0,144.0,235.0,241.0,6787.0,1337.0,1673.0,3366.0,2640.0,1826.0,570.0,1565.0,2691.0,1072.0,115.0,816.0,168.0,30.0,160.0,485.0,1508.0,1301.0,159.0,60.0,4.0,106.0,0.0,0.0,1.0,32.0,61.0,314.0,30.0,0.0,92.0,390.0,161.0,60.0,76.0,1.0,1.0,160.0,20.0,1.0,1.0,70.0,50.0,15.0,810.0,1380.0,1800.0,1560.0,2054.0,1452.0,1865.0,1999.0,120.0,1950.0,360.0,1087.0,1200.0,4122.0,360.0,645.0,108.0,0.0,1.0,1440.0,4560.0,1.0,1.0,110.0,210.0,120.0,0.0,4260.0,76.0,210.0,3305.0,5880.0,145.0,60.0,2640.0,1042.0,110.0,2245.0,984.0,1381.0,148.0,796.0,300.0,2612.0,3000.0,431.0,5310.0,1732.0,0.0,6685.0,3300.0,280.0,117.0,2895.0,480.0,31.0,1.0,0.0,0.0,103.0,4745.0,307.0,1656.0,3525.0,374.0,1068.0,1569.0,114.0,115.0,15.0,2891.0,1.0,1676.0,0.0,0.0,3604.0,195.0,1.0,0.0,2108.0,198.0,3667.0,1037.0,673.0,2652.0,300.0,881.0,618.0,1187.0,950.0,2535.0,27.0,108.0,73.0,200.0,5.0,75.0,0.0,77.0,660.0,0.0,92.0,30.0,33.0,1895.0,274.0,1.0,1534.0,1.0,60.0,108.0,2.0,175.0,2040.0,2710.0,284.0,105.0,4019.0,1.0,391.0,439.0,5.0,201.0,2140.0,103.0,187.0,1406.0,348.0,90.0,913.0,1367.0,174.0,543.0,237.0,1906.0,224.0,0.0,95.0,360.0,1548.0,870.0,0.0,220.0,720.0,59.0,181.0],\"yaxis\":\"y\",\"type\":\"scattergl\"}],                        {\"template\":{\"data\":{\"histogram2dcontour\":[{\"type\":\"histogram2dcontour\",\"colorbar\":{\"outlinewidth\":0,\"ticks\":\"\"},\"colorscale\":[[0.0,\"#0d0887\"],[0.1111111111111111,\"#46039f\"],[0.2222222222222222,\"#7201a8\"],[0.3333333333333333,\"#9c179e\"],[0.4444444444444444,\"#bd3786\"],[0.5555555555555556,\"#d8576b\"],[0.6666666666666666,\"#ed7953\"],[0.7777777777777778,\"#fb9f3a\"],[0.8888888888888888,\"#fdca26\"],[1.0,\"#f0f921\"]]}],\"choropleth\":[{\"type\":\"choropleth\",\"colorbar\":{\"outlinewidth\":0,\"ticks\":\"\"}}],\"histogram2d\":[{\"type\":\"histogram2d\",\"colorbar\":{\"outlinewidth\":0,\"ticks\":\"\"},\"colorscale\":[[0.0,\"#0d0887\"],[0.1111111111111111,\"#46039f\"],[0.2222222222222222,\"#7201a8\"],[0.3333333333333333,\"#9c179e\"],[0.4444444444444444,\"#bd3786\"],[0.5555555555555556,\"#d8576b\"],[0.6666666666666666,\"#ed7953\"],[0.7777777777777778,\"#fb9f3a\"],[0.8888888888888888,\"#fdca26\"],[1.0,\"#f0f921\"]]}],\"heatmap\":[{\"type\":\"heatmap\",\"colorbar\":{\"outlinewidth\":0,\"ticks\":\"\"},\"colorscale\":[[0.0,\"#0d0887\"],[0.1111111111111111,\"#46039f\"],[0.2222222222222222,\"#7201a8\"],[0.3333333333333333,\"#9c179e\"],[0.4444444444444444,\"#bd3786\"],[0.5555555555555556,\"#d8576b\"],[0.6666666666666666,\"#ed7953\"],[0.7777777777777778,\"#fb9f3a\"],[0.8888888888888888,\"#fdca26\"],[1.0,\"#f0f921\"]]}],\"heatmapgl\":[{\"type\":\"heatmapgl\",\"colorbar\":{\"outlinewidth\":0,\"ticks\":\"\"},\"colorscale\":[[0.0,\"#0d0887\"],[0.1111111111111111,\"#46039f\"],[0.2222222222222222,\"#7201a8\"],[0.3333333333333333,\"#9c179e\"],[0.4444444444444444,\"#bd3786\"],[0.5555555555555556,\"#d8576b\"],[0.6666666666666666,\"#ed7953\"],[0.7777777777777778,\"#fb9f3a\"],[0.8888888888888888,\"#fdca26\"],[1.0,\"#f0f921\"]]}],\"contourcarpet\":[{\"type\":\"contourcarpet\",\"colorbar\":{\"outlinewidth\":0,\"ticks\":\"\"}}],\"contour\":[{\"type\":\"contour\",\"colorbar\":{\"outlinewidth\":0,\"ticks\":\"\"},\"colorscale\":[[0.0,\"#0d0887\"],[0.1111111111111111,\"#46039f\"],[0.2222222222222222,\"#7201a8\"],[0.3333333333333333,\"#9c179e\"],[0.4444444444444444,\"#bd3786\"],[0.5555555555555556,\"#d8576b\"],[0.6666666666666666,\"#ed7953\"],[0.7777777777777778,\"#fb9f3a\"],[0.8888888888888888,\"#fdca26\"],[1.0,\"#f0f921\"]]}],\"surface\":[{\"type\":\"surface\",\"colorbar\":{\"outlinewidth\":0,\"ticks\":\"\"},\"colorscale\":[[0.0,\"#0d0887\"],[0.1111111111111111,\"#46039f\"],[0.2222222222222222,\"#7201a8\"],[0.3333333333333333,\"#9c179e\"],[0.4444444444444444,\"#bd3786\"],[0.5555555555555556,\"#d8576b\"],[0.6666666666666666,\"#ed7953\"],[0.7777777777777778,\"#fb9f3a\"],[0.8888888888888888,\"#fdca26\"],[1.0,\"#f0f921\"]]}],\"mesh3d\":[{\"type\":\"mesh3d\",\"colorbar\":{\"outlinewidth\":0,\"ticks\":\"\"}}],\"scatter\":[{\"fillpattern\":{\"fillmode\":\"overlay\",\"size\":10,\"solidity\":0.2},\"type\":\"scatter\"}],\"parcoords\":[{\"type\":\"parcoords\",\"line\":{\"colorbar\":{\"outlinewidth\":0,\"ticks\":\"\"}}}],\"scatterpolargl\":[{\"type\":\"scatterpolargl\",\"marker\":{\"colorbar\":{\"outlinewidth\":0,\"ticks\":\"\"}}}],\"bar\":[{\"error_x\":{\"color\":\"#2a3f5f\"},\"error_y\":{\"color\":\"#2a3f5f\"},\"marker\":{\"line\":{\"color\":\"#E5ECF6\",\"width\":0.5},\"pattern\":{\"fillmode\":\"overlay\",\"size\":10,\"solidity\":0.2}},\"type\":\"bar\"}],\"scattergeo\":[{\"type\":\"scattergeo\",\"marker\":{\"colorbar\":{\"outlinewidth\":0,\"ticks\":\"\"}}}],\"scatterpolar\":[{\"type\":\"scatterpolar\",\"marker\":{\"colorbar\":{\"outlinewidth\":0,\"ticks\":\"\"}}}],\"histogram\":[{\"marker\":{\"pattern\":{\"fillmode\":\"overlay\",\"size\":10,\"solidity\":0.2}},\"type\":\"histogram\"}],\"scattergl\":[{\"type\":\"scattergl\",\"marker\":{\"colorbar\":{\"outlinewidth\":0,\"ticks\":\"\"}}}],\"scatter3d\":[{\"type\":\"scatter3d\",\"line\":{\"colorbar\":{\"outlinewidth\":0,\"ticks\":\"\"}},\"marker\":{\"colorbar\":{\"outlinewidth\":0,\"ticks\":\"\"}}}],\"scattermapbox\":[{\"type\":\"scattermapbox\",\"marker\":{\"colorbar\":{\"outlinewidth\":0,\"ticks\":\"\"}}}],\"scatterternary\":[{\"type\":\"scatterternary\",\"marker\":{\"colorbar\":{\"outlinewidth\":0,\"ticks\":\"\"}}}],\"scattercarpet\":[{\"type\":\"scattercarpet\",\"marker\":{\"colorbar\":{\"outlinewidth\":0,\"ticks\":\"\"}}}],\"carpet\":[{\"aaxis\":{\"endlinecolor\":\"#2a3f5f\",\"gridcolor\":\"white\",\"linecolor\":\"white\",\"minorgridcolor\":\"white\",\"startlinecolor\":\"#2a3f5f\"},\"baxis\":{\"endlinecolor\":\"#2a3f5f\",\"gridcolor\":\"white\",\"linecolor\":\"white\",\"minorgridcolor\":\"white\",\"startlinecolor\":\"#2a3f5f\"},\"type\":\"carpet\"}],\"table\":[{\"cells\":{\"fill\":{\"color\":\"#EBF0F8\"},\"line\":{\"color\":\"white\"}},\"header\":{\"fill\":{\"color\":\"#C8D4E3\"},\"line\":{\"color\":\"white\"}},\"type\":\"table\"}],\"barpolar\":[{\"marker\":{\"line\":{\"color\":\"#E5ECF6\",\"width\":0.5},\"pattern\":{\"fillmode\":\"overlay\",\"size\":10,\"solidity\":0.2}},\"type\":\"barpolar\"}],\"pie\":[{\"automargin\":true,\"type\":\"pie\"}]},\"layout\":{\"autotypenumbers\":\"strict\",\"colorway\":[\"#636efa\",\"#EF553B\",\"#00cc96\",\"#ab63fa\",\"#FFA15A\",\"#19d3f3\",\"#FF6692\",\"#B6E880\",\"#FF97FF\",\"#FECB52\"],\"font\":{\"color\":\"#2a3f5f\"},\"hovermode\":\"closest\",\"hoverlabel\":{\"align\":\"left\"},\"paper_bgcolor\":\"white\",\"plot_bgcolor\":\"#E5ECF6\",\"polar\":{\"bgcolor\":\"#E5ECF6\",\"angularaxis\":{\"gridcolor\":\"white\",\"linecolor\":\"white\",\"ticks\":\"\"},\"radialaxis\":{\"gridcolor\":\"white\",\"linecolor\":\"white\",\"ticks\":\"\"}},\"ternary\":{\"bgcolor\":\"#E5ECF6\",\"aaxis\":{\"gridcolor\":\"white\",\"linecolor\":\"white\",\"ticks\":\"\"},\"baxis\":{\"gridcolor\":\"white\",\"linecolor\":\"white\",\"ticks\":\"\"},\"caxis\":{\"gridcolor\":\"white\",\"linecolor\":\"white\",\"ticks\":\"\"}},\"coloraxis\":{\"colorbar\":{\"outlinewidth\":0,\"ticks\":\"\"}},\"colorscale\":{\"sequential\":[[0.0,\"#0d0887\"],[0.1111111111111111,\"#46039f\"],[0.2222222222222222,\"#7201a8\"],[0.3333333333333333,\"#9c179e\"],[0.4444444444444444,\"#bd3786\"],[0.5555555555555556,\"#d8576b\"],[0.6666666666666666,\"#ed7953\"],[0.7777777777777778,\"#fb9f3a\"],[0.8888888888888888,\"#fdca26\"],[1.0,\"#f0f921\"]],\"sequentialminus\":[[0.0,\"#0d0887\"],[0.1111111111111111,\"#46039f\"],[0.2222222222222222,\"#7201a8\"],[0.3333333333333333,\"#9c179e\"],[0.4444444444444444,\"#bd3786\"],[0.5555555555555556,\"#d8576b\"],[0.6666666666666666,\"#ed7953\"],[0.7777777777777778,\"#fb9f3a\"],[0.8888888888888888,\"#fdca26\"],[1.0,\"#f0f921\"]],\"diverging\":[[0,\"#8e0152\"],[0.1,\"#c51b7d\"],[0.2,\"#de77ae\"],[0.3,\"#f1b6da\"],[0.4,\"#fde0ef\"],[0.5,\"#f7f7f7\"],[0.6,\"#e6f5d0\"],[0.7,\"#b8e186\"],[0.8,\"#7fbc41\"],[0.9,\"#4d9221\"],[1,\"#276419\"]]},\"xaxis\":{\"gridcolor\":\"white\",\"linecolor\":\"white\",\"ticks\":\"\",\"title\":{\"standoff\":15},\"zerolinecolor\":\"white\",\"automargin\":true,\"zerolinewidth\":2},\"yaxis\":{\"gridcolor\":\"white\",\"linecolor\":\"white\",\"ticks\":\"\",\"title\":{\"standoff\":15},\"zerolinecolor\":\"white\",\"automargin\":true,\"zerolinewidth\":2},\"scene\":{\"xaxis\":{\"backgroundcolor\":\"#E5ECF6\",\"gridcolor\":\"white\",\"linecolor\":\"white\",\"showbackground\":true,\"ticks\":\"\",\"zerolinecolor\":\"white\",\"gridwidth\":2},\"yaxis\":{\"backgroundcolor\":\"#E5ECF6\",\"gridcolor\":\"white\",\"linecolor\":\"white\",\"showbackground\":true,\"ticks\":\"\",\"zerolinecolor\":\"white\",\"gridwidth\":2},\"zaxis\":{\"backgroundcolor\":\"#E5ECF6\",\"gridcolor\":\"white\",\"linecolor\":\"white\",\"showbackground\":true,\"ticks\":\"\",\"zerolinecolor\":\"white\",\"gridwidth\":2}},\"shapedefaults\":{\"line\":{\"color\":\"#2a3f5f\"}},\"annotationdefaults\":{\"arrowcolor\":\"#2a3f5f\",\"arrowhead\":0,\"arrowwidth\":1},\"geo\":{\"bgcolor\":\"white\",\"landcolor\":\"#E5ECF6\",\"subunitcolor\":\"white\",\"showland\":true,\"showlakes\":true,\"lakecolor\":\"white\"},\"title\":{\"x\":0.05},\"mapbox\":{\"style\":\"light\"}}},\"xaxis\":{\"anchor\":\"y\",\"domain\":[0.0,1.0],\"title\":{\"text\":\"IND.PERCEN\"}},\"yaxis\":{\"anchor\":\"x\",\"domain\":[0.0,1.0],\"title\":{\"text\":\"OUTAGE.DURATION\"}},\"legend\":{\"tracegroupgap\":0},\"title\":{\"text\":\"IND.PERCEN\"}},                        {\"responsive\": true}                    ).then(function(){\n",
       "                            \n",
       "var gd = document.getElementById('818ef32f-c0db-4f9f-a450-4722c8f74272');\n",
       "var x = new MutationObserver(function (mutations, observer) {{\n",
       "        var display = window.getComputedStyle(gd).display;\n",
       "        if (!display || display === 'none') {{\n",
       "            console.log([gd, 'removed!']);\n",
       "            Plotly.purge(gd);\n",
       "            observer.disconnect();\n",
       "        }}\n",
       "}});\n",
       "\n",
       "// Listen for the removal of the full notebook cells\n",
       "var notebookContainer = gd.closest('#notebook-container');\n",
       "if (notebookContainer) {{\n",
       "    x.observe(notebookContainer, {childList: true});\n",
       "}}\n",
       "\n",
       "// Listen for the clearing of the current output cell\n",
       "var outputEl = gd.closest('.output');\n",
       "if (outputEl) {{\n",
       "    x.observe(outputEl, {childList: true});\n",
       "}}\n",
       "\n",
       "                        })                };                });            </script>        </div>"
      ]
     },
     "metadata": {},
     "output_type": "display_data"
    },
    {
     "data": {
      "application/vnd.plotly.v1+json": {
       "config": {
        "plotlyServerURL": "https://plot.ly"
       },
       "data": [
        {
         "hovertemplate": "RES.CUSTOMERS=%{x}<br>OUTAGE.DURATION=%{y}<extra></extra>",
         "legendgroup": "",
         "marker": {
          "color": "#636efa",
          "symbol": "circle"
         },
         "mode": "markers",
         "name": "",
         "showlegend": false,
         "type": "scattergl",
         "x": [
          2308736,
          2345860,
          2300291,
          2317336,
          2374674,
          2300291,
          2300291,
          2211000,
          2374674,
          2329734,
          2308736,
          2308736,
          2345860,
          2783058,
          2721099,
          2783058,
          2708113,
          2685425,
          2783058,
          2721099,
          2738547,
          2756932,
          2693821,
          2708113,
          2708113,
          2756932,
          2721099,
          2756932,
          2708113,
          2783058,
          2783058,
          2756932,
          2708113,
          2756932,
          2783058,
          2738547,
          2708113,
          2693821,
          2756932,
          2756932,
          2708113,
          2756932,
          2756932,
          2693821,
          2631430,
          2526303,
          2619676,
          2446109,
          2631430,
          2662284,
          2526303,
          2594698,
          2594698,
          2446109,
          2631430,
          2631430,
          2619676,
          2631430,
          2619676,
          2631430,
          861334,
          862869,
          4249136,
          4284083,
          4216573,
          4249136,
          4311008,
          4298455,
          4216573,
          4216573,
          4249136,
          4245158,
          4273126,
          4250620,
          4253786,
          4298455,
          4282858,
          4298455,
          4253786,
          4284083,
          4253786,
          4265264,
          4216573,
          4249136,
          4249136,
          4250620,
          4253786,
          4248920,
          4282858,
          4311008,
          4290313,
          4250620,
          4282858,
          4216573,
          4265264,
          4245158,
          4290313,
          4248920,
          4253786,
          4282858,
          4299273,
          4253786,
          4245158,
          4290313,
          4250620,
          4249136,
          4250620,
          4273126,
          4245158,
          4265264,
          4216573,
          4298455,
          4290313,
          4290313,
          4250620,
          4248920,
          4273126,
          4265264,
          4245158,
          4265264,
          4298455,
          4216573,
          4265264,
          4249136,
          4265264,
          4249136,
          4248920,
          4298455,
          4282858,
          4245158,
          4253786,
          4284083,
          4188117,
          4253786,
          4245158,
          4282858,
          4249136,
          4249136,
          4245158,
          4265264,
          4290313,
          4249136,
          10318006,
          9621481,
          9621481,
          10521732,
          9802110,
          10138874,
          10138874,
          8562931,
          10318006,
          10318006,
          10138874,
          9102596,
          9536778,
          9536778,
          10318006,
          9166849,
          9621481,
          8023266,
          10318006,
          9802110,
          10318006,
          9166849,
          9621481,
          9621481,
          9102596,
          10521732,
          9621481,
          8562931,
          8493309,
          9166849,
          10138874,
          10318006,
          9621481,
          10318006,
          9802110,
          10138874,
          10318006,
          9166849,
          8493309,
          9461508,
          9802110,
          9491971,
          10521732,
          9491971,
          10521732,
          9802110,
          9102596,
          8562931,
          9802110,
          10521732,
          9491971,
          9802110,
          9102596,
          9954303,
          9621481,
          8023266,
          9536778,
          8823252,
          9491971,
          8023266,
          9621481,
          9102596,
          9802110,
          8562931,
          9102596,
          10318006,
          9461508,
          10318006,
          9802110,
          9621481,
          9461508,
          9536778,
          10138874,
          9491971,
          8302025,
          9491971,
          9461508,
          10318006,
          9621481,
          9491971,
          9802110,
          9491971,
          10138874,
          9621481,
          9802110,
          9954303,
          10318006,
          8823252,
          9102596,
          10318006,
          9621481,
          10138874,
          10138874,
          8562931,
          10318006,
          9102596,
          9491971,
          9536778,
          10521732,
          9166849,
          9491971,
          9621481,
          8562931,
          10318006,
          9491971,
          9491971,
          9621481,
          8823252,
          8302025,
          9621481,
          2784660,
          2654030,
          2771260,
          2804861,
          2733128,
          2733611,
          2733128,
          2733128,
          2784660,
          2771260,
          2771260,
          2744879,
          2744879,
          2771260,
          2784660,
          2755595,
          2755595,
          2744879,
          2755595,
          2742789,
          2710178,
          2771260,
          2744879,
          2733128,
          2727752,
          2755595,
          2755595,
          2755595,
          2744879,
          2744879,
          2733128,
          2771260,
          2742789,
          2733128,
          2733128,
          2733128,
          2169790,
          1930037,
          1930037,
          2182616,
          2158898,
          1263583,
          1251640,
          1263583,
          1270397,
          5089449,
          5070056,
          5098647,
          5070056,
          5098647,
          5120607,
          5020608,
          5070056,
          5008031,
          5089449,
          5145022,
          5074861,
          4921448,
          5089449,
          5098647,
          5098647,
          5098579,
          5120607,
          5089449,
          4900412,
          5120607,
          5089449,
          5098579,
          5089449,
          4921448,
          5020608,
          5065123,
          5065123,
          5172653,
          4900412,
          4748863,
          5145022,
          5098579,
          5098647,
          5070056,
          4900412,
          5089449,
          5020608,
          5089449,
          5089449,
          5098579,
          5089449,
          2852760,
          2837631,
          2852760,
          2825281,
          2907705,
          2837631,
          2852760,
          2852760,
          2945760,
          2852760,
          2837631,
          2852760,
          2604485,
          2837631,
          2837631,
          2852760,
          2852760,
          2945760,
          2945760,
          2748270,
          2852760,
          2985799,
          2837631,
          2837631,
          2837631,
          2880008,
          2837631,
          2945760,
          2837631,
          2837631,
          2985799,
          2837631,
          2704101,
          2837631,
          2852760,
          2809302,
          2852760,
          2985799,
          2880008,
          2852760,
          2748270,
          2837631,
          2880008,
          2852760,
          2789188,
          2837631,
          2825281,
          2852760,
          2837631,
          2880008,
          2852760,
          2837631,
          2837631,
          2837631,
          2837631,
          2837631,
          2852760,
          2704101,
          2852760,
          2907705,
          2837631,
          2553169,
          2852760,
          2880008,
          2837631,
          2852760,
          2837631,
          2945760,
          2837631,
          2837631,
          2852760,
          2704101,
          2704101,
          2837631,
          2704101,
          2837631,
          2852760,
          2907705,
          2852760,
          2604485,
          2837631,
          2852760,
          2945760,
          2852760,
          2880008,
          2575586,
          2689223,
          2689223,
          2630595,
          2630595,
          2165899,
          2630595,
          2630595,
          2544383,
          2661694,
          2661694,
          2661694,
          1959669,
          2661694,
          2725510,
          2630595,
          2575586,
          2630595,
          2689223,
          2575586,
          2661694,
          2255973,
          2165899,
          2212287,
          2085906,
          2141929,
          2178595,
          2085906,
          2141929,
          2115620,
          2218948,
          2212287,
          2208015,
          2212287,
          2234962,
          2208015,
          2212287,
          2208015,
          2212287,
          2218948,
          2060326,
          2208015,
          2212287,
          2218948,
          2234962,
          2115620,
          2212287,
          2212287,
          2208015,
          2218948,
          2141929,
          2212287,
          2208015,
          2218948,
          2218948,
          2212287,
          2218948,
          2234962,
          2060326,
          2212287,
          2060326,
          2212287,
          2218948,
          2212287,
          2178595,
          2288301,
          2188390,
          2163625,
          2208015,
          2212287,
          2212287,
          2163625,
          2200368,
          2255556,
          2115620,
          2218948,
          5190697,
          5244278,
          5249827,
          5272857,
          5231696,
          5190697,
          5190697,
          5244278,
          5261381,
          5154728,
          5249827,
          5190697,
          5335555,
          5244278,
          5121901,
          5082234,
          5249827,
          5154728,
          5304279,
          5289211,
          5249827,
          5231696,
          5249827,
          5335555,
          5231696,
          5244278,
          5249827,
          5289211,
          5249827,
          5231696,
          5235331,
          5261381,
          5207370,
          5289211,
          5289211,
          5244278,
          5249827,
          5289211,
          5231696,
          5289211,
          5249827,
          5048925,
          5249827,
          5261381,
          5048925,
          5249827,
          5304279,
          1928523,
          1939489,
          1924888,
          1928523,
          1924888,
          1947068,
          1928082,
          1928082,
          1924888,
          1924888,
          946468,
          1021839,
          1000416,
          981194,
          981194,
          981194,
          1000416,
          1021839,
          1041823,
          1021839,
          1041823,
          1021839,
          946468,
          1000416,
          981194,
          946468,
          909388,
          946468,
          981194,
          924826,
          946468,
          946468,
          1041823,
          946468,
          1021839,
          1041823,
          1000416,
          946468,
          946468,
          1000416,
          946468,
          946468,
          936602,
          932016,
          1000416,
          981194,
          1041823,
          981194,
          946468,
          1021839,
          981194,
          4829559,
          4829559,
          4892005,
          4874482,
          4892916,
          4869305,
          4874482,
          4891891,
          4891891,
          4791889,
          4874482,
          4869305,
          4880393,
          4875346,
          4791889,
          4874482,
          4874482,
          4882159,
          4791889,
          4869305,
          4869165,
          4891891,
          4869305,
          4875346,
          4877229,
          4874482,
          4892005,
          4874482,
          4880393,
          4874482,
          4874482,
          4874482,
          4874482,
          4880393,
          4874482,
          4882159,
          3929358,
          4011329,
          4201898,
          4268019,
          4230588,
          4201898,
          4230588,
          4303476,
          4230588,
          4336698,
          4230588,
          4423532,
          4147621,
          3561203,
          4303476,
          4201898,
          4303476,
          3778470,
          4201898,
          4011329,
          3929358,
          4268019,
          4230588,
          4185540,
          3778470,
          3845187,
          4201898,
          4303476,
          4268019,
          4268019,
          4423532,
          4175829,
          4303476,
          4201898,
          4147621,
          3778470,
          4185540,
          4303476,
          3510141,
          3489111,
          3372447,
          3457325,
          3409806,
          3457325,
          3455302,
          3409806,
          3409806,
          3457325,
          3457325,
          3510141,
          3457325,
          3372447,
          3409806,
          3457325,
          3470874,
          3457325,
          3457325,
          3454840,
          3454840,
          3457325,
          3457325,
          1892678,
          2101585,
          2157091,
          2157091,
          1892678,
          1764298,
          2157091,
          1633551,
          1633551,
          1686973,
          1669124,
          1650803,
          1706622,
          1686973,
          1616598,
          1642444,
          1577005,
          1633551,
          1669124,
          1706622,
          1669124,
          1650803,
          1577005,
          1633551,
          1650803,
          1633551,
          1686973,
          1577005,
          1650803,
          1686973,
          1669124,
          1686973,
          229450,
          227550,
          229450,
          235322,
          239355,
          235322,
          227550,
          2734553,
          2687756,
          2687756,
          2687756,
          2724541,
          2708934,
          2666181,
          2686746,
          2693261,
          2693261,
          2751460,
          2708934,
          2708934,
          396114,
          399998,
          403519,
          399998,
          398109,
          398109,
          399998,
          398109,
          399998,
          403519,
          398109,
          407508,
          399998,
          403519,
          419234,
          399998,
          399998,
          398109,
          398109,
          403519,
          399998,
          399998,
          403519,
          399998,
          403519,
          399998,
          419234,
          399998,
          403519,
          403519,
          403519,
          399998,
          419234,
          419234,
          413445,
          403519,
          403519,
          407508,
          398109,
          399998,
          1348641,
          1323176,
          1341807,
          1334596,
          1348641,
          1323176,
          485041,
          477266,
          467878,
          6875329,
          6987631,
          6710008,
          7498723,
          6987631,
          6987631,
          6987631,
          7027866,
          6933304,
          7118901,
          7046829,
          7118901,
          6794431,
          7027866,
          7079097,
          7027866,
          7027866,
          6897087,
          6987631,
          6897087,
          6987631,
          6987631,
          6897087,
          7046829,
          6875329,
          6987631,
          7027866,
          6987631,
          6933304,
          6987631,
          6954916,
          6987631,
          6987631,
          6829269,
          6954916,
          6875329,
          6954916,
          6875329,
          6794431,
          6787382,
          6987631,
          7079097,
          7027866,
          7079097,
          6897087,
          6987631,
          7010740,
          7027866,
          6794431,
          6933304,
          1946996,
          1973174,
          1973174,
          1899301,
          1896052,
          1973174,
          2059699,
          1973174,
          1899301,
          1973174,
          1995661,
          1896052,
          1899301,
          1946996,
          1979175,
          1946996,
          1920083,
          1973174,
          1946996,
          1899301,
          1973174,
          1995661,
          1995661,
          1920083,
          1973174,
          1946996,
          2011044,
          2026223,
          1973174,
          1995661,
          1979175,
          1973174,
          8756322,
          8645207,
          8478405,
          8478405,
          9149214,
          7506268,
          8575892,
          8090607,
          8478405,
          7885022,
          7885022,
          7885022,
          7885022,
          7885022,
          8529204,
          7885022,
          8478405,
          8493591,
          7885022,
          8478405,
          8756322,
          7885022,
          7885022,
          8478405,
          8478405,
          8756322,
          8478405,
          7885022,
          8090607,
          7885022,
          7885022,
          7885022,
          8575892,
          8575892,
          7684497,
          12819149,
          12941717,
          12689438,
          13380684,
          13256068,
          13256426,
          12941717,
          12689438,
          12480545,
          13256426,
          12480545,
          12480545,
          13256426,
          12941717,
          13380684,
          13256426,
          13002980,
          12947917,
          13256426,
          13380684,
          13002980,
          13380684,
          12947917,
          13002980,
          12819149,
          12910857,
          12941717,
          12947917,
          12941717,
          12819149,
          12270811,
          12941717,
          12689438,
          12941717,
          12270811,
          12941717,
          12947917,
          12689438,
          13380684,
          13256068,
          13380684,
          13380684,
          13380684,
          13256426,
          13256426,
          13256426,
          12910857,
          13256426,
          11837589,
          12689438,
          12819149,
          12480545,
          12947917,
          13256426,
          13101887,
          11920437,
          13380684,
          13256426,
          13445133,
          13445133,
          12689438,
          13002980,
          13380684,
          13002980,
          13256426,
          13002980,
          13380684,
          12947917,
          12270811,
          12480545,
          12819149,
          12480545,
          13256426,
          12819149,
          13380684,
          12819149,
          11920437,
          13002980,
          11837589,
          12947917,
          11837589,
          12947917,
          12143454,
          12941717,
          12947917,
          13256426,
          12947917,
          12947917,
          13380684,
          11920437,
          12270811,
          12270811,
          12947917,
          13101887,
          12941717,
          13101887,
          12143454,
          12910857,
          13380684,
          12819149,
          12941717,
          13380684,
          12270811,
          12480545,
          13101887,
          12910857,
          12910857,
          12947917,
          12941717,
          12910857,
          12947917,
          13002980,
          12941717,
          12689438,
          12910857,
          13101887,
          11920437,
          13101887,
          13380684,
          12143454,
          13380684,
          13101887,
          12480545,
          13380684,
          13256068,
          13002980,
          12947917,
          12947917,
          12947917,
          13002980,
          11837589,
          13002980,
          12947917,
          12910857,
          13380684,
          12941717,
          13002980,
          12819149,
          12941717,
          13002980,
          12947917,
          13380684,
          13002980,
          12947917,
          13101887,
          13101887,
          12270811,
          12819149,
          12947917,
          13101887,
          11837589,
          11837589,
          12819149,
          12819149,
          12270811,
          11837589,
          12819149,
          12941717,
          13256068,
          12819149,
          12270811,
          13256068,
          11837589,
          11920437,
          12910857,
          12819149,
          13380684,
          13380684,
          12947917,
          13256426,
          12910857,
          12910857,
          13380684,
          12910857,
          12819149,
          12941717,
          12947917,
          12941717,
          13101887,
          12480545,
          12947917,
          12270811,
          13256426,
          12941717,
          12819149,
          12143454,
          12941717,
          13256068,
          1328286,
          1315041,
          1332154,
          1339680,
          1332154,
          1339680,
          1328286,
          1339680,
          1328286,
          1356658,
          1332154,
          1322833,
          1328286,
          1328286,
          1332154,
          1328286,
          1283520,
          1260764,
          1339680,
          1345009,
          1339680,
          1332154,
          1356658,
          3169282,
          3225395,
          3225395,
          3273502,
          3273502,
          2981192,
          3332083,
          2924097,
          3225395,
          3273502,
          3225395,
          3248518,
          3225395,
          3225395,
          3139055,
          3258959,
          3258959,
          2819326,
          3248518,
          3189118,
          3248518,
          3258959,
          3189118,
          3169282,
          3169282,
          3273502,
          2875235,
          3095982,
          2924097,
          3139055,
          3095982,
          3258959,
          3225395,
          3095982,
          3273502,
          3248518,
          801101,
          795000,
          763380,
          255383,
          258528,
          258528,
          263614,
          263614,
          257447,
          859281,
          865195,
          728046,
          865195,
          865195,
          865195,
          865195,
          865195,
          311308,
          309019,
          309019,
          309019,
          310932,
          308992,
          309019,
          308992,
          309019,
          3751795,
          3834400,
          3751795,
          3751795,
          4056147,
          4056147,
          3834400,
          4191209,
          3924073,
          4034752,
          3751795,
          4137057,
          4061862,
          4137057,
          3751795,
          4056147,
          4071478,
          1453864,
          1454963,
          1453864,
          1447250,
          1454963,
          1453864,
          1452080,
          1454963,
          1454963,
          1453864,
          1459141,
          1451808,
          1453864,
          1451808,
          1394440,
          1437836,
          1454651,
          1452080,
          1723938,
          1679296,
          1679296,
          1667223,
          1667223,
          1660653,
          1736819,
          1616987,
          1667223,
          1693151,
          1667223,
          1693151,
          1693151,
          1667223,
          1569162,
          1723938,
          1723938,
          1679296,
          1667223,
          2693548,
          2699141,
          2693548,
          2693548,
          2699141,
          2525845,
          2708759,
          2699141,
          2699141,
          2699141,
          2574636,
          2740865,
          2699141,
          2708759,
          2548695,
          2708759,
          2708759,
          2699141,
          694235,
          701335,
          701335,
          694235,
          701335,
          699241,
          701335,
          696822,
          685425,
          695368,
          695368,
          699625,
          704775,
          704775,
          696822,
          695368,
          703770,
          694235,
          601697,
          601697,
          601697,
          599532,
          599532,
          601697,
          599532,
          599532,
          603628,
          592238,
          599532,
          599532,
          599532,
          601697,
          1067944,
          1094770,
          1126220,
          1067944,
          1080583,
          1143667,
          1080583,
          2169365,
          2169365,
          2141780,
          2111623,
          2141780,
          2225725,
          2260068,
          2149637,
          2128507,
          2030827,
          2149637,
          2149637,
          2030827,
          2149637,
          1231830,
          1231830,
          1231830,
          1231830,
          1215411,
          409668,
          417531,
          401592,
          401592,
          401592,
          714365,
          667243,
          588363,
          667243,
          576895,
          667243,
          714365,
          714365,
          330738,
          367206,
          367206
         ],
         "xaxis": "x",
         "y": [
          3060,
          1,
          3000,
          2550,
          1740,
          1860,
          2970,
          3960,
          155,
          3621,
          0,
          1322,
          60,
          19,
          0,
          21,
          196,
          840,
          935,
          1260,
          619,
          150,
          762,
          0,
          660,
          1,
          2700,
          1,
          4921,
          95,
          251,
          4125,
          2550,
          1200,
          310,
          2818,
          5054,
          136,
          528,
          150,
          46,
          1,
          1920,
          32,
          135,
          3000,
          32,
          960,
          44,
          1605,
          4410,
          388,
          480,
          1219,
          90,
          538,
          104,
          60,
          1272,
          60,
          1,
          1000,
          3090,
          6510,
          5820,
          1078,
          1513,
          4830,
          3051,
          4200,
          2085,
          5730,
          4290,
          2670,
          3540,
          3637,
          1710,
          4320,
          3915,
          3120,
          4590,
          5034,
          3300,
          4320,
          1770,
          4080,
          5670,
          5700,
          1995,
          300,
          5115,
          2670,
          4338,
          761,
          5760,
          2820,
          4110,
          3360,
          3015,
          232,
          6420,
          5700,
          5610,
          270,
          4050,
          5865,
          1,
          2325,
          4170,
          4485,
          2694,
          168,
          5580,
          705,
          3494,
          4560,
          2760,
          5760,
          6030,
          4242,
          3120,
          5700,
          900,
          1046,
          3630,
          1260,
          5840,
          5790,
          2820,
          600,
          4259,
          2939,
          3600,
          1588,
          4260,
          2700,
          200,
          85,
          1019,
          420,
          1140,
          4458,
          373,
          1203,
          868,
          1455,
          206,
          1195,
          1559,
          900,
          2690,
          5115,
          5,
          189,
          2142,
          360,
          225,
          2340,
          480,
          480,
          3000,
          300,
          3020,
          766,
          1335,
          197,
          245,
          3255,
          1077,
          600,
          186,
          690,
          402,
          2420,
          327,
          1,
          1860,
          220,
          455,
          318,
          757,
          847,
          410,
          215,
          5,
          570,
          2655,
          1440,
          600,
          39,
          181,
          1185,
          1500,
          0,
          271,
          1860,
          1200,
          2159,
          6300,
          1620,
          224,
          70,
          1697,
          95,
          2220,
          1200,
          121,
          63,
          5595,
          1,
          557,
          240,
          3360,
          685,
          2280,
          210,
          167,
          1920,
          3569,
          3300,
          10,
          1560,
          840,
          240,
          990,
          6000,
          1282,
          1080,
          1320,
          1110,
          130,
          3040,
          394,
          45,
          1,
          1200,
          550,
          900,
          885,
          940,
          3050,
          1830,
          6000,
          1500,
          150,
          1955,
          2220,
          330,
          74,
          420,
          1440,
          255,
          1060,
          5250,
          4320,
          120,
          233,
          65,
          2120,
          96,
          3,
          4320,
          65,
          2146,
          96,
          4032,
          2580,
          6,
          569,
          0,
          200,
          1980,
          4045,
          2730,
          3314,
          1,
          47,
          1440,
          276,
          0,
          0,
          3646,
          1130,
          2880,
          513,
          35,
          10,
          3872,
          390,
          3264,
          1230,
          803,
          77,
          30,
          300,
          1,
          5,
          1450,
          2680,
          150,
          3000,
          420,
          479,
          1680,
          2700,
          149,
          1110,
          2790,
          659,
          1320,
          1830,
          3000,
          870,
          810,
          1336,
          1695,
          360,
          360,
          120,
          3000,
          1290,
          1530,
          2370,
          1200,
          1200,
          90,
          120,
          1200,
          2761,
          720,
          1120,
          2100,
          960,
          450,
          1440,
          1020,
          0,
          2010,
          120,
          1240,
          465,
          0,
          2460,
          1183,
          394,
          219,
          487,
          19,
          28,
          0,
          1,
          5340,
          467,
          0,
          1920,
          0,
          25,
          420,
          2040,
          0,
          1,
          1423,
          60,
          1620,
          3300,
          385,
          663,
          123,
          1276,
          1919,
          440,
          6690,
          0,
          717,
          1204,
          292,
          313,
          1,
          5,
          6276,
          0,
          74,
          0,
          248,
          1,
          2700,
          25,
          126,
          1,
          255,
          1207,
          0,
          0,
          245,
          476,
          1,
          2639,
          502,
          548,
          369,
          6480,
          15,
          5,
          1,
          0,
          432,
          21,
          1697,
          0,
          2615,
          3507,
          2820,
          314,
          5855,
          0,
          0,
          1,
          70,
          4285,
          355,
          0,
          2520,
          0,
          180,
          554,
          50,
          70,
          180,
          3842,
          35,
          1,
          189,
          4200,
          353,
          1,
          87,
          66,
          1,
          227,
          1440,
          1,
          2700,
          2,
          215,
          451,
          418,
          100,
          2021,
          1671,
          3938,
          4470,
          2279,
          4440,
          2760,
          0,
          1,
          0,
          1,
          1840,
          428,
          331,
          1980,
          1,
          1,
          1950,
          3037,
          1,
          1,
          1196,
          5628,
          1440,
          2,
          4232,
          95,
          2610,
          4320,
          17,
          113,
          0,
          2507,
          0,
          1,
          4920,
          1,
          4080,
          0,
          960,
          185,
          1320,
          1673,
          2855,
          3060,
          565,
          1,
          1,
          5790,
          3040,
          304,
          4517,
          0,
          3058,
          2865,
          152,
          380,
          5579,
          4800,
          3060,
          4792,
          3894,
          1757,
          2880,
          2985,
          164,
          3232,
          2319,
          4338,
          2880,
          1714,
          90,
          59,
          4139,
          6938,
          930,
          278,
          299,
          5320,
          2880,
          1,
          4260,
          6713,
          5160,
          1440,
          78,
          2668,
          1,
          376,
          1324,
          6940,
          2684,
          54,
          100,
          720,
          2880,
          3189,
          2790,
          2843,
          1642,
          1440,
          1,
          1680,
          1579,
          652,
          108,
          300,
          1020,
          3570,
          6492,
          0,
          120,
          1,
          1,
          1,
          1,
          1,
          1,
          60,
          113,
          204,
          31,
          57,
          13,
          2,
          11,
          283,
          0,
          1,
          871,
          1631,
          56,
          15,
          15,
          20,
          60,
          1,
          95,
          300,
          1,
          3186,
          575,
          2275,
          15,
          1,
          44,
          21,
          1,
          114,
          1,
          60,
          4920,
          4920,
          420,
          0,
          7,
          21,
          340,
          4200,
          805,
          5040,
          5490,
          165,
          3630,
          1590,
          3137,
          1440,
          360,
          0,
          1440,
          1372,
          6480,
          2190,
          285,
          75,
          1843,
          1,
          1420,
          0,
          930,
          0,
          352,
          0,
          960,
          1733,
          3690,
          634,
          1440,
          180,
          1574,
          45,
          563,
          388,
          373,
          4510,
          290,
          1950,
          270,
          1355,
          1318,
          2490,
          1265,
          195,
          3120,
          3388,
          1025,
          990,
          240,
          1485,
          129,
          0,
          1528,
          1890,
          2551,
          985,
          405,
          1698,
          167,
          1460,
          182,
          4113,
          885,
          15,
          42,
          1050,
          1,
          132,
          4140,
          2880,
          3599,
          0,
          2941,
          6090,
          1365,
          375,
          2520,
          76,
          0,
          3720,
          333,
          0,
          353,
          0,
          0,
          7020,
          3300,
          3339,
          2880,
          488,
          2415,
          180,
          4177,
          3480,
          6600,
          300,
          1526,
          60,
          210,
          2,
          1350,
          73,
          1,
          200,
          0,
          4380,
          0,
          120,
          2680,
          840,
          989,
          4313,
          214,
          4,
          164,
          91,
          1050,
          838,
          60,
          1,
          1,
          2425,
          390,
          6660,
          159,
          54,
          30,
          855,
          65,
          810,
          4150,
          4740,
          25,
          0,
          2070,
          870,
          2880,
          120,
          1199,
          1470,
          4140,
          50,
          0,
          1,
          1,
          0,
          0,
          0,
          457,
          1,
          1,
          0,
          30,
          1,
          1,
          65,
          1,
          0,
          0,
          0,
          1,
          1,
          0,
          1,
          1,
          110,
          39,
          1,
          1,
          1,
          1,
          1,
          1,
          507,
          213,
          4254,
          1,
          1,
          53,
          0,
          0,
          251,
          347,
          1637,
          2161,
          2880,
          1044,
          56,
          93,
          13,
          2089,
          2880,
          681,
          494,
          1,
          5355,
          0,
          3943,
          3300,
          191,
          0,
          73,
          4680,
          1,
          5,
          2515,
          2730,
          5400,
          30,
          3584,
          3600,
          5850,
          4710,
          1,
          1732,
          0,
          1800,
          6074,
          49,
          2299,
          5760,
          420,
          2880,
          448,
          2520,
          5513,
          21,
          2100,
          3120,
          3240,
          2880,
          255,
          2355,
          161,
          50,
          258,
          0,
          300,
          2400,
          48,
          300,
          2775,
          2775,
          2160,
          2100,
          2775,
          3180,
          2775,
          1440,
          430,
          2129,
          1755,
          692,
          732,
          7,
          510,
          420,
          557,
          300,
          6240,
          467,
          3067,
          3060,
          355,
          430,
          300,
          227,
          52,
          2880,
          1867,
          1690,
          295,
          17,
          240,
          182,
          5820,
          83,
          230,
          2009,
          720,
          155,
          4320,
          4320,
          480,
          1005,
          221,
          372,
          4320,
          91,
          1419,
          3600,
          5071,
          152,
          6840,
          221,
          38,
          61,
          90,
          396,
          2040,
          1080,
          1680,
          1099,
          2460,
          540,
          52,
          816,
          420,
          155,
          437,
          247,
          540,
          1135,
          437,
          180,
          171,
          656,
          84,
          202,
          255,
          1054,
          1,
          1254,
          1456,
          177,
          106,
          32,
          2464,
          55,
          144,
          70,
          64,
          945,
          523,
          56,
          3,
          155,
          33,
          749,
          159,
          270,
          2790,
          224,
          1470,
          334,
          2050,
          370,
          26,
          797,
          12,
          195,
          1,
          230,
          125,
          15,
          316,
          365,
          1560,
          4740,
          294,
          455,
          2878,
          336,
          295,
          480,
          25,
          223,
          2645,
          2016,
          360,
          3408,
          3698,
          4890,
          1,
          871,
          2759,
          250,
          3301,
          249,
          164,
          435,
          420,
          854,
          5160,
          133,
          2055,
          451,
          140,
          199,
          721,
          179,
          1524,
          78,
          268,
          39,
          1,
          47,
          161,
          900,
          6070,
          697,
          234,
          14,
          5910,
          40,
          166,
          182,
          829,
          15,
          64,
          13,
          245,
          1080,
          390,
          47,
          269,
          400,
          660,
          213,
          761,
          180,
          124,
          4320,
          2820,
          3100,
          989,
          125,
          44,
          26,
          245,
          98,
          1,
          0,
          135,
          50,
          1008,
          53,
          554,
          1260,
          2895,
          89,
          98,
          865,
          128,
          230,
          252,
          130,
          5,
          157,
          6914,
          11,
          13,
          2880,
          270,
          962,
          47,
          20,
          108,
          75,
          17,
          21,
          1950,
          141,
          959,
          1035,
          617,
          1230,
          572,
          324,
          1835,
          6780,
          900,
          37,
          72,
          1,
          251,
          620,
          89,
          909,
          236,
          326,
          300,
          751,
          122,
          214,
          193,
          8,
          5227,
          1414,
          448,
          4605,
          4080,
          1914,
          759,
          1,
          3,
          2700,
          105,
          240,
          210,
          1,
          1201,
          30,
          2806,
          1226,
          300,
          206,
          270,
          2880,
          513,
          3314,
          414,
          126,
          60,
          285,
          110,
          62,
          2363,
          424,
          180,
          0,
          448,
          2,
          624,
          2435,
          131,
          208,
          103,
          1355,
          1523,
          90,
          1205,
          385,
          144,
          235,
          241,
          6787,
          1337,
          1673,
          3366,
          2640,
          1826,
          570,
          1565,
          2691,
          1072,
          115,
          816,
          168,
          30,
          160,
          485,
          1508,
          1301,
          159,
          60,
          4,
          106,
          0,
          0,
          1,
          32,
          61,
          314,
          30,
          0,
          92,
          390,
          161,
          60,
          76,
          1,
          1,
          160,
          20,
          1,
          1,
          70,
          50,
          15,
          810,
          1380,
          1800,
          1560,
          2054,
          1452,
          1865,
          1999,
          120,
          1950,
          360,
          1087,
          1200,
          4122,
          360,
          645,
          108,
          0,
          1,
          1440,
          4560,
          1,
          1,
          110,
          210,
          120,
          0,
          4260,
          76,
          210,
          3305,
          5880,
          145,
          60,
          2640,
          1042,
          110,
          2245,
          984,
          1381,
          148,
          796,
          300,
          2612,
          3000,
          431,
          5310,
          1732,
          0,
          6685,
          3300,
          280,
          117,
          2895,
          480,
          31,
          1,
          0,
          0,
          103,
          4745,
          307,
          1656,
          3525,
          374,
          1068,
          1569,
          114,
          115,
          15,
          2891,
          1,
          1676,
          0,
          0,
          3604,
          195,
          1,
          0,
          2108,
          198,
          3667,
          1037,
          673,
          2652,
          300,
          881,
          618,
          1187,
          950,
          2535,
          27,
          108,
          73,
          200,
          5,
          75,
          0,
          77,
          660,
          0,
          92,
          30,
          33,
          1895,
          274,
          1,
          1534,
          1,
          60,
          108,
          2,
          175,
          2040,
          2710,
          284,
          105,
          4019,
          1,
          391,
          439,
          5,
          201,
          2140,
          103,
          187,
          1406,
          348,
          90,
          913,
          1367,
          174,
          543,
          237,
          1906,
          224,
          0,
          95,
          360,
          1548,
          870,
          0,
          220,
          720,
          59,
          181
         ],
         "yaxis": "y"
        }
       ],
       "layout": {
        "legend": {
         "tracegroupgap": 0
        },
        "template": {
         "data": {
          "bar": [
           {
            "error_x": {
             "color": "#2a3f5f"
            },
            "error_y": {
             "color": "#2a3f5f"
            },
            "marker": {
             "line": {
              "color": "#E5ECF6",
              "width": 0.5
             },
             "pattern": {
              "fillmode": "overlay",
              "size": 10,
              "solidity": 0.2
             }
            },
            "type": "bar"
           }
          ],
          "barpolar": [
           {
            "marker": {
             "line": {
              "color": "#E5ECF6",
              "width": 0.5
             },
             "pattern": {
              "fillmode": "overlay",
              "size": 10,
              "solidity": 0.2
             }
            },
            "type": "barpolar"
           }
          ],
          "carpet": [
           {
            "aaxis": {
             "endlinecolor": "#2a3f5f",
             "gridcolor": "white",
             "linecolor": "white",
             "minorgridcolor": "white",
             "startlinecolor": "#2a3f5f"
            },
            "baxis": {
             "endlinecolor": "#2a3f5f",
             "gridcolor": "white",
             "linecolor": "white",
             "minorgridcolor": "white",
             "startlinecolor": "#2a3f5f"
            },
            "type": "carpet"
           }
          ],
          "choropleth": [
           {
            "colorbar": {
             "outlinewidth": 0,
             "ticks": ""
            },
            "type": "choropleth"
           }
          ],
          "contour": [
           {
            "colorbar": {
             "outlinewidth": 0,
             "ticks": ""
            },
            "colorscale": [
             [
              0,
              "#0d0887"
             ],
             [
              0.1111111111111111,
              "#46039f"
             ],
             [
              0.2222222222222222,
              "#7201a8"
             ],
             [
              0.3333333333333333,
              "#9c179e"
             ],
             [
              0.4444444444444444,
              "#bd3786"
             ],
             [
              0.5555555555555556,
              "#d8576b"
             ],
             [
              0.6666666666666666,
              "#ed7953"
             ],
             [
              0.7777777777777778,
              "#fb9f3a"
             ],
             [
              0.8888888888888888,
              "#fdca26"
             ],
             [
              1,
              "#f0f921"
             ]
            ],
            "type": "contour"
           }
          ],
          "contourcarpet": [
           {
            "colorbar": {
             "outlinewidth": 0,
             "ticks": ""
            },
            "type": "contourcarpet"
           }
          ],
          "heatmap": [
           {
            "colorbar": {
             "outlinewidth": 0,
             "ticks": ""
            },
            "colorscale": [
             [
              0,
              "#0d0887"
             ],
             [
              0.1111111111111111,
              "#46039f"
             ],
             [
              0.2222222222222222,
              "#7201a8"
             ],
             [
              0.3333333333333333,
              "#9c179e"
             ],
             [
              0.4444444444444444,
              "#bd3786"
             ],
             [
              0.5555555555555556,
              "#d8576b"
             ],
             [
              0.6666666666666666,
              "#ed7953"
             ],
             [
              0.7777777777777778,
              "#fb9f3a"
             ],
             [
              0.8888888888888888,
              "#fdca26"
             ],
             [
              1,
              "#f0f921"
             ]
            ],
            "type": "heatmap"
           }
          ],
          "heatmapgl": [
           {
            "colorbar": {
             "outlinewidth": 0,
             "ticks": ""
            },
            "colorscale": [
             [
              0,
              "#0d0887"
             ],
             [
              0.1111111111111111,
              "#46039f"
             ],
             [
              0.2222222222222222,
              "#7201a8"
             ],
             [
              0.3333333333333333,
              "#9c179e"
             ],
             [
              0.4444444444444444,
              "#bd3786"
             ],
             [
              0.5555555555555556,
              "#d8576b"
             ],
             [
              0.6666666666666666,
              "#ed7953"
             ],
             [
              0.7777777777777778,
              "#fb9f3a"
             ],
             [
              0.8888888888888888,
              "#fdca26"
             ],
             [
              1,
              "#f0f921"
             ]
            ],
            "type": "heatmapgl"
           }
          ],
          "histogram": [
           {
            "marker": {
             "pattern": {
              "fillmode": "overlay",
              "size": 10,
              "solidity": 0.2
             }
            },
            "type": "histogram"
           }
          ],
          "histogram2d": [
           {
            "colorbar": {
             "outlinewidth": 0,
             "ticks": ""
            },
            "colorscale": [
             [
              0,
              "#0d0887"
             ],
             [
              0.1111111111111111,
              "#46039f"
             ],
             [
              0.2222222222222222,
              "#7201a8"
             ],
             [
              0.3333333333333333,
              "#9c179e"
             ],
             [
              0.4444444444444444,
              "#bd3786"
             ],
             [
              0.5555555555555556,
              "#d8576b"
             ],
             [
              0.6666666666666666,
              "#ed7953"
             ],
             [
              0.7777777777777778,
              "#fb9f3a"
             ],
             [
              0.8888888888888888,
              "#fdca26"
             ],
             [
              1,
              "#f0f921"
             ]
            ],
            "type": "histogram2d"
           }
          ],
          "histogram2dcontour": [
           {
            "colorbar": {
             "outlinewidth": 0,
             "ticks": ""
            },
            "colorscale": [
             [
              0,
              "#0d0887"
             ],
             [
              0.1111111111111111,
              "#46039f"
             ],
             [
              0.2222222222222222,
              "#7201a8"
             ],
             [
              0.3333333333333333,
              "#9c179e"
             ],
             [
              0.4444444444444444,
              "#bd3786"
             ],
             [
              0.5555555555555556,
              "#d8576b"
             ],
             [
              0.6666666666666666,
              "#ed7953"
             ],
             [
              0.7777777777777778,
              "#fb9f3a"
             ],
             [
              0.8888888888888888,
              "#fdca26"
             ],
             [
              1,
              "#f0f921"
             ]
            ],
            "type": "histogram2dcontour"
           }
          ],
          "mesh3d": [
           {
            "colorbar": {
             "outlinewidth": 0,
             "ticks": ""
            },
            "type": "mesh3d"
           }
          ],
          "parcoords": [
           {
            "line": {
             "colorbar": {
              "outlinewidth": 0,
              "ticks": ""
             }
            },
            "type": "parcoords"
           }
          ],
          "pie": [
           {
            "automargin": true,
            "type": "pie"
           }
          ],
          "scatter": [
           {
            "fillpattern": {
             "fillmode": "overlay",
             "size": 10,
             "solidity": 0.2
            },
            "type": "scatter"
           }
          ],
          "scatter3d": [
           {
            "line": {
             "colorbar": {
              "outlinewidth": 0,
              "ticks": ""
             }
            },
            "marker": {
             "colorbar": {
              "outlinewidth": 0,
              "ticks": ""
             }
            },
            "type": "scatter3d"
           }
          ],
          "scattercarpet": [
           {
            "marker": {
             "colorbar": {
              "outlinewidth": 0,
              "ticks": ""
             }
            },
            "type": "scattercarpet"
           }
          ],
          "scattergeo": [
           {
            "marker": {
             "colorbar": {
              "outlinewidth": 0,
              "ticks": ""
             }
            },
            "type": "scattergeo"
           }
          ],
          "scattergl": [
           {
            "marker": {
             "colorbar": {
              "outlinewidth": 0,
              "ticks": ""
             }
            },
            "type": "scattergl"
           }
          ],
          "scattermapbox": [
           {
            "marker": {
             "colorbar": {
              "outlinewidth": 0,
              "ticks": ""
             }
            },
            "type": "scattermapbox"
           }
          ],
          "scatterpolar": [
           {
            "marker": {
             "colorbar": {
              "outlinewidth": 0,
              "ticks": ""
             }
            },
            "type": "scatterpolar"
           }
          ],
          "scatterpolargl": [
           {
            "marker": {
             "colorbar": {
              "outlinewidth": 0,
              "ticks": ""
             }
            },
            "type": "scatterpolargl"
           }
          ],
          "scatterternary": [
           {
            "marker": {
             "colorbar": {
              "outlinewidth": 0,
              "ticks": ""
             }
            },
            "type": "scatterternary"
           }
          ],
          "surface": [
           {
            "colorbar": {
             "outlinewidth": 0,
             "ticks": ""
            },
            "colorscale": [
             [
              0,
              "#0d0887"
             ],
             [
              0.1111111111111111,
              "#46039f"
             ],
             [
              0.2222222222222222,
              "#7201a8"
             ],
             [
              0.3333333333333333,
              "#9c179e"
             ],
             [
              0.4444444444444444,
              "#bd3786"
             ],
             [
              0.5555555555555556,
              "#d8576b"
             ],
             [
              0.6666666666666666,
              "#ed7953"
             ],
             [
              0.7777777777777778,
              "#fb9f3a"
             ],
             [
              0.8888888888888888,
              "#fdca26"
             ],
             [
              1,
              "#f0f921"
             ]
            ],
            "type": "surface"
           }
          ],
          "table": [
           {
            "cells": {
             "fill": {
              "color": "#EBF0F8"
             },
             "line": {
              "color": "white"
             }
            },
            "header": {
             "fill": {
              "color": "#C8D4E3"
             },
             "line": {
              "color": "white"
             }
            },
            "type": "table"
           }
          ]
         },
         "layout": {
          "annotationdefaults": {
           "arrowcolor": "#2a3f5f",
           "arrowhead": 0,
           "arrowwidth": 1
          },
          "autotypenumbers": "strict",
          "coloraxis": {
           "colorbar": {
            "outlinewidth": 0,
            "ticks": ""
           }
          },
          "colorscale": {
           "diverging": [
            [
             0,
             "#8e0152"
            ],
            [
             0.1,
             "#c51b7d"
            ],
            [
             0.2,
             "#de77ae"
            ],
            [
             0.3,
             "#f1b6da"
            ],
            [
             0.4,
             "#fde0ef"
            ],
            [
             0.5,
             "#f7f7f7"
            ],
            [
             0.6,
             "#e6f5d0"
            ],
            [
             0.7,
             "#b8e186"
            ],
            [
             0.8,
             "#7fbc41"
            ],
            [
             0.9,
             "#4d9221"
            ],
            [
             1,
             "#276419"
            ]
           ],
           "sequential": [
            [
             0,
             "#0d0887"
            ],
            [
             0.1111111111111111,
             "#46039f"
            ],
            [
             0.2222222222222222,
             "#7201a8"
            ],
            [
             0.3333333333333333,
             "#9c179e"
            ],
            [
             0.4444444444444444,
             "#bd3786"
            ],
            [
             0.5555555555555556,
             "#d8576b"
            ],
            [
             0.6666666666666666,
             "#ed7953"
            ],
            [
             0.7777777777777778,
             "#fb9f3a"
            ],
            [
             0.8888888888888888,
             "#fdca26"
            ],
            [
             1,
             "#f0f921"
            ]
           ],
           "sequentialminus": [
            [
             0,
             "#0d0887"
            ],
            [
             0.1111111111111111,
             "#46039f"
            ],
            [
             0.2222222222222222,
             "#7201a8"
            ],
            [
             0.3333333333333333,
             "#9c179e"
            ],
            [
             0.4444444444444444,
             "#bd3786"
            ],
            [
             0.5555555555555556,
             "#d8576b"
            ],
            [
             0.6666666666666666,
             "#ed7953"
            ],
            [
             0.7777777777777778,
             "#fb9f3a"
            ],
            [
             0.8888888888888888,
             "#fdca26"
            ],
            [
             1,
             "#f0f921"
            ]
           ]
          },
          "colorway": [
           "#636efa",
           "#EF553B",
           "#00cc96",
           "#ab63fa",
           "#FFA15A",
           "#19d3f3",
           "#FF6692",
           "#B6E880",
           "#FF97FF",
           "#FECB52"
          ],
          "font": {
           "color": "#2a3f5f"
          },
          "geo": {
           "bgcolor": "white",
           "lakecolor": "white",
           "landcolor": "#E5ECF6",
           "showlakes": true,
           "showland": true,
           "subunitcolor": "white"
          },
          "hoverlabel": {
           "align": "left"
          },
          "hovermode": "closest",
          "mapbox": {
           "style": "light"
          },
          "paper_bgcolor": "white",
          "plot_bgcolor": "#E5ECF6",
          "polar": {
           "angularaxis": {
            "gridcolor": "white",
            "linecolor": "white",
            "ticks": ""
           },
           "bgcolor": "#E5ECF6",
           "radialaxis": {
            "gridcolor": "white",
            "linecolor": "white",
            "ticks": ""
           }
          },
          "scene": {
           "xaxis": {
            "backgroundcolor": "#E5ECF6",
            "gridcolor": "white",
            "gridwidth": 2,
            "linecolor": "white",
            "showbackground": true,
            "ticks": "",
            "zerolinecolor": "white"
           },
           "yaxis": {
            "backgroundcolor": "#E5ECF6",
            "gridcolor": "white",
            "gridwidth": 2,
            "linecolor": "white",
            "showbackground": true,
            "ticks": "",
            "zerolinecolor": "white"
           },
           "zaxis": {
            "backgroundcolor": "#E5ECF6",
            "gridcolor": "white",
            "gridwidth": 2,
            "linecolor": "white",
            "showbackground": true,
            "ticks": "",
            "zerolinecolor": "white"
           }
          },
          "shapedefaults": {
           "line": {
            "color": "#2a3f5f"
           }
          },
          "ternary": {
           "aaxis": {
            "gridcolor": "white",
            "linecolor": "white",
            "ticks": ""
           },
           "baxis": {
            "gridcolor": "white",
            "linecolor": "white",
            "ticks": ""
           },
           "bgcolor": "#E5ECF6",
           "caxis": {
            "gridcolor": "white",
            "linecolor": "white",
            "ticks": ""
           }
          },
          "title": {
           "x": 0.05
          },
          "xaxis": {
           "automargin": true,
           "gridcolor": "white",
           "linecolor": "white",
           "ticks": "",
           "title": {
            "standoff": 15
           },
           "zerolinecolor": "white",
           "zerolinewidth": 2
          },
          "yaxis": {
           "automargin": true,
           "gridcolor": "white",
           "linecolor": "white",
           "ticks": "",
           "title": {
            "standoff": 15
           },
           "zerolinecolor": "white",
           "zerolinewidth": 2
          }
         }
        },
        "title": {
         "text": "RES.CUSTOMERS"
        },
        "xaxis": {
         "anchor": "y",
         "domain": [
          0,
          1
         ],
         "title": {
          "text": "RES.CUSTOMERS"
         }
        },
        "yaxis": {
         "anchor": "x",
         "domain": [
          0,
          1
         ],
         "title": {
          "text": "OUTAGE.DURATION"
         }
        }
       }
      },
      "text/html": [
       "<div>                            <div id=\"0fc870e7-4017-4de3-8b68-c2e528adfb6b\" class=\"plotly-graph-div\" style=\"height:525px; width:100%;\"></div>            <script type=\"text/javascript\">                require([\"plotly\"], function(Plotly) {                    window.PLOTLYENV=window.PLOTLYENV || {};                                    if (document.getElementById(\"0fc870e7-4017-4de3-8b68-c2e528adfb6b\")) {                    Plotly.newPlot(                        \"0fc870e7-4017-4de3-8b68-c2e528adfb6b\",                        [{\"hovertemplate\":\"RES.CUSTOMERS=%{x}\\u003cbr\\u003eOUTAGE.DURATION=%{y}\\u003cextra\\u003e\\u003c\\u002fextra\\u003e\",\"legendgroup\":\"\",\"marker\":{\"color\":\"#636efa\",\"symbol\":\"circle\"},\"mode\":\"markers\",\"name\":\"\",\"showlegend\":false,\"x\":[2308736.0,2345860.0,2300291.0,2317336.0,2374674.0,2300291.0,2300291.0,2211000.0,2374674.0,2329734.0,2308736.0,2308736.0,2345860.0,2783058.0,2721099.0,2783058.0,2708113.0,2685425.0,2783058.0,2721099.0,2738547.0,2756932.0,2693821.0,2708113.0,2708113.0,2756932.0,2721099.0,2756932.0,2708113.0,2783058.0,2783058.0,2756932.0,2708113.0,2756932.0,2783058.0,2738547.0,2708113.0,2693821.0,2756932.0,2756932.0,2708113.0,2756932.0,2756932.0,2693821.0,2631430.0,2526303.0,2619676.0,2446109.0,2631430.0,2662284.0,2526303.0,2594698.0,2594698.0,2446109.0,2631430.0,2631430.0,2619676.0,2631430.0,2619676.0,2631430.0,861334.0,862869.0,4249136.0,4284083.0,4216573.0,4249136.0,4311008.0,4298455.0,4216573.0,4216573.0,4249136.0,4245158.0,4273126.0,4250620.0,4253786.0,4298455.0,4282858.0,4298455.0,4253786.0,4284083.0,4253786.0,4265264.0,4216573.0,4249136.0,4249136.0,4250620.0,4253786.0,4248920.0,4282858.0,4311008.0,4290313.0,4250620.0,4282858.0,4216573.0,4265264.0,4245158.0,4290313.0,4248920.0,4253786.0,4282858.0,4299273.0,4253786.0,4245158.0,4290313.0,4250620.0,4249136.0,4250620.0,4273126.0,4245158.0,4265264.0,4216573.0,4298455.0,4290313.0,4290313.0,4250620.0,4248920.0,4273126.0,4265264.0,4245158.0,4265264.0,4298455.0,4216573.0,4265264.0,4249136.0,4265264.0,4249136.0,4248920.0,4298455.0,4282858.0,4245158.0,4253786.0,4284083.0,4188117.0,4253786.0,4245158.0,4282858.0,4249136.0,4249136.0,4245158.0,4265264.0,4290313.0,4249136.0,10318006.0,9621481.0,9621481.0,10521732.0,9802110.0,10138874.0,10138874.0,8562931.0,10318006.0,10318006.0,10138874.0,9102596.0,9536778.0,9536778.0,10318006.0,9166849.0,9621481.0,8023266.0,10318006.0,9802110.0,10318006.0,9166849.0,9621481.0,9621481.0,9102596.0,10521732.0,9621481.0,8562931.0,8493309.0,9166849.0,10138874.0,10318006.0,9621481.0,10318006.0,9802110.0,10138874.0,10318006.0,9166849.0,8493309.0,9461508.0,9802110.0,9491971.0,10521732.0,9491971.0,10521732.0,9802110.0,9102596.0,8562931.0,9802110.0,10521732.0,9491971.0,9802110.0,9102596.0,9954303.0,9621481.0,8023266.0,9536778.0,8823252.0,9491971.0,8023266.0,9621481.0,9102596.0,9802110.0,8562931.0,9102596.0,10318006.0,9461508.0,10318006.0,9802110.0,9621481.0,9461508.0,9536778.0,10138874.0,9491971.0,8302025.0,9491971.0,9461508.0,10318006.0,9621481.0,9491971.0,9802110.0,9491971.0,10138874.0,9621481.0,9802110.0,9954303.0,10318006.0,8823252.0,9102596.0,10318006.0,9621481.0,10138874.0,10138874.0,8562931.0,10318006.0,9102596.0,9491971.0,9536778.0,10521732.0,9166849.0,9491971.0,9621481.0,8562931.0,10318006.0,9491971.0,9491971.0,9621481.0,8823252.0,8302025.0,9621481.0,2784660.0,2654030.0,2771260.0,2804861.0,2733128.0,2733611.0,2733128.0,2733128.0,2784660.0,2771260.0,2771260.0,2744879.0,2744879.0,2771260.0,2784660.0,2755595.0,2755595.0,2744879.0,2755595.0,2742789.0,2710178.0,2771260.0,2744879.0,2733128.0,2727752.0,2755595.0,2755595.0,2755595.0,2744879.0,2744879.0,2733128.0,2771260.0,2742789.0,2733128.0,2733128.0,2733128.0,2169790.0,1930037.0,1930037.0,2182616.0,2158898.0,1263583.0,1251640.0,1263583.0,1270397.0,5089449.0,5070056.0,5098647.0,5070056.0,5098647.0,5120607.0,5020608.0,5070056.0,5008031.0,5089449.0,5145022.0,5074861.0,4921448.0,5089449.0,5098647.0,5098647.0,5098579.0,5120607.0,5089449.0,4900412.0,5120607.0,5089449.0,5098579.0,5089449.0,4921448.0,5020608.0,5065123.0,5065123.0,5172653.0,4900412.0,4748863.0,5145022.0,5098579.0,5098647.0,5070056.0,4900412.0,5089449.0,5020608.0,5089449.0,5089449.0,5098579.0,5089449.0,2852760.0,2837631.0,2852760.0,2825281.0,2907705.0,2837631.0,2852760.0,2852760.0,2945760.0,2852760.0,2837631.0,2852760.0,2604485.0,2837631.0,2837631.0,2852760.0,2852760.0,2945760.0,2945760.0,2748270.0,2852760.0,2985799.0,2837631.0,2837631.0,2837631.0,2880008.0,2837631.0,2945760.0,2837631.0,2837631.0,2985799.0,2837631.0,2704101.0,2837631.0,2852760.0,2809302.0,2852760.0,2985799.0,2880008.0,2852760.0,2748270.0,2837631.0,2880008.0,2852760.0,2789188.0,2837631.0,2825281.0,2852760.0,2837631.0,2880008.0,2852760.0,2837631.0,2837631.0,2837631.0,2837631.0,2837631.0,2852760.0,2704101.0,2852760.0,2907705.0,2837631.0,2553169.0,2852760.0,2880008.0,2837631.0,2852760.0,2837631.0,2945760.0,2837631.0,2837631.0,2852760.0,2704101.0,2704101.0,2837631.0,2704101.0,2837631.0,2852760.0,2907705.0,2852760.0,2604485.0,2837631.0,2852760.0,2945760.0,2852760.0,2880008.0,2575586.0,2689223.0,2689223.0,2630595.0,2630595.0,2165899.0,2630595.0,2630595.0,2544383.0,2661694.0,2661694.0,2661694.0,1959669.0,2661694.0,2725510.0,2630595.0,2575586.0,2630595.0,2689223.0,2575586.0,2661694.0,2255973.0,2165899.0,2212287.0,2085906.0,2141929.0,2178595.0,2085906.0,2141929.0,2115620.0,2218948.0,2212287.0,2208015.0,2212287.0,2234962.0,2208015.0,2212287.0,2208015.0,2212287.0,2218948.0,2060326.0,2208015.0,2212287.0,2218948.0,2234962.0,2115620.0,2212287.0,2212287.0,2208015.0,2218948.0,2141929.0,2212287.0,2208015.0,2218948.0,2218948.0,2212287.0,2218948.0,2234962.0,2060326.0,2212287.0,2060326.0,2212287.0,2218948.0,2212287.0,2178595.0,2288301.0,2188390.0,2163625.0,2208015.0,2212287.0,2212287.0,2163625.0,2200368.0,2255556.0,2115620.0,2218948.0,5190697.0,5244278.0,5249827.0,5272857.0,5231696.0,5190697.0,5190697.0,5244278.0,5261381.0,5154728.0,5249827.0,5190697.0,5335555.0,5244278.0,5121901.0,5082234.0,5249827.0,5154728.0,5304279.0,5289211.0,5249827.0,5231696.0,5249827.0,5335555.0,5231696.0,5244278.0,5249827.0,5289211.0,5249827.0,5231696.0,5235331.0,5261381.0,5207370.0,5289211.0,5289211.0,5244278.0,5249827.0,5289211.0,5231696.0,5289211.0,5249827.0,5048925.0,5249827.0,5261381.0,5048925.0,5249827.0,5304279.0,1928523.0,1939489.0,1924888.0,1928523.0,1924888.0,1947068.0,1928082.0,1928082.0,1924888.0,1924888.0,946468.0,1021839.0,1000416.0,981194.0,981194.0,981194.0,1000416.0,1021839.0,1041823.0,1021839.0,1041823.0,1021839.0,946468.0,1000416.0,981194.0,946468.0,909388.0,946468.0,981194.0,924826.0,946468.0,946468.0,1041823.0,946468.0,1021839.0,1041823.0,1000416.0,946468.0,946468.0,1000416.0,946468.0,946468.0,936602.0,932016.0,1000416.0,981194.0,1041823.0,981194.0,946468.0,1021839.0,981194.0,4829559.0,4829559.0,4892005.0,4874482.0,4892916.0,4869305.0,4874482.0,4891891.0,4891891.0,4791889.0,4874482.0,4869305.0,4880393.0,4875346.0,4791889.0,4874482.0,4874482.0,4882159.0,4791889.0,4869305.0,4869165.0,4891891.0,4869305.0,4875346.0,4877229.0,4874482.0,4892005.0,4874482.0,4880393.0,4874482.0,4874482.0,4874482.0,4874482.0,4880393.0,4874482.0,4882159.0,3929358.0,4011329.0,4201898.0,4268019.0,4230588.0,4201898.0,4230588.0,4303476.0,4230588.0,4336698.0,4230588.0,4423532.0,4147621.0,3561203.0,4303476.0,4201898.0,4303476.0,3778470.0,4201898.0,4011329.0,3929358.0,4268019.0,4230588.0,4185540.0,3778470.0,3845187.0,4201898.0,4303476.0,4268019.0,4268019.0,4423532.0,4175829.0,4303476.0,4201898.0,4147621.0,3778470.0,4185540.0,4303476.0,3510141.0,3489111.0,3372447.0,3457325.0,3409806.0,3457325.0,3455302.0,3409806.0,3409806.0,3457325.0,3457325.0,3510141.0,3457325.0,3372447.0,3409806.0,3457325.0,3470874.0,3457325.0,3457325.0,3454840.0,3454840.0,3457325.0,3457325.0,1892678.0,2101585.0,2157091.0,2157091.0,1892678.0,1764298.0,2157091.0,1633551.0,1633551.0,1686973.0,1669124.0,1650803.0,1706622.0,1686973.0,1616598.0,1642444.0,1577005.0,1633551.0,1669124.0,1706622.0,1669124.0,1650803.0,1577005.0,1633551.0,1650803.0,1633551.0,1686973.0,1577005.0,1650803.0,1686973.0,1669124.0,1686973.0,229450.0,227550.0,229450.0,235322.0,239355.0,235322.0,227550.0,2734553.0,2687756.0,2687756.0,2687756.0,2724541.0,2708934.0,2666181.0,2686746.0,2693261.0,2693261.0,2751460.0,2708934.0,2708934.0,396114.0,399998.0,403519.0,399998.0,398109.0,398109.0,399998.0,398109.0,399998.0,403519.0,398109.0,407508.0,399998.0,403519.0,419234.0,399998.0,399998.0,398109.0,398109.0,403519.0,399998.0,399998.0,403519.0,399998.0,403519.0,399998.0,419234.0,399998.0,403519.0,403519.0,403519.0,399998.0,419234.0,419234.0,413445.0,403519.0,403519.0,407508.0,398109.0,399998.0,1348641.0,1323176.0,1341807.0,1334596.0,1348641.0,1323176.0,485041.0,477266.0,467878.0,6875329.0,6987631.0,6710008.0,7498723.0,6987631.0,6987631.0,6987631.0,7027866.0,6933304.0,7118901.0,7046829.0,7118901.0,6794431.0,7027866.0,7079097.0,7027866.0,7027866.0,6897087.0,6987631.0,6897087.0,6987631.0,6987631.0,6897087.0,7046829.0,6875329.0,6987631.0,7027866.0,6987631.0,6933304.0,6987631.0,6954916.0,6987631.0,6987631.0,6829269.0,6954916.0,6875329.0,6954916.0,6875329.0,6794431.0,6787382.0,6987631.0,7079097.0,7027866.0,7079097.0,6897087.0,6987631.0,7010740.0,7027866.0,6794431.0,6933304.0,1946996.0,1973174.0,1973174.0,1899301.0,1896052.0,1973174.0,2059699.0,1973174.0,1899301.0,1973174.0,1995661.0,1896052.0,1899301.0,1946996.0,1979175.0,1946996.0,1920083.0,1973174.0,1946996.0,1899301.0,1973174.0,1995661.0,1995661.0,1920083.0,1973174.0,1946996.0,2011044.0,2026223.0,1973174.0,1995661.0,1979175.0,1973174.0,8756322.0,8645207.0,8478405.0,8478405.0,9149214.0,7506268.0,8575892.0,8090607.0,8478405.0,7885022.0,7885022.0,7885022.0,7885022.0,7885022.0,8529204.0,7885022.0,8478405.0,8493591.0,7885022.0,8478405.0,8756322.0,7885022.0,7885022.0,8478405.0,8478405.0,8756322.0,8478405.0,7885022.0,8090607.0,7885022.0,7885022.0,7885022.0,8575892.0,8575892.0,7684497.0,12819149.0,12941717.0,12689438.0,13380684.0,13256068.0,13256426.0,12941717.0,12689438.0,12480545.0,13256426.0,12480545.0,12480545.0,13256426.0,12941717.0,13380684.0,13256426.0,13002980.0,12947917.0,13256426.0,13380684.0,13002980.0,13380684.0,12947917.0,13002980.0,12819149.0,12910857.0,12941717.0,12947917.0,12941717.0,12819149.0,12270811.0,12941717.0,12689438.0,12941717.0,12270811.0,12941717.0,12947917.0,12689438.0,13380684.0,13256068.0,13380684.0,13380684.0,13380684.0,13256426.0,13256426.0,13256426.0,12910857.0,13256426.0,11837589.0,12689438.0,12819149.0,12480545.0,12947917.0,13256426.0,13101887.0,11920437.0,13380684.0,13256426.0,13445133.0,13445133.0,12689438.0,13002980.0,13380684.0,13002980.0,13256426.0,13002980.0,13380684.0,12947917.0,12270811.0,12480545.0,12819149.0,12480545.0,13256426.0,12819149.0,13380684.0,12819149.0,11920437.0,13002980.0,11837589.0,12947917.0,11837589.0,12947917.0,12143454.0,12941717.0,12947917.0,13256426.0,12947917.0,12947917.0,13380684.0,11920437.0,12270811.0,12270811.0,12947917.0,13101887.0,12941717.0,13101887.0,12143454.0,12910857.0,13380684.0,12819149.0,12941717.0,13380684.0,12270811.0,12480545.0,13101887.0,12910857.0,12910857.0,12947917.0,12941717.0,12910857.0,12947917.0,13002980.0,12941717.0,12689438.0,12910857.0,13101887.0,11920437.0,13101887.0,13380684.0,12143454.0,13380684.0,13101887.0,12480545.0,13380684.0,13256068.0,13002980.0,12947917.0,12947917.0,12947917.0,13002980.0,11837589.0,13002980.0,12947917.0,12910857.0,13380684.0,12941717.0,13002980.0,12819149.0,12941717.0,13002980.0,12947917.0,13380684.0,13002980.0,12947917.0,13101887.0,13101887.0,12270811.0,12819149.0,12947917.0,13101887.0,11837589.0,11837589.0,12819149.0,12819149.0,12270811.0,11837589.0,12819149.0,12941717.0,13256068.0,12819149.0,12270811.0,13256068.0,11837589.0,11920437.0,12910857.0,12819149.0,13380684.0,13380684.0,12947917.0,13256426.0,12910857.0,12910857.0,13380684.0,12910857.0,12819149.0,12941717.0,12947917.0,12941717.0,13101887.0,12480545.0,12947917.0,12270811.0,13256426.0,12941717.0,12819149.0,12143454.0,12941717.0,13256068.0,1328286.0,1315041.0,1332154.0,1339680.0,1332154.0,1339680.0,1328286.0,1339680.0,1328286.0,1356658.0,1332154.0,1322833.0,1328286.0,1328286.0,1332154.0,1328286.0,1283520.0,1260764.0,1339680.0,1345009.0,1339680.0,1332154.0,1356658.0,3169282.0,3225395.0,3225395.0,3273502.0,3273502.0,2981192.0,3332083.0,2924097.0,3225395.0,3273502.0,3225395.0,3248518.0,3225395.0,3225395.0,3139055.0,3258959.0,3258959.0,2819326.0,3248518.0,3189118.0,3248518.0,3258959.0,3189118.0,3169282.0,3169282.0,3273502.0,2875235.0,3095982.0,2924097.0,3139055.0,3095982.0,3258959.0,3225395.0,3095982.0,3273502.0,3248518.0,801101.0,795000.0,763380.0,255383.0,258528.0,258528.0,263614.0,263614.0,257447.0,859281.0,865195.0,728046.0,865195.0,865195.0,865195.0,865195.0,865195.0,311308.0,309019.0,309019.0,309019.0,310932.0,308992.0,309019.0,308992.0,309019.0,3751795.0,3834400.0,3751795.0,3751795.0,4056147.0,4056147.0,3834400.0,4191209.0,3924073.0,4034752.0,3751795.0,4137057.0,4061862.0,4137057.0,3751795.0,4056147.0,4071478.0,1453864.0,1454963.0,1453864.0,1447250.0,1454963.0,1453864.0,1452080.0,1454963.0,1454963.0,1453864.0,1459141.0,1451808.0,1453864.0,1451808.0,1394440.0,1437836.0,1454651.0,1452080.0,1723938.0,1679296.0,1679296.0,1667223.0,1667223.0,1660653.0,1736819.0,1616987.0,1667223.0,1693151.0,1667223.0,1693151.0,1693151.0,1667223.0,1569162.0,1723938.0,1723938.0,1679296.0,1667223.0,2693548.0,2699141.0,2693548.0,2693548.0,2699141.0,2525845.0,2708759.0,2699141.0,2699141.0,2699141.0,2574636.0,2740865.0,2699141.0,2708759.0,2548695.0,2708759.0,2708759.0,2699141.0,694235.0,701335.0,701335.0,694235.0,701335.0,699241.0,701335.0,696822.0,685425.0,695368.0,695368.0,699625.0,704775.0,704775.0,696822.0,695368.0,703770.0,694235.0,601697.0,601697.0,601697.0,599532.0,599532.0,601697.0,599532.0,599532.0,603628.0,592238.0,599532.0,599532.0,599532.0,601697.0,1067944.0,1094770.0,1126220.0,1067944.0,1080583.0,1143667.0,1080583.0,2169365.0,2169365.0,2141780.0,2111623.0,2141780.0,2225725.0,2260068.0,2149637.0,2128507.0,2030827.0,2149637.0,2149637.0,2030827.0,2149637.0,1231830.0,1231830.0,1231830.0,1231830.0,1215411.0,409668.0,417531.0,401592.0,401592.0,401592.0,714365.0,667243.0,588363.0,667243.0,576895.0,667243.0,714365.0,714365.0,330738.0,367206.0,367206.0],\"xaxis\":\"x\",\"y\":[3060.0,1.0,3000.0,2550.0,1740.0,1860.0,2970.0,3960.0,155.0,3621.0,0.0,1322.0,60.0,19.0,0.0,21.0,196.0,840.0,935.0,1260.0,619.0,150.0,762.0,0.0,660.0,1.0,2700.0,1.0,4921.0,95.0,251.0,4125.0,2550.0,1200.0,310.0,2818.0,5054.0,136.0,528.0,150.0,46.0,1.0,1920.0,32.0,135.0,3000.0,32.0,960.0,44.0,1605.0,4410.0,388.0,480.0,1219.0,90.0,538.0,104.0,60.0,1272.0,60.0,1.0,1000.0,3090.0,6510.0,5820.0,1078.0,1513.0,4830.0,3051.0,4200.0,2085.0,5730.0,4290.0,2670.0,3540.0,3637.0,1710.0,4320.0,3915.0,3120.0,4590.0,5034.0,3300.0,4320.0,1770.0,4080.0,5670.0,5700.0,1995.0,300.0,5115.0,2670.0,4338.0,761.0,5760.0,2820.0,4110.0,3360.0,3015.0,232.0,6420.0,5700.0,5610.0,270.0,4050.0,5865.0,1.0,2325.0,4170.0,4485.0,2694.0,168.0,5580.0,705.0,3494.0,4560.0,2760.0,5760.0,6030.0,4242.0,3120.0,5700.0,900.0,1046.0,3630.0,1260.0,5840.0,5790.0,2820.0,600.0,4259.0,2939.0,3600.0,1588.0,4260.0,2700.0,200.0,85.0,1019.0,420.0,1140.0,4458.0,373.0,1203.0,868.0,1455.0,206.0,1195.0,1559.0,900.0,2690.0,5115.0,5.0,189.0,2142.0,360.0,225.0,2340.0,480.0,480.0,3000.0,300.0,3020.0,766.0,1335.0,197.0,245.0,3255.0,1077.0,600.0,186.0,690.0,402.0,2420.0,327.0,1.0,1860.0,220.0,455.0,318.0,757.0,847.0,410.0,215.0,5.0,570.0,2655.0,1440.0,600.0,39.0,181.0,1185.0,1500.0,0.0,271.0,1860.0,1200.0,2159.0,6300.0,1620.0,224.0,70.0,1697.0,95.0,2220.0,1200.0,121.0,63.0,5595.0,1.0,557.0,240.0,3360.0,685.0,2280.0,210.0,167.0,1920.0,3569.0,3300.0,10.0,1560.0,840.0,240.0,990.0,6000.0,1282.0,1080.0,1320.0,1110.0,130.0,3040.0,394.0,45.0,1.0,1200.0,550.0,900.0,885.0,940.0,3050.0,1830.0,6000.0,1500.0,150.0,1955.0,2220.0,330.0,74.0,420.0,1440.0,255.0,1060.0,5250.0,4320.0,120.0,233.0,65.0,2120.0,96.0,3.0,4320.0,65.0,2146.0,96.0,4032.0,2580.0,6.0,569.0,0.0,200.0,1980.0,4045.0,2730.0,3314.0,1.0,47.0,1440.0,276.0,0.0,0.0,3646.0,1130.0,2880.0,513.0,35.0,10.0,3872.0,390.0,3264.0,1230.0,803.0,77.0,30.0,300.0,1.0,5.0,1450.0,2680.0,150.0,3000.0,420.0,479.0,1680.0,2700.0,149.0,1110.0,2790.0,659.0,1320.0,1830.0,3000.0,870.0,810.0,1336.0,1695.0,360.0,360.0,120.0,3000.0,1290.0,1530.0,2370.0,1200.0,1200.0,90.0,120.0,1200.0,2761.0,720.0,1120.0,2100.0,960.0,450.0,1440.0,1020.0,0.0,2010.0,120.0,1240.0,465.0,0.0,2460.0,1183.0,394.0,219.0,487.0,19.0,28.0,0.0,1.0,5340.0,467.0,0.0,1920.0,0.0,25.0,420.0,2040.0,0.0,1.0,1423.0,60.0,1620.0,3300.0,385.0,663.0,123.0,1276.0,1919.0,440.0,6690.0,0.0,717.0,1204.0,292.0,313.0,1.0,5.0,6276.0,0.0,74.0,0.0,248.0,1.0,2700.0,25.0,126.0,1.0,255.0,1207.0,0.0,0.0,245.0,476.0,1.0,2639.0,502.0,548.0,369.0,6480.0,15.0,5.0,1.0,0.0,432.0,21.0,1697.0,0.0,2615.0,3507.0,2820.0,314.0,5855.0,0.0,0.0,1.0,70.0,4285.0,355.0,0.0,2520.0,0.0,180.0,554.0,50.0,70.0,180.0,3842.0,35.0,1.0,189.0,4200.0,353.0,1.0,87.0,66.0,1.0,227.0,1440.0,1.0,2700.0,2.0,215.0,451.0,418.0,100.0,2021.0,1671.0,3938.0,4470.0,2279.0,4440.0,2760.0,0.0,1.0,0.0,1.0,1840.0,428.0,331.0,1980.0,1.0,1.0,1950.0,3037.0,1.0,1.0,1196.0,5628.0,1440.0,2.0,4232.0,95.0,2610.0,4320.0,17.0,113.0,0.0,2507.0,0.0,1.0,4920.0,1.0,4080.0,0.0,960.0,185.0,1320.0,1673.0,2855.0,3060.0,565.0,1.0,1.0,5790.0,3040.0,304.0,4517.0,0.0,3058.0,2865.0,152.0,380.0,5579.0,4800.0,3060.0,4792.0,3894.0,1757.0,2880.0,2985.0,164.0,3232.0,2319.0,4338.0,2880.0,1714.0,90.0,59.0,4139.0,6938.0,930.0,278.0,299.0,5320.0,2880.0,1.0,4260.0,6713.0,5160.0,1440.0,78.0,2668.0,1.0,376.0,1324.0,6940.0,2684.0,54.0,100.0,720.0,2880.0,3189.0,2790.0,2843.0,1642.0,1440.0,1.0,1680.0,1579.0,652.0,108.0,300.0,1020.0,3570.0,6492.0,0.0,120.0,1.0,1.0,1.0,1.0,1.0,1.0,60.0,113.0,204.0,31.0,57.0,13.0,2.0,11.0,283.0,0.0,1.0,871.0,1631.0,56.0,15.0,15.0,20.0,60.0,1.0,95.0,300.0,1.0,3186.0,575.0,2275.0,15.0,1.0,44.0,21.0,1.0,114.0,1.0,60.0,4920.0,4920.0,420.0,0.0,7.0,21.0,340.0,4200.0,805.0,5040.0,5490.0,165.0,3630.0,1590.0,3137.0,1440.0,360.0,0.0,1440.0,1372.0,6480.0,2190.0,285.0,75.0,1843.0,1.0,1420.0,0.0,930.0,0.0,352.0,0.0,960.0,1733.0,3690.0,634.0,1440.0,180.0,1574.0,45.0,563.0,388.0,373.0,4510.0,290.0,1950.0,270.0,1355.0,1318.0,2490.0,1265.0,195.0,3120.0,3388.0,1025.0,990.0,240.0,1485.0,129.0,0.0,1528.0,1890.0,2551.0,985.0,405.0,1698.0,167.0,1460.0,182.0,4113.0,885.0,15.0,42.0,1050.0,1.0,132.0,4140.0,2880.0,3599.0,0.0,2941.0,6090.0,1365.0,375.0,2520.0,76.0,0.0,3720.0,333.0,0.0,353.0,0.0,0.0,7020.0,3300.0,3339.0,2880.0,488.0,2415.0,180.0,4177.0,3480.0,6600.0,300.0,1526.0,60.0,210.0,2.0,1350.0,73.0,1.0,200.0,0.0,4380.0,0.0,120.0,2680.0,840.0,989.0,4313.0,214.0,4.0,164.0,91.0,1050.0,838.0,60.0,1.0,1.0,2425.0,390.0,6660.0,159.0,54.0,30.0,855.0,65.0,810.0,4150.0,4740.0,25.0,0.0,2070.0,870.0,2880.0,120.0,1199.0,1470.0,4140.0,50.0,0.0,1.0,1.0,0.0,0.0,0.0,457.0,1.0,1.0,0.0,30.0,1.0,1.0,65.0,1.0,0.0,0.0,0.0,1.0,1.0,0.0,1.0,1.0,110.0,39.0,1.0,1.0,1.0,1.0,1.0,1.0,507.0,213.0,4254.0,1.0,1.0,53.0,0.0,0.0,251.0,347.0,1637.0,2161.0,2880.0,1044.0,56.0,93.0,13.0,2089.0,2880.0,681.0,494.0,1.0,5355.0,0.0,3943.0,3300.0,191.0,0.0,73.0,4680.0,1.0,5.0,2515.0,2730.0,5400.0,30.0,3584.0,3600.0,5850.0,4710.0,1.0,1732.0,0.0,1800.0,6074.0,49.0,2299.0,5760.0,420.0,2880.0,448.0,2520.0,5513.0,21.0,2100.0,3120.0,3240.0,2880.0,255.0,2355.0,161.0,50.0,258.0,0.0,300.0,2400.0,48.0,300.0,2775.0,2775.0,2160.0,2100.0,2775.0,3180.0,2775.0,1440.0,430.0,2129.0,1755.0,692.0,732.0,7.0,510.0,420.0,557.0,300.0,6240.0,467.0,3067.0,3060.0,355.0,430.0,300.0,227.0,52.0,2880.0,1867.0,1690.0,295.0,17.0,240.0,182.0,5820.0,83.0,230.0,2009.0,720.0,155.0,4320.0,4320.0,480.0,1005.0,221.0,372.0,4320.0,91.0,1419.0,3600.0,5071.0,152.0,6840.0,221.0,38.0,61.0,90.0,396.0,2040.0,1080.0,1680.0,1099.0,2460.0,540.0,52.0,816.0,420.0,155.0,437.0,247.0,540.0,1135.0,437.0,180.0,171.0,656.0,84.0,202.0,255.0,1054.0,1.0,1254.0,1456.0,177.0,106.0,32.0,2464.0,55.0,144.0,70.0,64.0,945.0,523.0,56.0,3.0,155.0,33.0,749.0,159.0,270.0,2790.0,224.0,1470.0,334.0,2050.0,370.0,26.0,797.0,12.0,195.0,1.0,230.0,125.0,15.0,316.0,365.0,1560.0,4740.0,294.0,455.0,2878.0,336.0,295.0,480.0,25.0,223.0,2645.0,2016.0,360.0,3408.0,3698.0,4890.0,1.0,871.0,2759.0,250.0,3301.0,249.0,164.0,435.0,420.0,854.0,5160.0,133.0,2055.0,451.0,140.0,199.0,721.0,179.0,1524.0,78.0,268.0,39.0,1.0,47.0,161.0,900.0,6070.0,697.0,234.0,14.0,5910.0,40.0,166.0,182.0,829.0,15.0,64.0,13.0,245.0,1080.0,390.0,47.0,269.0,400.0,660.0,213.0,761.0,180.0,124.0,4320.0,2820.0,3100.0,989.0,125.0,44.0,26.0,245.0,98.0,1.0,0.0,135.0,50.0,1008.0,53.0,554.0,1260.0,2895.0,89.0,98.0,865.0,128.0,230.0,252.0,130.0,5.0,157.0,6914.0,11.0,13.0,2880.0,270.0,962.0,47.0,20.0,108.0,75.0,17.0,21.0,1950.0,141.0,959.0,1035.0,617.0,1230.0,572.0,324.0,1835.0,6780.0,900.0,37.0,72.0,1.0,251.0,620.0,89.0,909.0,236.0,326.0,300.0,751.0,122.0,214.0,193.0,8.0,5227.0,1414.0,448.0,4605.0,4080.0,1914.0,759.0,1.0,3.0,2700.0,105.0,240.0,210.0,1.0,1201.0,30.0,2806.0,1226.0,300.0,206.0,270.0,2880.0,513.0,3314.0,414.0,126.0,60.0,285.0,110.0,62.0,2363.0,424.0,180.0,0.0,448.0,2.0,624.0,2435.0,131.0,208.0,103.0,1355.0,1523.0,90.0,1205.0,385.0,144.0,235.0,241.0,6787.0,1337.0,1673.0,3366.0,2640.0,1826.0,570.0,1565.0,2691.0,1072.0,115.0,816.0,168.0,30.0,160.0,485.0,1508.0,1301.0,159.0,60.0,4.0,106.0,0.0,0.0,1.0,32.0,61.0,314.0,30.0,0.0,92.0,390.0,161.0,60.0,76.0,1.0,1.0,160.0,20.0,1.0,1.0,70.0,50.0,15.0,810.0,1380.0,1800.0,1560.0,2054.0,1452.0,1865.0,1999.0,120.0,1950.0,360.0,1087.0,1200.0,4122.0,360.0,645.0,108.0,0.0,1.0,1440.0,4560.0,1.0,1.0,110.0,210.0,120.0,0.0,4260.0,76.0,210.0,3305.0,5880.0,145.0,60.0,2640.0,1042.0,110.0,2245.0,984.0,1381.0,148.0,796.0,300.0,2612.0,3000.0,431.0,5310.0,1732.0,0.0,6685.0,3300.0,280.0,117.0,2895.0,480.0,31.0,1.0,0.0,0.0,103.0,4745.0,307.0,1656.0,3525.0,374.0,1068.0,1569.0,114.0,115.0,15.0,2891.0,1.0,1676.0,0.0,0.0,3604.0,195.0,1.0,0.0,2108.0,198.0,3667.0,1037.0,673.0,2652.0,300.0,881.0,618.0,1187.0,950.0,2535.0,27.0,108.0,73.0,200.0,5.0,75.0,0.0,77.0,660.0,0.0,92.0,30.0,33.0,1895.0,274.0,1.0,1534.0,1.0,60.0,108.0,2.0,175.0,2040.0,2710.0,284.0,105.0,4019.0,1.0,391.0,439.0,5.0,201.0,2140.0,103.0,187.0,1406.0,348.0,90.0,913.0,1367.0,174.0,543.0,237.0,1906.0,224.0,0.0,95.0,360.0,1548.0,870.0,0.0,220.0,720.0,59.0,181.0],\"yaxis\":\"y\",\"type\":\"scattergl\"}],                        {\"template\":{\"data\":{\"histogram2dcontour\":[{\"type\":\"histogram2dcontour\",\"colorbar\":{\"outlinewidth\":0,\"ticks\":\"\"},\"colorscale\":[[0.0,\"#0d0887\"],[0.1111111111111111,\"#46039f\"],[0.2222222222222222,\"#7201a8\"],[0.3333333333333333,\"#9c179e\"],[0.4444444444444444,\"#bd3786\"],[0.5555555555555556,\"#d8576b\"],[0.6666666666666666,\"#ed7953\"],[0.7777777777777778,\"#fb9f3a\"],[0.8888888888888888,\"#fdca26\"],[1.0,\"#f0f921\"]]}],\"choropleth\":[{\"type\":\"choropleth\",\"colorbar\":{\"outlinewidth\":0,\"ticks\":\"\"}}],\"histogram2d\":[{\"type\":\"histogram2d\",\"colorbar\":{\"outlinewidth\":0,\"ticks\":\"\"},\"colorscale\":[[0.0,\"#0d0887\"],[0.1111111111111111,\"#46039f\"],[0.2222222222222222,\"#7201a8\"],[0.3333333333333333,\"#9c179e\"],[0.4444444444444444,\"#bd3786\"],[0.5555555555555556,\"#d8576b\"],[0.6666666666666666,\"#ed7953\"],[0.7777777777777778,\"#fb9f3a\"],[0.8888888888888888,\"#fdca26\"],[1.0,\"#f0f921\"]]}],\"heatmap\":[{\"type\":\"heatmap\",\"colorbar\":{\"outlinewidth\":0,\"ticks\":\"\"},\"colorscale\":[[0.0,\"#0d0887\"],[0.1111111111111111,\"#46039f\"],[0.2222222222222222,\"#7201a8\"],[0.3333333333333333,\"#9c179e\"],[0.4444444444444444,\"#bd3786\"],[0.5555555555555556,\"#d8576b\"],[0.6666666666666666,\"#ed7953\"],[0.7777777777777778,\"#fb9f3a\"],[0.8888888888888888,\"#fdca26\"],[1.0,\"#f0f921\"]]}],\"heatmapgl\":[{\"type\":\"heatmapgl\",\"colorbar\":{\"outlinewidth\":0,\"ticks\":\"\"},\"colorscale\":[[0.0,\"#0d0887\"],[0.1111111111111111,\"#46039f\"],[0.2222222222222222,\"#7201a8\"],[0.3333333333333333,\"#9c179e\"],[0.4444444444444444,\"#bd3786\"],[0.5555555555555556,\"#d8576b\"],[0.6666666666666666,\"#ed7953\"],[0.7777777777777778,\"#fb9f3a\"],[0.8888888888888888,\"#fdca26\"],[1.0,\"#f0f921\"]]}],\"contourcarpet\":[{\"type\":\"contourcarpet\",\"colorbar\":{\"outlinewidth\":0,\"ticks\":\"\"}}],\"contour\":[{\"type\":\"contour\",\"colorbar\":{\"outlinewidth\":0,\"ticks\":\"\"},\"colorscale\":[[0.0,\"#0d0887\"],[0.1111111111111111,\"#46039f\"],[0.2222222222222222,\"#7201a8\"],[0.3333333333333333,\"#9c179e\"],[0.4444444444444444,\"#bd3786\"],[0.5555555555555556,\"#d8576b\"],[0.6666666666666666,\"#ed7953\"],[0.7777777777777778,\"#fb9f3a\"],[0.8888888888888888,\"#fdca26\"],[1.0,\"#f0f921\"]]}],\"surface\":[{\"type\":\"surface\",\"colorbar\":{\"outlinewidth\":0,\"ticks\":\"\"},\"colorscale\":[[0.0,\"#0d0887\"],[0.1111111111111111,\"#46039f\"],[0.2222222222222222,\"#7201a8\"],[0.3333333333333333,\"#9c179e\"],[0.4444444444444444,\"#bd3786\"],[0.5555555555555556,\"#d8576b\"],[0.6666666666666666,\"#ed7953\"],[0.7777777777777778,\"#fb9f3a\"],[0.8888888888888888,\"#fdca26\"],[1.0,\"#f0f921\"]]}],\"mesh3d\":[{\"type\":\"mesh3d\",\"colorbar\":{\"outlinewidth\":0,\"ticks\":\"\"}}],\"scatter\":[{\"fillpattern\":{\"fillmode\":\"overlay\",\"size\":10,\"solidity\":0.2},\"type\":\"scatter\"}],\"parcoords\":[{\"type\":\"parcoords\",\"line\":{\"colorbar\":{\"outlinewidth\":0,\"ticks\":\"\"}}}],\"scatterpolargl\":[{\"type\":\"scatterpolargl\",\"marker\":{\"colorbar\":{\"outlinewidth\":0,\"ticks\":\"\"}}}],\"bar\":[{\"error_x\":{\"color\":\"#2a3f5f\"},\"error_y\":{\"color\":\"#2a3f5f\"},\"marker\":{\"line\":{\"color\":\"#E5ECF6\",\"width\":0.5},\"pattern\":{\"fillmode\":\"overlay\",\"size\":10,\"solidity\":0.2}},\"type\":\"bar\"}],\"scattergeo\":[{\"type\":\"scattergeo\",\"marker\":{\"colorbar\":{\"outlinewidth\":0,\"ticks\":\"\"}}}],\"scatterpolar\":[{\"type\":\"scatterpolar\",\"marker\":{\"colorbar\":{\"outlinewidth\":0,\"ticks\":\"\"}}}],\"histogram\":[{\"marker\":{\"pattern\":{\"fillmode\":\"overlay\",\"size\":10,\"solidity\":0.2}},\"type\":\"histogram\"}],\"scattergl\":[{\"type\":\"scattergl\",\"marker\":{\"colorbar\":{\"outlinewidth\":0,\"ticks\":\"\"}}}],\"scatter3d\":[{\"type\":\"scatter3d\",\"line\":{\"colorbar\":{\"outlinewidth\":0,\"ticks\":\"\"}},\"marker\":{\"colorbar\":{\"outlinewidth\":0,\"ticks\":\"\"}}}],\"scattermapbox\":[{\"type\":\"scattermapbox\",\"marker\":{\"colorbar\":{\"outlinewidth\":0,\"ticks\":\"\"}}}],\"scatterternary\":[{\"type\":\"scatterternary\",\"marker\":{\"colorbar\":{\"outlinewidth\":0,\"ticks\":\"\"}}}],\"scattercarpet\":[{\"type\":\"scattercarpet\",\"marker\":{\"colorbar\":{\"outlinewidth\":0,\"ticks\":\"\"}}}],\"carpet\":[{\"aaxis\":{\"endlinecolor\":\"#2a3f5f\",\"gridcolor\":\"white\",\"linecolor\":\"white\",\"minorgridcolor\":\"white\",\"startlinecolor\":\"#2a3f5f\"},\"baxis\":{\"endlinecolor\":\"#2a3f5f\",\"gridcolor\":\"white\",\"linecolor\":\"white\",\"minorgridcolor\":\"white\",\"startlinecolor\":\"#2a3f5f\"},\"type\":\"carpet\"}],\"table\":[{\"cells\":{\"fill\":{\"color\":\"#EBF0F8\"},\"line\":{\"color\":\"white\"}},\"header\":{\"fill\":{\"color\":\"#C8D4E3\"},\"line\":{\"color\":\"white\"}},\"type\":\"table\"}],\"barpolar\":[{\"marker\":{\"line\":{\"color\":\"#E5ECF6\",\"width\":0.5},\"pattern\":{\"fillmode\":\"overlay\",\"size\":10,\"solidity\":0.2}},\"type\":\"barpolar\"}],\"pie\":[{\"automargin\":true,\"type\":\"pie\"}]},\"layout\":{\"autotypenumbers\":\"strict\",\"colorway\":[\"#636efa\",\"#EF553B\",\"#00cc96\",\"#ab63fa\",\"#FFA15A\",\"#19d3f3\",\"#FF6692\",\"#B6E880\",\"#FF97FF\",\"#FECB52\"],\"font\":{\"color\":\"#2a3f5f\"},\"hovermode\":\"closest\",\"hoverlabel\":{\"align\":\"left\"},\"paper_bgcolor\":\"white\",\"plot_bgcolor\":\"#E5ECF6\",\"polar\":{\"bgcolor\":\"#E5ECF6\",\"angularaxis\":{\"gridcolor\":\"white\",\"linecolor\":\"white\",\"ticks\":\"\"},\"radialaxis\":{\"gridcolor\":\"white\",\"linecolor\":\"white\",\"ticks\":\"\"}},\"ternary\":{\"bgcolor\":\"#E5ECF6\",\"aaxis\":{\"gridcolor\":\"white\",\"linecolor\":\"white\",\"ticks\":\"\"},\"baxis\":{\"gridcolor\":\"white\",\"linecolor\":\"white\",\"ticks\":\"\"},\"caxis\":{\"gridcolor\":\"white\",\"linecolor\":\"white\",\"ticks\":\"\"}},\"coloraxis\":{\"colorbar\":{\"outlinewidth\":0,\"ticks\":\"\"}},\"colorscale\":{\"sequential\":[[0.0,\"#0d0887\"],[0.1111111111111111,\"#46039f\"],[0.2222222222222222,\"#7201a8\"],[0.3333333333333333,\"#9c179e\"],[0.4444444444444444,\"#bd3786\"],[0.5555555555555556,\"#d8576b\"],[0.6666666666666666,\"#ed7953\"],[0.7777777777777778,\"#fb9f3a\"],[0.8888888888888888,\"#fdca26\"],[1.0,\"#f0f921\"]],\"sequentialminus\":[[0.0,\"#0d0887\"],[0.1111111111111111,\"#46039f\"],[0.2222222222222222,\"#7201a8\"],[0.3333333333333333,\"#9c179e\"],[0.4444444444444444,\"#bd3786\"],[0.5555555555555556,\"#d8576b\"],[0.6666666666666666,\"#ed7953\"],[0.7777777777777778,\"#fb9f3a\"],[0.8888888888888888,\"#fdca26\"],[1.0,\"#f0f921\"]],\"diverging\":[[0,\"#8e0152\"],[0.1,\"#c51b7d\"],[0.2,\"#de77ae\"],[0.3,\"#f1b6da\"],[0.4,\"#fde0ef\"],[0.5,\"#f7f7f7\"],[0.6,\"#e6f5d0\"],[0.7,\"#b8e186\"],[0.8,\"#7fbc41\"],[0.9,\"#4d9221\"],[1,\"#276419\"]]},\"xaxis\":{\"gridcolor\":\"white\",\"linecolor\":\"white\",\"ticks\":\"\",\"title\":{\"standoff\":15},\"zerolinecolor\":\"white\",\"automargin\":true,\"zerolinewidth\":2},\"yaxis\":{\"gridcolor\":\"white\",\"linecolor\":\"white\",\"ticks\":\"\",\"title\":{\"standoff\":15},\"zerolinecolor\":\"white\",\"automargin\":true,\"zerolinewidth\":2},\"scene\":{\"xaxis\":{\"backgroundcolor\":\"#E5ECF6\",\"gridcolor\":\"white\",\"linecolor\":\"white\",\"showbackground\":true,\"ticks\":\"\",\"zerolinecolor\":\"white\",\"gridwidth\":2},\"yaxis\":{\"backgroundcolor\":\"#E5ECF6\",\"gridcolor\":\"white\",\"linecolor\":\"white\",\"showbackground\":true,\"ticks\":\"\",\"zerolinecolor\":\"white\",\"gridwidth\":2},\"zaxis\":{\"backgroundcolor\":\"#E5ECF6\",\"gridcolor\":\"white\",\"linecolor\":\"white\",\"showbackground\":true,\"ticks\":\"\",\"zerolinecolor\":\"white\",\"gridwidth\":2}},\"shapedefaults\":{\"line\":{\"color\":\"#2a3f5f\"}},\"annotationdefaults\":{\"arrowcolor\":\"#2a3f5f\",\"arrowhead\":0,\"arrowwidth\":1},\"geo\":{\"bgcolor\":\"white\",\"landcolor\":\"#E5ECF6\",\"subunitcolor\":\"white\",\"showland\":true,\"showlakes\":true,\"lakecolor\":\"white\"},\"title\":{\"x\":0.05},\"mapbox\":{\"style\":\"light\"}}},\"xaxis\":{\"anchor\":\"y\",\"domain\":[0.0,1.0],\"title\":{\"text\":\"RES.CUSTOMERS\"}},\"yaxis\":{\"anchor\":\"x\",\"domain\":[0.0,1.0],\"title\":{\"text\":\"OUTAGE.DURATION\"}},\"legend\":{\"tracegroupgap\":0},\"title\":{\"text\":\"RES.CUSTOMERS\"}},                        {\"responsive\": true}                    ).then(function(){\n",
       "                            \n",
       "var gd = document.getElementById('0fc870e7-4017-4de3-8b68-c2e528adfb6b');\n",
       "var x = new MutationObserver(function (mutations, observer) {{\n",
       "        var display = window.getComputedStyle(gd).display;\n",
       "        if (!display || display === 'none') {{\n",
       "            console.log([gd, 'removed!']);\n",
       "            Plotly.purge(gd);\n",
       "            observer.disconnect();\n",
       "        }}\n",
       "}});\n",
       "\n",
       "// Listen for the removal of the full notebook cells\n",
       "var notebookContainer = gd.closest('#notebook-container');\n",
       "if (notebookContainer) {{\n",
       "    x.observe(notebookContainer, {childList: true});\n",
       "}}\n",
       "\n",
       "// Listen for the clearing of the current output cell\n",
       "var outputEl = gd.closest('.output');\n",
       "if (outputEl) {{\n",
       "    x.observe(outputEl, {childList: true});\n",
       "}}\n",
       "\n",
       "                        })                };                });            </script>        </div>"
      ]
     },
     "metadata": {},
     "output_type": "display_data"
    }
   ],
   "source": [
    "for i in outages.columns[15:18]:\n",
    "    plot = px.scatter(x=outages[i].astype(float), y=outages[\"OUTAGE.DURATION\"].astype(float), title=i,\n",
    "                     labels={'x': i, 'y':'OUTAGE.DURATION'})\n",
    "    plot.show()"
   ]
  },
  {
   "cell_type": "markdown",
   "metadata": {},
   "source": [
    "Unfortunately it doesn't look like there are any clear relationships between duration times and the other quantitative variables, such as COM.CUSTOMERS. Most of the points seem to be clustered. Some graphs did look more promising than others, including RES.CUST.PCT, COM.CUST.PCT, IND.CUST.PCT, PC.REALGSP.USA, UTIL.CONTRI, POPPCT_UC, POPDEN_RURAL, PCT_LAND, and PCT_WATER_TOT. To get a closer look, let's see what the correlation coefficents are between outage duration and each quantitative variable."
   ]
  },
  {
   "cell_type": "code",
   "execution_count": 32,
   "metadata": {},
   "outputs": [
    {
     "data": {
      "text/plain": [
       "OUTAGE.DURATION      1.000000\n",
       "RES.PRICE           -0.062971\n",
       "COM.PRICE           -0.062640\n",
       "IND.PRICE           -0.068729\n",
       "TOTAL.PRICE         -0.064647\n",
       "RES.SALES            0.020440\n",
       "COM.SALES           -0.001665\n",
       "IND.SALES            0.053275\n",
       "TOTAL.SALES          0.021107\n",
       "RES.PERCEN           0.001520\n",
       "COM.PERCEN          -0.042720\n",
       "IND.PERCEN           0.031711\n",
       "RES.CUSTOMERS        0.005632\n",
       "COM.CUSTOMERS       -0.003636\n",
       "IND.CUSTOMERS       -0.079793\n",
       "TOTAL.CUSTOMERS      0.003765\n",
       "RES.CUST.PCT         0.151205\n",
       "COM.CUST.PCT        -0.120901\n",
       "IND.CUST.PCT        -0.142698\n",
       "PC.REALGSP.STATE    -0.069015\n",
       "PC.REALGSP.USA      -0.157613\n",
       "PC.REALGSP.REL      -0.052926\n",
       "PC.REALGSP.CHANGE   -0.006979\n",
       "UTIL.REALGSP         0.016917\n",
       "TOTAL.REALGSP       -0.033574\n",
       "UTIL.CONTRI          0.147114\n",
       "PI.UTIL.OFUSA        0.011527\n",
       "POPULATION          -0.014532\n",
       "POPPCT_URBAN        -0.041972\n",
       "POPPCT_UC           -0.120078\n",
       "POPDEN_URBAN        -0.049145\n",
       "POPDEN_UC           -0.080384\n",
       "POPDEN_RURAL         0.134183\n",
       "AREAPCT_URBAN        0.056748\n",
       "AREAPCT_UC          -0.014978\n",
       "PCT_LAND            -0.266095\n",
       "PCT_WATER_TOT        0.266086\n",
       "PCT_WATER_INLAND     0.029160\n",
       "Name: OUTAGE.DURATION, dtype: float64"
      ]
     },
     "execution_count": 32,
     "metadata": {},
     "output_type": "execute_result"
    }
   ],
   "source": [
    "quant_values = outages[outages.columns[4:-2]]\n",
    "quant_values.corr().loc[\"OUTAGE.DURATION\"]"
   ]
  },
  {
   "cell_type": "markdown",
   "metadata": {},
   "source": [
    "The correlation coefficients seem to fit our interpretation of the graphs. Yet, these variables have relatively low correlation with outage duration, the highest being only 0.266. As such, our quantitative variables may not be good linear predictors for outage duration. We will further explore this in our final model, but for now let's focus on categorical variables, as they may tell us more about outage duration times."
   ]
  },
  {
   "cell_type": "markdown",
   "metadata": {},
   "source": [
    "Intuitively, a strong predictor for outage duration may be the cause of the power outage. In our analysis, we are assuming that the power outage has just occurred, and that the cause of the outage is known. Based on this information, we may be able to generalize outage duration times. For example, severe-weather induced power outages may last longer than intentional attacks since there is a higher sense of urgency for attacks, and because most of the time companies must wait for the harsh weather conditions to pass. Another parameter that could significantly influence power outage durations is location. Different states may have different weather patterns, population sizes, availability of resources, local regulations, and so on. Accordingly, for our baseline model we focus on these two predictors, CAUSE.CATEGORY and U.S._STATE. These variables are both nominal. CAUSE,CATEGORY depicts the cause of the power outage, like severe-weather or intentional attack, while U.S._STATE depicts the state where the power outage occurred, like California. We are one-hot encoding both variables so we can input them into our KNN regression model."
   ]
  },
  {
   "cell_type": "code",
   "execution_count": 273,
   "metadata": {},
   "outputs": [],
   "source": [
    "from sklearn.model_selection import train_test_split\n",
    "X_train, X_test, y_train, y_test = train_test_split(outages.drop(columns=[\"OUTAGE.DURATION\"]), outages[\"OUTAGE.DURATION\"], \n",
    "                                                        test_size=0.20)"
   ]
  },
  {
   "cell_type": "code",
   "execution_count": 274,
   "metadata": {},
   "outputs": [],
   "source": [
    "def knn_reg_perf(galton, X_train, X_test, y_train, y_test):\n",
    "\n",
    "    from sklearn.neighbors import KNeighborsRegressor\n",
    "    \n",
    "    def rmse(actual, pred):\n",
    "        return np.sqrt(np.mean((actual - pred) ** 2))\n",
    "    \n",
    "    train_rmse_error = []\n",
    "    test_rmse_error = []\n",
    "    train_r2_error = []\n",
    "    test_r2_error = []\n",
    "    \n",
    "    \n",
    "    for n in range(1,101):\n",
    "        \n",
    "        preproc = ColumnTransformer(\n",
    "            transformers=[\n",
    "                ('group', OneHotEncoder(handle_unknown='ignore'), [\"U.S._STATE\", \"CAUSE.CATEGORY\"]),\n",
    "            ],\n",
    "            remainder='drop'\n",
    "        )\n",
    "        \n",
    "        neigh = Pipeline([\n",
    "            ('preprocessor', preproc), \n",
    "            (\"decision-tree\", KNeighborsRegressor(n_neighbors=n))\n",
    "        ])\n",
    "        \n",
    "        neigh.fit(X_train, y_train)\n",
    "    \n",
    "        train_rmse_error.append(rmse(y_train, neigh.predict(X_train)))\n",
    "        train_r2_error.append(neigh.score(X_train, y_train))\n",
    "        test_rmse_error.append(rmse(y_test, neigh.predict(X_test)))\n",
    "        test_r2_error.append(neigh.score(X_test, y_test))\n",
    "    \n",
    "    return pd.DataFrame({'train_rmse_err': train_rmse_error, \"test_rmse_err\": test_rmse_error, \n",
    "                         'train_r2_err': train_r2_error, \"test_r2_err\": test_r2_error}, index=(range(1, 101)))"
   ]
  },
  {
   "cell_type": "code",
   "execution_count": 275,
   "metadata": {},
   "outputs": [
    {
     "data": {
      "text/html": [
       "<div>\n",
       "<style scoped>\n",
       "    .dataframe tbody tr th:only-of-type {\n",
       "        vertical-align: middle;\n",
       "    }\n",
       "\n",
       "    .dataframe tbody tr th {\n",
       "        vertical-align: top;\n",
       "    }\n",
       "\n",
       "    .dataframe thead th {\n",
       "        text-align: right;\n",
       "    }\n",
       "</style>\n",
       "<table border=\"1\" class=\"dataframe\">\n",
       "  <thead>\n",
       "    <tr style=\"text-align: right;\">\n",
       "      <th></th>\n",
       "      <th>train_rmse_err</th>\n",
       "      <th>test_rmse_err</th>\n",
       "      <th>train_r2_err</th>\n",
       "      <th>test_r2_err</th>\n",
       "    </tr>\n",
       "  </thead>\n",
       "  <tbody>\n",
       "    <tr>\n",
       "      <th>1</th>\n",
       "      <td>1702.724622</td>\n",
       "      <td>1666.484082</td>\n",
       "      <td>-0.093349</td>\n",
       "      <td>0.053290</td>\n",
       "    </tr>\n",
       "    <tr>\n",
       "      <th>2</th>\n",
       "      <td>1359.957759</td>\n",
       "      <td>1398.981824</td>\n",
       "      <td>0.302538</td>\n",
       "      <td>0.332826</td>\n",
       "    </tr>\n",
       "    <tr>\n",
       "      <th>3</th>\n",
       "      <td>1330.505409</td>\n",
       "      <td>1383.420338</td>\n",
       "      <td>0.332420</td>\n",
       "      <td>0.347586</td>\n",
       "    </tr>\n",
       "    <tr>\n",
       "      <th>4</th>\n",
       "      <td>1312.098308</td>\n",
       "      <td>1383.492993</td>\n",
       "      <td>0.350764</td>\n",
       "      <td>0.347518</td>\n",
       "    </tr>\n",
       "    <tr>\n",
       "      <th>5</th>\n",
       "      <td>1302.786034</td>\n",
       "      <td>1354.160034</td>\n",
       "      <td>0.359947</td>\n",
       "      <td>0.374893</td>\n",
       "    </tr>\n",
       "    <tr>\n",
       "      <th>...</th>\n",
       "      <td>...</td>\n",
       "      <td>...</td>\n",
       "      <td>...</td>\n",
       "      <td>...</td>\n",
       "    </tr>\n",
       "    <tr>\n",
       "      <th>96</th>\n",
       "      <td>1343.156410</td>\n",
       "      <td>1340.398933</td>\n",
       "      <td>0.319664</td>\n",
       "      <td>0.387533</td>\n",
       "    </tr>\n",
       "    <tr>\n",
       "      <th>97</th>\n",
       "      <td>1343.099580</td>\n",
       "      <td>1339.487606</td>\n",
       "      <td>0.319722</td>\n",
       "      <td>0.388365</td>\n",
       "    </tr>\n",
       "    <tr>\n",
       "      <th>98</th>\n",
       "      <td>1344.285945</td>\n",
       "      <td>1340.630712</td>\n",
       "      <td>0.318520</td>\n",
       "      <td>0.387321</td>\n",
       "    </tr>\n",
       "    <tr>\n",
       "      <th>99</th>\n",
       "      <td>1344.776812</td>\n",
       "      <td>1340.550310</td>\n",
       "      <td>0.318022</td>\n",
       "      <td>0.387394</td>\n",
       "    </tr>\n",
       "    <tr>\n",
       "      <th>100</th>\n",
       "      <td>1345.449738</td>\n",
       "      <td>1342.466839</td>\n",
       "      <td>0.317339</td>\n",
       "      <td>0.385642</td>\n",
       "    </tr>\n",
       "  </tbody>\n",
       "</table>\n",
       "<p>100 rows × 4 columns</p>\n",
       "</div>"
      ],
      "text/plain": [
       "     train_rmse_err  test_rmse_err  train_r2_err  test_r2_err\n",
       "1       1702.724622    1666.484082     -0.093349     0.053290\n",
       "2       1359.957759    1398.981824      0.302538     0.332826\n",
       "3       1330.505409    1383.420338      0.332420     0.347586\n",
       "4       1312.098308    1383.492993      0.350764     0.347518\n",
       "5       1302.786034    1354.160034      0.359947     0.374893\n",
       "..              ...            ...           ...          ...\n",
       "96      1343.156410    1340.398933      0.319664     0.387533\n",
       "97      1343.099580    1339.487606      0.319722     0.388365\n",
       "98      1344.285945    1340.630712      0.318520     0.387321\n",
       "99      1344.776812    1340.550310      0.318022     0.387394\n",
       "100     1345.449738    1342.466839      0.317339     0.385642\n",
       "\n",
       "[100 rows x 4 columns]"
      ]
     },
     "execution_count": 275,
     "metadata": {},
     "output_type": "execute_result"
    }
   ],
   "source": [
    "knn_baseline = knn_reg_perf(outages, X_train, X_test, y_train, y_test)\n",
    "knn_baseline"
   ]
  },
  {
   "cell_type": "markdown",
   "metadata": {},
   "source": [
    "The output of our knn_reg_perf function is a dataframe of training and testing rmse and r-squared values from 1 to 200. The index of the dataframe denotes the number of neighbors used in the regressor. We plot this below to get a better view of our error data."
   ]
  },
  {
   "cell_type": "code",
   "execution_count": 276,
   "metadata": {},
   "outputs": [
    {
     "data": {
      "application/vnd.plotly.v1+json": {
       "config": {
        "plotlyServerURL": "https://plot.ly"
       },
       "data": [
        {
         "hovertemplate": "variable=Train<br>Number of Neighbors=%{x}<br>RMSE=%{y}<extra></extra>",
         "legendgroup": "Train",
         "line": {
          "color": "#636efa",
          "dash": "solid",
          "shape": "linear"
         },
         "marker": {
          "symbol": "circle"
         },
         "mode": "lines",
         "name": "Train",
         "orientation": "v",
         "showlegend": true,
         "type": "scatter",
         "x": [
          1,
          2,
          3,
          4,
          5,
          6,
          7,
          8,
          9,
          10,
          11,
          12,
          13,
          14,
          15,
          16,
          17,
          18,
          19,
          20,
          21,
          22,
          23,
          24,
          25,
          26,
          27,
          28,
          29,
          30,
          31,
          32,
          33,
          34,
          35,
          36,
          37,
          38,
          39,
          40,
          41,
          42,
          43,
          44,
          45,
          46,
          47,
          48,
          49,
          50,
          51,
          52,
          53,
          54,
          55,
          56,
          57,
          58,
          59,
          60,
          61,
          62,
          63,
          64,
          65,
          66,
          67,
          68,
          69,
          70,
          71,
          72,
          73,
          74,
          75,
          76,
          77,
          78,
          79,
          80,
          81,
          82,
          83,
          84,
          85,
          86,
          87,
          88,
          89,
          90,
          91,
          92,
          93,
          94,
          95,
          96,
          97,
          98,
          99,
          100
         ],
         "xaxis": "x",
         "y": [
          1702.724621901078,
          1359.9577593723252,
          1330.50540940067,
          1312.0983079249909,
          1302.7860338340488,
          1275.5928708526312,
          1275.342105732126,
          1266.386928069185,
          1257.7770874597884,
          1260.4247327953597,
          1262.8964700019055,
          1263.2203081189073,
          1274.3466046829058,
          1274.7810251911542,
          1274.0215392637933,
          1278.278967333891,
          1280.2282570524155,
          1282.5884665428662,
          1280.5276078207635,
          1286.7398868281266,
          1286.7717418496713,
          1289.6691811457058,
          1290.606802990398,
          1287.421638689583,
          1284.931353192273,
          1287.2592540938776,
          1289.098057466266,
          1290.3086241957947,
          1292.212115139718,
          1293.4834082898499,
          1292.0421016750827,
          1295.297116064416,
          1294.450799078751,
          1293.5922118341214,
          1294.5352121379242,
          1294.9246638714512,
          1292.43907965724,
          1292.8776210884023,
          1293.154699116968,
          1295.135387038736,
          1293.701046068969,
          1295.1466708225998,
          1296.5326932924754,
          1297.3611382427948,
          1298.3215066329885,
          1298.5470383620868,
          1301.5507796917343,
          1304.7876539833906,
          1308.1940933754734,
          1309.3079673635573,
          1310.8865469890525,
          1312.4084667016402,
          1312.195831826108,
          1309.9871824842983,
          1313.403310161776,
          1314.3809969598276,
          1315.6577466885062,
          1316.2088503527143,
          1318.0731790349757,
          1320.2516660298782,
          1321.3595492371871,
          1322.220946174931,
          1323.1954006371602,
          1322.8889052624882,
          1323.1820824507147,
          1322.7240298468294,
          1323.9243543685893,
          1325.7053575166622,
          1325.0180377849879,
          1325.7567572337555,
          1324.5546045282904,
          1326.1020670364926,
          1325.1899084634597,
          1325.4592090843403,
          1325.672279581444,
          1326.481176057525,
          1325.9382808622147,
          1324.1587271624526,
          1325.8064908379,
          1325.6696579698553,
          1326.320880474389,
          1327.4727344090907,
          1328.4751100914664,
          1329.7438884240405,
          1331.6722639213665,
          1332.9989450911198,
          1334.0625141792384,
          1335.9107550462495,
          1337.2987277696882,
          1338.4224194101826,
          1338.8653709603925,
          1339.955058379901,
          1340.7850831987073,
          1341.6726394549569,
          1342.2669555642574,
          1343.1564104792262,
          1343.0995804735792,
          1344.2859452343787,
          1344.7768124140762,
          1345.4497379055601
         ],
         "yaxis": "y"
        },
        {
         "hovertemplate": "variable=Test<br>Number of Neighbors=%{x}<br>RMSE=%{y}<extra></extra>",
         "legendgroup": "Test",
         "line": {
          "color": "#EF553B",
          "dash": "solid",
          "shape": "linear"
         },
         "marker": {
          "symbol": "circle"
         },
         "mode": "lines",
         "name": "Test",
         "orientation": "v",
         "showlegend": true,
         "type": "scatter",
         "x": [
          1,
          2,
          3,
          4,
          5,
          6,
          7,
          8,
          9,
          10,
          11,
          12,
          13,
          14,
          15,
          16,
          17,
          18,
          19,
          20,
          21,
          22,
          23,
          24,
          25,
          26,
          27,
          28,
          29,
          30,
          31,
          32,
          33,
          34,
          35,
          36,
          37,
          38,
          39,
          40,
          41,
          42,
          43,
          44,
          45,
          46,
          47,
          48,
          49,
          50,
          51,
          52,
          53,
          54,
          55,
          56,
          57,
          58,
          59,
          60,
          61,
          62,
          63,
          64,
          65,
          66,
          67,
          68,
          69,
          70,
          71,
          72,
          73,
          74,
          75,
          76,
          77,
          78,
          79,
          80,
          81,
          82,
          83,
          84,
          85,
          86,
          87,
          88,
          89,
          90,
          91,
          92,
          93,
          94,
          95,
          96,
          97,
          98,
          99,
          100
         ],
         "xaxis": "x",
         "y": [
          1666.484081759125,
          1398.9818244462958,
          1383.4203381029283,
          1383.4929932455568,
          1354.160034136451,
          1314.6098033565506,
          1293.2273262849521,
          1297.9470545720956,
          1286.2172989511316,
          1293.9260685743716,
          1302.5777871480407,
          1298.1417599084255,
          1293.3238499785173,
          1283.764803610486,
          1283.1636573013825,
          1280.6673757298947,
          1285.1667616908312,
          1280.9312169164218,
          1281.1639136129888,
          1286.0756555534033,
          1291.6129103457465,
          1285.7245414205154,
          1286.0789290001896,
          1286.2864221062557,
          1287.4464794891724,
          1289.0130313028146,
          1288.4041821833873,
          1291.6799370461113,
          1292.5278828482785,
          1294.5687120137131,
          1294.522962611783,
          1297.9853618016534,
          1296.8994254104969,
          1295.6928358113598,
          1299.1004681339673,
          1301.3401368015645,
          1299.765558739824,
          1299.8615303318122,
          1299.6272627376045,
          1298.7473320779482,
          1295.642266999459,
          1296.0033085287353,
          1293.0202053286084,
          1296.0728981592185,
          1293.4750730785795,
          1290.213071867872,
          1291.430821921265,
          1292.5512974356623,
          1296.3722384436235,
          1293.1620385445067,
          1297.2187764905361,
          1296.7010013277124,
          1294.9324002166995,
          1295.4109223200512,
          1298.3354135666461,
          1300.8753104894272,
          1303.3680354301273,
          1305.5489831305977,
          1307.711635896961,
          1311.7343209435198,
          1313.7509665505547,
          1316.6246744648683,
          1318.501544272628,
          1319.3795409741113,
          1320.7171064305949,
          1320.012209783493,
          1320.7528312517102,
          1324.356443596785,
          1324.57058738288,
          1325.9986563567052,
          1323.4259679166403,
          1326.3171943010332,
          1325.1358554925603,
          1324.2142065243982,
          1322.7616640208644,
          1323.050451933004,
          1322.8708863769493,
          1320.339919373105,
          1322.1279724190892,
          1321.22553196741,
          1321.1371137668777,
          1322.7015704912365,
          1323.692308984173,
          1323.087604454627,
          1324.8731239495032,
          1327.5847005538615,
          1328.9272931864446,
          1330.3224258130242,
          1332.5639596227413,
          1334.2525517695813,
          1335.6261677927353,
          1339.2834097237987,
          1339.5394916832752,
          1340.1104710319185,
          1338.4441268489168,
          1340.398933064781,
          1339.4876055857399,
          1340.6307117798622,
          1340.5503097182225,
          1342.4668394766338
         ],
         "yaxis": "y"
        }
       ],
       "layout": {
        "legend": {
         "title": {
          "text": "variable"
         },
         "tracegroupgap": 0
        },
        "template": {
         "data": {
          "bar": [
           {
            "error_x": {
             "color": "#2a3f5f"
            },
            "error_y": {
             "color": "#2a3f5f"
            },
            "marker": {
             "line": {
              "color": "#E5ECF6",
              "width": 0.5
             },
             "pattern": {
              "fillmode": "overlay",
              "size": 10,
              "solidity": 0.2
             }
            },
            "type": "bar"
           }
          ],
          "barpolar": [
           {
            "marker": {
             "line": {
              "color": "#E5ECF6",
              "width": 0.5
             },
             "pattern": {
              "fillmode": "overlay",
              "size": 10,
              "solidity": 0.2
             }
            },
            "type": "barpolar"
           }
          ],
          "carpet": [
           {
            "aaxis": {
             "endlinecolor": "#2a3f5f",
             "gridcolor": "white",
             "linecolor": "white",
             "minorgridcolor": "white",
             "startlinecolor": "#2a3f5f"
            },
            "baxis": {
             "endlinecolor": "#2a3f5f",
             "gridcolor": "white",
             "linecolor": "white",
             "minorgridcolor": "white",
             "startlinecolor": "#2a3f5f"
            },
            "type": "carpet"
           }
          ],
          "choropleth": [
           {
            "colorbar": {
             "outlinewidth": 0,
             "ticks": ""
            },
            "type": "choropleth"
           }
          ],
          "contour": [
           {
            "colorbar": {
             "outlinewidth": 0,
             "ticks": ""
            },
            "colorscale": [
             [
              0,
              "#0d0887"
             ],
             [
              0.1111111111111111,
              "#46039f"
             ],
             [
              0.2222222222222222,
              "#7201a8"
             ],
             [
              0.3333333333333333,
              "#9c179e"
             ],
             [
              0.4444444444444444,
              "#bd3786"
             ],
             [
              0.5555555555555556,
              "#d8576b"
             ],
             [
              0.6666666666666666,
              "#ed7953"
             ],
             [
              0.7777777777777778,
              "#fb9f3a"
             ],
             [
              0.8888888888888888,
              "#fdca26"
             ],
             [
              1,
              "#f0f921"
             ]
            ],
            "type": "contour"
           }
          ],
          "contourcarpet": [
           {
            "colorbar": {
             "outlinewidth": 0,
             "ticks": ""
            },
            "type": "contourcarpet"
           }
          ],
          "heatmap": [
           {
            "colorbar": {
             "outlinewidth": 0,
             "ticks": ""
            },
            "colorscale": [
             [
              0,
              "#0d0887"
             ],
             [
              0.1111111111111111,
              "#46039f"
             ],
             [
              0.2222222222222222,
              "#7201a8"
             ],
             [
              0.3333333333333333,
              "#9c179e"
             ],
             [
              0.4444444444444444,
              "#bd3786"
             ],
             [
              0.5555555555555556,
              "#d8576b"
             ],
             [
              0.6666666666666666,
              "#ed7953"
             ],
             [
              0.7777777777777778,
              "#fb9f3a"
             ],
             [
              0.8888888888888888,
              "#fdca26"
             ],
             [
              1,
              "#f0f921"
             ]
            ],
            "type": "heatmap"
           }
          ],
          "heatmapgl": [
           {
            "colorbar": {
             "outlinewidth": 0,
             "ticks": ""
            },
            "colorscale": [
             [
              0,
              "#0d0887"
             ],
             [
              0.1111111111111111,
              "#46039f"
             ],
             [
              0.2222222222222222,
              "#7201a8"
             ],
             [
              0.3333333333333333,
              "#9c179e"
             ],
             [
              0.4444444444444444,
              "#bd3786"
             ],
             [
              0.5555555555555556,
              "#d8576b"
             ],
             [
              0.6666666666666666,
              "#ed7953"
             ],
             [
              0.7777777777777778,
              "#fb9f3a"
             ],
             [
              0.8888888888888888,
              "#fdca26"
             ],
             [
              1,
              "#f0f921"
             ]
            ],
            "type": "heatmapgl"
           }
          ],
          "histogram": [
           {
            "marker": {
             "pattern": {
              "fillmode": "overlay",
              "size": 10,
              "solidity": 0.2
             }
            },
            "type": "histogram"
           }
          ],
          "histogram2d": [
           {
            "colorbar": {
             "outlinewidth": 0,
             "ticks": ""
            },
            "colorscale": [
             [
              0,
              "#0d0887"
             ],
             [
              0.1111111111111111,
              "#46039f"
             ],
             [
              0.2222222222222222,
              "#7201a8"
             ],
             [
              0.3333333333333333,
              "#9c179e"
             ],
             [
              0.4444444444444444,
              "#bd3786"
             ],
             [
              0.5555555555555556,
              "#d8576b"
             ],
             [
              0.6666666666666666,
              "#ed7953"
             ],
             [
              0.7777777777777778,
              "#fb9f3a"
             ],
             [
              0.8888888888888888,
              "#fdca26"
             ],
             [
              1,
              "#f0f921"
             ]
            ],
            "type": "histogram2d"
           }
          ],
          "histogram2dcontour": [
           {
            "colorbar": {
             "outlinewidth": 0,
             "ticks": ""
            },
            "colorscale": [
             [
              0,
              "#0d0887"
             ],
             [
              0.1111111111111111,
              "#46039f"
             ],
             [
              0.2222222222222222,
              "#7201a8"
             ],
             [
              0.3333333333333333,
              "#9c179e"
             ],
             [
              0.4444444444444444,
              "#bd3786"
             ],
             [
              0.5555555555555556,
              "#d8576b"
             ],
             [
              0.6666666666666666,
              "#ed7953"
             ],
             [
              0.7777777777777778,
              "#fb9f3a"
             ],
             [
              0.8888888888888888,
              "#fdca26"
             ],
             [
              1,
              "#f0f921"
             ]
            ],
            "type": "histogram2dcontour"
           }
          ],
          "mesh3d": [
           {
            "colorbar": {
             "outlinewidth": 0,
             "ticks": ""
            },
            "type": "mesh3d"
           }
          ],
          "parcoords": [
           {
            "line": {
             "colorbar": {
              "outlinewidth": 0,
              "ticks": ""
             }
            },
            "type": "parcoords"
           }
          ],
          "pie": [
           {
            "automargin": true,
            "type": "pie"
           }
          ],
          "scatter": [
           {
            "fillpattern": {
             "fillmode": "overlay",
             "size": 10,
             "solidity": 0.2
            },
            "type": "scatter"
           }
          ],
          "scatter3d": [
           {
            "line": {
             "colorbar": {
              "outlinewidth": 0,
              "ticks": ""
             }
            },
            "marker": {
             "colorbar": {
              "outlinewidth": 0,
              "ticks": ""
             }
            },
            "type": "scatter3d"
           }
          ],
          "scattercarpet": [
           {
            "marker": {
             "colorbar": {
              "outlinewidth": 0,
              "ticks": ""
             }
            },
            "type": "scattercarpet"
           }
          ],
          "scattergeo": [
           {
            "marker": {
             "colorbar": {
              "outlinewidth": 0,
              "ticks": ""
             }
            },
            "type": "scattergeo"
           }
          ],
          "scattergl": [
           {
            "marker": {
             "colorbar": {
              "outlinewidth": 0,
              "ticks": ""
             }
            },
            "type": "scattergl"
           }
          ],
          "scattermapbox": [
           {
            "marker": {
             "colorbar": {
              "outlinewidth": 0,
              "ticks": ""
             }
            },
            "type": "scattermapbox"
           }
          ],
          "scatterpolar": [
           {
            "marker": {
             "colorbar": {
              "outlinewidth": 0,
              "ticks": ""
             }
            },
            "type": "scatterpolar"
           }
          ],
          "scatterpolargl": [
           {
            "marker": {
             "colorbar": {
              "outlinewidth": 0,
              "ticks": ""
             }
            },
            "type": "scatterpolargl"
           }
          ],
          "scatterternary": [
           {
            "marker": {
             "colorbar": {
              "outlinewidth": 0,
              "ticks": ""
             }
            },
            "type": "scatterternary"
           }
          ],
          "surface": [
           {
            "colorbar": {
             "outlinewidth": 0,
             "ticks": ""
            },
            "colorscale": [
             [
              0,
              "#0d0887"
             ],
             [
              0.1111111111111111,
              "#46039f"
             ],
             [
              0.2222222222222222,
              "#7201a8"
             ],
             [
              0.3333333333333333,
              "#9c179e"
             ],
             [
              0.4444444444444444,
              "#bd3786"
             ],
             [
              0.5555555555555556,
              "#d8576b"
             ],
             [
              0.6666666666666666,
              "#ed7953"
             ],
             [
              0.7777777777777778,
              "#fb9f3a"
             ],
             [
              0.8888888888888888,
              "#fdca26"
             ],
             [
              1,
              "#f0f921"
             ]
            ],
            "type": "surface"
           }
          ],
          "table": [
           {
            "cells": {
             "fill": {
              "color": "#EBF0F8"
             },
             "line": {
              "color": "white"
             }
            },
            "header": {
             "fill": {
              "color": "#C8D4E3"
             },
             "line": {
              "color": "white"
             }
            },
            "type": "table"
           }
          ]
         },
         "layout": {
          "annotationdefaults": {
           "arrowcolor": "#2a3f5f",
           "arrowhead": 0,
           "arrowwidth": 1
          },
          "autotypenumbers": "strict",
          "coloraxis": {
           "colorbar": {
            "outlinewidth": 0,
            "ticks": ""
           }
          },
          "colorscale": {
           "diverging": [
            [
             0,
             "#8e0152"
            ],
            [
             0.1,
             "#c51b7d"
            ],
            [
             0.2,
             "#de77ae"
            ],
            [
             0.3,
             "#f1b6da"
            ],
            [
             0.4,
             "#fde0ef"
            ],
            [
             0.5,
             "#f7f7f7"
            ],
            [
             0.6,
             "#e6f5d0"
            ],
            [
             0.7,
             "#b8e186"
            ],
            [
             0.8,
             "#7fbc41"
            ],
            [
             0.9,
             "#4d9221"
            ],
            [
             1,
             "#276419"
            ]
           ],
           "sequential": [
            [
             0,
             "#0d0887"
            ],
            [
             0.1111111111111111,
             "#46039f"
            ],
            [
             0.2222222222222222,
             "#7201a8"
            ],
            [
             0.3333333333333333,
             "#9c179e"
            ],
            [
             0.4444444444444444,
             "#bd3786"
            ],
            [
             0.5555555555555556,
             "#d8576b"
            ],
            [
             0.6666666666666666,
             "#ed7953"
            ],
            [
             0.7777777777777778,
             "#fb9f3a"
            ],
            [
             0.8888888888888888,
             "#fdca26"
            ],
            [
             1,
             "#f0f921"
            ]
           ],
           "sequentialminus": [
            [
             0,
             "#0d0887"
            ],
            [
             0.1111111111111111,
             "#46039f"
            ],
            [
             0.2222222222222222,
             "#7201a8"
            ],
            [
             0.3333333333333333,
             "#9c179e"
            ],
            [
             0.4444444444444444,
             "#bd3786"
            ],
            [
             0.5555555555555556,
             "#d8576b"
            ],
            [
             0.6666666666666666,
             "#ed7953"
            ],
            [
             0.7777777777777778,
             "#fb9f3a"
            ],
            [
             0.8888888888888888,
             "#fdca26"
            ],
            [
             1,
             "#f0f921"
            ]
           ]
          },
          "colorway": [
           "#636efa",
           "#EF553B",
           "#00cc96",
           "#ab63fa",
           "#FFA15A",
           "#19d3f3",
           "#FF6692",
           "#B6E880",
           "#FF97FF",
           "#FECB52"
          ],
          "font": {
           "color": "#2a3f5f"
          },
          "geo": {
           "bgcolor": "white",
           "lakecolor": "white",
           "landcolor": "#E5ECF6",
           "showlakes": true,
           "showland": true,
           "subunitcolor": "white"
          },
          "hoverlabel": {
           "align": "left"
          },
          "hovermode": "closest",
          "mapbox": {
           "style": "light"
          },
          "paper_bgcolor": "white",
          "plot_bgcolor": "#E5ECF6",
          "polar": {
           "angularaxis": {
            "gridcolor": "white",
            "linecolor": "white",
            "ticks": ""
           },
           "bgcolor": "#E5ECF6",
           "radialaxis": {
            "gridcolor": "white",
            "linecolor": "white",
            "ticks": ""
           }
          },
          "scene": {
           "xaxis": {
            "backgroundcolor": "#E5ECF6",
            "gridcolor": "white",
            "gridwidth": 2,
            "linecolor": "white",
            "showbackground": true,
            "ticks": "",
            "zerolinecolor": "white"
           },
           "yaxis": {
            "backgroundcolor": "#E5ECF6",
            "gridcolor": "white",
            "gridwidth": 2,
            "linecolor": "white",
            "showbackground": true,
            "ticks": "",
            "zerolinecolor": "white"
           },
           "zaxis": {
            "backgroundcolor": "#E5ECF6",
            "gridcolor": "white",
            "gridwidth": 2,
            "linecolor": "white",
            "showbackground": true,
            "ticks": "",
            "zerolinecolor": "white"
           }
          },
          "shapedefaults": {
           "line": {
            "color": "#2a3f5f"
           }
          },
          "ternary": {
           "aaxis": {
            "gridcolor": "white",
            "linecolor": "white",
            "ticks": ""
           },
           "baxis": {
            "gridcolor": "white",
            "linecolor": "white",
            "ticks": ""
           },
           "bgcolor": "#E5ECF6",
           "caxis": {
            "gridcolor": "white",
            "linecolor": "white",
            "ticks": ""
           }
          },
          "title": {
           "x": 0.05
          },
          "xaxis": {
           "automargin": true,
           "gridcolor": "white",
           "linecolor": "white",
           "ticks": "",
           "title": {
            "standoff": 15
           },
           "zerolinecolor": "white",
           "zerolinewidth": 2
          },
          "yaxis": {
           "automargin": true,
           "gridcolor": "white",
           "linecolor": "white",
           "ticks": "",
           "title": {
            "standoff": 15
           },
           "zerolinecolor": "white",
           "zerolinewidth": 2
          }
         }
        },
        "title": {
         "text": "Average RMSE"
        },
        "xaxis": {
         "anchor": "y",
         "domain": [
          0,
          1
         ],
         "title": {
          "text": "Number of Neighbors"
         }
        },
        "yaxis": {
         "anchor": "x",
         "domain": [
          0,
          1
         ],
         "title": {
          "text": "RMSE"
         }
        }
       }
      },
      "text/html": [
       "<div>                            <div id=\"f69534f0-09bf-41f0-a170-57bc149ee802\" class=\"plotly-graph-div\" style=\"height:525px; width:100%;\"></div>            <script type=\"text/javascript\">                require([\"plotly\"], function(Plotly) {                    window.PLOTLYENV=window.PLOTLYENV || {};                                    if (document.getElementById(\"f69534f0-09bf-41f0-a170-57bc149ee802\")) {                    Plotly.newPlot(                        \"f69534f0-09bf-41f0-a170-57bc149ee802\",                        [{\"hovertemplate\":\"variable=Train\\u003cbr\\u003eNumber of Neighbors=%{x}\\u003cbr\\u003eRMSE=%{y}\\u003cextra\\u003e\\u003c\\u002fextra\\u003e\",\"legendgroup\":\"Train\",\"line\":{\"color\":\"#636efa\",\"dash\":\"solid\",\"shape\":\"linear\"},\"marker\":{\"symbol\":\"circle\"},\"mode\":\"lines\",\"name\":\"Train\",\"orientation\":\"v\",\"showlegend\":true,\"x\":[1,2,3,4,5,6,7,8,9,10,11,12,13,14,15,16,17,18,19,20,21,22,23,24,25,26,27,28,29,30,31,32,33,34,35,36,37,38,39,40,41,42,43,44,45,46,47,48,49,50,51,52,53,54,55,56,57,58,59,60,61,62,63,64,65,66,67,68,69,70,71,72,73,74,75,76,77,78,79,80,81,82,83,84,85,86,87,88,89,90,91,92,93,94,95,96,97,98,99,100],\"xaxis\":\"x\",\"y\":[1702.724621901078,1359.9577593723252,1330.50540940067,1312.0983079249909,1302.7860338340488,1275.5928708526312,1275.342105732126,1266.386928069185,1257.7770874597884,1260.4247327953597,1262.8964700019055,1263.2203081189073,1274.3466046829058,1274.7810251911542,1274.0215392637933,1278.278967333891,1280.2282570524155,1282.5884665428662,1280.5276078207635,1286.7398868281266,1286.7717418496713,1289.6691811457058,1290.606802990398,1287.421638689583,1284.931353192273,1287.2592540938776,1289.098057466266,1290.3086241957947,1292.212115139718,1293.4834082898499,1292.0421016750827,1295.297116064416,1294.450799078751,1293.5922118341214,1294.5352121379242,1294.9246638714512,1292.43907965724,1292.8776210884023,1293.154699116968,1295.135387038736,1293.701046068969,1295.1466708225998,1296.5326932924754,1297.3611382427948,1298.3215066329885,1298.5470383620868,1301.5507796917343,1304.7876539833906,1308.1940933754734,1309.3079673635573,1310.8865469890525,1312.4084667016402,1312.195831826108,1309.9871824842983,1313.403310161776,1314.3809969598276,1315.6577466885062,1316.2088503527143,1318.0731790349757,1320.2516660298782,1321.3595492371871,1322.220946174931,1323.1954006371602,1322.8889052624882,1323.1820824507147,1322.7240298468294,1323.9243543685893,1325.7053575166622,1325.0180377849879,1325.7567572337555,1324.5546045282904,1326.1020670364926,1325.1899084634597,1325.4592090843403,1325.672279581444,1326.481176057525,1325.9382808622147,1324.1587271624526,1325.8064908379,1325.6696579698553,1326.320880474389,1327.4727344090907,1328.4751100914664,1329.7438884240405,1331.6722639213665,1332.9989450911198,1334.0625141792384,1335.9107550462495,1337.2987277696882,1338.4224194101826,1338.8653709603925,1339.955058379901,1340.7850831987073,1341.6726394549569,1342.2669555642574,1343.1564104792262,1343.0995804735792,1344.2859452343787,1344.7768124140762,1345.4497379055601],\"yaxis\":\"y\",\"type\":\"scatter\"},{\"hovertemplate\":\"variable=Test\\u003cbr\\u003eNumber of Neighbors=%{x}\\u003cbr\\u003eRMSE=%{y}\\u003cextra\\u003e\\u003c\\u002fextra\\u003e\",\"legendgroup\":\"Test\",\"line\":{\"color\":\"#EF553B\",\"dash\":\"solid\",\"shape\":\"linear\"},\"marker\":{\"symbol\":\"circle\"},\"mode\":\"lines\",\"name\":\"Test\",\"orientation\":\"v\",\"showlegend\":true,\"x\":[1,2,3,4,5,6,7,8,9,10,11,12,13,14,15,16,17,18,19,20,21,22,23,24,25,26,27,28,29,30,31,32,33,34,35,36,37,38,39,40,41,42,43,44,45,46,47,48,49,50,51,52,53,54,55,56,57,58,59,60,61,62,63,64,65,66,67,68,69,70,71,72,73,74,75,76,77,78,79,80,81,82,83,84,85,86,87,88,89,90,91,92,93,94,95,96,97,98,99,100],\"xaxis\":\"x\",\"y\":[1666.484081759125,1398.9818244462958,1383.4203381029283,1383.4929932455568,1354.160034136451,1314.6098033565506,1293.2273262849521,1297.9470545720956,1286.2172989511316,1293.9260685743716,1302.5777871480407,1298.1417599084255,1293.3238499785173,1283.764803610486,1283.1636573013825,1280.6673757298947,1285.1667616908312,1280.9312169164218,1281.1639136129888,1286.0756555534033,1291.6129103457465,1285.7245414205154,1286.0789290001896,1286.2864221062557,1287.4464794891724,1289.0130313028146,1288.4041821833873,1291.6799370461113,1292.5278828482785,1294.5687120137131,1294.522962611783,1297.9853618016534,1296.8994254104969,1295.6928358113598,1299.1004681339673,1301.3401368015645,1299.765558739824,1299.8615303318122,1299.6272627376045,1298.7473320779482,1295.642266999459,1296.0033085287353,1293.0202053286084,1296.0728981592185,1293.4750730785795,1290.213071867872,1291.430821921265,1292.5512974356623,1296.3722384436235,1293.1620385445067,1297.2187764905361,1296.7010013277124,1294.9324002166995,1295.4109223200512,1298.3354135666461,1300.8753104894272,1303.3680354301273,1305.5489831305977,1307.711635896961,1311.7343209435198,1313.7509665505547,1316.6246744648683,1318.501544272628,1319.3795409741113,1320.7171064305949,1320.012209783493,1320.7528312517102,1324.356443596785,1324.57058738288,1325.9986563567052,1323.4259679166403,1326.3171943010332,1325.1358554925603,1324.2142065243982,1322.7616640208644,1323.050451933004,1322.8708863769493,1320.339919373105,1322.1279724190892,1321.22553196741,1321.1371137668777,1322.7015704912365,1323.692308984173,1323.087604454627,1324.8731239495032,1327.5847005538615,1328.9272931864446,1330.3224258130242,1332.5639596227413,1334.2525517695813,1335.6261677927353,1339.2834097237987,1339.5394916832752,1340.1104710319185,1338.4441268489168,1340.398933064781,1339.4876055857399,1340.6307117798622,1340.5503097182225,1342.4668394766338],\"yaxis\":\"y\",\"type\":\"scatter\"}],                        {\"template\":{\"data\":{\"histogram2dcontour\":[{\"type\":\"histogram2dcontour\",\"colorbar\":{\"outlinewidth\":0,\"ticks\":\"\"},\"colorscale\":[[0.0,\"#0d0887\"],[0.1111111111111111,\"#46039f\"],[0.2222222222222222,\"#7201a8\"],[0.3333333333333333,\"#9c179e\"],[0.4444444444444444,\"#bd3786\"],[0.5555555555555556,\"#d8576b\"],[0.6666666666666666,\"#ed7953\"],[0.7777777777777778,\"#fb9f3a\"],[0.8888888888888888,\"#fdca26\"],[1.0,\"#f0f921\"]]}],\"choropleth\":[{\"type\":\"choropleth\",\"colorbar\":{\"outlinewidth\":0,\"ticks\":\"\"}}],\"histogram2d\":[{\"type\":\"histogram2d\",\"colorbar\":{\"outlinewidth\":0,\"ticks\":\"\"},\"colorscale\":[[0.0,\"#0d0887\"],[0.1111111111111111,\"#46039f\"],[0.2222222222222222,\"#7201a8\"],[0.3333333333333333,\"#9c179e\"],[0.4444444444444444,\"#bd3786\"],[0.5555555555555556,\"#d8576b\"],[0.6666666666666666,\"#ed7953\"],[0.7777777777777778,\"#fb9f3a\"],[0.8888888888888888,\"#fdca26\"],[1.0,\"#f0f921\"]]}],\"heatmap\":[{\"type\":\"heatmap\",\"colorbar\":{\"outlinewidth\":0,\"ticks\":\"\"},\"colorscale\":[[0.0,\"#0d0887\"],[0.1111111111111111,\"#46039f\"],[0.2222222222222222,\"#7201a8\"],[0.3333333333333333,\"#9c179e\"],[0.4444444444444444,\"#bd3786\"],[0.5555555555555556,\"#d8576b\"],[0.6666666666666666,\"#ed7953\"],[0.7777777777777778,\"#fb9f3a\"],[0.8888888888888888,\"#fdca26\"],[1.0,\"#f0f921\"]]}],\"heatmapgl\":[{\"type\":\"heatmapgl\",\"colorbar\":{\"outlinewidth\":0,\"ticks\":\"\"},\"colorscale\":[[0.0,\"#0d0887\"],[0.1111111111111111,\"#46039f\"],[0.2222222222222222,\"#7201a8\"],[0.3333333333333333,\"#9c179e\"],[0.4444444444444444,\"#bd3786\"],[0.5555555555555556,\"#d8576b\"],[0.6666666666666666,\"#ed7953\"],[0.7777777777777778,\"#fb9f3a\"],[0.8888888888888888,\"#fdca26\"],[1.0,\"#f0f921\"]]}],\"contourcarpet\":[{\"type\":\"contourcarpet\",\"colorbar\":{\"outlinewidth\":0,\"ticks\":\"\"}}],\"contour\":[{\"type\":\"contour\",\"colorbar\":{\"outlinewidth\":0,\"ticks\":\"\"},\"colorscale\":[[0.0,\"#0d0887\"],[0.1111111111111111,\"#46039f\"],[0.2222222222222222,\"#7201a8\"],[0.3333333333333333,\"#9c179e\"],[0.4444444444444444,\"#bd3786\"],[0.5555555555555556,\"#d8576b\"],[0.6666666666666666,\"#ed7953\"],[0.7777777777777778,\"#fb9f3a\"],[0.8888888888888888,\"#fdca26\"],[1.0,\"#f0f921\"]]}],\"surface\":[{\"type\":\"surface\",\"colorbar\":{\"outlinewidth\":0,\"ticks\":\"\"},\"colorscale\":[[0.0,\"#0d0887\"],[0.1111111111111111,\"#46039f\"],[0.2222222222222222,\"#7201a8\"],[0.3333333333333333,\"#9c179e\"],[0.4444444444444444,\"#bd3786\"],[0.5555555555555556,\"#d8576b\"],[0.6666666666666666,\"#ed7953\"],[0.7777777777777778,\"#fb9f3a\"],[0.8888888888888888,\"#fdca26\"],[1.0,\"#f0f921\"]]}],\"mesh3d\":[{\"type\":\"mesh3d\",\"colorbar\":{\"outlinewidth\":0,\"ticks\":\"\"}}],\"scatter\":[{\"fillpattern\":{\"fillmode\":\"overlay\",\"size\":10,\"solidity\":0.2},\"type\":\"scatter\"}],\"parcoords\":[{\"type\":\"parcoords\",\"line\":{\"colorbar\":{\"outlinewidth\":0,\"ticks\":\"\"}}}],\"scatterpolargl\":[{\"type\":\"scatterpolargl\",\"marker\":{\"colorbar\":{\"outlinewidth\":0,\"ticks\":\"\"}}}],\"bar\":[{\"error_x\":{\"color\":\"#2a3f5f\"},\"error_y\":{\"color\":\"#2a3f5f\"},\"marker\":{\"line\":{\"color\":\"#E5ECF6\",\"width\":0.5},\"pattern\":{\"fillmode\":\"overlay\",\"size\":10,\"solidity\":0.2}},\"type\":\"bar\"}],\"scattergeo\":[{\"type\":\"scattergeo\",\"marker\":{\"colorbar\":{\"outlinewidth\":0,\"ticks\":\"\"}}}],\"scatterpolar\":[{\"type\":\"scatterpolar\",\"marker\":{\"colorbar\":{\"outlinewidth\":0,\"ticks\":\"\"}}}],\"histogram\":[{\"marker\":{\"pattern\":{\"fillmode\":\"overlay\",\"size\":10,\"solidity\":0.2}},\"type\":\"histogram\"}],\"scattergl\":[{\"type\":\"scattergl\",\"marker\":{\"colorbar\":{\"outlinewidth\":0,\"ticks\":\"\"}}}],\"scatter3d\":[{\"type\":\"scatter3d\",\"line\":{\"colorbar\":{\"outlinewidth\":0,\"ticks\":\"\"}},\"marker\":{\"colorbar\":{\"outlinewidth\":0,\"ticks\":\"\"}}}],\"scattermapbox\":[{\"type\":\"scattermapbox\",\"marker\":{\"colorbar\":{\"outlinewidth\":0,\"ticks\":\"\"}}}],\"scatterternary\":[{\"type\":\"scatterternary\",\"marker\":{\"colorbar\":{\"outlinewidth\":0,\"ticks\":\"\"}}}],\"scattercarpet\":[{\"type\":\"scattercarpet\",\"marker\":{\"colorbar\":{\"outlinewidth\":0,\"ticks\":\"\"}}}],\"carpet\":[{\"aaxis\":{\"endlinecolor\":\"#2a3f5f\",\"gridcolor\":\"white\",\"linecolor\":\"white\",\"minorgridcolor\":\"white\",\"startlinecolor\":\"#2a3f5f\"},\"baxis\":{\"endlinecolor\":\"#2a3f5f\",\"gridcolor\":\"white\",\"linecolor\":\"white\",\"minorgridcolor\":\"white\",\"startlinecolor\":\"#2a3f5f\"},\"type\":\"carpet\"}],\"table\":[{\"cells\":{\"fill\":{\"color\":\"#EBF0F8\"},\"line\":{\"color\":\"white\"}},\"header\":{\"fill\":{\"color\":\"#C8D4E3\"},\"line\":{\"color\":\"white\"}},\"type\":\"table\"}],\"barpolar\":[{\"marker\":{\"line\":{\"color\":\"#E5ECF6\",\"width\":0.5},\"pattern\":{\"fillmode\":\"overlay\",\"size\":10,\"solidity\":0.2}},\"type\":\"barpolar\"}],\"pie\":[{\"automargin\":true,\"type\":\"pie\"}]},\"layout\":{\"autotypenumbers\":\"strict\",\"colorway\":[\"#636efa\",\"#EF553B\",\"#00cc96\",\"#ab63fa\",\"#FFA15A\",\"#19d3f3\",\"#FF6692\",\"#B6E880\",\"#FF97FF\",\"#FECB52\"],\"font\":{\"color\":\"#2a3f5f\"},\"hovermode\":\"closest\",\"hoverlabel\":{\"align\":\"left\"},\"paper_bgcolor\":\"white\",\"plot_bgcolor\":\"#E5ECF6\",\"polar\":{\"bgcolor\":\"#E5ECF6\",\"angularaxis\":{\"gridcolor\":\"white\",\"linecolor\":\"white\",\"ticks\":\"\"},\"radialaxis\":{\"gridcolor\":\"white\",\"linecolor\":\"white\",\"ticks\":\"\"}},\"ternary\":{\"bgcolor\":\"#E5ECF6\",\"aaxis\":{\"gridcolor\":\"white\",\"linecolor\":\"white\",\"ticks\":\"\"},\"baxis\":{\"gridcolor\":\"white\",\"linecolor\":\"white\",\"ticks\":\"\"},\"caxis\":{\"gridcolor\":\"white\",\"linecolor\":\"white\",\"ticks\":\"\"}},\"coloraxis\":{\"colorbar\":{\"outlinewidth\":0,\"ticks\":\"\"}},\"colorscale\":{\"sequential\":[[0.0,\"#0d0887\"],[0.1111111111111111,\"#46039f\"],[0.2222222222222222,\"#7201a8\"],[0.3333333333333333,\"#9c179e\"],[0.4444444444444444,\"#bd3786\"],[0.5555555555555556,\"#d8576b\"],[0.6666666666666666,\"#ed7953\"],[0.7777777777777778,\"#fb9f3a\"],[0.8888888888888888,\"#fdca26\"],[1.0,\"#f0f921\"]],\"sequentialminus\":[[0.0,\"#0d0887\"],[0.1111111111111111,\"#46039f\"],[0.2222222222222222,\"#7201a8\"],[0.3333333333333333,\"#9c179e\"],[0.4444444444444444,\"#bd3786\"],[0.5555555555555556,\"#d8576b\"],[0.6666666666666666,\"#ed7953\"],[0.7777777777777778,\"#fb9f3a\"],[0.8888888888888888,\"#fdca26\"],[1.0,\"#f0f921\"]],\"diverging\":[[0,\"#8e0152\"],[0.1,\"#c51b7d\"],[0.2,\"#de77ae\"],[0.3,\"#f1b6da\"],[0.4,\"#fde0ef\"],[0.5,\"#f7f7f7\"],[0.6,\"#e6f5d0\"],[0.7,\"#b8e186\"],[0.8,\"#7fbc41\"],[0.9,\"#4d9221\"],[1,\"#276419\"]]},\"xaxis\":{\"gridcolor\":\"white\",\"linecolor\":\"white\",\"ticks\":\"\",\"title\":{\"standoff\":15},\"zerolinecolor\":\"white\",\"automargin\":true,\"zerolinewidth\":2},\"yaxis\":{\"gridcolor\":\"white\",\"linecolor\":\"white\",\"ticks\":\"\",\"title\":{\"standoff\":15},\"zerolinecolor\":\"white\",\"automargin\":true,\"zerolinewidth\":2},\"scene\":{\"xaxis\":{\"backgroundcolor\":\"#E5ECF6\",\"gridcolor\":\"white\",\"linecolor\":\"white\",\"showbackground\":true,\"ticks\":\"\",\"zerolinecolor\":\"white\",\"gridwidth\":2},\"yaxis\":{\"backgroundcolor\":\"#E5ECF6\",\"gridcolor\":\"white\",\"linecolor\":\"white\",\"showbackground\":true,\"ticks\":\"\",\"zerolinecolor\":\"white\",\"gridwidth\":2},\"zaxis\":{\"backgroundcolor\":\"#E5ECF6\",\"gridcolor\":\"white\",\"linecolor\":\"white\",\"showbackground\":true,\"ticks\":\"\",\"zerolinecolor\":\"white\",\"gridwidth\":2}},\"shapedefaults\":{\"line\":{\"color\":\"#2a3f5f\"}},\"annotationdefaults\":{\"arrowcolor\":\"#2a3f5f\",\"arrowhead\":0,\"arrowwidth\":1},\"geo\":{\"bgcolor\":\"white\",\"landcolor\":\"#E5ECF6\",\"subunitcolor\":\"white\",\"showland\":true,\"showlakes\":true,\"lakecolor\":\"white\"},\"title\":{\"x\":0.05},\"mapbox\":{\"style\":\"light\"}}},\"xaxis\":{\"anchor\":\"y\",\"domain\":[0.0,1.0],\"title\":{\"text\":\"Number of Neighbors\"}},\"yaxis\":{\"anchor\":\"x\",\"domain\":[0.0,1.0],\"title\":{\"text\":\"RMSE\"}},\"legend\":{\"title\":{\"text\":\"variable\"},\"tracegroupgap\":0},\"title\":{\"text\":\"Average RMSE\"}},                        {\"responsive\": true}                    ).then(function(){\n",
       "                            \n",
       "var gd = document.getElementById('f69534f0-09bf-41f0-a170-57bc149ee802');\n",
       "var x = new MutationObserver(function (mutations, observer) {{\n",
       "        var display = window.getComputedStyle(gd).display;\n",
       "        if (!display || display === 'none') {{\n",
       "            console.log([gd, 'removed!']);\n",
       "            Plotly.purge(gd);\n",
       "            observer.disconnect();\n",
       "        }}\n",
       "}});\n",
       "\n",
       "// Listen for the removal of the full notebook cells\n",
       "var notebookContainer = gd.closest('#notebook-container');\n",
       "if (notebookContainer) {{\n",
       "    x.observe(notebookContainer, {childList: true});\n",
       "}}\n",
       "\n",
       "// Listen for the clearing of the current output cell\n",
       "var outputEl = gd.closest('.output');\n",
       "if (outputEl) {{\n",
       "    x.observe(outputEl, {childList: true});\n",
       "}}\n",
       "\n",
       "                        })                };                });            </script>        </div>"
      ]
     },
     "metadata": {},
     "output_type": "display_data"
    }
   ],
   "source": [
    "fig4 = px.line(x=range(1,101), y=[knn_baseline['train_rmse_err'], knn_baseline['test_rmse_err']], \n",
    "               labels={'value': 'RMSE', \"x\": \"Number of Neighbors\"},\n",
    "              title='Average RMSE', line_shape='linear')\n",
    "newnames = {'wide_variable_0':'Train', 'wide_variable_1': 'Test'}\n",
    "fig4.for_each_trace(lambda t: t.update(name = newnames[t.name],\n",
    "                                      legendgroup = newnames[t.name],\n",
    "                                      hovertemplate = t.hovertemplate.replace(t.name, newnames[t.name])\n",
    "                                     )\n",
    "                  )\n",
    "# Show the plot\n",
    "fig4.show()"
   ]
  },
  {
   "cell_type": "markdown",
   "metadata": {},
   "source": [
    "Our rmse for both training and testing appears to be minimized around 20. What does our r-squared look like?"
   ]
  },
  {
   "cell_type": "code",
   "execution_count": 277,
   "metadata": {},
   "outputs": [
    {
     "data": {
      "application/vnd.plotly.v1+json": {
       "config": {
        "plotlyServerURL": "https://plot.ly"
       },
       "data": [
        {
         "hovertemplate": "variable=Train<br>Number of Neighbors=%{x}<br>R-squared=%{y}<extra></extra>",
         "legendgroup": "Train",
         "line": {
          "color": "#636efa",
          "dash": "solid",
          "shape": "linear"
         },
         "marker": {
          "symbol": "circle"
         },
         "mode": "lines",
         "name": "Train",
         "orientation": "v",
         "showlegend": true,
         "type": "scatter",
         "x": [
          1,
          2,
          3,
          4,
          5,
          6,
          7,
          8,
          9,
          10,
          11,
          12,
          13,
          14,
          15,
          16,
          17,
          18,
          19,
          20,
          21,
          22,
          23,
          24,
          25,
          26,
          27,
          28,
          29,
          30,
          31,
          32,
          33,
          34,
          35,
          36,
          37,
          38,
          39,
          40,
          41,
          42,
          43,
          44,
          45,
          46,
          47,
          48,
          49,
          50,
          51,
          52,
          53,
          54,
          55,
          56,
          57,
          58,
          59,
          60,
          61,
          62,
          63,
          64,
          65,
          66,
          67,
          68,
          69,
          70,
          71,
          72,
          73,
          74,
          75,
          76,
          77,
          78,
          79,
          80,
          81,
          82,
          83,
          84,
          85,
          86,
          87,
          88,
          89,
          90,
          91,
          92,
          93,
          94,
          95,
          96,
          97,
          98,
          99,
          100
         ],
         "xaxis": "x",
         "y": [
          -0.09334895584911229,
          0.3025375983720293,
          0.3324201009646959,
          0.35076382087005853,
          0.3599466858137188,
          0.3863875975996679,
          0.3866288304677141,
          0.3952125084857546,
          0.40340814417671933,
          0.40089382559636555,
          0.3985417851036943,
          0.3982332878151392,
          0.3875860219942605,
          0.387168411059268,
          0.3878984161503347,
          0.3838006319065297,
          0.3819198735416577,
          0.37963880642444015,
          0.3816307932291261,
          0.37561639698721405,
          0.375585481649112,
          0.3727703124846683,
          0.37185795752026685,
          0.3749545888699236,
          0.37737032595406506,
          0.3751122549247661,
          0.37332572066681213,
          0.37214817294468816,
          0.37029436561419116,
          0.3690547328315097,
          0.37046005264440585,
          0.3672840837043765,
          0.36811061730183137,
          0.36894858231092953,
          0.3680282017243963,
          0.3676478960638375,
          0.37007314282089987,
          0.36964558550346505,
          0.36937537265249953,
          0.3674420739277865,
          0.3688423929156869,
          0.3674310516391769,
          0.36607641909802313,
          0.3652660445100412,
          0.3643259761997997,
          0.3641051108548874,
          0.3611598607550952,
          0.35797839975410173,
          0.35462174244854694,
          0.35352224795994036,
          0.351962444107913,
          0.3504568467695298,
          0.35066730615376307,
          0.35285134185044076,
          0.3494717286584854,
          0.348502872223974,
          0.34723656850371654,
          0.3466895939368031,
          0.34483753538442874,
          0.34267006485499985,
          0.34156641110895103,
          0.3407076629385406,
          0.3397355302565651,
          0.3400413725658892,
          0.33974882153773633,
          0.34020586736492053,
          0.3390078451022761,
          0.3372282556025302,
          0.337915313261693,
          0.3371768611650433,
          0.33837836870038185,
          0.3368315351717154,
          0.3377435415254254,
          0.3374743511312731,
          0.33726132908631345,
          0.336452304807768,
          0.336995340237389,
          0.3387737950372828,
          0.3371271307725998,
          0.33726395030980705,
          0.3366126649244682,
          0.3354599165530152,
          0.33445594819154956,
          0.3331840672099823,
          0.3312486510844861,
          0.3299154975854337,
          0.32884578109129026,
          0.32698482792087336,
          0.3255856147427192,
          0.324451758583877,
          0.3240045385546182,
          0.3229037206070561,
          0.32206461667075126,
          0.3211667771091211,
          0.32056524307827605,
          0.3196644881124616,
          0.31972205795725384,
          0.31851974320968435,
          0.31802196612986944,
          0.317339272583803
         ],
         "yaxis": "y"
        },
        {
         "hovertemplate": "variable=Test<br>Number of Neighbors=%{x}<br>R-squared=%{y}<extra></extra>",
         "legendgroup": "Test",
         "line": {
          "color": "#EF553B",
          "dash": "solid",
          "shape": "linear"
         },
         "marker": {
          "symbol": "circle"
         },
         "mode": "lines",
         "name": "Test",
         "orientation": "v",
         "showlegend": true,
         "type": "scatter",
         "x": [
          1,
          2,
          3,
          4,
          5,
          6,
          7,
          8,
          9,
          10,
          11,
          12,
          13,
          14,
          15,
          16,
          17,
          18,
          19,
          20,
          21,
          22,
          23,
          24,
          25,
          26,
          27,
          28,
          29,
          30,
          31,
          32,
          33,
          34,
          35,
          36,
          37,
          38,
          39,
          40,
          41,
          42,
          43,
          44,
          45,
          46,
          47,
          48,
          49,
          50,
          51,
          52,
          53,
          54,
          55,
          56,
          57,
          58,
          59,
          60,
          61,
          62,
          63,
          64,
          65,
          66,
          67,
          68,
          69,
          70,
          71,
          72,
          73,
          74,
          75,
          76,
          77,
          78,
          79,
          80,
          81,
          82,
          83,
          84,
          85,
          86,
          87,
          88,
          89,
          90,
          91,
          92,
          93,
          94,
          95,
          96,
          97,
          98,
          99,
          100
         ],
         "xaxis": "x",
         "y": [
          0.05328987573312649,
          0.3328264404616512,
          0.3475864167709394,
          0.34751788742326906,
          0.37489256189999454,
          0.4108736940919536,
          0.429882426703747,
          0.4257134610172648,
          0.4360463979289899,
          0.4292661810206252,
          0.4216083454270211,
          0.42554115038232876,
          0.42979731883991346,
          0.4381949850696404,
          0.43872101279183995,
          0.44090272595991864,
          0.4369672568298695,
          0.4406723334533935,
          0.44046909768150455,
          0.43617060074612546,
          0.43130496453344824,
          0.43647842314502305,
          0.4361677305139179,
          0.4359857809557438,
          0.4349679922456928,
          0.4335921052436943,
          0.43412705019019493,
          0.43124593951058965,
          0.4304989573792537,
          0.4286991170505051,
          0.42873949530412137,
          0.4256795618673045,
          0.42664014985050036,
          0.4277065212288004,
          0.42469233431613373,
          0.4227069463032781,
          0.4241031117273635,
          0.42401806287942323,
          0.4242256569043775,
          0.4250050649665644,
          0.4277511917490586,
          0.42743222350248977,
          0.4300650300846155,
          0.4273707331506137,
          0.4296639680813321,
          0.432536989691487,
          0.43146529969714964,
          0.4304783237776343,
          0.42710619432361263,
          0.4299399892804663,
          0.42635774455731945,
          0.42681558319086077,
          0.42837807642109893,
          0.4279555304021537,
          0.42536974482575385,
          0.4231192798187967,
          0.4209063348991181,
          0.4189666990634996,
          0.4170401316900515,
          0.4134481000280761,
          0.4116431970733637,
          0.4090664304862893,
          0.4073804588948714,
          0.40659093954125103,
          0.40538715280950255,
          0.4060217001290599,
          0.4053549843386095,
          0.4021056352869722,
          0.40191226481635944,
          0.4006219282037219,
          0.40294548581901224,
          0.400333922495146,
          0.40140168113665775,
          0.4022340571746159,
          0.40354472764246263,
          0.4032842606507865,
          0.4034462232156584,
          0.4057267383917451,
          0.40411607495471236,
          0.40492925831465443,
          0.40500890152826163,
          0.40359892075883985,
          0.4027051457591455,
          0.4032507474833229,
          0.4016390229435285,
          0.3991872229050375,
          0.3979713988742205,
          0.39670669368783407,
          0.39467193639665854,
          0.3931368508495814,
          0.3918866736782505,
          0.388551814662641,
          0.3883179645035886,
          0.38779639384736286,
          0.3893179216592684,
          0.38753280885628283,
          0.3883653497121341,
          0.3873209776939057,
          0.3873944642684285,
          0.3856415781655449
         ],
         "yaxis": "y"
        }
       ],
       "layout": {
        "legend": {
         "title": {
          "text": "variable"
         },
         "tracegroupgap": 0
        },
        "template": {
         "data": {
          "bar": [
           {
            "error_x": {
             "color": "#2a3f5f"
            },
            "error_y": {
             "color": "#2a3f5f"
            },
            "marker": {
             "line": {
              "color": "#E5ECF6",
              "width": 0.5
             },
             "pattern": {
              "fillmode": "overlay",
              "size": 10,
              "solidity": 0.2
             }
            },
            "type": "bar"
           }
          ],
          "barpolar": [
           {
            "marker": {
             "line": {
              "color": "#E5ECF6",
              "width": 0.5
             },
             "pattern": {
              "fillmode": "overlay",
              "size": 10,
              "solidity": 0.2
             }
            },
            "type": "barpolar"
           }
          ],
          "carpet": [
           {
            "aaxis": {
             "endlinecolor": "#2a3f5f",
             "gridcolor": "white",
             "linecolor": "white",
             "minorgridcolor": "white",
             "startlinecolor": "#2a3f5f"
            },
            "baxis": {
             "endlinecolor": "#2a3f5f",
             "gridcolor": "white",
             "linecolor": "white",
             "minorgridcolor": "white",
             "startlinecolor": "#2a3f5f"
            },
            "type": "carpet"
           }
          ],
          "choropleth": [
           {
            "colorbar": {
             "outlinewidth": 0,
             "ticks": ""
            },
            "type": "choropleth"
           }
          ],
          "contour": [
           {
            "colorbar": {
             "outlinewidth": 0,
             "ticks": ""
            },
            "colorscale": [
             [
              0,
              "#0d0887"
             ],
             [
              0.1111111111111111,
              "#46039f"
             ],
             [
              0.2222222222222222,
              "#7201a8"
             ],
             [
              0.3333333333333333,
              "#9c179e"
             ],
             [
              0.4444444444444444,
              "#bd3786"
             ],
             [
              0.5555555555555556,
              "#d8576b"
             ],
             [
              0.6666666666666666,
              "#ed7953"
             ],
             [
              0.7777777777777778,
              "#fb9f3a"
             ],
             [
              0.8888888888888888,
              "#fdca26"
             ],
             [
              1,
              "#f0f921"
             ]
            ],
            "type": "contour"
           }
          ],
          "contourcarpet": [
           {
            "colorbar": {
             "outlinewidth": 0,
             "ticks": ""
            },
            "type": "contourcarpet"
           }
          ],
          "heatmap": [
           {
            "colorbar": {
             "outlinewidth": 0,
             "ticks": ""
            },
            "colorscale": [
             [
              0,
              "#0d0887"
             ],
             [
              0.1111111111111111,
              "#46039f"
             ],
             [
              0.2222222222222222,
              "#7201a8"
             ],
             [
              0.3333333333333333,
              "#9c179e"
             ],
             [
              0.4444444444444444,
              "#bd3786"
             ],
             [
              0.5555555555555556,
              "#d8576b"
             ],
             [
              0.6666666666666666,
              "#ed7953"
             ],
             [
              0.7777777777777778,
              "#fb9f3a"
             ],
             [
              0.8888888888888888,
              "#fdca26"
             ],
             [
              1,
              "#f0f921"
             ]
            ],
            "type": "heatmap"
           }
          ],
          "heatmapgl": [
           {
            "colorbar": {
             "outlinewidth": 0,
             "ticks": ""
            },
            "colorscale": [
             [
              0,
              "#0d0887"
             ],
             [
              0.1111111111111111,
              "#46039f"
             ],
             [
              0.2222222222222222,
              "#7201a8"
             ],
             [
              0.3333333333333333,
              "#9c179e"
             ],
             [
              0.4444444444444444,
              "#bd3786"
             ],
             [
              0.5555555555555556,
              "#d8576b"
             ],
             [
              0.6666666666666666,
              "#ed7953"
             ],
             [
              0.7777777777777778,
              "#fb9f3a"
             ],
             [
              0.8888888888888888,
              "#fdca26"
             ],
             [
              1,
              "#f0f921"
             ]
            ],
            "type": "heatmapgl"
           }
          ],
          "histogram": [
           {
            "marker": {
             "pattern": {
              "fillmode": "overlay",
              "size": 10,
              "solidity": 0.2
             }
            },
            "type": "histogram"
           }
          ],
          "histogram2d": [
           {
            "colorbar": {
             "outlinewidth": 0,
             "ticks": ""
            },
            "colorscale": [
             [
              0,
              "#0d0887"
             ],
             [
              0.1111111111111111,
              "#46039f"
             ],
             [
              0.2222222222222222,
              "#7201a8"
             ],
             [
              0.3333333333333333,
              "#9c179e"
             ],
             [
              0.4444444444444444,
              "#bd3786"
             ],
             [
              0.5555555555555556,
              "#d8576b"
             ],
             [
              0.6666666666666666,
              "#ed7953"
             ],
             [
              0.7777777777777778,
              "#fb9f3a"
             ],
             [
              0.8888888888888888,
              "#fdca26"
             ],
             [
              1,
              "#f0f921"
             ]
            ],
            "type": "histogram2d"
           }
          ],
          "histogram2dcontour": [
           {
            "colorbar": {
             "outlinewidth": 0,
             "ticks": ""
            },
            "colorscale": [
             [
              0,
              "#0d0887"
             ],
             [
              0.1111111111111111,
              "#46039f"
             ],
             [
              0.2222222222222222,
              "#7201a8"
             ],
             [
              0.3333333333333333,
              "#9c179e"
             ],
             [
              0.4444444444444444,
              "#bd3786"
             ],
             [
              0.5555555555555556,
              "#d8576b"
             ],
             [
              0.6666666666666666,
              "#ed7953"
             ],
             [
              0.7777777777777778,
              "#fb9f3a"
             ],
             [
              0.8888888888888888,
              "#fdca26"
             ],
             [
              1,
              "#f0f921"
             ]
            ],
            "type": "histogram2dcontour"
           }
          ],
          "mesh3d": [
           {
            "colorbar": {
             "outlinewidth": 0,
             "ticks": ""
            },
            "type": "mesh3d"
           }
          ],
          "parcoords": [
           {
            "line": {
             "colorbar": {
              "outlinewidth": 0,
              "ticks": ""
             }
            },
            "type": "parcoords"
           }
          ],
          "pie": [
           {
            "automargin": true,
            "type": "pie"
           }
          ],
          "scatter": [
           {
            "fillpattern": {
             "fillmode": "overlay",
             "size": 10,
             "solidity": 0.2
            },
            "type": "scatter"
           }
          ],
          "scatter3d": [
           {
            "line": {
             "colorbar": {
              "outlinewidth": 0,
              "ticks": ""
             }
            },
            "marker": {
             "colorbar": {
              "outlinewidth": 0,
              "ticks": ""
             }
            },
            "type": "scatter3d"
           }
          ],
          "scattercarpet": [
           {
            "marker": {
             "colorbar": {
              "outlinewidth": 0,
              "ticks": ""
             }
            },
            "type": "scattercarpet"
           }
          ],
          "scattergeo": [
           {
            "marker": {
             "colorbar": {
              "outlinewidth": 0,
              "ticks": ""
             }
            },
            "type": "scattergeo"
           }
          ],
          "scattergl": [
           {
            "marker": {
             "colorbar": {
              "outlinewidth": 0,
              "ticks": ""
             }
            },
            "type": "scattergl"
           }
          ],
          "scattermapbox": [
           {
            "marker": {
             "colorbar": {
              "outlinewidth": 0,
              "ticks": ""
             }
            },
            "type": "scattermapbox"
           }
          ],
          "scatterpolar": [
           {
            "marker": {
             "colorbar": {
              "outlinewidth": 0,
              "ticks": ""
             }
            },
            "type": "scatterpolar"
           }
          ],
          "scatterpolargl": [
           {
            "marker": {
             "colorbar": {
              "outlinewidth": 0,
              "ticks": ""
             }
            },
            "type": "scatterpolargl"
           }
          ],
          "scatterternary": [
           {
            "marker": {
             "colorbar": {
              "outlinewidth": 0,
              "ticks": ""
             }
            },
            "type": "scatterternary"
           }
          ],
          "surface": [
           {
            "colorbar": {
             "outlinewidth": 0,
             "ticks": ""
            },
            "colorscale": [
             [
              0,
              "#0d0887"
             ],
             [
              0.1111111111111111,
              "#46039f"
             ],
             [
              0.2222222222222222,
              "#7201a8"
             ],
             [
              0.3333333333333333,
              "#9c179e"
             ],
             [
              0.4444444444444444,
              "#bd3786"
             ],
             [
              0.5555555555555556,
              "#d8576b"
             ],
             [
              0.6666666666666666,
              "#ed7953"
             ],
             [
              0.7777777777777778,
              "#fb9f3a"
             ],
             [
              0.8888888888888888,
              "#fdca26"
             ],
             [
              1,
              "#f0f921"
             ]
            ],
            "type": "surface"
           }
          ],
          "table": [
           {
            "cells": {
             "fill": {
              "color": "#EBF0F8"
             },
             "line": {
              "color": "white"
             }
            },
            "header": {
             "fill": {
              "color": "#C8D4E3"
             },
             "line": {
              "color": "white"
             }
            },
            "type": "table"
           }
          ]
         },
         "layout": {
          "annotationdefaults": {
           "arrowcolor": "#2a3f5f",
           "arrowhead": 0,
           "arrowwidth": 1
          },
          "autotypenumbers": "strict",
          "coloraxis": {
           "colorbar": {
            "outlinewidth": 0,
            "ticks": ""
           }
          },
          "colorscale": {
           "diverging": [
            [
             0,
             "#8e0152"
            ],
            [
             0.1,
             "#c51b7d"
            ],
            [
             0.2,
             "#de77ae"
            ],
            [
             0.3,
             "#f1b6da"
            ],
            [
             0.4,
             "#fde0ef"
            ],
            [
             0.5,
             "#f7f7f7"
            ],
            [
             0.6,
             "#e6f5d0"
            ],
            [
             0.7,
             "#b8e186"
            ],
            [
             0.8,
             "#7fbc41"
            ],
            [
             0.9,
             "#4d9221"
            ],
            [
             1,
             "#276419"
            ]
           ],
           "sequential": [
            [
             0,
             "#0d0887"
            ],
            [
             0.1111111111111111,
             "#46039f"
            ],
            [
             0.2222222222222222,
             "#7201a8"
            ],
            [
             0.3333333333333333,
             "#9c179e"
            ],
            [
             0.4444444444444444,
             "#bd3786"
            ],
            [
             0.5555555555555556,
             "#d8576b"
            ],
            [
             0.6666666666666666,
             "#ed7953"
            ],
            [
             0.7777777777777778,
             "#fb9f3a"
            ],
            [
             0.8888888888888888,
             "#fdca26"
            ],
            [
             1,
             "#f0f921"
            ]
           ],
           "sequentialminus": [
            [
             0,
             "#0d0887"
            ],
            [
             0.1111111111111111,
             "#46039f"
            ],
            [
             0.2222222222222222,
             "#7201a8"
            ],
            [
             0.3333333333333333,
             "#9c179e"
            ],
            [
             0.4444444444444444,
             "#bd3786"
            ],
            [
             0.5555555555555556,
             "#d8576b"
            ],
            [
             0.6666666666666666,
             "#ed7953"
            ],
            [
             0.7777777777777778,
             "#fb9f3a"
            ],
            [
             0.8888888888888888,
             "#fdca26"
            ],
            [
             1,
             "#f0f921"
            ]
           ]
          },
          "colorway": [
           "#636efa",
           "#EF553B",
           "#00cc96",
           "#ab63fa",
           "#FFA15A",
           "#19d3f3",
           "#FF6692",
           "#B6E880",
           "#FF97FF",
           "#FECB52"
          ],
          "font": {
           "color": "#2a3f5f"
          },
          "geo": {
           "bgcolor": "white",
           "lakecolor": "white",
           "landcolor": "#E5ECF6",
           "showlakes": true,
           "showland": true,
           "subunitcolor": "white"
          },
          "hoverlabel": {
           "align": "left"
          },
          "hovermode": "closest",
          "mapbox": {
           "style": "light"
          },
          "paper_bgcolor": "white",
          "plot_bgcolor": "#E5ECF6",
          "polar": {
           "angularaxis": {
            "gridcolor": "white",
            "linecolor": "white",
            "ticks": ""
           },
           "bgcolor": "#E5ECF6",
           "radialaxis": {
            "gridcolor": "white",
            "linecolor": "white",
            "ticks": ""
           }
          },
          "scene": {
           "xaxis": {
            "backgroundcolor": "#E5ECF6",
            "gridcolor": "white",
            "gridwidth": 2,
            "linecolor": "white",
            "showbackground": true,
            "ticks": "",
            "zerolinecolor": "white"
           },
           "yaxis": {
            "backgroundcolor": "#E5ECF6",
            "gridcolor": "white",
            "gridwidth": 2,
            "linecolor": "white",
            "showbackground": true,
            "ticks": "",
            "zerolinecolor": "white"
           },
           "zaxis": {
            "backgroundcolor": "#E5ECF6",
            "gridcolor": "white",
            "gridwidth": 2,
            "linecolor": "white",
            "showbackground": true,
            "ticks": "",
            "zerolinecolor": "white"
           }
          },
          "shapedefaults": {
           "line": {
            "color": "#2a3f5f"
           }
          },
          "ternary": {
           "aaxis": {
            "gridcolor": "white",
            "linecolor": "white",
            "ticks": ""
           },
           "baxis": {
            "gridcolor": "white",
            "linecolor": "white",
            "ticks": ""
           },
           "bgcolor": "#E5ECF6",
           "caxis": {
            "gridcolor": "white",
            "linecolor": "white",
            "ticks": ""
           }
          },
          "title": {
           "x": 0.05
          },
          "xaxis": {
           "automargin": true,
           "gridcolor": "white",
           "linecolor": "white",
           "ticks": "",
           "title": {
            "standoff": 15
           },
           "zerolinecolor": "white",
           "zerolinewidth": 2
          },
          "yaxis": {
           "automargin": true,
           "gridcolor": "white",
           "linecolor": "white",
           "ticks": "",
           "title": {
            "standoff": 15
           },
           "zerolinecolor": "white",
           "zerolinewidth": 2
          }
         }
        },
        "title": {
         "text": "Average R-squared"
        },
        "xaxis": {
         "anchor": "y",
         "domain": [
          0,
          1
         ],
         "title": {
          "text": "Number of Neighbors"
         }
        },
        "yaxis": {
         "anchor": "x",
         "domain": [
          0,
          1
         ],
         "title": {
          "text": "R-squared"
         }
        }
       }
      },
      "text/html": [
       "<div>                            <div id=\"316142a1-1b68-49c6-80ec-aa96ef57f6f3\" class=\"plotly-graph-div\" style=\"height:525px; width:100%;\"></div>            <script type=\"text/javascript\">                require([\"plotly\"], function(Plotly) {                    window.PLOTLYENV=window.PLOTLYENV || {};                                    if (document.getElementById(\"316142a1-1b68-49c6-80ec-aa96ef57f6f3\")) {                    Plotly.newPlot(                        \"316142a1-1b68-49c6-80ec-aa96ef57f6f3\",                        [{\"hovertemplate\":\"variable=Train\\u003cbr\\u003eNumber of Neighbors=%{x}\\u003cbr\\u003eR-squared=%{y}\\u003cextra\\u003e\\u003c\\u002fextra\\u003e\",\"legendgroup\":\"Train\",\"line\":{\"color\":\"#636efa\",\"dash\":\"solid\",\"shape\":\"linear\"},\"marker\":{\"symbol\":\"circle\"},\"mode\":\"lines\",\"name\":\"Train\",\"orientation\":\"v\",\"showlegend\":true,\"x\":[1,2,3,4,5,6,7,8,9,10,11,12,13,14,15,16,17,18,19,20,21,22,23,24,25,26,27,28,29,30,31,32,33,34,35,36,37,38,39,40,41,42,43,44,45,46,47,48,49,50,51,52,53,54,55,56,57,58,59,60,61,62,63,64,65,66,67,68,69,70,71,72,73,74,75,76,77,78,79,80,81,82,83,84,85,86,87,88,89,90,91,92,93,94,95,96,97,98,99,100],\"xaxis\":\"x\",\"y\":[-0.09334895584911229,0.3025375983720293,0.3324201009646959,0.35076382087005853,0.3599466858137188,0.3863875975996679,0.3866288304677141,0.3952125084857546,0.40340814417671933,0.40089382559636555,0.3985417851036943,0.3982332878151392,0.3875860219942605,0.387168411059268,0.3878984161503347,0.3838006319065297,0.3819198735416577,0.37963880642444015,0.3816307932291261,0.37561639698721405,0.375585481649112,0.3727703124846683,0.37185795752026685,0.3749545888699236,0.37737032595406506,0.3751122549247661,0.37332572066681213,0.37214817294468816,0.37029436561419116,0.3690547328315097,0.37046005264440585,0.3672840837043765,0.36811061730183137,0.36894858231092953,0.3680282017243963,0.3676478960638375,0.37007314282089987,0.36964558550346505,0.36937537265249953,0.3674420739277865,0.3688423929156869,0.3674310516391769,0.36607641909802313,0.3652660445100412,0.3643259761997997,0.3641051108548874,0.3611598607550952,0.35797839975410173,0.35462174244854694,0.35352224795994036,0.351962444107913,0.3504568467695298,0.35066730615376307,0.35285134185044076,0.3494717286584854,0.348502872223974,0.34723656850371654,0.3466895939368031,0.34483753538442874,0.34267006485499985,0.34156641110895103,0.3407076629385406,0.3397355302565651,0.3400413725658892,0.33974882153773633,0.34020586736492053,0.3390078451022761,0.3372282556025302,0.337915313261693,0.3371768611650433,0.33837836870038185,0.3368315351717154,0.3377435415254254,0.3374743511312731,0.33726132908631345,0.336452304807768,0.336995340237389,0.3387737950372828,0.3371271307725998,0.33726395030980705,0.3366126649244682,0.3354599165530152,0.33445594819154956,0.3331840672099823,0.3312486510844861,0.3299154975854337,0.32884578109129026,0.32698482792087336,0.3255856147427192,0.324451758583877,0.3240045385546182,0.3229037206070561,0.32206461667075126,0.3211667771091211,0.32056524307827605,0.3196644881124616,0.31972205795725384,0.31851974320968435,0.31802196612986944,0.317339272583803],\"yaxis\":\"y\",\"type\":\"scatter\"},{\"hovertemplate\":\"variable=Test\\u003cbr\\u003eNumber of Neighbors=%{x}\\u003cbr\\u003eR-squared=%{y}\\u003cextra\\u003e\\u003c\\u002fextra\\u003e\",\"legendgroup\":\"Test\",\"line\":{\"color\":\"#EF553B\",\"dash\":\"solid\",\"shape\":\"linear\"},\"marker\":{\"symbol\":\"circle\"},\"mode\":\"lines\",\"name\":\"Test\",\"orientation\":\"v\",\"showlegend\":true,\"x\":[1,2,3,4,5,6,7,8,9,10,11,12,13,14,15,16,17,18,19,20,21,22,23,24,25,26,27,28,29,30,31,32,33,34,35,36,37,38,39,40,41,42,43,44,45,46,47,48,49,50,51,52,53,54,55,56,57,58,59,60,61,62,63,64,65,66,67,68,69,70,71,72,73,74,75,76,77,78,79,80,81,82,83,84,85,86,87,88,89,90,91,92,93,94,95,96,97,98,99,100],\"xaxis\":\"x\",\"y\":[0.05328987573312649,0.3328264404616512,0.3475864167709394,0.34751788742326906,0.37489256189999454,0.4108736940919536,0.429882426703747,0.4257134610172648,0.4360463979289899,0.4292661810206252,0.4216083454270211,0.42554115038232876,0.42979731883991346,0.4381949850696404,0.43872101279183995,0.44090272595991864,0.4369672568298695,0.4406723334533935,0.44046909768150455,0.43617060074612546,0.43130496453344824,0.43647842314502305,0.4361677305139179,0.4359857809557438,0.4349679922456928,0.4335921052436943,0.43412705019019493,0.43124593951058965,0.4304989573792537,0.4286991170505051,0.42873949530412137,0.4256795618673045,0.42664014985050036,0.4277065212288004,0.42469233431613373,0.4227069463032781,0.4241031117273635,0.42401806287942323,0.4242256569043775,0.4250050649665644,0.4277511917490586,0.42743222350248977,0.4300650300846155,0.4273707331506137,0.4296639680813321,0.432536989691487,0.43146529969714964,0.4304783237776343,0.42710619432361263,0.4299399892804663,0.42635774455731945,0.42681558319086077,0.42837807642109893,0.4279555304021537,0.42536974482575385,0.4231192798187967,0.4209063348991181,0.4189666990634996,0.4170401316900515,0.4134481000280761,0.4116431970733637,0.4090664304862893,0.4073804588948714,0.40659093954125103,0.40538715280950255,0.4060217001290599,0.4053549843386095,0.4021056352869722,0.40191226481635944,0.4006219282037219,0.40294548581901224,0.400333922495146,0.40140168113665775,0.4022340571746159,0.40354472764246263,0.4032842606507865,0.4034462232156584,0.4057267383917451,0.40411607495471236,0.40492925831465443,0.40500890152826163,0.40359892075883985,0.4027051457591455,0.4032507474833229,0.4016390229435285,0.3991872229050375,0.3979713988742205,0.39670669368783407,0.39467193639665854,0.3931368508495814,0.3918866736782505,0.388551814662641,0.3883179645035886,0.38779639384736286,0.3893179216592684,0.38753280885628283,0.3883653497121341,0.3873209776939057,0.3873944642684285,0.3856415781655449],\"yaxis\":\"y\",\"type\":\"scatter\"}],                        {\"template\":{\"data\":{\"histogram2dcontour\":[{\"type\":\"histogram2dcontour\",\"colorbar\":{\"outlinewidth\":0,\"ticks\":\"\"},\"colorscale\":[[0.0,\"#0d0887\"],[0.1111111111111111,\"#46039f\"],[0.2222222222222222,\"#7201a8\"],[0.3333333333333333,\"#9c179e\"],[0.4444444444444444,\"#bd3786\"],[0.5555555555555556,\"#d8576b\"],[0.6666666666666666,\"#ed7953\"],[0.7777777777777778,\"#fb9f3a\"],[0.8888888888888888,\"#fdca26\"],[1.0,\"#f0f921\"]]}],\"choropleth\":[{\"type\":\"choropleth\",\"colorbar\":{\"outlinewidth\":0,\"ticks\":\"\"}}],\"histogram2d\":[{\"type\":\"histogram2d\",\"colorbar\":{\"outlinewidth\":0,\"ticks\":\"\"},\"colorscale\":[[0.0,\"#0d0887\"],[0.1111111111111111,\"#46039f\"],[0.2222222222222222,\"#7201a8\"],[0.3333333333333333,\"#9c179e\"],[0.4444444444444444,\"#bd3786\"],[0.5555555555555556,\"#d8576b\"],[0.6666666666666666,\"#ed7953\"],[0.7777777777777778,\"#fb9f3a\"],[0.8888888888888888,\"#fdca26\"],[1.0,\"#f0f921\"]]}],\"heatmap\":[{\"type\":\"heatmap\",\"colorbar\":{\"outlinewidth\":0,\"ticks\":\"\"},\"colorscale\":[[0.0,\"#0d0887\"],[0.1111111111111111,\"#46039f\"],[0.2222222222222222,\"#7201a8\"],[0.3333333333333333,\"#9c179e\"],[0.4444444444444444,\"#bd3786\"],[0.5555555555555556,\"#d8576b\"],[0.6666666666666666,\"#ed7953\"],[0.7777777777777778,\"#fb9f3a\"],[0.8888888888888888,\"#fdca26\"],[1.0,\"#f0f921\"]]}],\"heatmapgl\":[{\"type\":\"heatmapgl\",\"colorbar\":{\"outlinewidth\":0,\"ticks\":\"\"},\"colorscale\":[[0.0,\"#0d0887\"],[0.1111111111111111,\"#46039f\"],[0.2222222222222222,\"#7201a8\"],[0.3333333333333333,\"#9c179e\"],[0.4444444444444444,\"#bd3786\"],[0.5555555555555556,\"#d8576b\"],[0.6666666666666666,\"#ed7953\"],[0.7777777777777778,\"#fb9f3a\"],[0.8888888888888888,\"#fdca26\"],[1.0,\"#f0f921\"]]}],\"contourcarpet\":[{\"type\":\"contourcarpet\",\"colorbar\":{\"outlinewidth\":0,\"ticks\":\"\"}}],\"contour\":[{\"type\":\"contour\",\"colorbar\":{\"outlinewidth\":0,\"ticks\":\"\"},\"colorscale\":[[0.0,\"#0d0887\"],[0.1111111111111111,\"#46039f\"],[0.2222222222222222,\"#7201a8\"],[0.3333333333333333,\"#9c179e\"],[0.4444444444444444,\"#bd3786\"],[0.5555555555555556,\"#d8576b\"],[0.6666666666666666,\"#ed7953\"],[0.7777777777777778,\"#fb9f3a\"],[0.8888888888888888,\"#fdca26\"],[1.0,\"#f0f921\"]]}],\"surface\":[{\"type\":\"surface\",\"colorbar\":{\"outlinewidth\":0,\"ticks\":\"\"},\"colorscale\":[[0.0,\"#0d0887\"],[0.1111111111111111,\"#46039f\"],[0.2222222222222222,\"#7201a8\"],[0.3333333333333333,\"#9c179e\"],[0.4444444444444444,\"#bd3786\"],[0.5555555555555556,\"#d8576b\"],[0.6666666666666666,\"#ed7953\"],[0.7777777777777778,\"#fb9f3a\"],[0.8888888888888888,\"#fdca26\"],[1.0,\"#f0f921\"]]}],\"mesh3d\":[{\"type\":\"mesh3d\",\"colorbar\":{\"outlinewidth\":0,\"ticks\":\"\"}}],\"scatter\":[{\"fillpattern\":{\"fillmode\":\"overlay\",\"size\":10,\"solidity\":0.2},\"type\":\"scatter\"}],\"parcoords\":[{\"type\":\"parcoords\",\"line\":{\"colorbar\":{\"outlinewidth\":0,\"ticks\":\"\"}}}],\"scatterpolargl\":[{\"type\":\"scatterpolargl\",\"marker\":{\"colorbar\":{\"outlinewidth\":0,\"ticks\":\"\"}}}],\"bar\":[{\"error_x\":{\"color\":\"#2a3f5f\"},\"error_y\":{\"color\":\"#2a3f5f\"},\"marker\":{\"line\":{\"color\":\"#E5ECF6\",\"width\":0.5},\"pattern\":{\"fillmode\":\"overlay\",\"size\":10,\"solidity\":0.2}},\"type\":\"bar\"}],\"scattergeo\":[{\"type\":\"scattergeo\",\"marker\":{\"colorbar\":{\"outlinewidth\":0,\"ticks\":\"\"}}}],\"scatterpolar\":[{\"type\":\"scatterpolar\",\"marker\":{\"colorbar\":{\"outlinewidth\":0,\"ticks\":\"\"}}}],\"histogram\":[{\"marker\":{\"pattern\":{\"fillmode\":\"overlay\",\"size\":10,\"solidity\":0.2}},\"type\":\"histogram\"}],\"scattergl\":[{\"type\":\"scattergl\",\"marker\":{\"colorbar\":{\"outlinewidth\":0,\"ticks\":\"\"}}}],\"scatter3d\":[{\"type\":\"scatter3d\",\"line\":{\"colorbar\":{\"outlinewidth\":0,\"ticks\":\"\"}},\"marker\":{\"colorbar\":{\"outlinewidth\":0,\"ticks\":\"\"}}}],\"scattermapbox\":[{\"type\":\"scattermapbox\",\"marker\":{\"colorbar\":{\"outlinewidth\":0,\"ticks\":\"\"}}}],\"scatterternary\":[{\"type\":\"scatterternary\",\"marker\":{\"colorbar\":{\"outlinewidth\":0,\"ticks\":\"\"}}}],\"scattercarpet\":[{\"type\":\"scattercarpet\",\"marker\":{\"colorbar\":{\"outlinewidth\":0,\"ticks\":\"\"}}}],\"carpet\":[{\"aaxis\":{\"endlinecolor\":\"#2a3f5f\",\"gridcolor\":\"white\",\"linecolor\":\"white\",\"minorgridcolor\":\"white\",\"startlinecolor\":\"#2a3f5f\"},\"baxis\":{\"endlinecolor\":\"#2a3f5f\",\"gridcolor\":\"white\",\"linecolor\":\"white\",\"minorgridcolor\":\"white\",\"startlinecolor\":\"#2a3f5f\"},\"type\":\"carpet\"}],\"table\":[{\"cells\":{\"fill\":{\"color\":\"#EBF0F8\"},\"line\":{\"color\":\"white\"}},\"header\":{\"fill\":{\"color\":\"#C8D4E3\"},\"line\":{\"color\":\"white\"}},\"type\":\"table\"}],\"barpolar\":[{\"marker\":{\"line\":{\"color\":\"#E5ECF6\",\"width\":0.5},\"pattern\":{\"fillmode\":\"overlay\",\"size\":10,\"solidity\":0.2}},\"type\":\"barpolar\"}],\"pie\":[{\"automargin\":true,\"type\":\"pie\"}]},\"layout\":{\"autotypenumbers\":\"strict\",\"colorway\":[\"#636efa\",\"#EF553B\",\"#00cc96\",\"#ab63fa\",\"#FFA15A\",\"#19d3f3\",\"#FF6692\",\"#B6E880\",\"#FF97FF\",\"#FECB52\"],\"font\":{\"color\":\"#2a3f5f\"},\"hovermode\":\"closest\",\"hoverlabel\":{\"align\":\"left\"},\"paper_bgcolor\":\"white\",\"plot_bgcolor\":\"#E5ECF6\",\"polar\":{\"bgcolor\":\"#E5ECF6\",\"angularaxis\":{\"gridcolor\":\"white\",\"linecolor\":\"white\",\"ticks\":\"\"},\"radialaxis\":{\"gridcolor\":\"white\",\"linecolor\":\"white\",\"ticks\":\"\"}},\"ternary\":{\"bgcolor\":\"#E5ECF6\",\"aaxis\":{\"gridcolor\":\"white\",\"linecolor\":\"white\",\"ticks\":\"\"},\"baxis\":{\"gridcolor\":\"white\",\"linecolor\":\"white\",\"ticks\":\"\"},\"caxis\":{\"gridcolor\":\"white\",\"linecolor\":\"white\",\"ticks\":\"\"}},\"coloraxis\":{\"colorbar\":{\"outlinewidth\":0,\"ticks\":\"\"}},\"colorscale\":{\"sequential\":[[0.0,\"#0d0887\"],[0.1111111111111111,\"#46039f\"],[0.2222222222222222,\"#7201a8\"],[0.3333333333333333,\"#9c179e\"],[0.4444444444444444,\"#bd3786\"],[0.5555555555555556,\"#d8576b\"],[0.6666666666666666,\"#ed7953\"],[0.7777777777777778,\"#fb9f3a\"],[0.8888888888888888,\"#fdca26\"],[1.0,\"#f0f921\"]],\"sequentialminus\":[[0.0,\"#0d0887\"],[0.1111111111111111,\"#46039f\"],[0.2222222222222222,\"#7201a8\"],[0.3333333333333333,\"#9c179e\"],[0.4444444444444444,\"#bd3786\"],[0.5555555555555556,\"#d8576b\"],[0.6666666666666666,\"#ed7953\"],[0.7777777777777778,\"#fb9f3a\"],[0.8888888888888888,\"#fdca26\"],[1.0,\"#f0f921\"]],\"diverging\":[[0,\"#8e0152\"],[0.1,\"#c51b7d\"],[0.2,\"#de77ae\"],[0.3,\"#f1b6da\"],[0.4,\"#fde0ef\"],[0.5,\"#f7f7f7\"],[0.6,\"#e6f5d0\"],[0.7,\"#b8e186\"],[0.8,\"#7fbc41\"],[0.9,\"#4d9221\"],[1,\"#276419\"]]},\"xaxis\":{\"gridcolor\":\"white\",\"linecolor\":\"white\",\"ticks\":\"\",\"title\":{\"standoff\":15},\"zerolinecolor\":\"white\",\"automargin\":true,\"zerolinewidth\":2},\"yaxis\":{\"gridcolor\":\"white\",\"linecolor\":\"white\",\"ticks\":\"\",\"title\":{\"standoff\":15},\"zerolinecolor\":\"white\",\"automargin\":true,\"zerolinewidth\":2},\"scene\":{\"xaxis\":{\"backgroundcolor\":\"#E5ECF6\",\"gridcolor\":\"white\",\"linecolor\":\"white\",\"showbackground\":true,\"ticks\":\"\",\"zerolinecolor\":\"white\",\"gridwidth\":2},\"yaxis\":{\"backgroundcolor\":\"#E5ECF6\",\"gridcolor\":\"white\",\"linecolor\":\"white\",\"showbackground\":true,\"ticks\":\"\",\"zerolinecolor\":\"white\",\"gridwidth\":2},\"zaxis\":{\"backgroundcolor\":\"#E5ECF6\",\"gridcolor\":\"white\",\"linecolor\":\"white\",\"showbackground\":true,\"ticks\":\"\",\"zerolinecolor\":\"white\",\"gridwidth\":2}},\"shapedefaults\":{\"line\":{\"color\":\"#2a3f5f\"}},\"annotationdefaults\":{\"arrowcolor\":\"#2a3f5f\",\"arrowhead\":0,\"arrowwidth\":1},\"geo\":{\"bgcolor\":\"white\",\"landcolor\":\"#E5ECF6\",\"subunitcolor\":\"white\",\"showland\":true,\"showlakes\":true,\"lakecolor\":\"white\"},\"title\":{\"x\":0.05},\"mapbox\":{\"style\":\"light\"}}},\"xaxis\":{\"anchor\":\"y\",\"domain\":[0.0,1.0],\"title\":{\"text\":\"Number of Neighbors\"}},\"yaxis\":{\"anchor\":\"x\",\"domain\":[0.0,1.0],\"title\":{\"text\":\"R-squared\"}},\"legend\":{\"title\":{\"text\":\"variable\"},\"tracegroupgap\":0},\"title\":{\"text\":\"Average R-squared\"}},                        {\"responsive\": true}                    ).then(function(){\n",
       "                            \n",
       "var gd = document.getElementById('316142a1-1b68-49c6-80ec-aa96ef57f6f3');\n",
       "var x = new MutationObserver(function (mutations, observer) {{\n",
       "        var display = window.getComputedStyle(gd).display;\n",
       "        if (!display || display === 'none') {{\n",
       "            console.log([gd, 'removed!']);\n",
       "            Plotly.purge(gd);\n",
       "            observer.disconnect();\n",
       "        }}\n",
       "}});\n",
       "\n",
       "// Listen for the removal of the full notebook cells\n",
       "var notebookContainer = gd.closest('#notebook-container');\n",
       "if (notebookContainer) {{\n",
       "    x.observe(notebookContainer, {childList: true});\n",
       "}}\n",
       "\n",
       "// Listen for the clearing of the current output cell\n",
       "var outputEl = gd.closest('.output');\n",
       "if (outputEl) {{\n",
       "    x.observe(outputEl, {childList: true});\n",
       "}}\n",
       "\n",
       "                        })                };                });            </script>        </div>"
      ]
     },
     "metadata": {},
     "output_type": "display_data"
    }
   ],
   "source": [
    "fig5 = px.line(x=range(1,101), y=[knn_baseline['train_r2_err'], knn_baseline['test_r2_err']], \n",
    "               labels={'value': 'R-squared', \"x\": \"Number of Neighbors\"},\n",
    "              title='Average R-squared', line_shape='linear')\n",
    "newnames = {'wide_variable_0':'Train', 'wide_variable_1': 'Test'}\n",
    "fig5.for_each_trace(lambda t: t.update(name = newnames[t.name],\n",
    "                                      legendgroup = newnames[t.name],\n",
    "                                      hovertemplate = t.hovertemplate.replace(t.name, newnames[t.name])\n",
    "                                     )\n",
    "                  )\n",
    "# Show the plot\n",
    "fig5.show()"
   ]
  },
  {
   "cell_type": "markdown",
   "metadata": {},
   "source": [
    "Luckily for us, both our training and test r-squared errors appear to be maximized at around 10. To get a more accurate number for our neighbor metric we will use gridsearchcv."
   ]
  },
  {
   "cell_type": "markdown",
   "metadata": {},
   "source": [
    "After using gridsearch we see that 10 is our optimized parameter for number of neighbors. Below is the data for our rmse and r-2 squared values for testing and training with 10 neighbors using a KNN model."
   ]
  },
  {
   "cell_type": "code",
   "execution_count": 279,
   "metadata": {},
   "outputs": [
    {
     "data": {
      "text/plain": [
       "train_rmse_err    1262.896470\n",
       "test_rmse_err     1302.577787\n",
       "train_r2_err         0.398542\n",
       "test_r2_err          0.421608\n",
       "Name: 11, dtype: float64"
      ]
     },
     "execution_count": 279,
     "metadata": {},
     "output_type": "execute_result"
    }
   ],
   "source": [
    "knn_baseline.iloc[10]"
   ]
  },
  {
   "cell_type": "markdown",
   "metadata": {},
   "source": [
    "As we can see, our rmse is about 1200 minutes, which is about 16 hours. Additionally, our r-squared values are around .40, which isn't very high. While our rmse is high, we have a lot of variation in our outage duration data that could explain this score. We believe that for a simple KNN regression model these scores are not bad, but we hope to improve them in our final model by adding more features."
   ]
  },
  {
   "cell_type": "markdown",
   "metadata": {},
   "source": [
    "## Final Model"
   ]
  },
  {
   "cell_type": "markdown",
   "metadata": {},
   "source": [
    "For our final model, we want to try to improve upon the baseline model. We will continue to one-hot encode U.S.STATE and CAUSE.CATEGORY. Additionally, we decided to feature engineer two new features, the time of the outage, as well as one of the quantitative features we explored previously. To better predict power outages based on time, we looked at peak hours for energy consumption, which tends to be from 4pm to 9pm. We expect that power outages that started during peak hours would impact the severity of the power outage. In order to include this in our KNN regression model, we transformed our OUTAGE.START column into 0 or 1 for peak vs non-peak hours. We utilized a function transformer, as well as a helper function, to do this. For our other additional feature, we need to look at possible combinations of MONTH and YEAR with the quantitative variables that had the highest correlation coefficient with outage duration. In order to identify an optimized combination, we will perform a manual iterative method that finds the average rmse score for each KNN regressor that includes said combination. For example, in our first iteration, we will employ a stdscalarbygroup transformer on MONTH and RES.CUST.PCT, where MONTH is the month that the power outage occurred in and RES.CUST.PCT is the percent of residential customers served in the U.S. state in percentage. The stdscalarbygroup transformer standardizes the quantitative variable by grouping the categorical variable. This means that the RES.CUST.PCT would be standardized based on the month. We have created a function that goes through each combination, finds the average rmse for 10 different k neighbors, and returns a dictionary with this information that we can then use to pick the best parameters for our stdscalarbygroup transformer. "
   ]
  },
  {
   "cell_type": "code",
   "execution_count": 280,
   "metadata": {},
   "outputs": [],
   "source": [
    "from sklearn.base import BaseEstimator, TransformerMixin\n",
    "\n",
    "class StdScalerByGroup(BaseEstimator, TransformerMixin):\n",
    "\n",
    "    def __init__(self):\n",
    "        self.grps_ = None\n",
    "\n",
    "    def fit(self, X, y=None):\n",
    "        # X might not be a pandas DataFrame (e.g. a np.array)\n",
    "        df = pd.DataFrame(X)\n",
    "\n",
    "        # Compute and store the means/standard-deviations for each column (e.g. 'c1' and 'c2'), \n",
    "        # for each group (e.g. 'A', 'B', 'C').  \n",
    "        # (Our solution uses a dictionary)\n",
    "        \n",
    "        groups = df.iloc[:, 0]\n",
    "        quant_data = df.iloc[:, 1:]\n",
    "\n",
    "        grps = {}\n",
    "\n",
    "        for group_name, group_values in quant_data.groupby(groups):\n",
    "            mean = group_values.mean()\n",
    "            std = group_values.std()\n",
    "\n",
    "            grps[group_name] = {'mean': mean, 'std': std}\n",
    "     \n",
    "        self.grps_ = grps\n",
    "\n",
    "        return self\n",
    "\n",
    "    def transform(self, X, y=None):\n",
    "\n",
    "        try:\n",
    "            getattr(self, \"grps_\")\n",
    "        except AttributeError:\n",
    "            raise RuntimeError(\"You must fit the transformer before tranforming the data!\")\n",
    "\n",
    "        df = pd.DataFrame(X)\n",
    "\n",
    "        groups = df.iloc[:, 0]\n",
    "        quant_data = df.iloc[:, 1:]\n",
    "\n",
    "        new_data = []\n",
    "\n",
    "        for group_name, group_values in quant_data.groupby(groups):\n",
    "            mean = self.grps_[group_name]['mean']\n",
    "            std = self.grps_[group_name]['std']\n",
    "\n",
    "            standardize = (group_values - mean) / std\n",
    "            new_data.append(standardize)\n",
    "        \n",
    "        transformed_df = pd.concat(new_data)\n",
    "        transformed_df.index = groups.values\n",
    "        return transformed_df"
   ]
  },
  {
   "cell_type": "code",
   "execution_count": 281,
   "metadata": {},
   "outputs": [],
   "source": [
    "def knn_reg_perf(galton, X_train, X_test, y_train, y_test):\n",
    "    \n",
    "    from sklearn.neighbors import KNeighborsRegressor\n",
    "    \n",
    "    def rmse(actual, pred):\n",
    "        return np.sqrt(np.mean((actual - pred) ** 2))\n",
    "    \n",
    "    def peak_hours(x):\n",
    "        df = pd.DataFrame((x[\"OUTAGE.START\"].dt.hour >= 16) & (x[\"OUTAGE.START\"].dt.hour <= 21))\n",
    "        return df.replace({True: 1, False: 0})\n",
    "    \n",
    "    train_rmse_error = []\n",
    "    test_rmse_error = []\n",
    "    train_r2_error = []\n",
    "    test_r2_error = []\n",
    "    \n",
    "    category = [\"MONTH\", \"YEAR\"]\n",
    "    quantitative = [\"RES.CUST.PCT\", \"COM.CUST.PCT\", \"IND.CUST.PCT\", \n",
    "                    \"UTIL.CONTRI\", \"POPPCT_UC\", \n",
    "                    \"PCT_LAND\", \"PCT_WATER_TOT\"]\n",
    "    \n",
    "    parameter_dict = {}\n",
    "    \n",
    "    for i in category:\n",
    "        \n",
    "        X_train\n",
    "        for j in quantitative:\n",
    "            train_rmse_error = []\n",
    "            test_rmse_error = []\n",
    "            for n in range(1,11):\n",
    "        \n",
    "                preproc = ColumnTransformer(\n",
    "                    transformers=[\n",
    "                        ('peak_hours', FunctionTransformer(peak_hours), [\"OUTAGE.START\"]),\n",
    "                        ('standardize_pop', StdScalerByGroup(), [i, j]),\n",
    "                        ('group', OneHotEncoder(handle_unknown='ignore'), [\"MONTH\", \"U.S._STATE\", \"CAUSE.CATEGORY\"]),\n",
    "                    ],\n",
    "                    remainder='drop'\n",
    "                )\n",
    "        \n",
    "                neigh = Pipeline([\n",
    "                    ('preprocessor', preproc), \n",
    "                    (\"decision-tree\", KNeighborsRegressor(n_neighbors=n))\n",
    "                ])\n",
    "        \n",
    "                neigh.fit(X_train, y_train)\n",
    "    \n",
    "                train_rmse_error.append(rmse(y_train, neigh.predict(X_train)))\n",
    "                test_rmse_error.append(rmse(y_test, neigh.predict(X_test)))\n",
    "            \n",
    "            parameter_dict[i + \" and \" + j] = np.mean(train_rmse_error)\n",
    "    \n",
    "    return parameter_dict"
   ]
  },
  {
   "cell_type": "code",
   "execution_count": 282,
   "metadata": {},
   "outputs": [
    {
     "data": {
      "text/plain": [
       "{'MONTH and RES.CUST.PCT': 1041.8175662539786,\n",
       " 'MONTH and COM.CUST.PCT': 1050.6551061980074,\n",
       " 'MONTH and IND.CUST.PCT': 1049.2647862810243,\n",
       " 'MONTH and UTIL.CONTRI': 1064.8836904307304,\n",
       " 'MONTH and POPPCT_UC': 1055.798922414368,\n",
       " 'MONTH and PCT_LAND': 1047.8665686158743,\n",
       " 'MONTH and PCT_WATER_TOT': 1047.8737272062413,\n",
       " 'YEAR and RES.CUST.PCT': 1053.6275358286316,\n",
       " 'YEAR and COM.CUST.PCT': 1059.9977452565192,\n",
       " 'YEAR and IND.CUST.PCT': 1043.4997138594188,\n",
       " 'YEAR and UTIL.CONTRI': 1059.834964018724,\n",
       " 'YEAR and POPPCT_UC': 1021.0970047450497,\n",
       " 'YEAR and PCT_LAND': 1029.7555421467164,\n",
       " 'YEAR and PCT_WATER_TOT': 1029.3621801240333}"
      ]
     },
     "execution_count": 282,
     "metadata": {},
     "output_type": "execute_result"
    }
   ],
   "source": [
    "knn_reg_perf(outages, X_train, X_test, y_train, y_test)"
   ]
  },
  {
   "cell_type": "markdown",
   "metadata": {},
   "source": [
    "We see that the lowest rmse score is YEAR and POPPCT_UC, where POPPCT_UC is percentage of the total population of the U.S. state represented by the population of the urban clusters. We will therefore incorporate this into our final baseline model. "
   ]
  },
  {
   "cell_type": "code",
   "execution_count": 283,
   "metadata": {},
   "outputs": [],
   "source": [
    "def knn_reg_perf(galton, X_train, X_test, y_train, y_test):\n",
    "    \n",
    "    from sklearn.neighbors import KNeighborsRegressor\n",
    "    \n",
    "    def rmse(actual, pred):\n",
    "        return np.sqrt(np.mean((actual - pred) ** 2))\n",
    "    \n",
    "    def peak_hours(x):\n",
    "        df = pd.DataFrame((x[\"OUTAGE.START\"].dt.hour >= 16) & (x[\"OUTAGE.START\"].dt.hour <= 21))\n",
    "        return df.replace({True: 1, False: 0})\n",
    "    \n",
    "    train_rmse_error = []\n",
    "    test_rmse_error = []\n",
    "    train_r2_error = []\n",
    "    test_r2_error = []\n",
    "    \n",
    "    for n in range(1,51):\n",
    "        \n",
    "        preproc = ColumnTransformer(\n",
    "            transformers=[\n",
    "                ('peak_hours', FunctionTransformer(peak_hours), [\"OUTAGE.START\"]),\n",
    "                ('standardize_pop', StdScalerByGroup(), [\"YEAR\", \"POPPCT_UC\"]),\n",
    "                ('group', OneHotEncoder(handle_unknown='ignore'), [\"MONTH\", \"U.S._STATE\", \"CAUSE.CATEGORY\"]),\n",
    "            ],\n",
    "            remainder='drop'\n",
    "        )\n",
    "        \n",
    "        neigh = Pipeline([\n",
    "            ('preprocessor', preproc), \n",
    "            (\"decision-tree\", KNeighborsRegressor(n_neighbors=n))\n",
    "        ])\n",
    "        \n",
    "        neigh.fit(X_train, y_train)\n",
    "    \n",
    "        train_rmse_error.append(rmse(y_train, neigh.predict(X_train)))\n",
    "        train_r2_error.append(np.var(neigh.predict(X_train)) / np.var(y_train))\n",
    "        test_rmse_error.append(rmse(y_test, neigh.predict(X_test)))\n",
    "        test_r2_error.append(np.var(neigh.predict(X_test)) / np.var(y_test))\n",
    "    \n",
    "    return pd.DataFrame({'train_rmse_err': train_rmse_error, \"test_rmse_err\": test_rmse_error, \n",
    "                         'train_r2_err': train_r2_error, \"test_r2_err\": test_r2_error}, index=(range(1,51)))"
   ]
  },
  {
   "cell_type": "code",
   "execution_count": 284,
   "metadata": {},
   "outputs": [],
   "source": [
    "knn_final = knn_reg_perf(outages, X_train, X_test, y_train, y_test)"
   ]
  },
  {
   "cell_type": "code",
   "execution_count": 285,
   "metadata": {},
   "outputs": [
    {
     "data": {
      "text/html": [
       "<div>\n",
       "<style scoped>\n",
       "    .dataframe tbody tr th:only-of-type {\n",
       "        vertical-align: middle;\n",
       "    }\n",
       "\n",
       "    .dataframe tbody tr th {\n",
       "        vertical-align: top;\n",
       "    }\n",
       "\n",
       "    .dataframe thead th {\n",
       "        text-align: right;\n",
       "    }\n",
       "</style>\n",
       "<table border=\"1\" class=\"dataframe\">\n",
       "  <thead>\n",
       "    <tr style=\"text-align: right;\">\n",
       "      <th></th>\n",
       "      <th>train_rmse_err</th>\n",
       "      <th>test_rmse_err</th>\n",
       "      <th>train_r2_err</th>\n",
       "      <th>test_r2_err</th>\n",
       "    </tr>\n",
       "  </thead>\n",
       "  <tbody>\n",
       "    <tr>\n",
       "      <th>1</th>\n",
       "      <td>0.000000</td>\n",
       "      <td>2026.578199</td>\n",
       "      <td>1.000000</td>\n",
       "      <td>1.096387</td>\n",
       "    </tr>\n",
       "    <tr>\n",
       "      <th>2</th>\n",
       "      <td>882.574040</td>\n",
       "      <td>1714.307178</td>\n",
       "      <td>0.742488</td>\n",
       "      <td>0.732466</td>\n",
       "    </tr>\n",
       "    <tr>\n",
       "      <th>3</th>\n",
       "      <td>1012.346238</td>\n",
       "      <td>1592.008311</td>\n",
       "      <td>0.616704</td>\n",
       "      <td>0.631154</td>\n",
       "    </tr>\n",
       "    <tr>\n",
       "      <th>4</th>\n",
       "      <td>1086.578248</td>\n",
       "      <td>1527.627324</td>\n",
       "      <td>0.522254</td>\n",
       "      <td>0.533778</td>\n",
       "    </tr>\n",
       "    <tr>\n",
       "      <th>5</th>\n",
       "      <td>1133.639676</td>\n",
       "      <td>1452.506661</td>\n",
       "      <td>0.469748</td>\n",
       "      <td>0.461680</td>\n",
       "    </tr>\n",
       "    <tr>\n",
       "      <th>6</th>\n",
       "      <td>1178.082975</td>\n",
       "      <td>1427.952159</td>\n",
       "      <td>0.436228</td>\n",
       "      <td>0.421373</td>\n",
       "    </tr>\n",
       "    <tr>\n",
       "      <th>7</th>\n",
       "      <td>1210.244199</td>\n",
       "      <td>1418.709481</td>\n",
       "      <td>0.407694</td>\n",
       "      <td>0.388674</td>\n",
       "    </tr>\n",
       "    <tr>\n",
       "      <th>8</th>\n",
       "      <td>1216.044152</td>\n",
       "      <td>1401.111948</td>\n",
       "      <td>0.388287</td>\n",
       "      <td>0.366430</td>\n",
       "    </tr>\n",
       "    <tr>\n",
       "      <th>9</th>\n",
       "      <td>1239.693887</td>\n",
       "      <td>1403.126365</td>\n",
       "      <td>0.362091</td>\n",
       "      <td>0.358780</td>\n",
       "    </tr>\n",
       "    <tr>\n",
       "      <th>10</th>\n",
       "      <td>1251.766633</td>\n",
       "      <td>1376.575739</td>\n",
       "      <td>0.344443</td>\n",
       "      <td>0.357184</td>\n",
       "    </tr>\n",
       "    <tr>\n",
       "      <th>11</th>\n",
       "      <td>1261.456608</td>\n",
       "      <td>1385.384728</td>\n",
       "      <td>0.333730</td>\n",
       "      <td>0.336063</td>\n",
       "    </tr>\n",
       "    <tr>\n",
       "      <th>12</th>\n",
       "      <td>1264.167842</td>\n",
       "      <td>1398.238780</td>\n",
       "      <td>0.326068</td>\n",
       "      <td>0.329826</td>\n",
       "    </tr>\n",
       "    <tr>\n",
       "      <th>13</th>\n",
       "      <td>1267.578301</td>\n",
       "      <td>1389.632613</td>\n",
       "      <td>0.317805</td>\n",
       "      <td>0.325129</td>\n",
       "    </tr>\n",
       "    <tr>\n",
       "      <th>14</th>\n",
       "      <td>1265.928559</td>\n",
       "      <td>1399.009328</td>\n",
       "      <td>0.312278</td>\n",
       "      <td>0.318173</td>\n",
       "    </tr>\n",
       "    <tr>\n",
       "      <th>15</th>\n",
       "      <td>1278.425826</td>\n",
       "      <td>1405.736141</td>\n",
       "      <td>0.306673</td>\n",
       "      <td>0.310449</td>\n",
       "    </tr>\n",
       "    <tr>\n",
       "      <th>16</th>\n",
       "      <td>1284.451984</td>\n",
       "      <td>1409.420725</td>\n",
       "      <td>0.301922</td>\n",
       "      <td>0.307462</td>\n",
       "    </tr>\n",
       "    <tr>\n",
       "      <th>17</th>\n",
       "      <td>1288.358251</td>\n",
       "      <td>1411.138272</td>\n",
       "      <td>0.299090</td>\n",
       "      <td>0.296180</td>\n",
       "    </tr>\n",
       "    <tr>\n",
       "      <th>18</th>\n",
       "      <td>1292.307126</td>\n",
       "      <td>1402.439637</td>\n",
       "      <td>0.299836</td>\n",
       "      <td>0.290318</td>\n",
       "    </tr>\n",
       "    <tr>\n",
       "      <th>19</th>\n",
       "      <td>1298.116155</td>\n",
       "      <td>1392.388577</td>\n",
       "      <td>0.296824</td>\n",
       "      <td>0.284609</td>\n",
       "    </tr>\n",
       "    <tr>\n",
       "      <th>20</th>\n",
       "      <td>1300.684734</td>\n",
       "      <td>1395.818441</td>\n",
       "      <td>0.293779</td>\n",
       "      <td>0.283105</td>\n",
       "    </tr>\n",
       "    <tr>\n",
       "      <th>21</th>\n",
       "      <td>1307.227639</td>\n",
       "      <td>1391.895268</td>\n",
       "      <td>0.289177</td>\n",
       "      <td>0.278359</td>\n",
       "    </tr>\n",
       "    <tr>\n",
       "      <th>22</th>\n",
       "      <td>1308.915736</td>\n",
       "      <td>1385.298526</td>\n",
       "      <td>0.287230</td>\n",
       "      <td>0.273821</td>\n",
       "    </tr>\n",
       "    <tr>\n",
       "      <th>23</th>\n",
       "      <td>1311.781858</td>\n",
       "      <td>1381.307326</td>\n",
       "      <td>0.286367</td>\n",
       "      <td>0.271517</td>\n",
       "    </tr>\n",
       "    <tr>\n",
       "      <th>24</th>\n",
       "      <td>1306.085245</td>\n",
       "      <td>1379.443483</td>\n",
       "      <td>0.283514</td>\n",
       "      <td>0.270932</td>\n",
       "    </tr>\n",
       "    <tr>\n",
       "      <th>25</th>\n",
       "      <td>1311.311377</td>\n",
       "      <td>1379.412634</td>\n",
       "      <td>0.280082</td>\n",
       "      <td>0.271667</td>\n",
       "    </tr>\n",
       "    <tr>\n",
       "      <th>26</th>\n",
       "      <td>1311.737611</td>\n",
       "      <td>1376.154275</td>\n",
       "      <td>0.277428</td>\n",
       "      <td>0.266090</td>\n",
       "    </tr>\n",
       "    <tr>\n",
       "      <th>27</th>\n",
       "      <td>1314.406833</td>\n",
       "      <td>1377.651194</td>\n",
       "      <td>0.276528</td>\n",
       "      <td>0.261980</td>\n",
       "    </tr>\n",
       "    <tr>\n",
       "      <th>28</th>\n",
       "      <td>1316.029013</td>\n",
       "      <td>1377.760443</td>\n",
       "      <td>0.273890</td>\n",
       "      <td>0.259862</td>\n",
       "    </tr>\n",
       "    <tr>\n",
       "      <th>29</th>\n",
       "      <td>1319.456996</td>\n",
       "      <td>1382.818998</td>\n",
       "      <td>0.270567</td>\n",
       "      <td>0.256745</td>\n",
       "    </tr>\n",
       "    <tr>\n",
       "      <th>30</th>\n",
       "      <td>1321.071457</td>\n",
       "      <td>1377.928212</td>\n",
       "      <td>0.267202</td>\n",
       "      <td>0.256509</td>\n",
       "    </tr>\n",
       "    <tr>\n",
       "      <th>31</th>\n",
       "      <td>1322.922492</td>\n",
       "      <td>1379.177889</td>\n",
       "      <td>0.265341</td>\n",
       "      <td>0.254380</td>\n",
       "    </tr>\n",
       "    <tr>\n",
       "      <th>32</th>\n",
       "      <td>1321.236067</td>\n",
       "      <td>1378.489169</td>\n",
       "      <td>0.262757</td>\n",
       "      <td>0.250871</td>\n",
       "    </tr>\n",
       "    <tr>\n",
       "      <th>33</th>\n",
       "      <td>1321.740697</td>\n",
       "      <td>1377.729092</td>\n",
       "      <td>0.261323</td>\n",
       "      <td>0.250361</td>\n",
       "    </tr>\n",
       "    <tr>\n",
       "      <th>34</th>\n",
       "      <td>1322.908894</td>\n",
       "      <td>1373.677632</td>\n",
       "      <td>0.257718</td>\n",
       "      <td>0.248055</td>\n",
       "    </tr>\n",
       "    <tr>\n",
       "      <th>35</th>\n",
       "      <td>1323.138097</td>\n",
       "      <td>1372.117482</td>\n",
       "      <td>0.254104</td>\n",
       "      <td>0.244063</td>\n",
       "    </tr>\n",
       "    <tr>\n",
       "      <th>36</th>\n",
       "      <td>1324.279174</td>\n",
       "      <td>1370.146316</td>\n",
       "      <td>0.251103</td>\n",
       "      <td>0.241691</td>\n",
       "    </tr>\n",
       "    <tr>\n",
       "      <th>37</th>\n",
       "      <td>1325.202342</td>\n",
       "      <td>1369.840879</td>\n",
       "      <td>0.247770</td>\n",
       "      <td>0.242214</td>\n",
       "    </tr>\n",
       "    <tr>\n",
       "      <th>38</th>\n",
       "      <td>1326.788595</td>\n",
       "      <td>1368.137103</td>\n",
       "      <td>0.246902</td>\n",
       "      <td>0.240246</td>\n",
       "    </tr>\n",
       "    <tr>\n",
       "      <th>39</th>\n",
       "      <td>1328.069774</td>\n",
       "      <td>1367.045804</td>\n",
       "      <td>0.244878</td>\n",
       "      <td>0.237547</td>\n",
       "    </tr>\n",
       "    <tr>\n",
       "      <th>40</th>\n",
       "      <td>1330.374731</td>\n",
       "      <td>1367.835875</td>\n",
       "      <td>0.243118</td>\n",
       "      <td>0.235983</td>\n",
       "    </tr>\n",
       "    <tr>\n",
       "      <th>41</th>\n",
       "      <td>1331.921127</td>\n",
       "      <td>1368.256845</td>\n",
       "      <td>0.240260</td>\n",
       "      <td>0.233659</td>\n",
       "    </tr>\n",
       "    <tr>\n",
       "      <th>42</th>\n",
       "      <td>1333.524530</td>\n",
       "      <td>1372.312132</td>\n",
       "      <td>0.238640</td>\n",
       "      <td>0.231354</td>\n",
       "    </tr>\n",
       "    <tr>\n",
       "      <th>43</th>\n",
       "      <td>1335.731954</td>\n",
       "      <td>1369.799039</td>\n",
       "      <td>0.236415</td>\n",
       "      <td>0.228773</td>\n",
       "    </tr>\n",
       "    <tr>\n",
       "      <th>44</th>\n",
       "      <td>1335.927652</td>\n",
       "      <td>1373.635866</td>\n",
       "      <td>0.235455</td>\n",
       "      <td>0.226080</td>\n",
       "    </tr>\n",
       "    <tr>\n",
       "      <th>45</th>\n",
       "      <td>1336.687430</td>\n",
       "      <td>1371.743755</td>\n",
       "      <td>0.233472</td>\n",
       "      <td>0.223601</td>\n",
       "    </tr>\n",
       "    <tr>\n",
       "      <th>46</th>\n",
       "      <td>1337.591808</td>\n",
       "      <td>1371.151083</td>\n",
       "      <td>0.231765</td>\n",
       "      <td>0.222451</td>\n",
       "    </tr>\n",
       "    <tr>\n",
       "      <th>47</th>\n",
       "      <td>1339.391471</td>\n",
       "      <td>1371.137860</td>\n",
       "      <td>0.229569</td>\n",
       "      <td>0.220612</td>\n",
       "    </tr>\n",
       "    <tr>\n",
       "      <th>48</th>\n",
       "      <td>1340.726784</td>\n",
       "      <td>1368.663466</td>\n",
       "      <td>0.227469</td>\n",
       "      <td>0.220183</td>\n",
       "    </tr>\n",
       "    <tr>\n",
       "      <th>49</th>\n",
       "      <td>1341.525422</td>\n",
       "      <td>1370.375983</td>\n",
       "      <td>0.225904</td>\n",
       "      <td>0.218818</td>\n",
       "    </tr>\n",
       "    <tr>\n",
       "      <th>50</th>\n",
       "      <td>1342.888606</td>\n",
       "      <td>1371.364874</td>\n",
       "      <td>0.224207</td>\n",
       "      <td>0.216464</td>\n",
       "    </tr>\n",
       "  </tbody>\n",
       "</table>\n",
       "</div>"
      ],
      "text/plain": [
       "    train_rmse_err  test_rmse_err  train_r2_err  test_r2_err\n",
       "1         0.000000    2026.578199      1.000000     1.096387\n",
       "2       882.574040    1714.307178      0.742488     0.732466\n",
       "3      1012.346238    1592.008311      0.616704     0.631154\n",
       "4      1086.578248    1527.627324      0.522254     0.533778\n",
       "5      1133.639676    1452.506661      0.469748     0.461680\n",
       "6      1178.082975    1427.952159      0.436228     0.421373\n",
       "7      1210.244199    1418.709481      0.407694     0.388674\n",
       "8      1216.044152    1401.111948      0.388287     0.366430\n",
       "9      1239.693887    1403.126365      0.362091     0.358780\n",
       "10     1251.766633    1376.575739      0.344443     0.357184\n",
       "11     1261.456608    1385.384728      0.333730     0.336063\n",
       "12     1264.167842    1398.238780      0.326068     0.329826\n",
       "13     1267.578301    1389.632613      0.317805     0.325129\n",
       "14     1265.928559    1399.009328      0.312278     0.318173\n",
       "15     1278.425826    1405.736141      0.306673     0.310449\n",
       "16     1284.451984    1409.420725      0.301922     0.307462\n",
       "17     1288.358251    1411.138272      0.299090     0.296180\n",
       "18     1292.307126    1402.439637      0.299836     0.290318\n",
       "19     1298.116155    1392.388577      0.296824     0.284609\n",
       "20     1300.684734    1395.818441      0.293779     0.283105\n",
       "21     1307.227639    1391.895268      0.289177     0.278359\n",
       "22     1308.915736    1385.298526      0.287230     0.273821\n",
       "23     1311.781858    1381.307326      0.286367     0.271517\n",
       "24     1306.085245    1379.443483      0.283514     0.270932\n",
       "25     1311.311377    1379.412634      0.280082     0.271667\n",
       "26     1311.737611    1376.154275      0.277428     0.266090\n",
       "27     1314.406833    1377.651194      0.276528     0.261980\n",
       "28     1316.029013    1377.760443      0.273890     0.259862\n",
       "29     1319.456996    1382.818998      0.270567     0.256745\n",
       "30     1321.071457    1377.928212      0.267202     0.256509\n",
       "31     1322.922492    1379.177889      0.265341     0.254380\n",
       "32     1321.236067    1378.489169      0.262757     0.250871\n",
       "33     1321.740697    1377.729092      0.261323     0.250361\n",
       "34     1322.908894    1373.677632      0.257718     0.248055\n",
       "35     1323.138097    1372.117482      0.254104     0.244063\n",
       "36     1324.279174    1370.146316      0.251103     0.241691\n",
       "37     1325.202342    1369.840879      0.247770     0.242214\n",
       "38     1326.788595    1368.137103      0.246902     0.240246\n",
       "39     1328.069774    1367.045804      0.244878     0.237547\n",
       "40     1330.374731    1367.835875      0.243118     0.235983\n",
       "41     1331.921127    1368.256845      0.240260     0.233659\n",
       "42     1333.524530    1372.312132      0.238640     0.231354\n",
       "43     1335.731954    1369.799039      0.236415     0.228773\n",
       "44     1335.927652    1373.635866      0.235455     0.226080\n",
       "45     1336.687430    1371.743755      0.233472     0.223601\n",
       "46     1337.591808    1371.151083      0.231765     0.222451\n",
       "47     1339.391471    1371.137860      0.229569     0.220612\n",
       "48     1340.726784    1368.663466      0.227469     0.220183\n",
       "49     1341.525422    1370.375983      0.225904     0.218818\n",
       "50     1342.888606    1371.364874      0.224207     0.216464"
      ]
     },
     "execution_count": 285,
     "metadata": {},
     "output_type": "execute_result"
    }
   ],
   "source": [
    "knn_final"
   ]
  },
  {
   "cell_type": "markdown",
   "metadata": {},
   "source": [
    "We can graph the output of our rmse and r-squared scores below, like we did for our baseline."
   ]
  },
  {
   "cell_type": "code",
   "execution_count": 286,
   "metadata": {},
   "outputs": [
    {
     "data": {
      "application/vnd.plotly.v1+json": {
       "config": {
        "plotlyServerURL": "https://plot.ly"
       },
       "data": [
        {
         "hovertemplate": "variable=Train<br>Number of Neighbors=%{x}<br>RMSE=%{y}<extra></extra>",
         "legendgroup": "Train",
         "line": {
          "color": "#636efa",
          "dash": "solid",
          "shape": "linear"
         },
         "marker": {
          "symbol": "circle"
         },
         "mode": "lines",
         "name": "Train",
         "orientation": "v",
         "showlegend": true,
         "type": "scatter",
         "x": [
          1,
          2,
          3,
          4,
          5,
          6,
          7,
          8,
          9,
          10,
          11,
          12,
          13,
          14,
          15,
          16,
          17,
          18,
          19,
          20,
          21,
          22,
          23,
          24,
          25,
          26,
          27,
          28,
          29,
          30,
          31,
          32,
          33,
          34,
          35,
          36,
          37,
          38,
          39,
          40,
          41,
          42,
          43,
          44,
          45,
          46,
          47,
          48,
          49,
          50
         ],
         "xaxis": "x",
         "y": [
          0,
          882.574039506753,
          1012.3462379945105,
          1086.578247648512,
          1133.6396762665083,
          1178.082974988275,
          1210.2441989603499,
          1216.044152117938,
          1239.6938873348874,
          1251.7666326327644,
          1261.4566076851772,
          1264.167841592335,
          1267.5783005799801,
          1265.9285593528823,
          1278.4258260850538,
          1284.4519836226268,
          1288.3582514312782,
          1292.3071256058117,
          1298.116155094712,
          1300.684733633601,
          1307.227638990035,
          1308.9157363029126,
          1311.7818583950254,
          1306.0852446634542,
          1311.3113765843095,
          1311.7376105483645,
          1314.4068330222458,
          1316.0290133709839,
          1319.4569964582881,
          1321.0714570263185,
          1322.9224923786937,
          1321.2360673111173,
          1321.740697097871,
          1322.908893948556,
          1323.1380966302918,
          1324.279173963417,
          1325.2023416000407,
          1326.7885948763158,
          1328.0697737124328,
          1330.3747307143349,
          1331.9211274940074,
          1333.5245299783642,
          1335.7319538652107,
          1335.9276516746568,
          1336.687429987758,
          1337.5918084371988,
          1339.3914713849902,
          1340.7267844571968,
          1341.5254220590057,
          1342.8886058273206
         ],
         "yaxis": "y"
        },
        {
         "hovertemplate": "variable=Test<br>Number of Neighbors=%{x}<br>RMSE=%{y}<extra></extra>",
         "legendgroup": "Test",
         "line": {
          "color": "#EF553B",
          "dash": "solid",
          "shape": "linear"
         },
         "marker": {
          "symbol": "circle"
         },
         "mode": "lines",
         "name": "Test",
         "orientation": "v",
         "showlegend": true,
         "type": "scatter",
         "x": [
          1,
          2,
          3,
          4,
          5,
          6,
          7,
          8,
          9,
          10,
          11,
          12,
          13,
          14,
          15,
          16,
          17,
          18,
          19,
          20,
          21,
          22,
          23,
          24,
          25,
          26,
          27,
          28,
          29,
          30,
          31,
          32,
          33,
          34,
          35,
          36,
          37,
          38,
          39,
          40,
          41,
          42,
          43,
          44,
          45,
          46,
          47,
          48,
          49,
          50
         ],
         "xaxis": "x",
         "y": [
          2026.5781994539152,
          1714.30717762335,
          1592.0083112757409,
          1527.6273237941973,
          1452.5066606047367,
          1427.9521586360338,
          1418.709481179852,
          1401.1119475431722,
          1403.1263651629322,
          1376.5757387424717,
          1385.3847276793283,
          1398.2387804806117,
          1389.6326132680413,
          1399.0093282229352,
          1405.7361409101663,
          1409.4207245296254,
          1411.1382717545964,
          1402.439637498403,
          1392.3885770783465,
          1395.8184408417908,
          1391.8952682076008,
          1385.2985264910862,
          1381.307326284079,
          1379.4434825576193,
          1379.4126337453667,
          1376.154274952229,
          1377.6511938689628,
          1377.7604432795868,
          1382.8189982254519,
          1377.9282118167537,
          1379.177889180961,
          1378.489169413294,
          1377.729092203971,
          1373.677632153665,
          1372.1174823176268,
          1370.1463156344673,
          1369.840879174571,
          1368.137103320691,
          1367.0458036229588,
          1367.8358748423066,
          1368.2568452141495,
          1372.3121319754434,
          1369.79903936814,
          1373.6358655411557,
          1371.7437546471851,
          1371.1510825981256,
          1371.1378600538874,
          1368.6634660563577,
          1370.37598340895,
          1371.3648744962982
         ],
         "yaxis": "y"
        }
       ],
       "layout": {
        "legend": {
         "title": {
          "text": "variable"
         },
         "tracegroupgap": 0
        },
        "template": {
         "data": {
          "bar": [
           {
            "error_x": {
             "color": "#2a3f5f"
            },
            "error_y": {
             "color": "#2a3f5f"
            },
            "marker": {
             "line": {
              "color": "#E5ECF6",
              "width": 0.5
             },
             "pattern": {
              "fillmode": "overlay",
              "size": 10,
              "solidity": 0.2
             }
            },
            "type": "bar"
           }
          ],
          "barpolar": [
           {
            "marker": {
             "line": {
              "color": "#E5ECF6",
              "width": 0.5
             },
             "pattern": {
              "fillmode": "overlay",
              "size": 10,
              "solidity": 0.2
             }
            },
            "type": "barpolar"
           }
          ],
          "carpet": [
           {
            "aaxis": {
             "endlinecolor": "#2a3f5f",
             "gridcolor": "white",
             "linecolor": "white",
             "minorgridcolor": "white",
             "startlinecolor": "#2a3f5f"
            },
            "baxis": {
             "endlinecolor": "#2a3f5f",
             "gridcolor": "white",
             "linecolor": "white",
             "minorgridcolor": "white",
             "startlinecolor": "#2a3f5f"
            },
            "type": "carpet"
           }
          ],
          "choropleth": [
           {
            "colorbar": {
             "outlinewidth": 0,
             "ticks": ""
            },
            "type": "choropleth"
           }
          ],
          "contour": [
           {
            "colorbar": {
             "outlinewidth": 0,
             "ticks": ""
            },
            "colorscale": [
             [
              0,
              "#0d0887"
             ],
             [
              0.1111111111111111,
              "#46039f"
             ],
             [
              0.2222222222222222,
              "#7201a8"
             ],
             [
              0.3333333333333333,
              "#9c179e"
             ],
             [
              0.4444444444444444,
              "#bd3786"
             ],
             [
              0.5555555555555556,
              "#d8576b"
             ],
             [
              0.6666666666666666,
              "#ed7953"
             ],
             [
              0.7777777777777778,
              "#fb9f3a"
             ],
             [
              0.8888888888888888,
              "#fdca26"
             ],
             [
              1,
              "#f0f921"
             ]
            ],
            "type": "contour"
           }
          ],
          "contourcarpet": [
           {
            "colorbar": {
             "outlinewidth": 0,
             "ticks": ""
            },
            "type": "contourcarpet"
           }
          ],
          "heatmap": [
           {
            "colorbar": {
             "outlinewidth": 0,
             "ticks": ""
            },
            "colorscale": [
             [
              0,
              "#0d0887"
             ],
             [
              0.1111111111111111,
              "#46039f"
             ],
             [
              0.2222222222222222,
              "#7201a8"
             ],
             [
              0.3333333333333333,
              "#9c179e"
             ],
             [
              0.4444444444444444,
              "#bd3786"
             ],
             [
              0.5555555555555556,
              "#d8576b"
             ],
             [
              0.6666666666666666,
              "#ed7953"
             ],
             [
              0.7777777777777778,
              "#fb9f3a"
             ],
             [
              0.8888888888888888,
              "#fdca26"
             ],
             [
              1,
              "#f0f921"
             ]
            ],
            "type": "heatmap"
           }
          ],
          "heatmapgl": [
           {
            "colorbar": {
             "outlinewidth": 0,
             "ticks": ""
            },
            "colorscale": [
             [
              0,
              "#0d0887"
             ],
             [
              0.1111111111111111,
              "#46039f"
             ],
             [
              0.2222222222222222,
              "#7201a8"
             ],
             [
              0.3333333333333333,
              "#9c179e"
             ],
             [
              0.4444444444444444,
              "#bd3786"
             ],
             [
              0.5555555555555556,
              "#d8576b"
             ],
             [
              0.6666666666666666,
              "#ed7953"
             ],
             [
              0.7777777777777778,
              "#fb9f3a"
             ],
             [
              0.8888888888888888,
              "#fdca26"
             ],
             [
              1,
              "#f0f921"
             ]
            ],
            "type": "heatmapgl"
           }
          ],
          "histogram": [
           {
            "marker": {
             "pattern": {
              "fillmode": "overlay",
              "size": 10,
              "solidity": 0.2
             }
            },
            "type": "histogram"
           }
          ],
          "histogram2d": [
           {
            "colorbar": {
             "outlinewidth": 0,
             "ticks": ""
            },
            "colorscale": [
             [
              0,
              "#0d0887"
             ],
             [
              0.1111111111111111,
              "#46039f"
             ],
             [
              0.2222222222222222,
              "#7201a8"
             ],
             [
              0.3333333333333333,
              "#9c179e"
             ],
             [
              0.4444444444444444,
              "#bd3786"
             ],
             [
              0.5555555555555556,
              "#d8576b"
             ],
             [
              0.6666666666666666,
              "#ed7953"
             ],
             [
              0.7777777777777778,
              "#fb9f3a"
             ],
             [
              0.8888888888888888,
              "#fdca26"
             ],
             [
              1,
              "#f0f921"
             ]
            ],
            "type": "histogram2d"
           }
          ],
          "histogram2dcontour": [
           {
            "colorbar": {
             "outlinewidth": 0,
             "ticks": ""
            },
            "colorscale": [
             [
              0,
              "#0d0887"
             ],
             [
              0.1111111111111111,
              "#46039f"
             ],
             [
              0.2222222222222222,
              "#7201a8"
             ],
             [
              0.3333333333333333,
              "#9c179e"
             ],
             [
              0.4444444444444444,
              "#bd3786"
             ],
             [
              0.5555555555555556,
              "#d8576b"
             ],
             [
              0.6666666666666666,
              "#ed7953"
             ],
             [
              0.7777777777777778,
              "#fb9f3a"
             ],
             [
              0.8888888888888888,
              "#fdca26"
             ],
             [
              1,
              "#f0f921"
             ]
            ],
            "type": "histogram2dcontour"
           }
          ],
          "mesh3d": [
           {
            "colorbar": {
             "outlinewidth": 0,
             "ticks": ""
            },
            "type": "mesh3d"
           }
          ],
          "parcoords": [
           {
            "line": {
             "colorbar": {
              "outlinewidth": 0,
              "ticks": ""
             }
            },
            "type": "parcoords"
           }
          ],
          "pie": [
           {
            "automargin": true,
            "type": "pie"
           }
          ],
          "scatter": [
           {
            "fillpattern": {
             "fillmode": "overlay",
             "size": 10,
             "solidity": 0.2
            },
            "type": "scatter"
           }
          ],
          "scatter3d": [
           {
            "line": {
             "colorbar": {
              "outlinewidth": 0,
              "ticks": ""
             }
            },
            "marker": {
             "colorbar": {
              "outlinewidth": 0,
              "ticks": ""
             }
            },
            "type": "scatter3d"
           }
          ],
          "scattercarpet": [
           {
            "marker": {
             "colorbar": {
              "outlinewidth": 0,
              "ticks": ""
             }
            },
            "type": "scattercarpet"
           }
          ],
          "scattergeo": [
           {
            "marker": {
             "colorbar": {
              "outlinewidth": 0,
              "ticks": ""
             }
            },
            "type": "scattergeo"
           }
          ],
          "scattergl": [
           {
            "marker": {
             "colorbar": {
              "outlinewidth": 0,
              "ticks": ""
             }
            },
            "type": "scattergl"
           }
          ],
          "scattermapbox": [
           {
            "marker": {
             "colorbar": {
              "outlinewidth": 0,
              "ticks": ""
             }
            },
            "type": "scattermapbox"
           }
          ],
          "scatterpolar": [
           {
            "marker": {
             "colorbar": {
              "outlinewidth": 0,
              "ticks": ""
             }
            },
            "type": "scatterpolar"
           }
          ],
          "scatterpolargl": [
           {
            "marker": {
             "colorbar": {
              "outlinewidth": 0,
              "ticks": ""
             }
            },
            "type": "scatterpolargl"
           }
          ],
          "scatterternary": [
           {
            "marker": {
             "colorbar": {
              "outlinewidth": 0,
              "ticks": ""
             }
            },
            "type": "scatterternary"
           }
          ],
          "surface": [
           {
            "colorbar": {
             "outlinewidth": 0,
             "ticks": ""
            },
            "colorscale": [
             [
              0,
              "#0d0887"
             ],
             [
              0.1111111111111111,
              "#46039f"
             ],
             [
              0.2222222222222222,
              "#7201a8"
             ],
             [
              0.3333333333333333,
              "#9c179e"
             ],
             [
              0.4444444444444444,
              "#bd3786"
             ],
             [
              0.5555555555555556,
              "#d8576b"
             ],
             [
              0.6666666666666666,
              "#ed7953"
             ],
             [
              0.7777777777777778,
              "#fb9f3a"
             ],
             [
              0.8888888888888888,
              "#fdca26"
             ],
             [
              1,
              "#f0f921"
             ]
            ],
            "type": "surface"
           }
          ],
          "table": [
           {
            "cells": {
             "fill": {
              "color": "#EBF0F8"
             },
             "line": {
              "color": "white"
             }
            },
            "header": {
             "fill": {
              "color": "#C8D4E3"
             },
             "line": {
              "color": "white"
             }
            },
            "type": "table"
           }
          ]
         },
         "layout": {
          "annotationdefaults": {
           "arrowcolor": "#2a3f5f",
           "arrowhead": 0,
           "arrowwidth": 1
          },
          "autotypenumbers": "strict",
          "coloraxis": {
           "colorbar": {
            "outlinewidth": 0,
            "ticks": ""
           }
          },
          "colorscale": {
           "diverging": [
            [
             0,
             "#8e0152"
            ],
            [
             0.1,
             "#c51b7d"
            ],
            [
             0.2,
             "#de77ae"
            ],
            [
             0.3,
             "#f1b6da"
            ],
            [
             0.4,
             "#fde0ef"
            ],
            [
             0.5,
             "#f7f7f7"
            ],
            [
             0.6,
             "#e6f5d0"
            ],
            [
             0.7,
             "#b8e186"
            ],
            [
             0.8,
             "#7fbc41"
            ],
            [
             0.9,
             "#4d9221"
            ],
            [
             1,
             "#276419"
            ]
           ],
           "sequential": [
            [
             0,
             "#0d0887"
            ],
            [
             0.1111111111111111,
             "#46039f"
            ],
            [
             0.2222222222222222,
             "#7201a8"
            ],
            [
             0.3333333333333333,
             "#9c179e"
            ],
            [
             0.4444444444444444,
             "#bd3786"
            ],
            [
             0.5555555555555556,
             "#d8576b"
            ],
            [
             0.6666666666666666,
             "#ed7953"
            ],
            [
             0.7777777777777778,
             "#fb9f3a"
            ],
            [
             0.8888888888888888,
             "#fdca26"
            ],
            [
             1,
             "#f0f921"
            ]
           ],
           "sequentialminus": [
            [
             0,
             "#0d0887"
            ],
            [
             0.1111111111111111,
             "#46039f"
            ],
            [
             0.2222222222222222,
             "#7201a8"
            ],
            [
             0.3333333333333333,
             "#9c179e"
            ],
            [
             0.4444444444444444,
             "#bd3786"
            ],
            [
             0.5555555555555556,
             "#d8576b"
            ],
            [
             0.6666666666666666,
             "#ed7953"
            ],
            [
             0.7777777777777778,
             "#fb9f3a"
            ],
            [
             0.8888888888888888,
             "#fdca26"
            ],
            [
             1,
             "#f0f921"
            ]
           ]
          },
          "colorway": [
           "#636efa",
           "#EF553B",
           "#00cc96",
           "#ab63fa",
           "#FFA15A",
           "#19d3f3",
           "#FF6692",
           "#B6E880",
           "#FF97FF",
           "#FECB52"
          ],
          "font": {
           "color": "#2a3f5f"
          },
          "geo": {
           "bgcolor": "white",
           "lakecolor": "white",
           "landcolor": "#E5ECF6",
           "showlakes": true,
           "showland": true,
           "subunitcolor": "white"
          },
          "hoverlabel": {
           "align": "left"
          },
          "hovermode": "closest",
          "mapbox": {
           "style": "light"
          },
          "paper_bgcolor": "white",
          "plot_bgcolor": "#E5ECF6",
          "polar": {
           "angularaxis": {
            "gridcolor": "white",
            "linecolor": "white",
            "ticks": ""
           },
           "bgcolor": "#E5ECF6",
           "radialaxis": {
            "gridcolor": "white",
            "linecolor": "white",
            "ticks": ""
           }
          },
          "scene": {
           "xaxis": {
            "backgroundcolor": "#E5ECF6",
            "gridcolor": "white",
            "gridwidth": 2,
            "linecolor": "white",
            "showbackground": true,
            "ticks": "",
            "zerolinecolor": "white"
           },
           "yaxis": {
            "backgroundcolor": "#E5ECF6",
            "gridcolor": "white",
            "gridwidth": 2,
            "linecolor": "white",
            "showbackground": true,
            "ticks": "",
            "zerolinecolor": "white"
           },
           "zaxis": {
            "backgroundcolor": "#E5ECF6",
            "gridcolor": "white",
            "gridwidth": 2,
            "linecolor": "white",
            "showbackground": true,
            "ticks": "",
            "zerolinecolor": "white"
           }
          },
          "shapedefaults": {
           "line": {
            "color": "#2a3f5f"
           }
          },
          "ternary": {
           "aaxis": {
            "gridcolor": "white",
            "linecolor": "white",
            "ticks": ""
           },
           "baxis": {
            "gridcolor": "white",
            "linecolor": "white",
            "ticks": ""
           },
           "bgcolor": "#E5ECF6",
           "caxis": {
            "gridcolor": "white",
            "linecolor": "white",
            "ticks": ""
           }
          },
          "title": {
           "x": 0.05
          },
          "xaxis": {
           "automargin": true,
           "gridcolor": "white",
           "linecolor": "white",
           "ticks": "",
           "title": {
            "standoff": 15
           },
           "zerolinecolor": "white",
           "zerolinewidth": 2
          },
          "yaxis": {
           "automargin": true,
           "gridcolor": "white",
           "linecolor": "white",
           "ticks": "",
           "title": {
            "standoff": 15
           },
           "zerolinecolor": "white",
           "zerolinewidth": 2
          }
         }
        },
        "title": {
         "text": "Average RMSE"
        },
        "xaxis": {
         "anchor": "y",
         "domain": [
          0,
          1
         ],
         "title": {
          "text": "Number of Neighbors"
         }
        },
        "yaxis": {
         "anchor": "x",
         "domain": [
          0,
          1
         ],
         "title": {
          "text": "RMSE"
         }
        }
       }
      },
      "text/html": [
       "<div>                            <div id=\"6510381c-a61c-4eb0-9a49-0599ffe65f6e\" class=\"plotly-graph-div\" style=\"height:525px; width:100%;\"></div>            <script type=\"text/javascript\">                require([\"plotly\"], function(Plotly) {                    window.PLOTLYENV=window.PLOTLYENV || {};                                    if (document.getElementById(\"6510381c-a61c-4eb0-9a49-0599ffe65f6e\")) {                    Plotly.newPlot(                        \"6510381c-a61c-4eb0-9a49-0599ffe65f6e\",                        [{\"hovertemplate\":\"variable=Train\\u003cbr\\u003eNumber of Neighbors=%{x}\\u003cbr\\u003eRMSE=%{y}\\u003cextra\\u003e\\u003c\\u002fextra\\u003e\",\"legendgroup\":\"Train\",\"line\":{\"color\":\"#636efa\",\"dash\":\"solid\",\"shape\":\"linear\"},\"marker\":{\"symbol\":\"circle\"},\"mode\":\"lines\",\"name\":\"Train\",\"orientation\":\"v\",\"showlegend\":true,\"x\":[1,2,3,4,5,6,7,8,9,10,11,12,13,14,15,16,17,18,19,20,21,22,23,24,25,26,27,28,29,30,31,32,33,34,35,36,37,38,39,40,41,42,43,44,45,46,47,48,49,50],\"xaxis\":\"x\",\"y\":[0.0,882.574039506753,1012.3462379945105,1086.578247648512,1133.6396762665083,1178.082974988275,1210.2441989603499,1216.044152117938,1239.6938873348874,1251.7666326327644,1261.4566076851772,1264.167841592335,1267.5783005799801,1265.9285593528823,1278.4258260850538,1284.4519836226268,1288.3582514312782,1292.3071256058117,1298.116155094712,1300.684733633601,1307.227638990035,1308.9157363029126,1311.7818583950254,1306.0852446634542,1311.3113765843095,1311.7376105483645,1314.4068330222458,1316.0290133709839,1319.4569964582881,1321.0714570263185,1322.9224923786937,1321.2360673111173,1321.740697097871,1322.908893948556,1323.1380966302918,1324.279173963417,1325.2023416000407,1326.7885948763158,1328.0697737124328,1330.3747307143349,1331.9211274940074,1333.5245299783642,1335.7319538652107,1335.9276516746568,1336.687429987758,1337.5918084371988,1339.3914713849902,1340.7267844571968,1341.5254220590057,1342.8886058273206],\"yaxis\":\"y\",\"type\":\"scatter\"},{\"hovertemplate\":\"variable=Test\\u003cbr\\u003eNumber of Neighbors=%{x}\\u003cbr\\u003eRMSE=%{y}\\u003cextra\\u003e\\u003c\\u002fextra\\u003e\",\"legendgroup\":\"Test\",\"line\":{\"color\":\"#EF553B\",\"dash\":\"solid\",\"shape\":\"linear\"},\"marker\":{\"symbol\":\"circle\"},\"mode\":\"lines\",\"name\":\"Test\",\"orientation\":\"v\",\"showlegend\":true,\"x\":[1,2,3,4,5,6,7,8,9,10,11,12,13,14,15,16,17,18,19,20,21,22,23,24,25,26,27,28,29,30,31,32,33,34,35,36,37,38,39,40,41,42,43,44,45,46,47,48,49,50],\"xaxis\":\"x\",\"y\":[2026.5781994539152,1714.30717762335,1592.0083112757409,1527.6273237941973,1452.5066606047367,1427.9521586360338,1418.709481179852,1401.1119475431722,1403.1263651629322,1376.5757387424717,1385.3847276793283,1398.2387804806117,1389.6326132680413,1399.0093282229352,1405.7361409101663,1409.4207245296254,1411.1382717545964,1402.439637498403,1392.3885770783465,1395.8184408417908,1391.8952682076008,1385.2985264910862,1381.307326284079,1379.4434825576193,1379.4126337453667,1376.154274952229,1377.6511938689628,1377.7604432795868,1382.8189982254519,1377.9282118167537,1379.177889180961,1378.489169413294,1377.729092203971,1373.677632153665,1372.1174823176268,1370.1463156344673,1369.840879174571,1368.137103320691,1367.0458036229588,1367.8358748423066,1368.2568452141495,1372.3121319754434,1369.79903936814,1373.6358655411557,1371.7437546471851,1371.1510825981256,1371.1378600538874,1368.6634660563577,1370.37598340895,1371.3648744962982],\"yaxis\":\"y\",\"type\":\"scatter\"}],                        {\"template\":{\"data\":{\"histogram2dcontour\":[{\"type\":\"histogram2dcontour\",\"colorbar\":{\"outlinewidth\":0,\"ticks\":\"\"},\"colorscale\":[[0.0,\"#0d0887\"],[0.1111111111111111,\"#46039f\"],[0.2222222222222222,\"#7201a8\"],[0.3333333333333333,\"#9c179e\"],[0.4444444444444444,\"#bd3786\"],[0.5555555555555556,\"#d8576b\"],[0.6666666666666666,\"#ed7953\"],[0.7777777777777778,\"#fb9f3a\"],[0.8888888888888888,\"#fdca26\"],[1.0,\"#f0f921\"]]}],\"choropleth\":[{\"type\":\"choropleth\",\"colorbar\":{\"outlinewidth\":0,\"ticks\":\"\"}}],\"histogram2d\":[{\"type\":\"histogram2d\",\"colorbar\":{\"outlinewidth\":0,\"ticks\":\"\"},\"colorscale\":[[0.0,\"#0d0887\"],[0.1111111111111111,\"#46039f\"],[0.2222222222222222,\"#7201a8\"],[0.3333333333333333,\"#9c179e\"],[0.4444444444444444,\"#bd3786\"],[0.5555555555555556,\"#d8576b\"],[0.6666666666666666,\"#ed7953\"],[0.7777777777777778,\"#fb9f3a\"],[0.8888888888888888,\"#fdca26\"],[1.0,\"#f0f921\"]]}],\"heatmap\":[{\"type\":\"heatmap\",\"colorbar\":{\"outlinewidth\":0,\"ticks\":\"\"},\"colorscale\":[[0.0,\"#0d0887\"],[0.1111111111111111,\"#46039f\"],[0.2222222222222222,\"#7201a8\"],[0.3333333333333333,\"#9c179e\"],[0.4444444444444444,\"#bd3786\"],[0.5555555555555556,\"#d8576b\"],[0.6666666666666666,\"#ed7953\"],[0.7777777777777778,\"#fb9f3a\"],[0.8888888888888888,\"#fdca26\"],[1.0,\"#f0f921\"]]}],\"heatmapgl\":[{\"type\":\"heatmapgl\",\"colorbar\":{\"outlinewidth\":0,\"ticks\":\"\"},\"colorscale\":[[0.0,\"#0d0887\"],[0.1111111111111111,\"#46039f\"],[0.2222222222222222,\"#7201a8\"],[0.3333333333333333,\"#9c179e\"],[0.4444444444444444,\"#bd3786\"],[0.5555555555555556,\"#d8576b\"],[0.6666666666666666,\"#ed7953\"],[0.7777777777777778,\"#fb9f3a\"],[0.8888888888888888,\"#fdca26\"],[1.0,\"#f0f921\"]]}],\"contourcarpet\":[{\"type\":\"contourcarpet\",\"colorbar\":{\"outlinewidth\":0,\"ticks\":\"\"}}],\"contour\":[{\"type\":\"contour\",\"colorbar\":{\"outlinewidth\":0,\"ticks\":\"\"},\"colorscale\":[[0.0,\"#0d0887\"],[0.1111111111111111,\"#46039f\"],[0.2222222222222222,\"#7201a8\"],[0.3333333333333333,\"#9c179e\"],[0.4444444444444444,\"#bd3786\"],[0.5555555555555556,\"#d8576b\"],[0.6666666666666666,\"#ed7953\"],[0.7777777777777778,\"#fb9f3a\"],[0.8888888888888888,\"#fdca26\"],[1.0,\"#f0f921\"]]}],\"surface\":[{\"type\":\"surface\",\"colorbar\":{\"outlinewidth\":0,\"ticks\":\"\"},\"colorscale\":[[0.0,\"#0d0887\"],[0.1111111111111111,\"#46039f\"],[0.2222222222222222,\"#7201a8\"],[0.3333333333333333,\"#9c179e\"],[0.4444444444444444,\"#bd3786\"],[0.5555555555555556,\"#d8576b\"],[0.6666666666666666,\"#ed7953\"],[0.7777777777777778,\"#fb9f3a\"],[0.8888888888888888,\"#fdca26\"],[1.0,\"#f0f921\"]]}],\"mesh3d\":[{\"type\":\"mesh3d\",\"colorbar\":{\"outlinewidth\":0,\"ticks\":\"\"}}],\"scatter\":[{\"fillpattern\":{\"fillmode\":\"overlay\",\"size\":10,\"solidity\":0.2},\"type\":\"scatter\"}],\"parcoords\":[{\"type\":\"parcoords\",\"line\":{\"colorbar\":{\"outlinewidth\":0,\"ticks\":\"\"}}}],\"scatterpolargl\":[{\"type\":\"scatterpolargl\",\"marker\":{\"colorbar\":{\"outlinewidth\":0,\"ticks\":\"\"}}}],\"bar\":[{\"error_x\":{\"color\":\"#2a3f5f\"},\"error_y\":{\"color\":\"#2a3f5f\"},\"marker\":{\"line\":{\"color\":\"#E5ECF6\",\"width\":0.5},\"pattern\":{\"fillmode\":\"overlay\",\"size\":10,\"solidity\":0.2}},\"type\":\"bar\"}],\"scattergeo\":[{\"type\":\"scattergeo\",\"marker\":{\"colorbar\":{\"outlinewidth\":0,\"ticks\":\"\"}}}],\"scatterpolar\":[{\"type\":\"scatterpolar\",\"marker\":{\"colorbar\":{\"outlinewidth\":0,\"ticks\":\"\"}}}],\"histogram\":[{\"marker\":{\"pattern\":{\"fillmode\":\"overlay\",\"size\":10,\"solidity\":0.2}},\"type\":\"histogram\"}],\"scattergl\":[{\"type\":\"scattergl\",\"marker\":{\"colorbar\":{\"outlinewidth\":0,\"ticks\":\"\"}}}],\"scatter3d\":[{\"type\":\"scatter3d\",\"line\":{\"colorbar\":{\"outlinewidth\":0,\"ticks\":\"\"}},\"marker\":{\"colorbar\":{\"outlinewidth\":0,\"ticks\":\"\"}}}],\"scattermapbox\":[{\"type\":\"scattermapbox\",\"marker\":{\"colorbar\":{\"outlinewidth\":0,\"ticks\":\"\"}}}],\"scatterternary\":[{\"type\":\"scatterternary\",\"marker\":{\"colorbar\":{\"outlinewidth\":0,\"ticks\":\"\"}}}],\"scattercarpet\":[{\"type\":\"scattercarpet\",\"marker\":{\"colorbar\":{\"outlinewidth\":0,\"ticks\":\"\"}}}],\"carpet\":[{\"aaxis\":{\"endlinecolor\":\"#2a3f5f\",\"gridcolor\":\"white\",\"linecolor\":\"white\",\"minorgridcolor\":\"white\",\"startlinecolor\":\"#2a3f5f\"},\"baxis\":{\"endlinecolor\":\"#2a3f5f\",\"gridcolor\":\"white\",\"linecolor\":\"white\",\"minorgridcolor\":\"white\",\"startlinecolor\":\"#2a3f5f\"},\"type\":\"carpet\"}],\"table\":[{\"cells\":{\"fill\":{\"color\":\"#EBF0F8\"},\"line\":{\"color\":\"white\"}},\"header\":{\"fill\":{\"color\":\"#C8D4E3\"},\"line\":{\"color\":\"white\"}},\"type\":\"table\"}],\"barpolar\":[{\"marker\":{\"line\":{\"color\":\"#E5ECF6\",\"width\":0.5},\"pattern\":{\"fillmode\":\"overlay\",\"size\":10,\"solidity\":0.2}},\"type\":\"barpolar\"}],\"pie\":[{\"automargin\":true,\"type\":\"pie\"}]},\"layout\":{\"autotypenumbers\":\"strict\",\"colorway\":[\"#636efa\",\"#EF553B\",\"#00cc96\",\"#ab63fa\",\"#FFA15A\",\"#19d3f3\",\"#FF6692\",\"#B6E880\",\"#FF97FF\",\"#FECB52\"],\"font\":{\"color\":\"#2a3f5f\"},\"hovermode\":\"closest\",\"hoverlabel\":{\"align\":\"left\"},\"paper_bgcolor\":\"white\",\"plot_bgcolor\":\"#E5ECF6\",\"polar\":{\"bgcolor\":\"#E5ECF6\",\"angularaxis\":{\"gridcolor\":\"white\",\"linecolor\":\"white\",\"ticks\":\"\"},\"radialaxis\":{\"gridcolor\":\"white\",\"linecolor\":\"white\",\"ticks\":\"\"}},\"ternary\":{\"bgcolor\":\"#E5ECF6\",\"aaxis\":{\"gridcolor\":\"white\",\"linecolor\":\"white\",\"ticks\":\"\"},\"baxis\":{\"gridcolor\":\"white\",\"linecolor\":\"white\",\"ticks\":\"\"},\"caxis\":{\"gridcolor\":\"white\",\"linecolor\":\"white\",\"ticks\":\"\"}},\"coloraxis\":{\"colorbar\":{\"outlinewidth\":0,\"ticks\":\"\"}},\"colorscale\":{\"sequential\":[[0.0,\"#0d0887\"],[0.1111111111111111,\"#46039f\"],[0.2222222222222222,\"#7201a8\"],[0.3333333333333333,\"#9c179e\"],[0.4444444444444444,\"#bd3786\"],[0.5555555555555556,\"#d8576b\"],[0.6666666666666666,\"#ed7953\"],[0.7777777777777778,\"#fb9f3a\"],[0.8888888888888888,\"#fdca26\"],[1.0,\"#f0f921\"]],\"sequentialminus\":[[0.0,\"#0d0887\"],[0.1111111111111111,\"#46039f\"],[0.2222222222222222,\"#7201a8\"],[0.3333333333333333,\"#9c179e\"],[0.4444444444444444,\"#bd3786\"],[0.5555555555555556,\"#d8576b\"],[0.6666666666666666,\"#ed7953\"],[0.7777777777777778,\"#fb9f3a\"],[0.8888888888888888,\"#fdca26\"],[1.0,\"#f0f921\"]],\"diverging\":[[0,\"#8e0152\"],[0.1,\"#c51b7d\"],[0.2,\"#de77ae\"],[0.3,\"#f1b6da\"],[0.4,\"#fde0ef\"],[0.5,\"#f7f7f7\"],[0.6,\"#e6f5d0\"],[0.7,\"#b8e186\"],[0.8,\"#7fbc41\"],[0.9,\"#4d9221\"],[1,\"#276419\"]]},\"xaxis\":{\"gridcolor\":\"white\",\"linecolor\":\"white\",\"ticks\":\"\",\"title\":{\"standoff\":15},\"zerolinecolor\":\"white\",\"automargin\":true,\"zerolinewidth\":2},\"yaxis\":{\"gridcolor\":\"white\",\"linecolor\":\"white\",\"ticks\":\"\",\"title\":{\"standoff\":15},\"zerolinecolor\":\"white\",\"automargin\":true,\"zerolinewidth\":2},\"scene\":{\"xaxis\":{\"backgroundcolor\":\"#E5ECF6\",\"gridcolor\":\"white\",\"linecolor\":\"white\",\"showbackground\":true,\"ticks\":\"\",\"zerolinecolor\":\"white\",\"gridwidth\":2},\"yaxis\":{\"backgroundcolor\":\"#E5ECF6\",\"gridcolor\":\"white\",\"linecolor\":\"white\",\"showbackground\":true,\"ticks\":\"\",\"zerolinecolor\":\"white\",\"gridwidth\":2},\"zaxis\":{\"backgroundcolor\":\"#E5ECF6\",\"gridcolor\":\"white\",\"linecolor\":\"white\",\"showbackground\":true,\"ticks\":\"\",\"zerolinecolor\":\"white\",\"gridwidth\":2}},\"shapedefaults\":{\"line\":{\"color\":\"#2a3f5f\"}},\"annotationdefaults\":{\"arrowcolor\":\"#2a3f5f\",\"arrowhead\":0,\"arrowwidth\":1},\"geo\":{\"bgcolor\":\"white\",\"landcolor\":\"#E5ECF6\",\"subunitcolor\":\"white\",\"showland\":true,\"showlakes\":true,\"lakecolor\":\"white\"},\"title\":{\"x\":0.05},\"mapbox\":{\"style\":\"light\"}}},\"xaxis\":{\"anchor\":\"y\",\"domain\":[0.0,1.0],\"title\":{\"text\":\"Number of Neighbors\"}},\"yaxis\":{\"anchor\":\"x\",\"domain\":[0.0,1.0],\"title\":{\"text\":\"RMSE\"}},\"legend\":{\"title\":{\"text\":\"variable\"},\"tracegroupgap\":0},\"title\":{\"text\":\"Average RMSE\"}},                        {\"responsive\": true}                    ).then(function(){\n",
       "                            \n",
       "var gd = document.getElementById('6510381c-a61c-4eb0-9a49-0599ffe65f6e');\n",
       "var x = new MutationObserver(function (mutations, observer) {{\n",
       "        var display = window.getComputedStyle(gd).display;\n",
       "        if (!display || display === 'none') {{\n",
       "            console.log([gd, 'removed!']);\n",
       "            Plotly.purge(gd);\n",
       "            observer.disconnect();\n",
       "        }}\n",
       "}});\n",
       "\n",
       "// Listen for the removal of the full notebook cells\n",
       "var notebookContainer = gd.closest('#notebook-container');\n",
       "if (notebookContainer) {{\n",
       "    x.observe(notebookContainer, {childList: true});\n",
       "}}\n",
       "\n",
       "// Listen for the clearing of the current output cell\n",
       "var outputEl = gd.closest('.output');\n",
       "if (outputEl) {{\n",
       "    x.observe(outputEl, {childList: true});\n",
       "}}\n",
       "\n",
       "                        })                };                });            </script>        </div>"
      ]
     },
     "metadata": {},
     "output_type": "display_data"
    }
   ],
   "source": [
    "fig6 = px.line(x=range(1,51), y=[knn_final['train_rmse_err'], knn_final['test_rmse_err']], \n",
    "               labels={'value': 'RMSE', \"x\": \"Number of Neighbors\"},\n",
    "              title='Average RMSE', line_shape='linear')\n",
    "newnames = {'wide_variable_0':'Train', 'wide_variable_1': 'Test'}\n",
    "fig6.for_each_trace(lambda t: t.update(name = newnames[t.name],\n",
    "                                      legendgroup = newnames[t.name],\n",
    "                                      hovertemplate = t.hovertemplate.replace(t.name, newnames[t.name])\n",
    "                                     )\n",
    "                  )\n",
    "# Show the plot\n",
    "fig6.show()"
   ]
  },
  {
   "cell_type": "code",
   "execution_count": 287,
   "metadata": {},
   "outputs": [
    {
     "data": {
      "application/vnd.plotly.v1+json": {
       "config": {
        "plotlyServerURL": "https://plot.ly"
       },
       "data": [
        {
         "hovertemplate": "variable=Train<br>Number of Neighbors=%{x}<br>R-squared=%{y}<extra></extra>",
         "legendgroup": "Train",
         "line": {
          "color": "#636efa",
          "dash": "solid",
          "shape": "linear"
         },
         "marker": {
          "symbol": "circle"
         },
         "mode": "lines",
         "name": "Train",
         "orientation": "v",
         "showlegend": true,
         "type": "scatter",
         "x": [
          1,
          2,
          3,
          4,
          5,
          6,
          7,
          8,
          9,
          10,
          11,
          12,
          13,
          14,
          15,
          16,
          17,
          18,
          19,
          20,
          21,
          22,
          23,
          24,
          25,
          26,
          27,
          28,
          29,
          30,
          31,
          32,
          33,
          34,
          35,
          36,
          37,
          38,
          39,
          40,
          41,
          42,
          43,
          44,
          45,
          46,
          47,
          48,
          49,
          50
         ],
         "xaxis": "x",
         "y": [
          1,
          0.742488295100544,
          0.6167039077166946,
          0.5222540042618907,
          0.46974808144232033,
          0.4362280555249192,
          0.407693765162219,
          0.3882867694908817,
          0.36209084367372346,
          0.3444431498728968,
          0.3337297400145314,
          0.3260679361509196,
          0.31780545187358666,
          0.3122778100922221,
          0.30667275445086756,
          0.3019216030275289,
          0.29908963066256233,
          0.29983554152966047,
          0.2968242849728372,
          0.2937793757843,
          0.2891767819697348,
          0.28723028116530425,
          0.28636708435155594,
          0.28351351754182996,
          0.28008220503637343,
          0.27742846943233845,
          0.27652824102389545,
          0.27389018601840665,
          0.270566516353586,
          0.26720166545623536,
          0.26534105201474384,
          0.26275713472542944,
          0.26132264655915355,
          0.2577178316788621,
          0.25410367610594803,
          0.2511032605134694,
          0.24776976841811157,
          0.24690163701333184,
          0.24487760255483149,
          0.24311765134087707,
          0.2402599836669757,
          0.23863955951774068,
          0.2364152692650473,
          0.2354545687623479,
          0.23347215750589967,
          0.23176480390933513,
          0.22956855856651348,
          0.22746866290989576,
          0.2259042457010375,
          0.22420723981299306
         ],
         "yaxis": "y"
        },
        {
         "hovertemplate": "variable=Test<br>Number of Neighbors=%{x}<br>R-squared=%{y}<extra></extra>",
         "legendgroup": "Test",
         "line": {
          "color": "#EF553B",
          "dash": "solid",
          "shape": "linear"
         },
         "marker": {
          "symbol": "circle"
         },
         "mode": "lines",
         "name": "Test",
         "orientation": "v",
         "showlegend": true,
         "type": "scatter",
         "x": [
          1,
          2,
          3,
          4,
          5,
          6,
          7,
          8,
          9,
          10,
          11,
          12,
          13,
          14,
          15,
          16,
          17,
          18,
          19,
          20,
          21,
          22,
          23,
          24,
          25,
          26,
          27,
          28,
          29,
          30,
          31,
          32,
          33,
          34,
          35,
          36,
          37,
          38,
          39,
          40,
          41,
          42,
          43,
          44,
          45,
          46,
          47,
          48,
          49,
          50
         ],
         "xaxis": "x",
         "y": [
          1.09638738436861,
          0.732466458586486,
          0.631154280205506,
          0.5337782577284678,
          0.4616796441445928,
          0.4213730033016105,
          0.38867363960589946,
          0.3664304297208648,
          0.3587797916859141,
          0.3571841100359267,
          0.3360628261800251,
          0.3298262742822266,
          0.32512876711735667,
          0.31817311899418216,
          0.3104488589881993,
          0.3074616054649489,
          0.29618017232263405,
          0.290317893167053,
          0.2846092306970759,
          0.28310458043450826,
          0.278359155692488,
          0.27382127408888224,
          0.2715174920959522,
          0.27093194083005406,
          0.27166734085562527,
          0.26608965169645243,
          0.26197962891120696,
          0.25986235675976466,
          0.2567448438173218,
          0.2565092545564045,
          0.25437985363757987,
          0.25087051672736804,
          0.25036071605653704,
          0.24805487849966107,
          0.24406321588590715,
          0.24169053075106467,
          0.24221363838346777,
          0.24024579902036683,
          0.23754697862271526,
          0.23598265033936336,
          0.23365939466656757,
          0.23135424766882887,
          0.2287728337033948,
          0.22608032018602767,
          0.22360086608832977,
          0.2224508617651437,
          0.22061190311021722,
          0.22018317591135877,
          0.21881779604022775,
          0.21646447970883487
         ],
         "yaxis": "y"
        }
       ],
       "layout": {
        "legend": {
         "title": {
          "text": "variable"
         },
         "tracegroupgap": 0
        },
        "template": {
         "data": {
          "bar": [
           {
            "error_x": {
             "color": "#2a3f5f"
            },
            "error_y": {
             "color": "#2a3f5f"
            },
            "marker": {
             "line": {
              "color": "#E5ECF6",
              "width": 0.5
             },
             "pattern": {
              "fillmode": "overlay",
              "size": 10,
              "solidity": 0.2
             }
            },
            "type": "bar"
           }
          ],
          "barpolar": [
           {
            "marker": {
             "line": {
              "color": "#E5ECF6",
              "width": 0.5
             },
             "pattern": {
              "fillmode": "overlay",
              "size": 10,
              "solidity": 0.2
             }
            },
            "type": "barpolar"
           }
          ],
          "carpet": [
           {
            "aaxis": {
             "endlinecolor": "#2a3f5f",
             "gridcolor": "white",
             "linecolor": "white",
             "minorgridcolor": "white",
             "startlinecolor": "#2a3f5f"
            },
            "baxis": {
             "endlinecolor": "#2a3f5f",
             "gridcolor": "white",
             "linecolor": "white",
             "minorgridcolor": "white",
             "startlinecolor": "#2a3f5f"
            },
            "type": "carpet"
           }
          ],
          "choropleth": [
           {
            "colorbar": {
             "outlinewidth": 0,
             "ticks": ""
            },
            "type": "choropleth"
           }
          ],
          "contour": [
           {
            "colorbar": {
             "outlinewidth": 0,
             "ticks": ""
            },
            "colorscale": [
             [
              0,
              "#0d0887"
             ],
             [
              0.1111111111111111,
              "#46039f"
             ],
             [
              0.2222222222222222,
              "#7201a8"
             ],
             [
              0.3333333333333333,
              "#9c179e"
             ],
             [
              0.4444444444444444,
              "#bd3786"
             ],
             [
              0.5555555555555556,
              "#d8576b"
             ],
             [
              0.6666666666666666,
              "#ed7953"
             ],
             [
              0.7777777777777778,
              "#fb9f3a"
             ],
             [
              0.8888888888888888,
              "#fdca26"
             ],
             [
              1,
              "#f0f921"
             ]
            ],
            "type": "contour"
           }
          ],
          "contourcarpet": [
           {
            "colorbar": {
             "outlinewidth": 0,
             "ticks": ""
            },
            "type": "contourcarpet"
           }
          ],
          "heatmap": [
           {
            "colorbar": {
             "outlinewidth": 0,
             "ticks": ""
            },
            "colorscale": [
             [
              0,
              "#0d0887"
             ],
             [
              0.1111111111111111,
              "#46039f"
             ],
             [
              0.2222222222222222,
              "#7201a8"
             ],
             [
              0.3333333333333333,
              "#9c179e"
             ],
             [
              0.4444444444444444,
              "#bd3786"
             ],
             [
              0.5555555555555556,
              "#d8576b"
             ],
             [
              0.6666666666666666,
              "#ed7953"
             ],
             [
              0.7777777777777778,
              "#fb9f3a"
             ],
             [
              0.8888888888888888,
              "#fdca26"
             ],
             [
              1,
              "#f0f921"
             ]
            ],
            "type": "heatmap"
           }
          ],
          "heatmapgl": [
           {
            "colorbar": {
             "outlinewidth": 0,
             "ticks": ""
            },
            "colorscale": [
             [
              0,
              "#0d0887"
             ],
             [
              0.1111111111111111,
              "#46039f"
             ],
             [
              0.2222222222222222,
              "#7201a8"
             ],
             [
              0.3333333333333333,
              "#9c179e"
             ],
             [
              0.4444444444444444,
              "#bd3786"
             ],
             [
              0.5555555555555556,
              "#d8576b"
             ],
             [
              0.6666666666666666,
              "#ed7953"
             ],
             [
              0.7777777777777778,
              "#fb9f3a"
             ],
             [
              0.8888888888888888,
              "#fdca26"
             ],
             [
              1,
              "#f0f921"
             ]
            ],
            "type": "heatmapgl"
           }
          ],
          "histogram": [
           {
            "marker": {
             "pattern": {
              "fillmode": "overlay",
              "size": 10,
              "solidity": 0.2
             }
            },
            "type": "histogram"
           }
          ],
          "histogram2d": [
           {
            "colorbar": {
             "outlinewidth": 0,
             "ticks": ""
            },
            "colorscale": [
             [
              0,
              "#0d0887"
             ],
             [
              0.1111111111111111,
              "#46039f"
             ],
             [
              0.2222222222222222,
              "#7201a8"
             ],
             [
              0.3333333333333333,
              "#9c179e"
             ],
             [
              0.4444444444444444,
              "#bd3786"
             ],
             [
              0.5555555555555556,
              "#d8576b"
             ],
             [
              0.6666666666666666,
              "#ed7953"
             ],
             [
              0.7777777777777778,
              "#fb9f3a"
             ],
             [
              0.8888888888888888,
              "#fdca26"
             ],
             [
              1,
              "#f0f921"
             ]
            ],
            "type": "histogram2d"
           }
          ],
          "histogram2dcontour": [
           {
            "colorbar": {
             "outlinewidth": 0,
             "ticks": ""
            },
            "colorscale": [
             [
              0,
              "#0d0887"
             ],
             [
              0.1111111111111111,
              "#46039f"
             ],
             [
              0.2222222222222222,
              "#7201a8"
             ],
             [
              0.3333333333333333,
              "#9c179e"
             ],
             [
              0.4444444444444444,
              "#bd3786"
             ],
             [
              0.5555555555555556,
              "#d8576b"
             ],
             [
              0.6666666666666666,
              "#ed7953"
             ],
             [
              0.7777777777777778,
              "#fb9f3a"
             ],
             [
              0.8888888888888888,
              "#fdca26"
             ],
             [
              1,
              "#f0f921"
             ]
            ],
            "type": "histogram2dcontour"
           }
          ],
          "mesh3d": [
           {
            "colorbar": {
             "outlinewidth": 0,
             "ticks": ""
            },
            "type": "mesh3d"
           }
          ],
          "parcoords": [
           {
            "line": {
             "colorbar": {
              "outlinewidth": 0,
              "ticks": ""
             }
            },
            "type": "parcoords"
           }
          ],
          "pie": [
           {
            "automargin": true,
            "type": "pie"
           }
          ],
          "scatter": [
           {
            "fillpattern": {
             "fillmode": "overlay",
             "size": 10,
             "solidity": 0.2
            },
            "type": "scatter"
           }
          ],
          "scatter3d": [
           {
            "line": {
             "colorbar": {
              "outlinewidth": 0,
              "ticks": ""
             }
            },
            "marker": {
             "colorbar": {
              "outlinewidth": 0,
              "ticks": ""
             }
            },
            "type": "scatter3d"
           }
          ],
          "scattercarpet": [
           {
            "marker": {
             "colorbar": {
              "outlinewidth": 0,
              "ticks": ""
             }
            },
            "type": "scattercarpet"
           }
          ],
          "scattergeo": [
           {
            "marker": {
             "colorbar": {
              "outlinewidth": 0,
              "ticks": ""
             }
            },
            "type": "scattergeo"
           }
          ],
          "scattergl": [
           {
            "marker": {
             "colorbar": {
              "outlinewidth": 0,
              "ticks": ""
             }
            },
            "type": "scattergl"
           }
          ],
          "scattermapbox": [
           {
            "marker": {
             "colorbar": {
              "outlinewidth": 0,
              "ticks": ""
             }
            },
            "type": "scattermapbox"
           }
          ],
          "scatterpolar": [
           {
            "marker": {
             "colorbar": {
              "outlinewidth": 0,
              "ticks": ""
             }
            },
            "type": "scatterpolar"
           }
          ],
          "scatterpolargl": [
           {
            "marker": {
             "colorbar": {
              "outlinewidth": 0,
              "ticks": ""
             }
            },
            "type": "scatterpolargl"
           }
          ],
          "scatterternary": [
           {
            "marker": {
             "colorbar": {
              "outlinewidth": 0,
              "ticks": ""
             }
            },
            "type": "scatterternary"
           }
          ],
          "surface": [
           {
            "colorbar": {
             "outlinewidth": 0,
             "ticks": ""
            },
            "colorscale": [
             [
              0,
              "#0d0887"
             ],
             [
              0.1111111111111111,
              "#46039f"
             ],
             [
              0.2222222222222222,
              "#7201a8"
             ],
             [
              0.3333333333333333,
              "#9c179e"
             ],
             [
              0.4444444444444444,
              "#bd3786"
             ],
             [
              0.5555555555555556,
              "#d8576b"
             ],
             [
              0.6666666666666666,
              "#ed7953"
             ],
             [
              0.7777777777777778,
              "#fb9f3a"
             ],
             [
              0.8888888888888888,
              "#fdca26"
             ],
             [
              1,
              "#f0f921"
             ]
            ],
            "type": "surface"
           }
          ],
          "table": [
           {
            "cells": {
             "fill": {
              "color": "#EBF0F8"
             },
             "line": {
              "color": "white"
             }
            },
            "header": {
             "fill": {
              "color": "#C8D4E3"
             },
             "line": {
              "color": "white"
             }
            },
            "type": "table"
           }
          ]
         },
         "layout": {
          "annotationdefaults": {
           "arrowcolor": "#2a3f5f",
           "arrowhead": 0,
           "arrowwidth": 1
          },
          "autotypenumbers": "strict",
          "coloraxis": {
           "colorbar": {
            "outlinewidth": 0,
            "ticks": ""
           }
          },
          "colorscale": {
           "diverging": [
            [
             0,
             "#8e0152"
            ],
            [
             0.1,
             "#c51b7d"
            ],
            [
             0.2,
             "#de77ae"
            ],
            [
             0.3,
             "#f1b6da"
            ],
            [
             0.4,
             "#fde0ef"
            ],
            [
             0.5,
             "#f7f7f7"
            ],
            [
             0.6,
             "#e6f5d0"
            ],
            [
             0.7,
             "#b8e186"
            ],
            [
             0.8,
             "#7fbc41"
            ],
            [
             0.9,
             "#4d9221"
            ],
            [
             1,
             "#276419"
            ]
           ],
           "sequential": [
            [
             0,
             "#0d0887"
            ],
            [
             0.1111111111111111,
             "#46039f"
            ],
            [
             0.2222222222222222,
             "#7201a8"
            ],
            [
             0.3333333333333333,
             "#9c179e"
            ],
            [
             0.4444444444444444,
             "#bd3786"
            ],
            [
             0.5555555555555556,
             "#d8576b"
            ],
            [
             0.6666666666666666,
             "#ed7953"
            ],
            [
             0.7777777777777778,
             "#fb9f3a"
            ],
            [
             0.8888888888888888,
             "#fdca26"
            ],
            [
             1,
             "#f0f921"
            ]
           ],
           "sequentialminus": [
            [
             0,
             "#0d0887"
            ],
            [
             0.1111111111111111,
             "#46039f"
            ],
            [
             0.2222222222222222,
             "#7201a8"
            ],
            [
             0.3333333333333333,
             "#9c179e"
            ],
            [
             0.4444444444444444,
             "#bd3786"
            ],
            [
             0.5555555555555556,
             "#d8576b"
            ],
            [
             0.6666666666666666,
             "#ed7953"
            ],
            [
             0.7777777777777778,
             "#fb9f3a"
            ],
            [
             0.8888888888888888,
             "#fdca26"
            ],
            [
             1,
             "#f0f921"
            ]
           ]
          },
          "colorway": [
           "#636efa",
           "#EF553B",
           "#00cc96",
           "#ab63fa",
           "#FFA15A",
           "#19d3f3",
           "#FF6692",
           "#B6E880",
           "#FF97FF",
           "#FECB52"
          ],
          "font": {
           "color": "#2a3f5f"
          },
          "geo": {
           "bgcolor": "white",
           "lakecolor": "white",
           "landcolor": "#E5ECF6",
           "showlakes": true,
           "showland": true,
           "subunitcolor": "white"
          },
          "hoverlabel": {
           "align": "left"
          },
          "hovermode": "closest",
          "mapbox": {
           "style": "light"
          },
          "paper_bgcolor": "white",
          "plot_bgcolor": "#E5ECF6",
          "polar": {
           "angularaxis": {
            "gridcolor": "white",
            "linecolor": "white",
            "ticks": ""
           },
           "bgcolor": "#E5ECF6",
           "radialaxis": {
            "gridcolor": "white",
            "linecolor": "white",
            "ticks": ""
           }
          },
          "scene": {
           "xaxis": {
            "backgroundcolor": "#E5ECF6",
            "gridcolor": "white",
            "gridwidth": 2,
            "linecolor": "white",
            "showbackground": true,
            "ticks": "",
            "zerolinecolor": "white"
           },
           "yaxis": {
            "backgroundcolor": "#E5ECF6",
            "gridcolor": "white",
            "gridwidth": 2,
            "linecolor": "white",
            "showbackground": true,
            "ticks": "",
            "zerolinecolor": "white"
           },
           "zaxis": {
            "backgroundcolor": "#E5ECF6",
            "gridcolor": "white",
            "gridwidth": 2,
            "linecolor": "white",
            "showbackground": true,
            "ticks": "",
            "zerolinecolor": "white"
           }
          },
          "shapedefaults": {
           "line": {
            "color": "#2a3f5f"
           }
          },
          "ternary": {
           "aaxis": {
            "gridcolor": "white",
            "linecolor": "white",
            "ticks": ""
           },
           "baxis": {
            "gridcolor": "white",
            "linecolor": "white",
            "ticks": ""
           },
           "bgcolor": "#E5ECF6",
           "caxis": {
            "gridcolor": "white",
            "linecolor": "white",
            "ticks": ""
           }
          },
          "title": {
           "x": 0.05
          },
          "xaxis": {
           "automargin": true,
           "gridcolor": "white",
           "linecolor": "white",
           "ticks": "",
           "title": {
            "standoff": 15
           },
           "zerolinecolor": "white",
           "zerolinewidth": 2
          },
          "yaxis": {
           "automargin": true,
           "gridcolor": "white",
           "linecolor": "white",
           "ticks": "",
           "title": {
            "standoff": 15
           },
           "zerolinecolor": "white",
           "zerolinewidth": 2
          }
         }
        },
        "title": {
         "text": "Average R-squared"
        },
        "xaxis": {
         "anchor": "y",
         "domain": [
          0,
          1
         ],
         "title": {
          "text": "Number of Neighbors"
         }
        },
        "yaxis": {
         "anchor": "x",
         "domain": [
          0,
          1
         ],
         "title": {
          "text": "R-squared"
         }
        }
       }
      },
      "text/html": [
       "<div>                            <div id=\"0ef183f4-8c29-4efc-a59a-54aa651c0072\" class=\"plotly-graph-div\" style=\"height:525px; width:100%;\"></div>            <script type=\"text/javascript\">                require([\"plotly\"], function(Plotly) {                    window.PLOTLYENV=window.PLOTLYENV || {};                                    if (document.getElementById(\"0ef183f4-8c29-4efc-a59a-54aa651c0072\")) {                    Plotly.newPlot(                        \"0ef183f4-8c29-4efc-a59a-54aa651c0072\",                        [{\"hovertemplate\":\"variable=Train\\u003cbr\\u003eNumber of Neighbors=%{x}\\u003cbr\\u003eR-squared=%{y}\\u003cextra\\u003e\\u003c\\u002fextra\\u003e\",\"legendgroup\":\"Train\",\"line\":{\"color\":\"#636efa\",\"dash\":\"solid\",\"shape\":\"linear\"},\"marker\":{\"symbol\":\"circle\"},\"mode\":\"lines\",\"name\":\"Train\",\"orientation\":\"v\",\"showlegend\":true,\"x\":[1,2,3,4,5,6,7,8,9,10,11,12,13,14,15,16,17,18,19,20,21,22,23,24,25,26,27,28,29,30,31,32,33,34,35,36,37,38,39,40,41,42,43,44,45,46,47,48,49,50],\"xaxis\":\"x\",\"y\":[1.0,0.742488295100544,0.6167039077166946,0.5222540042618907,0.46974808144232033,0.4362280555249192,0.407693765162219,0.3882867694908817,0.36209084367372346,0.3444431498728968,0.3337297400145314,0.3260679361509196,0.31780545187358666,0.3122778100922221,0.30667275445086756,0.3019216030275289,0.29908963066256233,0.29983554152966047,0.2968242849728372,0.2937793757843,0.2891767819697348,0.28723028116530425,0.28636708435155594,0.28351351754182996,0.28008220503637343,0.27742846943233845,0.27652824102389545,0.27389018601840665,0.270566516353586,0.26720166545623536,0.26534105201474384,0.26275713472542944,0.26132264655915355,0.2577178316788621,0.25410367610594803,0.2511032605134694,0.24776976841811157,0.24690163701333184,0.24487760255483149,0.24311765134087707,0.2402599836669757,0.23863955951774068,0.2364152692650473,0.2354545687623479,0.23347215750589967,0.23176480390933513,0.22956855856651348,0.22746866290989576,0.2259042457010375,0.22420723981299306],\"yaxis\":\"y\",\"type\":\"scatter\"},{\"hovertemplate\":\"variable=Test\\u003cbr\\u003eNumber of Neighbors=%{x}\\u003cbr\\u003eR-squared=%{y}\\u003cextra\\u003e\\u003c\\u002fextra\\u003e\",\"legendgroup\":\"Test\",\"line\":{\"color\":\"#EF553B\",\"dash\":\"solid\",\"shape\":\"linear\"},\"marker\":{\"symbol\":\"circle\"},\"mode\":\"lines\",\"name\":\"Test\",\"orientation\":\"v\",\"showlegend\":true,\"x\":[1,2,3,4,5,6,7,8,9,10,11,12,13,14,15,16,17,18,19,20,21,22,23,24,25,26,27,28,29,30,31,32,33,34,35,36,37,38,39,40,41,42,43,44,45,46,47,48,49,50],\"xaxis\":\"x\",\"y\":[1.09638738436861,0.732466458586486,0.631154280205506,0.5337782577284678,0.4616796441445928,0.4213730033016105,0.38867363960589946,0.3664304297208648,0.3587797916859141,0.3571841100359267,0.3360628261800251,0.3298262742822266,0.32512876711735667,0.31817311899418216,0.3104488589881993,0.3074616054649489,0.29618017232263405,0.290317893167053,0.2846092306970759,0.28310458043450826,0.278359155692488,0.27382127408888224,0.2715174920959522,0.27093194083005406,0.27166734085562527,0.26608965169645243,0.26197962891120696,0.25986235675976466,0.2567448438173218,0.2565092545564045,0.25437985363757987,0.25087051672736804,0.25036071605653704,0.24805487849966107,0.24406321588590715,0.24169053075106467,0.24221363838346777,0.24024579902036683,0.23754697862271526,0.23598265033936336,0.23365939466656757,0.23135424766882887,0.2287728337033948,0.22608032018602767,0.22360086608832977,0.2224508617651437,0.22061190311021722,0.22018317591135877,0.21881779604022775,0.21646447970883487],\"yaxis\":\"y\",\"type\":\"scatter\"}],                        {\"template\":{\"data\":{\"histogram2dcontour\":[{\"type\":\"histogram2dcontour\",\"colorbar\":{\"outlinewidth\":0,\"ticks\":\"\"},\"colorscale\":[[0.0,\"#0d0887\"],[0.1111111111111111,\"#46039f\"],[0.2222222222222222,\"#7201a8\"],[0.3333333333333333,\"#9c179e\"],[0.4444444444444444,\"#bd3786\"],[0.5555555555555556,\"#d8576b\"],[0.6666666666666666,\"#ed7953\"],[0.7777777777777778,\"#fb9f3a\"],[0.8888888888888888,\"#fdca26\"],[1.0,\"#f0f921\"]]}],\"choropleth\":[{\"type\":\"choropleth\",\"colorbar\":{\"outlinewidth\":0,\"ticks\":\"\"}}],\"histogram2d\":[{\"type\":\"histogram2d\",\"colorbar\":{\"outlinewidth\":0,\"ticks\":\"\"},\"colorscale\":[[0.0,\"#0d0887\"],[0.1111111111111111,\"#46039f\"],[0.2222222222222222,\"#7201a8\"],[0.3333333333333333,\"#9c179e\"],[0.4444444444444444,\"#bd3786\"],[0.5555555555555556,\"#d8576b\"],[0.6666666666666666,\"#ed7953\"],[0.7777777777777778,\"#fb9f3a\"],[0.8888888888888888,\"#fdca26\"],[1.0,\"#f0f921\"]]}],\"heatmap\":[{\"type\":\"heatmap\",\"colorbar\":{\"outlinewidth\":0,\"ticks\":\"\"},\"colorscale\":[[0.0,\"#0d0887\"],[0.1111111111111111,\"#46039f\"],[0.2222222222222222,\"#7201a8\"],[0.3333333333333333,\"#9c179e\"],[0.4444444444444444,\"#bd3786\"],[0.5555555555555556,\"#d8576b\"],[0.6666666666666666,\"#ed7953\"],[0.7777777777777778,\"#fb9f3a\"],[0.8888888888888888,\"#fdca26\"],[1.0,\"#f0f921\"]]}],\"heatmapgl\":[{\"type\":\"heatmapgl\",\"colorbar\":{\"outlinewidth\":0,\"ticks\":\"\"},\"colorscale\":[[0.0,\"#0d0887\"],[0.1111111111111111,\"#46039f\"],[0.2222222222222222,\"#7201a8\"],[0.3333333333333333,\"#9c179e\"],[0.4444444444444444,\"#bd3786\"],[0.5555555555555556,\"#d8576b\"],[0.6666666666666666,\"#ed7953\"],[0.7777777777777778,\"#fb9f3a\"],[0.8888888888888888,\"#fdca26\"],[1.0,\"#f0f921\"]]}],\"contourcarpet\":[{\"type\":\"contourcarpet\",\"colorbar\":{\"outlinewidth\":0,\"ticks\":\"\"}}],\"contour\":[{\"type\":\"contour\",\"colorbar\":{\"outlinewidth\":0,\"ticks\":\"\"},\"colorscale\":[[0.0,\"#0d0887\"],[0.1111111111111111,\"#46039f\"],[0.2222222222222222,\"#7201a8\"],[0.3333333333333333,\"#9c179e\"],[0.4444444444444444,\"#bd3786\"],[0.5555555555555556,\"#d8576b\"],[0.6666666666666666,\"#ed7953\"],[0.7777777777777778,\"#fb9f3a\"],[0.8888888888888888,\"#fdca26\"],[1.0,\"#f0f921\"]]}],\"surface\":[{\"type\":\"surface\",\"colorbar\":{\"outlinewidth\":0,\"ticks\":\"\"},\"colorscale\":[[0.0,\"#0d0887\"],[0.1111111111111111,\"#46039f\"],[0.2222222222222222,\"#7201a8\"],[0.3333333333333333,\"#9c179e\"],[0.4444444444444444,\"#bd3786\"],[0.5555555555555556,\"#d8576b\"],[0.6666666666666666,\"#ed7953\"],[0.7777777777777778,\"#fb9f3a\"],[0.8888888888888888,\"#fdca26\"],[1.0,\"#f0f921\"]]}],\"mesh3d\":[{\"type\":\"mesh3d\",\"colorbar\":{\"outlinewidth\":0,\"ticks\":\"\"}}],\"scatter\":[{\"fillpattern\":{\"fillmode\":\"overlay\",\"size\":10,\"solidity\":0.2},\"type\":\"scatter\"}],\"parcoords\":[{\"type\":\"parcoords\",\"line\":{\"colorbar\":{\"outlinewidth\":0,\"ticks\":\"\"}}}],\"scatterpolargl\":[{\"type\":\"scatterpolargl\",\"marker\":{\"colorbar\":{\"outlinewidth\":0,\"ticks\":\"\"}}}],\"bar\":[{\"error_x\":{\"color\":\"#2a3f5f\"},\"error_y\":{\"color\":\"#2a3f5f\"},\"marker\":{\"line\":{\"color\":\"#E5ECF6\",\"width\":0.5},\"pattern\":{\"fillmode\":\"overlay\",\"size\":10,\"solidity\":0.2}},\"type\":\"bar\"}],\"scattergeo\":[{\"type\":\"scattergeo\",\"marker\":{\"colorbar\":{\"outlinewidth\":0,\"ticks\":\"\"}}}],\"scatterpolar\":[{\"type\":\"scatterpolar\",\"marker\":{\"colorbar\":{\"outlinewidth\":0,\"ticks\":\"\"}}}],\"histogram\":[{\"marker\":{\"pattern\":{\"fillmode\":\"overlay\",\"size\":10,\"solidity\":0.2}},\"type\":\"histogram\"}],\"scattergl\":[{\"type\":\"scattergl\",\"marker\":{\"colorbar\":{\"outlinewidth\":0,\"ticks\":\"\"}}}],\"scatter3d\":[{\"type\":\"scatter3d\",\"line\":{\"colorbar\":{\"outlinewidth\":0,\"ticks\":\"\"}},\"marker\":{\"colorbar\":{\"outlinewidth\":0,\"ticks\":\"\"}}}],\"scattermapbox\":[{\"type\":\"scattermapbox\",\"marker\":{\"colorbar\":{\"outlinewidth\":0,\"ticks\":\"\"}}}],\"scatterternary\":[{\"type\":\"scatterternary\",\"marker\":{\"colorbar\":{\"outlinewidth\":0,\"ticks\":\"\"}}}],\"scattercarpet\":[{\"type\":\"scattercarpet\",\"marker\":{\"colorbar\":{\"outlinewidth\":0,\"ticks\":\"\"}}}],\"carpet\":[{\"aaxis\":{\"endlinecolor\":\"#2a3f5f\",\"gridcolor\":\"white\",\"linecolor\":\"white\",\"minorgridcolor\":\"white\",\"startlinecolor\":\"#2a3f5f\"},\"baxis\":{\"endlinecolor\":\"#2a3f5f\",\"gridcolor\":\"white\",\"linecolor\":\"white\",\"minorgridcolor\":\"white\",\"startlinecolor\":\"#2a3f5f\"},\"type\":\"carpet\"}],\"table\":[{\"cells\":{\"fill\":{\"color\":\"#EBF0F8\"},\"line\":{\"color\":\"white\"}},\"header\":{\"fill\":{\"color\":\"#C8D4E3\"},\"line\":{\"color\":\"white\"}},\"type\":\"table\"}],\"barpolar\":[{\"marker\":{\"line\":{\"color\":\"#E5ECF6\",\"width\":0.5},\"pattern\":{\"fillmode\":\"overlay\",\"size\":10,\"solidity\":0.2}},\"type\":\"barpolar\"}],\"pie\":[{\"automargin\":true,\"type\":\"pie\"}]},\"layout\":{\"autotypenumbers\":\"strict\",\"colorway\":[\"#636efa\",\"#EF553B\",\"#00cc96\",\"#ab63fa\",\"#FFA15A\",\"#19d3f3\",\"#FF6692\",\"#B6E880\",\"#FF97FF\",\"#FECB52\"],\"font\":{\"color\":\"#2a3f5f\"},\"hovermode\":\"closest\",\"hoverlabel\":{\"align\":\"left\"},\"paper_bgcolor\":\"white\",\"plot_bgcolor\":\"#E5ECF6\",\"polar\":{\"bgcolor\":\"#E5ECF6\",\"angularaxis\":{\"gridcolor\":\"white\",\"linecolor\":\"white\",\"ticks\":\"\"},\"radialaxis\":{\"gridcolor\":\"white\",\"linecolor\":\"white\",\"ticks\":\"\"}},\"ternary\":{\"bgcolor\":\"#E5ECF6\",\"aaxis\":{\"gridcolor\":\"white\",\"linecolor\":\"white\",\"ticks\":\"\"},\"baxis\":{\"gridcolor\":\"white\",\"linecolor\":\"white\",\"ticks\":\"\"},\"caxis\":{\"gridcolor\":\"white\",\"linecolor\":\"white\",\"ticks\":\"\"}},\"coloraxis\":{\"colorbar\":{\"outlinewidth\":0,\"ticks\":\"\"}},\"colorscale\":{\"sequential\":[[0.0,\"#0d0887\"],[0.1111111111111111,\"#46039f\"],[0.2222222222222222,\"#7201a8\"],[0.3333333333333333,\"#9c179e\"],[0.4444444444444444,\"#bd3786\"],[0.5555555555555556,\"#d8576b\"],[0.6666666666666666,\"#ed7953\"],[0.7777777777777778,\"#fb9f3a\"],[0.8888888888888888,\"#fdca26\"],[1.0,\"#f0f921\"]],\"sequentialminus\":[[0.0,\"#0d0887\"],[0.1111111111111111,\"#46039f\"],[0.2222222222222222,\"#7201a8\"],[0.3333333333333333,\"#9c179e\"],[0.4444444444444444,\"#bd3786\"],[0.5555555555555556,\"#d8576b\"],[0.6666666666666666,\"#ed7953\"],[0.7777777777777778,\"#fb9f3a\"],[0.8888888888888888,\"#fdca26\"],[1.0,\"#f0f921\"]],\"diverging\":[[0,\"#8e0152\"],[0.1,\"#c51b7d\"],[0.2,\"#de77ae\"],[0.3,\"#f1b6da\"],[0.4,\"#fde0ef\"],[0.5,\"#f7f7f7\"],[0.6,\"#e6f5d0\"],[0.7,\"#b8e186\"],[0.8,\"#7fbc41\"],[0.9,\"#4d9221\"],[1,\"#276419\"]]},\"xaxis\":{\"gridcolor\":\"white\",\"linecolor\":\"white\",\"ticks\":\"\",\"title\":{\"standoff\":15},\"zerolinecolor\":\"white\",\"automargin\":true,\"zerolinewidth\":2},\"yaxis\":{\"gridcolor\":\"white\",\"linecolor\":\"white\",\"ticks\":\"\",\"title\":{\"standoff\":15},\"zerolinecolor\":\"white\",\"automargin\":true,\"zerolinewidth\":2},\"scene\":{\"xaxis\":{\"backgroundcolor\":\"#E5ECF6\",\"gridcolor\":\"white\",\"linecolor\":\"white\",\"showbackground\":true,\"ticks\":\"\",\"zerolinecolor\":\"white\",\"gridwidth\":2},\"yaxis\":{\"backgroundcolor\":\"#E5ECF6\",\"gridcolor\":\"white\",\"linecolor\":\"white\",\"showbackground\":true,\"ticks\":\"\",\"zerolinecolor\":\"white\",\"gridwidth\":2},\"zaxis\":{\"backgroundcolor\":\"#E5ECF6\",\"gridcolor\":\"white\",\"linecolor\":\"white\",\"showbackground\":true,\"ticks\":\"\",\"zerolinecolor\":\"white\",\"gridwidth\":2}},\"shapedefaults\":{\"line\":{\"color\":\"#2a3f5f\"}},\"annotationdefaults\":{\"arrowcolor\":\"#2a3f5f\",\"arrowhead\":0,\"arrowwidth\":1},\"geo\":{\"bgcolor\":\"white\",\"landcolor\":\"#E5ECF6\",\"subunitcolor\":\"white\",\"showland\":true,\"showlakes\":true,\"lakecolor\":\"white\"},\"title\":{\"x\":0.05},\"mapbox\":{\"style\":\"light\"}}},\"xaxis\":{\"anchor\":\"y\",\"domain\":[0.0,1.0],\"title\":{\"text\":\"Number of Neighbors\"}},\"yaxis\":{\"anchor\":\"x\",\"domain\":[0.0,1.0],\"title\":{\"text\":\"R-squared\"}},\"legend\":{\"title\":{\"text\":\"variable\"},\"tracegroupgap\":0},\"title\":{\"text\":\"Average R-squared\"}},                        {\"responsive\": true}                    ).then(function(){\n",
       "                            \n",
       "var gd = document.getElementById('0ef183f4-8c29-4efc-a59a-54aa651c0072');\n",
       "var x = new MutationObserver(function (mutations, observer) {{\n",
       "        var display = window.getComputedStyle(gd).display;\n",
       "        if (!display || display === 'none') {{\n",
       "            console.log([gd, 'removed!']);\n",
       "            Plotly.purge(gd);\n",
       "            observer.disconnect();\n",
       "        }}\n",
       "}});\n",
       "\n",
       "// Listen for the removal of the full notebook cells\n",
       "var notebookContainer = gd.closest('#notebook-container');\n",
       "if (notebookContainer) {{\n",
       "    x.observe(notebookContainer, {childList: true});\n",
       "}}\n",
       "\n",
       "// Listen for the clearing of the current output cell\n",
       "var outputEl = gd.closest('.output');\n",
       "if (outputEl) {{\n",
       "    x.observe(outputEl, {childList: true});\n",
       "}}\n",
       "\n",
       "                        })                };                });            </script>        </div>"
      ]
     },
     "metadata": {},
     "output_type": "display_data"
    }
   ],
   "source": [
    "fig7 = px.line(x=range(1,51), y=[knn_final['train_r2_err'], knn_final['test_r2_err']], \n",
    "               labels={'value': 'R-squared', \"x\": \"Number of Neighbors\"},\n",
    "              title='Average R-squared', line_shape='linear')\n",
    "newnames = {'wide_variable_0':'Train', 'wide_variable_1': 'Test'}\n",
    "fig7.for_each_trace(lambda t: t.update(name = newnames[t.name],\n",
    "                                      legendgroup = newnames[t.name],\n",
    "                                      hovertemplate = t.hovertemplate.replace(t.name, newnames[t.name])\n",
    "                                     )\n",
    "                  )\n",
    "# Show the plot\n",
    "fig7.show()"
   ]
  },
  {
   "cell_type": "markdown",
   "metadata": {},
   "source": [
    "Based on these graphs, it seems that rmse is minimized at the beginning, and r-squared is similarily maximized at the beginning. We will therefore use a parameter of 2 for the number of neighbors."
   ]
  },
  {
   "cell_type": "code",
   "execution_count": 290,
   "metadata": {},
   "outputs": [
    {
     "data": {
      "text/plain": [
       "train_rmse_err     882.574040\n",
       "test_rmse_err     1714.307178\n",
       "train_r2_err         0.742488\n",
       "test_r2_err          0.732466\n",
       "Name: 2, dtype: float64"
      ]
     },
     "execution_count": 290,
     "metadata": {},
     "output_type": "execute_result"
    }
   ],
   "source": [
    "knn_final.iloc[1]"
   ]
  },
  {
   "cell_type": "markdown",
   "metadata": {},
   "source": [
    "Our training rmse score is 882, our testing rmse score is 1714, our training r-squared score is 0.74, and our testing r-squared score is .73. As we can see the training rmse score decreased from our baseline and our r-squared scores for both the training and test sets improved by about 0.30. However, our rmse score for the testing set increased slightly. We may be able to improve our model to better fit unknown data with other parameters. We believe that we were able to achieve better training rmse because we have added more features to our model that can help predict outage duration time. More specifically, peak energy consumption hours can impact severity of a power outage since resources are exhausted. Similarily, year and U.S. state percentage population can inform us about possible power outage durations, as some years may have more outages and higher populations could lead to longer durations, as more people are utilizing energy. Lastly, as we saw in our baseline, the location and cause of the category is a strong indicator of outage duration. This makes sense, as most power outages in our dataset are severe-weather induced, meaning that other variables like cost or population don't have great influence over duration time, since the most important attribute is how long the weather event lasts."
   ]
  },
  {
   "cell_type": "markdown",
   "metadata": {},
   "source": [
    "### Fairness Analysis"
   ]
  },
  {
   "cell_type": "code",
   "execution_count": null,
   "metadata": {
    "ExecuteTime": {
     "end_time": "2019-10-31T23:36:28.666489Z",
     "start_time": "2019-10-31T23:36:28.664381Z"
    }
   },
   "outputs": [],
   "source": [
    "# TODO"
   ]
  }
 ],
 "metadata": {
  "kernelspec": {
   "display_name": "Python 3 (ipykernel)",
   "language": "python",
   "name": "python3"
  },
  "language_info": {
   "codemirror_mode": {
    "name": "ipython",
    "version": 3
   },
   "file_extension": ".py",
   "mimetype": "text/x-python",
   "name": "python",
   "nbconvert_exporter": "python",
   "pygments_lexer": "ipython3",
   "version": "3.9.2"
  }
 },
 "nbformat": 4,
 "nbformat_minor": 2
}
