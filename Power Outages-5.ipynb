{
 "cells": [
  {
   "cell_type": "markdown",
   "metadata": {},
   "source": [
    "# Predicting Power Outage Events based on Weather Conditions\n",
    "\n",
    "**Name(s)**: Sarah Borsotto and Hector Gallo"
   ]
  },
  {
   "cell_type": "markdown",
   "metadata": {},
   "source": [
    "## Code"
   ]
  },
  {
   "cell_type": "code",
   "execution_count": 1,
   "metadata": {
    "ExecuteTime": {
     "end_time": "2019-10-31T23:36:28.652554Z",
     "start_time": "2019-10-31T23:36:27.180520Z"
    }
   },
   "outputs": [],
   "source": [
    "import pandas as pd\n",
    "import numpy as np\n",
    "import os\n",
    "\n",
    "import plotly.express as px\n",
    "pd.options.plotting.backend = 'plotly'"
   ]
  },
  {
   "cell_type": "markdown",
   "metadata": {},
   "source": [
    "### Brainstorming"
   ]
  },
  {
   "cell_type": "markdown",
   "metadata": {},
   "source": [
    "Are any states over pricing their power source?\n",
    "    - Take into account income, cost of power, etc.\n",
    "\n",
    "Weather and power outages\n",
    "    - Does hotter weather lead to more power outages?\n",
    "    Null Hypothesis: Power outages don’t vary significantly based on weather?\n",
    "    Alternative: there are significantly more power outages in during colder times of the year\n",
    "\n",
    "How does population density and land type effect power outages\n",
    "    - More people, cities will have more power outages than less density and urban\n",
    "\n",
    "What are the major causes of power outages\n",
    "\n",
    "Income and duration (do poorer communities experience longer durations?)\n",
    "\n",
    "How have power outages changed over time"
   ]
  },
  {
   "cell_type": "markdown",
   "metadata": {},
   "source": [
    "### Introduction"
   ]
  },
  {
   "cell_type": "markdown",
   "metadata": {},
   "source": [
    "   Major power outages have had severe widespread impacts, disrupting daily life, businesses, communication systems, and critical infrastructures. They can lead to significant economic losses due to damaged equipment and interrupted services. Public safety may also be compromised as emergency response systems, transportation, and healthcare facilities become limited. Not to mention, prolonged outages can provoke health risks and psychological stress among affected populations. It is therefore imperative that we identify the leading predictors of major power outages. We aim to do so by exploring a rich dataset of major power outage observations within the continental U.S. between January 2000 and July 2016.\n",
    "\t\n",
    "   Our dataset is sourced from Purdue University and was utilized in an article called “A Multi-Hazard Approach to Assess Severe Weather-Induced Major Power Outage Risks in the U.S.”. It includes a substantial amount of information on the location of the outage, date and time information describing when the outage occurred, as well as climatic, economic, and electrical consumption patterns for the region of the outage. As per the Department of Energy, major power outage events are characterized based on the following; the event either impacted more than 50,000 customers or the event led to an unplanned firm load loss of 300 MW. Correspondingly, our dataset only includes major power outage events that meet these requirements. \n",
    "    \n",
    "   We are interested in investigating the major causes of power outage events, such as when these events occur the most and under what specific weather patterns. More specifically, we seek to answer the following: do power outages have longer duration periods in colder weather? We focus our attention on time, climate, and cause categories, resulting in a dataset of 1534 rows and 10 columns. The column categories we saved are year, month, anomaly level, outage start time, outage restoration time, cause category, cause category detail, outage duration, customers affected, and our own season category. The descriptions of each column variable are detailed as such:"
   ]
  },
  {
   "cell_type": "markdown",
   "metadata": {},
   "source": [
    "YEAR - The year the outage event took place\n",
    "\n",
    "MONTH - The month the outage event took place\n",
    "\n",
    "ANOMALY.LEVEL - Represents the oceanic El Niño/La Niña (ONI) index referring to the cold and warm episodes by season, estimated as a 3-month running mean of ERSST.v4 SST anomalies in the Niño 3.4 region.\n",
    "\n",
    "OUTAGE.START - Indicates the date and time that the power outage began\n",
    "\n",
    "OUTAGE.RESTORATION - Indicates the date and time that power was restored for all customers\n",
    "\n",
    "CAUSE.CATEGORY - Categories of all the events causing the major power outages\n",
    "\n",
    "CAUSE.CATEGORY.DETAIL - Detailed description of the event categories causing the major power outages\n",
    "\n",
    "OUTAGE.DURATION - Duration of the outage event in minutes\n",
    "\n",
    "CUSTOMERS.AFFECTED - Number of customers affected by the power outage event\n",
    "\n",
    "SEASON - The season that the power outage occurred in"
   ]
  },
  {
   "cell_type": "markdown",
   "metadata": {},
   "source": [
    "### Cleaning and EDA"
   ]
  },
  {
   "cell_type": "markdown",
   "metadata": {},
   "source": [
    "First, let's take a look at our dataset:"
   ]
  },
  {
   "cell_type": "code",
   "execution_count": 2,
   "metadata": {},
   "outputs": [
    {
     "data": {
      "text/html": [
       "<div>\n",
       "<style scoped>\n",
       "    .dataframe tbody tr th:only-of-type {\n",
       "        vertical-align: middle;\n",
       "    }\n",
       "\n",
       "    .dataframe tbody tr th {\n",
       "        vertical-align: top;\n",
       "    }\n",
       "\n",
       "    .dataframe thead th {\n",
       "        text-align: right;\n",
       "    }\n",
       "</style>\n",
       "<table border=\"1\" class=\"dataframe\">\n",
       "  <thead>\n",
       "    <tr style=\"text-align: right;\">\n",
       "      <th></th>\n",
       "      <th>variables</th>\n",
       "      <th>OBS</th>\n",
       "      <th>YEAR</th>\n",
       "      <th>MONTH</th>\n",
       "      <th>U.S._STATE</th>\n",
       "      <th>POSTAL.CODE</th>\n",
       "      <th>NERC.REGION</th>\n",
       "      <th>CLIMATE.REGION</th>\n",
       "      <th>ANOMALY.LEVEL</th>\n",
       "      <th>CLIMATE.CATEGORY</th>\n",
       "      <th>...</th>\n",
       "      <th>POPPCT_URBAN</th>\n",
       "      <th>POPPCT_UC</th>\n",
       "      <th>POPDEN_URBAN</th>\n",
       "      <th>POPDEN_UC</th>\n",
       "      <th>POPDEN_RURAL</th>\n",
       "      <th>AREAPCT_URBAN</th>\n",
       "      <th>AREAPCT_UC</th>\n",
       "      <th>PCT_LAND</th>\n",
       "      <th>PCT_WATER_TOT</th>\n",
       "      <th>PCT_WATER_INLAND</th>\n",
       "    </tr>\n",
       "  </thead>\n",
       "  <tbody>\n",
       "    <tr>\n",
       "      <th>0</th>\n",
       "      <td>Units</td>\n",
       "      <td>NaN</td>\n",
       "      <td>NaN</td>\n",
       "      <td>NaN</td>\n",
       "      <td>NaN</td>\n",
       "      <td>NaN</td>\n",
       "      <td>NaN</td>\n",
       "      <td>NaN</td>\n",
       "      <td>numeric</td>\n",
       "      <td>NaN</td>\n",
       "      <td>...</td>\n",
       "      <td>%</td>\n",
       "      <td>%</td>\n",
       "      <td>persons per square mile</td>\n",
       "      <td>persons per square mile</td>\n",
       "      <td>persons per square mile</td>\n",
       "      <td>%</td>\n",
       "      <td>%</td>\n",
       "      <td>%</td>\n",
       "      <td>%</td>\n",
       "      <td>%</td>\n",
       "    </tr>\n",
       "    <tr>\n",
       "      <th>1</th>\n",
       "      <td>NaN</td>\n",
       "      <td>1.0</td>\n",
       "      <td>2011.0</td>\n",
       "      <td>7.0</td>\n",
       "      <td>Minnesota</td>\n",
       "      <td>MN</td>\n",
       "      <td>MRO</td>\n",
       "      <td>East North Central</td>\n",
       "      <td>-0.3</td>\n",
       "      <td>normal</td>\n",
       "      <td>...</td>\n",
       "      <td>73.27</td>\n",
       "      <td>15.28</td>\n",
       "      <td>2279</td>\n",
       "      <td>1700.5</td>\n",
       "      <td>18.2</td>\n",
       "      <td>2.14</td>\n",
       "      <td>0.6</td>\n",
       "      <td>91.592666</td>\n",
       "      <td>8.407334</td>\n",
       "      <td>5.478743</td>\n",
       "    </tr>\n",
       "    <tr>\n",
       "      <th>2</th>\n",
       "      <td>NaN</td>\n",
       "      <td>2.0</td>\n",
       "      <td>2014.0</td>\n",
       "      <td>5.0</td>\n",
       "      <td>Minnesota</td>\n",
       "      <td>MN</td>\n",
       "      <td>MRO</td>\n",
       "      <td>East North Central</td>\n",
       "      <td>-0.1</td>\n",
       "      <td>normal</td>\n",
       "      <td>...</td>\n",
       "      <td>73.27</td>\n",
       "      <td>15.28</td>\n",
       "      <td>2279</td>\n",
       "      <td>1700.5</td>\n",
       "      <td>18.2</td>\n",
       "      <td>2.14</td>\n",
       "      <td>0.6</td>\n",
       "      <td>91.592666</td>\n",
       "      <td>8.407334</td>\n",
       "      <td>5.478743</td>\n",
       "    </tr>\n",
       "    <tr>\n",
       "      <th>3</th>\n",
       "      <td>NaN</td>\n",
       "      <td>3.0</td>\n",
       "      <td>2010.0</td>\n",
       "      <td>10.0</td>\n",
       "      <td>Minnesota</td>\n",
       "      <td>MN</td>\n",
       "      <td>MRO</td>\n",
       "      <td>East North Central</td>\n",
       "      <td>-1.5</td>\n",
       "      <td>cold</td>\n",
       "      <td>...</td>\n",
       "      <td>73.27</td>\n",
       "      <td>15.28</td>\n",
       "      <td>2279</td>\n",
       "      <td>1700.5</td>\n",
       "      <td>18.2</td>\n",
       "      <td>2.14</td>\n",
       "      <td>0.6</td>\n",
       "      <td>91.592666</td>\n",
       "      <td>8.407334</td>\n",
       "      <td>5.478743</td>\n",
       "    </tr>\n",
       "    <tr>\n",
       "      <th>4</th>\n",
       "      <td>NaN</td>\n",
       "      <td>4.0</td>\n",
       "      <td>2012.0</td>\n",
       "      <td>6.0</td>\n",
       "      <td>Minnesota</td>\n",
       "      <td>MN</td>\n",
       "      <td>MRO</td>\n",
       "      <td>East North Central</td>\n",
       "      <td>-0.1</td>\n",
       "      <td>normal</td>\n",
       "      <td>...</td>\n",
       "      <td>73.27</td>\n",
       "      <td>15.28</td>\n",
       "      <td>2279</td>\n",
       "      <td>1700.5</td>\n",
       "      <td>18.2</td>\n",
       "      <td>2.14</td>\n",
       "      <td>0.6</td>\n",
       "      <td>91.592666</td>\n",
       "      <td>8.407334</td>\n",
       "      <td>5.478743</td>\n",
       "    </tr>\n",
       "  </tbody>\n",
       "</table>\n",
       "<p>5 rows × 57 columns</p>\n",
       "</div>"
      ],
      "text/plain": [
       "  variables  OBS    YEAR  MONTH U.S._STATE POSTAL.CODE NERC.REGION  \\\n",
       "0     Units  NaN     NaN    NaN        NaN         NaN         NaN   \n",
       "1       NaN  1.0  2011.0    7.0  Minnesota          MN         MRO   \n",
       "2       NaN  2.0  2014.0    5.0  Minnesota          MN         MRO   \n",
       "3       NaN  3.0  2010.0   10.0  Minnesota          MN         MRO   \n",
       "4       NaN  4.0  2012.0    6.0  Minnesota          MN         MRO   \n",
       "\n",
       "       CLIMATE.REGION ANOMALY.LEVEL CLIMATE.CATEGORY  ... POPPCT_URBAN  \\\n",
       "0                 NaN       numeric              NaN  ...            %   \n",
       "1  East North Central          -0.3           normal  ...        73.27   \n",
       "2  East North Central          -0.1           normal  ...        73.27   \n",
       "3  East North Central          -1.5             cold  ...        73.27   \n",
       "4  East North Central          -0.1           normal  ...        73.27   \n",
       "\n",
       "  POPPCT_UC             POPDEN_URBAN                POPDEN_UC  \\\n",
       "0         %  persons per square mile  persons per square mile   \n",
       "1     15.28                     2279                   1700.5   \n",
       "2     15.28                     2279                   1700.5   \n",
       "3     15.28                     2279                   1700.5   \n",
       "4     15.28                     2279                   1700.5   \n",
       "\n",
       "              POPDEN_RURAL AREAPCT_URBAN AREAPCT_UC   PCT_LAND PCT_WATER_TOT  \\\n",
       "0  persons per square mile             %          %          %             %   \n",
       "1                     18.2          2.14        0.6  91.592666      8.407334   \n",
       "2                     18.2          2.14        0.6  91.592666      8.407334   \n",
       "3                     18.2          2.14        0.6  91.592666      8.407334   \n",
       "4                     18.2          2.14        0.6  91.592666      8.407334   \n",
       "\n",
       "   PCT_WATER_INLAND  \n",
       "0                 %  \n",
       "1          5.478743  \n",
       "2          5.478743  \n",
       "3          5.478743  \n",
       "4          5.478743  \n",
       "\n",
       "[5 rows x 57 columns]"
      ]
     },
     "execution_count": 2,
     "metadata": {},
     "output_type": "execute_result"
    }
   ],
   "source": [
    "outages = pd.read_excel(\"outage.xlsx\")\n",
    "outages.head()"
   ]
  },
  {
   "cell_type": "markdown",
   "metadata": {},
   "source": [
    "At first glance, we can see that the first two columns and the first row of the dataset include many NaN values. This is because the variable column denotes the units used for each measure in the following columns, as described in the first row. We will remove these since we already have information about the units of each variable."
   ]
  },
  {
   "cell_type": "code",
   "execution_count": 3,
   "metadata": {},
   "outputs": [],
   "source": [
    "# drop the first row\n",
    "outages = outages.drop(0)\n",
    "outages = outages.reset_index(drop=True)\n",
    "# drop first two columns\n",
    "outages = outages.drop(columns=['variables', \"OBS\"])"
   ]
  },
  {
   "cell_type": "markdown",
   "metadata": {},
   "source": [
    "We also want to combine the OUTAGE.START.TIME and OUTAGE.START.DATE columns into one variable called OUTAGE.START, and then repeat the same thing for a new OUTAGE.RESTORATION column. We will do so using some helper functions."
   ]
  },
  {
   "cell_type": "code",
   "execution_count": 4,
   "metadata": {},
   "outputs": [],
   "source": [
    "# convert columns to string, obtain the relevant information, combine the two strings (taking into \n",
    "# account the null values), and convert string to a datetime object\n",
    "def combine_times(df, col1, col2):\n",
    "    combine = df[col1].astype(str).str[:11] + df[col2].astype(str)\n",
    "    return pd.to_datetime(combine.apply(lambda x: np.nan if x == 'nannan' else x), format='%Y-%m-%d %H:%M:%S')"
   ]
  },
  {
   "cell_type": "code",
   "execution_count": 5,
   "metadata": {},
   "outputs": [],
   "source": [
    "outages = outages.assign(**{'OUTAGE.START':combine_times(outages, \"OUTAGE.START.DATE\", \"OUTAGE.START.TIME\")})"
   ]
  },
  {
   "cell_type": "code",
   "execution_count": 6,
   "metadata": {},
   "outputs": [],
   "source": [
    "outages = outages.assign(**{'OUTAGE.RESTORATION':combine_times(outages, \"OUTAGE.RESTORATION.DATE\", \"OUTAGE.RESTORATION.TIME\")})"
   ]
  },
  {
   "cell_type": "markdown",
   "metadata": {},
   "source": [
    "Since we are only interested in looking at potential causes for power outage events, especially weather-induced factors, we will only keep some of the columns. The columns we wanted to focus on are year, month, anomaly level, outage start time, outage restoration time, cause category, cause category detail, outage duration, and customers affected."
   ]
  },
  {
   "cell_type": "code",
   "execution_count": 7,
   "metadata": {},
   "outputs": [
    {
     "data": {
      "text/html": [
       "<div>\n",
       "<style scoped>\n",
       "    .dataframe tbody tr th:only-of-type {\n",
       "        vertical-align: middle;\n",
       "    }\n",
       "\n",
       "    .dataframe tbody tr th {\n",
       "        vertical-align: top;\n",
       "    }\n",
       "\n",
       "    .dataframe thead th {\n",
       "        text-align: right;\n",
       "    }\n",
       "</style>\n",
       "<table border=\"1\" class=\"dataframe\">\n",
       "  <thead>\n",
       "    <tr style=\"text-align: right;\">\n",
       "      <th></th>\n",
       "      <th>YEAR</th>\n",
       "      <th>MONTH</th>\n",
       "      <th>U.S._STATE</th>\n",
       "      <th>POSTAL.CODE</th>\n",
       "      <th>NERC.REGION</th>\n",
       "      <th>CLIMATE.REGION</th>\n",
       "      <th>ANOMALY.LEVEL</th>\n",
       "      <th>CLIMATE.CATEGORY</th>\n",
       "      <th>OUTAGE.START.DATE</th>\n",
       "      <th>OUTAGE.START.TIME</th>\n",
       "      <th>...</th>\n",
       "      <th>POPDEN_URBAN</th>\n",
       "      <th>POPDEN_UC</th>\n",
       "      <th>POPDEN_RURAL</th>\n",
       "      <th>AREAPCT_URBAN</th>\n",
       "      <th>AREAPCT_UC</th>\n",
       "      <th>PCT_LAND</th>\n",
       "      <th>PCT_WATER_TOT</th>\n",
       "      <th>PCT_WATER_INLAND</th>\n",
       "      <th>OUTAGE.START</th>\n",
       "      <th>OUTAGE.RESTORATION</th>\n",
       "    </tr>\n",
       "  </thead>\n",
       "  <tbody>\n",
       "    <tr>\n",
       "      <th>0</th>\n",
       "      <td>2011.0</td>\n",
       "      <td>7.0</td>\n",
       "      <td>Minnesota</td>\n",
       "      <td>MN</td>\n",
       "      <td>MRO</td>\n",
       "      <td>East North Central</td>\n",
       "      <td>-0.3</td>\n",
       "      <td>normal</td>\n",
       "      <td>2011-07-01 00:00:00</td>\n",
       "      <td>17:00:00</td>\n",
       "      <td>...</td>\n",
       "      <td>2279</td>\n",
       "      <td>1700.5</td>\n",
       "      <td>18.2</td>\n",
       "      <td>2.14</td>\n",
       "      <td>0.6</td>\n",
       "      <td>91.592666</td>\n",
       "      <td>8.407334</td>\n",
       "      <td>5.478743</td>\n",
       "      <td>2011-07-01 17:00:00</td>\n",
       "      <td>2011-07-03 20:00:00</td>\n",
       "    </tr>\n",
       "    <tr>\n",
       "      <th>1</th>\n",
       "      <td>2014.0</td>\n",
       "      <td>5.0</td>\n",
       "      <td>Minnesota</td>\n",
       "      <td>MN</td>\n",
       "      <td>MRO</td>\n",
       "      <td>East North Central</td>\n",
       "      <td>-0.1</td>\n",
       "      <td>normal</td>\n",
       "      <td>2014-05-11 00:00:00</td>\n",
       "      <td>18:38:00</td>\n",
       "      <td>...</td>\n",
       "      <td>2279</td>\n",
       "      <td>1700.5</td>\n",
       "      <td>18.2</td>\n",
       "      <td>2.14</td>\n",
       "      <td>0.6</td>\n",
       "      <td>91.592666</td>\n",
       "      <td>8.407334</td>\n",
       "      <td>5.478743</td>\n",
       "      <td>2014-05-11 18:38:00</td>\n",
       "      <td>2014-05-11 18:39:00</td>\n",
       "    </tr>\n",
       "    <tr>\n",
       "      <th>2</th>\n",
       "      <td>2010.0</td>\n",
       "      <td>10.0</td>\n",
       "      <td>Minnesota</td>\n",
       "      <td>MN</td>\n",
       "      <td>MRO</td>\n",
       "      <td>East North Central</td>\n",
       "      <td>-1.5</td>\n",
       "      <td>cold</td>\n",
       "      <td>2010-10-26 00:00:00</td>\n",
       "      <td>20:00:00</td>\n",
       "      <td>...</td>\n",
       "      <td>2279</td>\n",
       "      <td>1700.5</td>\n",
       "      <td>18.2</td>\n",
       "      <td>2.14</td>\n",
       "      <td>0.6</td>\n",
       "      <td>91.592666</td>\n",
       "      <td>8.407334</td>\n",
       "      <td>5.478743</td>\n",
       "      <td>2010-10-26 20:00:00</td>\n",
       "      <td>2010-10-28 22:00:00</td>\n",
       "    </tr>\n",
       "    <tr>\n",
       "      <th>3</th>\n",
       "      <td>2012.0</td>\n",
       "      <td>6.0</td>\n",
       "      <td>Minnesota</td>\n",
       "      <td>MN</td>\n",
       "      <td>MRO</td>\n",
       "      <td>East North Central</td>\n",
       "      <td>-0.1</td>\n",
       "      <td>normal</td>\n",
       "      <td>2012-06-19 00:00:00</td>\n",
       "      <td>04:30:00</td>\n",
       "      <td>...</td>\n",
       "      <td>2279</td>\n",
       "      <td>1700.5</td>\n",
       "      <td>18.2</td>\n",
       "      <td>2.14</td>\n",
       "      <td>0.6</td>\n",
       "      <td>91.592666</td>\n",
       "      <td>8.407334</td>\n",
       "      <td>5.478743</td>\n",
       "      <td>2012-06-19 04:30:00</td>\n",
       "      <td>2012-06-20 23:00:00</td>\n",
       "    </tr>\n",
       "    <tr>\n",
       "      <th>4</th>\n",
       "      <td>2015.0</td>\n",
       "      <td>7.0</td>\n",
       "      <td>Minnesota</td>\n",
       "      <td>MN</td>\n",
       "      <td>MRO</td>\n",
       "      <td>East North Central</td>\n",
       "      <td>1.2</td>\n",
       "      <td>warm</td>\n",
       "      <td>2015-07-18 00:00:00</td>\n",
       "      <td>02:00:00</td>\n",
       "      <td>...</td>\n",
       "      <td>2279</td>\n",
       "      <td>1700.5</td>\n",
       "      <td>18.2</td>\n",
       "      <td>2.14</td>\n",
       "      <td>0.6</td>\n",
       "      <td>91.592666</td>\n",
       "      <td>8.407334</td>\n",
       "      <td>5.478743</td>\n",
       "      <td>2015-07-18 02:00:00</td>\n",
       "      <td>2015-07-19 07:00:00</td>\n",
       "    </tr>\n",
       "  </tbody>\n",
       "</table>\n",
       "<p>5 rows × 57 columns</p>\n",
       "</div>"
      ],
      "text/plain": [
       "     YEAR  MONTH U.S._STATE POSTAL.CODE NERC.REGION      CLIMATE.REGION  \\\n",
       "0  2011.0    7.0  Minnesota          MN         MRO  East North Central   \n",
       "1  2014.0    5.0  Minnesota          MN         MRO  East North Central   \n",
       "2  2010.0   10.0  Minnesota          MN         MRO  East North Central   \n",
       "3  2012.0    6.0  Minnesota          MN         MRO  East North Central   \n",
       "4  2015.0    7.0  Minnesota          MN         MRO  East North Central   \n",
       "\n",
       "  ANOMALY.LEVEL CLIMATE.CATEGORY    OUTAGE.START.DATE OUTAGE.START.TIME  ...  \\\n",
       "0          -0.3           normal  2011-07-01 00:00:00          17:00:00  ...   \n",
       "1          -0.1           normal  2014-05-11 00:00:00          18:38:00  ...   \n",
       "2          -1.5             cold  2010-10-26 00:00:00          20:00:00  ...   \n",
       "3          -0.1           normal  2012-06-19 00:00:00          04:30:00  ...   \n",
       "4           1.2             warm  2015-07-18 00:00:00          02:00:00  ...   \n",
       "\n",
       "  POPDEN_URBAN POPDEN_UC POPDEN_RURAL AREAPCT_URBAN AREAPCT_UC   PCT_LAND  \\\n",
       "0         2279    1700.5         18.2          2.14        0.6  91.592666   \n",
       "1         2279    1700.5         18.2          2.14        0.6  91.592666   \n",
       "2         2279    1700.5         18.2          2.14        0.6  91.592666   \n",
       "3         2279    1700.5         18.2          2.14        0.6  91.592666   \n",
       "4         2279    1700.5         18.2          2.14        0.6  91.592666   \n",
       "\n",
       "  PCT_WATER_TOT  PCT_WATER_INLAND        OUTAGE.START  OUTAGE.RESTORATION  \n",
       "0      8.407334          5.478743 2011-07-01 17:00:00 2011-07-03 20:00:00  \n",
       "1      8.407334          5.478743 2014-05-11 18:38:00 2014-05-11 18:39:00  \n",
       "2      8.407334          5.478743 2010-10-26 20:00:00 2010-10-28 22:00:00  \n",
       "3      8.407334          5.478743 2012-06-19 04:30:00 2012-06-20 23:00:00  \n",
       "4      8.407334          5.478743 2015-07-18 02:00:00 2015-07-19 07:00:00  \n",
       "\n",
       "[5 rows x 57 columns]"
      ]
     },
     "execution_count": 7,
     "metadata": {},
     "output_type": "execute_result"
    }
   ],
   "source": [
    "outages.head()"
   ]
  },
  {
   "cell_type": "code",
   "execution_count": 8,
   "metadata": {},
   "outputs": [],
   "source": [
    "outages = outages[[\"YEAR\", \"MONTH\", \"ANOMALY.LEVEL\", \"OUTAGE.START\", \"OUTAGE.RESTORATION\", \n",
    "                   \"CAUSE.CATEGORY\", \"CAUSE.CATEGORY.DETAIL\", \"OUTAGE.DURATION\", \"CUSTOMERS.AFFECTED\", ]]"
   ]
  },
  {
   "cell_type": "code",
   "execution_count": 9,
   "metadata": {},
   "outputs": [
    {
     "data": {
      "text/html": [
       "<div>\n",
       "<style scoped>\n",
       "    .dataframe tbody tr th:only-of-type {\n",
       "        vertical-align: middle;\n",
       "    }\n",
       "\n",
       "    .dataframe tbody tr th {\n",
       "        vertical-align: top;\n",
       "    }\n",
       "\n",
       "    .dataframe thead th {\n",
       "        text-align: right;\n",
       "    }\n",
       "</style>\n",
       "<table border=\"1\" class=\"dataframe\">\n",
       "  <thead>\n",
       "    <tr style=\"text-align: right;\">\n",
       "      <th></th>\n",
       "      <th>YEAR</th>\n",
       "      <th>MONTH</th>\n",
       "      <th>ANOMALY.LEVEL</th>\n",
       "      <th>OUTAGE.START</th>\n",
       "      <th>OUTAGE.RESTORATION</th>\n",
       "      <th>CAUSE.CATEGORY</th>\n",
       "      <th>CAUSE.CATEGORY.DETAIL</th>\n",
       "      <th>OUTAGE.DURATION</th>\n",
       "      <th>CUSTOMERS.AFFECTED</th>\n",
       "    </tr>\n",
       "  </thead>\n",
       "  <tbody>\n",
       "    <tr>\n",
       "      <th>0</th>\n",
       "      <td>2011.0</td>\n",
       "      <td>7.0</td>\n",
       "      <td>-0.3</td>\n",
       "      <td>2011-07-01 17:00:00</td>\n",
       "      <td>2011-07-03 20:00:00</td>\n",
       "      <td>severe weather</td>\n",
       "      <td>NaN</td>\n",
       "      <td>3060</td>\n",
       "      <td>70000.0</td>\n",
       "    </tr>\n",
       "    <tr>\n",
       "      <th>1</th>\n",
       "      <td>2014.0</td>\n",
       "      <td>5.0</td>\n",
       "      <td>-0.1</td>\n",
       "      <td>2014-05-11 18:38:00</td>\n",
       "      <td>2014-05-11 18:39:00</td>\n",
       "      <td>intentional attack</td>\n",
       "      <td>vandalism</td>\n",
       "      <td>1</td>\n",
       "      <td>NaN</td>\n",
       "    </tr>\n",
       "    <tr>\n",
       "      <th>2</th>\n",
       "      <td>2010.0</td>\n",
       "      <td>10.0</td>\n",
       "      <td>-1.5</td>\n",
       "      <td>2010-10-26 20:00:00</td>\n",
       "      <td>2010-10-28 22:00:00</td>\n",
       "      <td>severe weather</td>\n",
       "      <td>heavy wind</td>\n",
       "      <td>3000</td>\n",
       "      <td>70000.0</td>\n",
       "    </tr>\n",
       "    <tr>\n",
       "      <th>3</th>\n",
       "      <td>2012.0</td>\n",
       "      <td>6.0</td>\n",
       "      <td>-0.1</td>\n",
       "      <td>2012-06-19 04:30:00</td>\n",
       "      <td>2012-06-20 23:00:00</td>\n",
       "      <td>severe weather</td>\n",
       "      <td>thunderstorm</td>\n",
       "      <td>2550</td>\n",
       "      <td>68200.0</td>\n",
       "    </tr>\n",
       "    <tr>\n",
       "      <th>4</th>\n",
       "      <td>2015.0</td>\n",
       "      <td>7.0</td>\n",
       "      <td>1.2</td>\n",
       "      <td>2015-07-18 02:00:00</td>\n",
       "      <td>2015-07-19 07:00:00</td>\n",
       "      <td>severe weather</td>\n",
       "      <td>NaN</td>\n",
       "      <td>1740</td>\n",
       "      <td>250000.0</td>\n",
       "    </tr>\n",
       "  </tbody>\n",
       "</table>\n",
       "</div>"
      ],
      "text/plain": [
       "     YEAR  MONTH ANOMALY.LEVEL        OUTAGE.START  OUTAGE.RESTORATION  \\\n",
       "0  2011.0    7.0          -0.3 2011-07-01 17:00:00 2011-07-03 20:00:00   \n",
       "1  2014.0    5.0          -0.1 2014-05-11 18:38:00 2014-05-11 18:39:00   \n",
       "2  2010.0   10.0          -1.5 2010-10-26 20:00:00 2010-10-28 22:00:00   \n",
       "3  2012.0    6.0          -0.1 2012-06-19 04:30:00 2012-06-20 23:00:00   \n",
       "4  2015.0    7.0           1.2 2015-07-18 02:00:00 2015-07-19 07:00:00   \n",
       "\n",
       "       CAUSE.CATEGORY CAUSE.CATEGORY.DETAIL OUTAGE.DURATION  \\\n",
       "0      severe weather                   NaN            3060   \n",
       "1  intentional attack             vandalism               1   \n",
       "2      severe weather            heavy wind            3000   \n",
       "3      severe weather          thunderstorm            2550   \n",
       "4      severe weather                   NaN            1740   \n",
       "\n",
       "   CUSTOMERS.AFFECTED  \n",
       "0             70000.0  \n",
       "1                 NaN  \n",
       "2             70000.0  \n",
       "3             68200.0  \n",
       "4            250000.0  "
      ]
     },
     "execution_count": 9,
     "metadata": {},
     "output_type": "execute_result"
    }
   ],
   "source": [
    "outages.head()"
   ]
  },
  {
   "cell_type": "markdown",
   "metadata": {},
   "source": [
    "For our hypothesis testing later on, we also need information on the season. We have created a helper function that takes in the month of the power outage and returns the season that the power outage occurred in. This was saved to a new column called SEASON. "
   ]
  },
  {
   "cell_type": "code",
   "execution_count": 10,
   "metadata": {},
   "outputs": [],
   "source": [
    "def season(month):\n",
    "    if month in [12.0, 1.0, 2.0]:\n",
    "        return \"winter\"\n",
    "    elif month in [3.0, 4.0, 5.0]:\n",
    "        return \"spring\"\n",
    "    elif month in [6.0, 7.0, 8.0]:\n",
    "        return \"summer\"\n",
    "    elif month in [9.0, 10.0, 11.0]:\n",
    "        return \"fall\"\n",
    "    else:\n",
    "        return np.NaN"
   ]
  },
  {
   "cell_type": "code",
   "execution_count": 11,
   "metadata": {},
   "outputs": [
    {
     "data": {
      "text/html": [
       "<div>\n",
       "<style scoped>\n",
       "    .dataframe tbody tr th:only-of-type {\n",
       "        vertical-align: middle;\n",
       "    }\n",
       "\n",
       "    .dataframe tbody tr th {\n",
       "        vertical-align: top;\n",
       "    }\n",
       "\n",
       "    .dataframe thead th {\n",
       "        text-align: right;\n",
       "    }\n",
       "</style>\n",
       "<table border=\"1\" class=\"dataframe\">\n",
       "  <thead>\n",
       "    <tr style=\"text-align: right;\">\n",
       "      <th></th>\n",
       "      <th>YEAR</th>\n",
       "      <th>MONTH</th>\n",
       "      <th>ANOMALY.LEVEL</th>\n",
       "      <th>OUTAGE.START</th>\n",
       "      <th>OUTAGE.RESTORATION</th>\n",
       "      <th>CAUSE.CATEGORY</th>\n",
       "      <th>CAUSE.CATEGORY.DETAIL</th>\n",
       "      <th>OUTAGE.DURATION</th>\n",
       "      <th>CUSTOMERS.AFFECTED</th>\n",
       "      <th>SEASON</th>\n",
       "    </tr>\n",
       "  </thead>\n",
       "  <tbody>\n",
       "    <tr>\n",
       "      <th>0</th>\n",
       "      <td>2011.0</td>\n",
       "      <td>7.0</td>\n",
       "      <td>-0.3</td>\n",
       "      <td>2011-07-01 17:00:00</td>\n",
       "      <td>2011-07-03 20:00:00</td>\n",
       "      <td>severe weather</td>\n",
       "      <td>NaN</td>\n",
       "      <td>3060</td>\n",
       "      <td>70000.0</td>\n",
       "      <td>summer</td>\n",
       "    </tr>\n",
       "    <tr>\n",
       "      <th>1</th>\n",
       "      <td>2014.0</td>\n",
       "      <td>5.0</td>\n",
       "      <td>-0.1</td>\n",
       "      <td>2014-05-11 18:38:00</td>\n",
       "      <td>2014-05-11 18:39:00</td>\n",
       "      <td>intentional attack</td>\n",
       "      <td>vandalism</td>\n",
       "      <td>1</td>\n",
       "      <td>NaN</td>\n",
       "      <td>spring</td>\n",
       "    </tr>\n",
       "    <tr>\n",
       "      <th>2</th>\n",
       "      <td>2010.0</td>\n",
       "      <td>10.0</td>\n",
       "      <td>-1.5</td>\n",
       "      <td>2010-10-26 20:00:00</td>\n",
       "      <td>2010-10-28 22:00:00</td>\n",
       "      <td>severe weather</td>\n",
       "      <td>heavy wind</td>\n",
       "      <td>3000</td>\n",
       "      <td>70000.0</td>\n",
       "      <td>fall</td>\n",
       "    </tr>\n",
       "    <tr>\n",
       "      <th>3</th>\n",
       "      <td>2012.0</td>\n",
       "      <td>6.0</td>\n",
       "      <td>-0.1</td>\n",
       "      <td>2012-06-19 04:30:00</td>\n",
       "      <td>2012-06-20 23:00:00</td>\n",
       "      <td>severe weather</td>\n",
       "      <td>thunderstorm</td>\n",
       "      <td>2550</td>\n",
       "      <td>68200.0</td>\n",
       "      <td>summer</td>\n",
       "    </tr>\n",
       "    <tr>\n",
       "      <th>4</th>\n",
       "      <td>2015.0</td>\n",
       "      <td>7.0</td>\n",
       "      <td>1.2</td>\n",
       "      <td>2015-07-18 02:00:00</td>\n",
       "      <td>2015-07-19 07:00:00</td>\n",
       "      <td>severe weather</td>\n",
       "      <td>NaN</td>\n",
       "      <td>1740</td>\n",
       "      <td>250000.0</td>\n",
       "      <td>summer</td>\n",
       "    </tr>\n",
       "  </tbody>\n",
       "</table>\n",
       "</div>"
      ],
      "text/plain": [
       "     YEAR  MONTH ANOMALY.LEVEL        OUTAGE.START  OUTAGE.RESTORATION  \\\n",
       "0  2011.0    7.0          -0.3 2011-07-01 17:00:00 2011-07-03 20:00:00   \n",
       "1  2014.0    5.0          -0.1 2014-05-11 18:38:00 2014-05-11 18:39:00   \n",
       "2  2010.0   10.0          -1.5 2010-10-26 20:00:00 2010-10-28 22:00:00   \n",
       "3  2012.0    6.0          -0.1 2012-06-19 04:30:00 2012-06-20 23:00:00   \n",
       "4  2015.0    7.0           1.2 2015-07-18 02:00:00 2015-07-19 07:00:00   \n",
       "\n",
       "       CAUSE.CATEGORY CAUSE.CATEGORY.DETAIL OUTAGE.DURATION  \\\n",
       "0      severe weather                   NaN            3060   \n",
       "1  intentional attack             vandalism               1   \n",
       "2      severe weather            heavy wind            3000   \n",
       "3      severe weather          thunderstorm            2550   \n",
       "4      severe weather                   NaN            1740   \n",
       "\n",
       "   CUSTOMERS.AFFECTED  SEASON  \n",
       "0             70000.0  summer  \n",
       "1                 NaN  spring  \n",
       "2             70000.0    fall  \n",
       "3             68200.0  summer  \n",
       "4            250000.0  summer  "
      ]
     },
     "execution_count": 11,
     "metadata": {},
     "output_type": "execute_result"
    }
   ],
   "source": [
    "outages = outages.assign(SEASON=outages[\"MONTH\"].apply(season))\n",
    "outages.head()"
   ]
  },
  {
   "cell_type": "code",
   "execution_count": 12,
   "metadata": {},
   "outputs": [
    {
     "data": {
      "text/plain": [
       "YEAR                            float64\n",
       "MONTH                           float64\n",
       "ANOMALY.LEVEL                    object\n",
       "OUTAGE.START             datetime64[ns]\n",
       "OUTAGE.RESTORATION       datetime64[ns]\n",
       "CAUSE.CATEGORY                   object\n",
       "CAUSE.CATEGORY.DETAIL            object\n",
       "OUTAGE.DURATION                  object\n",
       "CUSTOMERS.AFFECTED              float64\n",
       "SEASON                           object\n",
       "dtype: object"
      ]
     },
     "execution_count": 12,
     "metadata": {},
     "output_type": "execute_result"
    }
   ],
   "source": [
    "outages.dtypes"
   ]
  },
  {
   "cell_type": "markdown",
   "metadata": {},
   "source": [
    "We need to convert the YEAR and MONTH columns to integer and the ANOMALY.LEVEL and OUTAGE.DURATION columns to float. This is necessary for us to be able to calculate means of the durations and anomaly level variables when we perform data analysis later on. After inspecting each column for abnormal values, we noticed that some of the values in CAUSE.CATEGORY.DETAIL have unnecessary capitalization and spacing, as well as repeating categories, such as winter and winter storm. These can be grouped together so we can investigate weather patterns in a more general sense. We take care of these concerns and develop the resulting dataframe with the corresponding data types:"
   ]
  },
  {
   "cell_type": "code",
   "execution_count": 13,
   "metadata": {},
   "outputs": [],
   "source": [
    "# replaces odd spacing and capitalization in the cause.category.detail column\n",
    "# groups similar cause detail categories together, such as winter storm and winter\n",
    "\n",
    "def clean_categories(text):\n",
    "    if text == ' Hydro' or text == 'Hydro':\n",
    "        return 'hydro'\n",
    "    elif text == ' Coal' or text == 'Coal':\n",
    "        return 'coal'\n",
    "    elif text == ' Natural Gas':\n",
    "        return 'natural gas'\n",
    "    elif text == 'Petroleum':\n",
    "        return 'petroleum'\n",
    "    elif text == \"winter storm\":\n",
    "        return \"winter\"\n",
    "    elif (text == \"heavy wind\") or (text == \"wind storm\") or (text == \"wind/rain\"):\n",
    "        return \"wind\"\n",
    "    elif text == \"thunderstorm; islanding\":\n",
    "        return \"thunderstorm\"\n",
    "    elif (text == \"snow/ice storm\") or (text == \"snow/ice \"):\n",
    "        return \"snow/ice\"\n",
    "    else:\n",
    "        return text"
   ]
  },
  {
   "cell_type": "code",
   "execution_count": 14,
   "metadata": {},
   "outputs": [],
   "source": [
    "# converts data types for year, month, anomaly level, and outage duration\n",
    "# also converts nan values to np.NaN\n",
    "# for integer values, we replaced nan with -1, these values will be disregarded in the analysis as they are not\n",
    "# contextually possible \n",
    "\n",
    "outages['YEAR'] = outages['YEAR'].astype(int)\n",
    "outages['MONTH'] = outages['MONTH'].astype(\"Int64\")\n",
    "outages['ANOMALY.LEVEL'] = outages['ANOMALY.LEVEL'].astype(float)\n",
    "outages['CAUSE.CATEGORY.DETAIL'] = outages['CAUSE.CATEGORY.DETAIL'].apply(clean_categories)\n",
    "outages['OUTAGE.DURATION'] = outages['OUTAGE.DURATION'].astype(float)\n",
    "outages['OUTAGE.START'] = outages['OUTAGE.START'].apply(lambda x: np.nan if pd.isna(x) else x)\n",
    "outages['OUTAGE.RESTORATION'] = outages['OUTAGE.RESTORATION'].apply(lambda x: np.nan if pd.isna(x) else x)"
   ]
  },
  {
   "cell_type": "markdown",
   "metadata": {},
   "source": [
    "Below is the cleaned outages dataframe and the corresponding data types:"
   ]
  },
  {
   "cell_type": "code",
   "execution_count": 15,
   "metadata": {},
   "outputs": [],
   "source": [
    "# include the pics below"
   ]
  },
  {
   "cell_type": "code",
   "execution_count": 16,
   "metadata": {},
   "outputs": [
    {
     "data": {
      "text/html": [
       "<div>\n",
       "<style scoped>\n",
       "    .dataframe tbody tr th:only-of-type {\n",
       "        vertical-align: middle;\n",
       "    }\n",
       "\n",
       "    .dataframe tbody tr th {\n",
       "        vertical-align: top;\n",
       "    }\n",
       "\n",
       "    .dataframe thead th {\n",
       "        text-align: right;\n",
       "    }\n",
       "</style>\n",
       "<table border=\"1\" class=\"dataframe\">\n",
       "  <thead>\n",
       "    <tr style=\"text-align: right;\">\n",
       "      <th></th>\n",
       "      <th>YEAR</th>\n",
       "      <th>MONTH</th>\n",
       "      <th>ANOMALY.LEVEL</th>\n",
       "      <th>OUTAGE.START</th>\n",
       "      <th>OUTAGE.RESTORATION</th>\n",
       "      <th>CAUSE.CATEGORY</th>\n",
       "      <th>CAUSE.CATEGORY.DETAIL</th>\n",
       "      <th>OUTAGE.DURATION</th>\n",
       "      <th>CUSTOMERS.AFFECTED</th>\n",
       "      <th>SEASON</th>\n",
       "    </tr>\n",
       "  </thead>\n",
       "  <tbody>\n",
       "    <tr>\n",
       "      <th>0</th>\n",
       "      <td>2011</td>\n",
       "      <td>7</td>\n",
       "      <td>-0.3</td>\n",
       "      <td>2011-07-01 17:00:00</td>\n",
       "      <td>2011-07-03 20:00:00</td>\n",
       "      <td>severe weather</td>\n",
       "      <td>NaN</td>\n",
       "      <td>3060.0</td>\n",
       "      <td>70000.0</td>\n",
       "      <td>summer</td>\n",
       "    </tr>\n",
       "    <tr>\n",
       "      <th>1</th>\n",
       "      <td>2014</td>\n",
       "      <td>5</td>\n",
       "      <td>-0.1</td>\n",
       "      <td>2014-05-11 18:38:00</td>\n",
       "      <td>2014-05-11 18:39:00</td>\n",
       "      <td>intentional attack</td>\n",
       "      <td>vandalism</td>\n",
       "      <td>1.0</td>\n",
       "      <td>NaN</td>\n",
       "      <td>spring</td>\n",
       "    </tr>\n",
       "    <tr>\n",
       "      <th>2</th>\n",
       "      <td>2010</td>\n",
       "      <td>10</td>\n",
       "      <td>-1.5</td>\n",
       "      <td>2010-10-26 20:00:00</td>\n",
       "      <td>2010-10-28 22:00:00</td>\n",
       "      <td>severe weather</td>\n",
       "      <td>wind</td>\n",
       "      <td>3000.0</td>\n",
       "      <td>70000.0</td>\n",
       "      <td>fall</td>\n",
       "    </tr>\n",
       "    <tr>\n",
       "      <th>3</th>\n",
       "      <td>2012</td>\n",
       "      <td>6</td>\n",
       "      <td>-0.1</td>\n",
       "      <td>2012-06-19 04:30:00</td>\n",
       "      <td>2012-06-20 23:00:00</td>\n",
       "      <td>severe weather</td>\n",
       "      <td>thunderstorm</td>\n",
       "      <td>2550.0</td>\n",
       "      <td>68200.0</td>\n",
       "      <td>summer</td>\n",
       "    </tr>\n",
       "    <tr>\n",
       "      <th>4</th>\n",
       "      <td>2015</td>\n",
       "      <td>7</td>\n",
       "      <td>1.2</td>\n",
       "      <td>2015-07-18 02:00:00</td>\n",
       "      <td>2015-07-19 07:00:00</td>\n",
       "      <td>severe weather</td>\n",
       "      <td>NaN</td>\n",
       "      <td>1740.0</td>\n",
       "      <td>250000.0</td>\n",
       "      <td>summer</td>\n",
       "    </tr>\n",
       "  </tbody>\n",
       "</table>\n",
       "</div>"
      ],
      "text/plain": [
       "   YEAR  MONTH  ANOMALY.LEVEL        OUTAGE.START  OUTAGE.RESTORATION  \\\n",
       "0  2011      7           -0.3 2011-07-01 17:00:00 2011-07-03 20:00:00   \n",
       "1  2014      5           -0.1 2014-05-11 18:38:00 2014-05-11 18:39:00   \n",
       "2  2010     10           -1.5 2010-10-26 20:00:00 2010-10-28 22:00:00   \n",
       "3  2012      6           -0.1 2012-06-19 04:30:00 2012-06-20 23:00:00   \n",
       "4  2015      7            1.2 2015-07-18 02:00:00 2015-07-19 07:00:00   \n",
       "\n",
       "       CAUSE.CATEGORY CAUSE.CATEGORY.DETAIL  OUTAGE.DURATION  \\\n",
       "0      severe weather                   NaN           3060.0   \n",
       "1  intentional attack             vandalism              1.0   \n",
       "2      severe weather                  wind           3000.0   \n",
       "3      severe weather          thunderstorm           2550.0   \n",
       "4      severe weather                   NaN           1740.0   \n",
       "\n",
       "   CUSTOMERS.AFFECTED  SEASON  \n",
       "0             70000.0  summer  \n",
       "1                 NaN  spring  \n",
       "2             70000.0    fall  \n",
       "3             68200.0  summer  \n",
       "4            250000.0  summer  "
      ]
     },
     "execution_count": 16,
     "metadata": {},
     "output_type": "execute_result"
    }
   ],
   "source": [
    "outages.head()"
   ]
  },
  {
   "cell_type": "code",
   "execution_count": 17,
   "metadata": {},
   "outputs": [
    {
     "data": {
      "text/plain": [
       "YEAR                              int64\n",
       "MONTH                             Int64\n",
       "ANOMALY.LEVEL                   float64\n",
       "OUTAGE.START             datetime64[ns]\n",
       "OUTAGE.RESTORATION       datetime64[ns]\n",
       "CAUSE.CATEGORY                   object\n",
       "CAUSE.CATEGORY.DETAIL            object\n",
       "OUTAGE.DURATION                 float64\n",
       "CUSTOMERS.AFFECTED              float64\n",
       "SEASON                           object\n",
       "dtype: object"
      ]
     },
     "execution_count": 17,
     "metadata": {},
     "output_type": "execute_result"
    }
   ],
   "source": [
    "outages.dtypes"
   ]
  },
  {
   "cell_type": "markdown",
   "metadata": {},
   "source": [
    "## Univariate Analysis"
   ]
  },
  {
   "cell_type": "markdown",
   "metadata": {},
   "source": [
    "We are primarily interested in pinpointing the main severe weather-induced causes of power outages. Conveniently enough, our dataset contains categorical information on the cause of the event, in a column named “CAUSE.CATEGORY”. We have included a histogram plot of this variable below:"
   ]
  },
  {
   "cell_type": "code",
   "execution_count": 46,
   "metadata": {},
   "outputs": [
    {
     "data": {
      "application/vnd.plotly.v1+json": {
       "config": {
        "plotlyServerURL": "https://plot.ly"
       },
       "data": [
        {
         "alignmentgroup": "True",
         "hovertemplate": "variable=CAUSE.CATEGORY<br>Cause of Power Outage=%{x}<br>Count=%{y}<extra></extra>",
         "legendgroup": "CAUSE.CATEGORY",
         "marker": {
          "color": "#636efa",
          "pattern": {
           "shape": ""
          }
         },
         "name": "CAUSE.CATEGORY",
         "offsetgroup": "CAUSE.CATEGORY",
         "orientation": "v",
         "showlegend": true,
         "textposition": "auto",
         "type": "bar",
         "x": [
          "severe weather",
          "intentional attack",
          "system operability disruption",
          "public appeal",
          "equipment failure",
          "fuel supply emergency",
          "islanding"
         ],
         "xaxis": "x",
         "y": [
          763,
          418,
          127,
          69,
          60,
          51,
          46
         ],
         "yaxis": "y"
        }
       ],
       "layout": {
        "barmode": "relative",
        "legend": {
         "title": {
          "text": "variable"
         },
         "tracegroupgap": 0
        },
        "showlegend": false,
        "template": {
         "data": {
          "bar": [
           {
            "error_x": {
             "color": "#2a3f5f"
            },
            "error_y": {
             "color": "#2a3f5f"
            },
            "marker": {
             "line": {
              "color": "#E5ECF6",
              "width": 0.5
             },
             "pattern": {
              "fillmode": "overlay",
              "size": 10,
              "solidity": 0.2
             }
            },
            "type": "bar"
           }
          ],
          "barpolar": [
           {
            "marker": {
             "line": {
              "color": "#E5ECF6",
              "width": 0.5
             },
             "pattern": {
              "fillmode": "overlay",
              "size": 10,
              "solidity": 0.2
             }
            },
            "type": "barpolar"
           }
          ],
          "carpet": [
           {
            "aaxis": {
             "endlinecolor": "#2a3f5f",
             "gridcolor": "white",
             "linecolor": "white",
             "minorgridcolor": "white",
             "startlinecolor": "#2a3f5f"
            },
            "baxis": {
             "endlinecolor": "#2a3f5f",
             "gridcolor": "white",
             "linecolor": "white",
             "minorgridcolor": "white",
             "startlinecolor": "#2a3f5f"
            },
            "type": "carpet"
           }
          ],
          "choropleth": [
           {
            "colorbar": {
             "outlinewidth": 0,
             "ticks": ""
            },
            "type": "choropleth"
           }
          ],
          "contour": [
           {
            "colorbar": {
             "outlinewidth": 0,
             "ticks": ""
            },
            "colorscale": [
             [
              0,
              "#0d0887"
             ],
             [
              0.1111111111111111,
              "#46039f"
             ],
             [
              0.2222222222222222,
              "#7201a8"
             ],
             [
              0.3333333333333333,
              "#9c179e"
             ],
             [
              0.4444444444444444,
              "#bd3786"
             ],
             [
              0.5555555555555556,
              "#d8576b"
             ],
             [
              0.6666666666666666,
              "#ed7953"
             ],
             [
              0.7777777777777778,
              "#fb9f3a"
             ],
             [
              0.8888888888888888,
              "#fdca26"
             ],
             [
              1,
              "#f0f921"
             ]
            ],
            "type": "contour"
           }
          ],
          "contourcarpet": [
           {
            "colorbar": {
             "outlinewidth": 0,
             "ticks": ""
            },
            "type": "contourcarpet"
           }
          ],
          "heatmap": [
           {
            "colorbar": {
             "outlinewidth": 0,
             "ticks": ""
            },
            "colorscale": [
             [
              0,
              "#0d0887"
             ],
             [
              0.1111111111111111,
              "#46039f"
             ],
             [
              0.2222222222222222,
              "#7201a8"
             ],
             [
              0.3333333333333333,
              "#9c179e"
             ],
             [
              0.4444444444444444,
              "#bd3786"
             ],
             [
              0.5555555555555556,
              "#d8576b"
             ],
             [
              0.6666666666666666,
              "#ed7953"
             ],
             [
              0.7777777777777778,
              "#fb9f3a"
             ],
             [
              0.8888888888888888,
              "#fdca26"
             ],
             [
              1,
              "#f0f921"
             ]
            ],
            "type": "heatmap"
           }
          ],
          "heatmapgl": [
           {
            "colorbar": {
             "outlinewidth": 0,
             "ticks": ""
            },
            "colorscale": [
             [
              0,
              "#0d0887"
             ],
             [
              0.1111111111111111,
              "#46039f"
             ],
             [
              0.2222222222222222,
              "#7201a8"
             ],
             [
              0.3333333333333333,
              "#9c179e"
             ],
             [
              0.4444444444444444,
              "#bd3786"
             ],
             [
              0.5555555555555556,
              "#d8576b"
             ],
             [
              0.6666666666666666,
              "#ed7953"
             ],
             [
              0.7777777777777778,
              "#fb9f3a"
             ],
             [
              0.8888888888888888,
              "#fdca26"
             ],
             [
              1,
              "#f0f921"
             ]
            ],
            "type": "heatmapgl"
           }
          ],
          "histogram": [
           {
            "marker": {
             "pattern": {
              "fillmode": "overlay",
              "size": 10,
              "solidity": 0.2
             }
            },
            "type": "histogram"
           }
          ],
          "histogram2d": [
           {
            "colorbar": {
             "outlinewidth": 0,
             "ticks": ""
            },
            "colorscale": [
             [
              0,
              "#0d0887"
             ],
             [
              0.1111111111111111,
              "#46039f"
             ],
             [
              0.2222222222222222,
              "#7201a8"
             ],
             [
              0.3333333333333333,
              "#9c179e"
             ],
             [
              0.4444444444444444,
              "#bd3786"
             ],
             [
              0.5555555555555556,
              "#d8576b"
             ],
             [
              0.6666666666666666,
              "#ed7953"
             ],
             [
              0.7777777777777778,
              "#fb9f3a"
             ],
             [
              0.8888888888888888,
              "#fdca26"
             ],
             [
              1,
              "#f0f921"
             ]
            ],
            "type": "histogram2d"
           }
          ],
          "histogram2dcontour": [
           {
            "colorbar": {
             "outlinewidth": 0,
             "ticks": ""
            },
            "colorscale": [
             [
              0,
              "#0d0887"
             ],
             [
              0.1111111111111111,
              "#46039f"
             ],
             [
              0.2222222222222222,
              "#7201a8"
             ],
             [
              0.3333333333333333,
              "#9c179e"
             ],
             [
              0.4444444444444444,
              "#bd3786"
             ],
             [
              0.5555555555555556,
              "#d8576b"
             ],
             [
              0.6666666666666666,
              "#ed7953"
             ],
             [
              0.7777777777777778,
              "#fb9f3a"
             ],
             [
              0.8888888888888888,
              "#fdca26"
             ],
             [
              1,
              "#f0f921"
             ]
            ],
            "type": "histogram2dcontour"
           }
          ],
          "mesh3d": [
           {
            "colorbar": {
             "outlinewidth": 0,
             "ticks": ""
            },
            "type": "mesh3d"
           }
          ],
          "parcoords": [
           {
            "line": {
             "colorbar": {
              "outlinewidth": 0,
              "ticks": ""
             }
            },
            "type": "parcoords"
           }
          ],
          "pie": [
           {
            "automargin": true,
            "type": "pie"
           }
          ],
          "scatter": [
           {
            "fillpattern": {
             "fillmode": "overlay",
             "size": 10,
             "solidity": 0.2
            },
            "type": "scatter"
           }
          ],
          "scatter3d": [
           {
            "line": {
             "colorbar": {
              "outlinewidth": 0,
              "ticks": ""
             }
            },
            "marker": {
             "colorbar": {
              "outlinewidth": 0,
              "ticks": ""
             }
            },
            "type": "scatter3d"
           }
          ],
          "scattercarpet": [
           {
            "marker": {
             "colorbar": {
              "outlinewidth": 0,
              "ticks": ""
             }
            },
            "type": "scattercarpet"
           }
          ],
          "scattergeo": [
           {
            "marker": {
             "colorbar": {
              "outlinewidth": 0,
              "ticks": ""
             }
            },
            "type": "scattergeo"
           }
          ],
          "scattergl": [
           {
            "marker": {
             "colorbar": {
              "outlinewidth": 0,
              "ticks": ""
             }
            },
            "type": "scattergl"
           }
          ],
          "scattermapbox": [
           {
            "marker": {
             "colorbar": {
              "outlinewidth": 0,
              "ticks": ""
             }
            },
            "type": "scattermapbox"
           }
          ],
          "scatterpolar": [
           {
            "marker": {
             "colorbar": {
              "outlinewidth": 0,
              "ticks": ""
             }
            },
            "type": "scatterpolar"
           }
          ],
          "scatterpolargl": [
           {
            "marker": {
             "colorbar": {
              "outlinewidth": 0,
              "ticks": ""
             }
            },
            "type": "scatterpolargl"
           }
          ],
          "scatterternary": [
           {
            "marker": {
             "colorbar": {
              "outlinewidth": 0,
              "ticks": ""
             }
            },
            "type": "scatterternary"
           }
          ],
          "surface": [
           {
            "colorbar": {
             "outlinewidth": 0,
             "ticks": ""
            },
            "colorscale": [
             [
              0,
              "#0d0887"
             ],
             [
              0.1111111111111111,
              "#46039f"
             ],
             [
              0.2222222222222222,
              "#7201a8"
             ],
             [
              0.3333333333333333,
              "#9c179e"
             ],
             [
              0.4444444444444444,
              "#bd3786"
             ],
             [
              0.5555555555555556,
              "#d8576b"
             ],
             [
              0.6666666666666666,
              "#ed7953"
             ],
             [
              0.7777777777777778,
              "#fb9f3a"
             ],
             [
              0.8888888888888888,
              "#fdca26"
             ],
             [
              1,
              "#f0f921"
             ]
            ],
            "type": "surface"
           }
          ],
          "table": [
           {
            "cells": {
             "fill": {
              "color": "#EBF0F8"
             },
             "line": {
              "color": "white"
             }
            },
            "header": {
             "fill": {
              "color": "#C8D4E3"
             },
             "line": {
              "color": "white"
             }
            },
            "type": "table"
           }
          ]
         },
         "layout": {
          "annotationdefaults": {
           "arrowcolor": "#2a3f5f",
           "arrowhead": 0,
           "arrowwidth": 1
          },
          "autotypenumbers": "strict",
          "coloraxis": {
           "colorbar": {
            "outlinewidth": 0,
            "ticks": ""
           }
          },
          "colorscale": {
           "diverging": [
            [
             0,
             "#8e0152"
            ],
            [
             0.1,
             "#c51b7d"
            ],
            [
             0.2,
             "#de77ae"
            ],
            [
             0.3,
             "#f1b6da"
            ],
            [
             0.4,
             "#fde0ef"
            ],
            [
             0.5,
             "#f7f7f7"
            ],
            [
             0.6,
             "#e6f5d0"
            ],
            [
             0.7,
             "#b8e186"
            ],
            [
             0.8,
             "#7fbc41"
            ],
            [
             0.9,
             "#4d9221"
            ],
            [
             1,
             "#276419"
            ]
           ],
           "sequential": [
            [
             0,
             "#0d0887"
            ],
            [
             0.1111111111111111,
             "#46039f"
            ],
            [
             0.2222222222222222,
             "#7201a8"
            ],
            [
             0.3333333333333333,
             "#9c179e"
            ],
            [
             0.4444444444444444,
             "#bd3786"
            ],
            [
             0.5555555555555556,
             "#d8576b"
            ],
            [
             0.6666666666666666,
             "#ed7953"
            ],
            [
             0.7777777777777778,
             "#fb9f3a"
            ],
            [
             0.8888888888888888,
             "#fdca26"
            ],
            [
             1,
             "#f0f921"
            ]
           ],
           "sequentialminus": [
            [
             0,
             "#0d0887"
            ],
            [
             0.1111111111111111,
             "#46039f"
            ],
            [
             0.2222222222222222,
             "#7201a8"
            ],
            [
             0.3333333333333333,
             "#9c179e"
            ],
            [
             0.4444444444444444,
             "#bd3786"
            ],
            [
             0.5555555555555556,
             "#d8576b"
            ],
            [
             0.6666666666666666,
             "#ed7953"
            ],
            [
             0.7777777777777778,
             "#fb9f3a"
            ],
            [
             0.8888888888888888,
             "#fdca26"
            ],
            [
             1,
             "#f0f921"
            ]
           ]
          },
          "colorway": [
           "#636efa",
           "#EF553B",
           "#00cc96",
           "#ab63fa",
           "#FFA15A",
           "#19d3f3",
           "#FF6692",
           "#B6E880",
           "#FF97FF",
           "#FECB52"
          ],
          "font": {
           "color": "#2a3f5f"
          },
          "geo": {
           "bgcolor": "white",
           "lakecolor": "white",
           "landcolor": "#E5ECF6",
           "showlakes": true,
           "showland": true,
           "subunitcolor": "white"
          },
          "hoverlabel": {
           "align": "left"
          },
          "hovermode": "closest",
          "mapbox": {
           "style": "light"
          },
          "paper_bgcolor": "white",
          "plot_bgcolor": "#E5ECF6",
          "polar": {
           "angularaxis": {
            "gridcolor": "white",
            "linecolor": "white",
            "ticks": ""
           },
           "bgcolor": "#E5ECF6",
           "radialaxis": {
            "gridcolor": "white",
            "linecolor": "white",
            "ticks": ""
           }
          },
          "scene": {
           "xaxis": {
            "backgroundcolor": "#E5ECF6",
            "gridcolor": "white",
            "gridwidth": 2,
            "linecolor": "white",
            "showbackground": true,
            "ticks": "",
            "zerolinecolor": "white"
           },
           "yaxis": {
            "backgroundcolor": "#E5ECF6",
            "gridcolor": "white",
            "gridwidth": 2,
            "linecolor": "white",
            "showbackground": true,
            "ticks": "",
            "zerolinecolor": "white"
           },
           "zaxis": {
            "backgroundcolor": "#E5ECF6",
            "gridcolor": "white",
            "gridwidth": 2,
            "linecolor": "white",
            "showbackground": true,
            "ticks": "",
            "zerolinecolor": "white"
           }
          },
          "shapedefaults": {
           "line": {
            "color": "#2a3f5f"
           }
          },
          "ternary": {
           "aaxis": {
            "gridcolor": "white",
            "linecolor": "white",
            "ticks": ""
           },
           "baxis": {
            "gridcolor": "white",
            "linecolor": "white",
            "ticks": ""
           },
           "bgcolor": "#E5ECF6",
           "caxis": {
            "gridcolor": "white",
            "linecolor": "white",
            "ticks": ""
           }
          },
          "title": {
           "x": 0.05
          },
          "xaxis": {
           "automargin": true,
           "gridcolor": "white",
           "linecolor": "white",
           "ticks": "",
           "title": {
            "standoff": 15
           },
           "zerolinecolor": "white",
           "zerolinewidth": 2
          },
          "yaxis": {
           "automargin": true,
           "gridcolor": "white",
           "linecolor": "white",
           "ticks": "",
           "title": {
            "standoff": 15
           },
           "zerolinecolor": "white",
           "zerolinewidth": 2
          }
         }
        },
        "title": {
         "text": "Counts of Major Power Outage Causes"
        },
        "xaxis": {
         "anchor": "y",
         "domain": [
          0,
          1
         ],
         "title": {
          "text": "Cause of Power Outage"
         }
        },
        "yaxis": {
         "anchor": "x",
         "domain": [
          0,
          1
         ],
         "title": {
          "text": "Count"
         }
        }
       }
      },
      "text/html": [
       "<div>                            <div id=\"84025a8d-21e6-4097-9a28-519dcfe9e9b6\" class=\"plotly-graph-div\" style=\"height:525px; width:100%;\"></div>            <script type=\"text/javascript\">                require([\"plotly\"], function(Plotly) {                    window.PLOTLYENV=window.PLOTLYENV || {};                                    if (document.getElementById(\"84025a8d-21e6-4097-9a28-519dcfe9e9b6\")) {                    Plotly.newPlot(                        \"84025a8d-21e6-4097-9a28-519dcfe9e9b6\",                        [{\"alignmentgroup\":\"True\",\"hovertemplate\":\"variable=CAUSE.CATEGORY\\u003cbr\\u003eCause of Power Outage=%{x}\\u003cbr\\u003eCount=%{y}\\u003cextra\\u003e\\u003c\\u002fextra\\u003e\",\"legendgroup\":\"CAUSE.CATEGORY\",\"marker\":{\"color\":\"#636efa\",\"pattern\":{\"shape\":\"\"}},\"name\":\"CAUSE.CATEGORY\",\"offsetgroup\":\"CAUSE.CATEGORY\",\"orientation\":\"v\",\"showlegend\":true,\"textposition\":\"auto\",\"x\":[\"severe weather\",\"intentional attack\",\"system operability disruption\",\"public appeal\",\"equipment failure\",\"fuel supply emergency\",\"islanding\"],\"xaxis\":\"x\",\"y\":[763,418,127,69,60,51,46],\"yaxis\":\"y\",\"type\":\"bar\"}],                        {\"template\":{\"data\":{\"histogram2dcontour\":[{\"type\":\"histogram2dcontour\",\"colorbar\":{\"outlinewidth\":0,\"ticks\":\"\"},\"colorscale\":[[0.0,\"#0d0887\"],[0.1111111111111111,\"#46039f\"],[0.2222222222222222,\"#7201a8\"],[0.3333333333333333,\"#9c179e\"],[0.4444444444444444,\"#bd3786\"],[0.5555555555555556,\"#d8576b\"],[0.6666666666666666,\"#ed7953\"],[0.7777777777777778,\"#fb9f3a\"],[0.8888888888888888,\"#fdca26\"],[1.0,\"#f0f921\"]]}],\"choropleth\":[{\"type\":\"choropleth\",\"colorbar\":{\"outlinewidth\":0,\"ticks\":\"\"}}],\"histogram2d\":[{\"type\":\"histogram2d\",\"colorbar\":{\"outlinewidth\":0,\"ticks\":\"\"},\"colorscale\":[[0.0,\"#0d0887\"],[0.1111111111111111,\"#46039f\"],[0.2222222222222222,\"#7201a8\"],[0.3333333333333333,\"#9c179e\"],[0.4444444444444444,\"#bd3786\"],[0.5555555555555556,\"#d8576b\"],[0.6666666666666666,\"#ed7953\"],[0.7777777777777778,\"#fb9f3a\"],[0.8888888888888888,\"#fdca26\"],[1.0,\"#f0f921\"]]}],\"heatmap\":[{\"type\":\"heatmap\",\"colorbar\":{\"outlinewidth\":0,\"ticks\":\"\"},\"colorscale\":[[0.0,\"#0d0887\"],[0.1111111111111111,\"#46039f\"],[0.2222222222222222,\"#7201a8\"],[0.3333333333333333,\"#9c179e\"],[0.4444444444444444,\"#bd3786\"],[0.5555555555555556,\"#d8576b\"],[0.6666666666666666,\"#ed7953\"],[0.7777777777777778,\"#fb9f3a\"],[0.8888888888888888,\"#fdca26\"],[1.0,\"#f0f921\"]]}],\"heatmapgl\":[{\"type\":\"heatmapgl\",\"colorbar\":{\"outlinewidth\":0,\"ticks\":\"\"},\"colorscale\":[[0.0,\"#0d0887\"],[0.1111111111111111,\"#46039f\"],[0.2222222222222222,\"#7201a8\"],[0.3333333333333333,\"#9c179e\"],[0.4444444444444444,\"#bd3786\"],[0.5555555555555556,\"#d8576b\"],[0.6666666666666666,\"#ed7953\"],[0.7777777777777778,\"#fb9f3a\"],[0.8888888888888888,\"#fdca26\"],[1.0,\"#f0f921\"]]}],\"contourcarpet\":[{\"type\":\"contourcarpet\",\"colorbar\":{\"outlinewidth\":0,\"ticks\":\"\"}}],\"contour\":[{\"type\":\"contour\",\"colorbar\":{\"outlinewidth\":0,\"ticks\":\"\"},\"colorscale\":[[0.0,\"#0d0887\"],[0.1111111111111111,\"#46039f\"],[0.2222222222222222,\"#7201a8\"],[0.3333333333333333,\"#9c179e\"],[0.4444444444444444,\"#bd3786\"],[0.5555555555555556,\"#d8576b\"],[0.6666666666666666,\"#ed7953\"],[0.7777777777777778,\"#fb9f3a\"],[0.8888888888888888,\"#fdca26\"],[1.0,\"#f0f921\"]]}],\"surface\":[{\"type\":\"surface\",\"colorbar\":{\"outlinewidth\":0,\"ticks\":\"\"},\"colorscale\":[[0.0,\"#0d0887\"],[0.1111111111111111,\"#46039f\"],[0.2222222222222222,\"#7201a8\"],[0.3333333333333333,\"#9c179e\"],[0.4444444444444444,\"#bd3786\"],[0.5555555555555556,\"#d8576b\"],[0.6666666666666666,\"#ed7953\"],[0.7777777777777778,\"#fb9f3a\"],[0.8888888888888888,\"#fdca26\"],[1.0,\"#f0f921\"]]}],\"mesh3d\":[{\"type\":\"mesh3d\",\"colorbar\":{\"outlinewidth\":0,\"ticks\":\"\"}}],\"scatter\":[{\"fillpattern\":{\"fillmode\":\"overlay\",\"size\":10,\"solidity\":0.2},\"type\":\"scatter\"}],\"parcoords\":[{\"type\":\"parcoords\",\"line\":{\"colorbar\":{\"outlinewidth\":0,\"ticks\":\"\"}}}],\"scatterpolargl\":[{\"type\":\"scatterpolargl\",\"marker\":{\"colorbar\":{\"outlinewidth\":0,\"ticks\":\"\"}}}],\"bar\":[{\"error_x\":{\"color\":\"#2a3f5f\"},\"error_y\":{\"color\":\"#2a3f5f\"},\"marker\":{\"line\":{\"color\":\"#E5ECF6\",\"width\":0.5},\"pattern\":{\"fillmode\":\"overlay\",\"size\":10,\"solidity\":0.2}},\"type\":\"bar\"}],\"scattergeo\":[{\"type\":\"scattergeo\",\"marker\":{\"colorbar\":{\"outlinewidth\":0,\"ticks\":\"\"}}}],\"scatterpolar\":[{\"type\":\"scatterpolar\",\"marker\":{\"colorbar\":{\"outlinewidth\":0,\"ticks\":\"\"}}}],\"histogram\":[{\"marker\":{\"pattern\":{\"fillmode\":\"overlay\",\"size\":10,\"solidity\":0.2}},\"type\":\"histogram\"}],\"scattergl\":[{\"type\":\"scattergl\",\"marker\":{\"colorbar\":{\"outlinewidth\":0,\"ticks\":\"\"}}}],\"scatter3d\":[{\"type\":\"scatter3d\",\"line\":{\"colorbar\":{\"outlinewidth\":0,\"ticks\":\"\"}},\"marker\":{\"colorbar\":{\"outlinewidth\":0,\"ticks\":\"\"}}}],\"scattermapbox\":[{\"type\":\"scattermapbox\",\"marker\":{\"colorbar\":{\"outlinewidth\":0,\"ticks\":\"\"}}}],\"scatterternary\":[{\"type\":\"scatterternary\",\"marker\":{\"colorbar\":{\"outlinewidth\":0,\"ticks\":\"\"}}}],\"scattercarpet\":[{\"type\":\"scattercarpet\",\"marker\":{\"colorbar\":{\"outlinewidth\":0,\"ticks\":\"\"}}}],\"carpet\":[{\"aaxis\":{\"endlinecolor\":\"#2a3f5f\",\"gridcolor\":\"white\",\"linecolor\":\"white\",\"minorgridcolor\":\"white\",\"startlinecolor\":\"#2a3f5f\"},\"baxis\":{\"endlinecolor\":\"#2a3f5f\",\"gridcolor\":\"white\",\"linecolor\":\"white\",\"minorgridcolor\":\"white\",\"startlinecolor\":\"#2a3f5f\"},\"type\":\"carpet\"}],\"table\":[{\"cells\":{\"fill\":{\"color\":\"#EBF0F8\"},\"line\":{\"color\":\"white\"}},\"header\":{\"fill\":{\"color\":\"#C8D4E3\"},\"line\":{\"color\":\"white\"}},\"type\":\"table\"}],\"barpolar\":[{\"marker\":{\"line\":{\"color\":\"#E5ECF6\",\"width\":0.5},\"pattern\":{\"fillmode\":\"overlay\",\"size\":10,\"solidity\":0.2}},\"type\":\"barpolar\"}],\"pie\":[{\"automargin\":true,\"type\":\"pie\"}]},\"layout\":{\"autotypenumbers\":\"strict\",\"colorway\":[\"#636efa\",\"#EF553B\",\"#00cc96\",\"#ab63fa\",\"#FFA15A\",\"#19d3f3\",\"#FF6692\",\"#B6E880\",\"#FF97FF\",\"#FECB52\"],\"font\":{\"color\":\"#2a3f5f\"},\"hovermode\":\"closest\",\"hoverlabel\":{\"align\":\"left\"},\"paper_bgcolor\":\"white\",\"plot_bgcolor\":\"#E5ECF6\",\"polar\":{\"bgcolor\":\"#E5ECF6\",\"angularaxis\":{\"gridcolor\":\"white\",\"linecolor\":\"white\",\"ticks\":\"\"},\"radialaxis\":{\"gridcolor\":\"white\",\"linecolor\":\"white\",\"ticks\":\"\"}},\"ternary\":{\"bgcolor\":\"#E5ECF6\",\"aaxis\":{\"gridcolor\":\"white\",\"linecolor\":\"white\",\"ticks\":\"\"},\"baxis\":{\"gridcolor\":\"white\",\"linecolor\":\"white\",\"ticks\":\"\"},\"caxis\":{\"gridcolor\":\"white\",\"linecolor\":\"white\",\"ticks\":\"\"}},\"coloraxis\":{\"colorbar\":{\"outlinewidth\":0,\"ticks\":\"\"}},\"colorscale\":{\"sequential\":[[0.0,\"#0d0887\"],[0.1111111111111111,\"#46039f\"],[0.2222222222222222,\"#7201a8\"],[0.3333333333333333,\"#9c179e\"],[0.4444444444444444,\"#bd3786\"],[0.5555555555555556,\"#d8576b\"],[0.6666666666666666,\"#ed7953\"],[0.7777777777777778,\"#fb9f3a\"],[0.8888888888888888,\"#fdca26\"],[1.0,\"#f0f921\"]],\"sequentialminus\":[[0.0,\"#0d0887\"],[0.1111111111111111,\"#46039f\"],[0.2222222222222222,\"#7201a8\"],[0.3333333333333333,\"#9c179e\"],[0.4444444444444444,\"#bd3786\"],[0.5555555555555556,\"#d8576b\"],[0.6666666666666666,\"#ed7953\"],[0.7777777777777778,\"#fb9f3a\"],[0.8888888888888888,\"#fdca26\"],[1.0,\"#f0f921\"]],\"diverging\":[[0,\"#8e0152\"],[0.1,\"#c51b7d\"],[0.2,\"#de77ae\"],[0.3,\"#f1b6da\"],[0.4,\"#fde0ef\"],[0.5,\"#f7f7f7\"],[0.6,\"#e6f5d0\"],[0.7,\"#b8e186\"],[0.8,\"#7fbc41\"],[0.9,\"#4d9221\"],[1,\"#276419\"]]},\"xaxis\":{\"gridcolor\":\"white\",\"linecolor\":\"white\",\"ticks\":\"\",\"title\":{\"standoff\":15},\"zerolinecolor\":\"white\",\"automargin\":true,\"zerolinewidth\":2},\"yaxis\":{\"gridcolor\":\"white\",\"linecolor\":\"white\",\"ticks\":\"\",\"title\":{\"standoff\":15},\"zerolinecolor\":\"white\",\"automargin\":true,\"zerolinewidth\":2},\"scene\":{\"xaxis\":{\"backgroundcolor\":\"#E5ECF6\",\"gridcolor\":\"white\",\"linecolor\":\"white\",\"showbackground\":true,\"ticks\":\"\",\"zerolinecolor\":\"white\",\"gridwidth\":2},\"yaxis\":{\"backgroundcolor\":\"#E5ECF6\",\"gridcolor\":\"white\",\"linecolor\":\"white\",\"showbackground\":true,\"ticks\":\"\",\"zerolinecolor\":\"white\",\"gridwidth\":2},\"zaxis\":{\"backgroundcolor\":\"#E5ECF6\",\"gridcolor\":\"white\",\"linecolor\":\"white\",\"showbackground\":true,\"ticks\":\"\",\"zerolinecolor\":\"white\",\"gridwidth\":2}},\"shapedefaults\":{\"line\":{\"color\":\"#2a3f5f\"}},\"annotationdefaults\":{\"arrowcolor\":\"#2a3f5f\",\"arrowhead\":0,\"arrowwidth\":1},\"geo\":{\"bgcolor\":\"white\",\"landcolor\":\"#E5ECF6\",\"subunitcolor\":\"white\",\"showland\":true,\"showlakes\":true,\"lakecolor\":\"white\"},\"title\":{\"x\":0.05},\"mapbox\":{\"style\":\"light\"}}},\"xaxis\":{\"anchor\":\"y\",\"domain\":[0.0,1.0],\"title\":{\"text\":\"Cause of Power Outage\"}},\"yaxis\":{\"anchor\":\"x\",\"domain\":[0.0,1.0],\"title\":{\"text\":\"Count\"}},\"legend\":{\"title\":{\"text\":\"variable\"},\"tracegroupgap\":0},\"title\":{\"text\":\"Counts of Major Power Outage Causes\"},\"barmode\":\"relative\",\"showlegend\":false},                        {\"responsive\": true}                    ).then(function(){\n",
       "                            \n",
       "var gd = document.getElementById('84025a8d-21e6-4097-9a28-519dcfe9e9b6');\n",
       "var x = new MutationObserver(function (mutations, observer) {{\n",
       "        var display = window.getComputedStyle(gd).display;\n",
       "        if (!display || display === 'none') {{\n",
       "            console.log([gd, 'removed!']);\n",
       "            Plotly.purge(gd);\n",
       "            observer.disconnect();\n",
       "        }}\n",
       "}});\n",
       "\n",
       "// Listen for the removal of the full notebook cells\n",
       "var notebookContainer = gd.closest('#notebook-container');\n",
       "if (notebookContainer) {{\n",
       "    x.observe(notebookContainer, {childList: true});\n",
       "}}\n",
       "\n",
       "// Listen for the clearing of the current output cell\n",
       "var outputEl = gd.closest('.output');\n",
       "if (outputEl) {{\n",
       "    x.observe(outputEl, {childList: true});\n",
       "}}\n",
       "\n",
       "                        })                };                });            </script>        </div>"
      ]
     },
     "metadata": {},
     "output_type": "display_data"
    }
   ],
   "source": [
    "fig = px.bar(outages[\"CAUSE.CATEGORY\"].value_counts(),\n",
    "             title=\"Counts of Major Power Outage Causes\",\n",
    "             labels={'index': 'Cause of Power Outage', 'value':'Count'})\n",
    "fig.update_layout(showlegend=False)\n",
    "fig.show()"
   ]
  },
  {
   "cell_type": "markdown",
   "metadata": {},
   "source": [
    "Evidently, ‘severe weather’ appears to have the highest count relative to all of the other causes. While ‘intentional attack’ seems to also have a high count, it makes up only half of ‘severe weather’s’ count. As is such, we would like to center our analysis on the most prominent cause category, severe weather."
   ]
  },
  {
   "cell_type": "markdown",
   "metadata": {},
   "source": [
    "Considering that severe weather is a major factor for power outage events, we are curious to discover what specific severe weather conditions can be used to predict these events. Unlike the “CAUSE.CATEGORY” column, which has 0 missing values, our “CAUSE.CATEGORY.DETAIL” column, describing the cause in more detail, does have missing values. "
   ]
  },
  {
   "cell_type": "code",
   "execution_count": 47,
   "metadata": {},
   "outputs": [],
   "source": [
    "# we count the number of missing values for the cause category detail column\n",
    "# we only select outages that have missing values, then replace the missing values with 1 and count \n",
    "# how many missing values are in each cause category\n",
    "missing_causes = outages[outages[\"CAUSE.CATEGORY.DETAIL\"].isnull()].fillna(1).groupby(\"CAUSE.CATEGORY\")\\\n",
    ".count()[\"CAUSE.CATEGORY.DETAIL\"]"
   ]
  },
  {
   "cell_type": "code",
   "execution_count": 48,
   "metadata": {},
   "outputs": [],
   "source": [
    "# we divide the number of missing values for each cause category by the number of values in that category\n",
    "# to obtain a proportion that represents the number of missing values for each cause category  \n",
    "percent_missing = missing_causes / outages.groupby(\"CAUSE.CATEGORY\").size()"
   ]
  },
  {
   "cell_type": "code",
   "execution_count": 49,
   "metadata": {},
   "outputs": [
    {
     "data": {
      "text/plain": [
       "CAUSE.CATEGORY\n",
       "equipment failure                0.200000\n",
       "fuel supply emergency            0.372549\n",
       "intentional attack               0.114833\n",
       "islanding                        1.000000\n",
       "public appeal                    1.000000\n",
       "severe weather                   0.245085\n",
       "system operability disruption    0.708661\n",
       "dtype: float64"
      ]
     },
     "execution_count": 49,
     "metadata": {},
     "output_type": "execute_result"
    }
   ],
   "source": [
    "percent_missing"
   ]
  },
  {
   "cell_type": "markdown",
   "metadata": {},
   "source": [
    "Here is the percent of missing values for each cause detail category. We can see that islanding, public appeal, and system operability disruption have high proportions of missing values. This may be due to there not being many categories to describe the cause in detail, as the cause is already somewhat specific."
   ]
  },
  {
   "cell_type": "code",
   "execution_count": 50,
   "metadata": {},
   "outputs": [
    {
     "data": {
      "application/vnd.plotly.v1+json": {
       "config": {
        "plotlyServerURL": "https://plot.ly"
       },
       "data": [
        {
         "alignmentgroup": "True",
         "hovertemplate": "variable=0<br>CAUSE.CATEGORY=%{x}<br>Percent Missing=%{y}<extra></extra>",
         "legendgroup": "0",
         "marker": {
          "color": "#636efa",
          "pattern": {
           "shape": ""
          }
         },
         "name": "0",
         "offsetgroup": "0",
         "orientation": "v",
         "showlegend": true,
         "textposition": "auto",
         "type": "bar",
         "x": [
          "equipment failure",
          "fuel supply emergency",
          "intentional attack",
          "islanding",
          "public appeal",
          "severe weather",
          "system operability disruption"
         ],
         "xaxis": "x",
         "y": [
          0.2,
          0.37254901960784315,
          0.11483253588516747,
          1,
          1,
          0.24508519003931847,
          0.7086614173228346
         ],
         "yaxis": "y"
        }
       ],
       "layout": {
        "barmode": "relative",
        "legend": {
         "title": {
          "text": "variable"
         },
         "tracegroupgap": 0
        },
        "showlegend": false,
        "template": {
         "data": {
          "bar": [
           {
            "error_x": {
             "color": "#2a3f5f"
            },
            "error_y": {
             "color": "#2a3f5f"
            },
            "marker": {
             "line": {
              "color": "#E5ECF6",
              "width": 0.5
             },
             "pattern": {
              "fillmode": "overlay",
              "size": 10,
              "solidity": 0.2
             }
            },
            "type": "bar"
           }
          ],
          "barpolar": [
           {
            "marker": {
             "line": {
              "color": "#E5ECF6",
              "width": 0.5
             },
             "pattern": {
              "fillmode": "overlay",
              "size": 10,
              "solidity": 0.2
             }
            },
            "type": "barpolar"
           }
          ],
          "carpet": [
           {
            "aaxis": {
             "endlinecolor": "#2a3f5f",
             "gridcolor": "white",
             "linecolor": "white",
             "minorgridcolor": "white",
             "startlinecolor": "#2a3f5f"
            },
            "baxis": {
             "endlinecolor": "#2a3f5f",
             "gridcolor": "white",
             "linecolor": "white",
             "minorgridcolor": "white",
             "startlinecolor": "#2a3f5f"
            },
            "type": "carpet"
           }
          ],
          "choropleth": [
           {
            "colorbar": {
             "outlinewidth": 0,
             "ticks": ""
            },
            "type": "choropleth"
           }
          ],
          "contour": [
           {
            "colorbar": {
             "outlinewidth": 0,
             "ticks": ""
            },
            "colorscale": [
             [
              0,
              "#0d0887"
             ],
             [
              0.1111111111111111,
              "#46039f"
             ],
             [
              0.2222222222222222,
              "#7201a8"
             ],
             [
              0.3333333333333333,
              "#9c179e"
             ],
             [
              0.4444444444444444,
              "#bd3786"
             ],
             [
              0.5555555555555556,
              "#d8576b"
             ],
             [
              0.6666666666666666,
              "#ed7953"
             ],
             [
              0.7777777777777778,
              "#fb9f3a"
             ],
             [
              0.8888888888888888,
              "#fdca26"
             ],
             [
              1,
              "#f0f921"
             ]
            ],
            "type": "contour"
           }
          ],
          "contourcarpet": [
           {
            "colorbar": {
             "outlinewidth": 0,
             "ticks": ""
            },
            "type": "contourcarpet"
           }
          ],
          "heatmap": [
           {
            "colorbar": {
             "outlinewidth": 0,
             "ticks": ""
            },
            "colorscale": [
             [
              0,
              "#0d0887"
             ],
             [
              0.1111111111111111,
              "#46039f"
             ],
             [
              0.2222222222222222,
              "#7201a8"
             ],
             [
              0.3333333333333333,
              "#9c179e"
             ],
             [
              0.4444444444444444,
              "#bd3786"
             ],
             [
              0.5555555555555556,
              "#d8576b"
             ],
             [
              0.6666666666666666,
              "#ed7953"
             ],
             [
              0.7777777777777778,
              "#fb9f3a"
             ],
             [
              0.8888888888888888,
              "#fdca26"
             ],
             [
              1,
              "#f0f921"
             ]
            ],
            "type": "heatmap"
           }
          ],
          "heatmapgl": [
           {
            "colorbar": {
             "outlinewidth": 0,
             "ticks": ""
            },
            "colorscale": [
             [
              0,
              "#0d0887"
             ],
             [
              0.1111111111111111,
              "#46039f"
             ],
             [
              0.2222222222222222,
              "#7201a8"
             ],
             [
              0.3333333333333333,
              "#9c179e"
             ],
             [
              0.4444444444444444,
              "#bd3786"
             ],
             [
              0.5555555555555556,
              "#d8576b"
             ],
             [
              0.6666666666666666,
              "#ed7953"
             ],
             [
              0.7777777777777778,
              "#fb9f3a"
             ],
             [
              0.8888888888888888,
              "#fdca26"
             ],
             [
              1,
              "#f0f921"
             ]
            ],
            "type": "heatmapgl"
           }
          ],
          "histogram": [
           {
            "marker": {
             "pattern": {
              "fillmode": "overlay",
              "size": 10,
              "solidity": 0.2
             }
            },
            "type": "histogram"
           }
          ],
          "histogram2d": [
           {
            "colorbar": {
             "outlinewidth": 0,
             "ticks": ""
            },
            "colorscale": [
             [
              0,
              "#0d0887"
             ],
             [
              0.1111111111111111,
              "#46039f"
             ],
             [
              0.2222222222222222,
              "#7201a8"
             ],
             [
              0.3333333333333333,
              "#9c179e"
             ],
             [
              0.4444444444444444,
              "#bd3786"
             ],
             [
              0.5555555555555556,
              "#d8576b"
             ],
             [
              0.6666666666666666,
              "#ed7953"
             ],
             [
              0.7777777777777778,
              "#fb9f3a"
             ],
             [
              0.8888888888888888,
              "#fdca26"
             ],
             [
              1,
              "#f0f921"
             ]
            ],
            "type": "histogram2d"
           }
          ],
          "histogram2dcontour": [
           {
            "colorbar": {
             "outlinewidth": 0,
             "ticks": ""
            },
            "colorscale": [
             [
              0,
              "#0d0887"
             ],
             [
              0.1111111111111111,
              "#46039f"
             ],
             [
              0.2222222222222222,
              "#7201a8"
             ],
             [
              0.3333333333333333,
              "#9c179e"
             ],
             [
              0.4444444444444444,
              "#bd3786"
             ],
             [
              0.5555555555555556,
              "#d8576b"
             ],
             [
              0.6666666666666666,
              "#ed7953"
             ],
             [
              0.7777777777777778,
              "#fb9f3a"
             ],
             [
              0.8888888888888888,
              "#fdca26"
             ],
             [
              1,
              "#f0f921"
             ]
            ],
            "type": "histogram2dcontour"
           }
          ],
          "mesh3d": [
           {
            "colorbar": {
             "outlinewidth": 0,
             "ticks": ""
            },
            "type": "mesh3d"
           }
          ],
          "parcoords": [
           {
            "line": {
             "colorbar": {
              "outlinewidth": 0,
              "ticks": ""
             }
            },
            "type": "parcoords"
           }
          ],
          "pie": [
           {
            "automargin": true,
            "type": "pie"
           }
          ],
          "scatter": [
           {
            "fillpattern": {
             "fillmode": "overlay",
             "size": 10,
             "solidity": 0.2
            },
            "type": "scatter"
           }
          ],
          "scatter3d": [
           {
            "line": {
             "colorbar": {
              "outlinewidth": 0,
              "ticks": ""
             }
            },
            "marker": {
             "colorbar": {
              "outlinewidth": 0,
              "ticks": ""
             }
            },
            "type": "scatter3d"
           }
          ],
          "scattercarpet": [
           {
            "marker": {
             "colorbar": {
              "outlinewidth": 0,
              "ticks": ""
             }
            },
            "type": "scattercarpet"
           }
          ],
          "scattergeo": [
           {
            "marker": {
             "colorbar": {
              "outlinewidth": 0,
              "ticks": ""
             }
            },
            "type": "scattergeo"
           }
          ],
          "scattergl": [
           {
            "marker": {
             "colorbar": {
              "outlinewidth": 0,
              "ticks": ""
             }
            },
            "type": "scattergl"
           }
          ],
          "scattermapbox": [
           {
            "marker": {
             "colorbar": {
              "outlinewidth": 0,
              "ticks": ""
             }
            },
            "type": "scattermapbox"
           }
          ],
          "scatterpolar": [
           {
            "marker": {
             "colorbar": {
              "outlinewidth": 0,
              "ticks": ""
             }
            },
            "type": "scatterpolar"
           }
          ],
          "scatterpolargl": [
           {
            "marker": {
             "colorbar": {
              "outlinewidth": 0,
              "ticks": ""
             }
            },
            "type": "scatterpolargl"
           }
          ],
          "scatterternary": [
           {
            "marker": {
             "colorbar": {
              "outlinewidth": 0,
              "ticks": ""
             }
            },
            "type": "scatterternary"
           }
          ],
          "surface": [
           {
            "colorbar": {
             "outlinewidth": 0,
             "ticks": ""
            },
            "colorscale": [
             [
              0,
              "#0d0887"
             ],
             [
              0.1111111111111111,
              "#46039f"
             ],
             [
              0.2222222222222222,
              "#7201a8"
             ],
             [
              0.3333333333333333,
              "#9c179e"
             ],
             [
              0.4444444444444444,
              "#bd3786"
             ],
             [
              0.5555555555555556,
              "#d8576b"
             ],
             [
              0.6666666666666666,
              "#ed7953"
             ],
             [
              0.7777777777777778,
              "#fb9f3a"
             ],
             [
              0.8888888888888888,
              "#fdca26"
             ],
             [
              1,
              "#f0f921"
             ]
            ],
            "type": "surface"
           }
          ],
          "table": [
           {
            "cells": {
             "fill": {
              "color": "#EBF0F8"
             },
             "line": {
              "color": "white"
             }
            },
            "header": {
             "fill": {
              "color": "#C8D4E3"
             },
             "line": {
              "color": "white"
             }
            },
            "type": "table"
           }
          ]
         },
         "layout": {
          "annotationdefaults": {
           "arrowcolor": "#2a3f5f",
           "arrowhead": 0,
           "arrowwidth": 1
          },
          "autotypenumbers": "strict",
          "coloraxis": {
           "colorbar": {
            "outlinewidth": 0,
            "ticks": ""
           }
          },
          "colorscale": {
           "diverging": [
            [
             0,
             "#8e0152"
            ],
            [
             0.1,
             "#c51b7d"
            ],
            [
             0.2,
             "#de77ae"
            ],
            [
             0.3,
             "#f1b6da"
            ],
            [
             0.4,
             "#fde0ef"
            ],
            [
             0.5,
             "#f7f7f7"
            ],
            [
             0.6,
             "#e6f5d0"
            ],
            [
             0.7,
             "#b8e186"
            ],
            [
             0.8,
             "#7fbc41"
            ],
            [
             0.9,
             "#4d9221"
            ],
            [
             1,
             "#276419"
            ]
           ],
           "sequential": [
            [
             0,
             "#0d0887"
            ],
            [
             0.1111111111111111,
             "#46039f"
            ],
            [
             0.2222222222222222,
             "#7201a8"
            ],
            [
             0.3333333333333333,
             "#9c179e"
            ],
            [
             0.4444444444444444,
             "#bd3786"
            ],
            [
             0.5555555555555556,
             "#d8576b"
            ],
            [
             0.6666666666666666,
             "#ed7953"
            ],
            [
             0.7777777777777778,
             "#fb9f3a"
            ],
            [
             0.8888888888888888,
             "#fdca26"
            ],
            [
             1,
             "#f0f921"
            ]
           ],
           "sequentialminus": [
            [
             0,
             "#0d0887"
            ],
            [
             0.1111111111111111,
             "#46039f"
            ],
            [
             0.2222222222222222,
             "#7201a8"
            ],
            [
             0.3333333333333333,
             "#9c179e"
            ],
            [
             0.4444444444444444,
             "#bd3786"
            ],
            [
             0.5555555555555556,
             "#d8576b"
            ],
            [
             0.6666666666666666,
             "#ed7953"
            ],
            [
             0.7777777777777778,
             "#fb9f3a"
            ],
            [
             0.8888888888888888,
             "#fdca26"
            ],
            [
             1,
             "#f0f921"
            ]
           ]
          },
          "colorway": [
           "#636efa",
           "#EF553B",
           "#00cc96",
           "#ab63fa",
           "#FFA15A",
           "#19d3f3",
           "#FF6692",
           "#B6E880",
           "#FF97FF",
           "#FECB52"
          ],
          "font": {
           "color": "#2a3f5f"
          },
          "geo": {
           "bgcolor": "white",
           "lakecolor": "white",
           "landcolor": "#E5ECF6",
           "showlakes": true,
           "showland": true,
           "subunitcolor": "white"
          },
          "hoverlabel": {
           "align": "left"
          },
          "hovermode": "closest",
          "mapbox": {
           "style": "light"
          },
          "paper_bgcolor": "white",
          "plot_bgcolor": "#E5ECF6",
          "polar": {
           "angularaxis": {
            "gridcolor": "white",
            "linecolor": "white",
            "ticks": ""
           },
           "bgcolor": "#E5ECF6",
           "radialaxis": {
            "gridcolor": "white",
            "linecolor": "white",
            "ticks": ""
           }
          },
          "scene": {
           "xaxis": {
            "backgroundcolor": "#E5ECF6",
            "gridcolor": "white",
            "gridwidth": 2,
            "linecolor": "white",
            "showbackground": true,
            "ticks": "",
            "zerolinecolor": "white"
           },
           "yaxis": {
            "backgroundcolor": "#E5ECF6",
            "gridcolor": "white",
            "gridwidth": 2,
            "linecolor": "white",
            "showbackground": true,
            "ticks": "",
            "zerolinecolor": "white"
           },
           "zaxis": {
            "backgroundcolor": "#E5ECF6",
            "gridcolor": "white",
            "gridwidth": 2,
            "linecolor": "white",
            "showbackground": true,
            "ticks": "",
            "zerolinecolor": "white"
           }
          },
          "shapedefaults": {
           "line": {
            "color": "#2a3f5f"
           }
          },
          "ternary": {
           "aaxis": {
            "gridcolor": "white",
            "linecolor": "white",
            "ticks": ""
           },
           "baxis": {
            "gridcolor": "white",
            "linecolor": "white",
            "ticks": ""
           },
           "bgcolor": "#E5ECF6",
           "caxis": {
            "gridcolor": "white",
            "linecolor": "white",
            "ticks": ""
           }
          },
          "title": {
           "x": 0.05
          },
          "xaxis": {
           "automargin": true,
           "gridcolor": "white",
           "linecolor": "white",
           "ticks": "",
           "title": {
            "standoff": 15
           },
           "zerolinecolor": "white",
           "zerolinewidth": 2
          },
          "yaxis": {
           "automargin": true,
           "gridcolor": "white",
           "linecolor": "white",
           "ticks": "",
           "title": {
            "standoff": 15
           },
           "zerolinecolor": "white",
           "zerolinewidth": 2
          }
         }
        },
        "title": {
         "text": "Percent of Missing Detail Values"
        },
        "xaxis": {
         "anchor": "y",
         "domain": [
          0,
          1
         ],
         "title": {
          "text": "CAUSE.CATEGORY"
         }
        },
        "yaxis": {
         "anchor": "x",
         "domain": [
          0,
          1
         ],
         "title": {
          "text": "Percent Missing"
         }
        }
       }
      },
      "text/html": [
       "<div>                            <div id=\"d0e19e85-84ee-4de2-aa70-18b3421db70e\" class=\"plotly-graph-div\" style=\"height:525px; width:100%;\"></div>            <script type=\"text/javascript\">                require([\"plotly\"], function(Plotly) {                    window.PLOTLYENV=window.PLOTLYENV || {};                                    if (document.getElementById(\"d0e19e85-84ee-4de2-aa70-18b3421db70e\")) {                    Plotly.newPlot(                        \"d0e19e85-84ee-4de2-aa70-18b3421db70e\",                        [{\"alignmentgroup\":\"True\",\"hovertemplate\":\"variable=0\\u003cbr\\u003eCAUSE.CATEGORY=%{x}\\u003cbr\\u003ePercent Missing=%{y}\\u003cextra\\u003e\\u003c\\u002fextra\\u003e\",\"legendgroup\":\"0\",\"marker\":{\"color\":\"#636efa\",\"pattern\":{\"shape\":\"\"}},\"name\":\"0\",\"offsetgroup\":\"0\",\"orientation\":\"v\",\"showlegend\":true,\"textposition\":\"auto\",\"x\":[\"equipment failure\",\"fuel supply emergency\",\"intentional attack\",\"islanding\",\"public appeal\",\"severe weather\",\"system operability disruption\"],\"xaxis\":\"x\",\"y\":[0.2,0.37254901960784315,0.11483253588516747,1.0,1.0,0.24508519003931847,0.7086614173228346],\"yaxis\":\"y\",\"type\":\"bar\"}],                        {\"template\":{\"data\":{\"histogram2dcontour\":[{\"type\":\"histogram2dcontour\",\"colorbar\":{\"outlinewidth\":0,\"ticks\":\"\"},\"colorscale\":[[0.0,\"#0d0887\"],[0.1111111111111111,\"#46039f\"],[0.2222222222222222,\"#7201a8\"],[0.3333333333333333,\"#9c179e\"],[0.4444444444444444,\"#bd3786\"],[0.5555555555555556,\"#d8576b\"],[0.6666666666666666,\"#ed7953\"],[0.7777777777777778,\"#fb9f3a\"],[0.8888888888888888,\"#fdca26\"],[1.0,\"#f0f921\"]]}],\"choropleth\":[{\"type\":\"choropleth\",\"colorbar\":{\"outlinewidth\":0,\"ticks\":\"\"}}],\"histogram2d\":[{\"type\":\"histogram2d\",\"colorbar\":{\"outlinewidth\":0,\"ticks\":\"\"},\"colorscale\":[[0.0,\"#0d0887\"],[0.1111111111111111,\"#46039f\"],[0.2222222222222222,\"#7201a8\"],[0.3333333333333333,\"#9c179e\"],[0.4444444444444444,\"#bd3786\"],[0.5555555555555556,\"#d8576b\"],[0.6666666666666666,\"#ed7953\"],[0.7777777777777778,\"#fb9f3a\"],[0.8888888888888888,\"#fdca26\"],[1.0,\"#f0f921\"]]}],\"heatmap\":[{\"type\":\"heatmap\",\"colorbar\":{\"outlinewidth\":0,\"ticks\":\"\"},\"colorscale\":[[0.0,\"#0d0887\"],[0.1111111111111111,\"#46039f\"],[0.2222222222222222,\"#7201a8\"],[0.3333333333333333,\"#9c179e\"],[0.4444444444444444,\"#bd3786\"],[0.5555555555555556,\"#d8576b\"],[0.6666666666666666,\"#ed7953\"],[0.7777777777777778,\"#fb9f3a\"],[0.8888888888888888,\"#fdca26\"],[1.0,\"#f0f921\"]]}],\"heatmapgl\":[{\"type\":\"heatmapgl\",\"colorbar\":{\"outlinewidth\":0,\"ticks\":\"\"},\"colorscale\":[[0.0,\"#0d0887\"],[0.1111111111111111,\"#46039f\"],[0.2222222222222222,\"#7201a8\"],[0.3333333333333333,\"#9c179e\"],[0.4444444444444444,\"#bd3786\"],[0.5555555555555556,\"#d8576b\"],[0.6666666666666666,\"#ed7953\"],[0.7777777777777778,\"#fb9f3a\"],[0.8888888888888888,\"#fdca26\"],[1.0,\"#f0f921\"]]}],\"contourcarpet\":[{\"type\":\"contourcarpet\",\"colorbar\":{\"outlinewidth\":0,\"ticks\":\"\"}}],\"contour\":[{\"type\":\"contour\",\"colorbar\":{\"outlinewidth\":0,\"ticks\":\"\"},\"colorscale\":[[0.0,\"#0d0887\"],[0.1111111111111111,\"#46039f\"],[0.2222222222222222,\"#7201a8\"],[0.3333333333333333,\"#9c179e\"],[0.4444444444444444,\"#bd3786\"],[0.5555555555555556,\"#d8576b\"],[0.6666666666666666,\"#ed7953\"],[0.7777777777777778,\"#fb9f3a\"],[0.8888888888888888,\"#fdca26\"],[1.0,\"#f0f921\"]]}],\"surface\":[{\"type\":\"surface\",\"colorbar\":{\"outlinewidth\":0,\"ticks\":\"\"},\"colorscale\":[[0.0,\"#0d0887\"],[0.1111111111111111,\"#46039f\"],[0.2222222222222222,\"#7201a8\"],[0.3333333333333333,\"#9c179e\"],[0.4444444444444444,\"#bd3786\"],[0.5555555555555556,\"#d8576b\"],[0.6666666666666666,\"#ed7953\"],[0.7777777777777778,\"#fb9f3a\"],[0.8888888888888888,\"#fdca26\"],[1.0,\"#f0f921\"]]}],\"mesh3d\":[{\"type\":\"mesh3d\",\"colorbar\":{\"outlinewidth\":0,\"ticks\":\"\"}}],\"scatter\":[{\"fillpattern\":{\"fillmode\":\"overlay\",\"size\":10,\"solidity\":0.2},\"type\":\"scatter\"}],\"parcoords\":[{\"type\":\"parcoords\",\"line\":{\"colorbar\":{\"outlinewidth\":0,\"ticks\":\"\"}}}],\"scatterpolargl\":[{\"type\":\"scatterpolargl\",\"marker\":{\"colorbar\":{\"outlinewidth\":0,\"ticks\":\"\"}}}],\"bar\":[{\"error_x\":{\"color\":\"#2a3f5f\"},\"error_y\":{\"color\":\"#2a3f5f\"},\"marker\":{\"line\":{\"color\":\"#E5ECF6\",\"width\":0.5},\"pattern\":{\"fillmode\":\"overlay\",\"size\":10,\"solidity\":0.2}},\"type\":\"bar\"}],\"scattergeo\":[{\"type\":\"scattergeo\",\"marker\":{\"colorbar\":{\"outlinewidth\":0,\"ticks\":\"\"}}}],\"scatterpolar\":[{\"type\":\"scatterpolar\",\"marker\":{\"colorbar\":{\"outlinewidth\":0,\"ticks\":\"\"}}}],\"histogram\":[{\"marker\":{\"pattern\":{\"fillmode\":\"overlay\",\"size\":10,\"solidity\":0.2}},\"type\":\"histogram\"}],\"scattergl\":[{\"type\":\"scattergl\",\"marker\":{\"colorbar\":{\"outlinewidth\":0,\"ticks\":\"\"}}}],\"scatter3d\":[{\"type\":\"scatter3d\",\"line\":{\"colorbar\":{\"outlinewidth\":0,\"ticks\":\"\"}},\"marker\":{\"colorbar\":{\"outlinewidth\":0,\"ticks\":\"\"}}}],\"scattermapbox\":[{\"type\":\"scattermapbox\",\"marker\":{\"colorbar\":{\"outlinewidth\":0,\"ticks\":\"\"}}}],\"scatterternary\":[{\"type\":\"scatterternary\",\"marker\":{\"colorbar\":{\"outlinewidth\":0,\"ticks\":\"\"}}}],\"scattercarpet\":[{\"type\":\"scattercarpet\",\"marker\":{\"colorbar\":{\"outlinewidth\":0,\"ticks\":\"\"}}}],\"carpet\":[{\"aaxis\":{\"endlinecolor\":\"#2a3f5f\",\"gridcolor\":\"white\",\"linecolor\":\"white\",\"minorgridcolor\":\"white\",\"startlinecolor\":\"#2a3f5f\"},\"baxis\":{\"endlinecolor\":\"#2a3f5f\",\"gridcolor\":\"white\",\"linecolor\":\"white\",\"minorgridcolor\":\"white\",\"startlinecolor\":\"#2a3f5f\"},\"type\":\"carpet\"}],\"table\":[{\"cells\":{\"fill\":{\"color\":\"#EBF0F8\"},\"line\":{\"color\":\"white\"}},\"header\":{\"fill\":{\"color\":\"#C8D4E3\"},\"line\":{\"color\":\"white\"}},\"type\":\"table\"}],\"barpolar\":[{\"marker\":{\"line\":{\"color\":\"#E5ECF6\",\"width\":0.5},\"pattern\":{\"fillmode\":\"overlay\",\"size\":10,\"solidity\":0.2}},\"type\":\"barpolar\"}],\"pie\":[{\"automargin\":true,\"type\":\"pie\"}]},\"layout\":{\"autotypenumbers\":\"strict\",\"colorway\":[\"#636efa\",\"#EF553B\",\"#00cc96\",\"#ab63fa\",\"#FFA15A\",\"#19d3f3\",\"#FF6692\",\"#B6E880\",\"#FF97FF\",\"#FECB52\"],\"font\":{\"color\":\"#2a3f5f\"},\"hovermode\":\"closest\",\"hoverlabel\":{\"align\":\"left\"},\"paper_bgcolor\":\"white\",\"plot_bgcolor\":\"#E5ECF6\",\"polar\":{\"bgcolor\":\"#E5ECF6\",\"angularaxis\":{\"gridcolor\":\"white\",\"linecolor\":\"white\",\"ticks\":\"\"},\"radialaxis\":{\"gridcolor\":\"white\",\"linecolor\":\"white\",\"ticks\":\"\"}},\"ternary\":{\"bgcolor\":\"#E5ECF6\",\"aaxis\":{\"gridcolor\":\"white\",\"linecolor\":\"white\",\"ticks\":\"\"},\"baxis\":{\"gridcolor\":\"white\",\"linecolor\":\"white\",\"ticks\":\"\"},\"caxis\":{\"gridcolor\":\"white\",\"linecolor\":\"white\",\"ticks\":\"\"}},\"coloraxis\":{\"colorbar\":{\"outlinewidth\":0,\"ticks\":\"\"}},\"colorscale\":{\"sequential\":[[0.0,\"#0d0887\"],[0.1111111111111111,\"#46039f\"],[0.2222222222222222,\"#7201a8\"],[0.3333333333333333,\"#9c179e\"],[0.4444444444444444,\"#bd3786\"],[0.5555555555555556,\"#d8576b\"],[0.6666666666666666,\"#ed7953\"],[0.7777777777777778,\"#fb9f3a\"],[0.8888888888888888,\"#fdca26\"],[1.0,\"#f0f921\"]],\"sequentialminus\":[[0.0,\"#0d0887\"],[0.1111111111111111,\"#46039f\"],[0.2222222222222222,\"#7201a8\"],[0.3333333333333333,\"#9c179e\"],[0.4444444444444444,\"#bd3786\"],[0.5555555555555556,\"#d8576b\"],[0.6666666666666666,\"#ed7953\"],[0.7777777777777778,\"#fb9f3a\"],[0.8888888888888888,\"#fdca26\"],[1.0,\"#f0f921\"]],\"diverging\":[[0,\"#8e0152\"],[0.1,\"#c51b7d\"],[0.2,\"#de77ae\"],[0.3,\"#f1b6da\"],[0.4,\"#fde0ef\"],[0.5,\"#f7f7f7\"],[0.6,\"#e6f5d0\"],[0.7,\"#b8e186\"],[0.8,\"#7fbc41\"],[0.9,\"#4d9221\"],[1,\"#276419\"]]},\"xaxis\":{\"gridcolor\":\"white\",\"linecolor\":\"white\",\"ticks\":\"\",\"title\":{\"standoff\":15},\"zerolinecolor\":\"white\",\"automargin\":true,\"zerolinewidth\":2},\"yaxis\":{\"gridcolor\":\"white\",\"linecolor\":\"white\",\"ticks\":\"\",\"title\":{\"standoff\":15},\"zerolinecolor\":\"white\",\"automargin\":true,\"zerolinewidth\":2},\"scene\":{\"xaxis\":{\"backgroundcolor\":\"#E5ECF6\",\"gridcolor\":\"white\",\"linecolor\":\"white\",\"showbackground\":true,\"ticks\":\"\",\"zerolinecolor\":\"white\",\"gridwidth\":2},\"yaxis\":{\"backgroundcolor\":\"#E5ECF6\",\"gridcolor\":\"white\",\"linecolor\":\"white\",\"showbackground\":true,\"ticks\":\"\",\"zerolinecolor\":\"white\",\"gridwidth\":2},\"zaxis\":{\"backgroundcolor\":\"#E5ECF6\",\"gridcolor\":\"white\",\"linecolor\":\"white\",\"showbackground\":true,\"ticks\":\"\",\"zerolinecolor\":\"white\",\"gridwidth\":2}},\"shapedefaults\":{\"line\":{\"color\":\"#2a3f5f\"}},\"annotationdefaults\":{\"arrowcolor\":\"#2a3f5f\",\"arrowhead\":0,\"arrowwidth\":1},\"geo\":{\"bgcolor\":\"white\",\"landcolor\":\"#E5ECF6\",\"subunitcolor\":\"white\",\"showland\":true,\"showlakes\":true,\"lakecolor\":\"white\"},\"title\":{\"x\":0.05},\"mapbox\":{\"style\":\"light\"}}},\"xaxis\":{\"anchor\":\"y\",\"domain\":[0.0,1.0],\"title\":{\"text\":\"CAUSE.CATEGORY\"}},\"yaxis\":{\"anchor\":\"x\",\"domain\":[0.0,1.0],\"title\":{\"text\":\"Percent Missing\"}},\"legend\":{\"title\":{\"text\":\"variable\"},\"tracegroupgap\":0},\"title\":{\"text\":\"Percent of Missing Detail Values\"},\"barmode\":\"relative\",\"showlegend\":false},                        {\"responsive\": true}                    ).then(function(){\n",
       "                            \n",
       "var gd = document.getElementById('d0e19e85-84ee-4de2-aa70-18b3421db70e');\n",
       "var x = new MutationObserver(function (mutations, observer) {{\n",
       "        var display = window.getComputedStyle(gd).display;\n",
       "        if (!display || display === 'none') {{\n",
       "            console.log([gd, 'removed!']);\n",
       "            Plotly.purge(gd);\n",
       "            observer.disconnect();\n",
       "        }}\n",
       "}});\n",
       "\n",
       "// Listen for the removal of the full notebook cells\n",
       "var notebookContainer = gd.closest('#notebook-container');\n",
       "if (notebookContainer) {{\n",
       "    x.observe(notebookContainer, {childList: true});\n",
       "}}\n",
       "\n",
       "// Listen for the clearing of the current output cell\n",
       "var outputEl = gd.closest('.output');\n",
       "if (outputEl) {{\n",
       "    x.observe(outputEl, {childList: true});\n",
       "}}\n",
       "\n",
       "                        })                };                });            </script>        </div>"
      ]
     },
     "metadata": {},
     "output_type": "display_data"
    }
   ],
   "source": [
    "fig2 = px.bar(percent_missing,\n",
    "             title=\"Percent of Missing Detail Values\",\n",
    "             labels={'index': 'Cause of Power Outage', 'value':'Percent Missing'})\n",
    "fig2.update_layout(showlegend=False)\n",
    "fig2.show()"
   ]
  },
  {
   "cell_type": "markdown",
   "metadata": {},
   "source": [
    "Severe weather appears to have some missing values, about 25%, but it still prevails as the category with the most observations. As is such, we are interested in identifying possible relationships between weather patterns and power outages. To do so, we have created a sub-dataframe that only includes observations that have 'severe weather' as the main cause category."
   ]
  },
  {
   "cell_type": "code",
   "execution_count": 51,
   "metadata": {},
   "outputs": [
    {
     "data": {
      "text/html": [
       "<div>\n",
       "<style scoped>\n",
       "    .dataframe tbody tr th:only-of-type {\n",
       "        vertical-align: middle;\n",
       "    }\n",
       "\n",
       "    .dataframe tbody tr th {\n",
       "        vertical-align: top;\n",
       "    }\n",
       "\n",
       "    .dataframe thead th {\n",
       "        text-align: right;\n",
       "    }\n",
       "</style>\n",
       "<table border=\"1\" class=\"dataframe\">\n",
       "  <thead>\n",
       "    <tr style=\"text-align: right;\">\n",
       "      <th></th>\n",
       "      <th>YEAR</th>\n",
       "      <th>MONTH</th>\n",
       "      <th>ANOMALY.LEVEL</th>\n",
       "      <th>OUTAGE.START</th>\n",
       "      <th>OUTAGE.RESTORATION</th>\n",
       "      <th>CAUSE.CATEGORY</th>\n",
       "      <th>CAUSE.CATEGORY.DETAIL</th>\n",
       "      <th>OUTAGE.DURATION</th>\n",
       "      <th>CUSTOMERS.AFFECTED</th>\n",
       "      <th>SEASON</th>\n",
       "    </tr>\n",
       "  </thead>\n",
       "  <tbody>\n",
       "    <tr>\n",
       "      <th>0</th>\n",
       "      <td>2011</td>\n",
       "      <td>7</td>\n",
       "      <td>-0.3</td>\n",
       "      <td>2011-07-01 17:00:00</td>\n",
       "      <td>2011-07-03 20:00:00</td>\n",
       "      <td>severe weather</td>\n",
       "      <td>NaN</td>\n",
       "      <td>3060.0</td>\n",
       "      <td>70000.0</td>\n",
       "      <td>summer</td>\n",
       "    </tr>\n",
       "    <tr>\n",
       "      <th>1</th>\n",
       "      <td>2010</td>\n",
       "      <td>10</td>\n",
       "      <td>-1.5</td>\n",
       "      <td>2010-10-26 20:00:00</td>\n",
       "      <td>2010-10-28 22:00:00</td>\n",
       "      <td>severe weather</td>\n",
       "      <td>wind</td>\n",
       "      <td>3000.0</td>\n",
       "      <td>70000.0</td>\n",
       "      <td>fall</td>\n",
       "    </tr>\n",
       "    <tr>\n",
       "      <th>2</th>\n",
       "      <td>2012</td>\n",
       "      <td>6</td>\n",
       "      <td>-0.1</td>\n",
       "      <td>2012-06-19 04:30:00</td>\n",
       "      <td>2012-06-20 23:00:00</td>\n",
       "      <td>severe weather</td>\n",
       "      <td>thunderstorm</td>\n",
       "      <td>2550.0</td>\n",
       "      <td>68200.0</td>\n",
       "      <td>summer</td>\n",
       "    </tr>\n",
       "    <tr>\n",
       "      <th>3</th>\n",
       "      <td>2015</td>\n",
       "      <td>7</td>\n",
       "      <td>1.2</td>\n",
       "      <td>2015-07-18 02:00:00</td>\n",
       "      <td>2015-07-19 07:00:00</td>\n",
       "      <td>severe weather</td>\n",
       "      <td>NaN</td>\n",
       "      <td>1740.0</td>\n",
       "      <td>250000.0</td>\n",
       "      <td>summer</td>\n",
       "    </tr>\n",
       "    <tr>\n",
       "      <th>4</th>\n",
       "      <td>2010</td>\n",
       "      <td>11</td>\n",
       "      <td>-1.4</td>\n",
       "      <td>2010-11-13 15:00:00</td>\n",
       "      <td>2010-11-14 22:00:00</td>\n",
       "      <td>severe weather</td>\n",
       "      <td>winter</td>\n",
       "      <td>1860.0</td>\n",
       "      <td>60000.0</td>\n",
       "      <td>fall</td>\n",
       "    </tr>\n",
       "  </tbody>\n",
       "</table>\n",
       "</div>"
      ],
      "text/plain": [
       "   YEAR  MONTH  ANOMALY.LEVEL        OUTAGE.START  OUTAGE.RESTORATION  \\\n",
       "0  2011      7           -0.3 2011-07-01 17:00:00 2011-07-03 20:00:00   \n",
       "1  2010     10           -1.5 2010-10-26 20:00:00 2010-10-28 22:00:00   \n",
       "2  2012      6           -0.1 2012-06-19 04:30:00 2012-06-20 23:00:00   \n",
       "3  2015      7            1.2 2015-07-18 02:00:00 2015-07-19 07:00:00   \n",
       "4  2010     11           -1.4 2010-11-13 15:00:00 2010-11-14 22:00:00   \n",
       "\n",
       "   CAUSE.CATEGORY CAUSE.CATEGORY.DETAIL  OUTAGE.DURATION  CUSTOMERS.AFFECTED  \\\n",
       "0  severe weather                   NaN           3060.0             70000.0   \n",
       "1  severe weather                  wind           3000.0             70000.0   \n",
       "2  severe weather          thunderstorm           2550.0             68200.0   \n",
       "3  severe weather                   NaN           1740.0            250000.0   \n",
       "4  severe weather                winter           1860.0             60000.0   \n",
       "\n",
       "   SEASON  \n",
       "0  summer  \n",
       "1    fall  \n",
       "2  summer  \n",
       "3  summer  \n",
       "4    fall  "
      ]
     },
     "execution_count": 51,
     "metadata": {},
     "output_type": "execute_result"
    }
   ],
   "source": [
    "severe_weather = outages[outages[\"CAUSE.CATEGORY\"] == 'severe weather'].reset_index().drop(columns=\"index\")\n",
    "severe_weather.head()"
   ]
  },
  {
   "cell_type": "markdown",
   "metadata": {},
   "source": [
    "Great! Now we have a clean dataframe that only includes severe-weather induced power outages. By excluding other causes, we can identify possible weather patterns that cause power outages. We can now take a look at some possible relationships between power outages and time, location, and weather conditions."
   ]
  },
  {
   "cell_type": "markdown",
   "metadata": {},
   "source": [
    "## Bivariate Analysis"
   ]
  },
  {
   "cell_type": "markdown",
   "metadata": {},
   "source": [
    "First let's take a look at power outages over time. We can do so by looking at number of customers affected and outage duration times over the years."
   ]
  },
  {
   "cell_type": "code",
   "execution_count": 125,
   "metadata": {},
   "outputs": [
    {
     "data": {
      "application/vnd.plotly.v1+json": {
       "config": {
        "plotlyServerURL": "https://plot.ly"
       },
       "data": [
        {
         "hovertemplate": "Year=%{x}<br>Mean Outage Duration=%{y}<extra></extra>",
         "legendgroup": "",
         "line": {
          "color": "#636efa",
          "dash": "solid"
         },
         "marker": {
          "symbol": "circle"
         },
         "mode": "lines",
         "name": "",
         "orientation": "v",
         "showlegend": false,
         "type": "scatter",
         "x": [
          2000,
          2001,
          2002,
          2003,
          2004,
          2005,
          2006,
          2007,
          2008,
          2009,
          2010,
          2011,
          2012,
          2013,
          2014,
          2015,
          2016
         ],
         "xaxis": "x",
         "y": [
          3783.3333333333335,
          10140,
          5991,
          6299.466666666666,
          5064.964285714285,
          6047.936170212766,
          4015.0925925925926,
          2896.3,
          5065.118421052632,
          3905.222222222222,
          3763.8225806451615,
          3139.355140186916,
          4127.615384615385,
          2678.918367346939,
          1426.3720930232557,
          2123.076923076923,
          1640.4
         ],
         "yaxis": "y"
        }
       ],
       "layout": {
        "legend": {
         "tracegroupgap": 0
        },
        "template": {
         "data": {
          "bar": [
           {
            "error_x": {
             "color": "#2a3f5f"
            },
            "error_y": {
             "color": "#2a3f5f"
            },
            "marker": {
             "line": {
              "color": "#E5ECF6",
              "width": 0.5
             },
             "pattern": {
              "fillmode": "overlay",
              "size": 10,
              "solidity": 0.2
             }
            },
            "type": "bar"
           }
          ],
          "barpolar": [
           {
            "marker": {
             "line": {
              "color": "#E5ECF6",
              "width": 0.5
             },
             "pattern": {
              "fillmode": "overlay",
              "size": 10,
              "solidity": 0.2
             }
            },
            "type": "barpolar"
           }
          ],
          "carpet": [
           {
            "aaxis": {
             "endlinecolor": "#2a3f5f",
             "gridcolor": "white",
             "linecolor": "white",
             "minorgridcolor": "white",
             "startlinecolor": "#2a3f5f"
            },
            "baxis": {
             "endlinecolor": "#2a3f5f",
             "gridcolor": "white",
             "linecolor": "white",
             "minorgridcolor": "white",
             "startlinecolor": "#2a3f5f"
            },
            "type": "carpet"
           }
          ],
          "choropleth": [
           {
            "colorbar": {
             "outlinewidth": 0,
             "ticks": ""
            },
            "type": "choropleth"
           }
          ],
          "contour": [
           {
            "colorbar": {
             "outlinewidth": 0,
             "ticks": ""
            },
            "colorscale": [
             [
              0,
              "#0d0887"
             ],
             [
              0.1111111111111111,
              "#46039f"
             ],
             [
              0.2222222222222222,
              "#7201a8"
             ],
             [
              0.3333333333333333,
              "#9c179e"
             ],
             [
              0.4444444444444444,
              "#bd3786"
             ],
             [
              0.5555555555555556,
              "#d8576b"
             ],
             [
              0.6666666666666666,
              "#ed7953"
             ],
             [
              0.7777777777777778,
              "#fb9f3a"
             ],
             [
              0.8888888888888888,
              "#fdca26"
             ],
             [
              1,
              "#f0f921"
             ]
            ],
            "type": "contour"
           }
          ],
          "contourcarpet": [
           {
            "colorbar": {
             "outlinewidth": 0,
             "ticks": ""
            },
            "type": "contourcarpet"
           }
          ],
          "heatmap": [
           {
            "colorbar": {
             "outlinewidth": 0,
             "ticks": ""
            },
            "colorscale": [
             [
              0,
              "#0d0887"
             ],
             [
              0.1111111111111111,
              "#46039f"
             ],
             [
              0.2222222222222222,
              "#7201a8"
             ],
             [
              0.3333333333333333,
              "#9c179e"
             ],
             [
              0.4444444444444444,
              "#bd3786"
             ],
             [
              0.5555555555555556,
              "#d8576b"
             ],
             [
              0.6666666666666666,
              "#ed7953"
             ],
             [
              0.7777777777777778,
              "#fb9f3a"
             ],
             [
              0.8888888888888888,
              "#fdca26"
             ],
             [
              1,
              "#f0f921"
             ]
            ],
            "type": "heatmap"
           }
          ],
          "heatmapgl": [
           {
            "colorbar": {
             "outlinewidth": 0,
             "ticks": ""
            },
            "colorscale": [
             [
              0,
              "#0d0887"
             ],
             [
              0.1111111111111111,
              "#46039f"
             ],
             [
              0.2222222222222222,
              "#7201a8"
             ],
             [
              0.3333333333333333,
              "#9c179e"
             ],
             [
              0.4444444444444444,
              "#bd3786"
             ],
             [
              0.5555555555555556,
              "#d8576b"
             ],
             [
              0.6666666666666666,
              "#ed7953"
             ],
             [
              0.7777777777777778,
              "#fb9f3a"
             ],
             [
              0.8888888888888888,
              "#fdca26"
             ],
             [
              1,
              "#f0f921"
             ]
            ],
            "type": "heatmapgl"
           }
          ],
          "histogram": [
           {
            "marker": {
             "pattern": {
              "fillmode": "overlay",
              "size": 10,
              "solidity": 0.2
             }
            },
            "type": "histogram"
           }
          ],
          "histogram2d": [
           {
            "colorbar": {
             "outlinewidth": 0,
             "ticks": ""
            },
            "colorscale": [
             [
              0,
              "#0d0887"
             ],
             [
              0.1111111111111111,
              "#46039f"
             ],
             [
              0.2222222222222222,
              "#7201a8"
             ],
             [
              0.3333333333333333,
              "#9c179e"
             ],
             [
              0.4444444444444444,
              "#bd3786"
             ],
             [
              0.5555555555555556,
              "#d8576b"
             ],
             [
              0.6666666666666666,
              "#ed7953"
             ],
             [
              0.7777777777777778,
              "#fb9f3a"
             ],
             [
              0.8888888888888888,
              "#fdca26"
             ],
             [
              1,
              "#f0f921"
             ]
            ],
            "type": "histogram2d"
           }
          ],
          "histogram2dcontour": [
           {
            "colorbar": {
             "outlinewidth": 0,
             "ticks": ""
            },
            "colorscale": [
             [
              0,
              "#0d0887"
             ],
             [
              0.1111111111111111,
              "#46039f"
             ],
             [
              0.2222222222222222,
              "#7201a8"
             ],
             [
              0.3333333333333333,
              "#9c179e"
             ],
             [
              0.4444444444444444,
              "#bd3786"
             ],
             [
              0.5555555555555556,
              "#d8576b"
             ],
             [
              0.6666666666666666,
              "#ed7953"
             ],
             [
              0.7777777777777778,
              "#fb9f3a"
             ],
             [
              0.8888888888888888,
              "#fdca26"
             ],
             [
              1,
              "#f0f921"
             ]
            ],
            "type": "histogram2dcontour"
           }
          ],
          "mesh3d": [
           {
            "colorbar": {
             "outlinewidth": 0,
             "ticks": ""
            },
            "type": "mesh3d"
           }
          ],
          "parcoords": [
           {
            "line": {
             "colorbar": {
              "outlinewidth": 0,
              "ticks": ""
             }
            },
            "type": "parcoords"
           }
          ],
          "pie": [
           {
            "automargin": true,
            "type": "pie"
           }
          ],
          "scatter": [
           {
            "fillpattern": {
             "fillmode": "overlay",
             "size": 10,
             "solidity": 0.2
            },
            "type": "scatter"
           }
          ],
          "scatter3d": [
           {
            "line": {
             "colorbar": {
              "outlinewidth": 0,
              "ticks": ""
             }
            },
            "marker": {
             "colorbar": {
              "outlinewidth": 0,
              "ticks": ""
             }
            },
            "type": "scatter3d"
           }
          ],
          "scattercarpet": [
           {
            "marker": {
             "colorbar": {
              "outlinewidth": 0,
              "ticks": ""
             }
            },
            "type": "scattercarpet"
           }
          ],
          "scattergeo": [
           {
            "marker": {
             "colorbar": {
              "outlinewidth": 0,
              "ticks": ""
             }
            },
            "type": "scattergeo"
           }
          ],
          "scattergl": [
           {
            "marker": {
             "colorbar": {
              "outlinewidth": 0,
              "ticks": ""
             }
            },
            "type": "scattergl"
           }
          ],
          "scattermapbox": [
           {
            "marker": {
             "colorbar": {
              "outlinewidth": 0,
              "ticks": ""
             }
            },
            "type": "scattermapbox"
           }
          ],
          "scatterpolar": [
           {
            "marker": {
             "colorbar": {
              "outlinewidth": 0,
              "ticks": ""
             }
            },
            "type": "scatterpolar"
           }
          ],
          "scatterpolargl": [
           {
            "marker": {
             "colorbar": {
              "outlinewidth": 0,
              "ticks": ""
             }
            },
            "type": "scatterpolargl"
           }
          ],
          "scatterternary": [
           {
            "marker": {
             "colorbar": {
              "outlinewidth": 0,
              "ticks": ""
             }
            },
            "type": "scatterternary"
           }
          ],
          "surface": [
           {
            "colorbar": {
             "outlinewidth": 0,
             "ticks": ""
            },
            "colorscale": [
             [
              0,
              "#0d0887"
             ],
             [
              0.1111111111111111,
              "#46039f"
             ],
             [
              0.2222222222222222,
              "#7201a8"
             ],
             [
              0.3333333333333333,
              "#9c179e"
             ],
             [
              0.4444444444444444,
              "#bd3786"
             ],
             [
              0.5555555555555556,
              "#d8576b"
             ],
             [
              0.6666666666666666,
              "#ed7953"
             ],
             [
              0.7777777777777778,
              "#fb9f3a"
             ],
             [
              0.8888888888888888,
              "#fdca26"
             ],
             [
              1,
              "#f0f921"
             ]
            ],
            "type": "surface"
           }
          ],
          "table": [
           {
            "cells": {
             "fill": {
              "color": "#EBF0F8"
             },
             "line": {
              "color": "white"
             }
            },
            "header": {
             "fill": {
              "color": "#C8D4E3"
             },
             "line": {
              "color": "white"
             }
            },
            "type": "table"
           }
          ]
         },
         "layout": {
          "annotationdefaults": {
           "arrowcolor": "#2a3f5f",
           "arrowhead": 0,
           "arrowwidth": 1
          },
          "autotypenumbers": "strict",
          "coloraxis": {
           "colorbar": {
            "outlinewidth": 0,
            "ticks": ""
           }
          },
          "colorscale": {
           "diverging": [
            [
             0,
             "#8e0152"
            ],
            [
             0.1,
             "#c51b7d"
            ],
            [
             0.2,
             "#de77ae"
            ],
            [
             0.3,
             "#f1b6da"
            ],
            [
             0.4,
             "#fde0ef"
            ],
            [
             0.5,
             "#f7f7f7"
            ],
            [
             0.6,
             "#e6f5d0"
            ],
            [
             0.7,
             "#b8e186"
            ],
            [
             0.8,
             "#7fbc41"
            ],
            [
             0.9,
             "#4d9221"
            ],
            [
             1,
             "#276419"
            ]
           ],
           "sequential": [
            [
             0,
             "#0d0887"
            ],
            [
             0.1111111111111111,
             "#46039f"
            ],
            [
             0.2222222222222222,
             "#7201a8"
            ],
            [
             0.3333333333333333,
             "#9c179e"
            ],
            [
             0.4444444444444444,
             "#bd3786"
            ],
            [
             0.5555555555555556,
             "#d8576b"
            ],
            [
             0.6666666666666666,
             "#ed7953"
            ],
            [
             0.7777777777777778,
             "#fb9f3a"
            ],
            [
             0.8888888888888888,
             "#fdca26"
            ],
            [
             1,
             "#f0f921"
            ]
           ],
           "sequentialminus": [
            [
             0,
             "#0d0887"
            ],
            [
             0.1111111111111111,
             "#46039f"
            ],
            [
             0.2222222222222222,
             "#7201a8"
            ],
            [
             0.3333333333333333,
             "#9c179e"
            ],
            [
             0.4444444444444444,
             "#bd3786"
            ],
            [
             0.5555555555555556,
             "#d8576b"
            ],
            [
             0.6666666666666666,
             "#ed7953"
            ],
            [
             0.7777777777777778,
             "#fb9f3a"
            ],
            [
             0.8888888888888888,
             "#fdca26"
            ],
            [
             1,
             "#f0f921"
            ]
           ]
          },
          "colorway": [
           "#636efa",
           "#EF553B",
           "#00cc96",
           "#ab63fa",
           "#FFA15A",
           "#19d3f3",
           "#FF6692",
           "#B6E880",
           "#FF97FF",
           "#FECB52"
          ],
          "font": {
           "color": "#2a3f5f"
          },
          "geo": {
           "bgcolor": "white",
           "lakecolor": "white",
           "landcolor": "#E5ECF6",
           "showlakes": true,
           "showland": true,
           "subunitcolor": "white"
          },
          "hoverlabel": {
           "align": "left"
          },
          "hovermode": "closest",
          "mapbox": {
           "style": "light"
          },
          "paper_bgcolor": "white",
          "plot_bgcolor": "#E5ECF6",
          "polar": {
           "angularaxis": {
            "gridcolor": "white",
            "linecolor": "white",
            "ticks": ""
           },
           "bgcolor": "#E5ECF6",
           "radialaxis": {
            "gridcolor": "white",
            "linecolor": "white",
            "ticks": ""
           }
          },
          "scene": {
           "xaxis": {
            "backgroundcolor": "#E5ECF6",
            "gridcolor": "white",
            "gridwidth": 2,
            "linecolor": "white",
            "showbackground": true,
            "ticks": "",
            "zerolinecolor": "white"
           },
           "yaxis": {
            "backgroundcolor": "#E5ECF6",
            "gridcolor": "white",
            "gridwidth": 2,
            "linecolor": "white",
            "showbackground": true,
            "ticks": "",
            "zerolinecolor": "white"
           },
           "zaxis": {
            "backgroundcolor": "#E5ECF6",
            "gridcolor": "white",
            "gridwidth": 2,
            "linecolor": "white",
            "showbackground": true,
            "ticks": "",
            "zerolinecolor": "white"
           }
          },
          "shapedefaults": {
           "line": {
            "color": "#2a3f5f"
           }
          },
          "ternary": {
           "aaxis": {
            "gridcolor": "white",
            "linecolor": "white",
            "ticks": ""
           },
           "baxis": {
            "gridcolor": "white",
            "linecolor": "white",
            "ticks": ""
           },
           "bgcolor": "#E5ECF6",
           "caxis": {
            "gridcolor": "white",
            "linecolor": "white",
            "ticks": ""
           }
          },
          "title": {
           "x": 0.05
          },
          "xaxis": {
           "automargin": true,
           "gridcolor": "white",
           "linecolor": "white",
           "ticks": "",
           "title": {
            "standoff": 15
           },
           "zerolinecolor": "white",
           "zerolinewidth": 2
          },
          "yaxis": {
           "automargin": true,
           "gridcolor": "white",
           "linecolor": "white",
           "ticks": "",
           "title": {
            "standoff": 15
           },
           "zerolinecolor": "white",
           "zerolinewidth": 2
          }
         }
        },
        "title": {
         "text": "Yearly Mean Outage Duration"
        },
        "xaxis": {
         "anchor": "y",
         "domain": [
          0,
          1
         ],
         "title": {
          "text": "Year"
         }
        },
        "yaxis": {
         "anchor": "x",
         "domain": [
          0,
          1
         ],
         "title": {
          "text": "Mean Outage Duration"
         }
        }
       }
      },
      "text/html": [
       "<div>                            <div id=\"732d95f7-b4b5-4093-95b3-cfee894d2a99\" class=\"plotly-graph-div\" style=\"height:525px; width:100%;\"></div>            <script type=\"text/javascript\">                require([\"plotly\"], function(Plotly) {                    window.PLOTLYENV=window.PLOTLYENV || {};                                    if (document.getElementById(\"732d95f7-b4b5-4093-95b3-cfee894d2a99\")) {                    Plotly.newPlot(                        \"732d95f7-b4b5-4093-95b3-cfee894d2a99\",                        [{\"hovertemplate\":\"Year=%{x}\\u003cbr\\u003eMean Outage Duration=%{y}\\u003cextra\\u003e\\u003c\\u002fextra\\u003e\",\"legendgroup\":\"\",\"line\":{\"color\":\"#636efa\",\"dash\":\"solid\"},\"marker\":{\"symbol\":\"circle\"},\"mode\":\"lines\",\"name\":\"\",\"orientation\":\"v\",\"showlegend\":false,\"x\":[2000,2001,2002,2003,2004,2005,2006,2007,2008,2009,2010,2011,2012,2013,2014,2015,2016],\"xaxis\":\"x\",\"y\":[3783.3333333333335,10140.0,5991.0,6299.466666666666,5064.964285714285,6047.936170212766,4015.0925925925926,2896.3,5065.118421052632,3905.222222222222,3763.8225806451615,3139.355140186916,4127.615384615385,2678.918367346939,1426.3720930232557,2123.076923076923,1640.4],\"yaxis\":\"y\",\"type\":\"scatter\"}],                        {\"template\":{\"data\":{\"histogram2dcontour\":[{\"type\":\"histogram2dcontour\",\"colorbar\":{\"outlinewidth\":0,\"ticks\":\"\"},\"colorscale\":[[0.0,\"#0d0887\"],[0.1111111111111111,\"#46039f\"],[0.2222222222222222,\"#7201a8\"],[0.3333333333333333,\"#9c179e\"],[0.4444444444444444,\"#bd3786\"],[0.5555555555555556,\"#d8576b\"],[0.6666666666666666,\"#ed7953\"],[0.7777777777777778,\"#fb9f3a\"],[0.8888888888888888,\"#fdca26\"],[1.0,\"#f0f921\"]]}],\"choropleth\":[{\"type\":\"choropleth\",\"colorbar\":{\"outlinewidth\":0,\"ticks\":\"\"}}],\"histogram2d\":[{\"type\":\"histogram2d\",\"colorbar\":{\"outlinewidth\":0,\"ticks\":\"\"},\"colorscale\":[[0.0,\"#0d0887\"],[0.1111111111111111,\"#46039f\"],[0.2222222222222222,\"#7201a8\"],[0.3333333333333333,\"#9c179e\"],[0.4444444444444444,\"#bd3786\"],[0.5555555555555556,\"#d8576b\"],[0.6666666666666666,\"#ed7953\"],[0.7777777777777778,\"#fb9f3a\"],[0.8888888888888888,\"#fdca26\"],[1.0,\"#f0f921\"]]}],\"heatmap\":[{\"type\":\"heatmap\",\"colorbar\":{\"outlinewidth\":0,\"ticks\":\"\"},\"colorscale\":[[0.0,\"#0d0887\"],[0.1111111111111111,\"#46039f\"],[0.2222222222222222,\"#7201a8\"],[0.3333333333333333,\"#9c179e\"],[0.4444444444444444,\"#bd3786\"],[0.5555555555555556,\"#d8576b\"],[0.6666666666666666,\"#ed7953\"],[0.7777777777777778,\"#fb9f3a\"],[0.8888888888888888,\"#fdca26\"],[1.0,\"#f0f921\"]]}],\"heatmapgl\":[{\"type\":\"heatmapgl\",\"colorbar\":{\"outlinewidth\":0,\"ticks\":\"\"},\"colorscale\":[[0.0,\"#0d0887\"],[0.1111111111111111,\"#46039f\"],[0.2222222222222222,\"#7201a8\"],[0.3333333333333333,\"#9c179e\"],[0.4444444444444444,\"#bd3786\"],[0.5555555555555556,\"#d8576b\"],[0.6666666666666666,\"#ed7953\"],[0.7777777777777778,\"#fb9f3a\"],[0.8888888888888888,\"#fdca26\"],[1.0,\"#f0f921\"]]}],\"contourcarpet\":[{\"type\":\"contourcarpet\",\"colorbar\":{\"outlinewidth\":0,\"ticks\":\"\"}}],\"contour\":[{\"type\":\"contour\",\"colorbar\":{\"outlinewidth\":0,\"ticks\":\"\"},\"colorscale\":[[0.0,\"#0d0887\"],[0.1111111111111111,\"#46039f\"],[0.2222222222222222,\"#7201a8\"],[0.3333333333333333,\"#9c179e\"],[0.4444444444444444,\"#bd3786\"],[0.5555555555555556,\"#d8576b\"],[0.6666666666666666,\"#ed7953\"],[0.7777777777777778,\"#fb9f3a\"],[0.8888888888888888,\"#fdca26\"],[1.0,\"#f0f921\"]]}],\"surface\":[{\"type\":\"surface\",\"colorbar\":{\"outlinewidth\":0,\"ticks\":\"\"},\"colorscale\":[[0.0,\"#0d0887\"],[0.1111111111111111,\"#46039f\"],[0.2222222222222222,\"#7201a8\"],[0.3333333333333333,\"#9c179e\"],[0.4444444444444444,\"#bd3786\"],[0.5555555555555556,\"#d8576b\"],[0.6666666666666666,\"#ed7953\"],[0.7777777777777778,\"#fb9f3a\"],[0.8888888888888888,\"#fdca26\"],[1.0,\"#f0f921\"]]}],\"mesh3d\":[{\"type\":\"mesh3d\",\"colorbar\":{\"outlinewidth\":0,\"ticks\":\"\"}}],\"scatter\":[{\"fillpattern\":{\"fillmode\":\"overlay\",\"size\":10,\"solidity\":0.2},\"type\":\"scatter\"}],\"parcoords\":[{\"type\":\"parcoords\",\"line\":{\"colorbar\":{\"outlinewidth\":0,\"ticks\":\"\"}}}],\"scatterpolargl\":[{\"type\":\"scatterpolargl\",\"marker\":{\"colorbar\":{\"outlinewidth\":0,\"ticks\":\"\"}}}],\"bar\":[{\"error_x\":{\"color\":\"#2a3f5f\"},\"error_y\":{\"color\":\"#2a3f5f\"},\"marker\":{\"line\":{\"color\":\"#E5ECF6\",\"width\":0.5},\"pattern\":{\"fillmode\":\"overlay\",\"size\":10,\"solidity\":0.2}},\"type\":\"bar\"}],\"scattergeo\":[{\"type\":\"scattergeo\",\"marker\":{\"colorbar\":{\"outlinewidth\":0,\"ticks\":\"\"}}}],\"scatterpolar\":[{\"type\":\"scatterpolar\",\"marker\":{\"colorbar\":{\"outlinewidth\":0,\"ticks\":\"\"}}}],\"histogram\":[{\"marker\":{\"pattern\":{\"fillmode\":\"overlay\",\"size\":10,\"solidity\":0.2}},\"type\":\"histogram\"}],\"scattergl\":[{\"type\":\"scattergl\",\"marker\":{\"colorbar\":{\"outlinewidth\":0,\"ticks\":\"\"}}}],\"scatter3d\":[{\"type\":\"scatter3d\",\"line\":{\"colorbar\":{\"outlinewidth\":0,\"ticks\":\"\"}},\"marker\":{\"colorbar\":{\"outlinewidth\":0,\"ticks\":\"\"}}}],\"scattermapbox\":[{\"type\":\"scattermapbox\",\"marker\":{\"colorbar\":{\"outlinewidth\":0,\"ticks\":\"\"}}}],\"scatterternary\":[{\"type\":\"scatterternary\",\"marker\":{\"colorbar\":{\"outlinewidth\":0,\"ticks\":\"\"}}}],\"scattercarpet\":[{\"type\":\"scattercarpet\",\"marker\":{\"colorbar\":{\"outlinewidth\":0,\"ticks\":\"\"}}}],\"carpet\":[{\"aaxis\":{\"endlinecolor\":\"#2a3f5f\",\"gridcolor\":\"white\",\"linecolor\":\"white\",\"minorgridcolor\":\"white\",\"startlinecolor\":\"#2a3f5f\"},\"baxis\":{\"endlinecolor\":\"#2a3f5f\",\"gridcolor\":\"white\",\"linecolor\":\"white\",\"minorgridcolor\":\"white\",\"startlinecolor\":\"#2a3f5f\"},\"type\":\"carpet\"}],\"table\":[{\"cells\":{\"fill\":{\"color\":\"#EBF0F8\"},\"line\":{\"color\":\"white\"}},\"header\":{\"fill\":{\"color\":\"#C8D4E3\"},\"line\":{\"color\":\"white\"}},\"type\":\"table\"}],\"barpolar\":[{\"marker\":{\"line\":{\"color\":\"#E5ECF6\",\"width\":0.5},\"pattern\":{\"fillmode\":\"overlay\",\"size\":10,\"solidity\":0.2}},\"type\":\"barpolar\"}],\"pie\":[{\"automargin\":true,\"type\":\"pie\"}]},\"layout\":{\"autotypenumbers\":\"strict\",\"colorway\":[\"#636efa\",\"#EF553B\",\"#00cc96\",\"#ab63fa\",\"#FFA15A\",\"#19d3f3\",\"#FF6692\",\"#B6E880\",\"#FF97FF\",\"#FECB52\"],\"font\":{\"color\":\"#2a3f5f\"},\"hovermode\":\"closest\",\"hoverlabel\":{\"align\":\"left\"},\"paper_bgcolor\":\"white\",\"plot_bgcolor\":\"#E5ECF6\",\"polar\":{\"bgcolor\":\"#E5ECF6\",\"angularaxis\":{\"gridcolor\":\"white\",\"linecolor\":\"white\",\"ticks\":\"\"},\"radialaxis\":{\"gridcolor\":\"white\",\"linecolor\":\"white\",\"ticks\":\"\"}},\"ternary\":{\"bgcolor\":\"#E5ECF6\",\"aaxis\":{\"gridcolor\":\"white\",\"linecolor\":\"white\",\"ticks\":\"\"},\"baxis\":{\"gridcolor\":\"white\",\"linecolor\":\"white\",\"ticks\":\"\"},\"caxis\":{\"gridcolor\":\"white\",\"linecolor\":\"white\",\"ticks\":\"\"}},\"coloraxis\":{\"colorbar\":{\"outlinewidth\":0,\"ticks\":\"\"}},\"colorscale\":{\"sequential\":[[0.0,\"#0d0887\"],[0.1111111111111111,\"#46039f\"],[0.2222222222222222,\"#7201a8\"],[0.3333333333333333,\"#9c179e\"],[0.4444444444444444,\"#bd3786\"],[0.5555555555555556,\"#d8576b\"],[0.6666666666666666,\"#ed7953\"],[0.7777777777777778,\"#fb9f3a\"],[0.8888888888888888,\"#fdca26\"],[1.0,\"#f0f921\"]],\"sequentialminus\":[[0.0,\"#0d0887\"],[0.1111111111111111,\"#46039f\"],[0.2222222222222222,\"#7201a8\"],[0.3333333333333333,\"#9c179e\"],[0.4444444444444444,\"#bd3786\"],[0.5555555555555556,\"#d8576b\"],[0.6666666666666666,\"#ed7953\"],[0.7777777777777778,\"#fb9f3a\"],[0.8888888888888888,\"#fdca26\"],[1.0,\"#f0f921\"]],\"diverging\":[[0,\"#8e0152\"],[0.1,\"#c51b7d\"],[0.2,\"#de77ae\"],[0.3,\"#f1b6da\"],[0.4,\"#fde0ef\"],[0.5,\"#f7f7f7\"],[0.6,\"#e6f5d0\"],[0.7,\"#b8e186\"],[0.8,\"#7fbc41\"],[0.9,\"#4d9221\"],[1,\"#276419\"]]},\"xaxis\":{\"gridcolor\":\"white\",\"linecolor\":\"white\",\"ticks\":\"\",\"title\":{\"standoff\":15},\"zerolinecolor\":\"white\",\"automargin\":true,\"zerolinewidth\":2},\"yaxis\":{\"gridcolor\":\"white\",\"linecolor\":\"white\",\"ticks\":\"\",\"title\":{\"standoff\":15},\"zerolinecolor\":\"white\",\"automargin\":true,\"zerolinewidth\":2},\"scene\":{\"xaxis\":{\"backgroundcolor\":\"#E5ECF6\",\"gridcolor\":\"white\",\"linecolor\":\"white\",\"showbackground\":true,\"ticks\":\"\",\"zerolinecolor\":\"white\",\"gridwidth\":2},\"yaxis\":{\"backgroundcolor\":\"#E5ECF6\",\"gridcolor\":\"white\",\"linecolor\":\"white\",\"showbackground\":true,\"ticks\":\"\",\"zerolinecolor\":\"white\",\"gridwidth\":2},\"zaxis\":{\"backgroundcolor\":\"#E5ECF6\",\"gridcolor\":\"white\",\"linecolor\":\"white\",\"showbackground\":true,\"ticks\":\"\",\"zerolinecolor\":\"white\",\"gridwidth\":2}},\"shapedefaults\":{\"line\":{\"color\":\"#2a3f5f\"}},\"annotationdefaults\":{\"arrowcolor\":\"#2a3f5f\",\"arrowhead\":0,\"arrowwidth\":1},\"geo\":{\"bgcolor\":\"white\",\"landcolor\":\"#E5ECF6\",\"subunitcolor\":\"white\",\"showland\":true,\"showlakes\":true,\"lakecolor\":\"white\"},\"title\":{\"x\":0.05},\"mapbox\":{\"style\":\"light\"}}},\"xaxis\":{\"anchor\":\"y\",\"domain\":[0.0,1.0],\"title\":{\"text\":\"Year\"}},\"yaxis\":{\"anchor\":\"x\",\"domain\":[0.0,1.0],\"title\":{\"text\":\"Mean Outage Duration\"}},\"legend\":{\"tracegroupgap\":0},\"title\":{\"text\":\"Yearly Mean Outage Duration\"}},                        {\"responsive\": true}                    ).then(function(){\n",
       "                            \n",
       "var gd = document.getElementById('732d95f7-b4b5-4093-95b3-cfee894d2a99');\n",
       "var x = new MutationObserver(function (mutations, observer) {{\n",
       "        var display = window.getComputedStyle(gd).display;\n",
       "        if (!display || display === 'none') {{\n",
       "            console.log([gd, 'removed!']);\n",
       "            Plotly.purge(gd);\n",
       "            observer.disconnect();\n",
       "        }}\n",
       "}});\n",
       "\n",
       "// Listen for the removal of the full notebook cells\n",
       "var notebookContainer = gd.closest('#notebook-container');\n",
       "if (notebookContainer) {{\n",
       "    x.observe(notebookContainer, {childList: true});\n",
       "}}\n",
       "\n",
       "// Listen for the clearing of the current output cell\n",
       "var outputEl = gd.closest('.output');\n",
       "if (outputEl) {{\n",
       "    x.observe(outputEl, {childList: true});\n",
       "}}\n",
       "\n",
       "                        })                };                });            </script>        </div>"
      ]
     },
     "metadata": {},
     "output_type": "display_data"
    }
   ],
   "source": [
    "# create a scatter plot where the x values are years in sorted order and the \n",
    "# x values are the mean outage durations for each year\n",
    "\n",
    "fig3 = px.line(x=severe_weather.groupby(\"YEAR\").mean().index, \n",
    "               y=severe_weather.groupby(\"YEAR\").mean()[\"OUTAGE.DURATION\"],\n",
    "              labels={'x': 'Year', 'y':'Mean Outage Duration'},\n",
    "              title=\"Yearly Mean Outage Duration\")\n",
    "\n",
    "fig3.show()"
   ]
  },
  {
   "cell_type": "markdown",
   "metadata": {},
   "source": [
    "Mean outage durations seem to decrease over time, which is great news! Surely, improvements have been made over the years to try to prevent these incidents."
   ]
  },
  {
   "cell_type": "code",
   "execution_count": 124,
   "metadata": {},
   "outputs": [
    {
     "data": {
      "application/vnd.plotly.v1+json": {
       "config": {
        "plotlyServerURL": "https://plot.ly"
       },
       "data": [
        {
         "hovertemplate": "Year=%{x}<br>Mean Customers Affected=%{y}<extra></extra>",
         "legendgroup": "",
         "line": {
          "color": "#636efa",
          "dash": "solid"
         },
         "marker": {
          "symbol": "circle"
         },
         "mode": "lines",
         "name": "",
         "orientation": "v",
         "showlegend": false,
         "type": "scatter",
         "x": [
          2000,
          2001,
          2002,
          2003,
          2004,
          2005,
          2006,
          2007,
          2008,
          2009,
          2010,
          2011,
          2012,
          2013,
          2014,
          2015,
          2016
         ],
         "xaxis": "x",
         "y": [
          109254.46153846153,
          36073,
          469429.6923076923,
          179990.9,
          255258.3137254902,
          265102.97777777776,
          183338.2,
          159309.25,
          241344.18666666668,
          145497.81395348837,
          163006.40677966102,
          141015.1826923077,
          198160.80952380953,
          137654.914893617,
          266473.23333333334,
          117705.13333333333,
          126214.25
         ],
         "yaxis": "y"
        }
       ],
       "layout": {
        "legend": {
         "tracegroupgap": 0
        },
        "template": {
         "data": {
          "bar": [
           {
            "error_x": {
             "color": "#2a3f5f"
            },
            "error_y": {
             "color": "#2a3f5f"
            },
            "marker": {
             "line": {
              "color": "#E5ECF6",
              "width": 0.5
             },
             "pattern": {
              "fillmode": "overlay",
              "size": 10,
              "solidity": 0.2
             }
            },
            "type": "bar"
           }
          ],
          "barpolar": [
           {
            "marker": {
             "line": {
              "color": "#E5ECF6",
              "width": 0.5
             },
             "pattern": {
              "fillmode": "overlay",
              "size": 10,
              "solidity": 0.2
             }
            },
            "type": "barpolar"
           }
          ],
          "carpet": [
           {
            "aaxis": {
             "endlinecolor": "#2a3f5f",
             "gridcolor": "white",
             "linecolor": "white",
             "minorgridcolor": "white",
             "startlinecolor": "#2a3f5f"
            },
            "baxis": {
             "endlinecolor": "#2a3f5f",
             "gridcolor": "white",
             "linecolor": "white",
             "minorgridcolor": "white",
             "startlinecolor": "#2a3f5f"
            },
            "type": "carpet"
           }
          ],
          "choropleth": [
           {
            "colorbar": {
             "outlinewidth": 0,
             "ticks": ""
            },
            "type": "choropleth"
           }
          ],
          "contour": [
           {
            "colorbar": {
             "outlinewidth": 0,
             "ticks": ""
            },
            "colorscale": [
             [
              0,
              "#0d0887"
             ],
             [
              0.1111111111111111,
              "#46039f"
             ],
             [
              0.2222222222222222,
              "#7201a8"
             ],
             [
              0.3333333333333333,
              "#9c179e"
             ],
             [
              0.4444444444444444,
              "#bd3786"
             ],
             [
              0.5555555555555556,
              "#d8576b"
             ],
             [
              0.6666666666666666,
              "#ed7953"
             ],
             [
              0.7777777777777778,
              "#fb9f3a"
             ],
             [
              0.8888888888888888,
              "#fdca26"
             ],
             [
              1,
              "#f0f921"
             ]
            ],
            "type": "contour"
           }
          ],
          "contourcarpet": [
           {
            "colorbar": {
             "outlinewidth": 0,
             "ticks": ""
            },
            "type": "contourcarpet"
           }
          ],
          "heatmap": [
           {
            "colorbar": {
             "outlinewidth": 0,
             "ticks": ""
            },
            "colorscale": [
             [
              0,
              "#0d0887"
             ],
             [
              0.1111111111111111,
              "#46039f"
             ],
             [
              0.2222222222222222,
              "#7201a8"
             ],
             [
              0.3333333333333333,
              "#9c179e"
             ],
             [
              0.4444444444444444,
              "#bd3786"
             ],
             [
              0.5555555555555556,
              "#d8576b"
             ],
             [
              0.6666666666666666,
              "#ed7953"
             ],
             [
              0.7777777777777778,
              "#fb9f3a"
             ],
             [
              0.8888888888888888,
              "#fdca26"
             ],
             [
              1,
              "#f0f921"
             ]
            ],
            "type": "heatmap"
           }
          ],
          "heatmapgl": [
           {
            "colorbar": {
             "outlinewidth": 0,
             "ticks": ""
            },
            "colorscale": [
             [
              0,
              "#0d0887"
             ],
             [
              0.1111111111111111,
              "#46039f"
             ],
             [
              0.2222222222222222,
              "#7201a8"
             ],
             [
              0.3333333333333333,
              "#9c179e"
             ],
             [
              0.4444444444444444,
              "#bd3786"
             ],
             [
              0.5555555555555556,
              "#d8576b"
             ],
             [
              0.6666666666666666,
              "#ed7953"
             ],
             [
              0.7777777777777778,
              "#fb9f3a"
             ],
             [
              0.8888888888888888,
              "#fdca26"
             ],
             [
              1,
              "#f0f921"
             ]
            ],
            "type": "heatmapgl"
           }
          ],
          "histogram": [
           {
            "marker": {
             "pattern": {
              "fillmode": "overlay",
              "size": 10,
              "solidity": 0.2
             }
            },
            "type": "histogram"
           }
          ],
          "histogram2d": [
           {
            "colorbar": {
             "outlinewidth": 0,
             "ticks": ""
            },
            "colorscale": [
             [
              0,
              "#0d0887"
             ],
             [
              0.1111111111111111,
              "#46039f"
             ],
             [
              0.2222222222222222,
              "#7201a8"
             ],
             [
              0.3333333333333333,
              "#9c179e"
             ],
             [
              0.4444444444444444,
              "#bd3786"
             ],
             [
              0.5555555555555556,
              "#d8576b"
             ],
             [
              0.6666666666666666,
              "#ed7953"
             ],
             [
              0.7777777777777778,
              "#fb9f3a"
             ],
             [
              0.8888888888888888,
              "#fdca26"
             ],
             [
              1,
              "#f0f921"
             ]
            ],
            "type": "histogram2d"
           }
          ],
          "histogram2dcontour": [
           {
            "colorbar": {
             "outlinewidth": 0,
             "ticks": ""
            },
            "colorscale": [
             [
              0,
              "#0d0887"
             ],
             [
              0.1111111111111111,
              "#46039f"
             ],
             [
              0.2222222222222222,
              "#7201a8"
             ],
             [
              0.3333333333333333,
              "#9c179e"
             ],
             [
              0.4444444444444444,
              "#bd3786"
             ],
             [
              0.5555555555555556,
              "#d8576b"
             ],
             [
              0.6666666666666666,
              "#ed7953"
             ],
             [
              0.7777777777777778,
              "#fb9f3a"
             ],
             [
              0.8888888888888888,
              "#fdca26"
             ],
             [
              1,
              "#f0f921"
             ]
            ],
            "type": "histogram2dcontour"
           }
          ],
          "mesh3d": [
           {
            "colorbar": {
             "outlinewidth": 0,
             "ticks": ""
            },
            "type": "mesh3d"
           }
          ],
          "parcoords": [
           {
            "line": {
             "colorbar": {
              "outlinewidth": 0,
              "ticks": ""
             }
            },
            "type": "parcoords"
           }
          ],
          "pie": [
           {
            "automargin": true,
            "type": "pie"
           }
          ],
          "scatter": [
           {
            "fillpattern": {
             "fillmode": "overlay",
             "size": 10,
             "solidity": 0.2
            },
            "type": "scatter"
           }
          ],
          "scatter3d": [
           {
            "line": {
             "colorbar": {
              "outlinewidth": 0,
              "ticks": ""
             }
            },
            "marker": {
             "colorbar": {
              "outlinewidth": 0,
              "ticks": ""
             }
            },
            "type": "scatter3d"
           }
          ],
          "scattercarpet": [
           {
            "marker": {
             "colorbar": {
              "outlinewidth": 0,
              "ticks": ""
             }
            },
            "type": "scattercarpet"
           }
          ],
          "scattergeo": [
           {
            "marker": {
             "colorbar": {
              "outlinewidth": 0,
              "ticks": ""
             }
            },
            "type": "scattergeo"
           }
          ],
          "scattergl": [
           {
            "marker": {
             "colorbar": {
              "outlinewidth": 0,
              "ticks": ""
             }
            },
            "type": "scattergl"
           }
          ],
          "scattermapbox": [
           {
            "marker": {
             "colorbar": {
              "outlinewidth": 0,
              "ticks": ""
             }
            },
            "type": "scattermapbox"
           }
          ],
          "scatterpolar": [
           {
            "marker": {
             "colorbar": {
              "outlinewidth": 0,
              "ticks": ""
             }
            },
            "type": "scatterpolar"
           }
          ],
          "scatterpolargl": [
           {
            "marker": {
             "colorbar": {
              "outlinewidth": 0,
              "ticks": ""
             }
            },
            "type": "scatterpolargl"
           }
          ],
          "scatterternary": [
           {
            "marker": {
             "colorbar": {
              "outlinewidth": 0,
              "ticks": ""
             }
            },
            "type": "scatterternary"
           }
          ],
          "surface": [
           {
            "colorbar": {
             "outlinewidth": 0,
             "ticks": ""
            },
            "colorscale": [
             [
              0,
              "#0d0887"
             ],
             [
              0.1111111111111111,
              "#46039f"
             ],
             [
              0.2222222222222222,
              "#7201a8"
             ],
             [
              0.3333333333333333,
              "#9c179e"
             ],
             [
              0.4444444444444444,
              "#bd3786"
             ],
             [
              0.5555555555555556,
              "#d8576b"
             ],
             [
              0.6666666666666666,
              "#ed7953"
             ],
             [
              0.7777777777777778,
              "#fb9f3a"
             ],
             [
              0.8888888888888888,
              "#fdca26"
             ],
             [
              1,
              "#f0f921"
             ]
            ],
            "type": "surface"
           }
          ],
          "table": [
           {
            "cells": {
             "fill": {
              "color": "#EBF0F8"
             },
             "line": {
              "color": "white"
             }
            },
            "header": {
             "fill": {
              "color": "#C8D4E3"
             },
             "line": {
              "color": "white"
             }
            },
            "type": "table"
           }
          ]
         },
         "layout": {
          "annotationdefaults": {
           "arrowcolor": "#2a3f5f",
           "arrowhead": 0,
           "arrowwidth": 1
          },
          "autotypenumbers": "strict",
          "coloraxis": {
           "colorbar": {
            "outlinewidth": 0,
            "ticks": ""
           }
          },
          "colorscale": {
           "diverging": [
            [
             0,
             "#8e0152"
            ],
            [
             0.1,
             "#c51b7d"
            ],
            [
             0.2,
             "#de77ae"
            ],
            [
             0.3,
             "#f1b6da"
            ],
            [
             0.4,
             "#fde0ef"
            ],
            [
             0.5,
             "#f7f7f7"
            ],
            [
             0.6,
             "#e6f5d0"
            ],
            [
             0.7,
             "#b8e186"
            ],
            [
             0.8,
             "#7fbc41"
            ],
            [
             0.9,
             "#4d9221"
            ],
            [
             1,
             "#276419"
            ]
           ],
           "sequential": [
            [
             0,
             "#0d0887"
            ],
            [
             0.1111111111111111,
             "#46039f"
            ],
            [
             0.2222222222222222,
             "#7201a8"
            ],
            [
             0.3333333333333333,
             "#9c179e"
            ],
            [
             0.4444444444444444,
             "#bd3786"
            ],
            [
             0.5555555555555556,
             "#d8576b"
            ],
            [
             0.6666666666666666,
             "#ed7953"
            ],
            [
             0.7777777777777778,
             "#fb9f3a"
            ],
            [
             0.8888888888888888,
             "#fdca26"
            ],
            [
             1,
             "#f0f921"
            ]
           ],
           "sequentialminus": [
            [
             0,
             "#0d0887"
            ],
            [
             0.1111111111111111,
             "#46039f"
            ],
            [
             0.2222222222222222,
             "#7201a8"
            ],
            [
             0.3333333333333333,
             "#9c179e"
            ],
            [
             0.4444444444444444,
             "#bd3786"
            ],
            [
             0.5555555555555556,
             "#d8576b"
            ],
            [
             0.6666666666666666,
             "#ed7953"
            ],
            [
             0.7777777777777778,
             "#fb9f3a"
            ],
            [
             0.8888888888888888,
             "#fdca26"
            ],
            [
             1,
             "#f0f921"
            ]
           ]
          },
          "colorway": [
           "#636efa",
           "#EF553B",
           "#00cc96",
           "#ab63fa",
           "#FFA15A",
           "#19d3f3",
           "#FF6692",
           "#B6E880",
           "#FF97FF",
           "#FECB52"
          ],
          "font": {
           "color": "#2a3f5f"
          },
          "geo": {
           "bgcolor": "white",
           "lakecolor": "white",
           "landcolor": "#E5ECF6",
           "showlakes": true,
           "showland": true,
           "subunitcolor": "white"
          },
          "hoverlabel": {
           "align": "left"
          },
          "hovermode": "closest",
          "mapbox": {
           "style": "light"
          },
          "paper_bgcolor": "white",
          "plot_bgcolor": "#E5ECF6",
          "polar": {
           "angularaxis": {
            "gridcolor": "white",
            "linecolor": "white",
            "ticks": ""
           },
           "bgcolor": "#E5ECF6",
           "radialaxis": {
            "gridcolor": "white",
            "linecolor": "white",
            "ticks": ""
           }
          },
          "scene": {
           "xaxis": {
            "backgroundcolor": "#E5ECF6",
            "gridcolor": "white",
            "gridwidth": 2,
            "linecolor": "white",
            "showbackground": true,
            "ticks": "",
            "zerolinecolor": "white"
           },
           "yaxis": {
            "backgroundcolor": "#E5ECF6",
            "gridcolor": "white",
            "gridwidth": 2,
            "linecolor": "white",
            "showbackground": true,
            "ticks": "",
            "zerolinecolor": "white"
           },
           "zaxis": {
            "backgroundcolor": "#E5ECF6",
            "gridcolor": "white",
            "gridwidth": 2,
            "linecolor": "white",
            "showbackground": true,
            "ticks": "",
            "zerolinecolor": "white"
           }
          },
          "shapedefaults": {
           "line": {
            "color": "#2a3f5f"
           }
          },
          "ternary": {
           "aaxis": {
            "gridcolor": "white",
            "linecolor": "white",
            "ticks": ""
           },
           "baxis": {
            "gridcolor": "white",
            "linecolor": "white",
            "ticks": ""
           },
           "bgcolor": "#E5ECF6",
           "caxis": {
            "gridcolor": "white",
            "linecolor": "white",
            "ticks": ""
           }
          },
          "title": {
           "x": 0.05
          },
          "xaxis": {
           "automargin": true,
           "gridcolor": "white",
           "linecolor": "white",
           "ticks": "",
           "title": {
            "standoff": 15
           },
           "zerolinecolor": "white",
           "zerolinewidth": 2
          },
          "yaxis": {
           "automargin": true,
           "gridcolor": "white",
           "linecolor": "white",
           "ticks": "",
           "title": {
            "standoff": 15
           },
           "zerolinecolor": "white",
           "zerolinewidth": 2
          }
         }
        },
        "title": {
         "text": "Yearly Mean Customers Affected"
        },
        "xaxis": {
         "anchor": "y",
         "domain": [
          0,
          1
         ],
         "title": {
          "text": "Year"
         }
        },
        "yaxis": {
         "anchor": "x",
         "domain": [
          0,
          1
         ],
         "title": {
          "text": "Mean Customers Affected"
         }
        }
       }
      },
      "text/html": [
       "<div>                            <div id=\"e925655f-a458-4227-9e0f-e27b0fa39c4f\" class=\"plotly-graph-div\" style=\"height:525px; width:100%;\"></div>            <script type=\"text/javascript\">                require([\"plotly\"], function(Plotly) {                    window.PLOTLYENV=window.PLOTLYENV || {};                                    if (document.getElementById(\"e925655f-a458-4227-9e0f-e27b0fa39c4f\")) {                    Plotly.newPlot(                        \"e925655f-a458-4227-9e0f-e27b0fa39c4f\",                        [{\"hovertemplate\":\"Year=%{x}\\u003cbr\\u003eMean Customers Affected=%{y}\\u003cextra\\u003e\\u003c\\u002fextra\\u003e\",\"legendgroup\":\"\",\"line\":{\"color\":\"#636efa\",\"dash\":\"solid\"},\"marker\":{\"symbol\":\"circle\"},\"mode\":\"lines\",\"name\":\"\",\"orientation\":\"v\",\"showlegend\":false,\"x\":[2000,2001,2002,2003,2004,2005,2006,2007,2008,2009,2010,2011,2012,2013,2014,2015,2016],\"xaxis\":\"x\",\"y\":[109254.46153846153,36073.0,469429.6923076923,179990.9,255258.3137254902,265102.97777777776,183338.2,159309.25,241344.18666666668,145497.81395348837,163006.40677966102,141015.1826923077,198160.80952380953,137654.914893617,266473.23333333334,117705.13333333333,126214.25],\"yaxis\":\"y\",\"type\":\"scatter\"}],                        {\"template\":{\"data\":{\"histogram2dcontour\":[{\"type\":\"histogram2dcontour\",\"colorbar\":{\"outlinewidth\":0,\"ticks\":\"\"},\"colorscale\":[[0.0,\"#0d0887\"],[0.1111111111111111,\"#46039f\"],[0.2222222222222222,\"#7201a8\"],[0.3333333333333333,\"#9c179e\"],[0.4444444444444444,\"#bd3786\"],[0.5555555555555556,\"#d8576b\"],[0.6666666666666666,\"#ed7953\"],[0.7777777777777778,\"#fb9f3a\"],[0.8888888888888888,\"#fdca26\"],[1.0,\"#f0f921\"]]}],\"choropleth\":[{\"type\":\"choropleth\",\"colorbar\":{\"outlinewidth\":0,\"ticks\":\"\"}}],\"histogram2d\":[{\"type\":\"histogram2d\",\"colorbar\":{\"outlinewidth\":0,\"ticks\":\"\"},\"colorscale\":[[0.0,\"#0d0887\"],[0.1111111111111111,\"#46039f\"],[0.2222222222222222,\"#7201a8\"],[0.3333333333333333,\"#9c179e\"],[0.4444444444444444,\"#bd3786\"],[0.5555555555555556,\"#d8576b\"],[0.6666666666666666,\"#ed7953\"],[0.7777777777777778,\"#fb9f3a\"],[0.8888888888888888,\"#fdca26\"],[1.0,\"#f0f921\"]]}],\"heatmap\":[{\"type\":\"heatmap\",\"colorbar\":{\"outlinewidth\":0,\"ticks\":\"\"},\"colorscale\":[[0.0,\"#0d0887\"],[0.1111111111111111,\"#46039f\"],[0.2222222222222222,\"#7201a8\"],[0.3333333333333333,\"#9c179e\"],[0.4444444444444444,\"#bd3786\"],[0.5555555555555556,\"#d8576b\"],[0.6666666666666666,\"#ed7953\"],[0.7777777777777778,\"#fb9f3a\"],[0.8888888888888888,\"#fdca26\"],[1.0,\"#f0f921\"]]}],\"heatmapgl\":[{\"type\":\"heatmapgl\",\"colorbar\":{\"outlinewidth\":0,\"ticks\":\"\"},\"colorscale\":[[0.0,\"#0d0887\"],[0.1111111111111111,\"#46039f\"],[0.2222222222222222,\"#7201a8\"],[0.3333333333333333,\"#9c179e\"],[0.4444444444444444,\"#bd3786\"],[0.5555555555555556,\"#d8576b\"],[0.6666666666666666,\"#ed7953\"],[0.7777777777777778,\"#fb9f3a\"],[0.8888888888888888,\"#fdca26\"],[1.0,\"#f0f921\"]]}],\"contourcarpet\":[{\"type\":\"contourcarpet\",\"colorbar\":{\"outlinewidth\":0,\"ticks\":\"\"}}],\"contour\":[{\"type\":\"contour\",\"colorbar\":{\"outlinewidth\":0,\"ticks\":\"\"},\"colorscale\":[[0.0,\"#0d0887\"],[0.1111111111111111,\"#46039f\"],[0.2222222222222222,\"#7201a8\"],[0.3333333333333333,\"#9c179e\"],[0.4444444444444444,\"#bd3786\"],[0.5555555555555556,\"#d8576b\"],[0.6666666666666666,\"#ed7953\"],[0.7777777777777778,\"#fb9f3a\"],[0.8888888888888888,\"#fdca26\"],[1.0,\"#f0f921\"]]}],\"surface\":[{\"type\":\"surface\",\"colorbar\":{\"outlinewidth\":0,\"ticks\":\"\"},\"colorscale\":[[0.0,\"#0d0887\"],[0.1111111111111111,\"#46039f\"],[0.2222222222222222,\"#7201a8\"],[0.3333333333333333,\"#9c179e\"],[0.4444444444444444,\"#bd3786\"],[0.5555555555555556,\"#d8576b\"],[0.6666666666666666,\"#ed7953\"],[0.7777777777777778,\"#fb9f3a\"],[0.8888888888888888,\"#fdca26\"],[1.0,\"#f0f921\"]]}],\"mesh3d\":[{\"type\":\"mesh3d\",\"colorbar\":{\"outlinewidth\":0,\"ticks\":\"\"}}],\"scatter\":[{\"fillpattern\":{\"fillmode\":\"overlay\",\"size\":10,\"solidity\":0.2},\"type\":\"scatter\"}],\"parcoords\":[{\"type\":\"parcoords\",\"line\":{\"colorbar\":{\"outlinewidth\":0,\"ticks\":\"\"}}}],\"scatterpolargl\":[{\"type\":\"scatterpolargl\",\"marker\":{\"colorbar\":{\"outlinewidth\":0,\"ticks\":\"\"}}}],\"bar\":[{\"error_x\":{\"color\":\"#2a3f5f\"},\"error_y\":{\"color\":\"#2a3f5f\"},\"marker\":{\"line\":{\"color\":\"#E5ECF6\",\"width\":0.5},\"pattern\":{\"fillmode\":\"overlay\",\"size\":10,\"solidity\":0.2}},\"type\":\"bar\"}],\"scattergeo\":[{\"type\":\"scattergeo\",\"marker\":{\"colorbar\":{\"outlinewidth\":0,\"ticks\":\"\"}}}],\"scatterpolar\":[{\"type\":\"scatterpolar\",\"marker\":{\"colorbar\":{\"outlinewidth\":0,\"ticks\":\"\"}}}],\"histogram\":[{\"marker\":{\"pattern\":{\"fillmode\":\"overlay\",\"size\":10,\"solidity\":0.2}},\"type\":\"histogram\"}],\"scattergl\":[{\"type\":\"scattergl\",\"marker\":{\"colorbar\":{\"outlinewidth\":0,\"ticks\":\"\"}}}],\"scatter3d\":[{\"type\":\"scatter3d\",\"line\":{\"colorbar\":{\"outlinewidth\":0,\"ticks\":\"\"}},\"marker\":{\"colorbar\":{\"outlinewidth\":0,\"ticks\":\"\"}}}],\"scattermapbox\":[{\"type\":\"scattermapbox\",\"marker\":{\"colorbar\":{\"outlinewidth\":0,\"ticks\":\"\"}}}],\"scatterternary\":[{\"type\":\"scatterternary\",\"marker\":{\"colorbar\":{\"outlinewidth\":0,\"ticks\":\"\"}}}],\"scattercarpet\":[{\"type\":\"scattercarpet\",\"marker\":{\"colorbar\":{\"outlinewidth\":0,\"ticks\":\"\"}}}],\"carpet\":[{\"aaxis\":{\"endlinecolor\":\"#2a3f5f\",\"gridcolor\":\"white\",\"linecolor\":\"white\",\"minorgridcolor\":\"white\",\"startlinecolor\":\"#2a3f5f\"},\"baxis\":{\"endlinecolor\":\"#2a3f5f\",\"gridcolor\":\"white\",\"linecolor\":\"white\",\"minorgridcolor\":\"white\",\"startlinecolor\":\"#2a3f5f\"},\"type\":\"carpet\"}],\"table\":[{\"cells\":{\"fill\":{\"color\":\"#EBF0F8\"},\"line\":{\"color\":\"white\"}},\"header\":{\"fill\":{\"color\":\"#C8D4E3\"},\"line\":{\"color\":\"white\"}},\"type\":\"table\"}],\"barpolar\":[{\"marker\":{\"line\":{\"color\":\"#E5ECF6\",\"width\":0.5},\"pattern\":{\"fillmode\":\"overlay\",\"size\":10,\"solidity\":0.2}},\"type\":\"barpolar\"}],\"pie\":[{\"automargin\":true,\"type\":\"pie\"}]},\"layout\":{\"autotypenumbers\":\"strict\",\"colorway\":[\"#636efa\",\"#EF553B\",\"#00cc96\",\"#ab63fa\",\"#FFA15A\",\"#19d3f3\",\"#FF6692\",\"#B6E880\",\"#FF97FF\",\"#FECB52\"],\"font\":{\"color\":\"#2a3f5f\"},\"hovermode\":\"closest\",\"hoverlabel\":{\"align\":\"left\"},\"paper_bgcolor\":\"white\",\"plot_bgcolor\":\"#E5ECF6\",\"polar\":{\"bgcolor\":\"#E5ECF6\",\"angularaxis\":{\"gridcolor\":\"white\",\"linecolor\":\"white\",\"ticks\":\"\"},\"radialaxis\":{\"gridcolor\":\"white\",\"linecolor\":\"white\",\"ticks\":\"\"}},\"ternary\":{\"bgcolor\":\"#E5ECF6\",\"aaxis\":{\"gridcolor\":\"white\",\"linecolor\":\"white\",\"ticks\":\"\"},\"baxis\":{\"gridcolor\":\"white\",\"linecolor\":\"white\",\"ticks\":\"\"},\"caxis\":{\"gridcolor\":\"white\",\"linecolor\":\"white\",\"ticks\":\"\"}},\"coloraxis\":{\"colorbar\":{\"outlinewidth\":0,\"ticks\":\"\"}},\"colorscale\":{\"sequential\":[[0.0,\"#0d0887\"],[0.1111111111111111,\"#46039f\"],[0.2222222222222222,\"#7201a8\"],[0.3333333333333333,\"#9c179e\"],[0.4444444444444444,\"#bd3786\"],[0.5555555555555556,\"#d8576b\"],[0.6666666666666666,\"#ed7953\"],[0.7777777777777778,\"#fb9f3a\"],[0.8888888888888888,\"#fdca26\"],[1.0,\"#f0f921\"]],\"sequentialminus\":[[0.0,\"#0d0887\"],[0.1111111111111111,\"#46039f\"],[0.2222222222222222,\"#7201a8\"],[0.3333333333333333,\"#9c179e\"],[0.4444444444444444,\"#bd3786\"],[0.5555555555555556,\"#d8576b\"],[0.6666666666666666,\"#ed7953\"],[0.7777777777777778,\"#fb9f3a\"],[0.8888888888888888,\"#fdca26\"],[1.0,\"#f0f921\"]],\"diverging\":[[0,\"#8e0152\"],[0.1,\"#c51b7d\"],[0.2,\"#de77ae\"],[0.3,\"#f1b6da\"],[0.4,\"#fde0ef\"],[0.5,\"#f7f7f7\"],[0.6,\"#e6f5d0\"],[0.7,\"#b8e186\"],[0.8,\"#7fbc41\"],[0.9,\"#4d9221\"],[1,\"#276419\"]]},\"xaxis\":{\"gridcolor\":\"white\",\"linecolor\":\"white\",\"ticks\":\"\",\"title\":{\"standoff\":15},\"zerolinecolor\":\"white\",\"automargin\":true,\"zerolinewidth\":2},\"yaxis\":{\"gridcolor\":\"white\",\"linecolor\":\"white\",\"ticks\":\"\",\"title\":{\"standoff\":15},\"zerolinecolor\":\"white\",\"automargin\":true,\"zerolinewidth\":2},\"scene\":{\"xaxis\":{\"backgroundcolor\":\"#E5ECF6\",\"gridcolor\":\"white\",\"linecolor\":\"white\",\"showbackground\":true,\"ticks\":\"\",\"zerolinecolor\":\"white\",\"gridwidth\":2},\"yaxis\":{\"backgroundcolor\":\"#E5ECF6\",\"gridcolor\":\"white\",\"linecolor\":\"white\",\"showbackground\":true,\"ticks\":\"\",\"zerolinecolor\":\"white\",\"gridwidth\":2},\"zaxis\":{\"backgroundcolor\":\"#E5ECF6\",\"gridcolor\":\"white\",\"linecolor\":\"white\",\"showbackground\":true,\"ticks\":\"\",\"zerolinecolor\":\"white\",\"gridwidth\":2}},\"shapedefaults\":{\"line\":{\"color\":\"#2a3f5f\"}},\"annotationdefaults\":{\"arrowcolor\":\"#2a3f5f\",\"arrowhead\":0,\"arrowwidth\":1},\"geo\":{\"bgcolor\":\"white\",\"landcolor\":\"#E5ECF6\",\"subunitcolor\":\"white\",\"showland\":true,\"showlakes\":true,\"lakecolor\":\"white\"},\"title\":{\"x\":0.05},\"mapbox\":{\"style\":\"light\"}}},\"xaxis\":{\"anchor\":\"y\",\"domain\":[0.0,1.0],\"title\":{\"text\":\"Year\"}},\"yaxis\":{\"anchor\":\"x\",\"domain\":[0.0,1.0],\"title\":{\"text\":\"Mean Customers Affected\"}},\"legend\":{\"tracegroupgap\":0},\"title\":{\"text\":\"Yearly Mean Customers Affected\"}},                        {\"responsive\": true}                    ).then(function(){\n",
       "                            \n",
       "var gd = document.getElementById('e925655f-a458-4227-9e0f-e27b0fa39c4f');\n",
       "var x = new MutationObserver(function (mutations, observer) {{\n",
       "        var display = window.getComputedStyle(gd).display;\n",
       "        if (!display || display === 'none') {{\n",
       "            console.log([gd, 'removed!']);\n",
       "            Plotly.purge(gd);\n",
       "            observer.disconnect();\n",
       "        }}\n",
       "}});\n",
       "\n",
       "// Listen for the removal of the full notebook cells\n",
       "var notebookContainer = gd.closest('#notebook-container');\n",
       "if (notebookContainer) {{\n",
       "    x.observe(notebookContainer, {childList: true});\n",
       "}}\n",
       "\n",
       "// Listen for the clearing of the current output cell\n",
       "var outputEl = gd.closest('.output');\n",
       "if (outputEl) {{\n",
       "    x.observe(outputEl, {childList: true});\n",
       "}}\n",
       "\n",
       "                        })                };                });            </script>        </div>"
      ]
     },
     "metadata": {},
     "output_type": "display_data"
    }
   ],
   "source": [
    "# create a scatter plot where the x values are years in sorted order and the \n",
    "# x values are the mean number of customers affected for each year\n",
    "\n",
    "fig4 = px.line(x=severe_weather.groupby(\"YEAR\").mean().index, \n",
    "               y=severe_weather.groupby(\"YEAR\").mean()[\"CUSTOMERS.AFFECTED\"],\n",
    "              labels={'x': 'Year', 'y':'Mean Customers Affected'},\n",
    "              title=\"Yearly Mean Customers Affected\")\n",
    "\n",
    "fig4.show()"
   ]
  },
  {
   "cell_type": "markdown",
   "metadata": {},
   "source": [
    "Similarily, the mean number of customers affected also appears to decrease over time, but will less variation. We plan to focus on mean outage duration time moving forward as there seems to be more variation in that variable. Additionally, duration of a power outage is a good indicator of the severity of the power outage, since typically companies strive to regenerate power as soon as possible."
   ]
  },
  {
   "cell_type": "markdown",
   "metadata": {},
   "source": [
    "What about monthly deviations? Do power outages occur more in the summer time due to hotter weather? Let's see how mean outage durations change over time based on monthly categories."
   ]
  },
  {
   "cell_type": "code",
   "execution_count": 122,
   "metadata": {},
   "outputs": [
    {
     "data": {
      "application/vnd.plotly.v1+json": {
       "config": {
        "plotlyServerURL": "https://plot.ly"
       },
       "data": [
        {
         "hovertemplate": "Month=%{x}<br>Mean Outage Duration=%{y}<extra></extra>",
         "legendgroup": "",
         "line": {
          "color": "#636efa",
          "dash": "solid"
         },
         "marker": {
          "symbol": "circle"
         },
         "mode": "lines",
         "name": "",
         "orientation": "v",
         "showlegend": false,
         "type": "scatter",
         "x": [
          1,
          2,
          3,
          4,
          5,
          6,
          7,
          8,
          9,
          10,
          11,
          12
         ],
         "xaxis": "x",
         "y": [
          4327.44776119403,
          3096.133333333333,
          3351.896551724138,
          2596.931818181818,
          3894.723404255319,
          3061.09,
          3409.112244897959,
          3052.2926829268295,
          6585.482758620689,
          6204.770491803279,
          3115.8,
          4118.476190476191
         ],
         "yaxis": "y"
        }
       ],
       "layout": {
        "legend": {
         "tracegroupgap": 0
        },
        "template": {
         "data": {
          "bar": [
           {
            "error_x": {
             "color": "#2a3f5f"
            },
            "error_y": {
             "color": "#2a3f5f"
            },
            "marker": {
             "line": {
              "color": "#E5ECF6",
              "width": 0.5
             },
             "pattern": {
              "fillmode": "overlay",
              "size": 10,
              "solidity": 0.2
             }
            },
            "type": "bar"
           }
          ],
          "barpolar": [
           {
            "marker": {
             "line": {
              "color": "#E5ECF6",
              "width": 0.5
             },
             "pattern": {
              "fillmode": "overlay",
              "size": 10,
              "solidity": 0.2
             }
            },
            "type": "barpolar"
           }
          ],
          "carpet": [
           {
            "aaxis": {
             "endlinecolor": "#2a3f5f",
             "gridcolor": "white",
             "linecolor": "white",
             "minorgridcolor": "white",
             "startlinecolor": "#2a3f5f"
            },
            "baxis": {
             "endlinecolor": "#2a3f5f",
             "gridcolor": "white",
             "linecolor": "white",
             "minorgridcolor": "white",
             "startlinecolor": "#2a3f5f"
            },
            "type": "carpet"
           }
          ],
          "choropleth": [
           {
            "colorbar": {
             "outlinewidth": 0,
             "ticks": ""
            },
            "type": "choropleth"
           }
          ],
          "contour": [
           {
            "colorbar": {
             "outlinewidth": 0,
             "ticks": ""
            },
            "colorscale": [
             [
              0,
              "#0d0887"
             ],
             [
              0.1111111111111111,
              "#46039f"
             ],
             [
              0.2222222222222222,
              "#7201a8"
             ],
             [
              0.3333333333333333,
              "#9c179e"
             ],
             [
              0.4444444444444444,
              "#bd3786"
             ],
             [
              0.5555555555555556,
              "#d8576b"
             ],
             [
              0.6666666666666666,
              "#ed7953"
             ],
             [
              0.7777777777777778,
              "#fb9f3a"
             ],
             [
              0.8888888888888888,
              "#fdca26"
             ],
             [
              1,
              "#f0f921"
             ]
            ],
            "type": "contour"
           }
          ],
          "contourcarpet": [
           {
            "colorbar": {
             "outlinewidth": 0,
             "ticks": ""
            },
            "type": "contourcarpet"
           }
          ],
          "heatmap": [
           {
            "colorbar": {
             "outlinewidth": 0,
             "ticks": ""
            },
            "colorscale": [
             [
              0,
              "#0d0887"
             ],
             [
              0.1111111111111111,
              "#46039f"
             ],
             [
              0.2222222222222222,
              "#7201a8"
             ],
             [
              0.3333333333333333,
              "#9c179e"
             ],
             [
              0.4444444444444444,
              "#bd3786"
             ],
             [
              0.5555555555555556,
              "#d8576b"
             ],
             [
              0.6666666666666666,
              "#ed7953"
             ],
             [
              0.7777777777777778,
              "#fb9f3a"
             ],
             [
              0.8888888888888888,
              "#fdca26"
             ],
             [
              1,
              "#f0f921"
             ]
            ],
            "type": "heatmap"
           }
          ],
          "heatmapgl": [
           {
            "colorbar": {
             "outlinewidth": 0,
             "ticks": ""
            },
            "colorscale": [
             [
              0,
              "#0d0887"
             ],
             [
              0.1111111111111111,
              "#46039f"
             ],
             [
              0.2222222222222222,
              "#7201a8"
             ],
             [
              0.3333333333333333,
              "#9c179e"
             ],
             [
              0.4444444444444444,
              "#bd3786"
             ],
             [
              0.5555555555555556,
              "#d8576b"
             ],
             [
              0.6666666666666666,
              "#ed7953"
             ],
             [
              0.7777777777777778,
              "#fb9f3a"
             ],
             [
              0.8888888888888888,
              "#fdca26"
             ],
             [
              1,
              "#f0f921"
             ]
            ],
            "type": "heatmapgl"
           }
          ],
          "histogram": [
           {
            "marker": {
             "pattern": {
              "fillmode": "overlay",
              "size": 10,
              "solidity": 0.2
             }
            },
            "type": "histogram"
           }
          ],
          "histogram2d": [
           {
            "colorbar": {
             "outlinewidth": 0,
             "ticks": ""
            },
            "colorscale": [
             [
              0,
              "#0d0887"
             ],
             [
              0.1111111111111111,
              "#46039f"
             ],
             [
              0.2222222222222222,
              "#7201a8"
             ],
             [
              0.3333333333333333,
              "#9c179e"
             ],
             [
              0.4444444444444444,
              "#bd3786"
             ],
             [
              0.5555555555555556,
              "#d8576b"
             ],
             [
              0.6666666666666666,
              "#ed7953"
             ],
             [
              0.7777777777777778,
              "#fb9f3a"
             ],
             [
              0.8888888888888888,
              "#fdca26"
             ],
             [
              1,
              "#f0f921"
             ]
            ],
            "type": "histogram2d"
           }
          ],
          "histogram2dcontour": [
           {
            "colorbar": {
             "outlinewidth": 0,
             "ticks": ""
            },
            "colorscale": [
             [
              0,
              "#0d0887"
             ],
             [
              0.1111111111111111,
              "#46039f"
             ],
             [
              0.2222222222222222,
              "#7201a8"
             ],
             [
              0.3333333333333333,
              "#9c179e"
             ],
             [
              0.4444444444444444,
              "#bd3786"
             ],
             [
              0.5555555555555556,
              "#d8576b"
             ],
             [
              0.6666666666666666,
              "#ed7953"
             ],
             [
              0.7777777777777778,
              "#fb9f3a"
             ],
             [
              0.8888888888888888,
              "#fdca26"
             ],
             [
              1,
              "#f0f921"
             ]
            ],
            "type": "histogram2dcontour"
           }
          ],
          "mesh3d": [
           {
            "colorbar": {
             "outlinewidth": 0,
             "ticks": ""
            },
            "type": "mesh3d"
           }
          ],
          "parcoords": [
           {
            "line": {
             "colorbar": {
              "outlinewidth": 0,
              "ticks": ""
             }
            },
            "type": "parcoords"
           }
          ],
          "pie": [
           {
            "automargin": true,
            "type": "pie"
           }
          ],
          "scatter": [
           {
            "fillpattern": {
             "fillmode": "overlay",
             "size": 10,
             "solidity": 0.2
            },
            "type": "scatter"
           }
          ],
          "scatter3d": [
           {
            "line": {
             "colorbar": {
              "outlinewidth": 0,
              "ticks": ""
             }
            },
            "marker": {
             "colorbar": {
              "outlinewidth": 0,
              "ticks": ""
             }
            },
            "type": "scatter3d"
           }
          ],
          "scattercarpet": [
           {
            "marker": {
             "colorbar": {
              "outlinewidth": 0,
              "ticks": ""
             }
            },
            "type": "scattercarpet"
           }
          ],
          "scattergeo": [
           {
            "marker": {
             "colorbar": {
              "outlinewidth": 0,
              "ticks": ""
             }
            },
            "type": "scattergeo"
           }
          ],
          "scattergl": [
           {
            "marker": {
             "colorbar": {
              "outlinewidth": 0,
              "ticks": ""
             }
            },
            "type": "scattergl"
           }
          ],
          "scattermapbox": [
           {
            "marker": {
             "colorbar": {
              "outlinewidth": 0,
              "ticks": ""
             }
            },
            "type": "scattermapbox"
           }
          ],
          "scatterpolar": [
           {
            "marker": {
             "colorbar": {
              "outlinewidth": 0,
              "ticks": ""
             }
            },
            "type": "scatterpolar"
           }
          ],
          "scatterpolargl": [
           {
            "marker": {
             "colorbar": {
              "outlinewidth": 0,
              "ticks": ""
             }
            },
            "type": "scatterpolargl"
           }
          ],
          "scatterternary": [
           {
            "marker": {
             "colorbar": {
              "outlinewidth": 0,
              "ticks": ""
             }
            },
            "type": "scatterternary"
           }
          ],
          "surface": [
           {
            "colorbar": {
             "outlinewidth": 0,
             "ticks": ""
            },
            "colorscale": [
             [
              0,
              "#0d0887"
             ],
             [
              0.1111111111111111,
              "#46039f"
             ],
             [
              0.2222222222222222,
              "#7201a8"
             ],
             [
              0.3333333333333333,
              "#9c179e"
             ],
             [
              0.4444444444444444,
              "#bd3786"
             ],
             [
              0.5555555555555556,
              "#d8576b"
             ],
             [
              0.6666666666666666,
              "#ed7953"
             ],
             [
              0.7777777777777778,
              "#fb9f3a"
             ],
             [
              0.8888888888888888,
              "#fdca26"
             ],
             [
              1,
              "#f0f921"
             ]
            ],
            "type": "surface"
           }
          ],
          "table": [
           {
            "cells": {
             "fill": {
              "color": "#EBF0F8"
             },
             "line": {
              "color": "white"
             }
            },
            "header": {
             "fill": {
              "color": "#C8D4E3"
             },
             "line": {
              "color": "white"
             }
            },
            "type": "table"
           }
          ]
         },
         "layout": {
          "annotationdefaults": {
           "arrowcolor": "#2a3f5f",
           "arrowhead": 0,
           "arrowwidth": 1
          },
          "autotypenumbers": "strict",
          "coloraxis": {
           "colorbar": {
            "outlinewidth": 0,
            "ticks": ""
           }
          },
          "colorscale": {
           "diverging": [
            [
             0,
             "#8e0152"
            ],
            [
             0.1,
             "#c51b7d"
            ],
            [
             0.2,
             "#de77ae"
            ],
            [
             0.3,
             "#f1b6da"
            ],
            [
             0.4,
             "#fde0ef"
            ],
            [
             0.5,
             "#f7f7f7"
            ],
            [
             0.6,
             "#e6f5d0"
            ],
            [
             0.7,
             "#b8e186"
            ],
            [
             0.8,
             "#7fbc41"
            ],
            [
             0.9,
             "#4d9221"
            ],
            [
             1,
             "#276419"
            ]
           ],
           "sequential": [
            [
             0,
             "#0d0887"
            ],
            [
             0.1111111111111111,
             "#46039f"
            ],
            [
             0.2222222222222222,
             "#7201a8"
            ],
            [
             0.3333333333333333,
             "#9c179e"
            ],
            [
             0.4444444444444444,
             "#bd3786"
            ],
            [
             0.5555555555555556,
             "#d8576b"
            ],
            [
             0.6666666666666666,
             "#ed7953"
            ],
            [
             0.7777777777777778,
             "#fb9f3a"
            ],
            [
             0.8888888888888888,
             "#fdca26"
            ],
            [
             1,
             "#f0f921"
            ]
           ],
           "sequentialminus": [
            [
             0,
             "#0d0887"
            ],
            [
             0.1111111111111111,
             "#46039f"
            ],
            [
             0.2222222222222222,
             "#7201a8"
            ],
            [
             0.3333333333333333,
             "#9c179e"
            ],
            [
             0.4444444444444444,
             "#bd3786"
            ],
            [
             0.5555555555555556,
             "#d8576b"
            ],
            [
             0.6666666666666666,
             "#ed7953"
            ],
            [
             0.7777777777777778,
             "#fb9f3a"
            ],
            [
             0.8888888888888888,
             "#fdca26"
            ],
            [
             1,
             "#f0f921"
            ]
           ]
          },
          "colorway": [
           "#636efa",
           "#EF553B",
           "#00cc96",
           "#ab63fa",
           "#FFA15A",
           "#19d3f3",
           "#FF6692",
           "#B6E880",
           "#FF97FF",
           "#FECB52"
          ],
          "font": {
           "color": "#2a3f5f"
          },
          "geo": {
           "bgcolor": "white",
           "lakecolor": "white",
           "landcolor": "#E5ECF6",
           "showlakes": true,
           "showland": true,
           "subunitcolor": "white"
          },
          "hoverlabel": {
           "align": "left"
          },
          "hovermode": "closest",
          "mapbox": {
           "style": "light"
          },
          "paper_bgcolor": "white",
          "plot_bgcolor": "#E5ECF6",
          "polar": {
           "angularaxis": {
            "gridcolor": "white",
            "linecolor": "white",
            "ticks": ""
           },
           "bgcolor": "#E5ECF6",
           "radialaxis": {
            "gridcolor": "white",
            "linecolor": "white",
            "ticks": ""
           }
          },
          "scene": {
           "xaxis": {
            "backgroundcolor": "#E5ECF6",
            "gridcolor": "white",
            "gridwidth": 2,
            "linecolor": "white",
            "showbackground": true,
            "ticks": "",
            "zerolinecolor": "white"
           },
           "yaxis": {
            "backgroundcolor": "#E5ECF6",
            "gridcolor": "white",
            "gridwidth": 2,
            "linecolor": "white",
            "showbackground": true,
            "ticks": "",
            "zerolinecolor": "white"
           },
           "zaxis": {
            "backgroundcolor": "#E5ECF6",
            "gridcolor": "white",
            "gridwidth": 2,
            "linecolor": "white",
            "showbackground": true,
            "ticks": "",
            "zerolinecolor": "white"
           }
          },
          "shapedefaults": {
           "line": {
            "color": "#2a3f5f"
           }
          },
          "ternary": {
           "aaxis": {
            "gridcolor": "white",
            "linecolor": "white",
            "ticks": ""
           },
           "baxis": {
            "gridcolor": "white",
            "linecolor": "white",
            "ticks": ""
           },
           "bgcolor": "#E5ECF6",
           "caxis": {
            "gridcolor": "white",
            "linecolor": "white",
            "ticks": ""
           }
          },
          "title": {
           "x": 0.05
          },
          "xaxis": {
           "automargin": true,
           "gridcolor": "white",
           "linecolor": "white",
           "ticks": "",
           "title": {
            "standoff": 15
           },
           "zerolinecolor": "white",
           "zerolinewidth": 2
          },
          "yaxis": {
           "automargin": true,
           "gridcolor": "white",
           "linecolor": "white",
           "ticks": "",
           "title": {
            "standoff": 15
           },
           "zerolinecolor": "white",
           "zerolinewidth": 2
          }
         }
        },
        "title": {
         "text": "Monthly Mean Outage Duration"
        },
        "xaxis": {
         "anchor": "y",
         "domain": [
          0,
          1
         ],
         "title": {
          "text": "Month"
         }
        },
        "yaxis": {
         "anchor": "x",
         "domain": [
          0,
          1
         ],
         "title": {
          "text": "Mean Outage Duration"
         }
        }
       }
      },
      "text/html": [
       "<div>                            <div id=\"7109a875-0fbf-4b49-87f7-67983b274eed\" class=\"plotly-graph-div\" style=\"height:525px; width:100%;\"></div>            <script type=\"text/javascript\">                require([\"plotly\"], function(Plotly) {                    window.PLOTLYENV=window.PLOTLYENV || {};                                    if (document.getElementById(\"7109a875-0fbf-4b49-87f7-67983b274eed\")) {                    Plotly.newPlot(                        \"7109a875-0fbf-4b49-87f7-67983b274eed\",                        [{\"hovertemplate\":\"Month=%{x}\\u003cbr\\u003eMean Outage Duration=%{y}\\u003cextra\\u003e\\u003c\\u002fextra\\u003e\",\"legendgroup\":\"\",\"line\":{\"color\":\"#636efa\",\"dash\":\"solid\"},\"marker\":{\"symbol\":\"circle\"},\"mode\":\"lines\",\"name\":\"\",\"orientation\":\"v\",\"showlegend\":false,\"x\":[1,2,3,4,5,6,7,8,9,10,11,12],\"xaxis\":\"x\",\"y\":[4327.44776119403,3096.133333333333,3351.896551724138,2596.931818181818,3894.723404255319,3061.09,3409.112244897959,3052.2926829268295,6585.482758620689,6204.770491803279,3115.8,4118.476190476191],\"yaxis\":\"y\",\"type\":\"scatter\"}],                        {\"template\":{\"data\":{\"histogram2dcontour\":[{\"type\":\"histogram2dcontour\",\"colorbar\":{\"outlinewidth\":0,\"ticks\":\"\"},\"colorscale\":[[0.0,\"#0d0887\"],[0.1111111111111111,\"#46039f\"],[0.2222222222222222,\"#7201a8\"],[0.3333333333333333,\"#9c179e\"],[0.4444444444444444,\"#bd3786\"],[0.5555555555555556,\"#d8576b\"],[0.6666666666666666,\"#ed7953\"],[0.7777777777777778,\"#fb9f3a\"],[0.8888888888888888,\"#fdca26\"],[1.0,\"#f0f921\"]]}],\"choropleth\":[{\"type\":\"choropleth\",\"colorbar\":{\"outlinewidth\":0,\"ticks\":\"\"}}],\"histogram2d\":[{\"type\":\"histogram2d\",\"colorbar\":{\"outlinewidth\":0,\"ticks\":\"\"},\"colorscale\":[[0.0,\"#0d0887\"],[0.1111111111111111,\"#46039f\"],[0.2222222222222222,\"#7201a8\"],[0.3333333333333333,\"#9c179e\"],[0.4444444444444444,\"#bd3786\"],[0.5555555555555556,\"#d8576b\"],[0.6666666666666666,\"#ed7953\"],[0.7777777777777778,\"#fb9f3a\"],[0.8888888888888888,\"#fdca26\"],[1.0,\"#f0f921\"]]}],\"heatmap\":[{\"type\":\"heatmap\",\"colorbar\":{\"outlinewidth\":0,\"ticks\":\"\"},\"colorscale\":[[0.0,\"#0d0887\"],[0.1111111111111111,\"#46039f\"],[0.2222222222222222,\"#7201a8\"],[0.3333333333333333,\"#9c179e\"],[0.4444444444444444,\"#bd3786\"],[0.5555555555555556,\"#d8576b\"],[0.6666666666666666,\"#ed7953\"],[0.7777777777777778,\"#fb9f3a\"],[0.8888888888888888,\"#fdca26\"],[1.0,\"#f0f921\"]]}],\"heatmapgl\":[{\"type\":\"heatmapgl\",\"colorbar\":{\"outlinewidth\":0,\"ticks\":\"\"},\"colorscale\":[[0.0,\"#0d0887\"],[0.1111111111111111,\"#46039f\"],[0.2222222222222222,\"#7201a8\"],[0.3333333333333333,\"#9c179e\"],[0.4444444444444444,\"#bd3786\"],[0.5555555555555556,\"#d8576b\"],[0.6666666666666666,\"#ed7953\"],[0.7777777777777778,\"#fb9f3a\"],[0.8888888888888888,\"#fdca26\"],[1.0,\"#f0f921\"]]}],\"contourcarpet\":[{\"type\":\"contourcarpet\",\"colorbar\":{\"outlinewidth\":0,\"ticks\":\"\"}}],\"contour\":[{\"type\":\"contour\",\"colorbar\":{\"outlinewidth\":0,\"ticks\":\"\"},\"colorscale\":[[0.0,\"#0d0887\"],[0.1111111111111111,\"#46039f\"],[0.2222222222222222,\"#7201a8\"],[0.3333333333333333,\"#9c179e\"],[0.4444444444444444,\"#bd3786\"],[0.5555555555555556,\"#d8576b\"],[0.6666666666666666,\"#ed7953\"],[0.7777777777777778,\"#fb9f3a\"],[0.8888888888888888,\"#fdca26\"],[1.0,\"#f0f921\"]]}],\"surface\":[{\"type\":\"surface\",\"colorbar\":{\"outlinewidth\":0,\"ticks\":\"\"},\"colorscale\":[[0.0,\"#0d0887\"],[0.1111111111111111,\"#46039f\"],[0.2222222222222222,\"#7201a8\"],[0.3333333333333333,\"#9c179e\"],[0.4444444444444444,\"#bd3786\"],[0.5555555555555556,\"#d8576b\"],[0.6666666666666666,\"#ed7953\"],[0.7777777777777778,\"#fb9f3a\"],[0.8888888888888888,\"#fdca26\"],[1.0,\"#f0f921\"]]}],\"mesh3d\":[{\"type\":\"mesh3d\",\"colorbar\":{\"outlinewidth\":0,\"ticks\":\"\"}}],\"scatter\":[{\"fillpattern\":{\"fillmode\":\"overlay\",\"size\":10,\"solidity\":0.2},\"type\":\"scatter\"}],\"parcoords\":[{\"type\":\"parcoords\",\"line\":{\"colorbar\":{\"outlinewidth\":0,\"ticks\":\"\"}}}],\"scatterpolargl\":[{\"type\":\"scatterpolargl\",\"marker\":{\"colorbar\":{\"outlinewidth\":0,\"ticks\":\"\"}}}],\"bar\":[{\"error_x\":{\"color\":\"#2a3f5f\"},\"error_y\":{\"color\":\"#2a3f5f\"},\"marker\":{\"line\":{\"color\":\"#E5ECF6\",\"width\":0.5},\"pattern\":{\"fillmode\":\"overlay\",\"size\":10,\"solidity\":0.2}},\"type\":\"bar\"}],\"scattergeo\":[{\"type\":\"scattergeo\",\"marker\":{\"colorbar\":{\"outlinewidth\":0,\"ticks\":\"\"}}}],\"scatterpolar\":[{\"type\":\"scatterpolar\",\"marker\":{\"colorbar\":{\"outlinewidth\":0,\"ticks\":\"\"}}}],\"histogram\":[{\"marker\":{\"pattern\":{\"fillmode\":\"overlay\",\"size\":10,\"solidity\":0.2}},\"type\":\"histogram\"}],\"scattergl\":[{\"type\":\"scattergl\",\"marker\":{\"colorbar\":{\"outlinewidth\":0,\"ticks\":\"\"}}}],\"scatter3d\":[{\"type\":\"scatter3d\",\"line\":{\"colorbar\":{\"outlinewidth\":0,\"ticks\":\"\"}},\"marker\":{\"colorbar\":{\"outlinewidth\":0,\"ticks\":\"\"}}}],\"scattermapbox\":[{\"type\":\"scattermapbox\",\"marker\":{\"colorbar\":{\"outlinewidth\":0,\"ticks\":\"\"}}}],\"scatterternary\":[{\"type\":\"scatterternary\",\"marker\":{\"colorbar\":{\"outlinewidth\":0,\"ticks\":\"\"}}}],\"scattercarpet\":[{\"type\":\"scattercarpet\",\"marker\":{\"colorbar\":{\"outlinewidth\":0,\"ticks\":\"\"}}}],\"carpet\":[{\"aaxis\":{\"endlinecolor\":\"#2a3f5f\",\"gridcolor\":\"white\",\"linecolor\":\"white\",\"minorgridcolor\":\"white\",\"startlinecolor\":\"#2a3f5f\"},\"baxis\":{\"endlinecolor\":\"#2a3f5f\",\"gridcolor\":\"white\",\"linecolor\":\"white\",\"minorgridcolor\":\"white\",\"startlinecolor\":\"#2a3f5f\"},\"type\":\"carpet\"}],\"table\":[{\"cells\":{\"fill\":{\"color\":\"#EBF0F8\"},\"line\":{\"color\":\"white\"}},\"header\":{\"fill\":{\"color\":\"#C8D4E3\"},\"line\":{\"color\":\"white\"}},\"type\":\"table\"}],\"barpolar\":[{\"marker\":{\"line\":{\"color\":\"#E5ECF6\",\"width\":0.5},\"pattern\":{\"fillmode\":\"overlay\",\"size\":10,\"solidity\":0.2}},\"type\":\"barpolar\"}],\"pie\":[{\"automargin\":true,\"type\":\"pie\"}]},\"layout\":{\"autotypenumbers\":\"strict\",\"colorway\":[\"#636efa\",\"#EF553B\",\"#00cc96\",\"#ab63fa\",\"#FFA15A\",\"#19d3f3\",\"#FF6692\",\"#B6E880\",\"#FF97FF\",\"#FECB52\"],\"font\":{\"color\":\"#2a3f5f\"},\"hovermode\":\"closest\",\"hoverlabel\":{\"align\":\"left\"},\"paper_bgcolor\":\"white\",\"plot_bgcolor\":\"#E5ECF6\",\"polar\":{\"bgcolor\":\"#E5ECF6\",\"angularaxis\":{\"gridcolor\":\"white\",\"linecolor\":\"white\",\"ticks\":\"\"},\"radialaxis\":{\"gridcolor\":\"white\",\"linecolor\":\"white\",\"ticks\":\"\"}},\"ternary\":{\"bgcolor\":\"#E5ECF6\",\"aaxis\":{\"gridcolor\":\"white\",\"linecolor\":\"white\",\"ticks\":\"\"},\"baxis\":{\"gridcolor\":\"white\",\"linecolor\":\"white\",\"ticks\":\"\"},\"caxis\":{\"gridcolor\":\"white\",\"linecolor\":\"white\",\"ticks\":\"\"}},\"coloraxis\":{\"colorbar\":{\"outlinewidth\":0,\"ticks\":\"\"}},\"colorscale\":{\"sequential\":[[0.0,\"#0d0887\"],[0.1111111111111111,\"#46039f\"],[0.2222222222222222,\"#7201a8\"],[0.3333333333333333,\"#9c179e\"],[0.4444444444444444,\"#bd3786\"],[0.5555555555555556,\"#d8576b\"],[0.6666666666666666,\"#ed7953\"],[0.7777777777777778,\"#fb9f3a\"],[0.8888888888888888,\"#fdca26\"],[1.0,\"#f0f921\"]],\"sequentialminus\":[[0.0,\"#0d0887\"],[0.1111111111111111,\"#46039f\"],[0.2222222222222222,\"#7201a8\"],[0.3333333333333333,\"#9c179e\"],[0.4444444444444444,\"#bd3786\"],[0.5555555555555556,\"#d8576b\"],[0.6666666666666666,\"#ed7953\"],[0.7777777777777778,\"#fb9f3a\"],[0.8888888888888888,\"#fdca26\"],[1.0,\"#f0f921\"]],\"diverging\":[[0,\"#8e0152\"],[0.1,\"#c51b7d\"],[0.2,\"#de77ae\"],[0.3,\"#f1b6da\"],[0.4,\"#fde0ef\"],[0.5,\"#f7f7f7\"],[0.6,\"#e6f5d0\"],[0.7,\"#b8e186\"],[0.8,\"#7fbc41\"],[0.9,\"#4d9221\"],[1,\"#276419\"]]},\"xaxis\":{\"gridcolor\":\"white\",\"linecolor\":\"white\",\"ticks\":\"\",\"title\":{\"standoff\":15},\"zerolinecolor\":\"white\",\"automargin\":true,\"zerolinewidth\":2},\"yaxis\":{\"gridcolor\":\"white\",\"linecolor\":\"white\",\"ticks\":\"\",\"title\":{\"standoff\":15},\"zerolinecolor\":\"white\",\"automargin\":true,\"zerolinewidth\":2},\"scene\":{\"xaxis\":{\"backgroundcolor\":\"#E5ECF6\",\"gridcolor\":\"white\",\"linecolor\":\"white\",\"showbackground\":true,\"ticks\":\"\",\"zerolinecolor\":\"white\",\"gridwidth\":2},\"yaxis\":{\"backgroundcolor\":\"#E5ECF6\",\"gridcolor\":\"white\",\"linecolor\":\"white\",\"showbackground\":true,\"ticks\":\"\",\"zerolinecolor\":\"white\",\"gridwidth\":2},\"zaxis\":{\"backgroundcolor\":\"#E5ECF6\",\"gridcolor\":\"white\",\"linecolor\":\"white\",\"showbackground\":true,\"ticks\":\"\",\"zerolinecolor\":\"white\",\"gridwidth\":2}},\"shapedefaults\":{\"line\":{\"color\":\"#2a3f5f\"}},\"annotationdefaults\":{\"arrowcolor\":\"#2a3f5f\",\"arrowhead\":0,\"arrowwidth\":1},\"geo\":{\"bgcolor\":\"white\",\"landcolor\":\"#E5ECF6\",\"subunitcolor\":\"white\",\"showland\":true,\"showlakes\":true,\"lakecolor\":\"white\"},\"title\":{\"x\":0.05},\"mapbox\":{\"style\":\"light\"}}},\"xaxis\":{\"anchor\":\"y\",\"domain\":[0.0,1.0],\"title\":{\"text\":\"Month\"}},\"yaxis\":{\"anchor\":\"x\",\"domain\":[0.0,1.0],\"title\":{\"text\":\"Mean Outage Duration\"}},\"legend\":{\"tracegroupgap\":0},\"title\":{\"text\":\"Monthly Mean Outage Duration\"}},                        {\"responsive\": true}                    ).then(function(){\n",
       "                            \n",
       "var gd = document.getElementById('7109a875-0fbf-4b49-87f7-67983b274eed');\n",
       "var x = new MutationObserver(function (mutations, observer) {{\n",
       "        var display = window.getComputedStyle(gd).display;\n",
       "        if (!display || display === 'none') {{\n",
       "            console.log([gd, 'removed!']);\n",
       "            Plotly.purge(gd);\n",
       "            observer.disconnect();\n",
       "        }}\n",
       "}});\n",
       "\n",
       "// Listen for the removal of the full notebook cells\n",
       "var notebookContainer = gd.closest('#notebook-container');\n",
       "if (notebookContainer) {{\n",
       "    x.observe(notebookContainer, {childList: true});\n",
       "}}\n",
       "\n",
       "// Listen for the clearing of the current output cell\n",
       "var outputEl = gd.closest('.output');\n",
       "if (outputEl) {{\n",
       "    x.observe(outputEl, {childList: true});\n",
       "}}\n",
       "\n",
       "                        })                };                });            </script>        </div>"
      ]
     },
     "metadata": {},
     "output_type": "display_data"
    }
   ],
   "source": [
    "# create a scatter plot where the x values are months in sorted order and the \n",
    "# x values are the mean outage durations for each month\n",
    "\n",
    "fig5 = px.line(x=severe_weather.groupby(\"MONTH\").mean().index, \n",
    "               y=severe_weather.groupby(\"MONTH\").mean()[\"OUTAGE.DURATION\"], \n",
    "               labels={'x': 'Month', 'y':'Mean Outage Duration'},\n",
    "              title=\"Monthly Mean Outage Duration\")\n",
    "fig5.show()"
   ]
  },
  {
   "cell_type": "markdown",
   "metadata": {},
   "source": [
    "Surprisingly enough, the longest mean outage duration times appear to be in the fall months. This may be due to heavier storms, as summer seasons may have less severe weather conditions. Or perhaps, as we see in the first bivariate graph, the mean outage duration may be higher in these months because there were more reportings during these months in earlier years."
   ]
  },
  {
   "cell_type": "code",
   "execution_count": 27,
   "metadata": {},
   "outputs": [
    {
     "data": {
      "application/vnd.plotly.v1+json": {
       "config": {
        "plotlyServerURL": "https://plot.ly"
       },
       "data": [
        {
         "hovertemplate": "Month=%{x}<br>Year=%{y}<extra></extra>",
         "legendgroup": "",
         "marker": {
          "color": "#636efa",
          "symbol": "circle"
         },
         "mode": "markers",
         "name": "",
         "orientation": "v",
         "showlegend": false,
         "type": "scatter",
         "x": [
          7,
          10,
          6,
          7,
          11,
          7,
          6,
          6,
          6,
          9,
          6,
          4,
          2,
          1,
          7,
          1,
          6,
          4,
          6,
          4,
          2,
          6,
          4,
          1,
          1,
          4,
          6,
          3,
          1,
          1,
          1,
          11,
          8,
          7,
          9,
          10,
          6,
          8,
          6,
          10,
          6,
          5,
          9,
          11,
          2,
          7,
          4,
          6,
          4,
          3,
          4,
          12,
          11,
          7,
          10,
          6,
          6,
          6,
          11,
          11,
          7,
          2,
          12,
          10,
          4,
          5,
          8,
          7,
          12,
          7,
          12,
          6,
          11,
          10,
          1,
          10,
          12,
          9,
          2,
          5,
          8,
          8,
          6,
          3,
          7,
          4,
          12,
          1,
          7,
          12,
          6,
          4,
          5,
          6,
          9,
          6,
          7,
          5,
          12,
          5,
          11,
          7,
          6,
          4,
          7,
          10,
          8,
          8,
          6,
          6,
          11,
          7,
          3,
          8,
          7,
          12,
          7,
          7,
          1,
          9,
          6,
          7,
          9,
          8,
          2,
          7,
          1,
          11,
          4,
          5,
          6,
          6,
          9,
          7,
          5,
          3,
          4,
          8,
          9,
          3,
          9,
          10,
          2,
          12,
          8,
          8,
          2,
          7,
          7,
          11,
          7,
          4,
          8,
          8,
          6,
          2,
          9,
          6,
          12,
          4,
          4,
          9,
          9,
          3,
          4,
          6,
          4,
          7,
          4,
          3,
          10,
          5,
          5,
          9,
          5,
          6,
          9,
          6,
          4,
          8,
          12,
          4,
          5,
          6,
          9,
          5,
          8,
          1,
          5,
          6,
          7,
          11,
          12,
          11,
          7,
          11,
          5,
          7,
          1,
          8,
          6,
          4,
          6,
          5,
          5,
          7,
          5,
          8,
          6,
          1,
          6,
          7,
          1,
          6,
          null,
          12,
          8,
          7,
          6,
          5,
          8,
          6,
          10,
          7,
          11,
          10,
          6,
          6,
          6,
          6,
          8,
          7,
          7,
          null,
          7,
          5,
          6,
          6,
          7,
          8,
          4,
          8,
          8,
          7,
          3,
          12,
          7,
          8,
          11,
          8,
          6,
          8,
          10,
          7,
          6,
          7,
          2,
          7,
          6,
          5,
          12,
          8,
          1,
          11,
          1,
          12,
          1,
          11,
          2,
          3,
          8,
          10,
          11,
          11,
          11,
          12,
          12,
          12,
          2,
          12,
          11,
          12,
          4,
          8,
          7,
          12,
          6,
          7,
          6,
          1,
          2,
          6,
          12,
          2,
          7,
          1,
          8,
          11,
          2,
          1,
          7,
          7,
          9,
          1,
          6,
          6,
          10,
          2,
          11,
          8,
          9,
          6,
          6,
          4,
          8,
          2,
          7,
          8,
          6,
          7,
          7,
          10,
          4,
          2,
          10,
          6,
          10,
          9,
          6,
          9,
          7,
          6,
          8,
          1,
          9,
          12,
          7,
          10,
          7,
          6,
          1,
          2,
          10,
          9,
          2,
          9,
          3,
          8,
          2,
          9,
          2,
          7,
          8,
          7,
          2,
          1,
          5,
          2,
          3,
          1,
          12,
          8,
          7,
          12,
          10,
          10,
          6,
          2,
          1,
          2,
          8,
          9,
          2,
          1,
          1,
          9,
          1,
          7,
          12,
          5,
          5,
          8,
          5,
          9,
          1,
          7,
          6,
          8,
          7,
          2,
          1,
          7,
          4,
          7,
          4,
          7,
          6,
          9,
          12,
          2,
          9,
          6,
          12,
          4,
          10,
          5,
          9,
          6,
          4,
          6,
          7,
          2,
          12,
          2,
          7,
          7,
          2,
          8,
          1,
          2,
          5,
          9,
          3,
          6,
          9,
          9,
          8,
          3,
          6,
          12,
          1,
          8,
          null,
          9,
          9,
          3,
          9,
          8,
          10,
          5,
          7,
          6,
          6,
          8,
          6,
          1,
          2,
          6,
          10,
          6,
          6,
          10,
          3,
          7,
          8,
          2,
          10,
          10,
          3,
          8,
          6,
          1,
          2,
          1,
          1,
          1,
          1,
          3,
          3,
          12,
          12,
          12,
          2,
          8,
          8,
          9,
          1,
          1,
          6,
          6,
          8,
          5,
          1,
          1,
          8,
          12,
          5,
          5,
          4,
          5,
          2,
          1,
          6,
          1,
          2,
          2,
          6,
          4,
          10,
          10,
          8,
          8,
          10,
          12,
          7,
          12,
          5,
          7,
          3,
          12,
          1,
          6,
          7,
          10,
          6,
          8,
          3,
          2,
          2,
          2,
          11,
          8,
          6,
          8,
          10,
          8,
          10,
          10,
          10,
          7,
          6,
          8,
          10,
          7,
          5,
          8,
          9,
          9,
          9,
          9,
          8,
          8,
          10,
          9,
          8,
          4,
          8,
          8,
          9,
          8,
          3,
          10,
          8,
          4,
          8,
          9,
          9,
          8,
          9,
          8,
          10,
          9,
          9,
          9,
          9,
          10,
          9,
          8,
          8,
          8,
          9,
          3,
          9,
          5,
          7,
          8,
          6,
          7,
          3,
          11,
          1,
          12,
          10,
          6,
          1,
          6,
          10,
          5,
          1,
          1,
          11,
          2,
          12,
          7,
          2,
          2,
          2,
          8,
          11,
          1,
          12,
          1,
          12,
          1,
          12,
          5,
          10,
          7,
          12,
          11,
          10,
          7,
          2,
          12,
          7,
          12,
          10,
          10,
          7,
          3,
          3,
          5,
          10,
          7,
          12,
          10,
          10,
          1,
          5,
          4,
          2,
          12,
          5,
          10,
          12,
          9,
          11,
          4,
          11,
          7,
          7,
          2,
          1,
          1,
          9,
          4,
          5,
          4,
          7,
          12,
          8,
          4,
          6,
          7,
          8,
          12,
          7,
          7,
          11,
          12,
          1,
          1,
          10,
          6,
          5,
          7,
          7,
          7,
          6,
          9,
          8,
          3,
          6,
          2,
          3,
          12,
          7,
          7,
          8,
          7,
          2,
          2,
          6,
          6,
          6,
          6,
          12,
          10,
          2,
          1,
          1,
          9,
          5,
          6,
          12,
          2,
          11,
          5,
          11,
          2,
          6,
          2,
          9,
          6,
          8,
          6,
          5,
          1,
          5,
          7,
          3,
          11,
          7,
          10,
          12,
          1,
          5,
          1,
          2,
          12,
          12,
          7,
          11,
          8,
          5,
          5,
          7,
          6,
          11,
          12,
          5,
          1,
          8,
          2,
          10,
          10,
          8,
          12,
          4,
          2,
          1,
          12,
          2,
          11,
          12,
          7,
          10,
          4,
          10,
          4,
          10,
          7,
          3,
          10,
          null,
          4,
          12,
          6,
          1,
          12,
          5,
          10,
          10
         ],
         "xaxis": "x",
         "y": [
          2011,
          2010,
          2012,
          2015,
          2010,
          2010,
          2005,
          2013,
          2013,
          2005,
          2014,
          2011,
          2008,
          2015,
          2012,
          2014,
          2011,
          2011,
          2014,
          2011,
          2015,
          2014,
          2011,
          2014,
          2013,
          2011,
          2009,
          2014,
          2014,
          2014,
          2009,
          2005,
          2013,
          2003,
          2005,
          2010,
          2014,
          2013,
          2014,
          2012,
          2012,
          2011,
          2005,
          2003,
          2016,
          2007,
          2003,
          2010,
          2014,
          2012,
          2009,
          2007,
          2015,
          2007,
          2009,
          2005,
          2009,
          2005,
          2013,
          2005,
          2003,
          2011,
          2013,
          2012,
          2009,
          2004,
          2015,
          2016,
          2008,
          2012,
          2008,
          2015,
          2013,
          2010,
          2008,
          2004,
          2009,
          2015,
          2006,
          2003,
          2009,
          2010,
          2008,
          2012,
          2011,
          2014,
          2010,
          2013,
          2008,
          2008,
          2008,
          2012,
          2004,
          2014,
          2013,
          2008,
          2010,
          2004,
          2013,
          2007,
          2003,
          2013,
          2005,
          2013,
          2011,
          2004,
          2007,
          2015,
          2010,
          2009,
          2005,
          2006,
          2002,
          2009,
          2010,
          2015,
          2011,
          2011,
          2007,
          2010,
          2013,
          2008,
          2011,
          2011,
          2011,
          2016,
          2014,
          2004,
          2015,
          2015,
          2010,
          2010,
          2007,
          2003,
          2000,
          2012,
          2015,
          2011,
          2005,
          2007,
          2008,
          2015,
          2011,
          2012,
          2008,
          2009,
          2009,
          2008,
          2016,
          2006,
          2012,
          2016,
          2009,
          2013,
          2011,
          2010,
          2005,
          2012,
          2013,
          2004,
          2008,
          2008,
          2010,
          2014,
          2009,
          2008,
          2015,
          2009,
          2012,
          2004,
          2013,
          2015,
          2005,
          2008,
          2015,
          2001,
          2008,
          2004,
          2006,
          2010,
          2015,
          2016,
          2007,
          2009,
          2011,
          2004,
          2015,
          2009,
          2005,
          2014,
          2004,
          2013,
          2008,
          2013,
          2011,
          2013,
          2014,
          2012,
          2005,
          2012,
          2010,
          2006,
          2013,
          2011,
          2008,
          2012,
          2011,
          2008,
          2010,
          2009,
          2008,
          2008,
          2009,
          2014,
          2000,
          2000,
          2000,
          2015,
          2010,
          2000,
          2007,
          2012,
          2010,
          2012,
          2013,
          2006,
          2010,
          2011,
          2014,
          2009,
          2004,
          2011,
          2012,
          2000,
          2012,
          2008,
          2013,
          2011,
          2003,
          2013,
          2011,
          2008,
          2011,
          2004,
          2006,
          2007,
          2007,
          2015,
          2003,
          2000,
          2008,
          2012,
          2010,
          2003,
          2011,
          2006,
          2011,
          2011,
          2008,
          2009,
          2010,
          2015,
          2004,
          2006,
          2012,
          2015,
          2007,
          2013,
          2006,
          2016,
          2015,
          2007,
          2015,
          2010,
          2015,
          2006,
          2003,
          2006,
          2006,
          2006,
          2006,
          2006,
          2004,
          2015,
          2004,
          2009,
          2000,
          2004,
          2012,
          2004,
          2006,
          2008,
          2004,
          2006,
          2005,
          2014,
          2011,
          2003,
          2011,
          2014,
          2005,
          2010,
          2003,
          2011,
          2006,
          2012,
          2012,
          2014,
          2003,
          2003,
          2012,
          2008,
          2009,
          2007,
          2003,
          2007,
          2010,
          2011,
          2012,
          2005,
          2006,
          2011,
          2010,
          2010,
          2011,
          2008,
          2012,
          2006,
          2006,
          2010,
          2012,
          2005,
          2011,
          2006,
          2010,
          2004,
          2003,
          2011,
          2005,
          2015,
          2014,
          2011,
          2012,
          2008,
          2011,
          2008,
          2010,
          2011,
          2014,
          2008,
          2009,
          2012,
          2007,
          2006,
          2014,
          2014,
          2011,
          2014,
          2008,
          2014,
          2002,
          2011,
          2012,
          2002,
          2011,
          2012,
          2010,
          2010,
          2014,
          2009,
          2011,
          2008,
          2008,
          2009,
          2009,
          2008,
          2009,
          2007,
          2011,
          2004,
          2004,
          2006,
          2012,
          2008,
          2008,
          2003,
          2012,
          2011,
          2012,
          2009,
          2005,
          2013,
          2005,
          2012,
          2005,
          2008,
          2010,
          2008,
          2006,
          2009,
          2008,
          2011,
          2009,
          2011,
          2012,
          2000,
          2005,
          2006,
          2011,
          2011,
          2012,
          2014,
          2012,
          2015,
          2012,
          2016,
          2008,
          2000,
          2014,
          2003,
          2011,
          2006,
          2005,
          2013,
          2003,
          2004,
          2011,
          2014,
          2013,
          2009,
          2014,
          2011,
          2000,
          2008,
          2003,
          2014,
          2006,
          2011,
          2011,
          2008,
          2012,
          2015,
          2008,
          2011,
          2015,
          2016,
          2006,
          2008,
          2012,
          2010,
          2012,
          2012,
          2010,
          2011,
          2011,
          2010,
          2012,
          2011,
          2010,
          2004,
          2011,
          2014,
          2014,
          2000,
          2004,
          2000,
          2014,
          2011,
          2015,
          2006,
          2006,
          2006,
          2010,
          2011,
          2010,
          2003,
          2011,
          2014,
          2013,
          2012,
          2010,
          2009,
          2009,
          2009,
          2007,
          2008,
          2011,
          2011,
          2011,
          2013,
          2013,
          2002,
          2015,
          2014,
          2007,
          2007,
          2008,
          2003,
          2012,
          2012,
          2011,
          2011,
          2011,
          2013,
          2007,
          2008,
          2013,
          2013,
          2010,
          2008,
          2008,
          2008,
          2013,
          2011,
          2007,
          2011,
          2010,
          2010,
          2006,
          2010,
          2003,
          2011,
          2005,
          2011,
          2006,
          2011,
          2006,
          2012,
          2011,
          2006,
          2004,
          2005,
          2004,
          2005,
          2016,
          2005,
          2008,
          2008,
          2008,
          2005,
          2012,
          2012,
          2002,
          2005,
          2012,
          2011,
          2012,
          2005,
          2005,
          2008,
          2011,
          2005,
          2004,
          2004,
          2005,
          2004,
          2005,
          2008,
          2004,
          2004,
          2005,
          2004,
          2004,
          2004,
          2004,
          2005,
          2004,
          2004,
          2005,
          2004,
          2004,
          2011,
          2007,
          2006,
          2006,
          2013,
          2013,
          2008,
          2011,
          2011,
          2008,
          2006,
          2004,
          2008,
          2010,
          2015,
          2009,
          2006,
          2005,
          2010,
          2013,
          2006,
          2011,
          2006,
          2011,
          2011,
          2004,
          2007,
          2002,
          2008,
          2003,
          2010,
          2004,
          2010,
          2003,
          2014,
          2003,
          2015,
          2015,
          2005,
          2009,
          2010,
          2015,
          2005,
          2006,
          2002,
          2015,
          2010,
          2008,
          2011,
          2011,
          2004,
          2007,
          2010,
          2011,
          2007,
          2007,
          2004,
          2014,
          2007,
          2004,
          2002,
          2014,
          2007,
          2015,
          2007,
          2008,
          2005,
          2010,
          2004,
          2008,
          2007,
          2009,
          2009,
          2012,
          2011,
          2013,
          2011,
          2015,
          2002,
          2005,
          2014,
          2008,
          2011,
          2011,
          2013,
          2004,
          2015,
          2003,
          2011,
          2013,
          2011,
          2012,
          2011,
          2011,
          2007,
          2010,
          2010,
          2012,
          2012,
          2010,
          2009,
          2008,
          2008,
          2013,
          2002,
          2006,
          2003,
          2007,
          2006,
          2011,
          2006,
          2013,
          2012,
          2008,
          2004,
          2006,
          2009,
          2004,
          2005,
          2004,
          2004,
          2011,
          2011,
          2005,
          2015,
          2006,
          2008,
          2004,
          2014,
          2009,
          2014,
          2004,
          2011,
          2011,
          2009,
          2008,
          2013,
          2007,
          2010,
          2010,
          2002,
          2006,
          2008,
          2015,
          2002,
          2012,
          2010,
          2010,
          2007,
          2015,
          2016,
          2015,
          2011,
          2013,
          2013,
          2013,
          2004,
          2015,
          2015,
          2011,
          2011,
          2011,
          2013,
          2012,
          2012,
          2004,
          2003,
          2007,
          2009,
          2006,
          2008,
          2008,
          2010,
          2013,
          2008,
          2012,
          2007,
          2012,
          2007,
          2011,
          2009,
          2016,
          2006,
          2002,
          2015,
          2007,
          2015,
          2005,
          2008,
          2011,
          2006,
          2006
         ],
         "yaxis": "y"
        }
       ],
       "layout": {
        "legend": {
         "tracegroupgap": 0
        },
        "margin": {
         "t": 60
        },
        "template": {
         "data": {
          "bar": [
           {
            "error_x": {
             "color": "#2a3f5f"
            },
            "error_y": {
             "color": "#2a3f5f"
            },
            "marker": {
             "line": {
              "color": "#E5ECF6",
              "width": 0.5
             },
             "pattern": {
              "fillmode": "overlay",
              "size": 10,
              "solidity": 0.2
             }
            },
            "type": "bar"
           }
          ],
          "barpolar": [
           {
            "marker": {
             "line": {
              "color": "#E5ECF6",
              "width": 0.5
             },
             "pattern": {
              "fillmode": "overlay",
              "size": 10,
              "solidity": 0.2
             }
            },
            "type": "barpolar"
           }
          ],
          "carpet": [
           {
            "aaxis": {
             "endlinecolor": "#2a3f5f",
             "gridcolor": "white",
             "linecolor": "white",
             "minorgridcolor": "white",
             "startlinecolor": "#2a3f5f"
            },
            "baxis": {
             "endlinecolor": "#2a3f5f",
             "gridcolor": "white",
             "linecolor": "white",
             "minorgridcolor": "white",
             "startlinecolor": "#2a3f5f"
            },
            "type": "carpet"
           }
          ],
          "choropleth": [
           {
            "colorbar": {
             "outlinewidth": 0,
             "ticks": ""
            },
            "type": "choropleth"
           }
          ],
          "contour": [
           {
            "colorbar": {
             "outlinewidth": 0,
             "ticks": ""
            },
            "colorscale": [
             [
              0,
              "#0d0887"
             ],
             [
              0.1111111111111111,
              "#46039f"
             ],
             [
              0.2222222222222222,
              "#7201a8"
             ],
             [
              0.3333333333333333,
              "#9c179e"
             ],
             [
              0.4444444444444444,
              "#bd3786"
             ],
             [
              0.5555555555555556,
              "#d8576b"
             ],
             [
              0.6666666666666666,
              "#ed7953"
             ],
             [
              0.7777777777777778,
              "#fb9f3a"
             ],
             [
              0.8888888888888888,
              "#fdca26"
             ],
             [
              1,
              "#f0f921"
             ]
            ],
            "type": "contour"
           }
          ],
          "contourcarpet": [
           {
            "colorbar": {
             "outlinewidth": 0,
             "ticks": ""
            },
            "type": "contourcarpet"
           }
          ],
          "heatmap": [
           {
            "colorbar": {
             "outlinewidth": 0,
             "ticks": ""
            },
            "colorscale": [
             [
              0,
              "#0d0887"
             ],
             [
              0.1111111111111111,
              "#46039f"
             ],
             [
              0.2222222222222222,
              "#7201a8"
             ],
             [
              0.3333333333333333,
              "#9c179e"
             ],
             [
              0.4444444444444444,
              "#bd3786"
             ],
             [
              0.5555555555555556,
              "#d8576b"
             ],
             [
              0.6666666666666666,
              "#ed7953"
             ],
             [
              0.7777777777777778,
              "#fb9f3a"
             ],
             [
              0.8888888888888888,
              "#fdca26"
             ],
             [
              1,
              "#f0f921"
             ]
            ],
            "type": "heatmap"
           }
          ],
          "heatmapgl": [
           {
            "colorbar": {
             "outlinewidth": 0,
             "ticks": ""
            },
            "colorscale": [
             [
              0,
              "#0d0887"
             ],
             [
              0.1111111111111111,
              "#46039f"
             ],
             [
              0.2222222222222222,
              "#7201a8"
             ],
             [
              0.3333333333333333,
              "#9c179e"
             ],
             [
              0.4444444444444444,
              "#bd3786"
             ],
             [
              0.5555555555555556,
              "#d8576b"
             ],
             [
              0.6666666666666666,
              "#ed7953"
             ],
             [
              0.7777777777777778,
              "#fb9f3a"
             ],
             [
              0.8888888888888888,
              "#fdca26"
             ],
             [
              1,
              "#f0f921"
             ]
            ],
            "type": "heatmapgl"
           }
          ],
          "histogram": [
           {
            "marker": {
             "pattern": {
              "fillmode": "overlay",
              "size": 10,
              "solidity": 0.2
             }
            },
            "type": "histogram"
           }
          ],
          "histogram2d": [
           {
            "colorbar": {
             "outlinewidth": 0,
             "ticks": ""
            },
            "colorscale": [
             [
              0,
              "#0d0887"
             ],
             [
              0.1111111111111111,
              "#46039f"
             ],
             [
              0.2222222222222222,
              "#7201a8"
             ],
             [
              0.3333333333333333,
              "#9c179e"
             ],
             [
              0.4444444444444444,
              "#bd3786"
             ],
             [
              0.5555555555555556,
              "#d8576b"
             ],
             [
              0.6666666666666666,
              "#ed7953"
             ],
             [
              0.7777777777777778,
              "#fb9f3a"
             ],
             [
              0.8888888888888888,
              "#fdca26"
             ],
             [
              1,
              "#f0f921"
             ]
            ],
            "type": "histogram2d"
           }
          ],
          "histogram2dcontour": [
           {
            "colorbar": {
             "outlinewidth": 0,
             "ticks": ""
            },
            "colorscale": [
             [
              0,
              "#0d0887"
             ],
             [
              0.1111111111111111,
              "#46039f"
             ],
             [
              0.2222222222222222,
              "#7201a8"
             ],
             [
              0.3333333333333333,
              "#9c179e"
             ],
             [
              0.4444444444444444,
              "#bd3786"
             ],
             [
              0.5555555555555556,
              "#d8576b"
             ],
             [
              0.6666666666666666,
              "#ed7953"
             ],
             [
              0.7777777777777778,
              "#fb9f3a"
             ],
             [
              0.8888888888888888,
              "#fdca26"
             ],
             [
              1,
              "#f0f921"
             ]
            ],
            "type": "histogram2dcontour"
           }
          ],
          "mesh3d": [
           {
            "colorbar": {
             "outlinewidth": 0,
             "ticks": ""
            },
            "type": "mesh3d"
           }
          ],
          "parcoords": [
           {
            "line": {
             "colorbar": {
              "outlinewidth": 0,
              "ticks": ""
             }
            },
            "type": "parcoords"
           }
          ],
          "pie": [
           {
            "automargin": true,
            "type": "pie"
           }
          ],
          "scatter": [
           {
            "fillpattern": {
             "fillmode": "overlay",
             "size": 10,
             "solidity": 0.2
            },
            "type": "scatter"
           }
          ],
          "scatter3d": [
           {
            "line": {
             "colorbar": {
              "outlinewidth": 0,
              "ticks": ""
             }
            },
            "marker": {
             "colorbar": {
              "outlinewidth": 0,
              "ticks": ""
             }
            },
            "type": "scatter3d"
           }
          ],
          "scattercarpet": [
           {
            "marker": {
             "colorbar": {
              "outlinewidth": 0,
              "ticks": ""
             }
            },
            "type": "scattercarpet"
           }
          ],
          "scattergeo": [
           {
            "marker": {
             "colorbar": {
              "outlinewidth": 0,
              "ticks": ""
             }
            },
            "type": "scattergeo"
           }
          ],
          "scattergl": [
           {
            "marker": {
             "colorbar": {
              "outlinewidth": 0,
              "ticks": ""
             }
            },
            "type": "scattergl"
           }
          ],
          "scattermapbox": [
           {
            "marker": {
             "colorbar": {
              "outlinewidth": 0,
              "ticks": ""
             }
            },
            "type": "scattermapbox"
           }
          ],
          "scatterpolar": [
           {
            "marker": {
             "colorbar": {
              "outlinewidth": 0,
              "ticks": ""
             }
            },
            "type": "scatterpolar"
           }
          ],
          "scatterpolargl": [
           {
            "marker": {
             "colorbar": {
              "outlinewidth": 0,
              "ticks": ""
             }
            },
            "type": "scatterpolargl"
           }
          ],
          "scatterternary": [
           {
            "marker": {
             "colorbar": {
              "outlinewidth": 0,
              "ticks": ""
             }
            },
            "type": "scatterternary"
           }
          ],
          "surface": [
           {
            "colorbar": {
             "outlinewidth": 0,
             "ticks": ""
            },
            "colorscale": [
             [
              0,
              "#0d0887"
             ],
             [
              0.1111111111111111,
              "#46039f"
             ],
             [
              0.2222222222222222,
              "#7201a8"
             ],
             [
              0.3333333333333333,
              "#9c179e"
             ],
             [
              0.4444444444444444,
              "#bd3786"
             ],
             [
              0.5555555555555556,
              "#d8576b"
             ],
             [
              0.6666666666666666,
              "#ed7953"
             ],
             [
              0.7777777777777778,
              "#fb9f3a"
             ],
             [
              0.8888888888888888,
              "#fdca26"
             ],
             [
              1,
              "#f0f921"
             ]
            ],
            "type": "surface"
           }
          ],
          "table": [
           {
            "cells": {
             "fill": {
              "color": "#EBF0F8"
             },
             "line": {
              "color": "white"
             }
            },
            "header": {
             "fill": {
              "color": "#C8D4E3"
             },
             "line": {
              "color": "white"
             }
            },
            "type": "table"
           }
          ]
         },
         "layout": {
          "annotationdefaults": {
           "arrowcolor": "#2a3f5f",
           "arrowhead": 0,
           "arrowwidth": 1
          },
          "autotypenumbers": "strict",
          "coloraxis": {
           "colorbar": {
            "outlinewidth": 0,
            "ticks": ""
           }
          },
          "colorscale": {
           "diverging": [
            [
             0,
             "#8e0152"
            ],
            [
             0.1,
             "#c51b7d"
            ],
            [
             0.2,
             "#de77ae"
            ],
            [
             0.3,
             "#f1b6da"
            ],
            [
             0.4,
             "#fde0ef"
            ],
            [
             0.5,
             "#f7f7f7"
            ],
            [
             0.6,
             "#e6f5d0"
            ],
            [
             0.7,
             "#b8e186"
            ],
            [
             0.8,
             "#7fbc41"
            ],
            [
             0.9,
             "#4d9221"
            ],
            [
             1,
             "#276419"
            ]
           ],
           "sequential": [
            [
             0,
             "#0d0887"
            ],
            [
             0.1111111111111111,
             "#46039f"
            ],
            [
             0.2222222222222222,
             "#7201a8"
            ],
            [
             0.3333333333333333,
             "#9c179e"
            ],
            [
             0.4444444444444444,
             "#bd3786"
            ],
            [
             0.5555555555555556,
             "#d8576b"
            ],
            [
             0.6666666666666666,
             "#ed7953"
            ],
            [
             0.7777777777777778,
             "#fb9f3a"
            ],
            [
             0.8888888888888888,
             "#fdca26"
            ],
            [
             1,
             "#f0f921"
            ]
           ],
           "sequentialminus": [
            [
             0,
             "#0d0887"
            ],
            [
             0.1111111111111111,
             "#46039f"
            ],
            [
             0.2222222222222222,
             "#7201a8"
            ],
            [
             0.3333333333333333,
             "#9c179e"
            ],
            [
             0.4444444444444444,
             "#bd3786"
            ],
            [
             0.5555555555555556,
             "#d8576b"
            ],
            [
             0.6666666666666666,
             "#ed7953"
            ],
            [
             0.7777777777777778,
             "#fb9f3a"
            ],
            [
             0.8888888888888888,
             "#fdca26"
            ],
            [
             1,
             "#f0f921"
            ]
           ]
          },
          "colorway": [
           "#636efa",
           "#EF553B",
           "#00cc96",
           "#ab63fa",
           "#FFA15A",
           "#19d3f3",
           "#FF6692",
           "#B6E880",
           "#FF97FF",
           "#FECB52"
          ],
          "font": {
           "color": "#2a3f5f"
          },
          "geo": {
           "bgcolor": "white",
           "lakecolor": "white",
           "landcolor": "#E5ECF6",
           "showlakes": true,
           "showland": true,
           "subunitcolor": "white"
          },
          "hoverlabel": {
           "align": "left"
          },
          "hovermode": "closest",
          "mapbox": {
           "style": "light"
          },
          "paper_bgcolor": "white",
          "plot_bgcolor": "#E5ECF6",
          "polar": {
           "angularaxis": {
            "gridcolor": "white",
            "linecolor": "white",
            "ticks": ""
           },
           "bgcolor": "#E5ECF6",
           "radialaxis": {
            "gridcolor": "white",
            "linecolor": "white",
            "ticks": ""
           }
          },
          "scene": {
           "xaxis": {
            "backgroundcolor": "#E5ECF6",
            "gridcolor": "white",
            "gridwidth": 2,
            "linecolor": "white",
            "showbackground": true,
            "ticks": "",
            "zerolinecolor": "white"
           },
           "yaxis": {
            "backgroundcolor": "#E5ECF6",
            "gridcolor": "white",
            "gridwidth": 2,
            "linecolor": "white",
            "showbackground": true,
            "ticks": "",
            "zerolinecolor": "white"
           },
           "zaxis": {
            "backgroundcolor": "#E5ECF6",
            "gridcolor": "white",
            "gridwidth": 2,
            "linecolor": "white",
            "showbackground": true,
            "ticks": "",
            "zerolinecolor": "white"
           }
          },
          "shapedefaults": {
           "line": {
            "color": "#2a3f5f"
           }
          },
          "ternary": {
           "aaxis": {
            "gridcolor": "white",
            "linecolor": "white",
            "ticks": ""
           },
           "baxis": {
            "gridcolor": "white",
            "linecolor": "white",
            "ticks": ""
           },
           "bgcolor": "#E5ECF6",
           "caxis": {
            "gridcolor": "white",
            "linecolor": "white",
            "ticks": ""
           }
          },
          "title": {
           "x": 0.05
          },
          "xaxis": {
           "automargin": true,
           "gridcolor": "white",
           "linecolor": "white",
           "ticks": "",
           "title": {
            "standoff": 15
           },
           "zerolinecolor": "white",
           "zerolinewidth": 2
          },
          "yaxis": {
           "automargin": true,
           "gridcolor": "white",
           "linecolor": "white",
           "ticks": "",
           "title": {
            "standoff": 15
           },
           "zerolinecolor": "white",
           "zerolinewidth": 2
          }
         }
        },
        "xaxis": {
         "anchor": "y",
         "domain": [
          0,
          1
         ],
         "title": {
          "text": "Month"
         }
        },
        "yaxis": {
         "anchor": "x",
         "domain": [
          0,
          1
         ],
         "title": {
          "text": "Year"
         }
        }
       }
      },
      "text/html": [
       "<div>                            <div id=\"81eddabe-5e74-426b-90d4-d63f70c35a4b\" class=\"plotly-graph-div\" style=\"height:525px; width:100%;\"></div>            <script type=\"text/javascript\">                require([\"plotly\"], function(Plotly) {                    window.PLOTLYENV=window.PLOTLYENV || {};                                    if (document.getElementById(\"81eddabe-5e74-426b-90d4-d63f70c35a4b\")) {                    Plotly.newPlot(                        \"81eddabe-5e74-426b-90d4-d63f70c35a4b\",                        [{\"hovertemplate\":\"Month=%{x}\\u003cbr\\u003eYear=%{y}\\u003cextra\\u003e\\u003c\\u002fextra\\u003e\",\"legendgroup\":\"\",\"marker\":{\"color\":\"#636efa\",\"symbol\":\"circle\"},\"mode\":\"markers\",\"name\":\"\",\"orientation\":\"v\",\"showlegend\":false,\"x\":[7,10,6,7,11,7,6,6,6,9,6,4,2,1,7,1,6,4,6,4,2,6,4,1,1,4,6,3,1,1,1,11,8,7,9,10,6,8,6,10,6,5,9,11,2,7,4,6,4,3,4,12,11,7,10,6,6,6,11,11,7,2,12,10,4,5,8,7,12,7,12,6,11,10,1,10,12,9,2,5,8,8,6,3,7,4,12,1,7,12,6,4,5,6,9,6,7,5,12,5,11,7,6,4,7,10,8,8,6,6,11,7,3,8,7,12,7,7,1,9,6,7,9,8,2,7,1,11,4,5,6,6,9,7,5,3,4,8,9,3,9,10,2,12,8,8,2,7,7,11,7,4,8,8,6,2,9,6,12,4,4,9,9,3,4,6,4,7,4,3,10,5,5,9,5,6,9,6,4,8,12,4,5,6,9,5,8,1,5,6,7,11,12,11,7,11,5,7,1,8,6,4,6,5,5,7,5,8,6,1,6,7,1,6,null,12,8,7,6,5,8,6,10,7,11,10,6,6,6,6,8,7,7,null,7,5,6,6,7,8,4,8,8,7,3,12,7,8,11,8,6,8,10,7,6,7,2,7,6,5,12,8,1,11,1,12,1,11,2,3,8,10,11,11,11,12,12,12,2,12,11,12,4,8,7,12,6,7,6,1,2,6,12,2,7,1,8,11,2,1,7,7,9,1,6,6,10,2,11,8,9,6,6,4,8,2,7,8,6,7,7,10,4,2,10,6,10,9,6,9,7,6,8,1,9,12,7,10,7,6,1,2,10,9,2,9,3,8,2,9,2,7,8,7,2,1,5,2,3,1,12,8,7,12,10,10,6,2,1,2,8,9,2,1,1,9,1,7,12,5,5,8,5,9,1,7,6,8,7,2,1,7,4,7,4,7,6,9,12,2,9,6,12,4,10,5,9,6,4,6,7,2,12,2,7,7,2,8,1,2,5,9,3,6,9,9,8,3,6,12,1,8,null,9,9,3,9,8,10,5,7,6,6,8,6,1,2,6,10,6,6,10,3,7,8,2,10,10,3,8,6,1,2,1,1,1,1,3,3,12,12,12,2,8,8,9,1,1,6,6,8,5,1,1,8,12,5,5,4,5,2,1,6,1,2,2,6,4,10,10,8,8,10,12,7,12,5,7,3,12,1,6,7,10,6,8,3,2,2,2,11,8,6,8,10,8,10,10,10,7,6,8,10,7,5,8,9,9,9,9,8,8,10,9,8,4,8,8,9,8,3,10,8,4,8,9,9,8,9,8,10,9,9,9,9,10,9,8,8,8,9,3,9,5,7,8,6,7,3,11,1,12,10,6,1,6,10,5,1,1,11,2,12,7,2,2,2,8,11,1,12,1,12,1,12,5,10,7,12,11,10,7,2,12,7,12,10,10,7,3,3,5,10,7,12,10,10,1,5,4,2,12,5,10,12,9,11,4,11,7,7,2,1,1,9,4,5,4,7,12,8,4,6,7,8,12,7,7,11,12,1,1,10,6,5,7,7,7,6,9,8,3,6,2,3,12,7,7,8,7,2,2,6,6,6,6,12,10,2,1,1,9,5,6,12,2,11,5,11,2,6,2,9,6,8,6,5,1,5,7,3,11,7,10,12,1,5,1,2,12,12,7,11,8,5,5,7,6,11,12,5,1,8,2,10,10,8,12,4,2,1,12,2,11,12,7,10,4,10,4,10,7,3,10,null,4,12,6,1,12,5,10,10],\"xaxis\":\"x\",\"y\":[2011,2010,2012,2015,2010,2010,2005,2013,2013,2005,2014,2011,2008,2015,2012,2014,2011,2011,2014,2011,2015,2014,2011,2014,2013,2011,2009,2014,2014,2014,2009,2005,2013,2003,2005,2010,2014,2013,2014,2012,2012,2011,2005,2003,2016,2007,2003,2010,2014,2012,2009,2007,2015,2007,2009,2005,2009,2005,2013,2005,2003,2011,2013,2012,2009,2004,2015,2016,2008,2012,2008,2015,2013,2010,2008,2004,2009,2015,2006,2003,2009,2010,2008,2012,2011,2014,2010,2013,2008,2008,2008,2012,2004,2014,2013,2008,2010,2004,2013,2007,2003,2013,2005,2013,2011,2004,2007,2015,2010,2009,2005,2006,2002,2009,2010,2015,2011,2011,2007,2010,2013,2008,2011,2011,2011,2016,2014,2004,2015,2015,2010,2010,2007,2003,2000,2012,2015,2011,2005,2007,2008,2015,2011,2012,2008,2009,2009,2008,2016,2006,2012,2016,2009,2013,2011,2010,2005,2012,2013,2004,2008,2008,2010,2014,2009,2008,2015,2009,2012,2004,2013,2015,2005,2008,2015,2001,2008,2004,2006,2010,2015,2016,2007,2009,2011,2004,2015,2009,2005,2014,2004,2013,2008,2013,2011,2013,2014,2012,2005,2012,2010,2006,2013,2011,2008,2012,2011,2008,2010,2009,2008,2008,2009,2014,2000,2000,2000,2015,2010,2000,2007,2012,2010,2012,2013,2006,2010,2011,2014,2009,2004,2011,2012,2000,2012,2008,2013,2011,2003,2013,2011,2008,2011,2004,2006,2007,2007,2015,2003,2000,2008,2012,2010,2003,2011,2006,2011,2011,2008,2009,2010,2015,2004,2006,2012,2015,2007,2013,2006,2016,2015,2007,2015,2010,2015,2006,2003,2006,2006,2006,2006,2006,2004,2015,2004,2009,2000,2004,2012,2004,2006,2008,2004,2006,2005,2014,2011,2003,2011,2014,2005,2010,2003,2011,2006,2012,2012,2014,2003,2003,2012,2008,2009,2007,2003,2007,2010,2011,2012,2005,2006,2011,2010,2010,2011,2008,2012,2006,2006,2010,2012,2005,2011,2006,2010,2004,2003,2011,2005,2015,2014,2011,2012,2008,2011,2008,2010,2011,2014,2008,2009,2012,2007,2006,2014,2014,2011,2014,2008,2014,2002,2011,2012,2002,2011,2012,2010,2010,2014,2009,2011,2008,2008,2009,2009,2008,2009,2007,2011,2004,2004,2006,2012,2008,2008,2003,2012,2011,2012,2009,2005,2013,2005,2012,2005,2008,2010,2008,2006,2009,2008,2011,2009,2011,2012,2000,2005,2006,2011,2011,2012,2014,2012,2015,2012,2016,2008,2000,2014,2003,2011,2006,2005,2013,2003,2004,2011,2014,2013,2009,2014,2011,2000,2008,2003,2014,2006,2011,2011,2008,2012,2015,2008,2011,2015,2016,2006,2008,2012,2010,2012,2012,2010,2011,2011,2010,2012,2011,2010,2004,2011,2014,2014,2000,2004,2000,2014,2011,2015,2006,2006,2006,2010,2011,2010,2003,2011,2014,2013,2012,2010,2009,2009,2009,2007,2008,2011,2011,2011,2013,2013,2002,2015,2014,2007,2007,2008,2003,2012,2012,2011,2011,2011,2013,2007,2008,2013,2013,2010,2008,2008,2008,2013,2011,2007,2011,2010,2010,2006,2010,2003,2011,2005,2011,2006,2011,2006,2012,2011,2006,2004,2005,2004,2005,2016,2005,2008,2008,2008,2005,2012,2012,2002,2005,2012,2011,2012,2005,2005,2008,2011,2005,2004,2004,2005,2004,2005,2008,2004,2004,2005,2004,2004,2004,2004,2005,2004,2004,2005,2004,2004,2011,2007,2006,2006,2013,2013,2008,2011,2011,2008,2006,2004,2008,2010,2015,2009,2006,2005,2010,2013,2006,2011,2006,2011,2011,2004,2007,2002,2008,2003,2010,2004,2010,2003,2014,2003,2015,2015,2005,2009,2010,2015,2005,2006,2002,2015,2010,2008,2011,2011,2004,2007,2010,2011,2007,2007,2004,2014,2007,2004,2002,2014,2007,2015,2007,2008,2005,2010,2004,2008,2007,2009,2009,2012,2011,2013,2011,2015,2002,2005,2014,2008,2011,2011,2013,2004,2015,2003,2011,2013,2011,2012,2011,2011,2007,2010,2010,2012,2012,2010,2009,2008,2008,2013,2002,2006,2003,2007,2006,2011,2006,2013,2012,2008,2004,2006,2009,2004,2005,2004,2004,2011,2011,2005,2015,2006,2008,2004,2014,2009,2014,2004,2011,2011,2009,2008,2013,2007,2010,2010,2002,2006,2008,2015,2002,2012,2010,2010,2007,2015,2016,2015,2011,2013,2013,2013,2004,2015,2015,2011,2011,2011,2013,2012,2012,2004,2003,2007,2009,2006,2008,2008,2010,2013,2008,2012,2007,2012,2007,2011,2009,2016,2006,2002,2015,2007,2015,2005,2008,2011,2006,2006],\"yaxis\":\"y\",\"type\":\"scatter\"}],                        {\"template\":{\"data\":{\"histogram2dcontour\":[{\"type\":\"histogram2dcontour\",\"colorbar\":{\"outlinewidth\":0,\"ticks\":\"\"},\"colorscale\":[[0.0,\"#0d0887\"],[0.1111111111111111,\"#46039f\"],[0.2222222222222222,\"#7201a8\"],[0.3333333333333333,\"#9c179e\"],[0.4444444444444444,\"#bd3786\"],[0.5555555555555556,\"#d8576b\"],[0.6666666666666666,\"#ed7953\"],[0.7777777777777778,\"#fb9f3a\"],[0.8888888888888888,\"#fdca26\"],[1.0,\"#f0f921\"]]}],\"choropleth\":[{\"type\":\"choropleth\",\"colorbar\":{\"outlinewidth\":0,\"ticks\":\"\"}}],\"histogram2d\":[{\"type\":\"histogram2d\",\"colorbar\":{\"outlinewidth\":0,\"ticks\":\"\"},\"colorscale\":[[0.0,\"#0d0887\"],[0.1111111111111111,\"#46039f\"],[0.2222222222222222,\"#7201a8\"],[0.3333333333333333,\"#9c179e\"],[0.4444444444444444,\"#bd3786\"],[0.5555555555555556,\"#d8576b\"],[0.6666666666666666,\"#ed7953\"],[0.7777777777777778,\"#fb9f3a\"],[0.8888888888888888,\"#fdca26\"],[1.0,\"#f0f921\"]]}],\"heatmap\":[{\"type\":\"heatmap\",\"colorbar\":{\"outlinewidth\":0,\"ticks\":\"\"},\"colorscale\":[[0.0,\"#0d0887\"],[0.1111111111111111,\"#46039f\"],[0.2222222222222222,\"#7201a8\"],[0.3333333333333333,\"#9c179e\"],[0.4444444444444444,\"#bd3786\"],[0.5555555555555556,\"#d8576b\"],[0.6666666666666666,\"#ed7953\"],[0.7777777777777778,\"#fb9f3a\"],[0.8888888888888888,\"#fdca26\"],[1.0,\"#f0f921\"]]}],\"heatmapgl\":[{\"type\":\"heatmapgl\",\"colorbar\":{\"outlinewidth\":0,\"ticks\":\"\"},\"colorscale\":[[0.0,\"#0d0887\"],[0.1111111111111111,\"#46039f\"],[0.2222222222222222,\"#7201a8\"],[0.3333333333333333,\"#9c179e\"],[0.4444444444444444,\"#bd3786\"],[0.5555555555555556,\"#d8576b\"],[0.6666666666666666,\"#ed7953\"],[0.7777777777777778,\"#fb9f3a\"],[0.8888888888888888,\"#fdca26\"],[1.0,\"#f0f921\"]]}],\"contourcarpet\":[{\"type\":\"contourcarpet\",\"colorbar\":{\"outlinewidth\":0,\"ticks\":\"\"}}],\"contour\":[{\"type\":\"contour\",\"colorbar\":{\"outlinewidth\":0,\"ticks\":\"\"},\"colorscale\":[[0.0,\"#0d0887\"],[0.1111111111111111,\"#46039f\"],[0.2222222222222222,\"#7201a8\"],[0.3333333333333333,\"#9c179e\"],[0.4444444444444444,\"#bd3786\"],[0.5555555555555556,\"#d8576b\"],[0.6666666666666666,\"#ed7953\"],[0.7777777777777778,\"#fb9f3a\"],[0.8888888888888888,\"#fdca26\"],[1.0,\"#f0f921\"]]}],\"surface\":[{\"type\":\"surface\",\"colorbar\":{\"outlinewidth\":0,\"ticks\":\"\"},\"colorscale\":[[0.0,\"#0d0887\"],[0.1111111111111111,\"#46039f\"],[0.2222222222222222,\"#7201a8\"],[0.3333333333333333,\"#9c179e\"],[0.4444444444444444,\"#bd3786\"],[0.5555555555555556,\"#d8576b\"],[0.6666666666666666,\"#ed7953\"],[0.7777777777777778,\"#fb9f3a\"],[0.8888888888888888,\"#fdca26\"],[1.0,\"#f0f921\"]]}],\"mesh3d\":[{\"type\":\"mesh3d\",\"colorbar\":{\"outlinewidth\":0,\"ticks\":\"\"}}],\"scatter\":[{\"fillpattern\":{\"fillmode\":\"overlay\",\"size\":10,\"solidity\":0.2},\"type\":\"scatter\"}],\"parcoords\":[{\"type\":\"parcoords\",\"line\":{\"colorbar\":{\"outlinewidth\":0,\"ticks\":\"\"}}}],\"scatterpolargl\":[{\"type\":\"scatterpolargl\",\"marker\":{\"colorbar\":{\"outlinewidth\":0,\"ticks\":\"\"}}}],\"bar\":[{\"error_x\":{\"color\":\"#2a3f5f\"},\"error_y\":{\"color\":\"#2a3f5f\"},\"marker\":{\"line\":{\"color\":\"#E5ECF6\",\"width\":0.5},\"pattern\":{\"fillmode\":\"overlay\",\"size\":10,\"solidity\":0.2}},\"type\":\"bar\"}],\"scattergeo\":[{\"type\":\"scattergeo\",\"marker\":{\"colorbar\":{\"outlinewidth\":0,\"ticks\":\"\"}}}],\"scatterpolar\":[{\"type\":\"scatterpolar\",\"marker\":{\"colorbar\":{\"outlinewidth\":0,\"ticks\":\"\"}}}],\"histogram\":[{\"marker\":{\"pattern\":{\"fillmode\":\"overlay\",\"size\":10,\"solidity\":0.2}},\"type\":\"histogram\"}],\"scattergl\":[{\"type\":\"scattergl\",\"marker\":{\"colorbar\":{\"outlinewidth\":0,\"ticks\":\"\"}}}],\"scatter3d\":[{\"type\":\"scatter3d\",\"line\":{\"colorbar\":{\"outlinewidth\":0,\"ticks\":\"\"}},\"marker\":{\"colorbar\":{\"outlinewidth\":0,\"ticks\":\"\"}}}],\"scattermapbox\":[{\"type\":\"scattermapbox\",\"marker\":{\"colorbar\":{\"outlinewidth\":0,\"ticks\":\"\"}}}],\"scatterternary\":[{\"type\":\"scatterternary\",\"marker\":{\"colorbar\":{\"outlinewidth\":0,\"ticks\":\"\"}}}],\"scattercarpet\":[{\"type\":\"scattercarpet\",\"marker\":{\"colorbar\":{\"outlinewidth\":0,\"ticks\":\"\"}}}],\"carpet\":[{\"aaxis\":{\"endlinecolor\":\"#2a3f5f\",\"gridcolor\":\"white\",\"linecolor\":\"white\",\"minorgridcolor\":\"white\",\"startlinecolor\":\"#2a3f5f\"},\"baxis\":{\"endlinecolor\":\"#2a3f5f\",\"gridcolor\":\"white\",\"linecolor\":\"white\",\"minorgridcolor\":\"white\",\"startlinecolor\":\"#2a3f5f\"},\"type\":\"carpet\"}],\"table\":[{\"cells\":{\"fill\":{\"color\":\"#EBF0F8\"},\"line\":{\"color\":\"white\"}},\"header\":{\"fill\":{\"color\":\"#C8D4E3\"},\"line\":{\"color\":\"white\"}},\"type\":\"table\"}],\"barpolar\":[{\"marker\":{\"line\":{\"color\":\"#E5ECF6\",\"width\":0.5},\"pattern\":{\"fillmode\":\"overlay\",\"size\":10,\"solidity\":0.2}},\"type\":\"barpolar\"}],\"pie\":[{\"automargin\":true,\"type\":\"pie\"}]},\"layout\":{\"autotypenumbers\":\"strict\",\"colorway\":[\"#636efa\",\"#EF553B\",\"#00cc96\",\"#ab63fa\",\"#FFA15A\",\"#19d3f3\",\"#FF6692\",\"#B6E880\",\"#FF97FF\",\"#FECB52\"],\"font\":{\"color\":\"#2a3f5f\"},\"hovermode\":\"closest\",\"hoverlabel\":{\"align\":\"left\"},\"paper_bgcolor\":\"white\",\"plot_bgcolor\":\"#E5ECF6\",\"polar\":{\"bgcolor\":\"#E5ECF6\",\"angularaxis\":{\"gridcolor\":\"white\",\"linecolor\":\"white\",\"ticks\":\"\"},\"radialaxis\":{\"gridcolor\":\"white\",\"linecolor\":\"white\",\"ticks\":\"\"}},\"ternary\":{\"bgcolor\":\"#E5ECF6\",\"aaxis\":{\"gridcolor\":\"white\",\"linecolor\":\"white\",\"ticks\":\"\"},\"baxis\":{\"gridcolor\":\"white\",\"linecolor\":\"white\",\"ticks\":\"\"},\"caxis\":{\"gridcolor\":\"white\",\"linecolor\":\"white\",\"ticks\":\"\"}},\"coloraxis\":{\"colorbar\":{\"outlinewidth\":0,\"ticks\":\"\"}},\"colorscale\":{\"sequential\":[[0.0,\"#0d0887\"],[0.1111111111111111,\"#46039f\"],[0.2222222222222222,\"#7201a8\"],[0.3333333333333333,\"#9c179e\"],[0.4444444444444444,\"#bd3786\"],[0.5555555555555556,\"#d8576b\"],[0.6666666666666666,\"#ed7953\"],[0.7777777777777778,\"#fb9f3a\"],[0.8888888888888888,\"#fdca26\"],[1.0,\"#f0f921\"]],\"sequentialminus\":[[0.0,\"#0d0887\"],[0.1111111111111111,\"#46039f\"],[0.2222222222222222,\"#7201a8\"],[0.3333333333333333,\"#9c179e\"],[0.4444444444444444,\"#bd3786\"],[0.5555555555555556,\"#d8576b\"],[0.6666666666666666,\"#ed7953\"],[0.7777777777777778,\"#fb9f3a\"],[0.8888888888888888,\"#fdca26\"],[1.0,\"#f0f921\"]],\"diverging\":[[0,\"#8e0152\"],[0.1,\"#c51b7d\"],[0.2,\"#de77ae\"],[0.3,\"#f1b6da\"],[0.4,\"#fde0ef\"],[0.5,\"#f7f7f7\"],[0.6,\"#e6f5d0\"],[0.7,\"#b8e186\"],[0.8,\"#7fbc41\"],[0.9,\"#4d9221\"],[1,\"#276419\"]]},\"xaxis\":{\"gridcolor\":\"white\",\"linecolor\":\"white\",\"ticks\":\"\",\"title\":{\"standoff\":15},\"zerolinecolor\":\"white\",\"automargin\":true,\"zerolinewidth\":2},\"yaxis\":{\"gridcolor\":\"white\",\"linecolor\":\"white\",\"ticks\":\"\",\"title\":{\"standoff\":15},\"zerolinecolor\":\"white\",\"automargin\":true,\"zerolinewidth\":2},\"scene\":{\"xaxis\":{\"backgroundcolor\":\"#E5ECF6\",\"gridcolor\":\"white\",\"linecolor\":\"white\",\"showbackground\":true,\"ticks\":\"\",\"zerolinecolor\":\"white\",\"gridwidth\":2},\"yaxis\":{\"backgroundcolor\":\"#E5ECF6\",\"gridcolor\":\"white\",\"linecolor\":\"white\",\"showbackground\":true,\"ticks\":\"\",\"zerolinecolor\":\"white\",\"gridwidth\":2},\"zaxis\":{\"backgroundcolor\":\"#E5ECF6\",\"gridcolor\":\"white\",\"linecolor\":\"white\",\"showbackground\":true,\"ticks\":\"\",\"zerolinecolor\":\"white\",\"gridwidth\":2}},\"shapedefaults\":{\"line\":{\"color\":\"#2a3f5f\"}},\"annotationdefaults\":{\"arrowcolor\":\"#2a3f5f\",\"arrowhead\":0,\"arrowwidth\":1},\"geo\":{\"bgcolor\":\"white\",\"landcolor\":\"#E5ECF6\",\"subunitcolor\":\"white\",\"showland\":true,\"showlakes\":true,\"lakecolor\":\"white\"},\"title\":{\"x\":0.05},\"mapbox\":{\"style\":\"light\"}}},\"xaxis\":{\"anchor\":\"y\",\"domain\":[0.0,1.0],\"title\":{\"text\":\"Month\"}},\"yaxis\":{\"anchor\":\"x\",\"domain\":[0.0,1.0],\"title\":{\"text\":\"Year\"}},\"legend\":{\"tracegroupgap\":0},\"margin\":{\"t\":60}},                        {\"responsive\": true}                    ).then(function(){\n",
       "                            \n",
       "var gd = document.getElementById('81eddabe-5e74-426b-90d4-d63f70c35a4b');\n",
       "var x = new MutationObserver(function (mutations, observer) {{\n",
       "        var display = window.getComputedStyle(gd).display;\n",
       "        if (!display || display === 'none') {{\n",
       "            console.log([gd, 'removed!']);\n",
       "            Plotly.purge(gd);\n",
       "            observer.disconnect();\n",
       "        }}\n",
       "}});\n",
       "\n",
       "// Listen for the removal of the full notebook cells\n",
       "var notebookContainer = gd.closest('#notebook-container');\n",
       "if (notebookContainer) {{\n",
       "    x.observe(notebookContainer, {childList: true});\n",
       "}}\n",
       "\n",
       "// Listen for the clearing of the current output cell\n",
       "var outputEl = gd.closest('.output');\n",
       "if (outputEl) {{\n",
       "    x.observe(outputEl, {childList: true});\n",
       "}}\n",
       "\n",
       "                        })                };                });            </script>        </div>"
      ]
     },
     "metadata": {},
     "output_type": "display_data"
    }
   ],
   "source": [
    "figym = px.scatter(x=severe_weather[\"MONTH\"], \n",
    "                   y=severe_weather[\"YEAR\"],\n",
    "                  labels={'x': 'Month', 'y':'Year'})\n",
    "figym.show()"
   ]
  },
  {
   "cell_type": "markdown",
   "metadata": {},
   "source": [
    "Seems like there are some missing values for the earlier years. Otherwise, the data for the months seems to be roughly similar. Maybe the mean outage duration varies due to climate instead."
   ]
  },
  {
   "cell_type": "markdown",
   "metadata": {},
   "source": [
    "This can be further determined by looking at anomaly level. Anomaly level represents the oceanic El Niño/La Niña (ONI) index referring to the cold and warm episodes by season, estimated as a 3-month running mean of ERSST.v4 SST anomalies in the Niño 3.4 region. Larger positive values indicate that the region where the power outage occurred had a hotter than usual weather pattern, compared to a mean of weather conditions within the past 30 years. On the other hand, larger negative values indicate that the region where the power outage occurred had an abnormally cold weather pattern."
   ]
  },
  {
   "cell_type": "code",
   "execution_count": 121,
   "metadata": {},
   "outputs": [
    {
     "data": {
      "application/vnd.plotly.v1+json": {
       "config": {
        "plotlyServerURL": "https://plot.ly"
       },
       "data": [
        {
         "hovertemplate": "Anomaly Level=%{x}<br>Outage Duration=%{y}<extra></extra>",
         "legendgroup": "",
         "marker": {
          "color": "#636efa",
          "symbol": "circle"
         },
         "mode": "markers",
         "name": "",
         "orientation": "v",
         "showlegend": false,
         "type": "scatter",
         "x": [
          -0.3,
          -1.5,
          -0.1,
          1.2,
          -1.4,
          -0.9,
          0.2,
          -0.2,
          -0.2,
          0,
          0,
          -0.5,
          -1.3,
          0.6,
          0.1,
          -0.5,
          -0.3,
          -0.5,
          0,
          -0.5,
          0.5,
          0,
          -0.5,
          -0.5,
          -0.4,
          -0.5,
          0.4,
          -0.4,
          -0.5,
          -0.5,
          -0.7,
          -0.5,
          -0.3,
          0.1,
          0,
          -1.5,
          0,
          -0.3,
          0,
          0.3,
          -0.1,
          -0.4,
          0,
          0.3,
          2,
          -0.4,
          0,
          -0.4,
          -0.2,
          -0.4,
          -0.1,
          -1.3,
          2.2,
          -0.4,
          0.9,
          0.2,
          0.4,
          0.2,
          -0.3,
          -0.5,
          0.1,
          -1,
          -0.3,
          0.3,
          -0.1,
          0.2,
          1.4,
          -0.3,
          -0.7,
          0.1,
          -0.7,
          1,
          -0.3,
          -1.5,
          -1.4,
          0.7,
          1.3,
          1.7,
          -0.6,
          -0.2,
          0.5,
          -1.2,
          -0.5,
          -0.4,
          -0.3,
          -0.2,
          -1.4,
          -0.4,
          -0.4,
          -0.7,
          -0.5,
          -0.4,
          0.2,
          0,
          -0.2,
          -0.5,
          -0.9,
          0.2,
          -0.3,
          -0.2,
          0.3,
          -0.3,
          0.2,
          -0.2,
          -0.3,
          0.7,
          -0.6,
          1.4,
          -0.4,
          0.4,
          -0.5,
          0.1,
          0.1,
          0.5,
          -0.9,
          2.3,
          -0.3,
          -0.3,
          0.7,
          -1.4,
          -0.2,
          -0.4,
          -0.8,
          -0.6,
          -1,
          -0.3,
          -0.5,
          0.6,
          0.7,
          0.8,
          -0.4,
          -0.4,
          -0.9,
          0.1,
          -0.7,
          -0.4,
          0.7,
          -0.6,
          0,
          0.1,
          -0.3,
          2,
          -1,
          -0.2,
          -0.3,
          0.5,
          -0.6,
          -0.4,
          -0.3,
          0.9,
          0.1,
          1.1,
          0.5,
          -0.3,
          -0.3,
          1.2,
          0,
          -0.1,
          -0.3,
          0.1,
          -0.9,
          -0.3,
          -1.4,
          -0.4,
          -0.1,
          -0.5,
          0.7,
          0.5,
          -0.4,
          0.2,
          -0.3,
          0.8,
          0.3,
          -0.3,
          0.8,
          -0.1,
          -0.3,
          0.3,
          -0.2,
          -1.2,
          2.3,
          1.1,
          -0.2,
          0.4,
          -0.8,
          0.2,
          1.4,
          -0.7,
          0.3,
          0,
          0.5,
          -0.3,
          -0.7,
          -0.3,
          -0.3,
          -0.3,
          -0.1,
          0.1,
          0.7,
          0.3,
          -0.4,
          -0.2,
          -0.2,
          -0.4,
          -0.7,
          0.1,
          -0.4,
          -0.3,
          -0.4,
          -0.7,
          -0.5,
          -0.4,
          -0.7,
          0,
          null,
          -0.8,
          -0.5,
          1.2,
          -0.4,
          -0.7,
          -0.6,
          -0.1,
          -1.5,
          0.1,
          -0.3,
          0.7,
          -0.4,
          -0.3,
          0,
          0.4,
          0.6,
          -0.3,
          0.1,
          null,
          0.1,
          -0.7,
          -0.2,
          -0.3,
          0.1,
          -0.3,
          -0.5,
          -0.3,
          -0.6,
          0.5,
          -0.4,
          -1.3,
          -0.4,
          1.4,
          0.3,
          -0.5,
          -0.5,
          0.3,
          -1.5,
          0.1,
          -0.3,
          0.1,
          -1,
          -0.3,
          -0.5,
          0.2,
          -1.4,
          1.4,
          0.3,
          0.9,
          -0.7,
          2.3,
          0.7,
          -0.3,
          -0.6,
          1.6,
          1.4,
          -1.1,
          2.2,
          -1.4,
          2.2,
          0.9,
          0.3,
          0.9,
          -0.6,
          0.9,
          0.9,
          0.9,
          0.1,
          1.4,
          0.5,
          1.3,
          -0.7,
          0.5,
          -0.1,
          0.3,
          -0.6,
          -0.5,
          0.7,
          -0.6,
          0,
          -0.5,
          -0.6,
          0.3,
          -1,
          -0.5,
          0,
          -0.9,
          0.2,
          -1.3,
          0,
          -0.1,
          0.3,
          -0.5,
          0.3,
          0.2,
          0.3,
          -0.5,
          0.4,
          -0.1,
          0.2,
          0.4,
          -0.9,
          -0.6,
          -0.1,
          0,
          0.1,
          -0.9,
          0.5,
          1.2,
          -0.9,
          -0.5,
          0.3,
          0.5,
          0,
          -1.4,
          0.1,
          0.2,
          -0.6,
          -0.7,
          -1.4,
          0.7,
          0.1,
          -0.9,
          0,
          1,
          -0.5,
          -1,
          0.3,
          -0.3,
          -1,
          -0.3,
          0.9,
          -0.6,
          -0.5,
          -0.3,
          -0.6,
          0.1,
          -0.6,
          0.1,
          -0.5,
          -0.5,
          -0.4,
          -0.5,
          -1.1,
          -0.5,
          1.1,
          -0.6,
          0.1,
          1.1,
          -0.9,
          0.3,
          -0.4,
          1.2,
          -0.5,
          -0.6,
          -0.6,
          -0.3,
          -1.3,
          -0.7,
          -0.7,
          -0.3,
          -0.7,
          -0.4,
          -0.9,
          0.2,
          0.2,
          0.3,
          -0.3,
          -0.3,
          -1.4,
          0.1,
          -0.1,
          -0.6,
          0.1,
          -0.6,
          0.7,
          -0.3,
          0.5,
          0.1,
          0.5,
          -0.4,
          -0.4,
          -0.3,
          0.9,
          -0.6,
          -0.3,
          -0.3,
          1.3,
          -0.5,
          0.3,
          -0.7,
          0,
          0,
          -0.5,
          -0.3,
          0.1,
          -0.5,
          -0.2,
          0.5,
          0.1,
          -0.3,
          -1.3,
          -0.5,
          -0.5,
          0.7,
          -0.4,
          0.5,
          0.5,
          -0.2,
          0.2,
          0.7,
          -0.6,
          -0.4,
          -0.2,
          1.3,
          -0.5,
          -0.6,
          null,
          -0.3,
          0.2,
          -0.4,
          0.5,
          -0.6,
          -0.9,
          -0.7,
          0.1,
          1,
          -0.5,
          -0.6,
          1,
          2.2,
          -0.6,
          -0.5,
          0.3,
          -0.4,
          -0.1,
          0.3,
          0.9,
          -0.3,
          -0.6,
          1.2,
          0.3,
          -0.9,
          0.9,
          0.6,
          -0.3,
          -0.5,
          -0.5,
          -1.6,
          0.3,
          -1.6,
          -0.5,
          -0.7,
          0.6,
          0.9,
          0.9,
          0.9,
          1.2,
          -0.6,
          -1.2,
          0.2,
          -1.3,
          -0.5,
          -0.2,
          -0.1,
          -1.2,
          0.2,
          -0.7,
          -0.7,
          -0.6,
          -0.7,
          -0.4,
          -0.4,
          -0.5,
          -0.2,
          -0.4,
          -0.2,
          1,
          -0.5,
          0.4,
          0.4,
          -0.5,
          0,
          0.3,
          0.3,
          -0.6,
          -0.6,
          -0.9,
          -0.3,
          -0.4,
          -0.7,
          -0.2,
          -0.3,
          0.9,
          -0.7,
          -1.4,
          -0.5,
          -0.3,
          -0.9,
          -0.3,
          -0.6,
          0.9,
          1.2,
          -0.6,
          1.2,
          0.3,
          -0.6,
          0.2,
          -0.6,
          0.7,
          -0.6,
          0.7,
          0.3,
          -0.9,
          0.1,
          0.3,
          -0.1,
          0.7,
          0,
          0.6,
          -0.1,
          -0.3,
          -0.3,
          -0.3,
          0,
          0.3,
          0.3,
          1.1,
          0,
          0.3,
          -0.5,
          0.3,
          -0.1,
          0,
          -0.3,
          -0.7,
          -0.2,
          0.6,
          0.1,
          -0.1,
          0.7,
          0,
          -0.3,
          0.7,
          0.6,
          -0.2,
          0.7,
          0.7,
          0.7,
          0.7,
          -0.2,
          0.7,
          0.6,
          -0.1,
          0.6,
          0.7,
          -0.7,
          -0.9,
          0,
          0.1,
          -0.3,
          -0.2,
          -0.4,
          -0.7,
          -1,
          -1.4,
          0.9,
          0.7,
          -0.5,
          1.3,
          1,
          0.9,
          0,
          0.7,
          1.3,
          -0.3,
          -0.6,
          -0.9,
          0.1,
          -1,
          -1,
          0.3,
          -0.6,
          1.2,
          -1.4,
          0.3,
          1.3,
          0.7,
          1.3,
          0.3,
          -0.1,
          0.3,
          1.2,
          2.3,
          -0.5,
          0.9,
          -0.9,
          0.5,
          -0.7,
          0.1,
          1.1,
          2,
          -1.5,
          -0.4,
          -0.7,
          -0.7,
          0.2,
          -1.1,
          -0.9,
          -0.9,
          -1.1,
          -1.1,
          0.3,
          -0.1,
          -0.1,
          0.3,
          1.1,
          -0.1,
          -1.1,
          2.3,
          -0.9,
          -0.6,
          0.5,
          -1.4,
          0.5,
          -0.4,
          0.4,
          -0.7,
          -0.7,
          0.3,
          -0.5,
          -0.2,
          -0.5,
          1.2,
          1.1,
          -0.1,
          -0.2,
          -0.5,
          -0.3,
          -0.6,
          -0.3,
          0.5,
          1.2,
          0.3,
          -0.9,
          -0.4,
          -1.3,
          0.3,
          -0.3,
          -0.4,
          -0.4,
          -0.9,
          -0.9,
          -0.1,
          0.3,
          -1.2,
          -0.4,
          -0.5,
          -1.3,
          -0.3,
          1.1,
          0.1,
          0.1,
          -0.6,
          0.1,
          -1,
          -0.6,
          -0.2,
          -0.1,
          -0.5,
          0.3,
          0.9,
          0.9,
          0.3,
          0.7,
          0.3,
          0.7,
          -0.4,
          -0.3,
          -0.7,
          0.5,
          0.9,
          -0.7,
          0.6,
          -0.5,
          0.4,
          -0.5,
          0.7,
          -0.3,
          -0.6,
          0.4,
          -0.7,
          -0.4,
          -0.2,
          -0.9,
          0.9,
          1.2,
          0.1,
          -0.4,
          2.3,
          -0.2,
          -0.3,
          1.3,
          1.2,
          -1.3,
          2.3,
          -0.3,
          2.2,
          -0.6,
          -0.2,
          -0.2,
          -0.3,
          0.3,
          2.2,
          2.3,
          -0.4,
          -1.3,
          -0.6,
          -0.4,
          0.3,
          0.3,
          0.6,
          0.3,
          -0.1,
          -0.6,
          -0.7,
          -0.7,
          -1.3,
          -1.4,
          -0.3,
          -0.4,
          0.3,
          -0.1,
          0.3,
          -0.1,
          -0.9,
          0.5,
          1.6,
          0.7,
          null,
          0.7,
          -1.3,
          1,
          0.7,
          -0.7,
          -0.4,
          0.7,
          0.7
         ],
         "xaxis": "x",
         "y": [
          3060,
          3000,
          2550,
          1740,
          1860,
          2970,
          3960,
          3621,
          7740,
          8880,
          60,
          196,
          840,
          935,
          1260,
          150,
          0,
          660,
          1,
          4921,
          251,
          4125,
          2550,
          1200,
          2818,
          5054,
          136,
          528,
          150,
          1920,
          32,
          3000,
          32,
          960,
          4410,
          480,
          538,
          1272,
          1000,
          17339,
          9576,
          3090,
          6510,
          5820,
          1513,
          4830,
          4200,
          5730,
          4290,
          2670,
          3540,
          3637,
          1710,
          4320,
          3915,
          3120,
          4590,
          7530,
          5034,
          8160,
          3300,
          4320,
          9857,
          4080,
          5670,
          5700,
          1995,
          300,
          5115,
          2670,
          7650,
          4338,
          5760,
          2820,
          4110,
          3360,
          3015,
          232,
          6420,
          46080,
          5700,
          5610,
          270,
          4050,
          5865,
          2325,
          4170,
          4485,
          5580,
          705,
          11850,
          3494,
          4560,
          2760,
          5760,
          8922,
          6030,
          7800,
          4242,
          3120,
          5700,
          900,
          7620,
          3630,
          1260,
          5840,
          5790,
          2820,
          600,
          4259,
          2939,
          7080,
          3600,
          1588,
          4260,
          2700,
          8430,
          85,
          9150,
          1019,
          420,
          1140,
          7440,
          4458,
          1203,
          1455,
          1559,
          900,
          2690,
          5115,
          2142,
          360,
          2340,
          9486,
          480,
          300,
          3020,
          1335,
          12180,
          690,
          27698,
          2420,
          327,
          1860,
          847,
          215,
          570,
          12124,
          2655,
          600,
          181,
          1185,
          1500,
          1860,
          1200,
          6300,
          1620,
          2220,
          7809,
          1200,
          5595,
          3360,
          685,
          2280,
          1920,
          3569,
          3300,
          1560,
          840,
          17865,
          1080,
          1320,
          1110,
          27698,
          3040,
          10140,
          21540,
          1200,
          900,
          940,
          null,
          3050,
          1830,
          6000,
          1500,
          150,
          1955,
          2220,
          420,
          1060,
          5250,
          4320,
          2120,
          4320,
          2146,
          4032,
          2580,
          569,
          15950,
          200,
          1980,
          4045,
          2730,
          3314,
          7319,
          1440,
          3646,
          1130,
          513,
          23773,
          10,
          3872,
          12240,
          390,
          null,
          3264,
          1230,
          803,
          2680,
          null,
          7609,
          150,
          3000,
          420,
          479,
          1680,
          2700,
          1110,
          2790,
          659,
          1320,
          1830,
          3000,
          null,
          870,
          810,
          1336,
          1695,
          360,
          360,
          120,
          3000,
          1290,
          1530,
          2370,
          1200,
          1200,
          90,
          120,
          1200,
          720,
          1120,
          2100,
          960,
          450,
          1440,
          1020,
          0,
          2010,
          9230,
          2460,
          8880,
          5340,
          8940,
          1920,
          420,
          2040,
          3300,
          6690,
          null,
          null,
          6276,
          null,
          2700,
          null,
          2639,
          6480,
          9630,
          3507,
          2820,
          5855,
          22769,
          4285,
          2520,
          49320,
          4200,
          66,
          49320,
          2021,
          1671,
          3938,
          4470,
          2279,
          4440,
          2760,
          1840,
          1980,
          1950,
          3037,
          1196,
          5628,
          7700,
          12890,
          4232,
          2610,
          4320,
          2507,
          1,
          4920,
          4080,
          185,
          1320,
          2855,
          3060,
          7298,
          5790,
          3040,
          11700,
          7987,
          4517,
          3058,
          13381,
          2865,
          9450,
          7803,
          5579,
          8979,
          4800,
          3060,
          4792,
          3894,
          1757,
          2880,
          2985,
          3232,
          2319,
          4338,
          2880,
          1714,
          90,
          59,
          4139,
          10530,
          6938,
          930,
          299,
          5320,
          2880,
          1,
          6713,
          5160,
          1440,
          78,
          7523,
          2668,
          1,
          1324,
          6940,
          2684,
          54,
          720,
          2880,
          3189,
          2790,
          13679,
          13488,
          7709,
          7080,
          1,
          1680,
          1579,
          300,
          1020,
          3570,
          6492,
          10499,
          15180,
          283,
          1631,
          4920,
          4920,
          420,
          21,
          4200,
          805,
          5040,
          7430,
          5490,
          165,
          3630,
          11640,
          1590,
          7920,
          1372,
          6480,
          2190,
          1843,
          11531,
          1420,
          930,
          11420,
          960,
          1733,
          3690,
          10619,
          11280,
          1440,
          180,
          1574,
          388,
          373,
          4510,
          290,
          1950,
          270,
          1355,
          1318,
          2490,
          1265,
          3388,
          1025,
          990,
          240,
          1485,
          1528,
          1890,
          2551,
          985,
          1698,
          1460,
          182,
          4113,
          null,
          885,
          15,
          1050,
          4140,
          2880,
          11430,
          3599,
          2941,
          null,
          6090,
          2520,
          10080,
          76,
          3720,
          333,
          11337,
          7020,
          11058,
          9360,
          3300,
          3339,
          2880,
          11580,
          9600,
          13201,
          9719,
          488,
          2415,
          180,
          4177,
          7440,
          3480,
          6600,
          300,
          1526,
          210,
          4380,
          4313,
          1050,
          9886,
          2425,
          390,
          14500,
          6660,
          54,
          30,
          8077,
          855,
          810,
          4150,
          4740,
          2070,
          870,
          12652,
          2880,
          120,
          1470,
          4140,
          15420,
          4254,
          53,
          347,
          1044,
          8670,
          2089,
          20280,
          14639,
          2880,
          1,
          5355,
          3943,
          3300,
          10726,
          2515,
          2730,
          9480,
          5400,
          3584,
          4710,
          1800,
          6074,
          49,
          2299,
          5760,
          7320,
          448,
          2520,
          2100,
          8221,
          3240,
          2880,
          13140,
          8640,
          15492,
          8268,
          7962,
          11296,
          8054,
          2160,
          2100,
          1440,
          null,
          692,
          13215,
          17812,
          20416,
          6240,
          3067,
          3060,
          null,
          18804,
          1867,
          1690,
          240,
          17520,
          8189,
          5820,
          2009,
          720,
          480,
          1005,
          13430,
          3600,
          10080,
          5071,
          6840,
          221,
          24780,
          7560,
          10380,
          2040,
          12060,
          1080,
          1680,
          13920,
          14101,
          1099,
          2460,
          540,
          420,
          437,
          180,
          656,
          255,
          1054,
          1456,
          2464,
          523,
          8472,
          2790,
          224,
          1470,
          2050,
          125,
          365,
          4740,
          294,
          455,
          2645,
          2016,
          7371,
          3408,
          4890,
          2759,
          435,
          5160,
          15180,
          721,
          14190,
          900,
          6070,
          5910,
          null,
          34390,
          166,
          15,
          13,
          390,
          47,
          null,
          8100,
          180,
          2820,
          989,
          2895,
          252,
          130,
          6914,
          270,
          962,
          47,
          9855,
          17,
          21,
          1950,
          617,
          1230,
          572,
          6780,
          null,
          37,
          72,
          300,
          751,
          8,
          5227,
          1414,
          4605,
          4080,
          10274,
          2700,
          210,
          1201,
          30,
          2806,
          1226,
          8160,
          126,
          285,
          424,
          180,
          0,
          448,
          624,
          2435,
          131,
          208,
          103,
          1355,
          1523,
          90,
          1205,
          385,
          144,
          235,
          6787,
          1673,
          3366,
          2640,
          1826,
          570,
          1565,
          2691,
          1072,
          115,
          816,
          168,
          160,
          485,
          1508,
          1301,
          60,
          4,
          9600,
          106,
          810,
          1380,
          1800,
          1560,
          2054,
          1452,
          1865,
          1999,
          120,
          1950,
          360,
          1087,
          1200,
          4122,
          360,
          645,
          1440,
          4560,
          110,
          210,
          4260,
          76,
          3305,
          5880,
          145,
          2640,
          1042,
          11880,
          2245,
          7200,
          148,
          13972,
          null,
          796,
          null,
          2612,
          3000,
          5310,
          1732,
          6685,
          3300,
          280,
          2895,
          480,
          1,
          4745,
          1656,
          3525,
          374,
          115,
          3604,
          2108,
          198,
          3667,
          1037,
          673,
          2652,
          618,
          1187,
          950,
          2535,
          660,
          2040,
          2710,
          4019,
          2140,
          null,
          348,
          13650,
          null,
          14040,
          1367,
          174,
          543,
          1906
         ],
         "yaxis": "y"
        }
       ],
       "layout": {
        "legend": {
         "tracegroupgap": 0
        },
        "template": {
         "data": {
          "bar": [
           {
            "error_x": {
             "color": "#2a3f5f"
            },
            "error_y": {
             "color": "#2a3f5f"
            },
            "marker": {
             "line": {
              "color": "#E5ECF6",
              "width": 0.5
             },
             "pattern": {
              "fillmode": "overlay",
              "size": 10,
              "solidity": 0.2
             }
            },
            "type": "bar"
           }
          ],
          "barpolar": [
           {
            "marker": {
             "line": {
              "color": "#E5ECF6",
              "width": 0.5
             },
             "pattern": {
              "fillmode": "overlay",
              "size": 10,
              "solidity": 0.2
             }
            },
            "type": "barpolar"
           }
          ],
          "carpet": [
           {
            "aaxis": {
             "endlinecolor": "#2a3f5f",
             "gridcolor": "white",
             "linecolor": "white",
             "minorgridcolor": "white",
             "startlinecolor": "#2a3f5f"
            },
            "baxis": {
             "endlinecolor": "#2a3f5f",
             "gridcolor": "white",
             "linecolor": "white",
             "minorgridcolor": "white",
             "startlinecolor": "#2a3f5f"
            },
            "type": "carpet"
           }
          ],
          "choropleth": [
           {
            "colorbar": {
             "outlinewidth": 0,
             "ticks": ""
            },
            "type": "choropleth"
           }
          ],
          "contour": [
           {
            "colorbar": {
             "outlinewidth": 0,
             "ticks": ""
            },
            "colorscale": [
             [
              0,
              "#0d0887"
             ],
             [
              0.1111111111111111,
              "#46039f"
             ],
             [
              0.2222222222222222,
              "#7201a8"
             ],
             [
              0.3333333333333333,
              "#9c179e"
             ],
             [
              0.4444444444444444,
              "#bd3786"
             ],
             [
              0.5555555555555556,
              "#d8576b"
             ],
             [
              0.6666666666666666,
              "#ed7953"
             ],
             [
              0.7777777777777778,
              "#fb9f3a"
             ],
             [
              0.8888888888888888,
              "#fdca26"
             ],
             [
              1,
              "#f0f921"
             ]
            ],
            "type": "contour"
           }
          ],
          "contourcarpet": [
           {
            "colorbar": {
             "outlinewidth": 0,
             "ticks": ""
            },
            "type": "contourcarpet"
           }
          ],
          "heatmap": [
           {
            "colorbar": {
             "outlinewidth": 0,
             "ticks": ""
            },
            "colorscale": [
             [
              0,
              "#0d0887"
             ],
             [
              0.1111111111111111,
              "#46039f"
             ],
             [
              0.2222222222222222,
              "#7201a8"
             ],
             [
              0.3333333333333333,
              "#9c179e"
             ],
             [
              0.4444444444444444,
              "#bd3786"
             ],
             [
              0.5555555555555556,
              "#d8576b"
             ],
             [
              0.6666666666666666,
              "#ed7953"
             ],
             [
              0.7777777777777778,
              "#fb9f3a"
             ],
             [
              0.8888888888888888,
              "#fdca26"
             ],
             [
              1,
              "#f0f921"
             ]
            ],
            "type": "heatmap"
           }
          ],
          "heatmapgl": [
           {
            "colorbar": {
             "outlinewidth": 0,
             "ticks": ""
            },
            "colorscale": [
             [
              0,
              "#0d0887"
             ],
             [
              0.1111111111111111,
              "#46039f"
             ],
             [
              0.2222222222222222,
              "#7201a8"
             ],
             [
              0.3333333333333333,
              "#9c179e"
             ],
             [
              0.4444444444444444,
              "#bd3786"
             ],
             [
              0.5555555555555556,
              "#d8576b"
             ],
             [
              0.6666666666666666,
              "#ed7953"
             ],
             [
              0.7777777777777778,
              "#fb9f3a"
             ],
             [
              0.8888888888888888,
              "#fdca26"
             ],
             [
              1,
              "#f0f921"
             ]
            ],
            "type": "heatmapgl"
           }
          ],
          "histogram": [
           {
            "marker": {
             "pattern": {
              "fillmode": "overlay",
              "size": 10,
              "solidity": 0.2
             }
            },
            "type": "histogram"
           }
          ],
          "histogram2d": [
           {
            "colorbar": {
             "outlinewidth": 0,
             "ticks": ""
            },
            "colorscale": [
             [
              0,
              "#0d0887"
             ],
             [
              0.1111111111111111,
              "#46039f"
             ],
             [
              0.2222222222222222,
              "#7201a8"
             ],
             [
              0.3333333333333333,
              "#9c179e"
             ],
             [
              0.4444444444444444,
              "#bd3786"
             ],
             [
              0.5555555555555556,
              "#d8576b"
             ],
             [
              0.6666666666666666,
              "#ed7953"
             ],
             [
              0.7777777777777778,
              "#fb9f3a"
             ],
             [
              0.8888888888888888,
              "#fdca26"
             ],
             [
              1,
              "#f0f921"
             ]
            ],
            "type": "histogram2d"
           }
          ],
          "histogram2dcontour": [
           {
            "colorbar": {
             "outlinewidth": 0,
             "ticks": ""
            },
            "colorscale": [
             [
              0,
              "#0d0887"
             ],
             [
              0.1111111111111111,
              "#46039f"
             ],
             [
              0.2222222222222222,
              "#7201a8"
             ],
             [
              0.3333333333333333,
              "#9c179e"
             ],
             [
              0.4444444444444444,
              "#bd3786"
             ],
             [
              0.5555555555555556,
              "#d8576b"
             ],
             [
              0.6666666666666666,
              "#ed7953"
             ],
             [
              0.7777777777777778,
              "#fb9f3a"
             ],
             [
              0.8888888888888888,
              "#fdca26"
             ],
             [
              1,
              "#f0f921"
             ]
            ],
            "type": "histogram2dcontour"
           }
          ],
          "mesh3d": [
           {
            "colorbar": {
             "outlinewidth": 0,
             "ticks": ""
            },
            "type": "mesh3d"
           }
          ],
          "parcoords": [
           {
            "line": {
             "colorbar": {
              "outlinewidth": 0,
              "ticks": ""
             }
            },
            "type": "parcoords"
           }
          ],
          "pie": [
           {
            "automargin": true,
            "type": "pie"
           }
          ],
          "scatter": [
           {
            "fillpattern": {
             "fillmode": "overlay",
             "size": 10,
             "solidity": 0.2
            },
            "type": "scatter"
           }
          ],
          "scatter3d": [
           {
            "line": {
             "colorbar": {
              "outlinewidth": 0,
              "ticks": ""
             }
            },
            "marker": {
             "colorbar": {
              "outlinewidth": 0,
              "ticks": ""
             }
            },
            "type": "scatter3d"
           }
          ],
          "scattercarpet": [
           {
            "marker": {
             "colorbar": {
              "outlinewidth": 0,
              "ticks": ""
             }
            },
            "type": "scattercarpet"
           }
          ],
          "scattergeo": [
           {
            "marker": {
             "colorbar": {
              "outlinewidth": 0,
              "ticks": ""
             }
            },
            "type": "scattergeo"
           }
          ],
          "scattergl": [
           {
            "marker": {
             "colorbar": {
              "outlinewidth": 0,
              "ticks": ""
             }
            },
            "type": "scattergl"
           }
          ],
          "scattermapbox": [
           {
            "marker": {
             "colorbar": {
              "outlinewidth": 0,
              "ticks": ""
             }
            },
            "type": "scattermapbox"
           }
          ],
          "scatterpolar": [
           {
            "marker": {
             "colorbar": {
              "outlinewidth": 0,
              "ticks": ""
             }
            },
            "type": "scatterpolar"
           }
          ],
          "scatterpolargl": [
           {
            "marker": {
             "colorbar": {
              "outlinewidth": 0,
              "ticks": ""
             }
            },
            "type": "scatterpolargl"
           }
          ],
          "scatterternary": [
           {
            "marker": {
             "colorbar": {
              "outlinewidth": 0,
              "ticks": ""
             }
            },
            "type": "scatterternary"
           }
          ],
          "surface": [
           {
            "colorbar": {
             "outlinewidth": 0,
             "ticks": ""
            },
            "colorscale": [
             [
              0,
              "#0d0887"
             ],
             [
              0.1111111111111111,
              "#46039f"
             ],
             [
              0.2222222222222222,
              "#7201a8"
             ],
             [
              0.3333333333333333,
              "#9c179e"
             ],
             [
              0.4444444444444444,
              "#bd3786"
             ],
             [
              0.5555555555555556,
              "#d8576b"
             ],
             [
              0.6666666666666666,
              "#ed7953"
             ],
             [
              0.7777777777777778,
              "#fb9f3a"
             ],
             [
              0.8888888888888888,
              "#fdca26"
             ],
             [
              1,
              "#f0f921"
             ]
            ],
            "type": "surface"
           }
          ],
          "table": [
           {
            "cells": {
             "fill": {
              "color": "#EBF0F8"
             },
             "line": {
              "color": "white"
             }
            },
            "header": {
             "fill": {
              "color": "#C8D4E3"
             },
             "line": {
              "color": "white"
             }
            },
            "type": "table"
           }
          ]
         },
         "layout": {
          "annotationdefaults": {
           "arrowcolor": "#2a3f5f",
           "arrowhead": 0,
           "arrowwidth": 1
          },
          "autotypenumbers": "strict",
          "coloraxis": {
           "colorbar": {
            "outlinewidth": 0,
            "ticks": ""
           }
          },
          "colorscale": {
           "diverging": [
            [
             0,
             "#8e0152"
            ],
            [
             0.1,
             "#c51b7d"
            ],
            [
             0.2,
             "#de77ae"
            ],
            [
             0.3,
             "#f1b6da"
            ],
            [
             0.4,
             "#fde0ef"
            ],
            [
             0.5,
             "#f7f7f7"
            ],
            [
             0.6,
             "#e6f5d0"
            ],
            [
             0.7,
             "#b8e186"
            ],
            [
             0.8,
             "#7fbc41"
            ],
            [
             0.9,
             "#4d9221"
            ],
            [
             1,
             "#276419"
            ]
           ],
           "sequential": [
            [
             0,
             "#0d0887"
            ],
            [
             0.1111111111111111,
             "#46039f"
            ],
            [
             0.2222222222222222,
             "#7201a8"
            ],
            [
             0.3333333333333333,
             "#9c179e"
            ],
            [
             0.4444444444444444,
             "#bd3786"
            ],
            [
             0.5555555555555556,
             "#d8576b"
            ],
            [
             0.6666666666666666,
             "#ed7953"
            ],
            [
             0.7777777777777778,
             "#fb9f3a"
            ],
            [
             0.8888888888888888,
             "#fdca26"
            ],
            [
             1,
             "#f0f921"
            ]
           ],
           "sequentialminus": [
            [
             0,
             "#0d0887"
            ],
            [
             0.1111111111111111,
             "#46039f"
            ],
            [
             0.2222222222222222,
             "#7201a8"
            ],
            [
             0.3333333333333333,
             "#9c179e"
            ],
            [
             0.4444444444444444,
             "#bd3786"
            ],
            [
             0.5555555555555556,
             "#d8576b"
            ],
            [
             0.6666666666666666,
             "#ed7953"
            ],
            [
             0.7777777777777778,
             "#fb9f3a"
            ],
            [
             0.8888888888888888,
             "#fdca26"
            ],
            [
             1,
             "#f0f921"
            ]
           ]
          },
          "colorway": [
           "#636efa",
           "#EF553B",
           "#00cc96",
           "#ab63fa",
           "#FFA15A",
           "#19d3f3",
           "#FF6692",
           "#B6E880",
           "#FF97FF",
           "#FECB52"
          ],
          "font": {
           "color": "#2a3f5f"
          },
          "geo": {
           "bgcolor": "white",
           "lakecolor": "white",
           "landcolor": "#E5ECF6",
           "showlakes": true,
           "showland": true,
           "subunitcolor": "white"
          },
          "hoverlabel": {
           "align": "left"
          },
          "hovermode": "closest",
          "mapbox": {
           "style": "light"
          },
          "paper_bgcolor": "white",
          "plot_bgcolor": "#E5ECF6",
          "polar": {
           "angularaxis": {
            "gridcolor": "white",
            "linecolor": "white",
            "ticks": ""
           },
           "bgcolor": "#E5ECF6",
           "radialaxis": {
            "gridcolor": "white",
            "linecolor": "white",
            "ticks": ""
           }
          },
          "scene": {
           "xaxis": {
            "backgroundcolor": "#E5ECF6",
            "gridcolor": "white",
            "gridwidth": 2,
            "linecolor": "white",
            "showbackground": true,
            "ticks": "",
            "zerolinecolor": "white"
           },
           "yaxis": {
            "backgroundcolor": "#E5ECF6",
            "gridcolor": "white",
            "gridwidth": 2,
            "linecolor": "white",
            "showbackground": true,
            "ticks": "",
            "zerolinecolor": "white"
           },
           "zaxis": {
            "backgroundcolor": "#E5ECF6",
            "gridcolor": "white",
            "gridwidth": 2,
            "linecolor": "white",
            "showbackground": true,
            "ticks": "",
            "zerolinecolor": "white"
           }
          },
          "shapedefaults": {
           "line": {
            "color": "#2a3f5f"
           }
          },
          "ternary": {
           "aaxis": {
            "gridcolor": "white",
            "linecolor": "white",
            "ticks": ""
           },
           "baxis": {
            "gridcolor": "white",
            "linecolor": "white",
            "ticks": ""
           },
           "bgcolor": "#E5ECF6",
           "caxis": {
            "gridcolor": "white",
            "linecolor": "white",
            "ticks": ""
           }
          },
          "title": {
           "x": 0.05
          },
          "xaxis": {
           "automargin": true,
           "gridcolor": "white",
           "linecolor": "white",
           "ticks": "",
           "title": {
            "standoff": 15
           },
           "zerolinecolor": "white",
           "zerolinewidth": 2
          },
          "yaxis": {
           "automargin": true,
           "gridcolor": "white",
           "linecolor": "white",
           "ticks": "",
           "title": {
            "standoff": 15
           },
           "zerolinecolor": "white",
           "zerolinewidth": 2
          }
         }
        },
        "title": {
         "text": "Outage Duration and Anomaly Level"
        },
        "xaxis": {
         "anchor": "y",
         "domain": [
          0,
          1
         ],
         "title": {
          "text": "Anomaly Level"
         }
        },
        "yaxis": {
         "anchor": "x",
         "domain": [
          0,
          1
         ],
         "title": {
          "text": "Outage Duration"
         }
        }
       }
      },
      "text/html": [
       "<div>                            <div id=\"295f9a03-f4c2-4654-84bf-1689180ddd88\" class=\"plotly-graph-div\" style=\"height:525px; width:100%;\"></div>            <script type=\"text/javascript\">                require([\"plotly\"], function(Plotly) {                    window.PLOTLYENV=window.PLOTLYENV || {};                                    if (document.getElementById(\"295f9a03-f4c2-4654-84bf-1689180ddd88\")) {                    Plotly.newPlot(                        \"295f9a03-f4c2-4654-84bf-1689180ddd88\",                        [{\"hovertemplate\":\"Anomaly Level=%{x}\\u003cbr\\u003eOutage Duration=%{y}\\u003cextra\\u003e\\u003c\\u002fextra\\u003e\",\"legendgroup\":\"\",\"marker\":{\"color\":\"#636efa\",\"symbol\":\"circle\"},\"mode\":\"markers\",\"name\":\"\",\"orientation\":\"v\",\"showlegend\":false,\"x\":[-0.3,-1.5,-0.1,1.2,-1.4,-0.9,0.2,-0.2,-0.2,0.0,0.0,-0.5,-1.3,0.6,0.1,-0.5,-0.3,-0.5,0.0,-0.5,0.5,0.0,-0.5,-0.5,-0.4,-0.5,0.4,-0.4,-0.5,-0.5,-0.7,-0.5,-0.3,0.1,0.0,-1.5,0.0,-0.3,0.0,0.3,-0.1,-0.4,0.0,0.3,2.0,-0.4,0.0,-0.4,-0.2,-0.4,-0.1,-1.3,2.2,-0.4,0.9,0.2,0.4,0.2,-0.3,-0.5,0.1,-1.0,-0.3,0.3,-0.1,0.2,1.4,-0.3,-0.7,0.1,-0.7,1.0,-0.3,-1.5,-1.4,0.7,1.3,1.7,-0.6,-0.2,0.5,-1.2,-0.5,-0.4,-0.3,-0.2,-1.4,-0.4,-0.4,-0.7,-0.5,-0.4,0.2,0.0,-0.2,-0.5,-0.9,0.2,-0.3,-0.2,0.3,-0.3,0.2,-0.2,-0.3,0.7,-0.6,1.4,-0.4,0.4,-0.5,0.1,0.1,0.5,-0.9,2.3,-0.3,-0.3,0.7,-1.4,-0.2,-0.4,-0.8,-0.6,-1.0,-0.3,-0.5,0.6,0.7,0.8,-0.4,-0.4,-0.9,0.1,-0.7,-0.4,0.7,-0.6,0.0,0.1,-0.3,2.0,-1.0,-0.2,-0.3,0.5,-0.6,-0.4,-0.3,0.9,0.1,1.1,0.5,-0.3,-0.3,1.2,0.0,-0.1,-0.3,0.1,-0.9,-0.3,-1.4,-0.4,-0.1,-0.5,0.7,0.5,-0.4,0.2,-0.3,0.8,0.3,-0.3,0.8,-0.1,-0.3,0.3,-0.2,-1.2,2.3,1.1,-0.2,0.4,-0.8,0.2,1.4,-0.7,0.3,0.0,0.5,-0.3,-0.7,-0.3,-0.3,-0.3,-0.1,0.1,0.7,0.3,-0.4,-0.2,-0.2,-0.4,-0.7,0.1,-0.4,-0.3,-0.4,-0.7,-0.5,-0.4,-0.7,0.0,null,-0.8,-0.5,1.2,-0.4,-0.7,-0.6,-0.1,-1.5,0.1,-0.3,0.7,-0.4,-0.3,0.0,0.4,0.6,-0.3,0.1,null,0.1,-0.7,-0.2,-0.3,0.1,-0.3,-0.5,-0.3,-0.6,0.5,-0.4,-1.3,-0.4,1.4,0.3,-0.5,-0.5,0.3,-1.5,0.1,-0.3,0.1,-1.0,-0.3,-0.5,0.2,-1.4,1.4,0.3,0.9,-0.7,2.3,0.7,-0.3,-0.6,1.6,1.4,-1.1,2.2,-1.4,2.2,0.9,0.3,0.9,-0.6,0.9,0.9,0.9,0.1,1.4,0.5,1.3,-0.7,0.5,-0.1,0.3,-0.6,-0.5,0.7,-0.6,0.0,-0.5,-0.6,0.3,-1.0,-0.5,0.0,-0.9,0.2,-1.3,0.0,-0.1,0.3,-0.5,0.3,0.2,0.3,-0.5,0.4,-0.1,0.2,0.4,-0.9,-0.6,-0.1,0.0,0.1,-0.9,0.5,1.2,-0.9,-0.5,0.3,0.5,0.0,-1.4,0.1,0.2,-0.6,-0.7,-1.4,0.7,0.1,-0.9,0.0,1.0,-0.5,-1.0,0.3,-0.3,-1.0,-0.3,0.9,-0.6,-0.5,-0.3,-0.6,0.1,-0.6,0.1,-0.5,-0.5,-0.4,-0.5,-1.1,-0.5,1.1,-0.6,0.1,1.1,-0.9,0.3,-0.4,1.2,-0.5,-0.6,-0.6,-0.3,-1.3,-0.7,-0.7,-0.3,-0.7,-0.4,-0.9,0.2,0.2,0.3,-0.3,-0.3,-1.4,0.1,-0.1,-0.6,0.1,-0.6,0.7,-0.3,0.5,0.1,0.5,-0.4,-0.4,-0.3,0.9,-0.6,-0.3,-0.3,1.3,-0.5,0.3,-0.7,0.0,0.0,-0.5,-0.3,0.1,-0.5,-0.2,0.5,0.1,-0.3,-1.3,-0.5,-0.5,0.7,-0.4,0.5,0.5,-0.2,0.2,0.7,-0.6,-0.4,-0.2,1.3,-0.5,-0.6,null,-0.3,0.2,-0.4,0.5,-0.6,-0.9,-0.7,0.1,1.0,-0.5,-0.6,1.0,2.2,-0.6,-0.5,0.3,-0.4,-0.1,0.3,0.9,-0.3,-0.6,1.2,0.3,-0.9,0.9,0.6,-0.3,-0.5,-0.5,-1.6,0.3,-1.6,-0.5,-0.7,0.6,0.9,0.9,0.9,1.2,-0.6,-1.2,0.2,-1.3,-0.5,-0.2,-0.1,-1.2,0.2,-0.7,-0.7,-0.6,-0.7,-0.4,-0.4,-0.5,-0.2,-0.4,-0.2,1.0,-0.5,0.4,0.4,-0.5,0.0,0.3,0.3,-0.6,-0.6,-0.9,-0.3,-0.4,-0.7,-0.2,-0.3,0.9,-0.7,-1.4,-0.5,-0.3,-0.9,-0.3,-0.6,0.9,1.2,-0.6,1.2,0.3,-0.6,0.2,-0.6,0.7,-0.6,0.7,0.3,-0.9,0.1,0.3,-0.1,0.7,0.0,0.6,-0.1,-0.3,-0.3,-0.3,0.0,0.3,0.3,1.1,0.0,0.3,-0.5,0.3,-0.1,0.0,-0.3,-0.7,-0.2,0.6,0.1,-0.1,0.7,0.0,-0.3,0.7,0.6,-0.2,0.7,0.7,0.7,0.7,-0.2,0.7,0.6,-0.1,0.6,0.7,-0.7,-0.9,0.0,0.1,-0.3,-0.2,-0.4,-0.7,-1.0,-1.4,0.9,0.7,-0.5,1.3,1.0,0.9,0.0,0.7,1.3,-0.3,-0.6,-0.9,0.1,-1.0,-1.0,0.3,-0.6,1.2,-1.4,0.3,1.3,0.7,1.3,0.3,-0.1,0.3,1.2,2.3,-0.5,0.9,-0.9,0.5,-0.7,0.1,1.1,2.0,-1.5,-0.4,-0.7,-0.7,0.2,-1.1,-0.9,-0.9,-1.1,-1.1,0.3,-0.1,-0.1,0.3,1.1,-0.1,-1.1,2.3,-0.9,-0.6,0.5,-1.4,0.5,-0.4,0.4,-0.7,-0.7,0.3,-0.5,-0.2,-0.5,1.2,1.1,-0.1,-0.2,-0.5,-0.3,-0.6,-0.3,0.5,1.2,0.3,-0.9,-0.4,-1.3,0.3,-0.3,-0.4,-0.4,-0.9,-0.9,-0.1,0.3,-1.2,-0.4,-0.5,-1.3,-0.3,1.1,0.1,0.1,-0.6,0.1,-1.0,-0.6,-0.2,-0.1,-0.5,0.3,0.9,0.9,0.3,0.7,0.3,0.7,-0.4,-0.3,-0.7,0.5,0.9,-0.7,0.6,-0.5,0.4,-0.5,0.7,-0.3,-0.6,0.4,-0.7,-0.4,-0.2,-0.9,0.9,1.2,0.1,-0.4,2.3,-0.2,-0.3,1.3,1.2,-1.3,2.3,-0.3,2.2,-0.6,-0.2,-0.2,-0.3,0.3,2.2,2.3,-0.4,-1.3,-0.6,-0.4,0.3,0.3,0.6,0.3,-0.1,-0.6,-0.7,-0.7,-1.3,-1.4,-0.3,-0.4,0.3,-0.1,0.3,-0.1,-0.9,0.5,1.6,0.7,null,0.7,-1.3,1.0,0.7,-0.7,-0.4,0.7,0.7],\"xaxis\":\"x\",\"y\":[3060.0,3000.0,2550.0,1740.0,1860.0,2970.0,3960.0,3621.0,7740.0,8880.0,60.0,196.0,840.0,935.0,1260.0,150.0,0.0,660.0,1.0,4921.0,251.0,4125.0,2550.0,1200.0,2818.0,5054.0,136.0,528.0,150.0,1920.0,32.0,3000.0,32.0,960.0,4410.0,480.0,538.0,1272.0,1000.0,17339.0,9576.0,3090.0,6510.0,5820.0,1513.0,4830.0,4200.0,5730.0,4290.0,2670.0,3540.0,3637.0,1710.0,4320.0,3915.0,3120.0,4590.0,7530.0,5034.0,8160.0,3300.0,4320.0,9857.0,4080.0,5670.0,5700.0,1995.0,300.0,5115.0,2670.0,7650.0,4338.0,5760.0,2820.0,4110.0,3360.0,3015.0,232.0,6420.0,46080.0,5700.0,5610.0,270.0,4050.0,5865.0,2325.0,4170.0,4485.0,5580.0,705.0,11850.0,3494.0,4560.0,2760.0,5760.0,8922.0,6030.0,7800.0,4242.0,3120.0,5700.0,900.0,7620.0,3630.0,1260.0,5840.0,5790.0,2820.0,600.0,4259.0,2939.0,7080.0,3600.0,1588.0,4260.0,2700.0,8430.0,85.0,9150.0,1019.0,420.0,1140.0,7440.0,4458.0,1203.0,1455.0,1559.0,900.0,2690.0,5115.0,2142.0,360.0,2340.0,9486.0,480.0,300.0,3020.0,1335.0,12180.0,690.0,27698.0,2420.0,327.0,1860.0,847.0,215.0,570.0,12124.0,2655.0,600.0,181.0,1185.0,1500.0,1860.0,1200.0,6300.0,1620.0,2220.0,7809.0,1200.0,5595.0,3360.0,685.0,2280.0,1920.0,3569.0,3300.0,1560.0,840.0,17865.0,1080.0,1320.0,1110.0,27698.0,3040.0,10140.0,21540.0,1200.0,900.0,940.0,null,3050.0,1830.0,6000.0,1500.0,150.0,1955.0,2220.0,420.0,1060.0,5250.0,4320.0,2120.0,4320.0,2146.0,4032.0,2580.0,569.0,15950.0,200.0,1980.0,4045.0,2730.0,3314.0,7319.0,1440.0,3646.0,1130.0,513.0,23773.0,10.0,3872.0,12240.0,390.0,null,3264.0,1230.0,803.0,2680.0,null,7609.0,150.0,3000.0,420.0,479.0,1680.0,2700.0,1110.0,2790.0,659.0,1320.0,1830.0,3000.0,null,870.0,810.0,1336.0,1695.0,360.0,360.0,120.0,3000.0,1290.0,1530.0,2370.0,1200.0,1200.0,90.0,120.0,1200.0,720.0,1120.0,2100.0,960.0,450.0,1440.0,1020.0,0.0,2010.0,9230.0,2460.0,8880.0,5340.0,8940.0,1920.0,420.0,2040.0,3300.0,6690.0,null,null,6276.0,null,2700.0,null,2639.0,6480.0,9630.0,3507.0,2820.0,5855.0,22769.0,4285.0,2520.0,49320.0,4200.0,66.0,49320.0,2021.0,1671.0,3938.0,4470.0,2279.0,4440.0,2760.0,1840.0,1980.0,1950.0,3037.0,1196.0,5628.0,7700.0,12890.0,4232.0,2610.0,4320.0,2507.0,1.0,4920.0,4080.0,185.0,1320.0,2855.0,3060.0,7298.0,5790.0,3040.0,11700.0,7987.0,4517.0,3058.0,13381.0,2865.0,9450.0,7803.0,5579.0,8979.0,4800.0,3060.0,4792.0,3894.0,1757.0,2880.0,2985.0,3232.0,2319.0,4338.0,2880.0,1714.0,90.0,59.0,4139.0,10530.0,6938.0,930.0,299.0,5320.0,2880.0,1.0,6713.0,5160.0,1440.0,78.0,7523.0,2668.0,1.0,1324.0,6940.0,2684.0,54.0,720.0,2880.0,3189.0,2790.0,13679.0,13488.0,7709.0,7080.0,1.0,1680.0,1579.0,300.0,1020.0,3570.0,6492.0,10499.0,15180.0,283.0,1631.0,4920.0,4920.0,420.0,21.0,4200.0,805.0,5040.0,7430.0,5490.0,165.0,3630.0,11640.0,1590.0,7920.0,1372.0,6480.0,2190.0,1843.0,11531.0,1420.0,930.0,11420.0,960.0,1733.0,3690.0,10619.0,11280.0,1440.0,180.0,1574.0,388.0,373.0,4510.0,290.0,1950.0,270.0,1355.0,1318.0,2490.0,1265.0,3388.0,1025.0,990.0,240.0,1485.0,1528.0,1890.0,2551.0,985.0,1698.0,1460.0,182.0,4113.0,null,885.0,15.0,1050.0,4140.0,2880.0,11430.0,3599.0,2941.0,null,6090.0,2520.0,10080.0,76.0,3720.0,333.0,11337.0,7020.0,11058.0,9360.0,3300.0,3339.0,2880.0,11580.0,9600.0,13201.0,9719.0,488.0,2415.0,180.0,4177.0,7440.0,3480.0,6600.0,300.0,1526.0,210.0,4380.0,4313.0,1050.0,9886.0,2425.0,390.0,14500.0,6660.0,54.0,30.0,8077.0,855.0,810.0,4150.0,4740.0,2070.0,870.0,12652.0,2880.0,120.0,1470.0,4140.0,15420.0,4254.0,53.0,347.0,1044.0,8670.0,2089.0,20280.0,14639.0,2880.0,1.0,5355.0,3943.0,3300.0,10726.0,2515.0,2730.0,9480.0,5400.0,3584.0,4710.0,1800.0,6074.0,49.0,2299.0,5760.0,7320.0,448.0,2520.0,2100.0,8221.0,3240.0,2880.0,13140.0,8640.0,15492.0,8268.0,7962.0,11296.0,8054.0,2160.0,2100.0,1440.0,null,692.0,13215.0,17812.0,20416.0,6240.0,3067.0,3060.0,null,18804.0,1867.0,1690.0,240.0,17520.0,8189.0,5820.0,2009.0,720.0,480.0,1005.0,13430.0,3600.0,10080.0,5071.0,6840.0,221.0,24780.0,7560.0,10380.0,2040.0,12060.0,1080.0,1680.0,13920.0,14101.0,1099.0,2460.0,540.0,420.0,437.0,180.0,656.0,255.0,1054.0,1456.0,2464.0,523.0,8472.0,2790.0,224.0,1470.0,2050.0,125.0,365.0,4740.0,294.0,455.0,2645.0,2016.0,7371.0,3408.0,4890.0,2759.0,435.0,5160.0,15180.0,721.0,14190.0,900.0,6070.0,5910.0,null,34390.0,166.0,15.0,13.0,390.0,47.0,null,8100.0,180.0,2820.0,989.0,2895.0,252.0,130.0,6914.0,270.0,962.0,47.0,9855.0,17.0,21.0,1950.0,617.0,1230.0,572.0,6780.0,null,37.0,72.0,300.0,751.0,8.0,5227.0,1414.0,4605.0,4080.0,10274.0,2700.0,210.0,1201.0,30.0,2806.0,1226.0,8160.0,126.0,285.0,424.0,180.0,0.0,448.0,624.0,2435.0,131.0,208.0,103.0,1355.0,1523.0,90.0,1205.0,385.0,144.0,235.0,6787.0,1673.0,3366.0,2640.0,1826.0,570.0,1565.0,2691.0,1072.0,115.0,816.0,168.0,160.0,485.0,1508.0,1301.0,60.0,4.0,9600.0,106.0,810.0,1380.0,1800.0,1560.0,2054.0,1452.0,1865.0,1999.0,120.0,1950.0,360.0,1087.0,1200.0,4122.0,360.0,645.0,1440.0,4560.0,110.0,210.0,4260.0,76.0,3305.0,5880.0,145.0,2640.0,1042.0,11880.0,2245.0,7200.0,148.0,13972.0,null,796.0,null,2612.0,3000.0,5310.0,1732.0,6685.0,3300.0,280.0,2895.0,480.0,1.0,4745.0,1656.0,3525.0,374.0,115.0,3604.0,2108.0,198.0,3667.0,1037.0,673.0,2652.0,618.0,1187.0,950.0,2535.0,660.0,2040.0,2710.0,4019.0,2140.0,null,348.0,13650.0,null,14040.0,1367.0,174.0,543.0,1906.0],\"yaxis\":\"y\",\"type\":\"scatter\"}],                        {\"template\":{\"data\":{\"histogram2dcontour\":[{\"type\":\"histogram2dcontour\",\"colorbar\":{\"outlinewidth\":0,\"ticks\":\"\"},\"colorscale\":[[0.0,\"#0d0887\"],[0.1111111111111111,\"#46039f\"],[0.2222222222222222,\"#7201a8\"],[0.3333333333333333,\"#9c179e\"],[0.4444444444444444,\"#bd3786\"],[0.5555555555555556,\"#d8576b\"],[0.6666666666666666,\"#ed7953\"],[0.7777777777777778,\"#fb9f3a\"],[0.8888888888888888,\"#fdca26\"],[1.0,\"#f0f921\"]]}],\"choropleth\":[{\"type\":\"choropleth\",\"colorbar\":{\"outlinewidth\":0,\"ticks\":\"\"}}],\"histogram2d\":[{\"type\":\"histogram2d\",\"colorbar\":{\"outlinewidth\":0,\"ticks\":\"\"},\"colorscale\":[[0.0,\"#0d0887\"],[0.1111111111111111,\"#46039f\"],[0.2222222222222222,\"#7201a8\"],[0.3333333333333333,\"#9c179e\"],[0.4444444444444444,\"#bd3786\"],[0.5555555555555556,\"#d8576b\"],[0.6666666666666666,\"#ed7953\"],[0.7777777777777778,\"#fb9f3a\"],[0.8888888888888888,\"#fdca26\"],[1.0,\"#f0f921\"]]}],\"heatmap\":[{\"type\":\"heatmap\",\"colorbar\":{\"outlinewidth\":0,\"ticks\":\"\"},\"colorscale\":[[0.0,\"#0d0887\"],[0.1111111111111111,\"#46039f\"],[0.2222222222222222,\"#7201a8\"],[0.3333333333333333,\"#9c179e\"],[0.4444444444444444,\"#bd3786\"],[0.5555555555555556,\"#d8576b\"],[0.6666666666666666,\"#ed7953\"],[0.7777777777777778,\"#fb9f3a\"],[0.8888888888888888,\"#fdca26\"],[1.0,\"#f0f921\"]]}],\"heatmapgl\":[{\"type\":\"heatmapgl\",\"colorbar\":{\"outlinewidth\":0,\"ticks\":\"\"},\"colorscale\":[[0.0,\"#0d0887\"],[0.1111111111111111,\"#46039f\"],[0.2222222222222222,\"#7201a8\"],[0.3333333333333333,\"#9c179e\"],[0.4444444444444444,\"#bd3786\"],[0.5555555555555556,\"#d8576b\"],[0.6666666666666666,\"#ed7953\"],[0.7777777777777778,\"#fb9f3a\"],[0.8888888888888888,\"#fdca26\"],[1.0,\"#f0f921\"]]}],\"contourcarpet\":[{\"type\":\"contourcarpet\",\"colorbar\":{\"outlinewidth\":0,\"ticks\":\"\"}}],\"contour\":[{\"type\":\"contour\",\"colorbar\":{\"outlinewidth\":0,\"ticks\":\"\"},\"colorscale\":[[0.0,\"#0d0887\"],[0.1111111111111111,\"#46039f\"],[0.2222222222222222,\"#7201a8\"],[0.3333333333333333,\"#9c179e\"],[0.4444444444444444,\"#bd3786\"],[0.5555555555555556,\"#d8576b\"],[0.6666666666666666,\"#ed7953\"],[0.7777777777777778,\"#fb9f3a\"],[0.8888888888888888,\"#fdca26\"],[1.0,\"#f0f921\"]]}],\"surface\":[{\"type\":\"surface\",\"colorbar\":{\"outlinewidth\":0,\"ticks\":\"\"},\"colorscale\":[[0.0,\"#0d0887\"],[0.1111111111111111,\"#46039f\"],[0.2222222222222222,\"#7201a8\"],[0.3333333333333333,\"#9c179e\"],[0.4444444444444444,\"#bd3786\"],[0.5555555555555556,\"#d8576b\"],[0.6666666666666666,\"#ed7953\"],[0.7777777777777778,\"#fb9f3a\"],[0.8888888888888888,\"#fdca26\"],[1.0,\"#f0f921\"]]}],\"mesh3d\":[{\"type\":\"mesh3d\",\"colorbar\":{\"outlinewidth\":0,\"ticks\":\"\"}}],\"scatter\":[{\"fillpattern\":{\"fillmode\":\"overlay\",\"size\":10,\"solidity\":0.2},\"type\":\"scatter\"}],\"parcoords\":[{\"type\":\"parcoords\",\"line\":{\"colorbar\":{\"outlinewidth\":0,\"ticks\":\"\"}}}],\"scatterpolargl\":[{\"type\":\"scatterpolargl\",\"marker\":{\"colorbar\":{\"outlinewidth\":0,\"ticks\":\"\"}}}],\"bar\":[{\"error_x\":{\"color\":\"#2a3f5f\"},\"error_y\":{\"color\":\"#2a3f5f\"},\"marker\":{\"line\":{\"color\":\"#E5ECF6\",\"width\":0.5},\"pattern\":{\"fillmode\":\"overlay\",\"size\":10,\"solidity\":0.2}},\"type\":\"bar\"}],\"scattergeo\":[{\"type\":\"scattergeo\",\"marker\":{\"colorbar\":{\"outlinewidth\":0,\"ticks\":\"\"}}}],\"scatterpolar\":[{\"type\":\"scatterpolar\",\"marker\":{\"colorbar\":{\"outlinewidth\":0,\"ticks\":\"\"}}}],\"histogram\":[{\"marker\":{\"pattern\":{\"fillmode\":\"overlay\",\"size\":10,\"solidity\":0.2}},\"type\":\"histogram\"}],\"scattergl\":[{\"type\":\"scattergl\",\"marker\":{\"colorbar\":{\"outlinewidth\":0,\"ticks\":\"\"}}}],\"scatter3d\":[{\"type\":\"scatter3d\",\"line\":{\"colorbar\":{\"outlinewidth\":0,\"ticks\":\"\"}},\"marker\":{\"colorbar\":{\"outlinewidth\":0,\"ticks\":\"\"}}}],\"scattermapbox\":[{\"type\":\"scattermapbox\",\"marker\":{\"colorbar\":{\"outlinewidth\":0,\"ticks\":\"\"}}}],\"scatterternary\":[{\"type\":\"scatterternary\",\"marker\":{\"colorbar\":{\"outlinewidth\":0,\"ticks\":\"\"}}}],\"scattercarpet\":[{\"type\":\"scattercarpet\",\"marker\":{\"colorbar\":{\"outlinewidth\":0,\"ticks\":\"\"}}}],\"carpet\":[{\"aaxis\":{\"endlinecolor\":\"#2a3f5f\",\"gridcolor\":\"white\",\"linecolor\":\"white\",\"minorgridcolor\":\"white\",\"startlinecolor\":\"#2a3f5f\"},\"baxis\":{\"endlinecolor\":\"#2a3f5f\",\"gridcolor\":\"white\",\"linecolor\":\"white\",\"minorgridcolor\":\"white\",\"startlinecolor\":\"#2a3f5f\"},\"type\":\"carpet\"}],\"table\":[{\"cells\":{\"fill\":{\"color\":\"#EBF0F8\"},\"line\":{\"color\":\"white\"}},\"header\":{\"fill\":{\"color\":\"#C8D4E3\"},\"line\":{\"color\":\"white\"}},\"type\":\"table\"}],\"barpolar\":[{\"marker\":{\"line\":{\"color\":\"#E5ECF6\",\"width\":0.5},\"pattern\":{\"fillmode\":\"overlay\",\"size\":10,\"solidity\":0.2}},\"type\":\"barpolar\"}],\"pie\":[{\"automargin\":true,\"type\":\"pie\"}]},\"layout\":{\"autotypenumbers\":\"strict\",\"colorway\":[\"#636efa\",\"#EF553B\",\"#00cc96\",\"#ab63fa\",\"#FFA15A\",\"#19d3f3\",\"#FF6692\",\"#B6E880\",\"#FF97FF\",\"#FECB52\"],\"font\":{\"color\":\"#2a3f5f\"},\"hovermode\":\"closest\",\"hoverlabel\":{\"align\":\"left\"},\"paper_bgcolor\":\"white\",\"plot_bgcolor\":\"#E5ECF6\",\"polar\":{\"bgcolor\":\"#E5ECF6\",\"angularaxis\":{\"gridcolor\":\"white\",\"linecolor\":\"white\",\"ticks\":\"\"},\"radialaxis\":{\"gridcolor\":\"white\",\"linecolor\":\"white\",\"ticks\":\"\"}},\"ternary\":{\"bgcolor\":\"#E5ECF6\",\"aaxis\":{\"gridcolor\":\"white\",\"linecolor\":\"white\",\"ticks\":\"\"},\"baxis\":{\"gridcolor\":\"white\",\"linecolor\":\"white\",\"ticks\":\"\"},\"caxis\":{\"gridcolor\":\"white\",\"linecolor\":\"white\",\"ticks\":\"\"}},\"coloraxis\":{\"colorbar\":{\"outlinewidth\":0,\"ticks\":\"\"}},\"colorscale\":{\"sequential\":[[0.0,\"#0d0887\"],[0.1111111111111111,\"#46039f\"],[0.2222222222222222,\"#7201a8\"],[0.3333333333333333,\"#9c179e\"],[0.4444444444444444,\"#bd3786\"],[0.5555555555555556,\"#d8576b\"],[0.6666666666666666,\"#ed7953\"],[0.7777777777777778,\"#fb9f3a\"],[0.8888888888888888,\"#fdca26\"],[1.0,\"#f0f921\"]],\"sequentialminus\":[[0.0,\"#0d0887\"],[0.1111111111111111,\"#46039f\"],[0.2222222222222222,\"#7201a8\"],[0.3333333333333333,\"#9c179e\"],[0.4444444444444444,\"#bd3786\"],[0.5555555555555556,\"#d8576b\"],[0.6666666666666666,\"#ed7953\"],[0.7777777777777778,\"#fb9f3a\"],[0.8888888888888888,\"#fdca26\"],[1.0,\"#f0f921\"]],\"diverging\":[[0,\"#8e0152\"],[0.1,\"#c51b7d\"],[0.2,\"#de77ae\"],[0.3,\"#f1b6da\"],[0.4,\"#fde0ef\"],[0.5,\"#f7f7f7\"],[0.6,\"#e6f5d0\"],[0.7,\"#b8e186\"],[0.8,\"#7fbc41\"],[0.9,\"#4d9221\"],[1,\"#276419\"]]},\"xaxis\":{\"gridcolor\":\"white\",\"linecolor\":\"white\",\"ticks\":\"\",\"title\":{\"standoff\":15},\"zerolinecolor\":\"white\",\"automargin\":true,\"zerolinewidth\":2},\"yaxis\":{\"gridcolor\":\"white\",\"linecolor\":\"white\",\"ticks\":\"\",\"title\":{\"standoff\":15},\"zerolinecolor\":\"white\",\"automargin\":true,\"zerolinewidth\":2},\"scene\":{\"xaxis\":{\"backgroundcolor\":\"#E5ECF6\",\"gridcolor\":\"white\",\"linecolor\":\"white\",\"showbackground\":true,\"ticks\":\"\",\"zerolinecolor\":\"white\",\"gridwidth\":2},\"yaxis\":{\"backgroundcolor\":\"#E5ECF6\",\"gridcolor\":\"white\",\"linecolor\":\"white\",\"showbackground\":true,\"ticks\":\"\",\"zerolinecolor\":\"white\",\"gridwidth\":2},\"zaxis\":{\"backgroundcolor\":\"#E5ECF6\",\"gridcolor\":\"white\",\"linecolor\":\"white\",\"showbackground\":true,\"ticks\":\"\",\"zerolinecolor\":\"white\",\"gridwidth\":2}},\"shapedefaults\":{\"line\":{\"color\":\"#2a3f5f\"}},\"annotationdefaults\":{\"arrowcolor\":\"#2a3f5f\",\"arrowhead\":0,\"arrowwidth\":1},\"geo\":{\"bgcolor\":\"white\",\"landcolor\":\"#E5ECF6\",\"subunitcolor\":\"white\",\"showland\":true,\"showlakes\":true,\"lakecolor\":\"white\"},\"title\":{\"x\":0.05},\"mapbox\":{\"style\":\"light\"}}},\"xaxis\":{\"anchor\":\"y\",\"domain\":[0.0,1.0],\"title\":{\"text\":\"Anomaly Level\"}},\"yaxis\":{\"anchor\":\"x\",\"domain\":[0.0,1.0],\"title\":{\"text\":\"Outage Duration\"}},\"legend\":{\"tracegroupgap\":0},\"title\":{\"text\":\"Outage Duration and Anomaly Level\"}},                        {\"responsive\": true}                    ).then(function(){\n",
       "                            \n",
       "var gd = document.getElementById('295f9a03-f4c2-4654-84bf-1689180ddd88');\n",
       "var x = new MutationObserver(function (mutations, observer) {{\n",
       "        var display = window.getComputedStyle(gd).display;\n",
       "        if (!display || display === 'none') {{\n",
       "            console.log([gd, 'removed!']);\n",
       "            Plotly.purge(gd);\n",
       "            observer.disconnect();\n",
       "        }}\n",
       "}});\n",
       "\n",
       "// Listen for the removal of the full notebook cells\n",
       "var notebookContainer = gd.closest('#notebook-container');\n",
       "if (notebookContainer) {{\n",
       "    x.observe(notebookContainer, {childList: true});\n",
       "}}\n",
       "\n",
       "// Listen for the clearing of the current output cell\n",
       "var outputEl = gd.closest('.output');\n",
       "if (outputEl) {{\n",
       "    x.observe(outputEl, {childList: true});\n",
       "}}\n",
       "\n",
       "                        })                };                });            </script>        </div>"
      ]
     },
     "metadata": {},
     "output_type": "display_data"
    }
   ],
   "source": [
    "# here we are plotting the anomaly level with outage duration\n",
    "\n",
    "fig6 = px.scatter(x=severe_weather[\"ANOMALY.LEVEL\"], \n",
    "                  y=severe_weather[\"OUTAGE.DURATION\"], \n",
    "                 labels={'x': 'Anomaly Level', 'y':'Outage Duration'},\n",
    "                 title=\"Outage Duration and Anomaly Level\")\n",
    "fig6.show()"
   ]
  },
  {
   "cell_type": "markdown",
   "metadata": {},
   "source": [
    "We can see that the highest mean outage duration values are around -0.5 and 0.5, which is within the normal anomaly level range. There also seems to be more negative anomaly level values. Let's get a better look with a boxplot:"
   ]
  },
  {
   "cell_type": "code",
   "execution_count": 29,
   "metadata": {},
   "outputs": [
    {
     "data": {
      "application/vnd.plotly.v1+json": {
       "config": {
        "plotlyServerURL": "https://plot.ly"
       },
       "data": [
        {
         "alignmentgroup": "True",
         "hovertemplate": "ANOMALY.LEVEL=%{x}<extra></extra>",
         "legendgroup": "",
         "marker": {
          "color": "#636efa"
         },
         "name": "",
         "notched": false,
         "offsetgroup": "",
         "orientation": "h",
         "showlegend": false,
         "type": "box",
         "x": [
          -0.3,
          -1.5,
          -0.1,
          1.2,
          -1.4,
          -0.9,
          0.2,
          -0.2,
          -0.2,
          0,
          0,
          -0.5,
          -1.3,
          0.6,
          0.1,
          -0.5,
          -0.3,
          -0.5,
          0,
          -0.5,
          0.5,
          0,
          -0.5,
          -0.5,
          -0.4,
          -0.5,
          0.4,
          -0.4,
          -0.5,
          -0.5,
          -0.7,
          -0.5,
          -0.3,
          0.1,
          0,
          -1.5,
          0,
          -0.3,
          0,
          0.3,
          -0.1,
          -0.4,
          0,
          0.3,
          2,
          -0.4,
          0,
          -0.4,
          -0.2,
          -0.4,
          -0.1,
          -1.3,
          2.2,
          -0.4,
          0.9,
          0.2,
          0.4,
          0.2,
          -0.3,
          -0.5,
          0.1,
          -1,
          -0.3,
          0.3,
          -0.1,
          0.2,
          1.4,
          -0.3,
          -0.7,
          0.1,
          -0.7,
          1,
          -0.3,
          -1.5,
          -1.4,
          0.7,
          1.3,
          1.7,
          -0.6,
          -0.2,
          0.5,
          -1.2,
          -0.5,
          -0.4,
          -0.3,
          -0.2,
          -1.4,
          -0.4,
          -0.4,
          -0.7,
          -0.5,
          -0.4,
          0.2,
          0,
          -0.2,
          -0.5,
          -0.9,
          0.2,
          -0.3,
          -0.2,
          0.3,
          -0.3,
          0.2,
          -0.2,
          -0.3,
          0.7,
          -0.6,
          1.4,
          -0.4,
          0.4,
          -0.5,
          0.1,
          0.1,
          0.5,
          -0.9,
          2.3,
          -0.3,
          -0.3,
          0.7,
          -1.4,
          -0.2,
          -0.4,
          -0.8,
          -0.6,
          -1,
          -0.3,
          -0.5,
          0.6,
          0.7,
          0.8,
          -0.4,
          -0.4,
          -0.9,
          0.1,
          -0.7,
          -0.4,
          0.7,
          -0.6,
          0,
          0.1,
          -0.3,
          2,
          -1,
          -0.2,
          -0.3,
          0.5,
          -0.6,
          -0.4,
          -0.3,
          0.9,
          0.1,
          1.1,
          0.5,
          -0.3,
          -0.3,
          1.2,
          0,
          -0.1,
          -0.3,
          0.1,
          -0.9,
          -0.3,
          -1.4,
          -0.4,
          -0.1,
          -0.5,
          0.7,
          0.5,
          -0.4,
          0.2,
          -0.3,
          0.8,
          0.3,
          -0.3,
          0.8,
          -0.1,
          -0.3,
          0.3,
          -0.2,
          -1.2,
          2.3,
          1.1,
          -0.2,
          0.4,
          -0.8,
          0.2,
          1.4,
          -0.7,
          0.3,
          0,
          0.5,
          -0.3,
          -0.7,
          -0.3,
          -0.3,
          -0.3,
          -0.1,
          0.1,
          0.7,
          0.3,
          -0.4,
          -0.2,
          -0.2,
          -0.4,
          -0.7,
          0.1,
          -0.4,
          -0.3,
          -0.4,
          -0.7,
          -0.5,
          -0.4,
          -0.7,
          0,
          null,
          -0.8,
          -0.5,
          1.2,
          -0.4,
          -0.7,
          -0.6,
          -0.1,
          -1.5,
          0.1,
          -0.3,
          0.7,
          -0.4,
          -0.3,
          0,
          0.4,
          0.6,
          -0.3,
          0.1,
          null,
          0.1,
          -0.7,
          -0.2,
          -0.3,
          0.1,
          -0.3,
          -0.5,
          -0.3,
          -0.6,
          0.5,
          -0.4,
          -1.3,
          -0.4,
          1.4,
          0.3,
          -0.5,
          -0.5,
          0.3,
          -1.5,
          0.1,
          -0.3,
          0.1,
          -1,
          -0.3,
          -0.5,
          0.2,
          -1.4,
          1.4,
          0.3,
          0.9,
          -0.7,
          2.3,
          0.7,
          -0.3,
          -0.6,
          1.6,
          1.4,
          -1.1,
          2.2,
          -1.4,
          2.2,
          0.9,
          0.3,
          0.9,
          -0.6,
          0.9,
          0.9,
          0.9,
          0.1,
          1.4,
          0.5,
          1.3,
          -0.7,
          0.5,
          -0.1,
          0.3,
          -0.6,
          -0.5,
          0.7,
          -0.6,
          0,
          -0.5,
          -0.6,
          0.3,
          -1,
          -0.5,
          0,
          -0.9,
          0.2,
          -1.3,
          0,
          -0.1,
          0.3,
          -0.5,
          0.3,
          0.2,
          0.3,
          -0.5,
          0.4,
          -0.1,
          0.2,
          0.4,
          -0.9,
          -0.6,
          -0.1,
          0,
          0.1,
          -0.9,
          0.5,
          1.2,
          -0.9,
          -0.5,
          0.3,
          0.5,
          0,
          -1.4,
          0.1,
          0.2,
          -0.6,
          -0.7,
          -1.4,
          0.7,
          0.1,
          -0.9,
          0,
          1,
          -0.5,
          -1,
          0.3,
          -0.3,
          -1,
          -0.3,
          0.9,
          -0.6,
          -0.5,
          -0.3,
          -0.6,
          0.1,
          -0.6,
          0.1,
          -0.5,
          -0.5,
          -0.4,
          -0.5,
          -1.1,
          -0.5,
          1.1,
          -0.6,
          0.1,
          1.1,
          -0.9,
          0.3,
          -0.4,
          1.2,
          -0.5,
          -0.6,
          -0.6,
          -0.3,
          -1.3,
          -0.7,
          -0.7,
          -0.3,
          -0.7,
          -0.4,
          -0.9,
          0.2,
          0.2,
          0.3,
          -0.3,
          -0.3,
          -1.4,
          0.1,
          -0.1,
          -0.6,
          0.1,
          -0.6,
          0.7,
          -0.3,
          0.5,
          0.1,
          0.5,
          -0.4,
          -0.4,
          -0.3,
          0.9,
          -0.6,
          -0.3,
          -0.3,
          1.3,
          -0.5,
          0.3,
          -0.7,
          0,
          0,
          -0.5,
          -0.3,
          0.1,
          -0.5,
          -0.2,
          0.5,
          0.1,
          -0.3,
          -1.3,
          -0.5,
          -0.5,
          0.7,
          -0.4,
          0.5,
          0.5,
          -0.2,
          0.2,
          0.7,
          -0.6,
          -0.4,
          -0.2,
          1.3,
          -0.5,
          -0.6,
          null,
          -0.3,
          0.2,
          -0.4,
          0.5,
          -0.6,
          -0.9,
          -0.7,
          0.1,
          1,
          -0.5,
          -0.6,
          1,
          2.2,
          -0.6,
          -0.5,
          0.3,
          -0.4,
          -0.1,
          0.3,
          0.9,
          -0.3,
          -0.6,
          1.2,
          0.3,
          -0.9,
          0.9,
          0.6,
          -0.3,
          -0.5,
          -0.5,
          -1.6,
          0.3,
          -1.6,
          -0.5,
          -0.7,
          0.6,
          0.9,
          0.9,
          0.9,
          1.2,
          -0.6,
          -1.2,
          0.2,
          -1.3,
          -0.5,
          -0.2,
          -0.1,
          -1.2,
          0.2,
          -0.7,
          -0.7,
          -0.6,
          -0.7,
          -0.4,
          -0.4,
          -0.5,
          -0.2,
          -0.4,
          -0.2,
          1,
          -0.5,
          0.4,
          0.4,
          -0.5,
          0,
          0.3,
          0.3,
          -0.6,
          -0.6,
          -0.9,
          -0.3,
          -0.4,
          -0.7,
          -0.2,
          -0.3,
          0.9,
          -0.7,
          -1.4,
          -0.5,
          -0.3,
          -0.9,
          -0.3,
          -0.6,
          0.9,
          1.2,
          -0.6,
          1.2,
          0.3,
          -0.6,
          0.2,
          -0.6,
          0.7,
          -0.6,
          0.7,
          0.3,
          -0.9,
          0.1,
          0.3,
          -0.1,
          0.7,
          0,
          0.6,
          -0.1,
          -0.3,
          -0.3,
          -0.3,
          0,
          0.3,
          0.3,
          1.1,
          0,
          0.3,
          -0.5,
          0.3,
          -0.1,
          0,
          -0.3,
          -0.7,
          -0.2,
          0.6,
          0.1,
          -0.1,
          0.7,
          0,
          -0.3,
          0.7,
          0.6,
          -0.2,
          0.7,
          0.7,
          0.7,
          0.7,
          -0.2,
          0.7,
          0.6,
          -0.1,
          0.6,
          0.7,
          -0.7,
          -0.9,
          0,
          0.1,
          -0.3,
          -0.2,
          -0.4,
          -0.7,
          -1,
          -1.4,
          0.9,
          0.7,
          -0.5,
          1.3,
          1,
          0.9,
          0,
          0.7,
          1.3,
          -0.3,
          -0.6,
          -0.9,
          0.1,
          -1,
          -1,
          0.3,
          -0.6,
          1.2,
          -1.4,
          0.3,
          1.3,
          0.7,
          1.3,
          0.3,
          -0.1,
          0.3,
          1.2,
          2.3,
          -0.5,
          0.9,
          -0.9,
          0.5,
          -0.7,
          0.1,
          1.1,
          2,
          -1.5,
          -0.4,
          -0.7,
          -0.7,
          0.2,
          -1.1,
          -0.9,
          -0.9,
          -1.1,
          -1.1,
          0.3,
          -0.1,
          -0.1,
          0.3,
          1.1,
          -0.1,
          -1.1,
          2.3,
          -0.9,
          -0.6,
          0.5,
          -1.4,
          0.5,
          -0.4,
          0.4,
          -0.7,
          -0.7,
          0.3,
          -0.5,
          -0.2,
          -0.5,
          1.2,
          1.1,
          -0.1,
          -0.2,
          -0.5,
          -0.3,
          -0.6,
          -0.3,
          0.5,
          1.2,
          0.3,
          -0.9,
          -0.4,
          -1.3,
          0.3,
          -0.3,
          -0.4,
          -0.4,
          -0.9,
          -0.9,
          -0.1,
          0.3,
          -1.2,
          -0.4,
          -0.5,
          -1.3,
          -0.3,
          1.1,
          0.1,
          0.1,
          -0.6,
          0.1,
          -1,
          -0.6,
          -0.2,
          -0.1,
          -0.5,
          0.3,
          0.9,
          0.9,
          0.3,
          0.7,
          0.3,
          0.7,
          -0.4,
          -0.3,
          -0.7,
          0.5,
          0.9,
          -0.7,
          0.6,
          -0.5,
          0.4,
          -0.5,
          0.7,
          -0.3,
          -0.6,
          0.4,
          -0.7,
          -0.4,
          -0.2,
          -0.9,
          0.9,
          1.2,
          0.1,
          -0.4,
          2.3,
          -0.2,
          -0.3,
          1.3,
          1.2,
          -1.3,
          2.3,
          -0.3,
          2.2,
          -0.6,
          -0.2,
          -0.2,
          -0.3,
          0.3,
          2.2,
          2.3,
          -0.4,
          -1.3,
          -0.6,
          -0.4,
          0.3,
          0.3,
          0.6,
          0.3,
          -0.1,
          -0.6,
          -0.7,
          -0.7,
          -1.3,
          -1.4,
          -0.3,
          -0.4,
          0.3,
          -0.1,
          0.3,
          -0.1,
          -0.9,
          0.5,
          1.6,
          0.7,
          null,
          0.7,
          -1.3,
          1,
          0.7,
          -0.7,
          -0.4,
          0.7,
          0.7
         ],
         "x0": " ",
         "xaxis": "x",
         "y0": " ",
         "yaxis": "y"
        }
       ],
       "layout": {
        "boxmode": "group",
        "legend": {
         "tracegroupgap": 0
        },
        "margin": {
         "t": 60
        },
        "template": {
         "data": {
          "bar": [
           {
            "error_x": {
             "color": "#2a3f5f"
            },
            "error_y": {
             "color": "#2a3f5f"
            },
            "marker": {
             "line": {
              "color": "#E5ECF6",
              "width": 0.5
             },
             "pattern": {
              "fillmode": "overlay",
              "size": 10,
              "solidity": 0.2
             }
            },
            "type": "bar"
           }
          ],
          "barpolar": [
           {
            "marker": {
             "line": {
              "color": "#E5ECF6",
              "width": 0.5
             },
             "pattern": {
              "fillmode": "overlay",
              "size": 10,
              "solidity": 0.2
             }
            },
            "type": "barpolar"
           }
          ],
          "carpet": [
           {
            "aaxis": {
             "endlinecolor": "#2a3f5f",
             "gridcolor": "white",
             "linecolor": "white",
             "minorgridcolor": "white",
             "startlinecolor": "#2a3f5f"
            },
            "baxis": {
             "endlinecolor": "#2a3f5f",
             "gridcolor": "white",
             "linecolor": "white",
             "minorgridcolor": "white",
             "startlinecolor": "#2a3f5f"
            },
            "type": "carpet"
           }
          ],
          "choropleth": [
           {
            "colorbar": {
             "outlinewidth": 0,
             "ticks": ""
            },
            "type": "choropleth"
           }
          ],
          "contour": [
           {
            "colorbar": {
             "outlinewidth": 0,
             "ticks": ""
            },
            "colorscale": [
             [
              0,
              "#0d0887"
             ],
             [
              0.1111111111111111,
              "#46039f"
             ],
             [
              0.2222222222222222,
              "#7201a8"
             ],
             [
              0.3333333333333333,
              "#9c179e"
             ],
             [
              0.4444444444444444,
              "#bd3786"
             ],
             [
              0.5555555555555556,
              "#d8576b"
             ],
             [
              0.6666666666666666,
              "#ed7953"
             ],
             [
              0.7777777777777778,
              "#fb9f3a"
             ],
             [
              0.8888888888888888,
              "#fdca26"
             ],
             [
              1,
              "#f0f921"
             ]
            ],
            "type": "contour"
           }
          ],
          "contourcarpet": [
           {
            "colorbar": {
             "outlinewidth": 0,
             "ticks": ""
            },
            "type": "contourcarpet"
           }
          ],
          "heatmap": [
           {
            "colorbar": {
             "outlinewidth": 0,
             "ticks": ""
            },
            "colorscale": [
             [
              0,
              "#0d0887"
             ],
             [
              0.1111111111111111,
              "#46039f"
             ],
             [
              0.2222222222222222,
              "#7201a8"
             ],
             [
              0.3333333333333333,
              "#9c179e"
             ],
             [
              0.4444444444444444,
              "#bd3786"
             ],
             [
              0.5555555555555556,
              "#d8576b"
             ],
             [
              0.6666666666666666,
              "#ed7953"
             ],
             [
              0.7777777777777778,
              "#fb9f3a"
             ],
             [
              0.8888888888888888,
              "#fdca26"
             ],
             [
              1,
              "#f0f921"
             ]
            ],
            "type": "heatmap"
           }
          ],
          "heatmapgl": [
           {
            "colorbar": {
             "outlinewidth": 0,
             "ticks": ""
            },
            "colorscale": [
             [
              0,
              "#0d0887"
             ],
             [
              0.1111111111111111,
              "#46039f"
             ],
             [
              0.2222222222222222,
              "#7201a8"
             ],
             [
              0.3333333333333333,
              "#9c179e"
             ],
             [
              0.4444444444444444,
              "#bd3786"
             ],
             [
              0.5555555555555556,
              "#d8576b"
             ],
             [
              0.6666666666666666,
              "#ed7953"
             ],
             [
              0.7777777777777778,
              "#fb9f3a"
             ],
             [
              0.8888888888888888,
              "#fdca26"
             ],
             [
              1,
              "#f0f921"
             ]
            ],
            "type": "heatmapgl"
           }
          ],
          "histogram": [
           {
            "marker": {
             "pattern": {
              "fillmode": "overlay",
              "size": 10,
              "solidity": 0.2
             }
            },
            "type": "histogram"
           }
          ],
          "histogram2d": [
           {
            "colorbar": {
             "outlinewidth": 0,
             "ticks": ""
            },
            "colorscale": [
             [
              0,
              "#0d0887"
             ],
             [
              0.1111111111111111,
              "#46039f"
             ],
             [
              0.2222222222222222,
              "#7201a8"
             ],
             [
              0.3333333333333333,
              "#9c179e"
             ],
             [
              0.4444444444444444,
              "#bd3786"
             ],
             [
              0.5555555555555556,
              "#d8576b"
             ],
             [
              0.6666666666666666,
              "#ed7953"
             ],
             [
              0.7777777777777778,
              "#fb9f3a"
             ],
             [
              0.8888888888888888,
              "#fdca26"
             ],
             [
              1,
              "#f0f921"
             ]
            ],
            "type": "histogram2d"
           }
          ],
          "histogram2dcontour": [
           {
            "colorbar": {
             "outlinewidth": 0,
             "ticks": ""
            },
            "colorscale": [
             [
              0,
              "#0d0887"
             ],
             [
              0.1111111111111111,
              "#46039f"
             ],
             [
              0.2222222222222222,
              "#7201a8"
             ],
             [
              0.3333333333333333,
              "#9c179e"
             ],
             [
              0.4444444444444444,
              "#bd3786"
             ],
             [
              0.5555555555555556,
              "#d8576b"
             ],
             [
              0.6666666666666666,
              "#ed7953"
             ],
             [
              0.7777777777777778,
              "#fb9f3a"
             ],
             [
              0.8888888888888888,
              "#fdca26"
             ],
             [
              1,
              "#f0f921"
             ]
            ],
            "type": "histogram2dcontour"
           }
          ],
          "mesh3d": [
           {
            "colorbar": {
             "outlinewidth": 0,
             "ticks": ""
            },
            "type": "mesh3d"
           }
          ],
          "parcoords": [
           {
            "line": {
             "colorbar": {
              "outlinewidth": 0,
              "ticks": ""
             }
            },
            "type": "parcoords"
           }
          ],
          "pie": [
           {
            "automargin": true,
            "type": "pie"
           }
          ],
          "scatter": [
           {
            "fillpattern": {
             "fillmode": "overlay",
             "size": 10,
             "solidity": 0.2
            },
            "type": "scatter"
           }
          ],
          "scatter3d": [
           {
            "line": {
             "colorbar": {
              "outlinewidth": 0,
              "ticks": ""
             }
            },
            "marker": {
             "colorbar": {
              "outlinewidth": 0,
              "ticks": ""
             }
            },
            "type": "scatter3d"
           }
          ],
          "scattercarpet": [
           {
            "marker": {
             "colorbar": {
              "outlinewidth": 0,
              "ticks": ""
             }
            },
            "type": "scattercarpet"
           }
          ],
          "scattergeo": [
           {
            "marker": {
             "colorbar": {
              "outlinewidth": 0,
              "ticks": ""
             }
            },
            "type": "scattergeo"
           }
          ],
          "scattergl": [
           {
            "marker": {
             "colorbar": {
              "outlinewidth": 0,
              "ticks": ""
             }
            },
            "type": "scattergl"
           }
          ],
          "scattermapbox": [
           {
            "marker": {
             "colorbar": {
              "outlinewidth": 0,
              "ticks": ""
             }
            },
            "type": "scattermapbox"
           }
          ],
          "scatterpolar": [
           {
            "marker": {
             "colorbar": {
              "outlinewidth": 0,
              "ticks": ""
             }
            },
            "type": "scatterpolar"
           }
          ],
          "scatterpolargl": [
           {
            "marker": {
             "colorbar": {
              "outlinewidth": 0,
              "ticks": ""
             }
            },
            "type": "scatterpolargl"
           }
          ],
          "scatterternary": [
           {
            "marker": {
             "colorbar": {
              "outlinewidth": 0,
              "ticks": ""
             }
            },
            "type": "scatterternary"
           }
          ],
          "surface": [
           {
            "colorbar": {
             "outlinewidth": 0,
             "ticks": ""
            },
            "colorscale": [
             [
              0,
              "#0d0887"
             ],
             [
              0.1111111111111111,
              "#46039f"
             ],
             [
              0.2222222222222222,
              "#7201a8"
             ],
             [
              0.3333333333333333,
              "#9c179e"
             ],
             [
              0.4444444444444444,
              "#bd3786"
             ],
             [
              0.5555555555555556,
              "#d8576b"
             ],
             [
              0.6666666666666666,
              "#ed7953"
             ],
             [
              0.7777777777777778,
              "#fb9f3a"
             ],
             [
              0.8888888888888888,
              "#fdca26"
             ],
             [
              1,
              "#f0f921"
             ]
            ],
            "type": "surface"
           }
          ],
          "table": [
           {
            "cells": {
             "fill": {
              "color": "#EBF0F8"
             },
             "line": {
              "color": "white"
             }
            },
            "header": {
             "fill": {
              "color": "#C8D4E3"
             },
             "line": {
              "color": "white"
             }
            },
            "type": "table"
           }
          ]
         },
         "layout": {
          "annotationdefaults": {
           "arrowcolor": "#2a3f5f",
           "arrowhead": 0,
           "arrowwidth": 1
          },
          "autotypenumbers": "strict",
          "coloraxis": {
           "colorbar": {
            "outlinewidth": 0,
            "ticks": ""
           }
          },
          "colorscale": {
           "diverging": [
            [
             0,
             "#8e0152"
            ],
            [
             0.1,
             "#c51b7d"
            ],
            [
             0.2,
             "#de77ae"
            ],
            [
             0.3,
             "#f1b6da"
            ],
            [
             0.4,
             "#fde0ef"
            ],
            [
             0.5,
             "#f7f7f7"
            ],
            [
             0.6,
             "#e6f5d0"
            ],
            [
             0.7,
             "#b8e186"
            ],
            [
             0.8,
             "#7fbc41"
            ],
            [
             0.9,
             "#4d9221"
            ],
            [
             1,
             "#276419"
            ]
           ],
           "sequential": [
            [
             0,
             "#0d0887"
            ],
            [
             0.1111111111111111,
             "#46039f"
            ],
            [
             0.2222222222222222,
             "#7201a8"
            ],
            [
             0.3333333333333333,
             "#9c179e"
            ],
            [
             0.4444444444444444,
             "#bd3786"
            ],
            [
             0.5555555555555556,
             "#d8576b"
            ],
            [
             0.6666666666666666,
             "#ed7953"
            ],
            [
             0.7777777777777778,
             "#fb9f3a"
            ],
            [
             0.8888888888888888,
             "#fdca26"
            ],
            [
             1,
             "#f0f921"
            ]
           ],
           "sequentialminus": [
            [
             0,
             "#0d0887"
            ],
            [
             0.1111111111111111,
             "#46039f"
            ],
            [
             0.2222222222222222,
             "#7201a8"
            ],
            [
             0.3333333333333333,
             "#9c179e"
            ],
            [
             0.4444444444444444,
             "#bd3786"
            ],
            [
             0.5555555555555556,
             "#d8576b"
            ],
            [
             0.6666666666666666,
             "#ed7953"
            ],
            [
             0.7777777777777778,
             "#fb9f3a"
            ],
            [
             0.8888888888888888,
             "#fdca26"
            ],
            [
             1,
             "#f0f921"
            ]
           ]
          },
          "colorway": [
           "#636efa",
           "#EF553B",
           "#00cc96",
           "#ab63fa",
           "#FFA15A",
           "#19d3f3",
           "#FF6692",
           "#B6E880",
           "#FF97FF",
           "#FECB52"
          ],
          "font": {
           "color": "#2a3f5f"
          },
          "geo": {
           "bgcolor": "white",
           "lakecolor": "white",
           "landcolor": "#E5ECF6",
           "showlakes": true,
           "showland": true,
           "subunitcolor": "white"
          },
          "hoverlabel": {
           "align": "left"
          },
          "hovermode": "closest",
          "mapbox": {
           "style": "light"
          },
          "paper_bgcolor": "white",
          "plot_bgcolor": "#E5ECF6",
          "polar": {
           "angularaxis": {
            "gridcolor": "white",
            "linecolor": "white",
            "ticks": ""
           },
           "bgcolor": "#E5ECF6",
           "radialaxis": {
            "gridcolor": "white",
            "linecolor": "white",
            "ticks": ""
           }
          },
          "scene": {
           "xaxis": {
            "backgroundcolor": "#E5ECF6",
            "gridcolor": "white",
            "gridwidth": 2,
            "linecolor": "white",
            "showbackground": true,
            "ticks": "",
            "zerolinecolor": "white"
           },
           "yaxis": {
            "backgroundcolor": "#E5ECF6",
            "gridcolor": "white",
            "gridwidth": 2,
            "linecolor": "white",
            "showbackground": true,
            "ticks": "",
            "zerolinecolor": "white"
           },
           "zaxis": {
            "backgroundcolor": "#E5ECF6",
            "gridcolor": "white",
            "gridwidth": 2,
            "linecolor": "white",
            "showbackground": true,
            "ticks": "",
            "zerolinecolor": "white"
           }
          },
          "shapedefaults": {
           "line": {
            "color": "#2a3f5f"
           }
          },
          "ternary": {
           "aaxis": {
            "gridcolor": "white",
            "linecolor": "white",
            "ticks": ""
           },
           "baxis": {
            "gridcolor": "white",
            "linecolor": "white",
            "ticks": ""
           },
           "bgcolor": "#E5ECF6",
           "caxis": {
            "gridcolor": "white",
            "linecolor": "white",
            "ticks": ""
           }
          },
          "title": {
           "x": 0.05
          },
          "xaxis": {
           "automargin": true,
           "gridcolor": "white",
           "linecolor": "white",
           "ticks": "",
           "title": {
            "standoff": 15
           },
           "zerolinecolor": "white",
           "zerolinewidth": 2
          },
          "yaxis": {
           "automargin": true,
           "gridcolor": "white",
           "linecolor": "white",
           "ticks": "",
           "title": {
            "standoff": 15
           },
           "zerolinecolor": "white",
           "zerolinewidth": 2
          }
         }
        },
        "xaxis": {
         "anchor": "y",
         "domain": [
          0,
          1
         ],
         "title": {
          "text": "ANOMALY.LEVEL"
         }
        },
        "yaxis": {
         "anchor": "x",
         "domain": [
          0,
          1
         ]
        }
       }
      },
      "text/html": [
       "<div>                            <div id=\"71d3c089-c3ba-4599-a360-b8124283da94\" class=\"plotly-graph-div\" style=\"height:525px; width:100%;\"></div>            <script type=\"text/javascript\">                require([\"plotly\"], function(Plotly) {                    window.PLOTLYENV=window.PLOTLYENV || {};                                    if (document.getElementById(\"71d3c089-c3ba-4599-a360-b8124283da94\")) {                    Plotly.newPlot(                        \"71d3c089-c3ba-4599-a360-b8124283da94\",                        [{\"alignmentgroup\":\"True\",\"hovertemplate\":\"ANOMALY.LEVEL=%{x}\\u003cextra\\u003e\\u003c\\u002fextra\\u003e\",\"legendgroup\":\"\",\"marker\":{\"color\":\"#636efa\"},\"name\":\"\",\"notched\":false,\"offsetgroup\":\"\",\"orientation\":\"h\",\"showlegend\":false,\"x\":[-0.3,-1.5,-0.1,1.2,-1.4,-0.9,0.2,-0.2,-0.2,0.0,0.0,-0.5,-1.3,0.6,0.1,-0.5,-0.3,-0.5,0.0,-0.5,0.5,0.0,-0.5,-0.5,-0.4,-0.5,0.4,-0.4,-0.5,-0.5,-0.7,-0.5,-0.3,0.1,0.0,-1.5,0.0,-0.3,0.0,0.3,-0.1,-0.4,0.0,0.3,2.0,-0.4,0.0,-0.4,-0.2,-0.4,-0.1,-1.3,2.2,-0.4,0.9,0.2,0.4,0.2,-0.3,-0.5,0.1,-1.0,-0.3,0.3,-0.1,0.2,1.4,-0.3,-0.7,0.1,-0.7,1.0,-0.3,-1.5,-1.4,0.7,1.3,1.7,-0.6,-0.2,0.5,-1.2,-0.5,-0.4,-0.3,-0.2,-1.4,-0.4,-0.4,-0.7,-0.5,-0.4,0.2,0.0,-0.2,-0.5,-0.9,0.2,-0.3,-0.2,0.3,-0.3,0.2,-0.2,-0.3,0.7,-0.6,1.4,-0.4,0.4,-0.5,0.1,0.1,0.5,-0.9,2.3,-0.3,-0.3,0.7,-1.4,-0.2,-0.4,-0.8,-0.6,-1.0,-0.3,-0.5,0.6,0.7,0.8,-0.4,-0.4,-0.9,0.1,-0.7,-0.4,0.7,-0.6,0.0,0.1,-0.3,2.0,-1.0,-0.2,-0.3,0.5,-0.6,-0.4,-0.3,0.9,0.1,1.1,0.5,-0.3,-0.3,1.2,0.0,-0.1,-0.3,0.1,-0.9,-0.3,-1.4,-0.4,-0.1,-0.5,0.7,0.5,-0.4,0.2,-0.3,0.8,0.3,-0.3,0.8,-0.1,-0.3,0.3,-0.2,-1.2,2.3,1.1,-0.2,0.4,-0.8,0.2,1.4,-0.7,0.3,0.0,0.5,-0.3,-0.7,-0.3,-0.3,-0.3,-0.1,0.1,0.7,0.3,-0.4,-0.2,-0.2,-0.4,-0.7,0.1,-0.4,-0.3,-0.4,-0.7,-0.5,-0.4,-0.7,0.0,null,-0.8,-0.5,1.2,-0.4,-0.7,-0.6,-0.1,-1.5,0.1,-0.3,0.7,-0.4,-0.3,0.0,0.4,0.6,-0.3,0.1,null,0.1,-0.7,-0.2,-0.3,0.1,-0.3,-0.5,-0.3,-0.6,0.5,-0.4,-1.3,-0.4,1.4,0.3,-0.5,-0.5,0.3,-1.5,0.1,-0.3,0.1,-1.0,-0.3,-0.5,0.2,-1.4,1.4,0.3,0.9,-0.7,2.3,0.7,-0.3,-0.6,1.6,1.4,-1.1,2.2,-1.4,2.2,0.9,0.3,0.9,-0.6,0.9,0.9,0.9,0.1,1.4,0.5,1.3,-0.7,0.5,-0.1,0.3,-0.6,-0.5,0.7,-0.6,0.0,-0.5,-0.6,0.3,-1.0,-0.5,0.0,-0.9,0.2,-1.3,0.0,-0.1,0.3,-0.5,0.3,0.2,0.3,-0.5,0.4,-0.1,0.2,0.4,-0.9,-0.6,-0.1,0.0,0.1,-0.9,0.5,1.2,-0.9,-0.5,0.3,0.5,0.0,-1.4,0.1,0.2,-0.6,-0.7,-1.4,0.7,0.1,-0.9,0.0,1.0,-0.5,-1.0,0.3,-0.3,-1.0,-0.3,0.9,-0.6,-0.5,-0.3,-0.6,0.1,-0.6,0.1,-0.5,-0.5,-0.4,-0.5,-1.1,-0.5,1.1,-0.6,0.1,1.1,-0.9,0.3,-0.4,1.2,-0.5,-0.6,-0.6,-0.3,-1.3,-0.7,-0.7,-0.3,-0.7,-0.4,-0.9,0.2,0.2,0.3,-0.3,-0.3,-1.4,0.1,-0.1,-0.6,0.1,-0.6,0.7,-0.3,0.5,0.1,0.5,-0.4,-0.4,-0.3,0.9,-0.6,-0.3,-0.3,1.3,-0.5,0.3,-0.7,0.0,0.0,-0.5,-0.3,0.1,-0.5,-0.2,0.5,0.1,-0.3,-1.3,-0.5,-0.5,0.7,-0.4,0.5,0.5,-0.2,0.2,0.7,-0.6,-0.4,-0.2,1.3,-0.5,-0.6,null,-0.3,0.2,-0.4,0.5,-0.6,-0.9,-0.7,0.1,1.0,-0.5,-0.6,1.0,2.2,-0.6,-0.5,0.3,-0.4,-0.1,0.3,0.9,-0.3,-0.6,1.2,0.3,-0.9,0.9,0.6,-0.3,-0.5,-0.5,-1.6,0.3,-1.6,-0.5,-0.7,0.6,0.9,0.9,0.9,1.2,-0.6,-1.2,0.2,-1.3,-0.5,-0.2,-0.1,-1.2,0.2,-0.7,-0.7,-0.6,-0.7,-0.4,-0.4,-0.5,-0.2,-0.4,-0.2,1.0,-0.5,0.4,0.4,-0.5,0.0,0.3,0.3,-0.6,-0.6,-0.9,-0.3,-0.4,-0.7,-0.2,-0.3,0.9,-0.7,-1.4,-0.5,-0.3,-0.9,-0.3,-0.6,0.9,1.2,-0.6,1.2,0.3,-0.6,0.2,-0.6,0.7,-0.6,0.7,0.3,-0.9,0.1,0.3,-0.1,0.7,0.0,0.6,-0.1,-0.3,-0.3,-0.3,0.0,0.3,0.3,1.1,0.0,0.3,-0.5,0.3,-0.1,0.0,-0.3,-0.7,-0.2,0.6,0.1,-0.1,0.7,0.0,-0.3,0.7,0.6,-0.2,0.7,0.7,0.7,0.7,-0.2,0.7,0.6,-0.1,0.6,0.7,-0.7,-0.9,0.0,0.1,-0.3,-0.2,-0.4,-0.7,-1.0,-1.4,0.9,0.7,-0.5,1.3,1.0,0.9,0.0,0.7,1.3,-0.3,-0.6,-0.9,0.1,-1.0,-1.0,0.3,-0.6,1.2,-1.4,0.3,1.3,0.7,1.3,0.3,-0.1,0.3,1.2,2.3,-0.5,0.9,-0.9,0.5,-0.7,0.1,1.1,2.0,-1.5,-0.4,-0.7,-0.7,0.2,-1.1,-0.9,-0.9,-1.1,-1.1,0.3,-0.1,-0.1,0.3,1.1,-0.1,-1.1,2.3,-0.9,-0.6,0.5,-1.4,0.5,-0.4,0.4,-0.7,-0.7,0.3,-0.5,-0.2,-0.5,1.2,1.1,-0.1,-0.2,-0.5,-0.3,-0.6,-0.3,0.5,1.2,0.3,-0.9,-0.4,-1.3,0.3,-0.3,-0.4,-0.4,-0.9,-0.9,-0.1,0.3,-1.2,-0.4,-0.5,-1.3,-0.3,1.1,0.1,0.1,-0.6,0.1,-1.0,-0.6,-0.2,-0.1,-0.5,0.3,0.9,0.9,0.3,0.7,0.3,0.7,-0.4,-0.3,-0.7,0.5,0.9,-0.7,0.6,-0.5,0.4,-0.5,0.7,-0.3,-0.6,0.4,-0.7,-0.4,-0.2,-0.9,0.9,1.2,0.1,-0.4,2.3,-0.2,-0.3,1.3,1.2,-1.3,2.3,-0.3,2.2,-0.6,-0.2,-0.2,-0.3,0.3,2.2,2.3,-0.4,-1.3,-0.6,-0.4,0.3,0.3,0.6,0.3,-0.1,-0.6,-0.7,-0.7,-1.3,-1.4,-0.3,-0.4,0.3,-0.1,0.3,-0.1,-0.9,0.5,1.6,0.7,null,0.7,-1.3,1.0,0.7,-0.7,-0.4,0.7,0.7],\"x0\":\" \",\"xaxis\":\"x\",\"y0\":\" \",\"yaxis\":\"y\",\"type\":\"box\"}],                        {\"template\":{\"data\":{\"histogram2dcontour\":[{\"type\":\"histogram2dcontour\",\"colorbar\":{\"outlinewidth\":0,\"ticks\":\"\"},\"colorscale\":[[0.0,\"#0d0887\"],[0.1111111111111111,\"#46039f\"],[0.2222222222222222,\"#7201a8\"],[0.3333333333333333,\"#9c179e\"],[0.4444444444444444,\"#bd3786\"],[0.5555555555555556,\"#d8576b\"],[0.6666666666666666,\"#ed7953\"],[0.7777777777777778,\"#fb9f3a\"],[0.8888888888888888,\"#fdca26\"],[1.0,\"#f0f921\"]]}],\"choropleth\":[{\"type\":\"choropleth\",\"colorbar\":{\"outlinewidth\":0,\"ticks\":\"\"}}],\"histogram2d\":[{\"type\":\"histogram2d\",\"colorbar\":{\"outlinewidth\":0,\"ticks\":\"\"},\"colorscale\":[[0.0,\"#0d0887\"],[0.1111111111111111,\"#46039f\"],[0.2222222222222222,\"#7201a8\"],[0.3333333333333333,\"#9c179e\"],[0.4444444444444444,\"#bd3786\"],[0.5555555555555556,\"#d8576b\"],[0.6666666666666666,\"#ed7953\"],[0.7777777777777778,\"#fb9f3a\"],[0.8888888888888888,\"#fdca26\"],[1.0,\"#f0f921\"]]}],\"heatmap\":[{\"type\":\"heatmap\",\"colorbar\":{\"outlinewidth\":0,\"ticks\":\"\"},\"colorscale\":[[0.0,\"#0d0887\"],[0.1111111111111111,\"#46039f\"],[0.2222222222222222,\"#7201a8\"],[0.3333333333333333,\"#9c179e\"],[0.4444444444444444,\"#bd3786\"],[0.5555555555555556,\"#d8576b\"],[0.6666666666666666,\"#ed7953\"],[0.7777777777777778,\"#fb9f3a\"],[0.8888888888888888,\"#fdca26\"],[1.0,\"#f0f921\"]]}],\"heatmapgl\":[{\"type\":\"heatmapgl\",\"colorbar\":{\"outlinewidth\":0,\"ticks\":\"\"},\"colorscale\":[[0.0,\"#0d0887\"],[0.1111111111111111,\"#46039f\"],[0.2222222222222222,\"#7201a8\"],[0.3333333333333333,\"#9c179e\"],[0.4444444444444444,\"#bd3786\"],[0.5555555555555556,\"#d8576b\"],[0.6666666666666666,\"#ed7953\"],[0.7777777777777778,\"#fb9f3a\"],[0.8888888888888888,\"#fdca26\"],[1.0,\"#f0f921\"]]}],\"contourcarpet\":[{\"type\":\"contourcarpet\",\"colorbar\":{\"outlinewidth\":0,\"ticks\":\"\"}}],\"contour\":[{\"type\":\"contour\",\"colorbar\":{\"outlinewidth\":0,\"ticks\":\"\"},\"colorscale\":[[0.0,\"#0d0887\"],[0.1111111111111111,\"#46039f\"],[0.2222222222222222,\"#7201a8\"],[0.3333333333333333,\"#9c179e\"],[0.4444444444444444,\"#bd3786\"],[0.5555555555555556,\"#d8576b\"],[0.6666666666666666,\"#ed7953\"],[0.7777777777777778,\"#fb9f3a\"],[0.8888888888888888,\"#fdca26\"],[1.0,\"#f0f921\"]]}],\"surface\":[{\"type\":\"surface\",\"colorbar\":{\"outlinewidth\":0,\"ticks\":\"\"},\"colorscale\":[[0.0,\"#0d0887\"],[0.1111111111111111,\"#46039f\"],[0.2222222222222222,\"#7201a8\"],[0.3333333333333333,\"#9c179e\"],[0.4444444444444444,\"#bd3786\"],[0.5555555555555556,\"#d8576b\"],[0.6666666666666666,\"#ed7953\"],[0.7777777777777778,\"#fb9f3a\"],[0.8888888888888888,\"#fdca26\"],[1.0,\"#f0f921\"]]}],\"mesh3d\":[{\"type\":\"mesh3d\",\"colorbar\":{\"outlinewidth\":0,\"ticks\":\"\"}}],\"scatter\":[{\"fillpattern\":{\"fillmode\":\"overlay\",\"size\":10,\"solidity\":0.2},\"type\":\"scatter\"}],\"parcoords\":[{\"type\":\"parcoords\",\"line\":{\"colorbar\":{\"outlinewidth\":0,\"ticks\":\"\"}}}],\"scatterpolargl\":[{\"type\":\"scatterpolargl\",\"marker\":{\"colorbar\":{\"outlinewidth\":0,\"ticks\":\"\"}}}],\"bar\":[{\"error_x\":{\"color\":\"#2a3f5f\"},\"error_y\":{\"color\":\"#2a3f5f\"},\"marker\":{\"line\":{\"color\":\"#E5ECF6\",\"width\":0.5},\"pattern\":{\"fillmode\":\"overlay\",\"size\":10,\"solidity\":0.2}},\"type\":\"bar\"}],\"scattergeo\":[{\"type\":\"scattergeo\",\"marker\":{\"colorbar\":{\"outlinewidth\":0,\"ticks\":\"\"}}}],\"scatterpolar\":[{\"type\":\"scatterpolar\",\"marker\":{\"colorbar\":{\"outlinewidth\":0,\"ticks\":\"\"}}}],\"histogram\":[{\"marker\":{\"pattern\":{\"fillmode\":\"overlay\",\"size\":10,\"solidity\":0.2}},\"type\":\"histogram\"}],\"scattergl\":[{\"type\":\"scattergl\",\"marker\":{\"colorbar\":{\"outlinewidth\":0,\"ticks\":\"\"}}}],\"scatter3d\":[{\"type\":\"scatter3d\",\"line\":{\"colorbar\":{\"outlinewidth\":0,\"ticks\":\"\"}},\"marker\":{\"colorbar\":{\"outlinewidth\":0,\"ticks\":\"\"}}}],\"scattermapbox\":[{\"type\":\"scattermapbox\",\"marker\":{\"colorbar\":{\"outlinewidth\":0,\"ticks\":\"\"}}}],\"scatterternary\":[{\"type\":\"scatterternary\",\"marker\":{\"colorbar\":{\"outlinewidth\":0,\"ticks\":\"\"}}}],\"scattercarpet\":[{\"type\":\"scattercarpet\",\"marker\":{\"colorbar\":{\"outlinewidth\":0,\"ticks\":\"\"}}}],\"carpet\":[{\"aaxis\":{\"endlinecolor\":\"#2a3f5f\",\"gridcolor\":\"white\",\"linecolor\":\"white\",\"minorgridcolor\":\"white\",\"startlinecolor\":\"#2a3f5f\"},\"baxis\":{\"endlinecolor\":\"#2a3f5f\",\"gridcolor\":\"white\",\"linecolor\":\"white\",\"minorgridcolor\":\"white\",\"startlinecolor\":\"#2a3f5f\"},\"type\":\"carpet\"}],\"table\":[{\"cells\":{\"fill\":{\"color\":\"#EBF0F8\"},\"line\":{\"color\":\"white\"}},\"header\":{\"fill\":{\"color\":\"#C8D4E3\"},\"line\":{\"color\":\"white\"}},\"type\":\"table\"}],\"barpolar\":[{\"marker\":{\"line\":{\"color\":\"#E5ECF6\",\"width\":0.5},\"pattern\":{\"fillmode\":\"overlay\",\"size\":10,\"solidity\":0.2}},\"type\":\"barpolar\"}],\"pie\":[{\"automargin\":true,\"type\":\"pie\"}]},\"layout\":{\"autotypenumbers\":\"strict\",\"colorway\":[\"#636efa\",\"#EF553B\",\"#00cc96\",\"#ab63fa\",\"#FFA15A\",\"#19d3f3\",\"#FF6692\",\"#B6E880\",\"#FF97FF\",\"#FECB52\"],\"font\":{\"color\":\"#2a3f5f\"},\"hovermode\":\"closest\",\"hoverlabel\":{\"align\":\"left\"},\"paper_bgcolor\":\"white\",\"plot_bgcolor\":\"#E5ECF6\",\"polar\":{\"bgcolor\":\"#E5ECF6\",\"angularaxis\":{\"gridcolor\":\"white\",\"linecolor\":\"white\",\"ticks\":\"\"},\"radialaxis\":{\"gridcolor\":\"white\",\"linecolor\":\"white\",\"ticks\":\"\"}},\"ternary\":{\"bgcolor\":\"#E5ECF6\",\"aaxis\":{\"gridcolor\":\"white\",\"linecolor\":\"white\",\"ticks\":\"\"},\"baxis\":{\"gridcolor\":\"white\",\"linecolor\":\"white\",\"ticks\":\"\"},\"caxis\":{\"gridcolor\":\"white\",\"linecolor\":\"white\",\"ticks\":\"\"}},\"coloraxis\":{\"colorbar\":{\"outlinewidth\":0,\"ticks\":\"\"}},\"colorscale\":{\"sequential\":[[0.0,\"#0d0887\"],[0.1111111111111111,\"#46039f\"],[0.2222222222222222,\"#7201a8\"],[0.3333333333333333,\"#9c179e\"],[0.4444444444444444,\"#bd3786\"],[0.5555555555555556,\"#d8576b\"],[0.6666666666666666,\"#ed7953\"],[0.7777777777777778,\"#fb9f3a\"],[0.8888888888888888,\"#fdca26\"],[1.0,\"#f0f921\"]],\"sequentialminus\":[[0.0,\"#0d0887\"],[0.1111111111111111,\"#46039f\"],[0.2222222222222222,\"#7201a8\"],[0.3333333333333333,\"#9c179e\"],[0.4444444444444444,\"#bd3786\"],[0.5555555555555556,\"#d8576b\"],[0.6666666666666666,\"#ed7953\"],[0.7777777777777778,\"#fb9f3a\"],[0.8888888888888888,\"#fdca26\"],[1.0,\"#f0f921\"]],\"diverging\":[[0,\"#8e0152\"],[0.1,\"#c51b7d\"],[0.2,\"#de77ae\"],[0.3,\"#f1b6da\"],[0.4,\"#fde0ef\"],[0.5,\"#f7f7f7\"],[0.6,\"#e6f5d0\"],[0.7,\"#b8e186\"],[0.8,\"#7fbc41\"],[0.9,\"#4d9221\"],[1,\"#276419\"]]},\"xaxis\":{\"gridcolor\":\"white\",\"linecolor\":\"white\",\"ticks\":\"\",\"title\":{\"standoff\":15},\"zerolinecolor\":\"white\",\"automargin\":true,\"zerolinewidth\":2},\"yaxis\":{\"gridcolor\":\"white\",\"linecolor\":\"white\",\"ticks\":\"\",\"title\":{\"standoff\":15},\"zerolinecolor\":\"white\",\"automargin\":true,\"zerolinewidth\":2},\"scene\":{\"xaxis\":{\"backgroundcolor\":\"#E5ECF6\",\"gridcolor\":\"white\",\"linecolor\":\"white\",\"showbackground\":true,\"ticks\":\"\",\"zerolinecolor\":\"white\",\"gridwidth\":2},\"yaxis\":{\"backgroundcolor\":\"#E5ECF6\",\"gridcolor\":\"white\",\"linecolor\":\"white\",\"showbackground\":true,\"ticks\":\"\",\"zerolinecolor\":\"white\",\"gridwidth\":2},\"zaxis\":{\"backgroundcolor\":\"#E5ECF6\",\"gridcolor\":\"white\",\"linecolor\":\"white\",\"showbackground\":true,\"ticks\":\"\",\"zerolinecolor\":\"white\",\"gridwidth\":2}},\"shapedefaults\":{\"line\":{\"color\":\"#2a3f5f\"}},\"annotationdefaults\":{\"arrowcolor\":\"#2a3f5f\",\"arrowhead\":0,\"arrowwidth\":1},\"geo\":{\"bgcolor\":\"white\",\"landcolor\":\"#E5ECF6\",\"subunitcolor\":\"white\",\"showland\":true,\"showlakes\":true,\"lakecolor\":\"white\"},\"title\":{\"x\":0.05},\"mapbox\":{\"style\":\"light\"}}},\"xaxis\":{\"anchor\":\"y\",\"domain\":[0.0,1.0],\"title\":{\"text\":\"ANOMALY.LEVEL\"}},\"yaxis\":{\"anchor\":\"x\",\"domain\":[0.0,1.0]},\"legend\":{\"tracegroupgap\":0},\"margin\":{\"t\":60},\"boxmode\":\"group\"},                        {\"responsive\": true}                    ).then(function(){\n",
       "                            \n",
       "var gd = document.getElementById('71d3c089-c3ba-4599-a360-b8124283da94');\n",
       "var x = new MutationObserver(function (mutations, observer) {{\n",
       "        var display = window.getComputedStyle(gd).display;\n",
       "        if (!display || display === 'none') {{\n",
       "            console.log([gd, 'removed!']);\n",
       "            Plotly.purge(gd);\n",
       "            observer.disconnect();\n",
       "        }}\n",
       "}});\n",
       "\n",
       "// Listen for the removal of the full notebook cells\n",
       "var notebookContainer = gd.closest('#notebook-container');\n",
       "if (notebookContainer) {{\n",
       "    x.observe(notebookContainer, {childList: true});\n",
       "}}\n",
       "\n",
       "// Listen for the clearing of the current output cell\n",
       "var outputEl = gd.closest('.output');\n",
       "if (outputEl) {{\n",
       "    x.observe(outputEl, {childList: true});\n",
       "}}\n",
       "\n",
       "                        })                };                });            </script>        </div>"
      ]
     },
     "metadata": {},
     "output_type": "display_data"
    }
   ],
   "source": [
    "fig7 = px.box(severe_weather, x=\"ANOMALY.LEVEL\")\n",
    "fig7.show()"
   ]
  },
  {
   "cell_type": "markdown",
   "metadata": {},
   "source": [
    "The boxplot shows that majority of the anomaly level values are indeed within the -0.5 and 0.5 range, and that the data tends to skew to the right, with multiple positive outliers. Accordingly, our dataset of severe-weather induced power outages seems to have more cold-weather patterns than hot-weather patterns. Yet, our data revolves around very small anomaly level values, meaning that the weather may still be considered \"normal\" based on this variable."
   ]
  },
  {
   "cell_type": "markdown",
   "metadata": {},
   "source": [
    "Unfortunately, anomaly level doesn't appear to be a great representation for the weather conditions during the outage. This may be due to the fact that anomaly level is a metric that measures deviation in 3-month long weather conditions with normal regular conditions. This 3-month period may be too long to provide a useful representation of the weather at the time of the outage. Instead, we can use the cause of the outage, as well as the season of the outage, to assume possible weather conditions and how they influenced the number of power outages that occurred."
   ]
  },
  {
   "cell_type": "markdown",
   "metadata": {},
   "source": [
    "## Hypothesis Testing"
   ]
  },
  {
   "cell_type": "markdown",
   "metadata": {},
   "source": [
    "As we saw in the bivariate analysis, anomaly level may not be an accurate representation of the weather conditions at the time of the power outage. For a more accurate representation we can consider the detailed cause of the power outage, as well as the season the event occurred in. We are interested in exploring how weather impacts power outages. More specifically, we want to determine if colder weather leads to longer mean power outage durations. We focus on power outage durations as a numerical indicator of the status of the power outage. We assume that longer power outages are more negatively impactful than shorter power outages. In order to identify hot and cold weather without using anomaly levels, we will only look at summer and winter months, as well as their corresponding causes. Summer and winter tend to be viewed as the two extremes for weather, with summer typically consisting of hot weather and winter generally consisting of cold weather. Additionally, the CAUSES.CATEGORY.DETAIL column can provide us with more information on the weather condition, as we can see here:"
   ]
  },
  {
   "cell_type": "code",
   "execution_count": 30,
   "metadata": {},
   "outputs": [
    {
     "data": {
      "text/plain": [
       "array([nan, 'wind', 'thunderstorm', 'winter', 'tornadoes', 'hailstorm',\n",
       "       'storm', 'hurricanes', 'snow/ice', 'flooding', 'lightning',\n",
       "       'wildfire', 'heatwave', 'uncontrolled loss', 'fog', 'earthquake',\n",
       "       'public appeal'], dtype=object)"
      ]
     },
     "execution_count": 30,
     "metadata": {},
     "output_type": "execute_result"
    }
   ],
   "source": [
    "severe_weather[\"CAUSE.CATEGORY.DETAIL\"].unique()"
   ]
  },
  {
   "cell_type": "markdown",
   "metadata": {},
   "source": [
    "There are various categories for the cause detail column, and some typically only occur within a certain season or weather condition. For example, thunderstorms and hurricanes typically occur in warmer weather, and snow/ice storms occur in colder weather. Additionally, some categories are not directly correlated with weather, such as earthquakes and public appeal, so we have decided to ignore these when we consider power outages within each season. Since we are only looking at two seasons, we will exclude causes that are not typical for that season, like removing snow/ice as a possible category in the summer season. While these storms can still occur in the seasons you wouldn't expect, we are focusing on hot and cold weather, not the season itself, the season is meerily an indicator."
   ]
  },
  {
   "cell_type": "code",
   "execution_count": 54,
   "metadata": {},
   "outputs": [],
   "source": [
    "# this function returns hot if the power outage occurred in the summer and \n",
    "# the cause.category.detail value is a typical summer/hot weather condition\n",
    "# vice versa with cold weather\n",
    "# if season or cause.category.detail are missing, returns np.nan\n",
    "\n",
    "def exclude_nontypical(season, cause):\n",
    "    \n",
    "    non_weather = [\"earthquake\", \"public appeal\", \"uncontrolled loss\"]\n",
    "    summer = ['wind', 'thunderstorm', 'tornadoes', 'hailstorm',\n",
    "       'storm', 'hurricanes', 'flooding', 'lightning',\n",
    "       'wildfire', 'heatwave', 'fog']\n",
    "    winter = ['wind', 'thunderstorm', \"winter\", 'tornadoes', 'hailstorm',\n",
    "       'storm', 'snow/ice', 'flooding', 'lightning', 'fog']\n",
    "    \n",
    "    if season == \"summer\":\n",
    "        if cause in non_weather:\n",
    "            return np.NaN\n",
    "        elif cause in summer:\n",
    "            return \"hot\"\n",
    "        elif cause in winter:\n",
    "            return np.NaN\n",
    "        else:\n",
    "            return np.NaN\n",
    "    \n",
    "    elif season == \"winter\":\n",
    "        if cause in non_weather:\n",
    "            return np.NaN\n",
    "        elif cause in winter:\n",
    "            return 'cold'\n",
    "        elif cause in summer:\n",
    "            return np.NaN\n",
    "        else:\n",
    "            return np.NaN\n",
    "    else:\n",
    "        return np.NaN"
   ]
  },
  {
   "cell_type": "code",
   "execution_count": 55,
   "metadata": {},
   "outputs": [],
   "source": [
    "# create a series that identifies hot or cold or nan conditions for \n",
    "# a power outage using the function above\n",
    "hot_or_cold = severe_weather.reset_index().apply(lambda x: exclude_nontypical(x[\"SEASON\"], x[\"CAUSE.CATEGORY.DETAIL\"]), axis=1)"
   ]
  },
  {
   "cell_type": "code",
   "execution_count": 56,
   "metadata": {},
   "outputs": [
    {
     "data": {
      "text/plain": [
       "0       NaN\n",
       "1       NaN\n",
       "2       hot\n",
       "3       NaN\n",
       "4       NaN\n",
       "       ... \n",
       "758    cold\n",
       "759    cold\n",
       "760     NaN\n",
       "761     NaN\n",
       "762     NaN\n",
       "Length: 763, dtype: object"
      ]
     },
     "execution_count": 56,
     "metadata": {},
     "output_type": "execute_result"
    }
   ],
   "source": [
    "hot_or_cold"
   ]
  },
  {
   "cell_type": "code",
   "execution_count": 57,
   "metadata": {},
   "outputs": [],
   "source": [
    "# add this series to severe weather\n",
    "hot_cold_df = severe_weather.assign(**{\"HOT.OR.COLD\": hot_or_cold})"
   ]
  },
  {
   "cell_type": "code",
   "execution_count": 62,
   "metadata": {},
   "outputs": [
    {
     "data": {
      "text/html": [
       "<div>\n",
       "<style scoped>\n",
       "    .dataframe tbody tr th:only-of-type {\n",
       "        vertical-align: middle;\n",
       "    }\n",
       "\n",
       "    .dataframe tbody tr th {\n",
       "        vertical-align: top;\n",
       "    }\n",
       "\n",
       "    .dataframe thead th {\n",
       "        text-align: right;\n",
       "    }\n",
       "</style>\n",
       "<table border=\"1\" class=\"dataframe\">\n",
       "  <thead>\n",
       "    <tr style=\"text-align: right;\">\n",
       "      <th></th>\n",
       "      <th>YEAR</th>\n",
       "      <th>MONTH</th>\n",
       "      <th>ANOMALY.LEVEL</th>\n",
       "      <th>OUTAGE.START</th>\n",
       "      <th>OUTAGE.RESTORATION</th>\n",
       "      <th>CAUSE.CATEGORY</th>\n",
       "      <th>CAUSE.CATEGORY.DETAIL</th>\n",
       "      <th>OUTAGE.DURATION</th>\n",
       "      <th>CUSTOMERS.AFFECTED</th>\n",
       "      <th>SEASON</th>\n",
       "      <th>HOT.OR.COLD</th>\n",
       "    </tr>\n",
       "  </thead>\n",
       "  <tbody>\n",
       "    <tr>\n",
       "      <th>0</th>\n",
       "      <td>2011</td>\n",
       "      <td>7</td>\n",
       "      <td>-0.3</td>\n",
       "      <td>2011-07-01 17:00:00</td>\n",
       "      <td>2011-07-03 20:00:00</td>\n",
       "      <td>severe weather</td>\n",
       "      <td>NaN</td>\n",
       "      <td>3060.0</td>\n",
       "      <td>70000.0</td>\n",
       "      <td>summer</td>\n",
       "      <td>NaN</td>\n",
       "    </tr>\n",
       "    <tr>\n",
       "      <th>1</th>\n",
       "      <td>2010</td>\n",
       "      <td>10</td>\n",
       "      <td>-1.5</td>\n",
       "      <td>2010-10-26 20:00:00</td>\n",
       "      <td>2010-10-28 22:00:00</td>\n",
       "      <td>severe weather</td>\n",
       "      <td>wind</td>\n",
       "      <td>3000.0</td>\n",
       "      <td>70000.0</td>\n",
       "      <td>fall</td>\n",
       "      <td>NaN</td>\n",
       "    </tr>\n",
       "    <tr>\n",
       "      <th>2</th>\n",
       "      <td>2012</td>\n",
       "      <td>6</td>\n",
       "      <td>-0.1</td>\n",
       "      <td>2012-06-19 04:30:00</td>\n",
       "      <td>2012-06-20 23:00:00</td>\n",
       "      <td>severe weather</td>\n",
       "      <td>thunderstorm</td>\n",
       "      <td>2550.0</td>\n",
       "      <td>68200.0</td>\n",
       "      <td>summer</td>\n",
       "      <td>hot</td>\n",
       "    </tr>\n",
       "    <tr>\n",
       "      <th>3</th>\n",
       "      <td>2015</td>\n",
       "      <td>7</td>\n",
       "      <td>1.2</td>\n",
       "      <td>2015-07-18 02:00:00</td>\n",
       "      <td>2015-07-19 07:00:00</td>\n",
       "      <td>severe weather</td>\n",
       "      <td>NaN</td>\n",
       "      <td>1740.0</td>\n",
       "      <td>250000.0</td>\n",
       "      <td>summer</td>\n",
       "      <td>NaN</td>\n",
       "    </tr>\n",
       "    <tr>\n",
       "      <th>4</th>\n",
       "      <td>2010</td>\n",
       "      <td>11</td>\n",
       "      <td>-1.4</td>\n",
       "      <td>2010-11-13 15:00:00</td>\n",
       "      <td>2010-11-14 22:00:00</td>\n",
       "      <td>severe weather</td>\n",
       "      <td>winter</td>\n",
       "      <td>1860.0</td>\n",
       "      <td>60000.0</td>\n",
       "      <td>fall</td>\n",
       "      <td>NaN</td>\n",
       "    </tr>\n",
       "  </tbody>\n",
       "</table>\n",
       "</div>"
      ],
      "text/plain": [
       "   YEAR  MONTH  ANOMALY.LEVEL        OUTAGE.START  OUTAGE.RESTORATION  \\\n",
       "0  2011      7           -0.3 2011-07-01 17:00:00 2011-07-03 20:00:00   \n",
       "1  2010     10           -1.5 2010-10-26 20:00:00 2010-10-28 22:00:00   \n",
       "2  2012      6           -0.1 2012-06-19 04:30:00 2012-06-20 23:00:00   \n",
       "3  2015      7            1.2 2015-07-18 02:00:00 2015-07-19 07:00:00   \n",
       "4  2010     11           -1.4 2010-11-13 15:00:00 2010-11-14 22:00:00   \n",
       "\n",
       "   CAUSE.CATEGORY CAUSE.CATEGORY.DETAIL  OUTAGE.DURATION  CUSTOMERS.AFFECTED  \\\n",
       "0  severe weather                   NaN           3060.0             70000.0   \n",
       "1  severe weather                  wind           3000.0             70000.0   \n",
       "2  severe weather          thunderstorm           2550.0             68200.0   \n",
       "3  severe weather                   NaN           1740.0            250000.0   \n",
       "4  severe weather                winter           1860.0             60000.0   \n",
       "\n",
       "   SEASON HOT.OR.COLD  \n",
       "0  summer         NaN  \n",
       "1    fall         NaN  \n",
       "2  summer         hot  \n",
       "3  summer         NaN  \n",
       "4    fall         NaN  "
      ]
     },
     "execution_count": 62,
     "metadata": {},
     "output_type": "execute_result"
    }
   ],
   "source": [
    "hot_cold_df.head()"
   ]
  },
  {
   "cell_type": "code",
   "execution_count": 104,
   "metadata": {},
   "outputs": [],
   "source": [
    "# create a sub-dataframe that only looks at summer and winter seasons\n",
    "# with this additional SEASON column added\n",
    "weather_df = hot_cold_df[(hot_cold_df[\"SEASON\"] == \"summer\") | (hot_cold_df[\"SEASON\"] == \"winter\")]"
   ]
  },
  {
   "cell_type": "code",
   "execution_count": 105,
   "metadata": {},
   "outputs": [
    {
     "data": {
      "text/html": [
       "<div>\n",
       "<style scoped>\n",
       "    .dataframe tbody tr th:only-of-type {\n",
       "        vertical-align: middle;\n",
       "    }\n",
       "\n",
       "    .dataframe tbody tr th {\n",
       "        vertical-align: top;\n",
       "    }\n",
       "\n",
       "    .dataframe thead th {\n",
       "        text-align: right;\n",
       "    }\n",
       "</style>\n",
       "<table border=\"1\" class=\"dataframe\">\n",
       "  <thead>\n",
       "    <tr style=\"text-align: right;\">\n",
       "      <th></th>\n",
       "      <th>YEAR</th>\n",
       "      <th>MONTH</th>\n",
       "      <th>ANOMALY.LEVEL</th>\n",
       "      <th>OUTAGE.START</th>\n",
       "      <th>OUTAGE.RESTORATION</th>\n",
       "      <th>CAUSE.CATEGORY</th>\n",
       "      <th>CAUSE.CATEGORY.DETAIL</th>\n",
       "      <th>OUTAGE.DURATION</th>\n",
       "      <th>CUSTOMERS.AFFECTED</th>\n",
       "      <th>SEASON</th>\n",
       "      <th>HOT.OR.COLD</th>\n",
       "    </tr>\n",
       "  </thead>\n",
       "  <tbody>\n",
       "    <tr>\n",
       "      <th>0</th>\n",
       "      <td>2011</td>\n",
       "      <td>7</td>\n",
       "      <td>-0.3</td>\n",
       "      <td>2011-07-01 17:00:00</td>\n",
       "      <td>2011-07-03 20:00:00</td>\n",
       "      <td>severe weather</td>\n",
       "      <td>NaN</td>\n",
       "      <td>3060.0</td>\n",
       "      <td>70000.0</td>\n",
       "      <td>summer</td>\n",
       "      <td>NaN</td>\n",
       "    </tr>\n",
       "    <tr>\n",
       "      <th>2</th>\n",
       "      <td>2012</td>\n",
       "      <td>6</td>\n",
       "      <td>-0.1</td>\n",
       "      <td>2012-06-19 04:30:00</td>\n",
       "      <td>2012-06-20 23:00:00</td>\n",
       "      <td>severe weather</td>\n",
       "      <td>thunderstorm</td>\n",
       "      <td>2550.0</td>\n",
       "      <td>68200.0</td>\n",
       "      <td>summer</td>\n",
       "      <td>hot</td>\n",
       "    </tr>\n",
       "    <tr>\n",
       "      <th>3</th>\n",
       "      <td>2015</td>\n",
       "      <td>7</td>\n",
       "      <td>1.2</td>\n",
       "      <td>2015-07-18 02:00:00</td>\n",
       "      <td>2015-07-19 07:00:00</td>\n",
       "      <td>severe weather</td>\n",
       "      <td>NaN</td>\n",
       "      <td>1740.0</td>\n",
       "      <td>250000.0</td>\n",
       "      <td>summer</td>\n",
       "      <td>NaN</td>\n",
       "    </tr>\n",
       "    <tr>\n",
       "      <th>5</th>\n",
       "      <td>2010</td>\n",
       "      <td>7</td>\n",
       "      <td>-0.9</td>\n",
       "      <td>2010-07-17 20:30:00</td>\n",
       "      <td>2010-07-19 22:00:00</td>\n",
       "      <td>severe weather</td>\n",
       "      <td>tornadoes</td>\n",
       "      <td>2970.0</td>\n",
       "      <td>63000.0</td>\n",
       "      <td>summer</td>\n",
       "      <td>hot</td>\n",
       "    </tr>\n",
       "    <tr>\n",
       "      <th>6</th>\n",
       "      <td>2005</td>\n",
       "      <td>6</td>\n",
       "      <td>0.2</td>\n",
       "      <td>2005-06-08 04:00:00</td>\n",
       "      <td>2005-06-10 22:00:00</td>\n",
       "      <td>severe weather</td>\n",
       "      <td>thunderstorm</td>\n",
       "      <td>3960.0</td>\n",
       "      <td>300000.0</td>\n",
       "      <td>summer</td>\n",
       "      <td>hot</td>\n",
       "    </tr>\n",
       "  </tbody>\n",
       "</table>\n",
       "</div>"
      ],
      "text/plain": [
       "   YEAR  MONTH  ANOMALY.LEVEL        OUTAGE.START  OUTAGE.RESTORATION  \\\n",
       "0  2011      7           -0.3 2011-07-01 17:00:00 2011-07-03 20:00:00   \n",
       "2  2012      6           -0.1 2012-06-19 04:30:00 2012-06-20 23:00:00   \n",
       "3  2015      7            1.2 2015-07-18 02:00:00 2015-07-19 07:00:00   \n",
       "5  2010      7           -0.9 2010-07-17 20:30:00 2010-07-19 22:00:00   \n",
       "6  2005      6            0.2 2005-06-08 04:00:00 2005-06-10 22:00:00   \n",
       "\n",
       "   CAUSE.CATEGORY CAUSE.CATEGORY.DETAIL  OUTAGE.DURATION  CUSTOMERS.AFFECTED  \\\n",
       "0  severe weather                   NaN           3060.0             70000.0   \n",
       "2  severe weather          thunderstorm           2550.0             68200.0   \n",
       "3  severe weather                   NaN           1740.0            250000.0   \n",
       "5  severe weather             tornadoes           2970.0             63000.0   \n",
       "6  severe weather          thunderstorm           3960.0            300000.0   \n",
       "\n",
       "   SEASON HOT.OR.COLD  \n",
       "0  summer         NaN  \n",
       "2  summer         hot  \n",
       "3  summer         NaN  \n",
       "5  summer         hot  \n",
       "6  summer         hot  "
      ]
     },
     "execution_count": 105,
     "metadata": {},
     "output_type": "execute_result"
    }
   ],
   "source": [
    "weather_df.head()"
   ]
  },
  {
   "cell_type": "markdown",
   "metadata": {},
   "source": [
    "We now have a dataframe that only includes summer and winter seasons, as well as an additional column that denotes the weather condition during the power outage, defined as either hot, cold, or nan."
   ]
  },
  {
   "cell_type": "markdown",
   "metadata": {},
   "source": [
    "We are interested in seeing how weather patterns impact the severity of a power outage. Our focus is: do power outages have longer duration periods in colder weather? We hypothesize that colder weather leads to longer mean duration times than hotter weather. Therefore, our null hypothesis is that cold weather and hot weather have the same mean power outage duration time. On the other hand, our alternative hypothesis is that colder weather has higher mean duration times than hotter weather. We believe colder weather is correlated with higher duration times since our data has more cold weather data, as we saw in our anomaly level bivariate analysis, and because severe weather conditions typically occur more often in colder weather."
   ]
  },
  {
   "cell_type": "markdown",
   "metadata": {},
   "source": [
    "To test this hypothesis, we found the mean duration times for hot and cold weather. We then subtracted hot mean duration time from cold mean duration time to calculate our observed statistic, since we are comparing two numerical distributions. To make sure we don't need to use the K.S. statistic, let's take a look at the distributions:"
   ]
  },
  {
   "cell_type": "code",
   "execution_count": 106,
   "metadata": {},
   "outputs": [
    {
     "data": {
      "application/vnd.plotly.v1+json": {
       "config": {
        "plotlyServerURL": "https://plot.ly"
       },
       "data": [
        {
         "alignmentgroup": "True",
         "bingroup": "x",
         "histnorm": "probability",
         "hovertemplate": "variable=OUTAGE.DURATION<br>Outage Duration=%{x}<br>probability=%{y}<extra></extra>",
         "legendgroup": "OUTAGE.DURATION",
         "marker": {
          "color": "#636efa",
          "pattern": {
           "shape": ""
          }
         },
         "name": "OUTAGE.DURATION",
         "nbinsx": 50,
         "offsetgroup": "OUTAGE.DURATION",
         "orientation": "v",
         "showlegend": true,
         "type": "histogram",
         "x": [
          2550,
          2970,
          3960,
          3621,
          7740,
          60,
          1260,
          1,
          4125,
          136,
          960,
          538,
          1272,
          1000,
          9576,
          4830,
          4320,
          3120,
          4590,
          7530,
          3300,
          2670,
          5700,
          270,
          11850,
          2760,
          8922,
          900,
          7620,
          5790,
          600,
          4259,
          7080,
          1588,
          420,
          1140,
          360,
          9486,
          847,
          215,
          12124,
          1500,
          1860,
          1200,
          2220,
          3569,
          1560,
          10140,
          1200,
          6000,
          1060,
          5250,
          569,
          200,
          1980,
          2730,
          1440,
          1130,
          513,
          10,
          3872,
          390,
          7609,
          150,
          420,
          2790,
          659,
          1320,
          3000,
          870,
          1336,
          1695,
          360,
          360,
          1530,
          1120,
          960,
          450,
          1440,
          49320,
          66,
          49320,
          2021,
          4470,
          2760,
          5628,
          2610,
          4320,
          4080,
          1320,
          2855,
          7298,
          7987,
          4517,
          3058,
          5579,
          3894,
          1757,
          4338,
          1714,
          1440,
          78,
          7523,
          3189,
          7709,
          283,
          420,
          5040,
          7430,
          165,
          1590,
          1372,
          2190,
          1843,
          180,
          388,
          373,
          1485,
          1698,
          2941,
          6090,
          333,
          7020,
          11058,
          488,
          390,
          8077,
          2070,
          8670,
          3300,
          2730,
          4710,
          1800,
          49,
          3240,
          8054,
          2160,
          1440,
          692,
          3067,
          3060,
          1867,
          240,
          5820,
          480,
          5071,
          221,
          13920,
          1099,
          180,
          656,
          255,
          1054,
          224,
          7371,
          435,
          47,
          180,
          252,
          47,
          1414,
          4605,
          126,
          424,
          624,
          90,
          385,
          144,
          6787,
          3366,
          1826,
          1072,
          115,
          816,
          168,
          1508,
          1301,
          60,
          4,
          1452,
          1200,
          645,
          4560,
          76,
          145,
          1732,
          6685,
          374,
          618,
          2710
         ],
         "xaxis": "x",
         "yaxis": "y"
        }
       ],
       "layout": {
        "barmode": "relative",
        "legend": {
         "title": {
          "text": "variable"
         },
         "tracegroupgap": 0
        },
        "showlegend": false,
        "template": {
         "data": {
          "bar": [
           {
            "error_x": {
             "color": "#2a3f5f"
            },
            "error_y": {
             "color": "#2a3f5f"
            },
            "marker": {
             "line": {
              "color": "#E5ECF6",
              "width": 0.5
             },
             "pattern": {
              "fillmode": "overlay",
              "size": 10,
              "solidity": 0.2
             }
            },
            "type": "bar"
           }
          ],
          "barpolar": [
           {
            "marker": {
             "line": {
              "color": "#E5ECF6",
              "width": 0.5
             },
             "pattern": {
              "fillmode": "overlay",
              "size": 10,
              "solidity": 0.2
             }
            },
            "type": "barpolar"
           }
          ],
          "carpet": [
           {
            "aaxis": {
             "endlinecolor": "#2a3f5f",
             "gridcolor": "white",
             "linecolor": "white",
             "minorgridcolor": "white",
             "startlinecolor": "#2a3f5f"
            },
            "baxis": {
             "endlinecolor": "#2a3f5f",
             "gridcolor": "white",
             "linecolor": "white",
             "minorgridcolor": "white",
             "startlinecolor": "#2a3f5f"
            },
            "type": "carpet"
           }
          ],
          "choropleth": [
           {
            "colorbar": {
             "outlinewidth": 0,
             "ticks": ""
            },
            "type": "choropleth"
           }
          ],
          "contour": [
           {
            "colorbar": {
             "outlinewidth": 0,
             "ticks": ""
            },
            "colorscale": [
             [
              0,
              "#0d0887"
             ],
             [
              0.1111111111111111,
              "#46039f"
             ],
             [
              0.2222222222222222,
              "#7201a8"
             ],
             [
              0.3333333333333333,
              "#9c179e"
             ],
             [
              0.4444444444444444,
              "#bd3786"
             ],
             [
              0.5555555555555556,
              "#d8576b"
             ],
             [
              0.6666666666666666,
              "#ed7953"
             ],
             [
              0.7777777777777778,
              "#fb9f3a"
             ],
             [
              0.8888888888888888,
              "#fdca26"
             ],
             [
              1,
              "#f0f921"
             ]
            ],
            "type": "contour"
           }
          ],
          "contourcarpet": [
           {
            "colorbar": {
             "outlinewidth": 0,
             "ticks": ""
            },
            "type": "contourcarpet"
           }
          ],
          "heatmap": [
           {
            "colorbar": {
             "outlinewidth": 0,
             "ticks": ""
            },
            "colorscale": [
             [
              0,
              "#0d0887"
             ],
             [
              0.1111111111111111,
              "#46039f"
             ],
             [
              0.2222222222222222,
              "#7201a8"
             ],
             [
              0.3333333333333333,
              "#9c179e"
             ],
             [
              0.4444444444444444,
              "#bd3786"
             ],
             [
              0.5555555555555556,
              "#d8576b"
             ],
             [
              0.6666666666666666,
              "#ed7953"
             ],
             [
              0.7777777777777778,
              "#fb9f3a"
             ],
             [
              0.8888888888888888,
              "#fdca26"
             ],
             [
              1,
              "#f0f921"
             ]
            ],
            "type": "heatmap"
           }
          ],
          "heatmapgl": [
           {
            "colorbar": {
             "outlinewidth": 0,
             "ticks": ""
            },
            "colorscale": [
             [
              0,
              "#0d0887"
             ],
             [
              0.1111111111111111,
              "#46039f"
             ],
             [
              0.2222222222222222,
              "#7201a8"
             ],
             [
              0.3333333333333333,
              "#9c179e"
             ],
             [
              0.4444444444444444,
              "#bd3786"
             ],
             [
              0.5555555555555556,
              "#d8576b"
             ],
             [
              0.6666666666666666,
              "#ed7953"
             ],
             [
              0.7777777777777778,
              "#fb9f3a"
             ],
             [
              0.8888888888888888,
              "#fdca26"
             ],
             [
              1,
              "#f0f921"
             ]
            ],
            "type": "heatmapgl"
           }
          ],
          "histogram": [
           {
            "marker": {
             "pattern": {
              "fillmode": "overlay",
              "size": 10,
              "solidity": 0.2
             }
            },
            "type": "histogram"
           }
          ],
          "histogram2d": [
           {
            "colorbar": {
             "outlinewidth": 0,
             "ticks": ""
            },
            "colorscale": [
             [
              0,
              "#0d0887"
             ],
             [
              0.1111111111111111,
              "#46039f"
             ],
             [
              0.2222222222222222,
              "#7201a8"
             ],
             [
              0.3333333333333333,
              "#9c179e"
             ],
             [
              0.4444444444444444,
              "#bd3786"
             ],
             [
              0.5555555555555556,
              "#d8576b"
             ],
             [
              0.6666666666666666,
              "#ed7953"
             ],
             [
              0.7777777777777778,
              "#fb9f3a"
             ],
             [
              0.8888888888888888,
              "#fdca26"
             ],
             [
              1,
              "#f0f921"
             ]
            ],
            "type": "histogram2d"
           }
          ],
          "histogram2dcontour": [
           {
            "colorbar": {
             "outlinewidth": 0,
             "ticks": ""
            },
            "colorscale": [
             [
              0,
              "#0d0887"
             ],
             [
              0.1111111111111111,
              "#46039f"
             ],
             [
              0.2222222222222222,
              "#7201a8"
             ],
             [
              0.3333333333333333,
              "#9c179e"
             ],
             [
              0.4444444444444444,
              "#bd3786"
             ],
             [
              0.5555555555555556,
              "#d8576b"
             ],
             [
              0.6666666666666666,
              "#ed7953"
             ],
             [
              0.7777777777777778,
              "#fb9f3a"
             ],
             [
              0.8888888888888888,
              "#fdca26"
             ],
             [
              1,
              "#f0f921"
             ]
            ],
            "type": "histogram2dcontour"
           }
          ],
          "mesh3d": [
           {
            "colorbar": {
             "outlinewidth": 0,
             "ticks": ""
            },
            "type": "mesh3d"
           }
          ],
          "parcoords": [
           {
            "line": {
             "colorbar": {
              "outlinewidth": 0,
              "ticks": ""
             }
            },
            "type": "parcoords"
           }
          ],
          "pie": [
           {
            "automargin": true,
            "type": "pie"
           }
          ],
          "scatter": [
           {
            "fillpattern": {
             "fillmode": "overlay",
             "size": 10,
             "solidity": 0.2
            },
            "type": "scatter"
           }
          ],
          "scatter3d": [
           {
            "line": {
             "colorbar": {
              "outlinewidth": 0,
              "ticks": ""
             }
            },
            "marker": {
             "colorbar": {
              "outlinewidth": 0,
              "ticks": ""
             }
            },
            "type": "scatter3d"
           }
          ],
          "scattercarpet": [
           {
            "marker": {
             "colorbar": {
              "outlinewidth": 0,
              "ticks": ""
             }
            },
            "type": "scattercarpet"
           }
          ],
          "scattergeo": [
           {
            "marker": {
             "colorbar": {
              "outlinewidth": 0,
              "ticks": ""
             }
            },
            "type": "scattergeo"
           }
          ],
          "scattergl": [
           {
            "marker": {
             "colorbar": {
              "outlinewidth": 0,
              "ticks": ""
             }
            },
            "type": "scattergl"
           }
          ],
          "scattermapbox": [
           {
            "marker": {
             "colorbar": {
              "outlinewidth": 0,
              "ticks": ""
             }
            },
            "type": "scattermapbox"
           }
          ],
          "scatterpolar": [
           {
            "marker": {
             "colorbar": {
              "outlinewidth": 0,
              "ticks": ""
             }
            },
            "type": "scatterpolar"
           }
          ],
          "scatterpolargl": [
           {
            "marker": {
             "colorbar": {
              "outlinewidth": 0,
              "ticks": ""
             }
            },
            "type": "scatterpolargl"
           }
          ],
          "scatterternary": [
           {
            "marker": {
             "colorbar": {
              "outlinewidth": 0,
              "ticks": ""
             }
            },
            "type": "scatterternary"
           }
          ],
          "surface": [
           {
            "colorbar": {
             "outlinewidth": 0,
             "ticks": ""
            },
            "colorscale": [
             [
              0,
              "#0d0887"
             ],
             [
              0.1111111111111111,
              "#46039f"
             ],
             [
              0.2222222222222222,
              "#7201a8"
             ],
             [
              0.3333333333333333,
              "#9c179e"
             ],
             [
              0.4444444444444444,
              "#bd3786"
             ],
             [
              0.5555555555555556,
              "#d8576b"
             ],
             [
              0.6666666666666666,
              "#ed7953"
             ],
             [
              0.7777777777777778,
              "#fb9f3a"
             ],
             [
              0.8888888888888888,
              "#fdca26"
             ],
             [
              1,
              "#f0f921"
             ]
            ],
            "type": "surface"
           }
          ],
          "table": [
           {
            "cells": {
             "fill": {
              "color": "#EBF0F8"
             },
             "line": {
              "color": "white"
             }
            },
            "header": {
             "fill": {
              "color": "#C8D4E3"
             },
             "line": {
              "color": "white"
             }
            },
            "type": "table"
           }
          ]
         },
         "layout": {
          "annotationdefaults": {
           "arrowcolor": "#2a3f5f",
           "arrowhead": 0,
           "arrowwidth": 1
          },
          "autotypenumbers": "strict",
          "coloraxis": {
           "colorbar": {
            "outlinewidth": 0,
            "ticks": ""
           }
          },
          "colorscale": {
           "diverging": [
            [
             0,
             "#8e0152"
            ],
            [
             0.1,
             "#c51b7d"
            ],
            [
             0.2,
             "#de77ae"
            ],
            [
             0.3,
             "#f1b6da"
            ],
            [
             0.4,
             "#fde0ef"
            ],
            [
             0.5,
             "#f7f7f7"
            ],
            [
             0.6,
             "#e6f5d0"
            ],
            [
             0.7,
             "#b8e186"
            ],
            [
             0.8,
             "#7fbc41"
            ],
            [
             0.9,
             "#4d9221"
            ],
            [
             1,
             "#276419"
            ]
           ],
           "sequential": [
            [
             0,
             "#0d0887"
            ],
            [
             0.1111111111111111,
             "#46039f"
            ],
            [
             0.2222222222222222,
             "#7201a8"
            ],
            [
             0.3333333333333333,
             "#9c179e"
            ],
            [
             0.4444444444444444,
             "#bd3786"
            ],
            [
             0.5555555555555556,
             "#d8576b"
            ],
            [
             0.6666666666666666,
             "#ed7953"
            ],
            [
             0.7777777777777778,
             "#fb9f3a"
            ],
            [
             0.8888888888888888,
             "#fdca26"
            ],
            [
             1,
             "#f0f921"
            ]
           ],
           "sequentialminus": [
            [
             0,
             "#0d0887"
            ],
            [
             0.1111111111111111,
             "#46039f"
            ],
            [
             0.2222222222222222,
             "#7201a8"
            ],
            [
             0.3333333333333333,
             "#9c179e"
            ],
            [
             0.4444444444444444,
             "#bd3786"
            ],
            [
             0.5555555555555556,
             "#d8576b"
            ],
            [
             0.6666666666666666,
             "#ed7953"
            ],
            [
             0.7777777777777778,
             "#fb9f3a"
            ],
            [
             0.8888888888888888,
             "#fdca26"
            ],
            [
             1,
             "#f0f921"
            ]
           ]
          },
          "colorway": [
           "#636efa",
           "#EF553B",
           "#00cc96",
           "#ab63fa",
           "#FFA15A",
           "#19d3f3",
           "#FF6692",
           "#B6E880",
           "#FF97FF",
           "#FECB52"
          ],
          "font": {
           "color": "#2a3f5f"
          },
          "geo": {
           "bgcolor": "white",
           "lakecolor": "white",
           "landcolor": "#E5ECF6",
           "showlakes": true,
           "showland": true,
           "subunitcolor": "white"
          },
          "hoverlabel": {
           "align": "left"
          },
          "hovermode": "closest",
          "mapbox": {
           "style": "light"
          },
          "paper_bgcolor": "white",
          "plot_bgcolor": "#E5ECF6",
          "polar": {
           "angularaxis": {
            "gridcolor": "white",
            "linecolor": "white",
            "ticks": ""
           },
           "bgcolor": "#E5ECF6",
           "radialaxis": {
            "gridcolor": "white",
            "linecolor": "white",
            "ticks": ""
           }
          },
          "scene": {
           "xaxis": {
            "backgroundcolor": "#E5ECF6",
            "gridcolor": "white",
            "gridwidth": 2,
            "linecolor": "white",
            "showbackground": true,
            "ticks": "",
            "zerolinecolor": "white"
           },
           "yaxis": {
            "backgroundcolor": "#E5ECF6",
            "gridcolor": "white",
            "gridwidth": 2,
            "linecolor": "white",
            "showbackground": true,
            "ticks": "",
            "zerolinecolor": "white"
           },
           "zaxis": {
            "backgroundcolor": "#E5ECF6",
            "gridcolor": "white",
            "gridwidth": 2,
            "linecolor": "white",
            "showbackground": true,
            "ticks": "",
            "zerolinecolor": "white"
           }
          },
          "shapedefaults": {
           "line": {
            "color": "#2a3f5f"
           }
          },
          "ternary": {
           "aaxis": {
            "gridcolor": "white",
            "linecolor": "white",
            "ticks": ""
           },
           "baxis": {
            "gridcolor": "white",
            "linecolor": "white",
            "ticks": ""
           },
           "bgcolor": "#E5ECF6",
           "caxis": {
            "gridcolor": "white",
            "linecolor": "white",
            "ticks": ""
           }
          },
          "title": {
           "x": 0.05
          },
          "xaxis": {
           "automargin": true,
           "gridcolor": "white",
           "linecolor": "white",
           "ticks": "",
           "title": {
            "standoff": 15
           },
           "zerolinecolor": "white",
           "zerolinewidth": 2
          },
          "yaxis": {
           "automargin": true,
           "gridcolor": "white",
           "linecolor": "white",
           "ticks": "",
           "title": {
            "standoff": 15
           },
           "zerolinecolor": "white",
           "zerolinewidth": 2
          }
         }
        },
        "title": {
         "text": "Probability Histogram of Outage Durations in Hot Weather"
        },
        "xaxis": {
         "anchor": "y",
         "domain": [
          0,
          1
         ],
         "title": {
          "text": "Outage Duration"
         }
        },
        "yaxis": {
         "anchor": "x",
         "domain": [
          0,
          1
         ],
         "title": {
          "text": "probability"
         }
        }
       }
      },
      "text/html": [
       "<div>                            <div id=\"4ba343c8-4599-42b4-96fe-017c1400139c\" class=\"plotly-graph-div\" style=\"height:525px; width:100%;\"></div>            <script type=\"text/javascript\">                require([\"plotly\"], function(Plotly) {                    window.PLOTLYENV=window.PLOTLYENV || {};                                    if (document.getElementById(\"4ba343c8-4599-42b4-96fe-017c1400139c\")) {                    Plotly.newPlot(                        \"4ba343c8-4599-42b4-96fe-017c1400139c\",                        [{\"alignmentgroup\":\"True\",\"bingroup\":\"x\",\"histnorm\":\"probability\",\"hovertemplate\":\"variable=OUTAGE.DURATION\\u003cbr\\u003eOutage Duration=%{x}\\u003cbr\\u003eprobability=%{y}\\u003cextra\\u003e\\u003c\\u002fextra\\u003e\",\"legendgroup\":\"OUTAGE.DURATION\",\"marker\":{\"color\":\"#636efa\",\"pattern\":{\"shape\":\"\"}},\"name\":\"OUTAGE.DURATION\",\"nbinsx\":50,\"offsetgroup\":\"OUTAGE.DURATION\",\"orientation\":\"v\",\"showlegend\":true,\"x\":[2550.0,2970.0,3960.0,3621.0,7740.0,60.0,1260.0,1.0,4125.0,136.0,960.0,538.0,1272.0,1000.0,9576.0,4830.0,4320.0,3120.0,4590.0,7530.0,3300.0,2670.0,5700.0,270.0,11850.0,2760.0,8922.0,900.0,7620.0,5790.0,600.0,4259.0,7080.0,1588.0,420.0,1140.0,360.0,9486.0,847.0,215.0,12124.0,1500.0,1860.0,1200.0,2220.0,3569.0,1560.0,10140.0,1200.0,6000.0,1060.0,5250.0,569.0,200.0,1980.0,2730.0,1440.0,1130.0,513.0,10.0,3872.0,390.0,7609.0,150.0,420.0,2790.0,659.0,1320.0,3000.0,870.0,1336.0,1695.0,360.0,360.0,1530.0,1120.0,960.0,450.0,1440.0,49320.0,66.0,49320.0,2021.0,4470.0,2760.0,5628.0,2610.0,4320.0,4080.0,1320.0,2855.0,7298.0,7987.0,4517.0,3058.0,5579.0,3894.0,1757.0,4338.0,1714.0,1440.0,78.0,7523.0,3189.0,7709.0,283.0,420.0,5040.0,7430.0,165.0,1590.0,1372.0,2190.0,1843.0,180.0,388.0,373.0,1485.0,1698.0,2941.0,6090.0,333.0,7020.0,11058.0,488.0,390.0,8077.0,2070.0,8670.0,3300.0,2730.0,4710.0,1800.0,49.0,3240.0,8054.0,2160.0,1440.0,692.0,3067.0,3060.0,1867.0,240.0,5820.0,480.0,5071.0,221.0,13920.0,1099.0,180.0,656.0,255.0,1054.0,224.0,7371.0,435.0,47.0,180.0,252.0,47.0,1414.0,4605.0,126.0,424.0,624.0,90.0,385.0,144.0,6787.0,3366.0,1826.0,1072.0,115.0,816.0,168.0,1508.0,1301.0,60.0,4.0,1452.0,1200.0,645.0,4560.0,76.0,145.0,1732.0,6685.0,374.0,618.0,2710.0],\"xaxis\":\"x\",\"yaxis\":\"y\",\"type\":\"histogram\"}],                        {\"template\":{\"data\":{\"histogram2dcontour\":[{\"type\":\"histogram2dcontour\",\"colorbar\":{\"outlinewidth\":0,\"ticks\":\"\"},\"colorscale\":[[0.0,\"#0d0887\"],[0.1111111111111111,\"#46039f\"],[0.2222222222222222,\"#7201a8\"],[0.3333333333333333,\"#9c179e\"],[0.4444444444444444,\"#bd3786\"],[0.5555555555555556,\"#d8576b\"],[0.6666666666666666,\"#ed7953\"],[0.7777777777777778,\"#fb9f3a\"],[0.8888888888888888,\"#fdca26\"],[1.0,\"#f0f921\"]]}],\"choropleth\":[{\"type\":\"choropleth\",\"colorbar\":{\"outlinewidth\":0,\"ticks\":\"\"}}],\"histogram2d\":[{\"type\":\"histogram2d\",\"colorbar\":{\"outlinewidth\":0,\"ticks\":\"\"},\"colorscale\":[[0.0,\"#0d0887\"],[0.1111111111111111,\"#46039f\"],[0.2222222222222222,\"#7201a8\"],[0.3333333333333333,\"#9c179e\"],[0.4444444444444444,\"#bd3786\"],[0.5555555555555556,\"#d8576b\"],[0.6666666666666666,\"#ed7953\"],[0.7777777777777778,\"#fb9f3a\"],[0.8888888888888888,\"#fdca26\"],[1.0,\"#f0f921\"]]}],\"heatmap\":[{\"type\":\"heatmap\",\"colorbar\":{\"outlinewidth\":0,\"ticks\":\"\"},\"colorscale\":[[0.0,\"#0d0887\"],[0.1111111111111111,\"#46039f\"],[0.2222222222222222,\"#7201a8\"],[0.3333333333333333,\"#9c179e\"],[0.4444444444444444,\"#bd3786\"],[0.5555555555555556,\"#d8576b\"],[0.6666666666666666,\"#ed7953\"],[0.7777777777777778,\"#fb9f3a\"],[0.8888888888888888,\"#fdca26\"],[1.0,\"#f0f921\"]]}],\"heatmapgl\":[{\"type\":\"heatmapgl\",\"colorbar\":{\"outlinewidth\":0,\"ticks\":\"\"},\"colorscale\":[[0.0,\"#0d0887\"],[0.1111111111111111,\"#46039f\"],[0.2222222222222222,\"#7201a8\"],[0.3333333333333333,\"#9c179e\"],[0.4444444444444444,\"#bd3786\"],[0.5555555555555556,\"#d8576b\"],[0.6666666666666666,\"#ed7953\"],[0.7777777777777778,\"#fb9f3a\"],[0.8888888888888888,\"#fdca26\"],[1.0,\"#f0f921\"]]}],\"contourcarpet\":[{\"type\":\"contourcarpet\",\"colorbar\":{\"outlinewidth\":0,\"ticks\":\"\"}}],\"contour\":[{\"type\":\"contour\",\"colorbar\":{\"outlinewidth\":0,\"ticks\":\"\"},\"colorscale\":[[0.0,\"#0d0887\"],[0.1111111111111111,\"#46039f\"],[0.2222222222222222,\"#7201a8\"],[0.3333333333333333,\"#9c179e\"],[0.4444444444444444,\"#bd3786\"],[0.5555555555555556,\"#d8576b\"],[0.6666666666666666,\"#ed7953\"],[0.7777777777777778,\"#fb9f3a\"],[0.8888888888888888,\"#fdca26\"],[1.0,\"#f0f921\"]]}],\"surface\":[{\"type\":\"surface\",\"colorbar\":{\"outlinewidth\":0,\"ticks\":\"\"},\"colorscale\":[[0.0,\"#0d0887\"],[0.1111111111111111,\"#46039f\"],[0.2222222222222222,\"#7201a8\"],[0.3333333333333333,\"#9c179e\"],[0.4444444444444444,\"#bd3786\"],[0.5555555555555556,\"#d8576b\"],[0.6666666666666666,\"#ed7953\"],[0.7777777777777778,\"#fb9f3a\"],[0.8888888888888888,\"#fdca26\"],[1.0,\"#f0f921\"]]}],\"mesh3d\":[{\"type\":\"mesh3d\",\"colorbar\":{\"outlinewidth\":0,\"ticks\":\"\"}}],\"scatter\":[{\"fillpattern\":{\"fillmode\":\"overlay\",\"size\":10,\"solidity\":0.2},\"type\":\"scatter\"}],\"parcoords\":[{\"type\":\"parcoords\",\"line\":{\"colorbar\":{\"outlinewidth\":0,\"ticks\":\"\"}}}],\"scatterpolargl\":[{\"type\":\"scatterpolargl\",\"marker\":{\"colorbar\":{\"outlinewidth\":0,\"ticks\":\"\"}}}],\"bar\":[{\"error_x\":{\"color\":\"#2a3f5f\"},\"error_y\":{\"color\":\"#2a3f5f\"},\"marker\":{\"line\":{\"color\":\"#E5ECF6\",\"width\":0.5},\"pattern\":{\"fillmode\":\"overlay\",\"size\":10,\"solidity\":0.2}},\"type\":\"bar\"}],\"scattergeo\":[{\"type\":\"scattergeo\",\"marker\":{\"colorbar\":{\"outlinewidth\":0,\"ticks\":\"\"}}}],\"scatterpolar\":[{\"type\":\"scatterpolar\",\"marker\":{\"colorbar\":{\"outlinewidth\":0,\"ticks\":\"\"}}}],\"histogram\":[{\"marker\":{\"pattern\":{\"fillmode\":\"overlay\",\"size\":10,\"solidity\":0.2}},\"type\":\"histogram\"}],\"scattergl\":[{\"type\":\"scattergl\",\"marker\":{\"colorbar\":{\"outlinewidth\":0,\"ticks\":\"\"}}}],\"scatter3d\":[{\"type\":\"scatter3d\",\"line\":{\"colorbar\":{\"outlinewidth\":0,\"ticks\":\"\"}},\"marker\":{\"colorbar\":{\"outlinewidth\":0,\"ticks\":\"\"}}}],\"scattermapbox\":[{\"type\":\"scattermapbox\",\"marker\":{\"colorbar\":{\"outlinewidth\":0,\"ticks\":\"\"}}}],\"scatterternary\":[{\"type\":\"scatterternary\",\"marker\":{\"colorbar\":{\"outlinewidth\":0,\"ticks\":\"\"}}}],\"scattercarpet\":[{\"type\":\"scattercarpet\",\"marker\":{\"colorbar\":{\"outlinewidth\":0,\"ticks\":\"\"}}}],\"carpet\":[{\"aaxis\":{\"endlinecolor\":\"#2a3f5f\",\"gridcolor\":\"white\",\"linecolor\":\"white\",\"minorgridcolor\":\"white\",\"startlinecolor\":\"#2a3f5f\"},\"baxis\":{\"endlinecolor\":\"#2a3f5f\",\"gridcolor\":\"white\",\"linecolor\":\"white\",\"minorgridcolor\":\"white\",\"startlinecolor\":\"#2a3f5f\"},\"type\":\"carpet\"}],\"table\":[{\"cells\":{\"fill\":{\"color\":\"#EBF0F8\"},\"line\":{\"color\":\"white\"}},\"header\":{\"fill\":{\"color\":\"#C8D4E3\"},\"line\":{\"color\":\"white\"}},\"type\":\"table\"}],\"barpolar\":[{\"marker\":{\"line\":{\"color\":\"#E5ECF6\",\"width\":0.5},\"pattern\":{\"fillmode\":\"overlay\",\"size\":10,\"solidity\":0.2}},\"type\":\"barpolar\"}],\"pie\":[{\"automargin\":true,\"type\":\"pie\"}]},\"layout\":{\"autotypenumbers\":\"strict\",\"colorway\":[\"#636efa\",\"#EF553B\",\"#00cc96\",\"#ab63fa\",\"#FFA15A\",\"#19d3f3\",\"#FF6692\",\"#B6E880\",\"#FF97FF\",\"#FECB52\"],\"font\":{\"color\":\"#2a3f5f\"},\"hovermode\":\"closest\",\"hoverlabel\":{\"align\":\"left\"},\"paper_bgcolor\":\"white\",\"plot_bgcolor\":\"#E5ECF6\",\"polar\":{\"bgcolor\":\"#E5ECF6\",\"angularaxis\":{\"gridcolor\":\"white\",\"linecolor\":\"white\",\"ticks\":\"\"},\"radialaxis\":{\"gridcolor\":\"white\",\"linecolor\":\"white\",\"ticks\":\"\"}},\"ternary\":{\"bgcolor\":\"#E5ECF6\",\"aaxis\":{\"gridcolor\":\"white\",\"linecolor\":\"white\",\"ticks\":\"\"},\"baxis\":{\"gridcolor\":\"white\",\"linecolor\":\"white\",\"ticks\":\"\"},\"caxis\":{\"gridcolor\":\"white\",\"linecolor\":\"white\",\"ticks\":\"\"}},\"coloraxis\":{\"colorbar\":{\"outlinewidth\":0,\"ticks\":\"\"}},\"colorscale\":{\"sequential\":[[0.0,\"#0d0887\"],[0.1111111111111111,\"#46039f\"],[0.2222222222222222,\"#7201a8\"],[0.3333333333333333,\"#9c179e\"],[0.4444444444444444,\"#bd3786\"],[0.5555555555555556,\"#d8576b\"],[0.6666666666666666,\"#ed7953\"],[0.7777777777777778,\"#fb9f3a\"],[0.8888888888888888,\"#fdca26\"],[1.0,\"#f0f921\"]],\"sequentialminus\":[[0.0,\"#0d0887\"],[0.1111111111111111,\"#46039f\"],[0.2222222222222222,\"#7201a8\"],[0.3333333333333333,\"#9c179e\"],[0.4444444444444444,\"#bd3786\"],[0.5555555555555556,\"#d8576b\"],[0.6666666666666666,\"#ed7953\"],[0.7777777777777778,\"#fb9f3a\"],[0.8888888888888888,\"#fdca26\"],[1.0,\"#f0f921\"]],\"diverging\":[[0,\"#8e0152\"],[0.1,\"#c51b7d\"],[0.2,\"#de77ae\"],[0.3,\"#f1b6da\"],[0.4,\"#fde0ef\"],[0.5,\"#f7f7f7\"],[0.6,\"#e6f5d0\"],[0.7,\"#b8e186\"],[0.8,\"#7fbc41\"],[0.9,\"#4d9221\"],[1,\"#276419\"]]},\"xaxis\":{\"gridcolor\":\"white\",\"linecolor\":\"white\",\"ticks\":\"\",\"title\":{\"standoff\":15},\"zerolinecolor\":\"white\",\"automargin\":true,\"zerolinewidth\":2},\"yaxis\":{\"gridcolor\":\"white\",\"linecolor\":\"white\",\"ticks\":\"\",\"title\":{\"standoff\":15},\"zerolinecolor\":\"white\",\"automargin\":true,\"zerolinewidth\":2},\"scene\":{\"xaxis\":{\"backgroundcolor\":\"#E5ECF6\",\"gridcolor\":\"white\",\"linecolor\":\"white\",\"showbackground\":true,\"ticks\":\"\",\"zerolinecolor\":\"white\",\"gridwidth\":2},\"yaxis\":{\"backgroundcolor\":\"#E5ECF6\",\"gridcolor\":\"white\",\"linecolor\":\"white\",\"showbackground\":true,\"ticks\":\"\",\"zerolinecolor\":\"white\",\"gridwidth\":2},\"zaxis\":{\"backgroundcolor\":\"#E5ECF6\",\"gridcolor\":\"white\",\"linecolor\":\"white\",\"showbackground\":true,\"ticks\":\"\",\"zerolinecolor\":\"white\",\"gridwidth\":2}},\"shapedefaults\":{\"line\":{\"color\":\"#2a3f5f\"}},\"annotationdefaults\":{\"arrowcolor\":\"#2a3f5f\",\"arrowhead\":0,\"arrowwidth\":1},\"geo\":{\"bgcolor\":\"white\",\"landcolor\":\"#E5ECF6\",\"subunitcolor\":\"white\",\"showland\":true,\"showlakes\":true,\"lakecolor\":\"white\"},\"title\":{\"x\":0.05},\"mapbox\":{\"style\":\"light\"}}},\"xaxis\":{\"anchor\":\"y\",\"domain\":[0.0,1.0],\"title\":{\"text\":\"Outage Duration\"}},\"yaxis\":{\"anchor\":\"x\",\"domain\":[0.0,1.0],\"title\":{\"text\":\"probability\"}},\"legend\":{\"title\":{\"text\":\"variable\"},\"tracegroupgap\":0},\"title\":{\"text\":\"Probability Histogram of Outage Durations in Hot Weather\"},\"barmode\":\"relative\",\"showlegend\":false},                        {\"responsive\": true}                    ).then(function(){\n",
       "                            \n",
       "var gd = document.getElementById('4ba343c8-4599-42b4-96fe-017c1400139c');\n",
       "var x = new MutationObserver(function (mutations, observer) {{\n",
       "        var display = window.getComputedStyle(gd).display;\n",
       "        if (!display || display === 'none') {{\n",
       "            console.log([gd, 'removed!']);\n",
       "            Plotly.purge(gd);\n",
       "            observer.disconnect();\n",
       "        }}\n",
       "}});\n",
       "\n",
       "// Listen for the removal of the full notebook cells\n",
       "var notebookContainer = gd.closest('#notebook-container');\n",
       "if (notebookContainer) {{\n",
       "    x.observe(notebookContainer, {childList: true});\n",
       "}}\n",
       "\n",
       "// Listen for the clearing of the current output cell\n",
       "var outputEl = gd.closest('.output');\n",
       "if (outputEl) {{\n",
       "    x.observe(outputEl, {childList: true});\n",
       "}}\n",
       "\n",
       "                        })                };                });            </script>        </div>"
      ]
     },
     "metadata": {},
     "output_type": "display_data"
    }
   ],
   "source": [
    "# plot the distribution of outage duration in hot weather\n",
    "figh = px.histogram(weather_df[weather_df[\"HOT.OR.COLD\"] == \"hot\"][\"OUTAGE.DURATION\"],\n",
    "                    nbins=50, histnorm='probability',\n",
    "                   labels={\"value\": \"Outage Duration\", \"probability\": \"Probability\"},\n",
    "                   title=\"Probability Histogram of Outage Durations in Hot Weather\")\n",
    "figh.update_layout(showlegend=False)\n",
    "figh.show()"
   ]
  },
  {
   "cell_type": "code",
   "execution_count": 107,
   "metadata": {},
   "outputs": [
    {
     "data": {
      "application/vnd.plotly.v1+json": {
       "config": {
        "plotlyServerURL": "https://plot.ly"
       },
       "data": [
        {
         "alignmentgroup": "True",
         "bingroup": "x",
         "histnorm": "probability",
         "hovertemplate": "variable=OUTAGE.DURATION<br>Outage Duration=%{x}<br>probability=%{y}<extra></extra>",
         "legendgroup": "OUTAGE.DURATION",
         "marker": {
          "color": "#636efa",
          "pattern": {
           "shape": ""
          }
         },
         "name": "OUTAGE.DURATION",
         "nbinsx": 50,
         "offsetgroup": "OUTAGE.DURATION",
         "orientation": "v",
         "showlegend": true,
         "type": "histogram",
         "x": [
          935,
          150,
          251,
          1200,
          2818,
          150,
          1920,
          32,
          3637,
          4320,
          9857,
          5115,
          7650,
          4110,
          6420,
          705,
          4242,
          9150,
          1203,
          1559,
          327,
          1860,
          570,
          6300,
          7809,
          2220,
          2120,
          15950,
          23773,
          12240,
          3264,
          1200,
          1020,
          5340,
          1920,
          2040,
          6690,
          2639,
          6480,
          9630,
          3507,
          2820,
          22769,
          1671,
          3938,
          2279,
          4440,
          1840,
          1196,
          4232,
          1,
          5790,
          9450,
          2985,
          2319,
          59,
          4139,
          930,
          1,
          5160,
          2668,
          1,
          6940,
          54,
          720,
          2790,
          7080,
          1,
          1680,
          3570,
          6492,
          15180,
          805,
          3630,
          11640,
          1420,
          930,
          4510,
          290,
          1950,
          1318,
          1265,
          3388,
          182,
          3720,
          11580,
          180,
          4177,
          7440,
          3480,
          6600,
          300,
          4380,
          4313,
          9886,
          6660,
          54,
          4150,
          4740,
          4140,
          15420,
          53,
          347,
          1044,
          3943,
          10726,
          5400,
          3584,
          7320,
          2520,
          523,
          1470,
          4740,
          294,
          2645,
          3408,
          4890,
          2759,
          15180,
          14190,
          6070,
          5910,
          null,
          8100,
          2820,
          1950,
          572,
          6780,
          4080,
          10274,
          2700,
          8160,
          448,
          103,
          1355,
          570,
          2691,
          485,
          810,
          1380,
          1800,
          1865,
          1999,
          1087,
          4122,
          210,
          11880,
          7200,
          148,
          13972,
          480,
          4745,
          2108,
          198,
          3667,
          1037,
          2652,
          13650,
          14040,
          1367
         ],
         "xaxis": "x",
         "yaxis": "y"
        }
       ],
       "layout": {
        "barmode": "relative",
        "legend": {
         "title": {
          "text": "variable"
         },
         "tracegroupgap": 0
        },
        "showlegend": false,
        "template": {
         "data": {
          "bar": [
           {
            "error_x": {
             "color": "#2a3f5f"
            },
            "error_y": {
             "color": "#2a3f5f"
            },
            "marker": {
             "line": {
              "color": "#E5ECF6",
              "width": 0.5
             },
             "pattern": {
              "fillmode": "overlay",
              "size": 10,
              "solidity": 0.2
             }
            },
            "type": "bar"
           }
          ],
          "barpolar": [
           {
            "marker": {
             "line": {
              "color": "#E5ECF6",
              "width": 0.5
             },
             "pattern": {
              "fillmode": "overlay",
              "size": 10,
              "solidity": 0.2
             }
            },
            "type": "barpolar"
           }
          ],
          "carpet": [
           {
            "aaxis": {
             "endlinecolor": "#2a3f5f",
             "gridcolor": "white",
             "linecolor": "white",
             "minorgridcolor": "white",
             "startlinecolor": "#2a3f5f"
            },
            "baxis": {
             "endlinecolor": "#2a3f5f",
             "gridcolor": "white",
             "linecolor": "white",
             "minorgridcolor": "white",
             "startlinecolor": "#2a3f5f"
            },
            "type": "carpet"
           }
          ],
          "choropleth": [
           {
            "colorbar": {
             "outlinewidth": 0,
             "ticks": ""
            },
            "type": "choropleth"
           }
          ],
          "contour": [
           {
            "colorbar": {
             "outlinewidth": 0,
             "ticks": ""
            },
            "colorscale": [
             [
              0,
              "#0d0887"
             ],
             [
              0.1111111111111111,
              "#46039f"
             ],
             [
              0.2222222222222222,
              "#7201a8"
             ],
             [
              0.3333333333333333,
              "#9c179e"
             ],
             [
              0.4444444444444444,
              "#bd3786"
             ],
             [
              0.5555555555555556,
              "#d8576b"
             ],
             [
              0.6666666666666666,
              "#ed7953"
             ],
             [
              0.7777777777777778,
              "#fb9f3a"
             ],
             [
              0.8888888888888888,
              "#fdca26"
             ],
             [
              1,
              "#f0f921"
             ]
            ],
            "type": "contour"
           }
          ],
          "contourcarpet": [
           {
            "colorbar": {
             "outlinewidth": 0,
             "ticks": ""
            },
            "type": "contourcarpet"
           }
          ],
          "heatmap": [
           {
            "colorbar": {
             "outlinewidth": 0,
             "ticks": ""
            },
            "colorscale": [
             [
              0,
              "#0d0887"
             ],
             [
              0.1111111111111111,
              "#46039f"
             ],
             [
              0.2222222222222222,
              "#7201a8"
             ],
             [
              0.3333333333333333,
              "#9c179e"
             ],
             [
              0.4444444444444444,
              "#bd3786"
             ],
             [
              0.5555555555555556,
              "#d8576b"
             ],
             [
              0.6666666666666666,
              "#ed7953"
             ],
             [
              0.7777777777777778,
              "#fb9f3a"
             ],
             [
              0.8888888888888888,
              "#fdca26"
             ],
             [
              1,
              "#f0f921"
             ]
            ],
            "type": "heatmap"
           }
          ],
          "heatmapgl": [
           {
            "colorbar": {
             "outlinewidth": 0,
             "ticks": ""
            },
            "colorscale": [
             [
              0,
              "#0d0887"
             ],
             [
              0.1111111111111111,
              "#46039f"
             ],
             [
              0.2222222222222222,
              "#7201a8"
             ],
             [
              0.3333333333333333,
              "#9c179e"
             ],
             [
              0.4444444444444444,
              "#bd3786"
             ],
             [
              0.5555555555555556,
              "#d8576b"
             ],
             [
              0.6666666666666666,
              "#ed7953"
             ],
             [
              0.7777777777777778,
              "#fb9f3a"
             ],
             [
              0.8888888888888888,
              "#fdca26"
             ],
             [
              1,
              "#f0f921"
             ]
            ],
            "type": "heatmapgl"
           }
          ],
          "histogram": [
           {
            "marker": {
             "pattern": {
              "fillmode": "overlay",
              "size": 10,
              "solidity": 0.2
             }
            },
            "type": "histogram"
           }
          ],
          "histogram2d": [
           {
            "colorbar": {
             "outlinewidth": 0,
             "ticks": ""
            },
            "colorscale": [
             [
              0,
              "#0d0887"
             ],
             [
              0.1111111111111111,
              "#46039f"
             ],
             [
              0.2222222222222222,
              "#7201a8"
             ],
             [
              0.3333333333333333,
              "#9c179e"
             ],
             [
              0.4444444444444444,
              "#bd3786"
             ],
             [
              0.5555555555555556,
              "#d8576b"
             ],
             [
              0.6666666666666666,
              "#ed7953"
             ],
             [
              0.7777777777777778,
              "#fb9f3a"
             ],
             [
              0.8888888888888888,
              "#fdca26"
             ],
             [
              1,
              "#f0f921"
             ]
            ],
            "type": "histogram2d"
           }
          ],
          "histogram2dcontour": [
           {
            "colorbar": {
             "outlinewidth": 0,
             "ticks": ""
            },
            "colorscale": [
             [
              0,
              "#0d0887"
             ],
             [
              0.1111111111111111,
              "#46039f"
             ],
             [
              0.2222222222222222,
              "#7201a8"
             ],
             [
              0.3333333333333333,
              "#9c179e"
             ],
             [
              0.4444444444444444,
              "#bd3786"
             ],
             [
              0.5555555555555556,
              "#d8576b"
             ],
             [
              0.6666666666666666,
              "#ed7953"
             ],
             [
              0.7777777777777778,
              "#fb9f3a"
             ],
             [
              0.8888888888888888,
              "#fdca26"
             ],
             [
              1,
              "#f0f921"
             ]
            ],
            "type": "histogram2dcontour"
           }
          ],
          "mesh3d": [
           {
            "colorbar": {
             "outlinewidth": 0,
             "ticks": ""
            },
            "type": "mesh3d"
           }
          ],
          "parcoords": [
           {
            "line": {
             "colorbar": {
              "outlinewidth": 0,
              "ticks": ""
             }
            },
            "type": "parcoords"
           }
          ],
          "pie": [
           {
            "automargin": true,
            "type": "pie"
           }
          ],
          "scatter": [
           {
            "fillpattern": {
             "fillmode": "overlay",
             "size": 10,
             "solidity": 0.2
            },
            "type": "scatter"
           }
          ],
          "scatter3d": [
           {
            "line": {
             "colorbar": {
              "outlinewidth": 0,
              "ticks": ""
             }
            },
            "marker": {
             "colorbar": {
              "outlinewidth": 0,
              "ticks": ""
             }
            },
            "type": "scatter3d"
           }
          ],
          "scattercarpet": [
           {
            "marker": {
             "colorbar": {
              "outlinewidth": 0,
              "ticks": ""
             }
            },
            "type": "scattercarpet"
           }
          ],
          "scattergeo": [
           {
            "marker": {
             "colorbar": {
              "outlinewidth": 0,
              "ticks": ""
             }
            },
            "type": "scattergeo"
           }
          ],
          "scattergl": [
           {
            "marker": {
             "colorbar": {
              "outlinewidth": 0,
              "ticks": ""
             }
            },
            "type": "scattergl"
           }
          ],
          "scattermapbox": [
           {
            "marker": {
             "colorbar": {
              "outlinewidth": 0,
              "ticks": ""
             }
            },
            "type": "scattermapbox"
           }
          ],
          "scatterpolar": [
           {
            "marker": {
             "colorbar": {
              "outlinewidth": 0,
              "ticks": ""
             }
            },
            "type": "scatterpolar"
           }
          ],
          "scatterpolargl": [
           {
            "marker": {
             "colorbar": {
              "outlinewidth": 0,
              "ticks": ""
             }
            },
            "type": "scatterpolargl"
           }
          ],
          "scatterternary": [
           {
            "marker": {
             "colorbar": {
              "outlinewidth": 0,
              "ticks": ""
             }
            },
            "type": "scatterternary"
           }
          ],
          "surface": [
           {
            "colorbar": {
             "outlinewidth": 0,
             "ticks": ""
            },
            "colorscale": [
             [
              0,
              "#0d0887"
             ],
             [
              0.1111111111111111,
              "#46039f"
             ],
             [
              0.2222222222222222,
              "#7201a8"
             ],
             [
              0.3333333333333333,
              "#9c179e"
             ],
             [
              0.4444444444444444,
              "#bd3786"
             ],
             [
              0.5555555555555556,
              "#d8576b"
             ],
             [
              0.6666666666666666,
              "#ed7953"
             ],
             [
              0.7777777777777778,
              "#fb9f3a"
             ],
             [
              0.8888888888888888,
              "#fdca26"
             ],
             [
              1,
              "#f0f921"
             ]
            ],
            "type": "surface"
           }
          ],
          "table": [
           {
            "cells": {
             "fill": {
              "color": "#EBF0F8"
             },
             "line": {
              "color": "white"
             }
            },
            "header": {
             "fill": {
              "color": "#C8D4E3"
             },
             "line": {
              "color": "white"
             }
            },
            "type": "table"
           }
          ]
         },
         "layout": {
          "annotationdefaults": {
           "arrowcolor": "#2a3f5f",
           "arrowhead": 0,
           "arrowwidth": 1
          },
          "autotypenumbers": "strict",
          "coloraxis": {
           "colorbar": {
            "outlinewidth": 0,
            "ticks": ""
           }
          },
          "colorscale": {
           "diverging": [
            [
             0,
             "#8e0152"
            ],
            [
             0.1,
             "#c51b7d"
            ],
            [
             0.2,
             "#de77ae"
            ],
            [
             0.3,
             "#f1b6da"
            ],
            [
             0.4,
             "#fde0ef"
            ],
            [
             0.5,
             "#f7f7f7"
            ],
            [
             0.6,
             "#e6f5d0"
            ],
            [
             0.7,
             "#b8e186"
            ],
            [
             0.8,
             "#7fbc41"
            ],
            [
             0.9,
             "#4d9221"
            ],
            [
             1,
             "#276419"
            ]
           ],
           "sequential": [
            [
             0,
             "#0d0887"
            ],
            [
             0.1111111111111111,
             "#46039f"
            ],
            [
             0.2222222222222222,
             "#7201a8"
            ],
            [
             0.3333333333333333,
             "#9c179e"
            ],
            [
             0.4444444444444444,
             "#bd3786"
            ],
            [
             0.5555555555555556,
             "#d8576b"
            ],
            [
             0.6666666666666666,
             "#ed7953"
            ],
            [
             0.7777777777777778,
             "#fb9f3a"
            ],
            [
             0.8888888888888888,
             "#fdca26"
            ],
            [
             1,
             "#f0f921"
            ]
           ],
           "sequentialminus": [
            [
             0,
             "#0d0887"
            ],
            [
             0.1111111111111111,
             "#46039f"
            ],
            [
             0.2222222222222222,
             "#7201a8"
            ],
            [
             0.3333333333333333,
             "#9c179e"
            ],
            [
             0.4444444444444444,
             "#bd3786"
            ],
            [
             0.5555555555555556,
             "#d8576b"
            ],
            [
             0.6666666666666666,
             "#ed7953"
            ],
            [
             0.7777777777777778,
             "#fb9f3a"
            ],
            [
             0.8888888888888888,
             "#fdca26"
            ],
            [
             1,
             "#f0f921"
            ]
           ]
          },
          "colorway": [
           "#636efa",
           "#EF553B",
           "#00cc96",
           "#ab63fa",
           "#FFA15A",
           "#19d3f3",
           "#FF6692",
           "#B6E880",
           "#FF97FF",
           "#FECB52"
          ],
          "font": {
           "color": "#2a3f5f"
          },
          "geo": {
           "bgcolor": "white",
           "lakecolor": "white",
           "landcolor": "#E5ECF6",
           "showlakes": true,
           "showland": true,
           "subunitcolor": "white"
          },
          "hoverlabel": {
           "align": "left"
          },
          "hovermode": "closest",
          "mapbox": {
           "style": "light"
          },
          "paper_bgcolor": "white",
          "plot_bgcolor": "#E5ECF6",
          "polar": {
           "angularaxis": {
            "gridcolor": "white",
            "linecolor": "white",
            "ticks": ""
           },
           "bgcolor": "#E5ECF6",
           "radialaxis": {
            "gridcolor": "white",
            "linecolor": "white",
            "ticks": ""
           }
          },
          "scene": {
           "xaxis": {
            "backgroundcolor": "#E5ECF6",
            "gridcolor": "white",
            "gridwidth": 2,
            "linecolor": "white",
            "showbackground": true,
            "ticks": "",
            "zerolinecolor": "white"
           },
           "yaxis": {
            "backgroundcolor": "#E5ECF6",
            "gridcolor": "white",
            "gridwidth": 2,
            "linecolor": "white",
            "showbackground": true,
            "ticks": "",
            "zerolinecolor": "white"
           },
           "zaxis": {
            "backgroundcolor": "#E5ECF6",
            "gridcolor": "white",
            "gridwidth": 2,
            "linecolor": "white",
            "showbackground": true,
            "ticks": "",
            "zerolinecolor": "white"
           }
          },
          "shapedefaults": {
           "line": {
            "color": "#2a3f5f"
           }
          },
          "ternary": {
           "aaxis": {
            "gridcolor": "white",
            "linecolor": "white",
            "ticks": ""
           },
           "baxis": {
            "gridcolor": "white",
            "linecolor": "white",
            "ticks": ""
           },
           "bgcolor": "#E5ECF6",
           "caxis": {
            "gridcolor": "white",
            "linecolor": "white",
            "ticks": ""
           }
          },
          "title": {
           "x": 0.05
          },
          "xaxis": {
           "automargin": true,
           "gridcolor": "white",
           "linecolor": "white",
           "ticks": "",
           "title": {
            "standoff": 15
           },
           "zerolinecolor": "white",
           "zerolinewidth": 2
          },
          "yaxis": {
           "automargin": true,
           "gridcolor": "white",
           "linecolor": "white",
           "ticks": "",
           "title": {
            "standoff": 15
           },
           "zerolinecolor": "white",
           "zerolinewidth": 2
          }
         }
        },
        "title": {
         "text": "Probability Histogram of Outage Durations in Cold Weather"
        },
        "xaxis": {
         "anchor": "y",
         "domain": [
          0,
          1
         ],
         "title": {
          "text": "Outage Duration"
         }
        },
        "yaxis": {
         "anchor": "x",
         "domain": [
          0,
          1
         ],
         "title": {
          "text": "probability"
         }
        }
       }
      },
      "text/html": [
       "<div>                            <div id=\"e2cf6841-84cf-42c9-b5c5-0d046f274fbb\" class=\"plotly-graph-div\" style=\"height:525px; width:100%;\"></div>            <script type=\"text/javascript\">                require([\"plotly\"], function(Plotly) {                    window.PLOTLYENV=window.PLOTLYENV || {};                                    if (document.getElementById(\"e2cf6841-84cf-42c9-b5c5-0d046f274fbb\")) {                    Plotly.newPlot(                        \"e2cf6841-84cf-42c9-b5c5-0d046f274fbb\",                        [{\"alignmentgroup\":\"True\",\"bingroup\":\"x\",\"histnorm\":\"probability\",\"hovertemplate\":\"variable=OUTAGE.DURATION\\u003cbr\\u003eOutage Duration=%{x}\\u003cbr\\u003eprobability=%{y}\\u003cextra\\u003e\\u003c\\u002fextra\\u003e\",\"legendgroup\":\"OUTAGE.DURATION\",\"marker\":{\"color\":\"#636efa\",\"pattern\":{\"shape\":\"\"}},\"name\":\"OUTAGE.DURATION\",\"nbinsx\":50,\"offsetgroup\":\"OUTAGE.DURATION\",\"orientation\":\"v\",\"showlegend\":true,\"x\":[935.0,150.0,251.0,1200.0,2818.0,150.0,1920.0,32.0,3637.0,4320.0,9857.0,5115.0,7650.0,4110.0,6420.0,705.0,4242.0,9150.0,1203.0,1559.0,327.0,1860.0,570.0,6300.0,7809.0,2220.0,2120.0,15950.0,23773.0,12240.0,3264.0,1200.0,1020.0,5340.0,1920.0,2040.0,6690.0,2639.0,6480.0,9630.0,3507.0,2820.0,22769.0,1671.0,3938.0,2279.0,4440.0,1840.0,1196.0,4232.0,1.0,5790.0,9450.0,2985.0,2319.0,59.0,4139.0,930.0,1.0,5160.0,2668.0,1.0,6940.0,54.0,720.0,2790.0,7080.0,1.0,1680.0,3570.0,6492.0,15180.0,805.0,3630.0,11640.0,1420.0,930.0,4510.0,290.0,1950.0,1318.0,1265.0,3388.0,182.0,3720.0,11580.0,180.0,4177.0,7440.0,3480.0,6600.0,300.0,4380.0,4313.0,9886.0,6660.0,54.0,4150.0,4740.0,4140.0,15420.0,53.0,347.0,1044.0,3943.0,10726.0,5400.0,3584.0,7320.0,2520.0,523.0,1470.0,4740.0,294.0,2645.0,3408.0,4890.0,2759.0,15180.0,14190.0,6070.0,5910.0,null,8100.0,2820.0,1950.0,572.0,6780.0,4080.0,10274.0,2700.0,8160.0,448.0,103.0,1355.0,570.0,2691.0,485.0,810.0,1380.0,1800.0,1865.0,1999.0,1087.0,4122.0,210.0,11880.0,7200.0,148.0,13972.0,480.0,4745.0,2108.0,198.0,3667.0,1037.0,2652.0,13650.0,14040.0,1367.0],\"xaxis\":\"x\",\"yaxis\":\"y\",\"type\":\"histogram\"}],                        {\"template\":{\"data\":{\"histogram2dcontour\":[{\"type\":\"histogram2dcontour\",\"colorbar\":{\"outlinewidth\":0,\"ticks\":\"\"},\"colorscale\":[[0.0,\"#0d0887\"],[0.1111111111111111,\"#46039f\"],[0.2222222222222222,\"#7201a8\"],[0.3333333333333333,\"#9c179e\"],[0.4444444444444444,\"#bd3786\"],[0.5555555555555556,\"#d8576b\"],[0.6666666666666666,\"#ed7953\"],[0.7777777777777778,\"#fb9f3a\"],[0.8888888888888888,\"#fdca26\"],[1.0,\"#f0f921\"]]}],\"choropleth\":[{\"type\":\"choropleth\",\"colorbar\":{\"outlinewidth\":0,\"ticks\":\"\"}}],\"histogram2d\":[{\"type\":\"histogram2d\",\"colorbar\":{\"outlinewidth\":0,\"ticks\":\"\"},\"colorscale\":[[0.0,\"#0d0887\"],[0.1111111111111111,\"#46039f\"],[0.2222222222222222,\"#7201a8\"],[0.3333333333333333,\"#9c179e\"],[0.4444444444444444,\"#bd3786\"],[0.5555555555555556,\"#d8576b\"],[0.6666666666666666,\"#ed7953\"],[0.7777777777777778,\"#fb9f3a\"],[0.8888888888888888,\"#fdca26\"],[1.0,\"#f0f921\"]]}],\"heatmap\":[{\"type\":\"heatmap\",\"colorbar\":{\"outlinewidth\":0,\"ticks\":\"\"},\"colorscale\":[[0.0,\"#0d0887\"],[0.1111111111111111,\"#46039f\"],[0.2222222222222222,\"#7201a8\"],[0.3333333333333333,\"#9c179e\"],[0.4444444444444444,\"#bd3786\"],[0.5555555555555556,\"#d8576b\"],[0.6666666666666666,\"#ed7953\"],[0.7777777777777778,\"#fb9f3a\"],[0.8888888888888888,\"#fdca26\"],[1.0,\"#f0f921\"]]}],\"heatmapgl\":[{\"type\":\"heatmapgl\",\"colorbar\":{\"outlinewidth\":0,\"ticks\":\"\"},\"colorscale\":[[0.0,\"#0d0887\"],[0.1111111111111111,\"#46039f\"],[0.2222222222222222,\"#7201a8\"],[0.3333333333333333,\"#9c179e\"],[0.4444444444444444,\"#bd3786\"],[0.5555555555555556,\"#d8576b\"],[0.6666666666666666,\"#ed7953\"],[0.7777777777777778,\"#fb9f3a\"],[0.8888888888888888,\"#fdca26\"],[1.0,\"#f0f921\"]]}],\"contourcarpet\":[{\"type\":\"contourcarpet\",\"colorbar\":{\"outlinewidth\":0,\"ticks\":\"\"}}],\"contour\":[{\"type\":\"contour\",\"colorbar\":{\"outlinewidth\":0,\"ticks\":\"\"},\"colorscale\":[[0.0,\"#0d0887\"],[0.1111111111111111,\"#46039f\"],[0.2222222222222222,\"#7201a8\"],[0.3333333333333333,\"#9c179e\"],[0.4444444444444444,\"#bd3786\"],[0.5555555555555556,\"#d8576b\"],[0.6666666666666666,\"#ed7953\"],[0.7777777777777778,\"#fb9f3a\"],[0.8888888888888888,\"#fdca26\"],[1.0,\"#f0f921\"]]}],\"surface\":[{\"type\":\"surface\",\"colorbar\":{\"outlinewidth\":0,\"ticks\":\"\"},\"colorscale\":[[0.0,\"#0d0887\"],[0.1111111111111111,\"#46039f\"],[0.2222222222222222,\"#7201a8\"],[0.3333333333333333,\"#9c179e\"],[0.4444444444444444,\"#bd3786\"],[0.5555555555555556,\"#d8576b\"],[0.6666666666666666,\"#ed7953\"],[0.7777777777777778,\"#fb9f3a\"],[0.8888888888888888,\"#fdca26\"],[1.0,\"#f0f921\"]]}],\"mesh3d\":[{\"type\":\"mesh3d\",\"colorbar\":{\"outlinewidth\":0,\"ticks\":\"\"}}],\"scatter\":[{\"fillpattern\":{\"fillmode\":\"overlay\",\"size\":10,\"solidity\":0.2},\"type\":\"scatter\"}],\"parcoords\":[{\"type\":\"parcoords\",\"line\":{\"colorbar\":{\"outlinewidth\":0,\"ticks\":\"\"}}}],\"scatterpolargl\":[{\"type\":\"scatterpolargl\",\"marker\":{\"colorbar\":{\"outlinewidth\":0,\"ticks\":\"\"}}}],\"bar\":[{\"error_x\":{\"color\":\"#2a3f5f\"},\"error_y\":{\"color\":\"#2a3f5f\"},\"marker\":{\"line\":{\"color\":\"#E5ECF6\",\"width\":0.5},\"pattern\":{\"fillmode\":\"overlay\",\"size\":10,\"solidity\":0.2}},\"type\":\"bar\"}],\"scattergeo\":[{\"type\":\"scattergeo\",\"marker\":{\"colorbar\":{\"outlinewidth\":0,\"ticks\":\"\"}}}],\"scatterpolar\":[{\"type\":\"scatterpolar\",\"marker\":{\"colorbar\":{\"outlinewidth\":0,\"ticks\":\"\"}}}],\"histogram\":[{\"marker\":{\"pattern\":{\"fillmode\":\"overlay\",\"size\":10,\"solidity\":0.2}},\"type\":\"histogram\"}],\"scattergl\":[{\"type\":\"scattergl\",\"marker\":{\"colorbar\":{\"outlinewidth\":0,\"ticks\":\"\"}}}],\"scatter3d\":[{\"type\":\"scatter3d\",\"line\":{\"colorbar\":{\"outlinewidth\":0,\"ticks\":\"\"}},\"marker\":{\"colorbar\":{\"outlinewidth\":0,\"ticks\":\"\"}}}],\"scattermapbox\":[{\"type\":\"scattermapbox\",\"marker\":{\"colorbar\":{\"outlinewidth\":0,\"ticks\":\"\"}}}],\"scatterternary\":[{\"type\":\"scatterternary\",\"marker\":{\"colorbar\":{\"outlinewidth\":0,\"ticks\":\"\"}}}],\"scattercarpet\":[{\"type\":\"scattercarpet\",\"marker\":{\"colorbar\":{\"outlinewidth\":0,\"ticks\":\"\"}}}],\"carpet\":[{\"aaxis\":{\"endlinecolor\":\"#2a3f5f\",\"gridcolor\":\"white\",\"linecolor\":\"white\",\"minorgridcolor\":\"white\",\"startlinecolor\":\"#2a3f5f\"},\"baxis\":{\"endlinecolor\":\"#2a3f5f\",\"gridcolor\":\"white\",\"linecolor\":\"white\",\"minorgridcolor\":\"white\",\"startlinecolor\":\"#2a3f5f\"},\"type\":\"carpet\"}],\"table\":[{\"cells\":{\"fill\":{\"color\":\"#EBF0F8\"},\"line\":{\"color\":\"white\"}},\"header\":{\"fill\":{\"color\":\"#C8D4E3\"},\"line\":{\"color\":\"white\"}},\"type\":\"table\"}],\"barpolar\":[{\"marker\":{\"line\":{\"color\":\"#E5ECF6\",\"width\":0.5},\"pattern\":{\"fillmode\":\"overlay\",\"size\":10,\"solidity\":0.2}},\"type\":\"barpolar\"}],\"pie\":[{\"automargin\":true,\"type\":\"pie\"}]},\"layout\":{\"autotypenumbers\":\"strict\",\"colorway\":[\"#636efa\",\"#EF553B\",\"#00cc96\",\"#ab63fa\",\"#FFA15A\",\"#19d3f3\",\"#FF6692\",\"#B6E880\",\"#FF97FF\",\"#FECB52\"],\"font\":{\"color\":\"#2a3f5f\"},\"hovermode\":\"closest\",\"hoverlabel\":{\"align\":\"left\"},\"paper_bgcolor\":\"white\",\"plot_bgcolor\":\"#E5ECF6\",\"polar\":{\"bgcolor\":\"#E5ECF6\",\"angularaxis\":{\"gridcolor\":\"white\",\"linecolor\":\"white\",\"ticks\":\"\"},\"radialaxis\":{\"gridcolor\":\"white\",\"linecolor\":\"white\",\"ticks\":\"\"}},\"ternary\":{\"bgcolor\":\"#E5ECF6\",\"aaxis\":{\"gridcolor\":\"white\",\"linecolor\":\"white\",\"ticks\":\"\"},\"baxis\":{\"gridcolor\":\"white\",\"linecolor\":\"white\",\"ticks\":\"\"},\"caxis\":{\"gridcolor\":\"white\",\"linecolor\":\"white\",\"ticks\":\"\"}},\"coloraxis\":{\"colorbar\":{\"outlinewidth\":0,\"ticks\":\"\"}},\"colorscale\":{\"sequential\":[[0.0,\"#0d0887\"],[0.1111111111111111,\"#46039f\"],[0.2222222222222222,\"#7201a8\"],[0.3333333333333333,\"#9c179e\"],[0.4444444444444444,\"#bd3786\"],[0.5555555555555556,\"#d8576b\"],[0.6666666666666666,\"#ed7953\"],[0.7777777777777778,\"#fb9f3a\"],[0.8888888888888888,\"#fdca26\"],[1.0,\"#f0f921\"]],\"sequentialminus\":[[0.0,\"#0d0887\"],[0.1111111111111111,\"#46039f\"],[0.2222222222222222,\"#7201a8\"],[0.3333333333333333,\"#9c179e\"],[0.4444444444444444,\"#bd3786\"],[0.5555555555555556,\"#d8576b\"],[0.6666666666666666,\"#ed7953\"],[0.7777777777777778,\"#fb9f3a\"],[0.8888888888888888,\"#fdca26\"],[1.0,\"#f0f921\"]],\"diverging\":[[0,\"#8e0152\"],[0.1,\"#c51b7d\"],[0.2,\"#de77ae\"],[0.3,\"#f1b6da\"],[0.4,\"#fde0ef\"],[0.5,\"#f7f7f7\"],[0.6,\"#e6f5d0\"],[0.7,\"#b8e186\"],[0.8,\"#7fbc41\"],[0.9,\"#4d9221\"],[1,\"#276419\"]]},\"xaxis\":{\"gridcolor\":\"white\",\"linecolor\":\"white\",\"ticks\":\"\",\"title\":{\"standoff\":15},\"zerolinecolor\":\"white\",\"automargin\":true,\"zerolinewidth\":2},\"yaxis\":{\"gridcolor\":\"white\",\"linecolor\":\"white\",\"ticks\":\"\",\"title\":{\"standoff\":15},\"zerolinecolor\":\"white\",\"automargin\":true,\"zerolinewidth\":2},\"scene\":{\"xaxis\":{\"backgroundcolor\":\"#E5ECF6\",\"gridcolor\":\"white\",\"linecolor\":\"white\",\"showbackground\":true,\"ticks\":\"\",\"zerolinecolor\":\"white\",\"gridwidth\":2},\"yaxis\":{\"backgroundcolor\":\"#E5ECF6\",\"gridcolor\":\"white\",\"linecolor\":\"white\",\"showbackground\":true,\"ticks\":\"\",\"zerolinecolor\":\"white\",\"gridwidth\":2},\"zaxis\":{\"backgroundcolor\":\"#E5ECF6\",\"gridcolor\":\"white\",\"linecolor\":\"white\",\"showbackground\":true,\"ticks\":\"\",\"zerolinecolor\":\"white\",\"gridwidth\":2}},\"shapedefaults\":{\"line\":{\"color\":\"#2a3f5f\"}},\"annotationdefaults\":{\"arrowcolor\":\"#2a3f5f\",\"arrowhead\":0,\"arrowwidth\":1},\"geo\":{\"bgcolor\":\"white\",\"landcolor\":\"#E5ECF6\",\"subunitcolor\":\"white\",\"showland\":true,\"showlakes\":true,\"lakecolor\":\"white\"},\"title\":{\"x\":0.05},\"mapbox\":{\"style\":\"light\"}}},\"xaxis\":{\"anchor\":\"y\",\"domain\":[0.0,1.0],\"title\":{\"text\":\"Outage Duration\"}},\"yaxis\":{\"anchor\":\"x\",\"domain\":[0.0,1.0],\"title\":{\"text\":\"probability\"}},\"legend\":{\"title\":{\"text\":\"variable\"},\"tracegroupgap\":0},\"title\":{\"text\":\"Probability Histogram of Outage Durations in Cold Weather\"},\"barmode\":\"relative\",\"showlegend\":false},                        {\"responsive\": true}                    ).then(function(){\n",
       "                            \n",
       "var gd = document.getElementById('e2cf6841-84cf-42c9-b5c5-0d046f274fbb');\n",
       "var x = new MutationObserver(function (mutations, observer) {{\n",
       "        var display = window.getComputedStyle(gd).display;\n",
       "        if (!display || display === 'none') {{\n",
       "            console.log([gd, 'removed!']);\n",
       "            Plotly.purge(gd);\n",
       "            observer.disconnect();\n",
       "        }}\n",
       "}});\n",
       "\n",
       "// Listen for the removal of the full notebook cells\n",
       "var notebookContainer = gd.closest('#notebook-container');\n",
       "if (notebookContainer) {{\n",
       "    x.observe(notebookContainer, {childList: true});\n",
       "}}\n",
       "\n",
       "// Listen for the clearing of the current output cell\n",
       "var outputEl = gd.closest('.output');\n",
       "if (outputEl) {{\n",
       "    x.observe(outputEl, {childList: true});\n",
       "}}\n",
       "\n",
       "                        })                };                });            </script>        </div>"
      ]
     },
     "metadata": {},
     "output_type": "display_data"
    }
   ],
   "source": [
    "# plot the distribution of outage duration in cold weather\n",
    "figc = px.histogram(weather_df[weather_df[\"HOT.OR.COLD\"] == \"cold\"][\"OUTAGE.DURATION\"],\n",
    "                    nbins=50, histnorm='probability',\n",
    "                   labels={\"value\": \"Outage Duration\", \"probability\": \"Probability\"},\n",
    "                   title=\"Probability Histogram of Outage Durations in Cold Weather\")\n",
    "figc.update_layout(showlegend=False)\n",
    "figc.show()"
   ]
  },
  {
   "cell_type": "markdown",
   "metadata": {},
   "source": [
    "They seem to have similar distributions, skewed to the right. The only main difference is within the outliers, such as the 50,000 minute duration time for the hot weather condition."
   ]
  },
  {
   "cell_type": "markdown",
   "metadata": {},
   "source": [
    "Since our graphs have similar distributions, we can use the difference in the means of outage duration times between hot and cold weather as our test statistic. We will be using a significance level of 0.05."
   ]
  },
  {
   "cell_type": "code",
   "execution_count": 108,
   "metadata": {},
   "outputs": [
    {
     "data": {
      "text/plain": [
       "HOT.OR.COLD\n",
       "cold    4192.371069\n",
       "hot     3188.000000\n",
       "Name: OUTAGE.DURATION, dtype: float64"
      ]
     },
     "execution_count": 108,
     "metadata": {},
     "output_type": "execute_result"
    }
   ],
   "source": [
    "# groupby the hot or cold weather condition we generated and calculate \n",
    "# the mean outage duration for both hot and cold weather\n",
    "weather_df.groupby(\"HOT.OR.COLD\")[\"OUTAGE.DURATION\"].mean()"
   ]
  },
  {
   "cell_type": "code",
   "execution_count": 109,
   "metadata": {},
   "outputs": [
    {
     "data": {
      "text/plain": [
       "1004.3710691823899"
      ]
     },
     "execution_count": 109,
     "metadata": {},
     "output_type": "execute_result"
    }
   ],
   "source": [
    "# calculate the observed statistic as the mean outage duration for cold weather \n",
    "# minus the mean outage duration for hot weather\n",
    "observed_statistic = weather_df.groupby(\"HOT.OR.COLD\")[\"OUTAGE.DURATION\"].mean()[::-1].diff().iloc[-1]\n",
    "observed_statistic"
   ]
  },
  {
   "cell_type": "markdown",
   "metadata": {},
   "source": [
    "This seems to be a fairly large number considering that the means of the hot and cold weathers are in the thousands. But, how do we know if this is significantly different from what is truly expected?"
   ]
  },
  {
   "cell_type": "markdown",
   "metadata": {},
   "source": [
    "We can perform a permutation test to find out! We will shuffle the HOT.OR.COLD column and find the difference in means for outage duration times in cold weather and hot weather. We will repeat this process 1000 times so we can approximate the distribution of the test statistic. We will then compare our observed statistic to these null statistics."
   ]
  },
  {
   "cell_type": "code",
   "execution_count": 113,
   "metadata": {},
   "outputs": [
    {
     "data": {
      "text/plain": [
       "[3.6986380268326684,\n",
       " 110.64282110785962,\n",
       " 315.02646192961356,\n",
       " 194.77282880931398,\n",
       " -98.87691421601858,\n",
       " -309.716479325572,\n",
       " 804.8220604590033,\n",
       " -260.1312639480625,\n",
       " 276.2224495362793,\n",
       " 666.9652730722319]"
      ]
     },
     "execution_count": 113,
     "metadata": {},
     "output_type": "execute_result"
    }
   ],
   "source": [
    "# want to calculate this statistic after every permutation\n",
    "\n",
    "n_repetitions = 1000\n",
    "\n",
    "differences = []\n",
    "for _ in range(n_repetitions):\n",
    "    \n",
    "    # Step 1: Shuffle the weights and store them in a DataFrame.\n",
    "    with_shuffled = weather_df.assign(Shuffled_Weights=np.random.permutation(weather_df[\"HOT.OR.COLD\"]))\n",
    "\n",
    "    # Step 2: Compute the test statistic.\n",
    "    # Remember, False (0) comes before True (1),\n",
    "    # so this computes True - False.\n",
    "    group_means = (\n",
    "        with_shuffled\n",
    "        .groupby('Shuffled_Weights')\n",
    "        [\"OUTAGE.DURATION\"]\n",
    "        .mean()\n",
    "    )\n",
    "    difference = group_means[::-1].diff().iloc[-1]\n",
    "    \n",
    "    # Step 4: Store the result\n",
    "    differences.append(difference)\n",
    "    \n",
    "differences[:10]"
   ]
  },
  {
   "cell_type": "code",
   "execution_count": 120,
   "metadata": {},
   "outputs": [
    {
     "data": {
      "application/vnd.plotly.v1+json": {
       "config": {
        "plotlyServerURL": "https://plot.ly"
       },
       "data": [
        {
         "alignmentgroup": "True",
         "bingroup": "x",
         "histnorm": "probability",
         "hovertemplate": "Mean Difference of Outage Duration=%{x}<br>probability=%{y}<extra></extra>",
         "legendgroup": "",
         "marker": {
          "color": "#636efa",
          "pattern": {
           "shape": ""
          }
         },
         "name": "",
         "nbinsx": 50,
         "offsetgroup": "",
         "orientation": "v",
         "showlegend": false,
         "type": "histogram",
         "x": [
          3.6986380268326684,
          110.64282110785962,
          315.02646192961356,
          194.77282880931398,
          -98.87691421601858,
          -309.716479325572,
          804.8220604590033,
          -260.1312639480625,
          276.2224495362793,
          666.9652730722319,
          -354.05490396056393,
          1027.6073316167503,
          -1122.2007622158708,
          -86.84204147589526,
          292.8707381041586,
          -215.99868127409218,
          558.332981368575,
          11.455594665944773,
          -233.9811800951038,
          -10.081665986116604,
          632.746544247188,
          252.2457770270271,
          886.3163880051447,
          -424.2557595880198,
          539.7253015313727,
          -197.80277664352798,
          -674.054702135631,
          346.0402175760664,
          395.934486937786,
          314.53737508327777,
          98.92408260795355,
          -273.1604045274935,
          -378.71792538671525,
          -315.6364034644289,
          -853.974006633724,
          117.61550229474733,
          -368.07560622876963,
          -234.42687006556935,
          -391.0353183028342,
          819.756062287694,
          531.0959078427431,
          406.846485321842,
          946.1862903225806,
          -569.42493315508,
          -473.0591204770294,
          313.5837511857976,
          -759.7466046574327,
          662.6490030777468,
          -232.79639105844353,
          24.725365305357627,
          179.6831989247312,
          44.312944427594175,
          57.74253768593417,
          718.2383402152573,
          473.131245836109,
          -833.6559385941287,
          191.2936748526854,
          -425.44139508290436,
          340.94997306760024,
          -234.07554190134806,
          373.33079719903026,
          493.8947544493508,
          724.2445453313458,
          28.544680994181363,
          43.389736384317075,
          656.1566337226718,
          930.6915856520282,
          -545.603372139703,
          -405.8943576622678,
          41.44714516563408,
          -425.7720219541943,
          -189.6316886960617,
          583.186055856942,
          -600.4165741768402,
          1067.8132276194297,
          828.7487615003538,
          63.19034090909099,
          -1155.9138364779874,
          -883.1008152173913,
          -48.659269548719294,
          576.0585311422196,
          -1220.8433510638297,
          182.9848087468922,
          -569.0616275918146,
          456.46678774425754,
          45.15834854940158,
          -642.2395833333335,
          434.1577249575553,
          598.1505962867595,
          270.96366920915307,
          520.9648117839606,
          439.1937577775534,
          -119.50774388199807,
          286.507716780613,
          -556.7638028548345,
          245.88756188946854,
          -188.03699316320308,
          536.0006740134131,
          3.784835995776575,
          -443.8747954173482,
          95.01638513513535,
          -699.9454681698967,
          356.25451837812216,
          -37.99274193548399,
          58.53230209281128,
          -292.26610049539977,
          42.44929734101697,
          1086.743146280376,
          -542.8738915589252,
          20.11835781493255,
          -185.83035684256538,
          -49.25021999593855,
          378.80677784475256,
          447.3994623655917,
          -374.04716086190547,
          279.04224827212374,
          -123.93119656664066,
          897.9170482089953,
          78.6417784952746,
          -391.499199564018,
          -149.34870346080106,
          1275.0549557730474,
          -189.25721925133712,
          1138.3127409210792,
          -455.4435139407392,
          -1143.6852941176467,
          286.5983889528193,
          -476.52511338252225,
          550.9600284302442,
          693.319685828877,
          -125.1832749798009,
          287.7740557629568,
          983.7404138770539,
          99.12396023534211,
          158.79509028200437,
          -316.79439728353145,
          267.33410276997165,
          -650.6865691489361,
          261.47575514031223,
          -89.72242173736277,
          -478.1089470480824,
          159.49737409103182,
          197.48479729729752,
          857.8426178680957,
          691.4758434547907,
          814.5498034964089,
          -37.51760669962687,
          304.97364607555664,
          288.7221997300944,
          -117.65367936034727,
          140.44642252758422,
          122.59181460902573,
          -398.3358178614985,
          -802.3787087268097,
          -295.5471947418346,
          -607.5821445315114,
          152.98599515216847,
          -216.94035193362788,
          -642.5375008461383,
          -284.80238351737125,
          864.7595610018857,
          235.6483005486416,
          -70.35912617394843,
          181.6251273344651,
          -292.4231119199276,
          218.7974657812715,
          -484.3032844164918,
          637.9769850402763,
          437.8860398860397,
          -100.66208623840794,
          582.0260112647211,
          391.8225478914237,
          832.2315693183359,
          816.3962765957449,
          -1085.3596004439514,
          493.52079430498316,
          -238.8927118017018,
          -264.3204453441299,
          -1283.4787907352543,
          -220.2890965106153,
          -274.2532315317126,
          803.4430379746836,
          112.21162133046073,
          372.7705651172246,
          229.96459728139598,
          -207.34171296923705,
          -792.4754958369999,
          154.00660658625839,
          67.18297501841835,
          -724.5999188476367,
          -333.8264890862001,
          -471.63060712833703,
          879.7462967950441,
          207.68958249698926,
          444.4612497463986,
          121.6840156207918,
          -57.75065300381766,
          -0.9523793406888217,
          431.168825429203,
          9.471868094509318,
          -22.90994714731005,
          2.826757339078995,
          875.840016366612,
          -276.13459792150115,
          600.2176944425642,
          591.7551782682513,
          109.58518919650714,
          166.84814852184445,
          -8.400392608136372,
          -12.624731182795585,
          -575.7166282694129,
          200.27977405743832,
          -500.3822276323799,
          580.4931223743056,
          220.39582709394017,
          -604.7899100192094,
          170.12871220529405,
          -961.9905063291139,
          -483.9237103579694,
          -491.6421512218235,
          252.837372233128,
          -210.66661096256666,
          346.01063829787245,
          -124.68366309798057,
          -568.300474220563,
          837.4536037399525,
          -211.55407608695668,
          -522.6389711823326,
          601.7127286351715,
          -91.98645705730223,
          -140.30695881517568,
          682.036282407094,
          -417.947885806625,
          -250.51072874493912,
          43.501294857565426,
          257.9261152101808,
          -627.0327702702702,
          -651.1284437825761,
          -644.2099817407184,
          -709.9891345073061,
          -883.5709554395826,
          -1307.4755725708092,
          -46.00375329681492,
          -546.3330494907864,
          -71.13769212659327,
          490.22786129889346,
          -841.801318078416,
          338.8324278438031,
          353.31860758200173,
          43.928133932217406,
          178.41604553462548,
          374.9554703528065,
          -624.8442205942206,
          -389.91334730957396,
          -537.1701454349586,
          -108.56315647724205,
          560.293282432523,
          111.83473839154294,
          90.33484680321544,
          668.1443181818181,
          -545.8397522219229,
          82.75069383334494,
          -104.24855687606123,
          -176.79553915927727,
          476.8411730644775,
          141.7679312190553,
          644.4635080645162,
          -1022.6970988030025,
          712.8949468085107,
          809.9139958885185,
          135.2855973813421,
          161.9482101538042,
          -306.05778091682623,
          -292.5929841098841,
          -1070.7514112903223,
          -449.16467245989315,
          -1107.096815201392,
          -334.9028413681658,
          380.744623655914,
          256.3221336562069,
          -316.743088494376,
          -168.75958612294562,
          818.2213169943439,
          -20.339064509578293,
          -50.59081461615824,
          177.9028386877444,
          7.952074730928416,
          -912.132644185735,
          -1018.5796508456083,
          -533.641205112599,
          -346.006701414743,
          485.5583864118894,
          -329.9275199728031,
          209.10529882097853,
          -69.64182927240245,
          664.3704572497027,
          1046.405408132378,
          821.088405601939,
          332.42894213594855,
          -699.5594121010326,
          -133.86925735194473,
          -451.1919718405197,
          -194.45495418781275,
          -90.05483870967737,
          221.4320762983184,
          224.10484008310914,
          857.4980688440169,
          4.532808663774631,
          214.48351063829796,
          82.80871283081842,
          8.645457951565277,
          375.8574761614932,
          -304.1403827397171,
          12.27073104200781,
          542.8092221168176,
          97.81191655713974,
          80.91498003113793,
          -235.43238993710702,
          -165.4986715097707,
          655.2839978338861,
          -612.5091193684498,
          -611.704012927552,
          482.3101707548449,
          -559.7835541281947,
          -22.70915186054299,
          861.7647356182388,
          -605.8759692513368,
          -46.43257970622062,
          -754.1086691086689,
          203.44207750050737,
          -254.96693041184835,
          13.286224077565294,
          -1160.0404927181162,
          268.242848447961,
          453.0423302028039,
          509.00138766668897,
          736.957845744681,
          93.99691692641272,
          326.87996604414275,
          -84.95960140048464,
          351.8592190744089,
          -263.6966746955709,
          127.82875016726894,
          -176.4420775005069,
          571.6768112038785,
          -155.99939078047782,
          293.97837270696573,
          681.4636538267109,
          271.04524643145714,
          681.9433625937513,
          -394.9816338819751,
          309.03474279558304,
          -110.78655644396258,
          84.21203953279428,
          -295.669323647126,
          445.5049752927639,
          1030.3044002411089,
          -68.78614293507917,
          -140.00741970456738,
          136.10919501287435,
          -106.30085290733086,
          -263.2696377696375,
          179.96865382042006,
          -134.5116208158288,
          111.2426480552922,
          489.4206014332599,
          -200.68793243793243,
          732.5503985470691,
          -673.1839045597007,
          143.39545286382145,
          -719.7354166666664,
          525.4666131406398,
          -224.85575035537795,
          -170.35110356536507,
          -744.9007978723403,
          -18.81637700534793,
          14.734202810635907,
          34.81094831094833,
          961.3675041200013,
          -737.5120828538547,
          -909.9075286415714,
          -150.35116374030213,
          -511.21727941176505,
          62.51696828766899,
          -790.1906972051256,
          414.19516927606037,
          56.99278074866288,
          110.86258715223676,
          1006.4592069892474,
          -284.52214639368367,
          76.60860490169671,
          -397.3805365984208,
          162.23193496587737,
          -421.3064789857244,
          319.4121154628001,
          179.6743872879074,
          85.00401921046341,
          -575.7855855855855,
          -380.8234617207063,
          -813.3022925542709,
          254.372340425532,
          -337.86069007800006,
          -285.6795636265074,
          -491.01454349582536,
          195.6561403508772,
          244.86033052321682,
          822.5450509534862,
          -273.0674427940585,
          -424.5332553475937,
          402.90394511149225,
          -300.22866848283047,
          -1007.1957985456506,
          -45.44862644761679,
          66.34632063965273,
          58.191374663072565,
          401.7261474642046,
          310.66906813897094,
          -477.8854729729728,
          -650.5256210654575,
          1225.3877626120702,
          -491.83194182601665,
          341.23213021939137,
          173.5156202608432,
          414.9112007047029,
          -100.19897084047989,
          -2.08495227780395,
          635.2111458648642,
          -665.5589042930815,
          -697.7455645161294,
          444.16132574623134,
          -562.5975515420573,
          -306.0713035281442,
          -431.7876380285484,
          -447.7943262411345,
          635.0318497345852,
          -710.4772393048124,
          44.06305422053765,
          344.3158432013065,
          -262.0232738035179,
          110.81101775308298,
          -512.2790837854127,
          -214.99918770730392,
          555.4846803215287,
          90.26690008079731,
          -1457.8004246284504,
          -779.4569892473119,
          456.51669808779934,
          -350.38710106382996,
          56.97588522588512,
          -77.99304812834225,
          215.3042620099027,
          1337.6909472828297,
          -772.3998788042018,
          587.9469086021504,
          -15.456908160516832,
          71.96522390091195,
          106.4525735294119,
          -187.49630437003998,
          83.52331037236718,
          708.3354166666663,
          -388.9572156196941,
          -312.1261701261701,
          175.28683259735044,
          222.71359126984134,
          -211.9577614923387,
          127.5547620659313,
          -642.911512460902,
          -861.7217897515739,
          57.0352846021633,
          35.20515755453789,
          124.97856807983408,
          338.0044786096255,
          -590.7721518987341,
          -192.6066134163675,
          733.1444527177964,
          -380.9241680305513,
          -502.2603333785064,
          345.51342780027016,
          -192.47874500778425,
          -525.6350115191763,
          273.0985962566847,
          -97.714917653464,
          873.9029939711845,
          466.5012768817205,
          -704.6493264739729,
          225.06200923398364,
          349.6444353518823,
          187.02668918918926,
          146.37606721778002,
          -8.29960062275768,
          -885.5008593671014,
          160.5377358490564,
          -328.49310204909716,
          -318.717846967847,
          -266.54651396423515,
          -508.7660935490421,
          -534.7061001885268,
          -42.93044672158567,
          -546.7237231182798,
          -198.69197031039175,
          362.7762755187837,
          -440.9371488526367,
          -797.054821242391,
          -940.7701761435937,
          -329.927240252081,
          -555.3373100124691,
          -426.7921438617641,
          642.0844451894068,
          -364.3854667298451,
          -235.38439267438753,
          87.76005122501965,
          124.52103273272269,
          -17.159565834854675,
          -866.138499865338,
          233.30073499387527,
          94.05811896011983,
          149.04069552349256,
          -367.6709466518387,
          721.5909749604016,
          422.7296564195299,
          192.40012184390434,
          1019.1467416783876,
          -354.2513707439248,
          -585.576493806996,
          -411.4271581515113,
          403.2436368585818,
          367.96903845498855,
          265.5360631607118,
          -8.666242038216751,
          63.78863467135989,
          90.02920099122639,
          -628.392295704025,
          164.71799011199664,
          -206.5086645256256,
          -399.468825747374,
          48.78567556579492,
          -542.7172854534388,
          -122.53247994538333,
          -152.68895958843814,
          306.4216216216214,
          -735.1074421723097,
          -197.60839820712408,
          -351.07687122973766,
          44.98596682448306,
          -38.7737877865693,
          -250.5866107087254,
          719.6880376344084,
          -418.2617155938592,
          -274.9315535929345,
          137.01418439716326,
          701.5544707783465,
          -604.5466989540241,
          -62.766912165848225,
          870.7013747107662,
          379.7544382707688,
          390.0827548659313,
          750.1184878754248,
          -104.87213714595464,
          -44.6141205112599,
          796.8273785628262,
          1041.8474734042552,
          -640.2624070725333,
          456.4046549612085,
          299.90527171703525,
          665.9135469970374,
          542.1865090120614,
          1158.211956521739,
          -120.69897786502406,
          -532.411782661783,
          -1054.5553425486833,
          -229.26162849359298,
          142.074048328368,
          -75.29896311405764,
          189.0243257894026,
          695.0616275918146,
          -44.03469251336901,
          436.4702779468453,
          503.58541130234426,
          -43.28471868094539,
          -421.1912345174901,
          -868.7742647058826,
          750.6461843742645,
          -206.3644344630461,
          519.0699810322453,
          -806.0818070818068,
          -315.6823079007995,
          -575.1041233657393,
          -212.44936602428288,
          506.5784320368616,
          -340.2181511470985,
          -180.93152437382196,
          633.5589381720433,
          -583.9463562753035,
          769.6665663053659,
          -83.53568542957146,
          220.73608275486595,
          -1199.7819229602674,
          -20.380894101648664,
          -83.60330855267557,
          -544.7288928039029,
          274.6311558811558,
          722.734973404255,
          -750.4977683100024,
          253.9206605455215,
          -934.2796065837015,
          -219.7404374347052,
          541.677850518276,
          233.16164624653084,
          502.0493291773955,
          273.96751724599835,
          232.33902047370566,
          -523.9981266391906,
          450.2223651255672,
          -742.7103218645952,
          -591.2975769217805,
          -317.4967611336033,
          39.6763192412468,
          238.0161892071951,
          -35.926751592356595,
          645.926852162253,
          -137.49054054054022,
          351.38984935800227,
          455.29228386749264,
          -223.2408862989564,
          158.79131054131085,
          -451.52437382170774,
          274.9332446808512,
          -741.1735915964136,
          -213.98695303091154,
          -32.2113004666262,
          596.9117290600593,
          339.3275792854274,
          620.6358585174144,
          -399.00659987815607,
          -215.72492885214797,
          -223.10039051979538,
          202.8218252375218,
          386.2645683696978,
          -532.3236309483518,
          917.7073112887924,
          234.24456779259435,
          -523.906195715113,
          -831.2143098896636,
          978.3293027691675,
          223.17623515958712,
          531.207764634516,
          -634.086413024967,
          -3.5500101440457,
          356.5668071724872,
          -395.89684890923763,
          -401.0602361013016,
          652.3331537840018,
          28.630529467809993,
          -204.0387114058003,
          163.87947461548947,
          120.38186526754816,
          -931.2076013513515,
          -1025.6655540038832,
          -248.43581184645245,
          460.34140804987146,
          -565.7402341091602,
          -313.8659187489375,
          -789.0899006397171,
          284.04742205630146,
          163.5389562038854,
          -543.3968253968255,
          -697.9480882499752,
          578.3859083191851,
          -171.55672877141615,
          974.6987747918502,
          -360.58423482627313,
          -428.47152994988755,
          -286.4326842229175,
          1174.2086576863194,
          -313.1925956172586,
          900.8791156944021,
          187.81629764432319,
          175.16829466829495,
          594.285815387726,
          -439.83903066404946,
          331.6182336182337,
          -1091.14948172395,
          148.77240369222363,
          596.6971273159952,
          220.77174494848123,
          -116.01636143280393,
          115.80275213733421,
          90.22163978494609,
          320.9340140868803,
          -354.21947733768866,
          789.6408727469848,
          1077.1812550498244,
          590.4288103840495,
          2.0415623096191666,
          216.0002035002035,
          325.8001397624039,
          -190.90399169513057,
          -414.6639676113364,
          -204.1892980437283,
          -439.8582009157017,
          472.56450790413055,
          83.73307239395126,
          601.2478065769201,
          218.06589724497417,
          -84.74399241860147,
          -743.4203482856756,
          587.7678196710217,
          106.6290322580644,
          782.8430111847833,
          -577.0312372812373,
          635.3685698895774,
          -465.44997135442964,
          -355.7660765160763,
          1035.922787640602,
          150.11259394061926,
          271.7709673052191,
          270.14164438502667,
          1283.2728216462388,
          1121.2214808074677,
          -514.175850099417,
          900.6441481080351,
          257.35175010175,
          -611.4641891891893,
          904.6090088876922,
          75.0168918918921,
          -76.2712765957449,
          435.7011776753711,
          -29.237227266567515,
          -1102.1129355770863,
          -368.17355987274095,
          779.9102078115479,
          -812.1836789657959,
          -535.6030627456294,
          -1028.9196507141405,
          426.1100188526798,
          479.3942304451857,
          -450.5378385735671,
          137.75035161744063,
          -369.15713126394803,
          299.1753270776576,
          -703.3879967884386,
          -236.8965795852414,
          510.15037239241065,
          -471.1521205394679,
          468.1952598976568,
          -215.36473202262323,
          -285.3448252620228,
          -652.1136133089876,
          -122.8890543559196,
          -37.62034574468089,
          886.2908025855104,
          7.230950695919091,
          37.82172345229674,
          -803.7496175420702,
          -244.36829251973768,
          -451.42473118279577,
          185.46009612130274,
          12.368952432579135,
          196.84266585514297,
          816.4306811332126,
          -52.34369885433716,
          185.76364998807867,
          -444.73786701644667,
          -644.2496755515622,
          152.87516832749816,
          -318.4917955930614,
          235.42286096256657,
          -193.00010144045427,
          -617.8365203339617,
          -675.2256788467985,
          439.5474206349204,
          -187.23603403625611,
          -312.7635487755924,
          11.929529746577828,
          -25.32694892473137,
          557.8030748663105,
          256.0273433558673,
          163.54596547571236,
          -259.36546402220256,
          248.7797519275896,
          -55.88498706955215,
          307.5422594423703,
          859.2293255720597,
          -127.80129185789565,
          -437.5432307900801,
          37.29353570944568,
          -889.030148359875,
          197.9397849462366,
          628.5328422964385,
          -139.32968147697284,
          682.4372282608697,
          -357.274812497898,
          227.10806375996253,
          -57.32207344288918,
          337.408703590992,
          -593.4239733629297,
          -268.90829782917444,
          117.06127120926476,
          360.50864875864863,
          417.31473056313826,
          136.99038912330025,
          211.15886410823123,
          -326.34581244071023,
          -230.32527656721413,
          -927.0932691021007,
          -147.43975242088482,
          236.28050314465418,
          -504.3851621200838,
          581.381788485096,
          289.28161380971505,
          -383.2837765957447,
          -105.68847636437431,
          267.75754107190915,
          91.07408290473086,
          -150.04685908319198,
          -396.2770695223526,
          527.5840384485209,
          -336.6863396124136,
          29.686504750435233,
          185.1182256122038,
          2.8069962592253432,
          394.5758478305015,
          356.4294950319859,
          -261.6604056077308,
          -687.5828768512883,
          1147.4165760869564,
          -491.28137879355563,
          135.48468304519247,
          -237.10288231930826,
          -31.08177079807774,
          515.0287640601705,
          651.8743386243386,
          634.5840407470291,
          -1028.0227613057805,
          76.97991479001848,
          -121.96452988560213,
          324.81389711823294,
          -658.9643606579571,
          698.990751017388,
          -334.7849793542273,
          -412.2660863628603,
          1278.4911347517732,
          -45.75152459682886,
          -453.42130376344085,
          -657.8733496665304,
          -935.4517888602791,
          -190.09267684426914,
          138.72145270270266,
          -396.92039148420963,
          172.99482056973739,
          264.9140379077089,
          -861.2686996547759,
          147.9072834246299,
          689.7006684491976,
          11.435317460317492,
          166.07412634408593,
          54.713166463166544,
          283.6324786324785,
          368.0015323117923,
          -423.62307640840345,
          -684.2291917569919,
          -46.56975110397434,
          435.9475491516291,
          -817.7913369851899,
          63.93261355174991,
          347.14035087719276,
          748.5233432714463,
          210.64927496950804,
          -542.4530506998863,
          452.42258436102475,
          -129.56001344086008,
          -500.60454713617855,
          -433.8263125763124,
          -421.31881684491964,
          -147.4188784537905,
          853.5113202400435,
          1322.8738123912754,
          -618.5789223185452,
          -853.414607730319,
          425.23666846215974,
          9.965510245485802,
          -219.826229841442,
          858.8471535910107,
          -386.55541341233493,
          -971.8000538122624,
          544.2029459901801,
          -150.0290994623656,
          -479.2979813298284,
          -90.79039463886784,
          161.37129014771654,
          -550.5311235764066,
          291.6179699146228,
          58.80469362035501,
          -317.3202838596844,
          -760.5612384069832,
          -516.5839926962872,
          -313.01499679843664,
          586.1412173439153,
          -1153.0862005179429,
          341.16358305530275,
          314.1413950983033,
          702.7798069485084,
          -520.8784743355654,
          -533.281899411088,
          -644.2714112577432,
          -377.03993772422655,
          1318.848639913817,
          -895.8633496133498,
          -189.3167229729729,
          884.4227040129276,
          312.6535162950254,
          58.313011456628374,
          537.4990591397845,
          155.00251803457195,
          -142.85377567355818,
          304.6106248316728,
          -553.2524707996408,
          328.3290418755928,
          29.400742673625246,
          56.43589743589746,
          -111.79639804639783,
          131.55972259628334,
          113.78521066793837,
          -340.1754456913691,
          -73.4226351351349,
          -898.2293334241631,
          -623.1891855264944,
          -312.42989864864876,
          1205.8330191220034,
          407.311141304348,
          -357.5977869707058,
          953.313781899411,
          -176.16754657856154,
          969.2452734809422,
          79.12450812228826,
          796.8939898429358,
          -318.76163515653934,
          219.33436574198777,
          -485.43470744680826,
          -479.5729773682074,
          526.2155091663321,
          320.08328844600055,
          -1236.9702284946238,
          -659.9903631568272,
          162.84726856064435,
          -125.8441862040927,
          627.8680985725828,
          37.25164150815681,
          734.4732958776149,
          1555.5781091499293,
          -432.2063492063494,
          234.37907375643226,
          947.2363463883994,
          244.1443576622678,
          91.03418398429585,
          -554.390712786841,
          -229.86255330670838,
          -168.3575441684152,
          -1106.1596459096459,
          -74.90842984109895,
          320.7399618892068,
          -121.79329383248023,
          977.1380285483438,
          425.3628525055792,
          -334.6336146272856,
          781.5938474047975,
          590.7485187180177,
          -262.3324561403506,
          -391.3539244430963,
          122.77856078059358,
          -282.54614361702124,
          -541.8638900231385,
          -334.1475543478259,
          -343.71954194335285,
          -641.9880742648056,
          83.9174521949908,
          -716.8289792620521,
          915.8645791516124,
          262.93881856540065,
          -192.96338641622424,
          371.0438222763237,
          -211.9783867492597,
          -1214.9569607343192,
          723.440303564169,
          310,
          34.42951291315376,
          -241.9495345254836,
          -431.3130376344084,
          -571.192799782224,
          791.0040103798065,
          -169.53540271860447,
          -506.13539289485334,
          35.6746971553016,
          663.2000609838728,
          -352.7499326690008,
          481.2310072876112,
          736.4743355650235,
          319.8403167941515,
          384.0285994720098,
          -495.7529924934065
         ],
         "xaxis": "x",
         "yaxis": "y"
        }
       ],
       "layout": {
        "barmode": "relative",
        "legend": {
         "tracegroupgap": 0
        },
        "shapes": [
         {
          "line": {
           "color": "red"
          },
          "type": "line",
          "x0": 1004.3710691823899,
          "x1": 1004.3710691823899,
          "xref": "x",
          "y0": 0,
          "y1": 1,
          "yref": "y domain"
         }
        ],
        "template": {
         "data": {
          "bar": [
           {
            "error_x": {
             "color": "#2a3f5f"
            },
            "error_y": {
             "color": "#2a3f5f"
            },
            "marker": {
             "line": {
              "color": "#E5ECF6",
              "width": 0.5
             },
             "pattern": {
              "fillmode": "overlay",
              "size": 10,
              "solidity": 0.2
             }
            },
            "type": "bar"
           }
          ],
          "barpolar": [
           {
            "marker": {
             "line": {
              "color": "#E5ECF6",
              "width": 0.5
             },
             "pattern": {
              "fillmode": "overlay",
              "size": 10,
              "solidity": 0.2
             }
            },
            "type": "barpolar"
           }
          ],
          "carpet": [
           {
            "aaxis": {
             "endlinecolor": "#2a3f5f",
             "gridcolor": "white",
             "linecolor": "white",
             "minorgridcolor": "white",
             "startlinecolor": "#2a3f5f"
            },
            "baxis": {
             "endlinecolor": "#2a3f5f",
             "gridcolor": "white",
             "linecolor": "white",
             "minorgridcolor": "white",
             "startlinecolor": "#2a3f5f"
            },
            "type": "carpet"
           }
          ],
          "choropleth": [
           {
            "colorbar": {
             "outlinewidth": 0,
             "ticks": ""
            },
            "type": "choropleth"
           }
          ],
          "contour": [
           {
            "colorbar": {
             "outlinewidth": 0,
             "ticks": ""
            },
            "colorscale": [
             [
              0,
              "#0d0887"
             ],
             [
              0.1111111111111111,
              "#46039f"
             ],
             [
              0.2222222222222222,
              "#7201a8"
             ],
             [
              0.3333333333333333,
              "#9c179e"
             ],
             [
              0.4444444444444444,
              "#bd3786"
             ],
             [
              0.5555555555555556,
              "#d8576b"
             ],
             [
              0.6666666666666666,
              "#ed7953"
             ],
             [
              0.7777777777777778,
              "#fb9f3a"
             ],
             [
              0.8888888888888888,
              "#fdca26"
             ],
             [
              1,
              "#f0f921"
             ]
            ],
            "type": "contour"
           }
          ],
          "contourcarpet": [
           {
            "colorbar": {
             "outlinewidth": 0,
             "ticks": ""
            },
            "type": "contourcarpet"
           }
          ],
          "heatmap": [
           {
            "colorbar": {
             "outlinewidth": 0,
             "ticks": ""
            },
            "colorscale": [
             [
              0,
              "#0d0887"
             ],
             [
              0.1111111111111111,
              "#46039f"
             ],
             [
              0.2222222222222222,
              "#7201a8"
             ],
             [
              0.3333333333333333,
              "#9c179e"
             ],
             [
              0.4444444444444444,
              "#bd3786"
             ],
             [
              0.5555555555555556,
              "#d8576b"
             ],
             [
              0.6666666666666666,
              "#ed7953"
             ],
             [
              0.7777777777777778,
              "#fb9f3a"
             ],
             [
              0.8888888888888888,
              "#fdca26"
             ],
             [
              1,
              "#f0f921"
             ]
            ],
            "type": "heatmap"
           }
          ],
          "heatmapgl": [
           {
            "colorbar": {
             "outlinewidth": 0,
             "ticks": ""
            },
            "colorscale": [
             [
              0,
              "#0d0887"
             ],
             [
              0.1111111111111111,
              "#46039f"
             ],
             [
              0.2222222222222222,
              "#7201a8"
             ],
             [
              0.3333333333333333,
              "#9c179e"
             ],
             [
              0.4444444444444444,
              "#bd3786"
             ],
             [
              0.5555555555555556,
              "#d8576b"
             ],
             [
              0.6666666666666666,
              "#ed7953"
             ],
             [
              0.7777777777777778,
              "#fb9f3a"
             ],
             [
              0.8888888888888888,
              "#fdca26"
             ],
             [
              1,
              "#f0f921"
             ]
            ],
            "type": "heatmapgl"
           }
          ],
          "histogram": [
           {
            "marker": {
             "pattern": {
              "fillmode": "overlay",
              "size": 10,
              "solidity": 0.2
             }
            },
            "type": "histogram"
           }
          ],
          "histogram2d": [
           {
            "colorbar": {
             "outlinewidth": 0,
             "ticks": ""
            },
            "colorscale": [
             [
              0,
              "#0d0887"
             ],
             [
              0.1111111111111111,
              "#46039f"
             ],
             [
              0.2222222222222222,
              "#7201a8"
             ],
             [
              0.3333333333333333,
              "#9c179e"
             ],
             [
              0.4444444444444444,
              "#bd3786"
             ],
             [
              0.5555555555555556,
              "#d8576b"
             ],
             [
              0.6666666666666666,
              "#ed7953"
             ],
             [
              0.7777777777777778,
              "#fb9f3a"
             ],
             [
              0.8888888888888888,
              "#fdca26"
             ],
             [
              1,
              "#f0f921"
             ]
            ],
            "type": "histogram2d"
           }
          ],
          "histogram2dcontour": [
           {
            "colorbar": {
             "outlinewidth": 0,
             "ticks": ""
            },
            "colorscale": [
             [
              0,
              "#0d0887"
             ],
             [
              0.1111111111111111,
              "#46039f"
             ],
             [
              0.2222222222222222,
              "#7201a8"
             ],
             [
              0.3333333333333333,
              "#9c179e"
             ],
             [
              0.4444444444444444,
              "#bd3786"
             ],
             [
              0.5555555555555556,
              "#d8576b"
             ],
             [
              0.6666666666666666,
              "#ed7953"
             ],
             [
              0.7777777777777778,
              "#fb9f3a"
             ],
             [
              0.8888888888888888,
              "#fdca26"
             ],
             [
              1,
              "#f0f921"
             ]
            ],
            "type": "histogram2dcontour"
           }
          ],
          "mesh3d": [
           {
            "colorbar": {
             "outlinewidth": 0,
             "ticks": ""
            },
            "type": "mesh3d"
           }
          ],
          "parcoords": [
           {
            "line": {
             "colorbar": {
              "outlinewidth": 0,
              "ticks": ""
             }
            },
            "type": "parcoords"
           }
          ],
          "pie": [
           {
            "automargin": true,
            "type": "pie"
           }
          ],
          "scatter": [
           {
            "fillpattern": {
             "fillmode": "overlay",
             "size": 10,
             "solidity": 0.2
            },
            "type": "scatter"
           }
          ],
          "scatter3d": [
           {
            "line": {
             "colorbar": {
              "outlinewidth": 0,
              "ticks": ""
             }
            },
            "marker": {
             "colorbar": {
              "outlinewidth": 0,
              "ticks": ""
             }
            },
            "type": "scatter3d"
           }
          ],
          "scattercarpet": [
           {
            "marker": {
             "colorbar": {
              "outlinewidth": 0,
              "ticks": ""
             }
            },
            "type": "scattercarpet"
           }
          ],
          "scattergeo": [
           {
            "marker": {
             "colorbar": {
              "outlinewidth": 0,
              "ticks": ""
             }
            },
            "type": "scattergeo"
           }
          ],
          "scattergl": [
           {
            "marker": {
             "colorbar": {
              "outlinewidth": 0,
              "ticks": ""
             }
            },
            "type": "scattergl"
           }
          ],
          "scattermapbox": [
           {
            "marker": {
             "colorbar": {
              "outlinewidth": 0,
              "ticks": ""
             }
            },
            "type": "scattermapbox"
           }
          ],
          "scatterpolar": [
           {
            "marker": {
             "colorbar": {
              "outlinewidth": 0,
              "ticks": ""
             }
            },
            "type": "scatterpolar"
           }
          ],
          "scatterpolargl": [
           {
            "marker": {
             "colorbar": {
              "outlinewidth": 0,
              "ticks": ""
             }
            },
            "type": "scatterpolargl"
           }
          ],
          "scatterternary": [
           {
            "marker": {
             "colorbar": {
              "outlinewidth": 0,
              "ticks": ""
             }
            },
            "type": "scatterternary"
           }
          ],
          "surface": [
           {
            "colorbar": {
             "outlinewidth": 0,
             "ticks": ""
            },
            "colorscale": [
             [
              0,
              "#0d0887"
             ],
             [
              0.1111111111111111,
              "#46039f"
             ],
             [
              0.2222222222222222,
              "#7201a8"
             ],
             [
              0.3333333333333333,
              "#9c179e"
             ],
             [
              0.4444444444444444,
              "#bd3786"
             ],
             [
              0.5555555555555556,
              "#d8576b"
             ],
             [
              0.6666666666666666,
              "#ed7953"
             ],
             [
              0.7777777777777778,
              "#fb9f3a"
             ],
             [
              0.8888888888888888,
              "#fdca26"
             ],
             [
              1,
              "#f0f921"
             ]
            ],
            "type": "surface"
           }
          ],
          "table": [
           {
            "cells": {
             "fill": {
              "color": "#EBF0F8"
             },
             "line": {
              "color": "white"
             }
            },
            "header": {
             "fill": {
              "color": "#C8D4E3"
             },
             "line": {
              "color": "white"
             }
            },
            "type": "table"
           }
          ]
         },
         "layout": {
          "annotationdefaults": {
           "arrowcolor": "#2a3f5f",
           "arrowhead": 0,
           "arrowwidth": 1
          },
          "autotypenumbers": "strict",
          "coloraxis": {
           "colorbar": {
            "outlinewidth": 0,
            "ticks": ""
           }
          },
          "colorscale": {
           "diverging": [
            [
             0,
             "#8e0152"
            ],
            [
             0.1,
             "#c51b7d"
            ],
            [
             0.2,
             "#de77ae"
            ],
            [
             0.3,
             "#f1b6da"
            ],
            [
             0.4,
             "#fde0ef"
            ],
            [
             0.5,
             "#f7f7f7"
            ],
            [
             0.6,
             "#e6f5d0"
            ],
            [
             0.7,
             "#b8e186"
            ],
            [
             0.8,
             "#7fbc41"
            ],
            [
             0.9,
             "#4d9221"
            ],
            [
             1,
             "#276419"
            ]
           ],
           "sequential": [
            [
             0,
             "#0d0887"
            ],
            [
             0.1111111111111111,
             "#46039f"
            ],
            [
             0.2222222222222222,
             "#7201a8"
            ],
            [
             0.3333333333333333,
             "#9c179e"
            ],
            [
             0.4444444444444444,
             "#bd3786"
            ],
            [
             0.5555555555555556,
             "#d8576b"
            ],
            [
             0.6666666666666666,
             "#ed7953"
            ],
            [
             0.7777777777777778,
             "#fb9f3a"
            ],
            [
             0.8888888888888888,
             "#fdca26"
            ],
            [
             1,
             "#f0f921"
            ]
           ],
           "sequentialminus": [
            [
             0,
             "#0d0887"
            ],
            [
             0.1111111111111111,
             "#46039f"
            ],
            [
             0.2222222222222222,
             "#7201a8"
            ],
            [
             0.3333333333333333,
             "#9c179e"
            ],
            [
             0.4444444444444444,
             "#bd3786"
            ],
            [
             0.5555555555555556,
             "#d8576b"
            ],
            [
             0.6666666666666666,
             "#ed7953"
            ],
            [
             0.7777777777777778,
             "#fb9f3a"
            ],
            [
             0.8888888888888888,
             "#fdca26"
            ],
            [
             1,
             "#f0f921"
            ]
           ]
          },
          "colorway": [
           "#636efa",
           "#EF553B",
           "#00cc96",
           "#ab63fa",
           "#FFA15A",
           "#19d3f3",
           "#FF6692",
           "#B6E880",
           "#FF97FF",
           "#FECB52"
          ],
          "font": {
           "color": "#2a3f5f"
          },
          "geo": {
           "bgcolor": "white",
           "lakecolor": "white",
           "landcolor": "#E5ECF6",
           "showlakes": true,
           "showland": true,
           "subunitcolor": "white"
          },
          "hoverlabel": {
           "align": "left"
          },
          "hovermode": "closest",
          "mapbox": {
           "style": "light"
          },
          "paper_bgcolor": "white",
          "plot_bgcolor": "#E5ECF6",
          "polar": {
           "angularaxis": {
            "gridcolor": "white",
            "linecolor": "white",
            "ticks": ""
           },
           "bgcolor": "#E5ECF6",
           "radialaxis": {
            "gridcolor": "white",
            "linecolor": "white",
            "ticks": ""
           }
          },
          "scene": {
           "xaxis": {
            "backgroundcolor": "#E5ECF6",
            "gridcolor": "white",
            "gridwidth": 2,
            "linecolor": "white",
            "showbackground": true,
            "ticks": "",
            "zerolinecolor": "white"
           },
           "yaxis": {
            "backgroundcolor": "#E5ECF6",
            "gridcolor": "white",
            "gridwidth": 2,
            "linecolor": "white",
            "showbackground": true,
            "ticks": "",
            "zerolinecolor": "white"
           },
           "zaxis": {
            "backgroundcolor": "#E5ECF6",
            "gridcolor": "white",
            "gridwidth": 2,
            "linecolor": "white",
            "showbackground": true,
            "ticks": "",
            "zerolinecolor": "white"
           }
          },
          "shapedefaults": {
           "line": {
            "color": "#2a3f5f"
           }
          },
          "ternary": {
           "aaxis": {
            "gridcolor": "white",
            "linecolor": "white",
            "ticks": ""
           },
           "baxis": {
            "gridcolor": "white",
            "linecolor": "white",
            "ticks": ""
           },
           "bgcolor": "#E5ECF6",
           "caxis": {
            "gridcolor": "white",
            "linecolor": "white",
            "ticks": ""
           }
          },
          "title": {
           "x": 0.05
          },
          "xaxis": {
           "automargin": true,
           "gridcolor": "white",
           "linecolor": "white",
           "ticks": "",
           "title": {
            "standoff": 15
           },
           "zerolinecolor": "white",
           "zerolinewidth": 2
          },
          "yaxis": {
           "automargin": true,
           "gridcolor": "white",
           "linecolor": "white",
           "ticks": "",
           "title": {
            "standoff": 15
           },
           "zerolinecolor": "white",
           "zerolinewidth": 2
          }
         }
        },
        "title": {
         "text": "Empirical Distribution of the Mean Differences in Outage Duration (Cold - Hot)"
        },
        "xaxis": {
         "anchor": "y",
         "domain": [
          0,
          1
         ],
         "title": {
          "text": "Mean Difference of Outage Duration"
         }
        },
        "yaxis": {
         "anchor": "x",
         "domain": [
          0,
          1
         ],
         "title": {
          "text": "probability"
         }
        }
       }
      },
      "text/html": [
       "<div>                            <div id=\"031e6cba-8c41-4a94-b0ca-df3102c90707\" class=\"plotly-graph-div\" style=\"height:525px; width:100%;\"></div>            <script type=\"text/javascript\">                require([\"plotly\"], function(Plotly) {                    window.PLOTLYENV=window.PLOTLYENV || {};                                    if (document.getElementById(\"031e6cba-8c41-4a94-b0ca-df3102c90707\")) {                    Plotly.newPlot(                        \"031e6cba-8c41-4a94-b0ca-df3102c90707\",                        [{\"alignmentgroup\":\"True\",\"bingroup\":\"x\",\"histnorm\":\"probability\",\"hovertemplate\":\"Mean Difference of Outage Duration=%{x}\\u003cbr\\u003eprobability=%{y}\\u003cextra\\u003e\\u003c\\u002fextra\\u003e\",\"legendgroup\":\"\",\"marker\":{\"color\":\"#636efa\",\"pattern\":{\"shape\":\"\"}},\"name\":\"\",\"nbinsx\":50,\"offsetgroup\":\"\",\"orientation\":\"v\",\"showlegend\":false,\"x\":[3.6986380268326684,110.64282110785962,315.02646192961356,194.77282880931398,-98.87691421601858,-309.716479325572,804.8220604590033,-260.1312639480625,276.2224495362793,666.9652730722319,-354.05490396056393,1027.6073316167503,-1122.2007622158708,-86.84204147589526,292.8707381041586,-215.99868127409218,558.332981368575,11.455594665944773,-233.9811800951038,-10.081665986116604,632.746544247188,252.2457770270271,886.3163880051447,-424.2557595880198,539.7253015313727,-197.80277664352798,-674.054702135631,346.0402175760664,395.934486937786,314.53737508327777,98.92408260795355,-273.1604045274935,-378.71792538671525,-315.6364034644289,-853.974006633724,117.61550229474733,-368.07560622876963,-234.42687006556935,-391.0353183028342,819.756062287694,531.0959078427431,406.846485321842,946.1862903225806,-569.42493315508,-473.0591204770294,313.5837511857976,-759.7466046574327,662.6490030777468,-232.79639105844353,24.725365305357627,179.6831989247312,44.312944427594175,57.74253768593417,718.2383402152573,473.131245836109,-833.6559385941287,191.2936748526854,-425.44139508290436,340.94997306760024,-234.07554190134806,373.33079719903026,493.8947544493508,724.2445453313458,28.544680994181363,43.389736384317075,656.1566337226718,930.6915856520282,-545.603372139703,-405.8943576622678,41.44714516563408,-425.7720219541943,-189.6316886960617,583.186055856942,-600.4165741768402,1067.8132276194297,828.7487615003538,63.19034090909099,-1155.9138364779874,-883.1008152173913,-48.659269548719294,576.0585311422196,-1220.8433510638297,182.9848087468922,-569.0616275918146,456.46678774425754,45.15834854940158,-642.2395833333335,434.1577249575553,598.1505962867595,270.96366920915307,520.9648117839606,439.1937577775534,-119.50774388199807,286.507716780613,-556.7638028548345,245.88756188946854,-188.03699316320308,536.0006740134131,3.784835995776575,-443.8747954173482,95.01638513513535,-699.9454681698967,356.25451837812216,-37.99274193548399,58.53230209281128,-292.26610049539977,42.44929734101697,1086.743146280376,-542.8738915589252,20.11835781493255,-185.83035684256538,-49.25021999593855,378.80677784475256,447.3994623655917,-374.04716086190547,279.04224827212374,-123.93119656664066,897.9170482089953,78.6417784952746,-391.499199564018,-149.34870346080106,1275.0549557730474,-189.25721925133712,1138.3127409210792,-455.4435139407392,-1143.6852941176467,286.5983889528193,-476.52511338252225,550.9600284302442,693.319685828877,-125.1832749798009,287.7740557629568,983.7404138770539,99.12396023534211,158.79509028200437,-316.79439728353145,267.33410276997165,-650.6865691489361,261.47575514031223,-89.72242173736277,-478.1089470480824,159.49737409103182,197.48479729729752,857.8426178680957,691.4758434547907,814.5498034964089,-37.51760669962687,304.97364607555664,288.7221997300944,-117.65367936034727,140.44642252758422,122.59181460902573,-398.3358178614985,-802.3787087268097,-295.5471947418346,-607.5821445315114,152.98599515216847,-216.94035193362788,-642.5375008461383,-284.80238351737125,864.7595610018857,235.6483005486416,-70.35912617394843,181.6251273344651,-292.4231119199276,218.7974657812715,-484.3032844164918,637.9769850402763,437.8860398860397,-100.66208623840794,582.0260112647211,391.8225478914237,832.2315693183359,816.3962765957449,-1085.3596004439514,493.52079430498316,-238.8927118017018,-264.3204453441299,-1283.4787907352543,-220.2890965106153,-274.2532315317126,803.4430379746836,112.21162133046073,372.7705651172246,229.96459728139598,-207.34171296923705,-792.4754958369999,154.00660658625839,67.18297501841835,-724.5999188476367,-333.8264890862001,-471.63060712833703,879.7462967950441,207.68958249698926,444.4612497463986,121.6840156207918,-57.75065300381766,-0.9523793406888217,431.168825429203,9.471868094509318,-22.90994714731005,2.826757339078995,875.840016366612,-276.13459792150115,600.2176944425642,591.7551782682513,109.58518919650714,166.84814852184445,-8.400392608136372,-12.624731182795585,-575.7166282694129,200.27977405743832,-500.3822276323799,580.4931223743056,220.39582709394017,-604.7899100192094,170.12871220529405,-961.9905063291139,-483.9237103579694,-491.6421512218235,252.837372233128,-210.66661096256666,346.01063829787245,-124.68366309798057,-568.300474220563,837.4536037399525,-211.55407608695668,-522.6389711823326,601.7127286351715,-91.98645705730223,-140.30695881517568,682.036282407094,-417.947885806625,-250.51072874493912,43.501294857565426,257.9261152101808,-627.0327702702702,-651.1284437825761,-644.2099817407184,-709.9891345073061,-883.5709554395826,-1307.4755725708092,-46.00375329681492,-546.3330494907864,-71.13769212659327,490.22786129889346,-841.801318078416,338.8324278438031,353.31860758200173,43.928133932217406,178.41604553462548,374.9554703528065,-624.8442205942206,-389.91334730957396,-537.1701454349586,-108.56315647724205,560.293282432523,111.83473839154294,90.33484680321544,668.1443181818181,-545.8397522219229,82.75069383334494,-104.24855687606123,-176.79553915927727,476.8411730644775,141.7679312190553,644.4635080645162,-1022.6970988030025,712.8949468085107,809.9139958885185,135.2855973813421,161.9482101538042,-306.05778091682623,-292.5929841098841,-1070.7514112903223,-449.16467245989315,-1107.096815201392,-334.9028413681658,380.744623655914,256.3221336562069,-316.743088494376,-168.75958612294562,818.2213169943439,-20.339064509578293,-50.59081461615824,177.9028386877444,7.952074730928416,-912.132644185735,-1018.5796508456083,-533.641205112599,-346.006701414743,485.5583864118894,-329.9275199728031,209.10529882097853,-69.64182927240245,664.3704572497027,1046.405408132378,821.088405601939,332.42894213594855,-699.5594121010326,-133.86925735194473,-451.1919718405197,-194.45495418781275,-90.05483870967737,221.4320762983184,224.10484008310914,857.4980688440169,4.532808663774631,214.48351063829796,82.80871283081842,8.645457951565277,375.8574761614932,-304.1403827397171,12.27073104200781,542.8092221168176,97.81191655713974,80.91498003113793,-235.43238993710702,-165.4986715097707,655.2839978338861,-612.5091193684498,-611.704012927552,482.3101707548449,-559.7835541281947,-22.70915186054299,861.7647356182388,-605.8759692513368,-46.43257970622062,-754.1086691086689,203.44207750050737,-254.96693041184835,13.286224077565294,-1160.0404927181162,268.242848447961,453.0423302028039,509.00138766668897,736.957845744681,93.99691692641272,326.87996604414275,-84.95960140048464,351.8592190744089,-263.6966746955709,127.82875016726894,-176.4420775005069,571.6768112038785,-155.99939078047782,293.97837270696573,681.4636538267109,271.04524643145714,681.9433625937513,-394.9816338819751,309.03474279558304,-110.78655644396258,84.21203953279428,-295.669323647126,445.5049752927639,1030.3044002411089,-68.78614293507917,-140.00741970456738,136.10919501287435,-106.30085290733086,-263.2696377696375,179.96865382042006,-134.5116208158288,111.2426480552922,489.4206014332599,-200.68793243793243,732.5503985470691,-673.1839045597007,143.39545286382145,-719.7354166666664,525.4666131406398,-224.85575035537795,-170.35110356536507,-744.9007978723403,-18.81637700534793,14.734202810635907,34.81094831094833,961.3675041200013,-737.5120828538547,-909.9075286415714,-150.35116374030213,-511.21727941176505,62.51696828766899,-790.1906972051256,414.19516927606037,56.99278074866288,110.86258715223676,1006.4592069892474,-284.52214639368367,76.60860490169671,-397.3805365984208,162.23193496587737,-421.3064789857244,319.4121154628001,179.6743872879074,85.00401921046341,-575.7855855855855,-380.8234617207063,-813.3022925542709,254.372340425532,-337.86069007800006,-285.6795636265074,-491.01454349582536,195.6561403508772,244.86033052321682,822.5450509534862,-273.0674427940585,-424.5332553475937,402.90394511149225,-300.22866848283047,-1007.1957985456506,-45.44862644761679,66.34632063965273,58.191374663072565,401.7261474642046,310.66906813897094,-477.8854729729728,-650.5256210654575,1225.3877626120702,-491.83194182601665,341.23213021939137,173.5156202608432,414.9112007047029,-100.19897084047989,-2.08495227780395,635.2111458648642,-665.5589042930815,-697.7455645161294,444.16132574623134,-562.5975515420573,-306.0713035281442,-431.7876380285484,-447.7943262411345,635.0318497345852,-710.4772393048124,44.06305422053765,344.3158432013065,-262.0232738035179,110.81101775308298,-512.2790837854127,-214.99918770730392,555.4846803215287,90.26690008079731,-1457.8004246284504,-779.4569892473119,456.51669808779934,-350.38710106382996,56.97588522588512,-77.99304812834225,215.3042620099027,1337.6909472828297,-772.3998788042018,587.9469086021504,-15.456908160516832,71.96522390091195,106.4525735294119,-187.49630437003998,83.52331037236718,708.3354166666663,-388.9572156196941,-312.1261701261701,175.28683259735044,222.71359126984134,-211.9577614923387,127.5547620659313,-642.911512460902,-861.7217897515739,57.0352846021633,35.20515755453789,124.97856807983408,338.0044786096255,-590.7721518987341,-192.6066134163675,733.1444527177964,-380.9241680305513,-502.2603333785064,345.51342780027016,-192.47874500778425,-525.6350115191763,273.0985962566847,-97.714917653464,873.9029939711845,466.5012768817205,-704.6493264739729,225.06200923398364,349.6444353518823,187.02668918918926,146.37606721778002,-8.29960062275768,-885.5008593671014,160.5377358490564,-328.49310204909716,-318.717846967847,-266.54651396423515,-508.7660935490421,-534.7061001885268,-42.93044672158567,-546.7237231182798,-198.69197031039175,362.7762755187837,-440.9371488526367,-797.054821242391,-940.7701761435937,-329.927240252081,-555.3373100124691,-426.7921438617641,642.0844451894068,-364.3854667298451,-235.38439267438753,87.76005122501965,124.52103273272269,-17.159565834854675,-866.138499865338,233.30073499387527,94.05811896011983,149.04069552349256,-367.6709466518387,721.5909749604016,422.7296564195299,192.40012184390434,1019.1467416783876,-354.2513707439248,-585.576493806996,-411.4271581515113,403.2436368585818,367.96903845498855,265.5360631607118,-8.666242038216751,63.78863467135989,90.02920099122639,-628.392295704025,164.71799011199664,-206.5086645256256,-399.468825747374,48.78567556579492,-542.7172854534388,-122.53247994538333,-152.68895958843814,306.4216216216214,-735.1074421723097,-197.60839820712408,-351.07687122973766,44.98596682448306,-38.7737877865693,-250.5866107087254,719.6880376344084,-418.2617155938592,-274.9315535929345,137.01418439716326,701.5544707783465,-604.5466989540241,-62.766912165848225,870.7013747107662,379.7544382707688,390.0827548659313,750.1184878754248,-104.87213714595464,-44.6141205112599,796.8273785628262,1041.8474734042552,-640.2624070725333,456.4046549612085,299.90527171703525,665.9135469970374,542.1865090120614,1158.211956521739,-120.69897786502406,-532.411782661783,-1054.5553425486833,-229.26162849359298,142.074048328368,-75.29896311405764,189.0243257894026,695.0616275918146,-44.03469251336901,436.4702779468453,503.58541130234426,-43.28471868094539,-421.1912345174901,-868.7742647058826,750.6461843742645,-206.3644344630461,519.0699810322453,-806.0818070818068,-315.6823079007995,-575.1041233657393,-212.44936602428288,506.5784320368616,-340.2181511470985,-180.93152437382196,633.5589381720433,-583.9463562753035,769.6665663053659,-83.53568542957146,220.73608275486595,-1199.7819229602674,-20.380894101648664,-83.60330855267557,-544.7288928039029,274.6311558811558,722.734973404255,-750.4977683100024,253.9206605455215,-934.2796065837015,-219.7404374347052,541.677850518276,233.16164624653084,502.0493291773955,273.96751724599835,232.33902047370566,-523.9981266391906,450.2223651255672,-742.7103218645952,-591.2975769217805,-317.4967611336033,39.6763192412468,238.0161892071951,-35.926751592356595,645.926852162253,-137.49054054054022,351.38984935800227,455.29228386749264,-223.2408862989564,158.79131054131085,-451.52437382170774,274.9332446808512,-741.1735915964136,-213.98695303091154,-32.2113004666262,596.9117290600593,339.3275792854274,620.6358585174144,-399.00659987815607,-215.72492885214797,-223.10039051979538,202.8218252375218,386.2645683696978,-532.3236309483518,917.7073112887924,234.24456779259435,-523.906195715113,-831.2143098896636,978.3293027691675,223.17623515958712,531.207764634516,-634.086413024967,-3.5500101440457,356.5668071724872,-395.89684890923763,-401.0602361013016,652.3331537840018,28.630529467809993,-204.0387114058003,163.87947461548947,120.38186526754816,-931.2076013513515,-1025.6655540038832,-248.43581184645245,460.34140804987146,-565.7402341091602,-313.8659187489375,-789.0899006397171,284.04742205630146,163.5389562038854,-543.3968253968255,-697.9480882499752,578.3859083191851,-171.55672877141615,974.6987747918502,-360.58423482627313,-428.47152994988755,-286.4326842229175,1174.2086576863194,-313.1925956172586,900.8791156944021,187.81629764432319,175.16829466829495,594.285815387726,-439.83903066404946,331.6182336182337,-1091.14948172395,148.77240369222363,596.6971273159952,220.77174494848123,-116.01636143280393,115.80275213733421,90.22163978494609,320.9340140868803,-354.21947733768866,789.6408727469848,1077.1812550498244,590.4288103840495,2.0415623096191666,216.0002035002035,325.8001397624039,-190.90399169513057,-414.6639676113364,-204.1892980437283,-439.8582009157017,472.56450790413055,83.73307239395126,601.2478065769201,218.06589724497417,-84.74399241860147,-743.4203482856756,587.7678196710217,106.6290322580644,782.8430111847833,-577.0312372812373,635.3685698895774,-465.44997135442964,-355.7660765160763,1035.922787640602,150.11259394061926,271.7709673052191,270.14164438502667,1283.2728216462388,1121.2214808074677,-514.175850099417,900.6441481080351,257.35175010175,-611.4641891891893,904.6090088876922,75.0168918918921,-76.2712765957449,435.7011776753711,-29.237227266567515,-1102.1129355770863,-368.17355987274095,779.9102078115479,-812.1836789657959,-535.6030627456294,-1028.9196507141405,426.1100188526798,479.3942304451857,-450.5378385735671,137.75035161744063,-369.15713126394803,299.1753270776576,-703.3879967884386,-236.8965795852414,510.15037239241065,-471.1521205394679,468.1952598976568,-215.36473202262323,-285.3448252620228,-652.1136133089876,-122.8890543559196,-37.62034574468089,886.2908025855104,7.230950695919091,37.82172345229674,-803.7496175420702,-244.36829251973768,-451.42473118279577,185.46009612130274,12.368952432579135,196.84266585514297,816.4306811332126,-52.34369885433716,185.76364998807867,-444.73786701644667,-644.2496755515622,152.87516832749816,-318.4917955930614,235.42286096256657,-193.00010144045427,-617.8365203339617,-675.2256788467985,439.5474206349204,-187.23603403625611,-312.7635487755924,11.929529746577828,-25.32694892473137,557.8030748663105,256.0273433558673,163.54596547571236,-259.36546402220256,248.7797519275896,-55.88498706955215,307.5422594423703,859.2293255720597,-127.80129185789565,-437.5432307900801,37.29353570944568,-889.030148359875,197.9397849462366,628.5328422964385,-139.32968147697284,682.4372282608697,-357.274812497898,227.10806375996253,-57.32207344288918,337.408703590992,-593.4239733629297,-268.90829782917444,117.06127120926476,360.50864875864863,417.31473056313826,136.99038912330025,211.15886410823123,-326.34581244071023,-230.32527656721413,-927.0932691021007,-147.43975242088482,236.28050314465418,-504.3851621200838,581.381788485096,289.28161380971505,-383.2837765957447,-105.68847636437431,267.75754107190915,91.07408290473086,-150.04685908319198,-396.2770695223526,527.5840384485209,-336.6863396124136,29.686504750435233,185.1182256122038,2.8069962592253432,394.5758478305015,356.4294950319859,-261.6604056077308,-687.5828768512883,1147.4165760869564,-491.28137879355563,135.48468304519247,-237.10288231930826,-31.08177079807774,515.0287640601705,651.8743386243386,634.5840407470291,-1028.0227613057805,76.97991479001848,-121.96452988560213,324.81389711823294,-658.9643606579571,698.990751017388,-334.7849793542273,-412.2660863628603,1278.4911347517732,-45.75152459682886,-453.42130376344085,-657.8733496665304,-935.4517888602791,-190.09267684426914,138.72145270270266,-396.92039148420963,172.99482056973739,264.9140379077089,-861.2686996547759,147.9072834246299,689.7006684491976,11.435317460317492,166.07412634408593,54.713166463166544,283.6324786324785,368.0015323117923,-423.62307640840345,-684.2291917569919,-46.56975110397434,435.9475491516291,-817.7913369851899,63.93261355174991,347.14035087719276,748.5233432714463,210.64927496950804,-542.4530506998863,452.42258436102475,-129.56001344086008,-500.60454713617855,-433.8263125763124,-421.31881684491964,-147.4188784537905,853.5113202400435,1322.8738123912754,-618.5789223185452,-853.414607730319,425.23666846215974,9.965510245485802,-219.826229841442,858.8471535910107,-386.55541341233493,-971.8000538122624,544.2029459901801,-150.0290994623656,-479.2979813298284,-90.79039463886784,161.37129014771654,-550.5311235764066,291.6179699146228,58.80469362035501,-317.3202838596844,-760.5612384069832,-516.5839926962872,-313.01499679843664,586.1412173439153,-1153.0862005179429,341.16358305530275,314.1413950983033,702.7798069485084,-520.8784743355654,-533.281899411088,-644.2714112577432,-377.03993772422655,1318.848639913817,-895.8633496133498,-189.3167229729729,884.4227040129276,312.6535162950254,58.313011456628374,537.4990591397845,155.00251803457195,-142.85377567355818,304.6106248316728,-553.2524707996408,328.3290418755928,29.400742673625246,56.43589743589746,-111.79639804639783,131.55972259628334,113.78521066793837,-340.1754456913691,-73.4226351351349,-898.2293334241631,-623.1891855264944,-312.42989864864876,1205.8330191220034,407.311141304348,-357.5977869707058,953.313781899411,-176.16754657856154,969.2452734809422,79.12450812228826,796.8939898429358,-318.76163515653934,219.33436574198777,-485.43470744680826,-479.5729773682074,526.2155091663321,320.08328844600055,-1236.9702284946238,-659.9903631568272,162.84726856064435,-125.8441862040927,627.8680985725828,37.25164150815681,734.4732958776149,1555.5781091499293,-432.2063492063494,234.37907375643226,947.2363463883994,244.1443576622678,91.03418398429585,-554.390712786841,-229.86255330670838,-168.3575441684152,-1106.1596459096459,-74.90842984109895,320.7399618892068,-121.79329383248023,977.1380285483438,425.3628525055792,-334.6336146272856,781.5938474047975,590.7485187180177,-262.3324561403506,-391.3539244430963,122.77856078059358,-282.54614361702124,-541.8638900231385,-334.1475543478259,-343.71954194335285,-641.9880742648056,83.9174521949908,-716.8289792620521,915.8645791516124,262.93881856540065,-192.96338641622424,371.0438222763237,-211.9783867492597,-1214.9569607343192,723.440303564169,310.0,34.42951291315376,-241.9495345254836,-431.3130376344084,-571.192799782224,791.0040103798065,-169.53540271860447,-506.13539289485334,35.6746971553016,663.2000609838728,-352.7499326690008,481.2310072876112,736.4743355650235,319.8403167941515,384.0285994720098,-495.7529924934065],\"xaxis\":\"x\",\"yaxis\":\"y\",\"type\":\"histogram\"}],                        {\"template\":{\"data\":{\"histogram2dcontour\":[{\"type\":\"histogram2dcontour\",\"colorbar\":{\"outlinewidth\":0,\"ticks\":\"\"},\"colorscale\":[[0.0,\"#0d0887\"],[0.1111111111111111,\"#46039f\"],[0.2222222222222222,\"#7201a8\"],[0.3333333333333333,\"#9c179e\"],[0.4444444444444444,\"#bd3786\"],[0.5555555555555556,\"#d8576b\"],[0.6666666666666666,\"#ed7953\"],[0.7777777777777778,\"#fb9f3a\"],[0.8888888888888888,\"#fdca26\"],[1.0,\"#f0f921\"]]}],\"choropleth\":[{\"type\":\"choropleth\",\"colorbar\":{\"outlinewidth\":0,\"ticks\":\"\"}}],\"histogram2d\":[{\"type\":\"histogram2d\",\"colorbar\":{\"outlinewidth\":0,\"ticks\":\"\"},\"colorscale\":[[0.0,\"#0d0887\"],[0.1111111111111111,\"#46039f\"],[0.2222222222222222,\"#7201a8\"],[0.3333333333333333,\"#9c179e\"],[0.4444444444444444,\"#bd3786\"],[0.5555555555555556,\"#d8576b\"],[0.6666666666666666,\"#ed7953\"],[0.7777777777777778,\"#fb9f3a\"],[0.8888888888888888,\"#fdca26\"],[1.0,\"#f0f921\"]]}],\"heatmap\":[{\"type\":\"heatmap\",\"colorbar\":{\"outlinewidth\":0,\"ticks\":\"\"},\"colorscale\":[[0.0,\"#0d0887\"],[0.1111111111111111,\"#46039f\"],[0.2222222222222222,\"#7201a8\"],[0.3333333333333333,\"#9c179e\"],[0.4444444444444444,\"#bd3786\"],[0.5555555555555556,\"#d8576b\"],[0.6666666666666666,\"#ed7953\"],[0.7777777777777778,\"#fb9f3a\"],[0.8888888888888888,\"#fdca26\"],[1.0,\"#f0f921\"]]}],\"heatmapgl\":[{\"type\":\"heatmapgl\",\"colorbar\":{\"outlinewidth\":0,\"ticks\":\"\"},\"colorscale\":[[0.0,\"#0d0887\"],[0.1111111111111111,\"#46039f\"],[0.2222222222222222,\"#7201a8\"],[0.3333333333333333,\"#9c179e\"],[0.4444444444444444,\"#bd3786\"],[0.5555555555555556,\"#d8576b\"],[0.6666666666666666,\"#ed7953\"],[0.7777777777777778,\"#fb9f3a\"],[0.8888888888888888,\"#fdca26\"],[1.0,\"#f0f921\"]]}],\"contourcarpet\":[{\"type\":\"contourcarpet\",\"colorbar\":{\"outlinewidth\":0,\"ticks\":\"\"}}],\"contour\":[{\"type\":\"contour\",\"colorbar\":{\"outlinewidth\":0,\"ticks\":\"\"},\"colorscale\":[[0.0,\"#0d0887\"],[0.1111111111111111,\"#46039f\"],[0.2222222222222222,\"#7201a8\"],[0.3333333333333333,\"#9c179e\"],[0.4444444444444444,\"#bd3786\"],[0.5555555555555556,\"#d8576b\"],[0.6666666666666666,\"#ed7953\"],[0.7777777777777778,\"#fb9f3a\"],[0.8888888888888888,\"#fdca26\"],[1.0,\"#f0f921\"]]}],\"surface\":[{\"type\":\"surface\",\"colorbar\":{\"outlinewidth\":0,\"ticks\":\"\"},\"colorscale\":[[0.0,\"#0d0887\"],[0.1111111111111111,\"#46039f\"],[0.2222222222222222,\"#7201a8\"],[0.3333333333333333,\"#9c179e\"],[0.4444444444444444,\"#bd3786\"],[0.5555555555555556,\"#d8576b\"],[0.6666666666666666,\"#ed7953\"],[0.7777777777777778,\"#fb9f3a\"],[0.8888888888888888,\"#fdca26\"],[1.0,\"#f0f921\"]]}],\"mesh3d\":[{\"type\":\"mesh3d\",\"colorbar\":{\"outlinewidth\":0,\"ticks\":\"\"}}],\"scatter\":[{\"fillpattern\":{\"fillmode\":\"overlay\",\"size\":10,\"solidity\":0.2},\"type\":\"scatter\"}],\"parcoords\":[{\"type\":\"parcoords\",\"line\":{\"colorbar\":{\"outlinewidth\":0,\"ticks\":\"\"}}}],\"scatterpolargl\":[{\"type\":\"scatterpolargl\",\"marker\":{\"colorbar\":{\"outlinewidth\":0,\"ticks\":\"\"}}}],\"bar\":[{\"error_x\":{\"color\":\"#2a3f5f\"},\"error_y\":{\"color\":\"#2a3f5f\"},\"marker\":{\"line\":{\"color\":\"#E5ECF6\",\"width\":0.5},\"pattern\":{\"fillmode\":\"overlay\",\"size\":10,\"solidity\":0.2}},\"type\":\"bar\"}],\"scattergeo\":[{\"type\":\"scattergeo\",\"marker\":{\"colorbar\":{\"outlinewidth\":0,\"ticks\":\"\"}}}],\"scatterpolar\":[{\"type\":\"scatterpolar\",\"marker\":{\"colorbar\":{\"outlinewidth\":0,\"ticks\":\"\"}}}],\"histogram\":[{\"marker\":{\"pattern\":{\"fillmode\":\"overlay\",\"size\":10,\"solidity\":0.2}},\"type\":\"histogram\"}],\"scattergl\":[{\"type\":\"scattergl\",\"marker\":{\"colorbar\":{\"outlinewidth\":0,\"ticks\":\"\"}}}],\"scatter3d\":[{\"type\":\"scatter3d\",\"line\":{\"colorbar\":{\"outlinewidth\":0,\"ticks\":\"\"}},\"marker\":{\"colorbar\":{\"outlinewidth\":0,\"ticks\":\"\"}}}],\"scattermapbox\":[{\"type\":\"scattermapbox\",\"marker\":{\"colorbar\":{\"outlinewidth\":0,\"ticks\":\"\"}}}],\"scatterternary\":[{\"type\":\"scatterternary\",\"marker\":{\"colorbar\":{\"outlinewidth\":0,\"ticks\":\"\"}}}],\"scattercarpet\":[{\"type\":\"scattercarpet\",\"marker\":{\"colorbar\":{\"outlinewidth\":0,\"ticks\":\"\"}}}],\"carpet\":[{\"aaxis\":{\"endlinecolor\":\"#2a3f5f\",\"gridcolor\":\"white\",\"linecolor\":\"white\",\"minorgridcolor\":\"white\",\"startlinecolor\":\"#2a3f5f\"},\"baxis\":{\"endlinecolor\":\"#2a3f5f\",\"gridcolor\":\"white\",\"linecolor\":\"white\",\"minorgridcolor\":\"white\",\"startlinecolor\":\"#2a3f5f\"},\"type\":\"carpet\"}],\"table\":[{\"cells\":{\"fill\":{\"color\":\"#EBF0F8\"},\"line\":{\"color\":\"white\"}},\"header\":{\"fill\":{\"color\":\"#C8D4E3\"},\"line\":{\"color\":\"white\"}},\"type\":\"table\"}],\"barpolar\":[{\"marker\":{\"line\":{\"color\":\"#E5ECF6\",\"width\":0.5},\"pattern\":{\"fillmode\":\"overlay\",\"size\":10,\"solidity\":0.2}},\"type\":\"barpolar\"}],\"pie\":[{\"automargin\":true,\"type\":\"pie\"}]},\"layout\":{\"autotypenumbers\":\"strict\",\"colorway\":[\"#636efa\",\"#EF553B\",\"#00cc96\",\"#ab63fa\",\"#FFA15A\",\"#19d3f3\",\"#FF6692\",\"#B6E880\",\"#FF97FF\",\"#FECB52\"],\"font\":{\"color\":\"#2a3f5f\"},\"hovermode\":\"closest\",\"hoverlabel\":{\"align\":\"left\"},\"paper_bgcolor\":\"white\",\"plot_bgcolor\":\"#E5ECF6\",\"polar\":{\"bgcolor\":\"#E5ECF6\",\"angularaxis\":{\"gridcolor\":\"white\",\"linecolor\":\"white\",\"ticks\":\"\"},\"radialaxis\":{\"gridcolor\":\"white\",\"linecolor\":\"white\",\"ticks\":\"\"}},\"ternary\":{\"bgcolor\":\"#E5ECF6\",\"aaxis\":{\"gridcolor\":\"white\",\"linecolor\":\"white\",\"ticks\":\"\"},\"baxis\":{\"gridcolor\":\"white\",\"linecolor\":\"white\",\"ticks\":\"\"},\"caxis\":{\"gridcolor\":\"white\",\"linecolor\":\"white\",\"ticks\":\"\"}},\"coloraxis\":{\"colorbar\":{\"outlinewidth\":0,\"ticks\":\"\"}},\"colorscale\":{\"sequential\":[[0.0,\"#0d0887\"],[0.1111111111111111,\"#46039f\"],[0.2222222222222222,\"#7201a8\"],[0.3333333333333333,\"#9c179e\"],[0.4444444444444444,\"#bd3786\"],[0.5555555555555556,\"#d8576b\"],[0.6666666666666666,\"#ed7953\"],[0.7777777777777778,\"#fb9f3a\"],[0.8888888888888888,\"#fdca26\"],[1.0,\"#f0f921\"]],\"sequentialminus\":[[0.0,\"#0d0887\"],[0.1111111111111111,\"#46039f\"],[0.2222222222222222,\"#7201a8\"],[0.3333333333333333,\"#9c179e\"],[0.4444444444444444,\"#bd3786\"],[0.5555555555555556,\"#d8576b\"],[0.6666666666666666,\"#ed7953\"],[0.7777777777777778,\"#fb9f3a\"],[0.8888888888888888,\"#fdca26\"],[1.0,\"#f0f921\"]],\"diverging\":[[0,\"#8e0152\"],[0.1,\"#c51b7d\"],[0.2,\"#de77ae\"],[0.3,\"#f1b6da\"],[0.4,\"#fde0ef\"],[0.5,\"#f7f7f7\"],[0.6,\"#e6f5d0\"],[0.7,\"#b8e186\"],[0.8,\"#7fbc41\"],[0.9,\"#4d9221\"],[1,\"#276419\"]]},\"xaxis\":{\"gridcolor\":\"white\",\"linecolor\":\"white\",\"ticks\":\"\",\"title\":{\"standoff\":15},\"zerolinecolor\":\"white\",\"automargin\":true,\"zerolinewidth\":2},\"yaxis\":{\"gridcolor\":\"white\",\"linecolor\":\"white\",\"ticks\":\"\",\"title\":{\"standoff\":15},\"zerolinecolor\":\"white\",\"automargin\":true,\"zerolinewidth\":2},\"scene\":{\"xaxis\":{\"backgroundcolor\":\"#E5ECF6\",\"gridcolor\":\"white\",\"linecolor\":\"white\",\"showbackground\":true,\"ticks\":\"\",\"zerolinecolor\":\"white\",\"gridwidth\":2},\"yaxis\":{\"backgroundcolor\":\"#E5ECF6\",\"gridcolor\":\"white\",\"linecolor\":\"white\",\"showbackground\":true,\"ticks\":\"\",\"zerolinecolor\":\"white\",\"gridwidth\":2},\"zaxis\":{\"backgroundcolor\":\"#E5ECF6\",\"gridcolor\":\"white\",\"linecolor\":\"white\",\"showbackground\":true,\"ticks\":\"\",\"zerolinecolor\":\"white\",\"gridwidth\":2}},\"shapedefaults\":{\"line\":{\"color\":\"#2a3f5f\"}},\"annotationdefaults\":{\"arrowcolor\":\"#2a3f5f\",\"arrowhead\":0,\"arrowwidth\":1},\"geo\":{\"bgcolor\":\"white\",\"landcolor\":\"#E5ECF6\",\"subunitcolor\":\"white\",\"showland\":true,\"showlakes\":true,\"lakecolor\":\"white\"},\"title\":{\"x\":0.05},\"mapbox\":{\"style\":\"light\"}}},\"xaxis\":{\"anchor\":\"y\",\"domain\":[0.0,1.0],\"title\":{\"text\":\"Mean Difference of Outage Duration\"}},\"yaxis\":{\"anchor\":\"x\",\"domain\":[0.0,1.0],\"title\":{\"text\":\"probability\"}},\"legend\":{\"tracegroupgap\":0},\"title\":{\"text\":\"Empirical Distribution of the Mean Differences in Outage Duration (Cold - Hot)\"},\"barmode\":\"relative\",\"shapes\":[{\"line\":{\"color\":\"red\"},\"type\":\"line\",\"x0\":1004.3710691823899,\"x1\":1004.3710691823899,\"xref\":\"x\",\"y0\":0,\"y1\":1,\"yref\":\"y domain\"}]},                        {\"responsive\": true}                    ).then(function(){\n",
       "                            \n",
       "var gd = document.getElementById('031e6cba-8c41-4a94-b0ca-df3102c90707');\n",
       "var x = new MutationObserver(function (mutations, observer) {{\n",
       "        var display = window.getComputedStyle(gd).display;\n",
       "        if (!display || display === 'none') {{\n",
       "            console.log([gd, 'removed!']);\n",
       "            Plotly.purge(gd);\n",
       "            observer.disconnect();\n",
       "        }}\n",
       "}});\n",
       "\n",
       "// Listen for the removal of the full notebook cells\n",
       "var notebookContainer = gd.closest('#notebook-container');\n",
       "if (notebookContainer) {{\n",
       "    x.observe(notebookContainer, {childList: true});\n",
       "}}\n",
       "\n",
       "// Listen for the clearing of the current output cell\n",
       "var outputEl = gd.closest('.output');\n",
       "if (outputEl) {{\n",
       "    x.observe(outputEl, {childList: true});\n",
       "}}\n",
       "\n",
       "                        })                };                });            </script>        </div>"
      ]
     },
     "metadata": {},
     "output_type": "display_data"
    }
   ],
   "source": [
    "# graph of the empirical Distribution of the Mean Differences in Outage Duration (Cold - Hot)\n",
    "figp = px.histogram(\n",
    "    pd.DataFrame(differences), x=0, nbins=50, histnorm='probability', \n",
    "    labels={'0':\"Mean Difference of Outage Duration\"},\n",
    "    title='Empirical Distribution of the Mean Differences in Outage Duration (Cold - Hot)')\n",
    "figp.add_vline(x=observed_statistic, line_color='red')"
   ]
  },
  {
   "cell_type": "code",
   "execution_count": 117,
   "metadata": {},
   "outputs": [
    {
     "data": {
      "text/plain": [
       "0.024"
      ]
     },
     "execution_count": 117,
     "metadata": {},
     "output_type": "execute_result"
    }
   ],
   "source": [
    "pvalue = (np.array(differences) >= observed_statistic).mean()\n",
    "pvalue"
   ]
  },
  {
   "cell_type": "markdown",
   "metadata": {},
   "source": [
    "The p-value after the permutation test is 0.024, which is less than our significance level of 0.05, so we reject our null hypothesis that cold weather and hot weather have the same mean outage duration times. Accordingly, we have sufficient evidence to suggest that power outages have longer duration times in colder weather than hotter weather.\n",
    "\n",
    "This may be due to the presence of more storms in colder weather, leading to longer mean duration times. Suitably, companies may want to allocate their resources to places with colder weather, and during colder seasons. Additional analysis may be performed to further investigate this question by looking at the weather forecast for the day of the power outage. Since we did not have this data, we believe our definition of hot and cold weather based on season and cause is a good representation of the weather at the time of the power outage. "
   ]
  }
 ],
 "metadata": {
  "kernelspec": {
   "display_name": "Python 3 (ipykernel)",
   "language": "python",
   "name": "python3"
  },
  "language_info": {
   "codemirror_mode": {
    "name": "ipython",
    "version": 3
   },
   "file_extension": ".py",
   "mimetype": "text/x-python",
   "name": "python",
   "nbconvert_exporter": "python",
   "pygments_lexer": "ipython3",
   "version": "3.9.2"
  }
 },
 "nbformat": 4,
 "nbformat_minor": 2
}
